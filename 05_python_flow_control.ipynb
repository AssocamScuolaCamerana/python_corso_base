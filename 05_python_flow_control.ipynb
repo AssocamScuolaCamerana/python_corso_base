{
 "cells": [
  {
   "cell_type": "markdown",
   "metadata": {
    "slideshow": {
     "slide_type": "slide"
    },
    "tags": []
   },
   "source": [
    "# `<class 'function'>`\n",
    "\n",
    "Le funzioni possono essere definite direttamente all'interno del nostro programma o separatamente, in moduli o librerie che possono essere utilizzate (in Python, `import`) dal nostro programma."
   ]
  },
  {
   "cell_type": "markdown",
   "metadata": {
    "slideshow": {
     "slide_type": "fragment"
    },
    "tags": []
   },
   "source": [
    "A seconda del linguaggio di programmazione e del contesto in cui ci troviamo, una *funzione* può essere chiamata *routine*, *sottoprogramma*, *subroutine*, *metodo* o *procedura*."
   ]
  },
  {
   "cell_type": "markdown",
   "metadata": {
    "slideshow": {
     "slide_type": "fragment"
    },
    "tags": []
   },
   "source": [
    "Il termine più generico potebbe essere *callable unit* (unità invocabile)."
   ]
  },
  {
   "cell_type": "markdown",
   "metadata": {
    "slideshow": {
     "slide_type": "subslide"
    },
    "tags": []
   },
   "source": [
    "## Dichiarare una funzione"
   ]
  },
  {
   "cell_type": "markdown",
   "metadata": {
    "slideshow": {
     "slide_type": "fragment"
    },
    "tags": []
   },
   "source": [
    "Spesso le funzioni built-in non sono sufficienti, nemmeno per un principiante.\n",
    "\n",
    "In questo caso, non c'è altra scelta se non quella di creare una propria funzione utilizzando la parola chiave `def` (che sta per *define*). Vediamo la sintassi:\n",
    "\n",
    "```python\n",
    "def function_name(parameter1, parameter2):\n",
    "    # function's body\n",
    "    ...\n",
    "    return \"return value\"\n",
    "```"
   ]
  },
  {
   "cell_type": "markdown",
   "metadata": {
    "slideshow": {
     "slide_type": "subslide"
    },
    "tags": []
   },
   "source": [
    "```python\n",
    "def function_name(parameter1, parameter2):\n",
    "```\n",
    "Dopo `def`, scriviamo il nome della nostra funzione, in modo da poterla invocare in seguito.\n",
    "\n",
    "A seguire i nomi dei *parametri* che la nostra funzione può accettare, racchiusi tra parentesi tonde."
   ]
  },
  {
   "cell_type": "markdown",
   "metadata": {
    "slideshow": {
     "slide_type": "fragment"
    },
    "tags": []
   },
   "source": [
    "ATTENZIONE: Non dimenticate i due punti `:` dopo le parentesi, alla fine della prima riga."
   ]
  },
  {
   "cell_type": "markdown",
   "metadata": {
    "slideshow": {
     "slide_type": "fragment"
    },
    "tags": []
   },
   "source": [
    "I nomi di una funzione e dei suoi parametri seguono la stessa convenzione dei nomi delle variabili, cioè vanno scritti in minuscolo con l'underscore `_` tra le parole."
   ]
  },
  {
   "cell_type": "markdown",
   "metadata": {
    "slideshow": {
     "slide_type": "subslide"
    },
    "tags": []
   },
   "source": [
    "```python\n",
    "def function_name(parameter1, parameter2):\n",
    "    # INIZO corpo della funzione\n",
    "    print(\"Questo è un print eseguito all'interno della funzione.\")\n",
    "    result = parameter1 / parameter2\n",
    "    result *= 3.1415\n",
    "    return \"return value\"\n",
    "    # FINE corpo della funzione\n",
    "print(\"Questo è un print eseguito all'esterno della funzione.\")\n",
    "```\n",
    "\n",
    "Il corpo della funzione (*function body*) deve avere una indentazione (rientro) di 4 spazi. Ciò indica all'interprete dove inizia e dove finisce il codice che la funzione deve eseguire."
   ]
  },
  {
   "cell_type": "markdown",
   "metadata": {
    "slideshow": {
     "slide_type": "fragment"
    },
    "tags": []
   },
   "source": [
    "È possibile eseguire calcoli all'interno della funzione."
   ]
  },
  {
   "cell_type": "markdown",
   "metadata": {
    "slideshow": {
     "slide_type": "fragment"
    },
    "tags": []
   },
   "source": [
    "Infine è possibile utilizzare la parola chiave `return` per restituire un qualche risultato."
   ]
  },
  {
   "cell_type": "markdown",
   "metadata": {
    "slideshow": {
     "slide_type": "fragment"
    },
    "tags": []
   },
   "source": [
    "Solo quando l'indentazione è assente, la definizione della funzione termina."
   ]
  },
  {
   "cell_type": "markdown",
   "metadata": {
    "slideshow": {
     "slide_type": "subslide"
    },
    "tags": []
   },
   "source": [
    "## Chiamata di funzione\n",
    "\n",
    "```python\n",
    "function_name(10, 40)\n",
    "```"
   ]
  },
  {
   "cell_type": "markdown",
   "metadata": {
    "slideshow": {
     "slide_type": "fragment"
    },
    "tags": []
   },
   "source": [
    "Successivamente, quando eseguiamo una *chiamata di funzione*, possiamo passare dei valori e i **parametri** della nostra funzione assumeranno quei valori.\n",
    "\n",
    "I valori che passiamo a una funzione sono noti come **argomenti**."
   ]
  },
  {
   "cell_type": "markdown",
   "metadata": {
    "slideshow": {
     "slide_type": "fragment"
    },
    "tags": []
   },
   "source": [
    "L'unica distinzione tra **parametri** e **argomenti** è che:\n",
    "- introduciamo i parametri (`params`) in una *definizione di funzione*;\n",
    "- forniamo gli argomenti (`args`), ovvero i valori specifici, in una *chiamata di funzione*."
   ]
  },
  {
   "cell_type": "markdown",
   "metadata": {
    "slideshow": {
     "slide_type": "subslide"
    },
    "tags": []
   },
   "source": [
    "Ecco un esempio meno astratto di funzione:"
   ]
  },
  {
   "cell_type": "markdown",
   "metadata": {
    "tags": []
   },
   "source": [
    "```python\n",
    "# Definizione della funzione\n",
    "def moltiplica(x, y):\n",
    "    return x * y\n",
    "\n",
    "# Chiamata di funzione\n",
    "a = moltiplica(3, 5)   # 15\n",
    "b = moltiplica(a, 10)  # 150\n",
    "```"
   ]
  },
  {
   "cell_type": "markdown",
   "metadata": {
    "slideshow": {
     "slide_type": "fragment"
    },
    "tags": []
   },
   "source": [
    "Nel caso in cui non siano necessari parametri, le parentesi tonde rimangono vuote:\n",
    "\n",
    "```python\n",
    "# Definizione della funzione\n",
    "def welcome():\n",
    "    print(\"Ciao, gente!\")\n",
    "\n",
    "# Chiamata di funzione\n",
    "welcome()\n",
    "```"
   ]
  },
  {
   "cell_type": "markdown",
   "metadata": {
    "slideshow": {
     "slide_type": "subslide"
    },
    "tags": []
   },
   "source": [
    "## Funzione \"vuota\"\n",
    "\n",
    "Python non consente blocchi di codice vuoti, sia all'interno di una funzione sia in qualsiasi altra struttura di controllo del flusso (`if`, `for`, `while` o `match`).\n",
    "\n",
    "È però possibile dichiarare una sorta di funzione vuota con l'istruzione `pass` o `...` (*Ellipsis*):"
   ]
  },
  {
   "cell_type": "markdown",
   "metadata": {
    "slideshow": {
     "slide_type": "fragment"
    },
    "tags": []
   },
   "source": [
    "```python\n",
    "# Questa funzione non fa nulla\n",
    "# (magari disponibile per eventuale override)\n",
    "def empty_func():\n",
    "    pass\n",
    "\n",
    "# Questa funzione non fa nulla, per ora\n",
    "# (in futuro è previsto che ci sarà qualcosa qua dentro)\n",
    "def future_func(param):\n",
    "    ...\n",
    "```"
   ]
  },
  {
   "cell_type": "markdown",
   "metadata": {
    "slideshow": {
     "slide_type": "notes"
    },
    "tags": []
   },
   "source": [
    "Quando si sceglie di chiamare una delle due precedenti funzioni con un valore arbitrario come argomento, non succederà nulla. Quindi `pass` e `...` sono solo dei segnaposto, ma almeno in questo modo il codice sarà valido."
   ]
  },
  {
   "cell_type": "markdown",
   "metadata": {
    "slideshow": {
     "slide_type": "subslide"
    },
    "tags": []
   },
   "source": [
    "## Parametri e argomenti"
   ]
  },
  {
   "cell_type": "markdown",
   "metadata": {
    "slideshow": {
     "slide_type": "fragment"
    },
    "tags": []
   },
   "source": [
    "In realtà, i parametri sono solo degli *alias* per i valori che possono essere passati a una funzione.\n",
    "\n",
    "Possiamo considerarli delle *variabili* disponibili nel corpo della funzione:"
   ]
  },
  {
   "cell_type": "code",
   "execution_count": 1,
   "metadata": {
    "slideshow": {
     "slide_type": "fragment"
    },
    "tags": []
   },
   "outputs": [
    {
     "name": "stdout",
     "output_type": "stream",
     "text": [
      "Invio di una cartolina a Hilton, 97\n",
      "Con il messaggio: Ciao zio!\n",
      "-------------------\n",
      "Invio di una cartolina a Piccadilly, London\n",
      "Con il messaggio: Saluti da Torino!\n",
      "-------------------\n"
     ]
    }
   ],
   "source": [
    "def invia_cartolina(indirizzo, messaggio):\n",
    "    print('Invio di una cartolina a', indirizzo)\n",
    "    print('Con il messaggio:', messaggio)\n",
    "    print('-------------------')\n",
    "\n",
    "\n",
    "invia_cartolina('Hilton, 97', 'Ciao zio!')\n",
    "\n",
    "invia_cartolina('Piccadilly, London', 'Saluti da Torino!')"
   ]
  },
  {
   "cell_type": "markdown",
   "metadata": {
    "slideshow": {
     "slide_type": "subslide"
    },
    "tags": []
   },
   "source": [
    "Come si può vedere, la funzione precedente è come un pezzo di codice riutilizzabile, che può essere eseguito con argomenti diversi, cioè con valori diversi passati alla funzione."
   ]
  },
  {
   "cell_type": "markdown",
   "metadata": {
    "slideshow": {
     "slide_type": "fragment"
    },
    "tags": []
   },
   "source": [
    "In questo caso, `indirizzo` e `messaggio` sono solo degli alias, con i quali la funzione riceve i valori e li elabora nel corpo."
   ]
  },
  {
   "cell_type": "markdown",
   "metadata": {
    "slideshow": {
     "slide_type": "fragment"
    },
    "tags": []
   },
   "source": [
    "> NOTA: I parametri vengono reinizializzati ogni volta che si chiama la funzione."
   ]
  },
  {
   "cell_type": "markdown",
   "metadata": {
    "slideshow": {
     "slide_type": "subslide"
    },
    "tags": []
   },
   "source": [
    "## Argomenti mancanti\n",
    "\n",
    "E che cosa succede se non forniamo tutti gli argomenti previsti?"
   ]
  },
  {
   "cell_type": "markdown",
   "metadata": {
    "slideshow": {
     "slide_type": "fragment"
    },
    "tags": []
   },
   "source": [
    "Nel nostro esempio, la funzione `invia_cartolina` accetta esattamente 2 argomenti, quindi non sarà possibile eseguirla con più o meno di 2 argomenti:"
   ]
  },
  {
   "cell_type": "markdown",
   "metadata": {},
   "source": [
    "```python\n",
    "invia_cartolina('Musée du Louvre de Paris')\n",
    "\n",
    "TypeError: invia_cartolina() missing 1 required positional argument: 'messaggio'\n",
    "```"
   ]
  },
  {
   "cell_type": "markdown",
   "metadata": {
    "slideshow": {
     "slide_type": "subslide"
    },
    "tags": []
   },
   "source": [
    "## Esecuzione e ritorno"
   ]
  },
  {
   "cell_type": "markdown",
   "metadata": {},
   "source": [
    "La nostra funzione precedente esegue solo alcune azioni, ma non ha alcun valore di ritorno."
   ]
  },
  {
   "cell_type": "markdown",
   "metadata": {
    "slideshow": {
     "slide_type": "fragment"
    },
    "tags": []
   },
   "source": [
    "Tuttavia, si potrebbe voler calcolare qualcosa in una funzione e restituire il risultato a un certo punto. Ad esempio:"
   ]
  },
  {
   "cell_type": "code",
   "execution_count": 2,
   "metadata": {},
   "outputs": [
    {
     "name": "stdout",
     "output_type": "stream",
     "text": [
      "212.0\n"
     ]
    }
   ],
   "source": [
    "def celsius_to_fahrenheit(temp_c):\n",
    "    temp_f = temp_c * 9 / 5 + 32\n",
    "    return round(temp_f, 2)\n",
    "\n",
    "\n",
    "# Convertire il punto di ebollizione dell'acqua\n",
    "water_bp = celsius_to_fahrenheit(100)\n",
    "print(water_bp)"
   ]
  },
  {
   "cell_type": "markdown",
   "metadata": {
    "slideshow": {
     "slide_type": "fragment"
    },
    "tags": []
   },
   "source": [
    "La parola chiave `return` viene utilizzata per indicare i valori in uscita dalla funzione. In pratica, è il risultato della chiamata alla funzione."
   ]
  },
  {
   "cell_type": "markdown",
   "metadata": {
    "slideshow": {
     "slide_type": "notes"
    },
    "tags": []
   },
   "source": [
    "Quindi, nell'esempio precedente, abbiamo memorizzato il valore restituito dalla nostra funzione nella variabile `water_bp`."
   ]
  },
  {
   "cell_type": "markdown",
   "metadata": {
    "slideshow": {
     "slide_type": "subslide"
    },
    "tags": []
   },
   "source": [
    "Un'altra cosa da dire è che le funzioni non hanno necessariamente dei valori di ritorno. La nota funzione `print()`, infatti, non restituisce nulla."
   ]
  },
  {
   "cell_type": "markdown",
   "metadata": {
    "slideshow": {
     "slide_type": "fragment"
    },
    "tags": []
   },
   "source": [
    "Esaminiamo il codice qui sotto e il suo risultato:"
   ]
  },
  {
   "cell_type": "code",
   "execution_count": 3,
   "metadata": {},
   "outputs": [
    {
     "name": "stdout",
     "output_type": "stream",
     "text": [
      "We Will Rock You\n",
      "None\n"
     ]
    }
   ],
   "source": [
    "chant = print(\"We Will Rock You\")\n",
    "print(chant)"
   ]
  },
  {
   "cell_type": "markdown",
   "metadata": {},
   "source": [
    "Abbiamo dichiarato la variabile `chant` e invocato `print()`."
   ]
  },
  {
   "cell_type": "markdown",
   "metadata": {
    "slideshow": {
     "slide_type": "fragment"
    },
    "tags": []
   },
   "source": [
    "Ovviamente la funzione è stata eseguita, ma alla variabile `chant` è stato assegnato l'oggetto `None`. Questo perché la funzione chiamata non ha restituito letteralmente nulla."
   ]
  },
  {
   "cell_type": "markdown",
   "metadata": {
    "slideshow": {
     "slide_type": "fragment"
    },
    "tags": []
   },
   "source": [
    "> IMPORTANTE: Se non viene espressamente restituito un valore tramite l'istruzione `return`, la funzione restituirà sempre il valore `None`."
   ]
  },
  {
   "cell_type": "markdown",
   "metadata": {
    "slideshow": {
     "slide_type": "subslide"
    },
    "tags": []
   },
   "source": [
    "> ATTENZIONE: L'interprete Python interrompe l'esecuzione della funzione non appena trova un `return`."
   ]
  },
  {
   "cell_type": "markdown",
   "metadata": {
    "slideshow": {
     "slide_type": "notes"
    },
    "tags": []
   },
   "source": [
    "Ma cosa succede se il corpo della funzione contiene più di una dichiarazione di `return`? In questo caso l'eventuale restante codice non sarà eseguito. Tenetelo presente!"
   ]
  },
  {
   "cell_type": "code",
   "execution_count": 4,
   "metadata": {
    "slideshow": {
     "slide_type": "fragment"
    },
    "tags": []
   },
   "outputs": [
    {
     "name": "stdout",
     "output_type": "stream",
     "text": [
      "0\n",
      "None\n"
     ]
    }
   ],
   "source": [
    "def multi_ritorno_inutile(param1, param2):\n",
    "    return param1 * param2\n",
    "    print('Questa stringa non verrà stampata')\n",
    "    return param1 / param2\n",
    "\n",
    "def multi_ritorno_esplicito(param1, param2):\n",
    "    if param2 == 0:\n",
    "        return\n",
    "    else:\n",
    "        return param1 / param2\n",
    "\n",
    "print(multi_ritorno_inutile(2, 0))\n",
    "print(multi_ritorno_esplicito(2, 0))"
   ]
  },
  {
   "cell_type": "markdown",
   "metadata": {
    "slideshow": {
     "slide_type": "subslide"
    },
    "tags": []
   },
   "source": [
    "## Ritorno multiplo\n",
    "\n",
    "È possibile restituire più valori in una sola volta, in questo modo:"
   ]
  },
  {
   "cell_type": "code",
   "execution_count": 5,
   "metadata": {},
   "outputs": [
    {
     "name": "stdout",
     "output_type": "stream",
     "text": [
      "20 40 80\n"
     ]
    }
   ],
   "source": [
    "def ritorno_massivo(param1):\n",
    "    a = param1 * 2\n",
    "    b = param1 * 4\n",
    "    c = param1 * 8\n",
    "    return a, b, c\n",
    "\n",
    "var1, var2, var3 = ritorno_massivo(10)\n",
    "\n",
    "print(var1, var2, var3)"
   ]
  },
  {
   "cell_type": "markdown",
   "metadata": {
    "slideshow": {
     "slide_type": "fragment"
    },
    "tags": []
   },
   "source": [
    "> Notate che viene restituito un oggetto di tipo `tuple`."
   ]
  },
  {
   "cell_type": "markdown",
   "metadata": {
    "slideshow": {
     "slide_type": "subslide"
    },
    "tags": []
   },
   "source": [
    "Se i valori da restituire sono molti, forse è meglio una struttura dati più comoda, per esempio un `dict`:"
   ]
  },
  {
   "cell_type": "code",
   "execution_count": 6,
   "metadata": {
    "slideshow": {
     "slide_type": "fragment"
    },
    "tags": []
   },
   "outputs": [
    {
     "name": "stdout",
     "output_type": "stream",
     "text": [
      "{'res1': 20, 'res2': 40, 'res3': 80, 'res4': 160, 'res5': 320}\n",
      "80\n"
     ]
    }
   ],
   "source": [
    "def ritorno_massivo(param1):\n",
    "    a = param1 * 2\n",
    "    b = param1 * 4\n",
    "    c = param1 * 8\n",
    "    d = param1 * 16\n",
    "    e = param1 * 32\n",
    "    return {\n",
    "        'res1': a,\n",
    "        'res2': b,\n",
    "        'res3': c,\n",
    "        'res4': d,\n",
    "        'res5': e,\n",
    "    }\n",
    "\n",
    "risulato = ritorno_massivo(10)\n",
    "\n",
    "print(risulato)\n",
    "print(risulato['res3'])"
   ]
  },
  {
   "cell_type": "markdown",
   "metadata": {
    "slideshow": {
     "slide_type": "subslide"
    },
    "tags": []
   },
   "source": [
    "## Riassumendo"
   ]
  },
  {
   "cell_type": "markdown",
   "metadata": {
    "tags": []
   },
   "source": [
    "Abbiamo imparato la sintassi per la dichiarazione delle funzioni. Ora sappiamo che:"
   ]
  },
  {
   "cell_type": "markdown",
   "metadata": {
    "slideshow": {
     "slide_type": "fragment"
    },
    "tags": []
   },
   "source": [
    "- I parametri di una funzione:\n",
    "    - sono semplicemente degli alias o dei segnaposto per i valori che gli verranno passati;\n",
    "    - vengono reinizializzati ogni volta che si chiama la funzione;\n",
    "    - sono disponibili nel corpo della funzione per eseguire i calcoli."
   ]
  },
  {
   "cell_type": "markdown",
   "metadata": {
    "slideshow": {
     "slide_type": "fragment"
    },
    "tags": []
   },
   "source": [
    "- Una funzione può eseguire il proprio codice e:\n",
    "    - non restituire un risultato specifico. Se la funzione non restituisce nulla, assegnando il risultato a una variabile o stampandolo si ottiene `None`.\n",
    "    - restituire uno o più valori sotto forma di tupla o qualsiasi altro contenitore utile."
   ]
  },
  {
   "cell_type": "markdown",
   "metadata": {
    "slideshow": {
     "slide_type": "fragment"
    },
    "tags": []
   },
   "source": [
    "Dichiarare le proprie funzioni rende il codice più strutturato e riutilizzabile. Ogni volta che utilizzate lo stesso pezzo di codice più di una volta, cercate di crearne una funzione!"
   ]
  },
  {
   "cell_type": "markdown",
   "metadata": {
    "slideshow": {
     "slide_type": "subslide"
    },
    "tags": []
   },
   "source": [
    "## Visibilità e accessibilità delle variabili (*scope*) nelle funzioni\n",
    "\n",
    "Nell'esempio che segue, se volessimo provare a modificare il valore di `a` all'interno delle funzioni, otterremo in un caso un errore e nell'altro un buco nell'acqua."
   ]
  },
  {
   "cell_type": "code",
   "execution_count": 7,
   "metadata": {
    "tags": []
   },
   "outputs": [
    {
     "name": "stdout",
     "output_type": "stream",
     "text": [
      "Fuori prima: 3\n",
      "Dentro dopo: 5\n",
      "Fuori dopo: 3\n"
     ]
    }
   ],
   "source": [
    "a = 3\n",
    "print('Fuori prima:', a)\n",
    "\n",
    "def pippo_errato():\n",
    "    print('Dentro prima:', a)\n",
    "    a = 5\n",
    "    print('Dentro dopo:', a) # qua non ci arriva, si rompe prima!\n",
    "\n",
    "def pippo_inutile():\n",
    "    # qua non possiamo leggere la variabile a altrimenti sarebbe come pippo_errato()\n",
    "    a = 5\n",
    "    print('Dentro dopo:', a)\n",
    "\n",
    "# Commenta e decommenta alternativamente le due chiamate di funzione per vedere il diverso comportamento\n",
    "\n",
    "# pippo_errato()\n",
    "pippo_inutile()\n",
    "\n",
    "print('Fuori dopo:', a)"
   ]
  },
  {
   "cell_type": "markdown",
   "metadata": {
    "slideshow": {
     "slide_type": "subslide"
    },
    "tags": []
   },
   "source": [
    "Potremmo fare così, ma è sconsigliato se non espressamente necessario:"
   ]
  },
  {
   "cell_type": "code",
   "execution_count": 8,
   "metadata": {},
   "outputs": [
    {
     "name": "stdout",
     "output_type": "stream",
     "text": [
      "Fuori prima: 3\n",
      "Dentro prima: 3\n",
      "Dentro dopo: 5\n",
      "Fuori dopo: 5\n"
     ]
    }
   ],
   "source": [
    "a = 3\n",
    "print('Fuori prima:', a)\n",
    "\n",
    "def pippo_globalizzato():\n",
    "    global a # è come se importassimo la variabile \"a\" dallo strato esterno\n",
    "    print('Dentro prima:', a)\n",
    "    a = 5\n",
    "    print('Dentro dopo:', a)\n",
    "\n",
    "# Commenta e decommenta alternativamente le due chiamate di funzione\n",
    "# per vedere il diverso comportamento\n",
    "\n",
    "pippo_globalizzato()\n",
    "\n",
    "print('Fuori dopo:', a)"
   ]
  },
  {
   "cell_type": "markdown",
   "metadata": {
    "slideshow": {
     "slide_type": "subslide"
    },
    "tags": []
   },
   "source": [
    "Fare questo è ancora più insidioso:"
   ]
  },
  {
   "cell_type": "code",
   "execution_count": 9,
   "metadata": {},
   "outputs": [
    {
     "name": "stdout",
     "output_type": "stream",
     "text": [
      "fantastico\n"
     ]
    }
   ],
   "source": [
    "def pippo_globalizzatore():\n",
    "  global new_var # è come se creassimo la variabile anche nello strato esterno\n",
    "  new_var = \"fantastico\"\n",
    "\n",
    "pippo_globalizzatore()\n",
    "print(new_var)"
   ]
  },
  {
   "cell_type": "markdown",
   "metadata": {
    "slideshow": {
     "slide_type": "subslide"
    },
    "tags": []
   },
   "source": [
    "Tutti i casi precedenti sono sconsigliati. Se dovete modificare la nostra variabile `a`, fatelo in modo semplice ed esplicito:"
   ]
  },
  {
   "cell_type": "code",
   "execution_count": 10,
   "metadata": {},
   "outputs": [
    {
     "name": "stdout",
     "output_type": "stream",
     "text": [
      "Fuori prima: 3\n",
      "Fuori dopo: 5\n"
     ]
    }
   ],
   "source": [
    "a = 3\n",
    "print('Fuori prima:', a)\n",
    "\n",
    "def pippo_normale():\n",
    "    return 5\n",
    "\n",
    "a = pippo_normale()\n",
    "\n",
    "print('Fuori dopo:', a)"
   ]
  },
  {
   "cell_type": "markdown",
   "metadata": {
    "slideshow": {
     "slide_type": "subslide"
    },
    "tags": []
   },
   "source": [
    "## Saper distinguere le funzioni"
   ]
  },
  {
   "cell_type": "markdown",
   "metadata": {
    "slideshow": {
     "slide_type": "fragment"
    },
    "tags": []
   },
   "source": [
    "Capire come possono comportarsi le funzioni, ci permette di:\n",
    "\n",
    "- usare al meglio le funzioni già disponibili;\n",
    "- scrivere le proprie funzioni in modo più consapevole."
   ]
  },
  {
   "cell_type": "markdown",
   "metadata": {
    "slideshow": {
     "slide_type": "subslide"
    },
    "tags": []
   },
   "source": [
    "Puoi trovare 3 categorie di funzioni/procedure e naturalmente tutte le loro possibili combinazioni:"
   ]
  },
  {
   "cell_type": "markdown",
   "metadata": {
    "slideshow": {
     "slide_type": "fragment"
    },
    "tags": []
   },
   "source": [
    "1. Produce dei *SIDE EFFECTS* ([effetti collaterali](https://it.wikipedia.org/wiki/Effetto_collaterale_(informatica))) che modificano l'ambiente di esecuzione in qualche modo. Ad esempio: \n",
    "    - stampare,\n",
    "    - richiedere input utente,\n",
    "    - modificare oggetti globali,\n",
    "    - leggere/scrivere sul filesystem (file e cartelle).\n"
   ]
  },
  {
   "cell_type": "markdown",
   "metadata": {
    "slideshow": {
     "slide_type": "fragment"
    },
    "tags": []
   },
   "source": [
    "2. RESTITUISCE un risultato"
   ]
  },
  {
   "cell_type": "markdown",
   "metadata": {
    "slideshow": {
     "slide_type": "fragment"
    },
    "tags": []
   },
   "source": [
    "3. MODIFICA gli argomenti ricevuti (l'input della funzione)"
   ]
  },
  {
   "cell_type": "markdown",
   "metadata": {
    "slideshow": {
     "slide_type": "fragment"
    },
    "tags": []
   },
   "source": [
    "E naturalmente anche tutti i comportamenti risultanti da combinazioni dei precedenti. Ad esempio:\n",
    "- MODIFICA gli argomenti ricevuti e ne RESTITUISCE almeno uno (permette la concatenazione di chiamate, detto _chaining_)"
   ]
  },
  {
   "cell_type": "markdown",
   "metadata": {
    "slideshow": {
     "slide_type": "notes"
    },
    "tags": []
   },
   "source": [
    "\n",
    "Proviamo ora a capire le differenze con diversi esempi."
   ]
  },
  {
   "cell_type": "markdown",
   "metadata": {
    "slideshow": {
     "slide_type": "subslide"
    },
    "tags": []
   },
   "source": [
    "### SIDE EFFECTS\n",
    "\n",
    "Stampa, richiede input utente, modifica oggetti globali, legge/scrive sul filesystem.\n",
    "\n",
    "- NON modifica l'input.\n",
    "- NON restituisce niente.\n",
    "\n",
    "Esempio: "
   ]
  },
  {
   "cell_type": "code",
   "execution_count": 11,
   "metadata": {
    "slideshow": {
     "slide_type": "fragment"
    },
    "tags": []
   },
   "outputs": [
    {
     "name": "stdout",
     "output_type": "stream",
     "text": [
      "I primi due elementi sono 8 e 5\n"
     ]
    }
   ],
   "source": [
    "def informa_utente(lista):\n",
    "    \"\"\"STAMPA i primi due elementi della lista data\n",
    "    \"\"\"    \n",
    "    print('I primi due elementi sono', lista[0], 'e', lista[1])\n",
    "\n",
    "mia_lista = [8,5,6,2]\n",
    "\n",
    "informa_utente(mia_lista)"
   ]
  },
  {
   "cell_type": "markdown",
   "metadata": {
    "slideshow": {
     "slide_type": "subslide"
    },
    "tags": []
   },
   "source": [
    "### RESTITUISCE\n",
    "\n",
    "RESTITUISCE qualche valore, come una NUOVA regione di memoria o un puntatore a una regione di memoria esistente, in accordo al testo della funzione\n",
    "\n",
    "- NON modifica l'input.\n",
    "\n",
    "Esempio:"
   ]
  },
  {
   "cell_type": "code",
   "execution_count": 12,
   "metadata": {
    "slideshow": {
     "slide_type": "subslide"
    },
    "tags": []
   },
   "outputs": [
    {
     "name": "stdout",
     "output_type": "stream",
     "text": [
      "Lista originale prima: [5, 2, 6, 3]\n",
      "Lista restituita: [10, 4, 12, 6]\n",
      "Lista originale dopo: [5, 2, 6, 3]\n"
     ]
    }
   ],
   "source": [
    "def crea_nuova_lista_raddoppiata(lista):\n",
    "    \"\"\"Restituisce una nuova lista i cui elementi vengono raddoppiati\n",
    "    \"\"\"    \n",
    "    res = []\n",
    "    for elem in lista:\n",
    "        res.append(elem * 2)\n",
    "    return res   \n",
    "\n",
    "mia_lista = [5,2,6,3]\n",
    "print('Lista originale prima:', mia_lista)\n",
    "\n",
    "risultato = crea_nuova_lista_raddoppiata(mia_lista)\n",
    "print(\"Lista restituita:\", risultato)\n",
    "print('Lista originale dopo:', mia_lista)\n",
    "\n",
    "# Non è possibile concatenare funzioni\n",
    "# risultato_reversed = crea_nuova_lista_raddoppiata(mia_lista).reverse()\n",
    "# print('Lista restituita + reverse:', risultato_reversed)\n"
   ]
  },
  {
   "cell_type": "markdown",
   "metadata": {
    "slideshow": {
     "slide_type": "subslide"
    },
    "tags": []
   },
   "source": [
    "### MODIFICA\n",
    "\n",
    "MODIFICA l'input \"in-place\", ovvero cambia i dati dentro regioni di memoria esistenti (limitando il più possibile la creazione di regioni nuove).\n",
    "\n",
    "- NON ritorna niente!\n",
    "- NON crea nuove regioni di memoria accessibili dall'esterno della funzione.\n",
    "\n",
    "Esempio:"
   ]
  },
  {
   "cell_type": "code",
   "execution_count": 13,
   "metadata": {
    "slideshow": {
     "slide_type": "fragment"
    },
    "tags": []
   },
   "outputs": [
    {
     "name": "stdout",
     "output_type": "stream",
     "text": [
      "Lista originale prima: [5, 2, 6, 3]\n",
      "Lista originale dopo: [10, 4, 12, 6]\n"
     ]
    }
   ],
   "source": [
    "def raddoppia_lista(lista):\n",
    "    for i in range(len(lista)):\n",
    "        lista[i] = lista[i] * 2    \n",
    "    \n",
    "mia_lista = [5,2,6,3]\n",
    "print('Lista originale prima:', mia_lista)\n",
    "\n",
    "raddoppia_lista(mia_lista)\n",
    "print('Lista originale dopo:', mia_lista)"
   ]
  },
  {
   "cell_type": "markdown",
   "metadata": {
    "slideshow": {
     "slide_type": "subslide"
    },
    "tags": []
   },
   "source": [
    "### Combinazioni: MODIFICA + RESTITUISCE\n",
    "\n",
    "MODIFICA l'input \"in-place\" e RESTITUISCE un puntatore all'input stesso\n",
    "\n",
    "- NON crea nuove regioni di memoria accessibili dall'esterno della funzione.\n",
    "\n",
    "Nota: permette così il concatenamento di chiamate \"in-place\" (detto *in-place chaining*)."
   ]
  },
  {
   "cell_type": "code",
   "execution_count": 14,
   "metadata": {
    "slideshow": {
     "slide_type": "fragment"
    },
    "tags": []
   },
   "outputs": [
    {
     "name": "stdout",
     "output_type": "stream",
     "text": [
      "Lista originale prima: [5, 2, 6, 3]\n",
      "Lista originale dopo + reverse: [6, 12, 4, 10]\n"
     ]
    }
   ],
   "source": [
    "def raddoppia_lista_e_ritorna(lista):\n",
    "    for i in range(len(lista)):\n",
    "        lista[i] = lista[i] * 2  \n",
    "    return lista  # Se provi a commentare il return si genererà un errore!\n",
    "                  # perché si rientra nel caso precedente.\n",
    "    \n",
    "mia_lista = [5,2,6,3]\n",
    "print('Lista originale prima:', mia_lista)\n",
    "\n",
    "raddoppia_lista_e_ritorna(mia_lista).reverse()\n",
    "print('Lista originale dopo + reverse:', mia_lista)"
   ]
  },
  {
   "cell_type": "markdown",
   "metadata": {
    "slideshow": {
     "slide_type": "slide"
    },
    "tags": []
   },
   "source": [
    "# `if` ... (`elif` ... `else` ...)"
   ]
  },
  {
   "cell_type": "markdown",
   "metadata": {
    "tags": []
   },
   "source": [
    "`if` è una struttura di controllo del flusso di esecuzione del nostro codice."
   ]
  },
  {
   "cell_type": "markdown",
   "metadata": {
    "slideshow": {
     "slide_type": "fragment"
    },
    "tags": []
   },
   "source": [
    "Se vogliamo eseguire un pezzo di codice solo in presenza di una determinata condizione, questo deve essere inserito nel corpo di un'istruzione `if`. "
   ]
  },
  {
   "cell_type": "markdown",
   "metadata": {
    "slideshow": {
     "slide_type": "fragment"
    },
    "tags": []
   },
   "source": [
    "Oltre a `if` possiamo indicare facoltativamente ulteriori blocchi \"condizionati\" tramite i costrutti `elif` ed `else`."
   ]
  },
  {
   "cell_type": "markdown",
   "metadata": {
    "slideshow": {
     "slide_type": "fragment"
    },
    "tags": []
   },
   "source": [
    "`if` ed `elif` prevedono di valutare delle condizioni scritte sotto forma di espressioni.\n",
    "```python\n",
    "if var1 == 'pippo':\n",
    "    ...\n",
    "```"
   ]
  },
  {
   "cell_type": "markdown",
   "metadata": {
    "slideshow": {
     "slide_type": "subslide"
    },
    "tags": []
   },
   "source": [
    "Le condizioni sono scritte sotto forma di espressioni e infine valutate come *truthy* e *falsy*.\n",
    "```python\n",
    "if -5 + 5:    # -> bool(-5 + 5) -> bool(0) -> False\n",
    "    ...\n",
    "elif 'ciao':  # -> bool('ciao') -> True\n",
    "    ...\n",
    "```"
   ]
  },
  {
   "cell_type": "markdown",
   "metadata": {
    "slideshow": {
     "slide_type": "fragment"
    },
    "tags": []
   },
   "source": [
    "> IMPORTANTE: In pratica, `if` ed `elif` si aspettano di valutare un valore `bool`, ovvero `True` o `False`. Qualunque altro valore viene automaticamente convertito in booleano tramite un `bool()` implicito."
   ]
  },
  {
   "cell_type": "markdown",
   "metadata": {
    "slideshow": {
     "slide_type": "subslide"
    },
    "tags": []
   },
   "source": [
    "Se la condizione risulta `True`, allora il blocco di codice indentato subito sotto alla condizione sarà eseguito."
   ]
  },
  {
   "cell_type": "code",
   "execution_count": 15,
   "metadata": {
    "slideshow": {
     "slide_type": "fragment"
    },
    "tags": []
   },
   "outputs": [
    {
     "name": "stdout",
     "output_type": "stream",
     "text": [
      "questo verrà eseguito\n"
     ]
    }
   ],
   "source": [
    "if True:\n",
    "    var1 = 'questo'\n",
    "    var2 = 'verrà'\n",
    "    var3 = 'eseguito'\n",
    "    print(var1, var2, var3)"
   ]
  },
  {
   "cell_type": "markdown",
   "metadata": {
    "slideshow": {
     "slide_type": "notes"
    },
    "tags": []
   },
   "source": [
    "> IMPORTANTE: In Python si usa solo l'indentazione per separare i diversi blocchi di codice, quindi solo l'indentazione mostra quali righe di codice devono essere eseguite quando l'istruzione if è soddisfatta e quali devono essere eseguite indipendentemente dall'istruzione `if`."
   ]
  },
  {
   "cell_type": "markdown",
   "metadata": {
    "slideshow": {
     "slide_type": "subslide"
    },
    "tags": []
   },
   "source": [
    "`elif` e `else` sono opzionali."
   ]
  },
  {
   "cell_type": "code",
   "execution_count": 16,
   "metadata": {
    "slideshow": {
     "slide_type": "fragment"
    },
    "tags": []
   },
   "outputs": [
    {
     "name": "stdout",
     "output_type": "stream",
     "text": [
      "Pippo e Pluto.\n"
     ]
    }
   ],
   "source": [
    "var1 = 'Pippo'\n",
    "# var1 = 'Paperino'\n",
    "\n",
    "if var1 == 'Pippo':\n",
    "    var1 += ' e Pluto.'\n",
    "print(var1)"
   ]
  },
  {
   "cell_type": "markdown",
   "metadata": {
    "slideshow": {
     "slide_type": "fragment"
    },
    "tags": []
   },
   "source": [
    "oppure"
   ]
  },
  {
   "cell_type": "code",
   "execution_count": 17,
   "metadata": {},
   "outputs": [
    {
     "name": "stdout",
     "output_type": "stream",
     "text": [
      "Pippo e Pluto.\n"
     ]
    }
   ],
   "source": [
    "var1 = 'Pippo'\n",
    "# var1 = 'Paperino'\n",
    "# var1 = 'Topolino'\n",
    "\n",
    "if var1 == 'Pippo':\n",
    "    var1 += ' e Pluto.'\n",
    "elif var1 == 'Paperino': \n",
    "    var1 += ' e Paperina.'\n",
    "print(var1)"
   ]
  },
  {
   "cell_type": "markdown",
   "metadata": {
    "slideshow": {
     "slide_type": "fragment"
    },
    "tags": []
   },
   "source": [
    "`elif` richiede sempre una condizione, come per `if`."
   ]
  },
  {
   "cell_type": "markdown",
   "metadata": {
    "slideshow": {
     "slide_type": "subslide"
    },
    "tags": []
   },
   "source": [
    "`else` non può avere condizioni, è sempre e solo `else`."
   ]
  },
  {
   "cell_type": "code",
   "execution_count": 18,
   "metadata": {
    "slideshow": {
     "slide_type": "fragment"
    },
    "tags": []
   },
   "outputs": [
    {
     "name": "stdout",
     "output_type": "stream",
     "text": [
      "Pippo e Pluto.\n"
     ]
    }
   ],
   "source": [
    "var1 = 'Pippo'\n",
    "# var1 = 'Paperino'\n",
    "# var1 = 'Topolino'\n",
    "\n",
    "if var1 == 'Pippo':\n",
    "    var1 += ' e Pluto.'\n",
    "else:\n",
    "    var1 += ' da solo.'\n",
    "print(var1)"
   ]
  },
  {
   "cell_type": "markdown",
   "metadata": {
    "slideshow": {
     "slide_type": "subslide"
    },
    "tags": []
   },
   "source": [
    "`elif` e `else` non possono mai esistere senza un `if`."
   ]
  },
  {
   "cell_type": "markdown",
   "metadata": {
    "slideshow": {
     "slide_type": "fragment"
    },
    "tags": []
   },
   "source": [
    "> RICORDA: Se scriviamo la struttura di controllo `if` utilizzando l'indentazione dei blocchi di codice, sono obbligatori i due punti `:` dopo le condizioni e dopo l'`else`."
   ]
  },
  {
   "cell_type": "markdown",
   "metadata": {
    "slideshow": {
     "slide_type": "subslide"
    },
    "tags": []
   },
   "source": [
    "## Riassumendo"
   ]
  },
  {
   "cell_type": "code",
   "execution_count": 19,
   "metadata": {},
   "outputs": [
    {
     "name": "stdout",
     "output_type": "stream",
     "text": [
      "Pippo e Pluto.\n"
     ]
    }
   ],
   "source": [
    "var1 = 'Pippo'\n",
    "# var1 = 'Paperino'\n",
    "# var1 = 'Topolino'\n",
    "# var1 = 'Eta Beta'\n",
    "\n",
    "if var1 == 'Pippo':        # Prima condizione da verificare\n",
    "    var1 += ' e Pluto.'    # Questo viene eseguito se la prima condizione è True\n",
    "elif var1 == 'Paperino':   # Altra condizione, verificata se la precedente condizione è False\n",
    "    var1 += ' e Paperina.' # Questo viene eseguito se la condizione di questo elif si verifica\n",
    "elif var1 == 'Topolino':   # Altra condizione, verificata se la precedente condizione è False\n",
    "    var1 += ' e Minni.'    # Questo viene eseguito se la condizione di questo elif si verifica\n",
    "else:                      # Se tutte le precedenti condizioni non sono True\n",
    "    var1 += ' da solo.'    # Questo viene eseguito se nessuna delle precedenti condizioni si sono verificate\n",
    "\n",
    "print(var1)                # Questo viene eseguito in ogni caso, perché fuori dall'if"
   ]
  },
  {
   "cell_type": "markdown",
   "metadata": {
    "slideshow": {
     "slide_type": "subslide"
    },
    "tags": []
   },
   "source": [
    "## `if` annidati\n",
    "\n",
    "A volte una condizione è troppo complicata per una semplice istruzione `if`. In questo caso, si possono usare i cosiddetti \"`if` annidati\", ovvero un `if` dentro un'altro `if`."
   ]
  },
  {
   "cell_type": "markdown",
   "metadata": {
    "slideshow": {
     "slide_type": "notes"
    },
    "tags": []
   },
   "source": [
    "Più dichiarazioni `if` sono annidate, più il codice diventa complesso, il che di solito non è una buona cosa. Tuttavia, questo non significa che si debbano evitare a tutti i costi gli if annidati. Per esempio:"
   ]
  },
  {
   "cell_type": "code",
   "execution_count": 20,
   "metadata": {
    "slideshow": {
     "slide_type": "fragment"
    },
    "tags": []
   },
   "outputs": [
    {
     "name": "stdout",
     "output_type": "stream",
     "text": [
      "Wow, il tuo colore è nell'arcobaleno!\n",
      "Oh, a proposito, è un colore caldo.\n"
     ]
    }
   ],
   "source": [
    "arcobaleno = 'rosso, arancione, giallo, verde, blu, indaco, viola'\n",
    "colori_caldi = 'rosso, giallo, arancione'\n",
    "mio_colore = \"arancione\"\n",
    "\n",
    "if mio_colore in arcobaleno:\n",
    "    print(\"Wow, il tuo colore è nell'arcobaleno!\")\n",
    "    if mio_colore in colori_caldi:\n",
    "        print(\"Oh, a proposito, è un colore caldo.\")"
   ]
  },
  {
   "cell_type": "markdown",
   "metadata": {
    "slideshow": {
     "slide_type": "notes"
    },
    "tags": []
   },
   "source": [
    "L'esempio precedente illustra un'istruzione if annidata. Se la variabile `mio_colore` è una stringa che contiene il nome di un colore dell'arcobaleno, si entra nel corpo della prima istruzione `if`. Per prima cosa, stampiamo il messaggio e poi controlliamo se il nostro colore appartiene ai `colori_caldi`. L'operatore di appartenenza `in` controlla semplicemente se `mio_colore` è una sottostringa della rispettiva stringa, `arcobaleno` o `colori_caldi` e restituisce un valore booleano."
   ]
  },
  {
   "cell_type": "markdown",
   "metadata": {
    "slideshow": {
     "slide_type": "fragment"
    },
    "tags": []
   },
   "source": [
    "> ATTENZIONE: Quando si tratta di dichiarazioni `if` annidate, la corretta indentazione è fondamentale! Ciascun blocco deve avere un'indentazione sempre crescente."
   ]
  },
  {
   "cell_type": "markdown",
   "metadata": {
    "slideshow": {
     "slide_type": "subslide"
    },
    "tags": []
   },
   "source": [
    "## `if` e definizione delle variabili\n",
    "\n",
    "Se una variabile, ad es. `nuova_var`, viene definita all'interno di un `if`, `elif` o `else`, e se la condizione non si verifica, la variabile non sarà creata."
   ]
  },
  {
   "cell_type": "code",
   "execution_count": 21,
   "metadata": {
    "slideshow": {
     "slide_type": "fragment"
    },
    "tags": [
     "raises-exception"
    ]
   },
   "outputs": [
    {
     "ename": "NameError",
     "evalue": "name 'nuova_var' is not defined",
     "output_type": "error",
     "traceback": [
      "\u001b[0;31m---------------------------------------------------------------------------\u001b[0m",
      "\u001b[0;31mNameError\u001b[0m                                 Traceback (most recent call last)",
      "Cell \u001b[0;32mIn[21], line 6\u001b[0m\n\u001b[1;32m      3\u001b[0m \u001b[38;5;28;01mif\u001b[39;00m var1:\n\u001b[1;32m      4\u001b[0m     nuova_var \u001b[38;5;241m=\u001b[39m \u001b[38;5;124m'\u001b[39m\u001b[38;5;124mAttenzione!\u001b[39m\u001b[38;5;124m'\u001b[39m\n\u001b[0;32m----> 6\u001b[0m \u001b[38;5;28mprint\u001b[39m(\u001b[43mnuova_var\u001b[49m)\n",
      "\u001b[0;31mNameError\u001b[0m: name 'nuova_var' is not defined"
     ]
    }
   ],
   "source": [
    "var1 = False\n",
    "\n",
    "if var1:\n",
    "    nuova_var = 'Attenzione!'\n",
    "\n",
    "print(nuova_var)"
   ]
  },
  {
   "cell_type": "markdown",
   "metadata": {
    "slideshow": {
     "slide_type": "subslide"
    },
    "tags": []
   },
   "source": [
    "È preferibile inizializzare la variabile prima dell'`if`:"
   ]
  },
  {
   "cell_type": "code",
   "execution_count": 22,
   "metadata": {
    "slideshow": {
     "slide_type": "fragment"
    },
    "tags": []
   },
   "outputs": [
    {
     "name": "stdout",
     "output_type": "stream",
     "text": [
      "Tutto ok!\n"
     ]
    }
   ],
   "source": [
    "var1 = False\n",
    "nuova_var = 'Tutto ok!'\n",
    "\n",
    "if var1:\n",
    "    nuova_var = 'Attenzione!'\n",
    "\n",
    "print(nuova_var)"
   ]
  },
  {
   "cell_type": "markdown",
   "metadata": {
    "slideshow": {
     "slide_type": "fragment"
    },
    "tags": []
   },
   "source": [
    "Altrimenti dovete inizializzarla in ogni blocco di codice, per essere sicuri che non si verifichi un errore."
   ]
  },
  {
   "cell_type": "code",
   "execution_count": 23,
   "metadata": {
    "slideshow": {
     "slide_type": "fragment"
    },
    "tags": []
   },
   "outputs": [
    {
     "name": "stdout",
     "output_type": "stream",
     "text": [
      "Tutto ok!\n"
     ]
    }
   ],
   "source": [
    "var1 = False\n",
    "\n",
    "if var1:\n",
    "    nuova_var = 'Attenzione!'\n",
    "else:\n",
    "    nuova_var = 'Tutto ok!'\n",
    "\n",
    "print(nuova_var)"
   ]
  },
  {
   "cell_type": "markdown",
   "metadata": {
    "slideshow": {
     "slide_type": "slide"
    },
    "tags": []
   },
   "source": [
    "# Ciclo `for`"
   ]
  },
  {
   "cell_type": "markdown",
   "metadata": {},
   "source": [
    "Con la parola chiave `for` è possibile creare un ciclo (loop) che itera un oggetto di tipo iterabile, iteratore o generatore."
   ]
  },
  {
   "cell_type": "code",
   "execution_count": 24,
   "metadata": {
    "slideshow": {
     "slide_type": "fragment"
    },
    "tags": []
   },
   "outputs": [
    {
     "name": "stdout",
     "output_type": "stream",
     "text": [
      "pippo\n",
      "pluto\n",
      "paperino\n"
     ]
    }
   ],
   "source": [
    "lista = ['pippo', 'pluto', 'paperino']\n",
    "\n",
    "for eroe in lista:\n",
    "    print(eroe)"
   ]
  },
  {
   "cell_type": "markdown",
   "metadata": {
    "slideshow": {
     "slide_type": "fragment"
    },
    "tags": []
   },
   "source": [
    "Ad ogni iterazione, un elemento della lista viene assegnato alla variabile `eroe`. "
   ]
  },
  {
   "cell_type": "markdown",
   "metadata": {
    "slideshow": {
     "slide_type": "subslide"
    },
    "tags": []
   },
   "source": [
    "## Nomi delle variabili nei `for`\n",
    "\n",
    "Come nome per la variabile possiamo scegliere quello che ci pare, per esempio questo codice è totalmente equivalente al precedente: "
   ]
  },
  {
   "cell_type": "code",
   "execution_count": 25,
   "metadata": {
    "slideshow": {
     "slide_type": "fragment"
    },
    "tags": []
   },
   "outputs": [
    {
     "name": "stdout",
     "output_type": "stream",
     "text": [
      "pallavolo\n",
      "tennis\n",
      "calcio\n",
      "nuoto\n",
      "Finito!\n"
     ]
    }
   ],
   "source": [
    "lista = ['pallavolo', 'tennis', 'calcio', 'nuoto']\n",
    "for sport in lista:\n",
    "    print(sport)\n",
    "    \n",
    "print('Finito!')    "
   ]
  },
  {
   "cell_type": "markdown",
   "metadata": {
    "slideshow": {
     "slide_type": "subslide"
    },
    "tags": []
   },
   "source": [
    "Possiamo anche fare questo con una sequenza di `tuple`:"
   ]
  },
  {
   "cell_type": "code",
   "execution_count": 26,
   "metadata": {},
   "outputs": [
    {
     "name": "stdout",
     "output_type": "stream",
     "text": [
      "Roma = 4\n",
      "Milano = 7\n",
      "Napoli = 1\n"
     ]
    }
   ],
   "source": [
    "lista = [('Roma', 4), ('Milano', 7), ('Napoli', 1)]\n",
    "\n",
    "for citta, numero in lista:\n",
    "    print(citta, '=', numero)"
   ]
  },
  {
   "cell_type": "markdown",
   "metadata": {
    "slideshow": {
     "slide_type": "subslide"
    },
    "tags": []
   },
   "source": [
    "E con i `dict`:"
   ]
  },
  {
   "cell_type": "code",
   "execution_count": 27,
   "metadata": {},
   "outputs": [
    {
     "name": "stdout",
     "output_type": "stream",
     "text": [
      "Roma = 4\n",
      "Milano = 7\n",
      "Napoli = 1\n"
     ]
    }
   ],
   "source": [
    "diz = {\n",
    "    'Roma': 4,\n",
    "    'Milano': 7,\n",
    "    'Napoli': 1\n",
    "}\n",
    "\n",
    "for citta, numero in diz.items():\n",
    "    print(citta, '=', numero)"
   ]
  },
  {
   "cell_type": "markdown",
   "metadata": {
    "slideshow": {
     "slide_type": "subslide"
    },
    "tags": []
   },
   "source": [
    "> ATTENZIONE: Quando inserisci una variabile in un ciclo `for`, questa variabile deve essere nuova!"
   ]
  },
  {
   "cell_type": "markdown",
   "metadata": {
    "slideshow": {
     "slide_type": "fragment"
    },
    "tags": []
   },
   "source": [
    "Se hai definito la variabile prima, non la reintrodurrai in un `for`, perchè ciò portebbe gran confusione.\n",
    "\n",
    "Per esempio:"
   ]
  },
  {
   "cell_type": "code",
   "execution_count": 28,
   "metadata": {
    "slideshow": {
     "slide_type": "fragment"
    },
    "tags": []
   },
   "outputs": [
    {
     "name": "stdout",
     "output_type": "stream",
     "text": [
      "pallavolo\n",
      "tennis\n",
      "calcio\n",
      "nuoto\n",
      "nuoto\n"
     ]
    }
   ],
   "source": [
    "sport = ['pallavolo', 'tennis', 'calcio', 'nuoto']\n",
    "prova = 'ciao' \n",
    "\n",
    "for prova in sport:  # perdi la variabile  prova  originale\n",
    "    print(prova)\n",
    "\n",
    "print(prova) # stampa 'nuoto' invece di 'ciao'"
   ]
  },
  {
   "cell_type": "markdown",
   "metadata": {
    "slideshow": {
     "slide_type": "subslide"
    },
    "tags": []
   },
   "source": [
    "## `range()`"
   ]
  },
  {
   "cell_type": "code",
   "execution_count": 29,
   "metadata": {
    "slideshow": {
     "slide_type": "fragment"
    },
    "tags": []
   },
   "outputs": [
    {
     "name": "stdout",
     "output_type": "stream",
     "text": [
      "0\n",
      "1\n",
      "2\n",
      "3\n",
      "4\n"
     ]
    }
   ],
   "source": [
    "for i in range(5):\n",
    "    print(i)"
   ]
  },
  {
   "cell_type": "markdown",
   "metadata": {
    "slideshow": {
     "slide_type": "subslide"
    },
    "tags": []
   },
   "source": [
    "## Iterare per indici\n",
    "\n",
    "Se abbiamo una sequenza (es. un lista), a volte è necessario conoscere a quale posizione si è durante l'iterazione: per farlo serve tener traccia degli indici."
   ]
  },
  {
   "cell_type": "markdown",
   "metadata": {
    "slideshow": {
     "slide_type": "fragment"
    },
    "tags": []
   },
   "source": [
    "Possiamo generare gli indici da controllare con `range`, e usarli per accedere ad una lista:"
   ]
  },
  {
   "cell_type": "code",
   "execution_count": 30,
   "metadata": {
    "slideshow": {
     "slide_type": "fragment"
    },
    "tags": []
   },
   "outputs": [
    {
     "name": "stdout",
     "output_type": "stream",
     "text": [
      "index 0 pallavolo\n",
      "index 1 tennis\n",
      "index 2 calcio\n",
      "index 3 nuoto\n"
     ]
    }
   ],
   "source": [
    "sport = ['pallavolo', 'tennis', 'calcio', 'nuoto']\n",
    "\n",
    "for i in range(len(sport)):\n",
    "    print('index', i, sport[i])"
   ]
  },
  {
   "cell_type": "markdown",
   "metadata": {
    "slideshow": {
     "slide_type": "subslide"
    },
    "tags": []
   },
   "source": [
    "Possiamo anche iterare con l'indice usando la funzione built-in `enumerate()`."
   ]
  },
  {
   "cell_type": "code",
   "execution_count": 31,
   "metadata": {},
   "outputs": [
    {
     "name": "stdout",
     "output_type": "stream",
     "text": [
      "index 0 pallavolo\n",
      "index 1 tennis\n",
      "index 2 calcio\n",
      "index 3 nuoto\n"
     ]
    }
   ],
   "source": [
    "sport = ['pallavolo', 'tennis', 'calcio', 'nuoto']\n",
    "\n",
    "for idx, sport in enumerate(sport):\n",
    "    print('index', idx, sport)"
   ]
  },
  {
   "cell_type": "markdown",
   "metadata": {
    "slideshow": {
     "slide_type": "subslide"
    },
    "tags": []
   },
   "source": [
    "## Modificare durante l'iterazione\n",
    "\n",
    "Supponi di avere una lista `mia_lista` contente caratteri, e ti viene chiesto di duplicare tutti gli elementi, per esempio:\n",
    "```python\n",
    "mia_lista = ['a','b','c'] \n",
    "```"
   ]
  },
  {
   "cell_type": "markdown",
   "metadata": {
    "slideshow": {
     "slide_type": "fragment"
    },
    "tags": []
   },
   "source": [
    "dopo il tuo codice, deve risultare\n",
    "\n",
    "```python\n",
    ">>> print(mia_lista)\n",
    "['a','b','c','a','b','c'] \n",
    "```"
   ]
  },
  {
   "cell_type": "markdown",
   "metadata": {
    "slideshow": {
     "slide_type": "subslide"
    },
    "tags": []
   },
   "source": [
    "Forte delle conoscenze acquisite per l'iterazione, potrebbe venirti l'idea di scrivere qualcosa del genere:\n",
    "\n",
    "```python\n",
    "for elemento in mia_lista:\n",
    "    mia_lista.append(elemento)    # ATTENZIONE !\n",
    "```"
   ]
  },
  {
   "cell_type": "markdown",
   "metadata": {
    "slideshow": {
     "slide_type": "fragment"
    },
    "tags": []
   },
   "source": [
    "**DOMANDA**: Vedi forse un problema?"
   ]
  },
  {
   "cell_type": "markdown",
   "metadata": {
    "slideshow": {
     "slide_type": "fragment"
    },
    "tags": []
   },
   "source": [
    "**RISPOSTA**: se _mentre_ scorriamo la lista, continuiamo al contempo ad aggiungere pezzi, c'è il rischio concreto che non termineremo mai di esaminare la lista!"
   ]
  },
  {
   "cell_type": "markdown",
   "metadata": {
    "slideshow": {
     "slide_type": "fragment"
    },
    "tags": []
   },
   "source": [
    "> ATTENZIONE: Non aggiungere o togliere mai elementi da una sequenza su cui stai iterando con un `for`!"
   ]
  },
  {
   "cell_type": "markdown",
   "metadata": {
    "slideshow": {
     "slide_type": "notes"
    },
    "tags": []
   },
   "source": [
    "Abbandonarti in simil tentazioni **produrrebbe comportamenti del tutto imprevedibili** (conosci forse l'espressione _tirare il tappeto da sotto i piedi_?)"
   ]
  },
  {
   "cell_type": "markdown",
   "metadata": {
    "slideshow": {
     "slide_type": "subslide"
    },
    "tags": []
   },
   "source": [
    "**E rimuovere?** Abbiamo visto che aggiungere è pericoloso, ma lo è anche togliere. Supponi di dover eliminare tutti gli elementi di una lista, potresti essere tentato di scrivere qualcosa del genere:"
   ]
  },
  {
   "cell_type": "code",
   "execution_count": 32,
   "metadata": {
    "slideshow": {
     "slide_type": "fragment"
    },
    "tags": []
   },
   "outputs": [],
   "source": [
    "mia_lista = ['a','b','c','d','e']\n",
    "\n",
    "for elemento in mia_lista:\n",
    "    mia_lista.remove(elemento)   # PESSIMA IDEA"
   ]
  },
  {
   "cell_type": "markdown",
   "metadata": {
    "slideshow": {
     "slide_type": "fragment"
    },
    "tags": []
   },
   "source": [
    "Guarda bene il codice. Credi che abbiamo rimosso tutto, eh?"
   ]
  },
  {
   "cell_type": "code",
   "execution_count": 33,
   "metadata": {
    "slideshow": {
     "slide_type": "fragment"
    },
    "tags": []
   },
   "outputs": [
    {
     "data": {
      "text/plain": [
       "[('Roma', 4), ('Milano', 7), ('Napoli', 1)]"
      ]
     },
     "execution_count": 33,
     "metadata": {},
     "output_type": "execute_result"
    }
   ],
   "source": [
    "lista"
   ]
  },
  {
   "cell_type": "markdown",
   "metadata": {
    "slideshow": {
     "slide_type": "subslide"
    },
    "tags": []
   },
   "source": [
    "## Comandi `break` e `continue`\n",
    "\n",
    "Per avere ancora più controllo sull'esecuzione di un ciclo possiamo usare i comandi `break` e `continue` . "
   ]
  },
  {
   "cell_type": "markdown",
   "metadata": {
    "slideshow": {
     "slide_type": "notes"
    },
    "tags": []
   },
   "source": [
    "> NOTA: Cerca di limitarne l'uso perché quando vi è molto codice nel ciclo è facile \"dimenticarsi\" della loro presenza trovandosi con bug difficili da scovare. Quindi vanno usati con giudizio."
   ]
  },
  {
   "cell_type": "markdown",
   "metadata": {
    "slideshow": {
     "slide_type": "subslide"
    },
    "tags": []
   },
   "source": [
    "### Terminare con un `break`\n",
    "\n",
    "Per uscire immediatamente da un ciclo si può usare il comando `break`:"
   ]
  },
  {
   "cell_type": "code",
   "execution_count": 34,
   "metadata": {
    "slideshow": {
     "slide_type": "fragment"
    },
    "tags": []
   },
   "outputs": [
    {
     "name": "stdout",
     "output_type": "stream",
     "text": [
      "l\n",
      "a\n",
      "v\n",
      "a\n",
      "break, esce dal ciclo!\n",
      "Ciclo finito !\n"
     ]
    }
   ],
   "source": [
    "for x in 'lavato':\n",
    "            \n",
    "    if x == 't':\n",
    "        print('break, esce dal ciclo!')\n",
    "        break\n",
    "        print('Dopo il break')\n",
    "        \n",
    "    print(x)\n",
    "    \n",
    "print('Ciclo finito !')"
   ]
  },
  {
   "cell_type": "markdown",
   "metadata": {
    "slideshow": {
     "slide_type": "fragment"
    },
    "tags": []
   },
   "source": [
    "Nota come l'istruzione che stampa `'Dopo il break'` _non_ sia stata eseguita."
   ]
  },
  {
   "cell_type": "markdown",
   "metadata": {
    "slideshow": {
     "slide_type": "subslide"
    },
    "tags": []
   },
   "source": [
    "### Proseguire con `continue`\n",
    "\n",
    "E' possibile portare l'esecuzione immediatamente all'iterazione successiva chiamando `continue`, che salta subito al successivo elemento della sequenza senza eseguire le istruzioni dopo il `continue`."
   ]
  },
  {
   "cell_type": "code",
   "execution_count": 35,
   "metadata": {
    "slideshow": {
     "slide_type": "fragment"
    },
    "tags": []
   },
   "outputs": [
    {
     "name": "stdout",
     "output_type": "stream",
     "text": [
      "l\n",
      "continue, salta all'elemento successivo\n",
      "v\n",
      "continue, salta all'elemento successivo\n",
      "t\n",
      "o\n",
      "Ciclo finito !\n"
     ]
    }
   ],
   "source": [
    "i = 1\n",
    "for x in 'lavato':\n",
    "        \n",
    "    if x == 'a':\n",
    "        print(\"continue, salta all'elemento successivo\")\n",
    "        continue            \n",
    "    print(x)\n",
    "print('Ciclo finito !')"
   ]
  },
  {
   "cell_type": "markdown",
   "metadata": {
    "slideshow": {
     "slide_type": "subslide"
    },
    "tags": []
   },
   "source": [
    "### Combinare `break` e `continue`\n",
    "\n",
    "Proviamo a vedere entrambi in Python Tutor:"
   ]
  },
  {
   "cell_type": "code",
   "execution_count": 36,
   "metadata": {
    "slideshow": {
     "slide_type": "fragment"
    },
    "tags": []
   },
   "outputs": [
    {
     "name": "stdout",
     "output_type": "stream",
     "text": [
      "l\n",
      "continue, salta all'elemento successivo\n",
      "v\n",
      "continue, salta all'elemento successivo\n",
      "break, esce dal ciclo!\n",
      "Ciclo finito !\n"
     ]
    }
   ],
   "source": [
    "i = 1\n",
    "for x in 'lavato':    \n",
    "    if x == 'a':\n",
    "        print(\"continue, salta all'elemento successivo\")\n",
    "        continue    \n",
    "    if x == 't':\n",
    "        print('break, esce dal ciclo!')\n",
    "        break\n",
    "    print(x)    \n",
    "    \n",
    "print('Ciclo finito !')"
   ]
  },
  {
   "cell_type": "markdown",
   "metadata": {
    "slideshow": {
     "slide_type": "subslide"
    },
    "tags": []
   },
   "source": [
    "## Cicli for annidati\n",
    "\n",
    "E' possibile includere un `for` dentro l'altro, per esempio potremmo visitare tutte le parole di una lista di stringhe e per ogni parola stampare tutti i suoi caratteri:"
   ]
  },
  {
   "cell_type": "code",
   "execution_count": 37,
   "metadata": {
    "slideshow": {
     "slide_type": "fragment"
    },
    "tags": []
   },
   "outputs": [
    {
     "name": "stdout",
     "output_type": "stream",
     "text": [
      "v\n",
      "e\n",
      "d\n",
      "o\n",
      "\n",
      "u\n",
      "n\n",
      "a\n",
      "\n",
      "l\n",
      "u\n",
      "c\n",
      "e\n",
      "\n"
     ]
    }
   ],
   "source": [
    "lista = [\"vedo\",\n",
    "         \"una\",\n",
    "         \"luce\"]\n",
    "\n",
    "for stringa in lista:    \n",
    "    for carattere in stringa:\n",
    "        print(carattere)\n",
    "    print()"
   ]
  },
  {
   "cell_type": "markdown",
   "metadata": {
    "slideshow": {
     "slide_type": "subslide"
    },
    "tags": []
   },
   "source": [
    "## Attenzione ai nomi di variabile\n",
    "\n",
    "Quanto già detto in precedenza sul nome delle variabile vale ancor di più per i `for` annidati:"
   ]
  },
  {
   "cell_type": "markdown",
   "metadata": {
    "slideshow": {
     "slide_type": "fragment"
    },
    "tags": []
   },
   "source": [
    "> ATTENZIONE! Quando inserisci una variabile in un ciclo `for`, questa variabile deve essere nuova!"
   ]
  },
  {
   "cell_type": "markdown",
   "metadata": {
    "slideshow": {
     "slide_type": "fragment"
    },
    "tags": []
   },
   "source": [
    "Se hai definito una variabile in un `for` esterno, evita di reintrodurla in un `for` interno, perchè ciò portebbe gran confusione. Per esempio qua `s` è introdotta sia in quello esterno che in quello interno:"
   ]
  },
  {
   "cell_type": "code",
   "execution_count": 38,
   "metadata": {
    "slideshow": {
     "slide_type": "fragment"
    },
    "tags": []
   },
   "outputs": [
    {
     "name": "stdout",
     "output_type": "stream",
     "text": [
      "0\n",
      "1\n",
      "2\n",
      "2\n",
      "0\n",
      "1\n",
      "2\n",
      "2\n",
      "0\n",
      "1\n",
      "2\n",
      "2\n",
      "0\n",
      "1\n",
      "2\n",
      "2\n"
     ]
    }
   ],
   "source": [
    "for s in ['pallavolo', 'tennis', 'calcio', 'nuoto']:\n",
    "    \n",
    "    for s in range(3):  # inferno da debuggare, perdi la s del ciclo for esterno\n",
    "        print(s)\n",
    "        \n",
    "    print(s)  # stampa un numero invece che uno sport!"
   ]
  }
 ],
 "metadata": {
  "kernelspec": {
   "display_name": "Python 3 (ipykernel)",
   "language": "python",
   "name": "python3"
  },
  "language_info": {
   "codemirror_mode": {
    "name": "ipython",
    "version": 3
   },
   "file_extension": ".py",
   "mimetype": "text/x-python",
   "name": "python",
   "nbconvert_exporter": "python",
   "pygments_lexer": "ipython3",
   "version": "3.11.2"
  }
 },
 "nbformat": 4,
 "nbformat_minor": 4
}
