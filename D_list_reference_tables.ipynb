{
 "cells": [
  {
   "attachments": {},
   "cell_type": "markdown",
   "metadata": {},
   "source": [
    "# Liste"
   ]
  },
  {
   "attachments": {},
   "cell_type": "markdown",
   "metadata": {},
   "source": [
    "Nei programmi, spesso è necessario raggruppare diversi elementi per poterli elaborare come un unico oggetto. A tale scopo, è possibile utilizzare diversi contenitori di tipo \"collection\".\n",
    "\n",
    "Una delle collezioni più importanti e utili in Python è il tipo `list`, traducibile con \"lista\" o \"elenco\".\n",
    "\n",
    "## Creazione e stampa di elenchi\n",
    "\n",
    "Osserviamo un semplice elenco che memorizza diversi nomi di razze di cani:\n",
    "\n",
    "```python\n",
    "razze_canine = ['corgi', 'labrador', 'poodle', 'jack russell']\n",
    "print(razze_canine) # ['corgi', 'labrador', 'poodle', 'jack russell']\n",
    "```\n",
    "\n",
    "Nella prima riga, usiamo le parentesi quadre per creare un elenco contenente quattro elementi e poi lo assegniamo alla variabile dog_breeds. Nella seconda riga, l'elenco viene stampato attraverso il nome della variabile. Tutti gli elementi vengono stampati nello stesso ordine in cui sono stati memorizzati nell'elenco, perché gli elenchi sono ordinati.\n",
    "\n",
    "Ecco un altro elenco che contiene cinque numeri interi:\n",
    "\n",
    "```python\n",
    "numeri = [1, 2, 3, 4, 5]\n",
    "print(numeri) # [1, 2, 3, 4, 5]\n",
    "```\n",
    "\n",
    "Un altro modo per creare un elenco è quello di invocare il tipo `list()`. Esso viene utilizzato per creare un elenco a partire da un oggetto iterabile, cioè un tipo di oggetto di cui è possibile ottenere gli elementi uno alla volta. Il concetto di iterabilità sarà spiegato in dettaglio più avanti, ma vediamo gli esempi seguenti:\n",
    "\n",
    "```python\n",
    "messaggio = lista('pericolo!')\n",
    "print(messaggio) # ['p', 'e', 'r', 'i', 'c', 'o', 'l', 'o', '!']\n",
    "\n",
    "list_out_of_integer = list(235) # TypeError: l'oggetto 'int' non è iterabile\n",
    "```\n",
    "\n",
    "La funzione list crea quindi una lista contenente ogni elemento dell'oggetto iterabile dato. Per ora, ricordiamo che una stringa è un esempio di oggetto iterabile e un intero è un esempio di oggetto non iterabile. Anche un elenco è un oggetto iterabile.\n",
    "\n",
    "Notiamo anche la differenza tra la funzione elenco e la creazione di un elenco utilizzando le parentesi quadre:\n",
    "\n",
    "```python\n",
    "lista_multi_elementi = lista('pericolo!')\n",
    "print(multi_element_list) # ['d', 'a', 'n', 'g', 'e', 'r', '!']\n",
    "\n",
    "single_element_list = ['pericolo!']\n",
    "print(single_element_list) # ['pericolo!']\n",
    "```\n",
    "\n",
    "Le parentesi quadre e la funzione list possono essere utilizzate anche per creare liste vuote che non hanno alcun elemento.\n",
    "\n",
    "```python\n",
    "lista_vuota_1 = lista()\n",
    "lista_vuota_2 = []\n",
    "```\n",
    "\n",
    "Più avanti vedremo i metodi per riempire gli elenchi vuoti.\n",
    "\n",
    "Gli elenchi possono contenere valori duplicati, quante volte è necessario.\n",
    "\n",
    "```python\n",
    "lista_on_off = ['on', 'off', 'on', 'off', 'on']\n",
    "print(on_off_list) # ['on', 'off', 'on', 'off', 'on']\n",
    "```\n",
    "\n",
    "Un'altra cosa importante delle liste è che possono contenere diversi tipi di elementi, comprese altre liste. Non ci sono quindi né restrizioni, né tipi fissi di liste, e si possono aggiungere alla lista tutti i dati che si vogliono, come nell'esempio seguente:\n",
    "\n",
    "```python\n",
    "oggetti_vari = ['a', 1, 'b', 2, [1, 2, 3]]\n",
    "```\n",
    "\n",
    "Lunghezza di un elenco\n",
    "\n",
    "A volte è necessario sapere quanti elementi ci sono in un elenco. Esiste una funzione incorporata chiamata `len` che può essere applicata a qualsiasi oggetto iterabile e restituisce semplicemente la lunghezza dell'oggetto.\n",
    "\n",
    "Quindi, se applicata a un elenco, restituisce il numero di elementi presenti nell'elenco.\n",
    "\n"
   ]
  },
  {
   "cell_type": "code",
   "execution_count": 3,
   "metadata": {},
   "outputs": [
    {
     "name": "stdout",
     "output_type": "stream",
     "text": [
      "5\n",
      "0\n",
      "1\n",
      "9\n"
     ]
    }
   ],
   "source": [
    "numeri = [1, 2, 3, 4, 5]\n",
    "print(len(numeri))  # 5\n",
    "\n",
    "lista_vuota = list()\n",
    "print(len(lista_vuota))  # 0\n",
    "\n",
    "single_element_list = ['pericolo!']\n",
    "print(len(single_element_list))  # 1\n",
    "\n",
    "lista_multi_elementi = list('pericolo!')\n",
    "print(len(lista_multi_elementi))  # 9"
   ]
  },
  {
   "attachments": {},
   "cell_type": "markdown",
   "metadata": {},
   "source": [
    "Nell'esempio precedente, si può vedere come funziona la funzione `len()`. Anche in questo caso, fate attenzione alla differenza tra `list()` e `[]` applicata alle stringhe: il risultato potrebbe non essere quello atteso."
   ]
  },
  {
   "attachments": {},
   "cell_type": "markdown",
   "metadata": {},
   "source": [
    "## Ricapitolando\n",
    "\n",
    "Le liste sono:\n",
    "\n",
    "- sequenze, cioè ogni elemento ha una posizione fissa in una lista;\n",
    "- iterabili, cioè è possibile ottenere i loro elementi uno per uno;\n",
    "- in grado di memorizzare valori duplicati;\n",
    "- in grado di memorizzare elementi di tipo diverso;\n",
    "- oltre a essere utilizzata per creare un elenco vuoto, la funzione `list()` può anche essere utilizzata per creare una lista a partire da un oggetto iterabile."
   ]
  },
  {
   "attachments": {},
   "cell_type": "markdown",
   "metadata": {},
   "source": [
    "## Operatori e operazioni con le liste\n",
    "\n",
    "Per manipolare le liste vi sono diversi operatori. I seguenti si comportano come quelli visti per le stringhe.\n",
    "\n",
    "|Operatore|Risultato|Significato|\n",
    "|---|---|----|\n",
    "|`len`(lst)|`int`|Ritorna la lunghezza di una lista|\n",
    "|list`[`int`]`|obj|Legge/scrive un elemento all'indice specificato|\n",
    "|list`[`int`:`int`]`|`list`| Estrae una sotto-lista - ritorna una NUOVA lista|\n",
    "|obj `in` list|`bool`|Controlla se un elemento è presente in una lista|\n",
    "|list `+` list|`list`|Concatena due liste - ritorna una NUOVA lista|\n",
    "|`max`(lst)|`int`|Data una lista di numeri, ritorna il massimo|\n",
    "|`min`(lst)|`int`|Data una lista di numeri, ritorna il minimo|\n",
    "|`sum`(lst)|`int`|Data una lista di numeri, li somma tutti|\n",
    "|list `*` int|`list`| Replica la lista - ritorna una NUOVA lista|\n",
    "|`==`,`!=`|`bool`| Controlla se due liste sono uguali o differenti|"
   ]
  },
  {
   "attachments": {},
   "cell_type": "markdown",
   "metadata": {},
   "source": [
    "## Metodi delle liste\n",
    "\n",
    "Le liste sono oggetti di tipo `list` e possiedono dei metodi che permettono di operare su di essi, tra quelli base troviamo:\n",
    "\n",
    "|Metodo|Ritorna|Descrizione|\n",
    "|-------|------|-----------|\n",
    "|`list.append(obj)`|`None`|Aggiunge un nuovo elemento alla fine della lista|\n",
    "|`list.extend(list)`|`None`|Aggiunge diversi nuovi elementi alla fine della lista|\n",
    "|`list.insert(int,obj)`|`None`|Aggiunge un nuovo elemento a qualche posizione data|\n",
    "|`list.pop()`|obj|Rimuove e ritorna l'elemento all'ultima posizione|\n",
    "|`list.pop(int)`|obj|Dato un indice, rimuove e ritorna l'elemento a quella posizione|\n",
    "|`list.reverse()`|`None`|Inverte l'ordine degli elementi|\n",
    "|`list.sort()`|`None`|Ordina gli elementi|\n",
    "|`list.count(obj)`|`int`|Conta le occorrenze di un elemento|\n",
    "|`list.index(obj)`|`int`|Trova la prima occorrenza di un elemento e ne ritorna la posizione|\n",
    "|`list.remove(obj)`|`None`|Rimuove la prima occorrenza di un elemento|"
   ]
  },
  {
   "attachments": {},
   "cell_type": "markdown",
   "metadata": {},
   "source": [
    "|Metodo|Ritorna|Descrizione|\n",
    "|-------|------|-----------|\n",
    "|`str.join(seq)`|`string`|produce una stringa concatenando tutti gli elementi in seq separati da `str`|\n",
    "|`str.split()`|`list`|Produce una lista dividendo una stringa in base a una stringa separatore| "
   ]
  }
 ],
 "metadata": {
  "kernelspec": {
   "display_name": ".venv",
   "language": "python",
   "name": "python3"
  },
  "language_info": {
   "codemirror_mode": {
    "name": "ipython",
    "version": 3
   },
   "file_extension": ".py",
   "mimetype": "text/x-python",
   "name": "python",
   "nbconvert_exporter": "python",
   "pygments_lexer": "ipython3",
   "version": "3.11.2"
  },
  "orig_nbformat": 4
 },
 "nbformat": 4,
 "nbformat_minor": 2
}
