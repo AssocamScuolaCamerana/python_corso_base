{
 "cells": [
  {
   "attachments": {},
   "cell_type": "markdown",
   "metadata": {},
   "source": [
    "## Operatori e operazioni con gli insiemi"
   ]
  },
  {
   "attachments": {},
   "cell_type": "markdown",
   "metadata": {},
   "source": [
    "|Operatore| Risultato | Descrizione |\n",
    "|---------|-----------|-------------|\n",
    "|`len`(set)|`int` | il numero di elementi nel set|\n",
    "|el `in` set|`bool`|verifica se elemento è contenuto nel set|\n",
    "|set <code>&#124;</code>  set| `set` | unione, crea un NUOVO set|\n",
    "|set `&` set| `set` | intersezione, crea un NUOVO set|\n",
    "|set `-` set| `set` | differenza, crea un NUOVO set|\n",
    "|set `^` set| `set` | differenza simmetrica, crea un NUOVO set|\n",
    "|`==` , `!=`|`bool`| Controlla se due insiemi sono uguali o differenti|\n"
   ]
  },
  {
   "cell_type": "markdown",
   "metadata": {},
   "source": [
    "## Metodi simili agli operatori\n",
    "\n",
    "Vi sono metodi analoghi agli operatori `|`, `&`, `-`, `^` che creano un **NUOVO** set.\n",
    "\n",
    "**NOTA**: diversamente dagli operatori, questi metodi accettano come parametro una _qualsiasi_ sequenza, non solo insiemi:\n",
    "\n",
    "|Metodo| Risultato | Descrizione | Operatore analogo|\n",
    "|---------|-----------|-------------|------|\n",
    "|`set.union(seq)`|`set`|unione, crea un NUOVO set |<code>&#124;</code>|\n",
    "|`set.intersection(seq)`| `set`| intersezione, crea un NUOVO set|`&`|\n",
    "|`set.difference(seq)`| `set` | differenza, crea un NUOVO set|`-`|\n",
    "|`set.symmetric_difference(seq)`| `set` | differenza simmetrica, crea un NUOVO set|`^`|"
   ]
  },
  {
   "cell_type": "markdown",
   "metadata": {},
   "source": [
    "Metodi che **MODIFICANO** il primo insieme su cui sono chiamati (e ritornano `None`!):\n",
    "\n",
    "|Metodo| Risultato | Descrizione |\n",
    "|---------|-----------|-------------|\n",
    "|`setA.update(setB)`|`None`| unione, MODIFICA `setA`|\n",
    "|`setA.intersection_update(setB)` |`None` |intersezione, MODIFICA `setA`|\n",
    "|`setA.difference_update(setB)`| `None` | differenza, MODIFICA `setA`|\n",
    "|`setA.symmetric_difference_update(setB)`| `None` | differenza simmetrica, MODIFICA `setA`|"
   ]
  },
  {
   "cell_type": "markdown",
   "metadata": {},
   "source": [
    "## Altri metodi\n",
    "\n",
    "|Metodo| Risultato | Descrizione |\n",
    "|---------|-----------|-------------|\n",
    "|`set.add(el)`| `None`| aggiunge l'elemento specificato - se già presente non fa nulla)|\n",
    "|`set.remove(el)`|`None`|rimuove l'elemento specificato - se non presente solleva errore|\n",
    "|`set.discard(el)`|`None`|rimuove l'elemento specificato - se non presente non fa nulla|\n",
    "|`set.pop()`|obj|rimuove un elemento arbitrario dall'insieme e lo ritorna|\n",
    "|`set.clear()`|`None`|rimuove tutti gli elementi|\n",
    "|`setA.issubset(setB`)|`bool`|verifica  se `setA` è un sottoinsieme di `setB`|\n",
    "|`setA.issuperset(setB`)|`bool`|verifica se `setA` contiene tutti gli elementi di `setB`|\n",
    "|`setA.isdisjoint(setB`)|`bool`|verifica  se `setA` non ha elementi in comune con `setB`|"
   ]
  }
 ],
 "metadata": {
  "language_info": {
   "name": "python"
  },
  "orig_nbformat": 4
 },
 "nbformat": 4,
 "nbformat_minor": 2
}
