{
 "cells": [
  {
   "attachments": {},
   "cell_type": "markdown",
   "metadata": {},
   "source": [
    "# Tipi numerici"
   ]
  },
  {
   "attachments": {},
   "cell_type": "markdown",
   "metadata": {},
   "source": [
    "## Operatori e operazioni con i tipi numerici\n",
    "\n",
    "| Operation| Result                                     |\n",
    "|----------|--------------------------------------------|\n",
    "| `x + y`  | somma di `x` e `y`                         |\n",
    "| `x - y`  | differenza di `x` e `y`                    |\n",
    "| `x * y`  | prodotto di `x` e `y`                      |\n",
    "| `x ** y` | `x` alla potenza di `y`                    |\n",
    "| `x / y`  | divisione intera tra `x` e `y`             |\n",
    "| `x // y` | resto della divisione intera tra `x` e `y` |\n",
    "| `x % y`  | resto intero di `x / y`                    |\n",
    "| `-x`     | `x` negato                                 |\n",
    "| `+x`     | `x` invariato                              |"
   ]
  },
  {
   "attachments": {},
   "cell_type": "markdown",
   "metadata": {},
   "source": [
    "## Augmented assignment (*compound operators*): \n",
    "\n",
    "| Operatore |\n",
    "|:---------:|\n",
    "| `+=`      |\n",
    "| `-=`      |\n",
    "| `*=`      |\n",
    "| `**=`     |\n",
    "| `/=`      |\n",
    "| `//=`     |\n",
    "| `%=`      |"
   ]
  },
  {
   "attachments": {},
   "cell_type": "markdown",
   "metadata": {},
   "source": [
    "## Precedenza tra gli operatori\n",
    "\n",
    "![operators_prcedence.png](./imgs/operators_prcedence.jpg)"
   ]
  },
  {
   "attachments": {},
   "cell_type": "markdown",
   "metadata": {},
   "source": [
    "## Funzioni built-in utili\n",
    "\n",
    "| Operation       | Result                           |\n",
    "|-----------------|----------------------------------|\n",
    "| `pow(x, y)`     | `x` alla potenza di `y`                 |\n",
    "| `abs(x)`        | valore assoluto o grandezza di `x` |\n",
    "| `int(x)`        | `x` convertito in numero intero    |\n",
    "| `float(x)`      | `x` convertito in virgola mobile   |\n",
    "| `divmod(x, y)`  | restituisce la `(x // y, x % y)`   |\n",
    "| `round(x[, n])` | `x` arrotondato a `n` cifre (secondo lo standard IEEE 754 o arrotondamento gaussiano). Il valore predefinito di `n` è `0`."
   ]
  },
  {
   "attachments": {},
   "cell_type": "markdown",
   "metadata": {},
   "source": [
    "## Metodi utili del tipo `float`\n",
    "\n",
    "| Operation       | Result                           |\n",
    "|-----------------|----------------------------------|\n",
    "| `float.as_integer_ratio()` | Restituisce una coppia di numeri interi il cui rapporto è esattamente uguale a quello del float originale (con denominatore positivo). |\n",
    "| `float.is_integer()`       | Restituisce `True` se l'oggetto `float` è finito con valore intero, altrimenti `False`.\n",
    "\n",
    "\n"
   ]
  },
  {
   "attachments": {},
   "cell_type": "markdown",
   "metadata": {},
   "source": [
    "## Funzioni utili del modulo `math`\n",
    "\n",
    "Altre funzioni sono disponibili nel modulo [math](https://docs.python.org/3/library/math.html) (ricordati che per usarle devi prima importare il modulo `math` scrivendo `import math`):\n",
    "\n",
    "|Funzione|Descrizione|\n",
    "|--------|-----------|\n",
    "|`math.trunc(x)`| `x` rimuove da x la parte decimale e restituisce un `int`|\n",
    "|`math.floor(x)`| arrotonda `x` all'intero inferiore|\n",
    "|`math.ceil(x)`| arrotonda `x` all'intero superiore|\n",
    "|`math.sqrt(x)`| la radice quadrata|\n",
    "|`math.log(x)`| il logaritmo naturale di `x` |\n",
    "|`math.log(x,b)`| il logaritmo di `x` in base `b`|\n"
   ]
  }
 ],
 "metadata": {
  "language_info": {
   "name": "python"
  },
  "orig_nbformat": 4
 },
 "nbformat": 4,
 "nbformat_minor": 2
}
