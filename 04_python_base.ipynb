{
 "cells": [
  {
   "cell_type": "markdown",
   "metadata": {
    "jp-MarkdownHeadingCollapsed": true,
    "slideshow": {
     "slide_type": "slide"
    },
    "tags": []
   },
   "source": [
    "# Estensioni dei file di Python\n",
    "\n",
    "- `.py` file contentente un generico script in Python.\n",
    "- `.pyw` script che avvia una GUI (usato su sistemi Windows).\n",
    "- `.pyc` script compilato in [bytecode](https://docs.python.org/3/glossary.html#term-bytecode) per la [Python Virtual Machine](https://docs.python.org/3/glossary.html#term-virtual-machine). Questi file vengono generati automaticamente dall'interprete quando si importa un modulo, velocizzando così le importazioni future di quel modulo.\n",
    "- `.pyd` *Python Dynamic Module*, praticamente un \"modulo di estensione\" o \"libreria condivisa\" (*shared library*). Contiene una DLL Python ed è usato su sistemi Windows. Su sistemi Linux e macOS questi file hanno estensione `.so`. [Approfondisci](https://docs.python.org/3/faq/windows.html#is-a-pyd-file-the-same-as-a-dll).\n",
    "- `.pyi` stub file (file di stub) che contiene i [*type hints*](https://docs.python.org/3/library/typing.html), anche note come *variable annotations*, utilizzati per rendere più \"statica\" la tipizzazione delle variabili. I *type hints* possono essere scritti direttamente assieme al codice contenuto in un normale file `.py`, ma se non vogliamo toccare il codice originale e aggiungere il controllo sui tipi di dato, possiamo utilizzare questi file di stub esterni. È necessario eseguire gli script con un apposito modulo detto \"type checker\". [Approfondisci](https://github.com/python/mypy/blob/master/docs/source/stubs.rst). Es: [repo normale](https://github.com/encode/django-rest-framework/tree/master/rest_framework), [repo stub](https://github.com/typeddjango/djangorestframework-stubs/tree/master/rest_framework-stubs).\n",
    "- `.ipynb` Interactive Python NoteBook. File di Juputer Notebook. Possono contenere sia testo Markdown sia codice Python."
   ]
  },
  {
   "cell_type": "markdown",
   "metadata": {
    "slideshow": {
     "slide_type": "slide"
    },
    "tags": []
   },
   "source": [
    "# Panoramica di un programma di base\n",
    "\n",
    "Un programma Python si compone di moduli, istruzioni, espressioni e oggetti:\n",
    "\n",
    "- i moduli contengono istruzioni;\n",
    "- le istruzioni contengono espressioni;\n",
    "- le espressioni creano e processano gli oggetti."
   ]
  },
  {
   "cell_type": "markdown",
   "metadata": {
    "slideshow": {
     "slide_type": "subslide"
    },
    "tags": []
   },
   "source": [
    "Un'**espressione** (*expression*) è qualsiasi porzione di codice che restituisce un valore. In generale usiamo le espressioni per ottenere dei risultati. Esempio:\n",
    "\n",
    "```python\n",
    "1 + 1\n",
    "\"Roger\"\n",
    "```"
   ]
  },
  {
   "cell_type": "markdown",
   "metadata": {
    "slideshow": {
     "slide_type": "fragment"
    },
    "tags": []
   },
   "source": [
    "Un'**istruzione** (*statement*) è invece un'operazione su un valore. In generale utilizziamo le istruzione per creare variabili o per visualizzare valori, non per ottenere risultati. Esempio:\n",
    "\n",
    "```python\n",
    "nome = \"Roger\"\n",
    "print(nome)\n",
    "```"
   ]
  },
  {
   "cell_type": "markdown",
   "metadata": {
    "slideshow": {
     "slide_type": "subslide"
    },
    "tags": []
   },
   "source": [
    "Nella sua forma più semplice, un programma Python è un insieme di istruzioni che vengono eseguite dall'alto in basso, una dietro l'altra, dall'interprete. "
   ]
  },
  {
   "cell_type": "markdown",
   "metadata": {
    "slideshow": {
     "slide_type": "fragment"
    },
    "tags": []
   },
   "source": [
    "Ci sono due modi di scrivere ed eseguire codice Python:"
   ]
  },
  {
   "cell_type": "markdown",
   "metadata": {
    "slideshow": {
     "slide_type": "fragment"
    },
    "tags": []
   },
   "source": [
    "- Scrivere il codice un file `.py` e successivamente eseguirlo tramite l'eseguibile dell'interprete Python.\n",
    "- Scrivere il codice nella shell interattiva nativa di Python oppure in una alternativa, genericamente chiamata **REPL** (Read-Evaluate-Print-Loop)."
   ]
  },
  {
   "cell_type": "markdown",
   "metadata": {
    "slideshow": {
     "slide_type": "notes"
    },
    "tags": []
   },
   "source": [
    "Abbiamo già provato ad eseguire uno script (moltiplica_due_numeri.py) dal contenuto dato.\n",
    "\n",
    "Ora proveremo a crearne di nostri."
   ]
  },
  {
   "cell_type": "markdown",
   "metadata": {
    "slideshow": {
     "slide_type": "subslide"
    },
    "tags": []
   },
   "source": [
    "Prima però di scrivere direttamente il codice in un file `.py` possiamo fare pratica e studiare tramite un cosiddetto \"Python REPL\", ovvero scrivendo in un interprete interattivo di Python."
   ]
  },
  {
   "cell_type": "markdown",
   "metadata": {
    "slideshow": {
     "slide_type": "notes"
    },
    "tags": []
   },
   "source": [
    "Oltre all'interprete interattivo ufficiale chiamato CPython che offre funzionalità minimali, ne sono stati creati altri che offrono strumenti interattivi più avanzati permettendo allo sviluppatore di esplorare, studiare e scrivere il codice con una migliore esperienza utente."
   ]
  },
  {
   "cell_type": "markdown",
   "metadata": {
    "slideshow": {
     "slide_type": "fragment"
    },
    "tags": []
   },
   "source": [
    "Abbiamo già visto IDLE, l'IDE integrato ufficiale di Python e IPython, l'interprete ufficiale del progetto Jupyter Notebook."
   ]
  },
  {
   "cell_type": "markdown",
   "metadata": {
    "slideshow": {
     "slide_type": "fragment"
    },
    "tags": []
   },
   "source": [
    "Due altri progetti interessanti sono [bpython](https://pypi.org/project/bpython/) e [ptpython](https://pypi.org/project/ptpython/), tuttavia attualmente non vi è un buon supporto per i sistemi Windows."
   ]
  },
  {
   "cell_type": "markdown",
   "metadata": {
    "slideshow": {
     "slide_type": "notes"
    },
    "tags": []
   },
   "source": [
    "Dato che ci troviamo dentro un notebook di Jupyter ora useremo IPython, ma potete replicare gli stessi esercizi con IDLE o direttamente nell'interprete nativo."
   ]
  },
  {
   "cell_type": "markdown",
   "metadata": {
    "slideshow": {
     "slide_type": "subslide"
    },
    "tags": []
   },
   "source": [
    "## Hello, World! \n",
    "\n",
    "Il nostro primo esempio sarà \"Hello, World!\" (Ciao mondo!), che tradizionalmente è utilizzato per introdurre i principianti a un nuovo linguaggio di programmazione."
   ]
  },
  {
   "cell_type": "code",
   "execution_count": 1,
   "metadata": {
    "slideshow": {
     "slide_type": "fragment"
    },
    "tags": []
   },
   "outputs": [
    {
     "name": "stdout",
     "output_type": "stream",
     "text": [
      "Hello, World!\n"
     ]
    }
   ],
   "source": [
    "print(\"Hello, World!\")"
   ]
  },
  {
   "cell_type": "markdown",
   "metadata": {
    "slideshow": {
     "slide_type": "fragment"
    },
    "tags": []
   },
   "source": [
    "Come si può vedere, il programma consiste in una sola riga di codice contenente una sola istruzione."
   ]
  },
  {
   "cell_type": "markdown",
   "metadata": {
    "slideshow": {
     "slide_type": "fragment"
    },
    "tags": []
   },
   "source": [
    "`print` è il nome di una **funzione** *built-in*, direttamente disponibile senza dover importare nulla."
   ]
  },
  {
   "cell_type": "markdown",
   "metadata": {
    "slideshow": {
     "slide_type": "fragment"
    },
    "tags": []
   },
   "source": [
    "Quando l'istruzione viene eseguita, `print()` mostra il valore passato tra parentesi, detto _**argomento**_."
   ]
  },
  {
   "cell_type": "markdown",
   "metadata": {
    "slideshow": {
     "slide_type": "subslide"
    },
    "tags": []
   },
   "source": [
    "> NOTA: In Jupyter l'istruzione qui sopra viene scritta all'interno di una cella di tipo code ed eseguita cliccando per esempio sul bottone Run/Esegui a fianco di una cella di codice oppure tramite la combinazione `Ctrl + Invio` dopo averla selezionata.\n",
    ">\n",
    "> L'output viene mostrato subito sotto la cella.\n",
    "> ![notebook_code_cell.png](./imgs/jupyter/notebook_code_cell.png)"
   ]
  },
  {
   "cell_type": "markdown",
   "metadata": {
    "slideshow": {
     "slide_type": "subslide"
    },
    "tags": []
   },
   "source": [
    "Una funzione è un blocco di codice che svolge una serie di azioni utili, ad esempio, come in questo caso, stampa un testo."
   ]
  },
  {
   "cell_type": "markdown",
   "metadata": {
    "slideshow": {
     "slide_type": "fragment"
    },
    "tags": []
   },
   "source": [
    "Più in generale, possiamo vedere una funzione come un sottoprogramma (o subroutine) che può essere **riutilizzato** all'interno dei programmi."
   ]
  },
  {
   "cell_type": "markdown",
   "metadata": {
    "slideshow": {
     "slide_type": "fragment"
    },
    "tags": []
   },
   "source": [
    "Quando il nome di una funzione è seguito da parentesi come `print()`, significa che questa è stata **chiamata/invocata** per ottenere il risultato."
   ]
  },
  {
   "cell_type": "markdown",
   "metadata": {
    "slideshow": {
     "slide_type": "fragment"
    },
    "tags": []
   },
   "source": [
    "Con \"stringa\", in inglese `string`, si intende un tipo di dato che può contenere caratteri alfanumerici e simboli, ovvero del testo generico."
   ]
  },
  {
   "cell_type": "markdown",
   "metadata": {
    "slideshow": {
     "slide_type": "fragment"
    },
    "tags": []
   },
   "source": [
    "Osserviamo ora la nostra stringa \"Hello, World!\"."
   ]
  },
  {
   "cell_type": "markdown",
   "metadata": {
    "slideshow": {
     "slide_type": "fragment"
    },
    "tags": []
   },
   "source": [
    "Tutte le stringhe definite dal programmatore direttamente nel codice vengono definite _**string literal**_ e devono essere delimitate apici singoli (`'`), virgolette (`\"`) oppure apici o virgolette triple (`'''` o `\"\"\"`). Quindi \"Hello, World!\" è una stringa valida."
   ]
  },
  {
   "cell_type": "markdown",
   "metadata": {
    "slideshow": {
     "slide_type": "notes"
    },
    "tags": []
   },
   "source": [
    "È possibile sostituire questa stringa con un'altra e il programma stamperà la nuova stringa. Ad esempio:"
   ]
  },
  {
   "cell_type": "code",
   "execution_count": 2,
   "metadata": {
    "slideshow": {
     "slide_type": "notes"
    },
    "tags": []
   },
   "outputs": [
    {
     "name": "stdout",
     "output_type": "stream",
     "text": [
      "Beautiful is better than ugly.\n"
     ]
    }
   ],
   "source": [
    "print('Beautiful is better than ugly.')"
   ]
  },
  {
   "cell_type": "markdown",
   "metadata": {
    "slideshow": {
     "slide_type": "subslide"
    },
    "tags": []
   },
   "source": [
    "## Stampa delle virgolette\n",
    "\n",
    "Immaginate ora che la stringa che volete stampare contenga già un qualche tipo di virgolette. Se volete includere le virgolette in una stringa, racchiudete questa stringa tra le virgolette dell'altro tipo. Esempio:\n"
   ]
  },
  {
   "cell_type": "code",
   "execution_count": 3,
   "metadata": {
    "slideshow": {
     "slide_type": "fragment"
    },
    "tags": []
   },
   "outputs": [
    {
     "name": "stdout",
     "output_type": "stream",
     "text": [
      "Special cases aren't special enough to break the rules.\n"
     ]
    }
   ],
   "source": [
    "print(\"Special cases aren't special enough to break the rules.\")"
   ]
  },
  {
   "cell_type": "markdown",
   "metadata": {
    "slideshow": {
     "slide_type": "fragment"
    },
    "tags": []
   },
   "source": [
    "Se si scrive nel seguente modo sbagliato, il programma non saprà dove inizia e dove finisce la stringa, generando un errore:"
   ]
  },
  {
   "cell_type": "code",
   "execution_count": 4,
   "metadata": {
    "slideshow": {
     "slide_type": "fragment"
    },
    "tags": [
     "raises-exception"
    ]
   },
   "outputs": [
    {
     "ename": "SyntaxError",
     "evalue": "unterminated string literal (detected at line 1) (944374151.py, line 1)",
     "output_type": "error",
     "traceback": [
      "\u001b[0;36m  Cell \u001b[0;32mIn[4], line 1\u001b[0;36m\u001b[0m\n\u001b[0;31m    print('Special cases aren't special enough to break the rules.')\u001b[0m\n\u001b[0m                                                                  ^\u001b[0m\n\u001b[0;31mSyntaxError\u001b[0m\u001b[0;31m:\u001b[0m unterminated string literal (detected at line 1)\n"
     ]
    }
   ],
   "source": [
    "print('Special cases aren't special enough to break the rules.')"
   ]
  },
  {
   "cell_type": "markdown",
   "metadata": {
    "slideshow": {
     "slide_type": "subslide"
    },
    "tags": []
   },
   "source": [
    "Se poi la nostra stringa contiene sia di apici singoli che virgolette, possiamo utilizzare il *carattere di escape* `\\` per indicare a Python come interpretare correttamente il nostro *string literal*."
   ]
  },
  {
   "cell_type": "code",
   "execution_count": 5,
   "metadata": {
    "slideshow": {
     "slide_type": "fragment"
    },
    "tags": []
   },
   "outputs": [
    {
     "name": "stdout",
     "output_type": "stream",
     "text": [
      "L'hai letto \"The Zen of Python\"?\n"
     ]
    }
   ],
   "source": [
    "print('L\\'hai letto \"The Zen of Python\"?')"
   ]
  },
  {
   "cell_type": "markdown",
   "metadata": {
    "slideshow": {
     "slide_type": "subslide"
    },
    "tags": []
   },
   "source": [
    "## Errori più comuni\n",
    "\n",
    "Anche questa semplice istruzione può contenere degli errori. Vediamo quali possono essere i più comuni."
   ]
  },
  {
   "cell_type": "markdown",
   "metadata": {
    "slideshow": {
     "slide_type": "fragment"
    },
    "tags": []
   },
   "source": [
    "Gli errori nel codice possono essere di due tipi:\n",
    "\n",
    "1. Sintattici, quando Python non capisce il codice perché non abbiamo rispettato il vocabolario o le regole del linguaggio e Python solleva un errore;"
   ]
  },
  {
   "cell_type": "markdown",
   "metadata": {
    "slideshow": {
     "slide_type": "fragment"
    },
    "tags": []
   },
   "source": [
    "2. Semantici, quando è la parte logica ad essere errata e dunque i risultati che ci restituisce sono errati; tuttavia Python non solleva nessun errore."
   ]
  },
  {
   "cell_type": "markdown",
   "metadata": {
    "slideshow": {
     "slide_type": "subslide"
    },
    "tags": []
   },
   "source": [
    "### Errori semantici\n",
    "\n",
    "Gli errori semantici sono più difficili da individuare e spesso richiedono appositi strumenti di test quando si tratta di programmi complessi."
   ]
  },
  {
   "cell_type": "markdown",
   "metadata": {
    "slideshow": {
     "slide_type": "fragment"
    },
    "tags": []
   },
   "source": [
    "L'esempio più banale può essere un semplice errore di ortografia all'interno di una stringa:"
   ]
  },
  {
   "cell_type": "code",
   "execution_count": 6,
   "metadata": {
    "slideshow": {
     "slide_type": "fragment"
    },
    "tags": []
   },
   "outputs": [
    {
     "name": "stdout",
     "output_type": "stream",
     "text": [
      "Cito a tutti!\n"
     ]
    }
   ],
   "source": [
    "print('Cito a tutti!')"
   ]
  },
  {
   "cell_type": "markdown",
   "metadata": {
    "slideshow": {
     "slide_type": "fragment"
    },
    "tags": []
   },
   "source": [
    "Per Python una stringa è un testo qualunque. La funzione `print` non esegue alcun controllo ortografico sulle stringhe stampate e dunque non viene sollevato alcun errore."
   ]
  },
  {
   "cell_type": "markdown",
   "metadata": {
    "slideshow": {
     "slide_type": "subslide"
    },
    "tags": []
   },
   "source": [
    "### Errori sintattici\n",
    "\n",
    "Gli errori sintattici sono un po' più facili da individuare perché generano solitamente degli errori o dei comportamenti palesemente anomali."
   ]
  },
  {
   "cell_type": "markdown",
   "metadata": {
    "slideshow": {
     "slide_type": "fragment"
    },
    "tags": []
   },
   "source": [
    "\n",
    "- Mettere un'indentazione extra e non necessaria all'inizio dell'istruzione:"
   ]
  },
  {
   "cell_type": "code",
   "execution_count": 7,
   "metadata": {
    "slideshow": {
     "slide_type": "fragment"
    },
    "tags": [
     "raises-exception"
    ]
   },
   "outputs": [
    {
     "ename": "IndentationError",
     "evalue": "unexpected indent (4077253867.py, line 2)",
     "output_type": "error",
     "traceback": [
      "\u001b[0;36m  Cell \u001b[0;32mIn[7], line 2\u001b[0;36m\u001b[0m\n\u001b[0;31m    print(\"Ciao, mondo!\")\u001b[0m\n\u001b[0m    ^\u001b[0m\n\u001b[0;31mIndentationError\u001b[0m\u001b[0;31m:\u001b[0m unexpected indent\n"
     ]
    }
   ],
   "source": [
    "# La seguente riga genererà un errore\n",
    "   print(\"Ciao, mondo!\")"
   ]
  },
  {
   "cell_type": "markdown",
   "metadata": {
    "slideshow": {
     "slide_type": "subslide"
    },
    "tags": []
   },
   "source": [
    "- Chiamare la funzione con il nome sbagliato:"
   ]
  },
  {
   "cell_type": "code",
   "execution_count": 8,
   "metadata": {
    "slideshow": {
     "slide_type": "fragment"
    },
    "tags": [
     "raises-exception"
    ]
   },
   "outputs": [
    {
     "ename": "NameError",
     "evalue": "name 'pint' is not defined",
     "output_type": "error",
     "traceback": [
      "\u001b[0;31m---------------------------------------------------------------------------\u001b[0m",
      "\u001b[0;31mNameError\u001b[0m                                 Traceback (most recent call last)",
      "Cell \u001b[0;32mIn[8], line 1\u001b[0m\n\u001b[0;32m----> 1\u001b[0m \u001b[43mpint\u001b[49m(\u001b[38;5;124m\"\u001b[39m\u001b[38;5;124mCiao, mondo!\u001b[39m\u001b[38;5;124m\"\u001b[39m)\n",
      "\u001b[0;31mNameError\u001b[0m: name 'pint' is not defined"
     ]
    }
   ],
   "source": [
    "pint(\"Ciao, mondo!\")"
   ]
  },
  {
   "cell_type": "markdown",
   "metadata": {
    "slideshow": {
     "slide_type": "fragment"
    },
    "tags": []
   },
   "source": [
    "La riga qua sopra contiene `pint` invece di `print`. Assicurati di riferirti a ogni funzione con il suo nome corretto."
   ]
  },
  {
   "cell_type": "markdown",
   "metadata": {
    "slideshow": {
     "slide_type": "subslide"
    },
    "tags": []
   },
   "source": [
    "- Scrivere i nomi senza rispettare il corretto uso di maiuscole e minuscole:"
   ]
  },
  {
   "cell_type": "code",
   "execution_count": 9,
   "metadata": {
    "slideshow": {
     "slide_type": "fragment"
    },
    "tags": [
     "raises-exception"
    ]
   },
   "outputs": [
    {
     "ename": "NameError",
     "evalue": "name 'PRINT' is not defined",
     "output_type": "error",
     "traceback": [
      "\u001b[0;31m---------------------------------------------------------------------------\u001b[0m",
      "\u001b[0;31mNameError\u001b[0m                                 Traceback (most recent call last)",
      "Cell \u001b[0;32mIn[9], line 1\u001b[0m\n\u001b[0;32m----> 1\u001b[0m \u001b[43mPRINT\u001b[49m(\u001b[38;5;124m\"\u001b[39m\u001b[38;5;124mTutto maiuscolo\u001b[39m\u001b[38;5;124m\"\u001b[39m)\n",
      "\u001b[0;31mNameError\u001b[0m: name 'PRINT' is not defined"
     ]
    }
   ],
   "source": [
    "PRINT(\"Tutto maiuscolo\")"
   ]
  },
  {
   "cell_type": "markdown",
   "metadata": {
    "slideshow": {
     "slide_type": "fragment"
    },
    "tags": []
   },
   "source": [
    "Dato che Python i nomi sono sensibili alle maiuscole e alle minuscole (*case sensitive*), `Print`, `print` e `PRINT` non sono la stessa cosa."
   ]
  },
  {
   "cell_type": "markdown",
   "metadata": {
    "slideshow": {
     "slide_type": "subslide"
    },
    "tags": []
   },
   "source": [
    "\n",
    "- Omettere uno o entrambi gli apici che devono racchiudere una stringa:\n"
   ]
  },
  {
   "cell_type": "code",
   "execution_count": 10,
   "metadata": {
    "slideshow": {
     "slide_type": "fragment"
    },
    "tags": [
     "raises-exception"
    ]
   },
   "outputs": [
    {
     "ename": "SyntaxError",
     "evalue": "unterminated string literal (detected at line 1) (344492435.py, line 1)",
     "output_type": "error",
     "traceback": [
      "\u001b[0;36m  Cell \u001b[0;32mIn[10], line 1\u001b[0;36m\u001b[0m\n\u001b[0;31m    print(\"Python)\u001b[0m\n\u001b[0m          ^\u001b[0m\n\u001b[0;31mSyntaxError\u001b[0m\u001b[0;31m:\u001b[0m unterminated string literal (detected at line 1)\n"
     ]
    }
   ],
   "source": [
    "print(\"Python)"
   ]
  },
  {
   "cell_type": "markdown",
   "metadata": {
    "slideshow": {
     "slide_type": "fragment"
    },
    "tags": []
   },
   "source": [
    "La riga qua sopra genera un errore perché mancano le virgolette di chiusura."
   ]
  },
  {
   "cell_type": "markdown",
   "metadata": {
    "slideshow": {
     "slide_type": "subslide"
    },
    "tags": []
   },
   "source": [
    "- Omettere una o entrambe le parentesi di chiamata:"
   ]
  },
  {
   "cell_type": "code",
   "execution_count": 11,
   "metadata": {
    "slideshow": {
     "slide_type": "fragment"
    },
    "tags": [
     "raises-exception"
    ]
   },
   "outputs": [
    {
     "ename": "SyntaxError",
     "evalue": "incomplete input (517778993.py, line 1)",
     "output_type": "error",
     "traceback": [
      "\u001b[0;36m  Cell \u001b[0;32mIn[11], line 1\u001b[0;36m\u001b[0m\n\u001b[0;31m    print(\"Non ho una fine\"\u001b[0m\n\u001b[0m                           ^\u001b[0m\n\u001b[0;31mSyntaxError\u001b[0m\u001b[0;31m:\u001b[0m incomplete input\n"
     ]
    }
   ],
   "source": [
    "print(\"Non ho una fine\""
   ]
  },
  {
   "cell_type": "markdown",
   "metadata": {
    "slideshow": {
     "slide_type": "subslide"
    },
    "tags": []
   },
   "source": [
    "Fate attenzione alle parentesi, soprattutto quando volete chiamate una funzione.\n",
    "\n",
    "`print` ci restituisce l'oggetto contenente la funzione `print`, ma senza eseguirla:"
   ]
  },
  {
   "cell_type": "code",
   "execution_count": 12,
   "metadata": {
    "slideshow": {
     "slide_type": "fragment"
    },
    "tags": []
   },
   "outputs": [
    {
     "data": {
      "text/plain": [
       "<function print(*args, sep=' ', end='\\n', file=None, flush=False)>"
      ]
     },
     "execution_count": 12,
     "metadata": {},
     "output_type": "execute_result"
    }
   ],
   "source": [
    "print"
   ]
  },
  {
   "cell_type": "markdown",
   "metadata": {
    "slideshow": {
     "slide_type": "fragment"
    },
    "tags": []
   },
   "source": [
    "`print()` esegue/chiama/invoca la funzione `print`:"
   ]
  },
  {
   "cell_type": "code",
   "execution_count": 13,
   "metadata": {
    "slideshow": {
     "slide_type": "fragment"
    },
    "tags": []
   },
   "outputs": [
    {
     "name": "stdout",
     "output_type": "stream",
     "text": [
      "\n"
     ]
    }
   ],
   "source": [
    "print()"
   ]
  },
  {
   "cell_type": "markdown",
   "metadata": {
    "slideshow": {
     "slide_type": "fragment"
    },
    "tags": []
   },
   "source": [
    "In questo caso non stampa nulla perché non abbiamo passato alcun argomento."
   ]
  },
  {
   "cell_type": "markdown",
   "metadata": {
    "slideshow": {
     "slide_type": "subslide"
    },
    "tags": []
   },
   "source": [
    "## Programmi su più righe\n",
    "\n",
    "Per ora abbiamo creato solo semplici programmi composti da una sola riga che stampano un testo. Tuttavia, i programmi reali contengono un numero maggiore di righe: da decine e centinaia per i piccoli script a migliaia e anche di più per i grandi progetti."
   ]
  },
  {
   "cell_type": "markdown",
   "metadata": {
    "slideshow": {
     "slide_type": "fragment"
    },
    "tags": []
   },
   "source": [
    "In questa sezione, quindi, trattiamo programmi che stampano più righe."
   ]
  },
  {
   "cell_type": "markdown",
   "metadata": {
    "slideshow": {
     "slide_type": "subslide"
    },
    "tags": []
   },
   "source": [
    "### Modi per stampare righe multiple\n",
    "\n",
    "Partiamo con un esempio. Il codice seguente stampa esattamente tre stringhe, ciascuna su una nuova riga:"
   ]
  },
  {
   "cell_type": "code",
   "execution_count": 14,
   "metadata": {
    "slideshow": {
     "slide_type": "fragment"
    },
    "tags": []
   },
   "outputs": [
    {
     "name": "stdout",
     "output_type": "stream",
     "text": [
      "Io\n",
      "studio\n",
      "Python.\n"
     ]
    }
   ],
   "source": [
    "print('Io')\n",
    "print('studio')\n",
    "print('Python.')"
   ]
  },
  {
   "cell_type": "markdown",
   "metadata": {
    "slideshow": {
     "slide_type": "notes"
    },
    "tags": []
   },
   "source": [
    "Esistono altri modi per stampare lo stesso testo utilizzando una sola chiamata di funzione, ma li tratteremo più avanti."
   ]
  },
  {
   "cell_type": "markdown",
   "metadata": {
    "slideshow": {
     "slide_type": "subslide"
    },
    "tags": []
   },
   "source": [
    "La funzione `print` consente anche di stampare una riga vuota senza specificare alcuna stringa:"
   ]
  },
  {
   "cell_type": "code",
   "execution_count": 15,
   "metadata": {
    "slideshow": {
     "slide_type": "fragment"
    },
    "tags": []
   },
   "outputs": [
    {
     "name": "stdout",
     "output_type": "stream",
     "text": [
      "Io\n",
      "\n",
      "studio\n",
      "\n",
      "Python\n"
     ]
    }
   ],
   "source": [
    "print('Io')\n",
    "print()\n",
    "print('studio')\n",
    "print('')\n",
    "print('Python')"
   ]
  },
  {
   "cell_type": "markdown",
   "metadata": {
    "slideshow": {
     "slide_type": "fragment"
    },
    "tags": []
   },
   "source": [
    "Si noti che `print()` e `print('')` danno lo stesso risultato."
   ]
  },
  {
   "cell_type": "markdown",
   "metadata": {
    "slideshow": {
     "slide_type": "subslide"
    },
    "tags": []
   },
   "source": [
    "> ATTENZIONE! Saltare la riga lasciando una riga vuota nel codice non avrà alcun effetto:"
   ]
  },
  {
   "cell_type": "code",
   "execution_count": 16,
   "metadata": {},
   "outputs": [
    {
     "name": "stdout",
     "output_type": "stream",
     "text": [
      "E\n",
      "tu?\n"
     ]
    }
   ],
   "source": [
    "print('E')\n",
    "\n",
    "print('tu?')"
   ]
  },
  {
   "cell_type": "markdown",
   "metadata": {
    "slideshow": {
     "slide_type": "subslide"
    },
    "tags": []
   },
   "source": [
    "## Commenti\n",
    "\n",
    "A volte è necessario spiegare a cosa servono alcune parti particolari del codice. È possibile lasciare note speciali chiamate commenti. Sono particolarmente utili per i principianti."
   ]
  },
  {
   "cell_type": "markdown",
   "metadata": {
    "slideshow": {
     "slide_type": "notes"
    },
    "tags": []
   },
   "source": [
    "Nel corso di questo corso, utilizzeremo spesso i commenti per spiegare i nostri esempi."
   ]
  },
  {
   "cell_type": "markdown",
   "metadata": {
    "slideshow": {
     "slide_type": "subslide"
    },
    "tags": []
   },
   "source": [
    "### Che cos'è un commento?\n",
    "\n",
    "I commenti in Python iniziano con un hash `#`. Tutto ciò che si trova dopo il simbolo hash e fino alla fine della riga è considerato un commento e verrà ignorato durante l'esecuzione del codice."
   ]
  },
  {
   "cell_type": "code",
   "execution_count": 17,
   "metadata": {
    "slideshow": {
     "slide_type": "fragment"
    },
    "tags": []
   },
   "outputs": [
    {
     "name": "stdout",
     "output_type": "stream",
     "text": [
      "Questo verrà eseguito.\n"
     ]
    }
   ],
   "source": [
    "print(\"Questo verrà eseguito.\")  # Questo non verrà eseguito"
   ]
  },
  {
   "cell_type": "markdown",
   "metadata": {
    "slideshow": {
     "slide_type": "fragment"
    },
    "tags": []
   },
   "source": [
    "Nell'esempio precedente, si può vedere quello che il PEP 8 chiama un commento *inline*, perché è scritto sulla stessa riga del codice."
   ]
  },
  {
   "cell_type": "markdown",
   "metadata": {
    "slideshow": {
     "slide_type": "subslide"
    },
    "tags": []
   },
   "source": [
    "Un commento può anche riferirsi al blocco di codice che lo segue:"
   ]
  },
  {
   "cell_type": "code",
   "execution_count": 18,
   "metadata": {
    "slideshow": {
     "slide_type": "fragment"
    },
    "tags": []
   },
   "outputs": [
    {
     "name": "stdout",
     "output_type": "stream",
     "text": [
      "1\n",
      "2\n",
      "3\n"
     ]
    }
   ],
   "source": [
    "# Stampa tre numeri\n",
    "print(\"1\")\n",
    "print(\"2\")\n",
    "print(\"3\")"
   ]
  },
  {
   "cell_type": "markdown",
   "metadata": {
    "slideshow": {
     "slide_type": "subslide"
    },
    "tags": []
   },
   "source": [
    "### Formattazione dei commenti\n",
    "\n",
    "Anche se è abbastanza facile scrivere un commento, vediamo come farlo secondo le buone pratiche."
   ]
  },
  {
   "cell_type": "markdown",
   "metadata": {
    "slideshow": {
     "slide_type": "fragment"
    },
    "tags": []
   },
   "source": [
    "Per cominciare, dopo un segno di hash ci dovrebbe essere uno spazio e, nei commenti in linea, ci dovrebbero essere due spazi tra la fine del codice e il segno di hash."
   ]
  },
  {
   "cell_type": "markdown",
   "metadata": {
    "slideshow": {
     "slide_type": "notes"
    },
    "tags": []
   },
   "source": [
    "È accettabile anche mettere più di due spazi tra la fine del codice e il segno di hash, ma più comunemente ci sono esattamente due spazi."
   ]
  },
  {
   "cell_type": "markdown",
   "metadata": {
    "slideshow": {
     "slide_type": "fragment"
    },
    "tags": []
   },
   "source": [
    "```python\n",
    "print(\"Imparare Python è divertente!\")  # Questa è la formattazione corretta dei commenti\n",
    "print(\"PEP-8 è importante!\")#Questo è un pessimo esempio\n",
    "```"
   ]
  },
  {
   "cell_type": "markdown",
   "metadata": {
    "slideshow": {
     "slide_type": "subslide"
    },
    "tags": []
   },
   "source": [
    "Indentare il commento allo stesso livello dell'istruzione che spiega. Ad esempio, il seguente esempio è sbagliato:\n",
    "\n",
    "```python\n",
    "    # questo commento è nel posto sbagliato\n",
    "print(\"Questa è un'istruzione da stampare.\")\n",
    "```"
   ]
  },
  {
   "cell_type": "markdown",
   "metadata": {
    "slideshow": {
     "slide_type": "subslide"
    },
    "tags": []
   },
   "source": [
    "Un commento non è un comando Python: non deve essere troppo lungo. Secondo la PEP-8, la lunghezza dei commenti dovrebbe essere limitata a 72 caratteri."
   ]
  },
  {
   "cell_type": "markdown",
   "metadata": {
    "slideshow": {
     "slide_type": "fragment"
    },
    "tags": []
   },
   "source": [
    "È meglio dividere un commento lungo in più righe: lo si può fare aggiungendo un segno di hash all'inizio di ogni nuova riga:"
   ]
  },
  {
   "cell_type": "markdown",
   "metadata": {
    "slideshow": {
     "slide_type": "fragment"
    },
    "tags": []
   },
   "source": [
    "```python\n",
    "# Immaginiamo che questo sia un esempio di commento molto lungo\n",
    "# che dobbiamo distribuire su tre righe, quindi continuiamo a\n",
    "# a scriverlo anche qui.\n",
    "print(\"Il lungo commento precedente spiega questa riga di codice.\")\n",
    "```"
   ]
  },
  {
   "cell_type": "markdown",
   "metadata": {
    "slideshow": {
     "slide_type": "fragment"
    },
    "tags": []
   },
   "source": [
    "I commenti che si estendono su più righe sono chiamati commenti multilinea o a blocchi (*multi-line comments*, *block comments*)."
   ]
  },
  {
   "cell_type": "markdown",
   "metadata": {
    "slideshow": {
     "slide_type": "fragment"
    },
    "tags": []
   },
   "source": [
    "È possibile imbattersi in commenti multilinea racchiusi tra tripli apici `'''...'''` o `\"\"\"...\"\"\"`; tuttavia, si consiglia di utilizzare commenti con il simbolo di hash per questo scopo."
   ]
  },
  {
   "cell_type": "markdown",
   "metadata": {
    "slideshow": {
     "slide_type": "fragment"
    },
    "tags": []
   },
   "source": [
    "La PEP-8 indica che le virgolette triple dovrebbero essere riservate alle stringhe di documentazione, o _**docstring**_. Possono anche essere commenti informativi, ma il loro uso è limitato a documentare tecnicamente funzioni, metodi e altri casi."
   ]
  },
  {
   "cell_type": "markdown",
   "metadata": {
    "slideshow": {
     "slide_type": "subslide"
    },
    "tags": []
   },
   "source": [
    "### Riassumendo\n",
    "\n",
    "In questa sezione abbiamo imparato cosa sono i commenti e a cosa servono. I punti principali sono:\n",
    "\n",
    "- I commenti servono a spiegare a cosa servono determinate parti del codice.\n",
    "- I commenti iniziano con un hash `#`.\n",
    "- I commenti vengono ignorati durante l'esecuzione del codice;\n",
    "- I commenti possono trovarsi al di sopra di un pezzo di codice, in linea, o formare un blocco."
   ]
  },
  {
   "cell_type": "markdown",
   "metadata": {
    "slideshow": {
     "slide_type": "fragment"
    },
    "tags": []
   },
   "source": [
    "Secondo la PEP 8, ci sono anche alcune regole da seguire per la formattazione dei commenti:\n",
    "\n",
    "- Dopo il segno `#` iniziale ci deve essere uno spazio; inoltre, nei commenti in linea, ci devono essere due spazi tra la fine del codice e il segno `#`.\n",
    "- La lunghezza del commento deve essere limitata a 72 caratteri; è possibile dividere un commento lungo in più righe, formando così un \"blocco\".\n",
    "- Il commento deve essere indentato allo stesso livello dell'istruzione che spiega."
   ]
  },
  {
   "cell_type": "markdown",
   "metadata": {
    "slideshow": {
     "slide_type": "slide"
    },
    "tags": []
   },
   "source": [
    "# Oggetti\n",
    "\n",
    "Per Python qualunque cosa è un oggetto."
   ]
  },
  {
   "cell_type": "markdown",
   "metadata": {
    "slideshow": {
     "slide_type": "fragment"
    },
    "tags": []
   },
   "source": [
    "Gli oggetti hanno **proprietà** (campi dove salvare valori) e **metodi** (cose che possono fare)."
   ]
  },
  {
   "cell_type": "markdown",
   "metadata": {
    "slideshow": {
     "slide_type": "notes"
    },
    "tags": []
   },
   "source": [
    "Secondo la documentazione ufficiale di Python:\n",
    "\n",
    "> Gli oggetti sono l'astrazione Python per i dati. Tutti i dati in un programma Python sono rappresentati da oggetti o da relazioni tra gli oggetti."
   ]
  },
  {
   "cell_type": "markdown",
   "metadata": {
    "slideshow": {
     "slide_type": "fragment"
    },
    "tags": []
   },
   "source": [
    "Tutto quello che devi sapere per adesso è che, quando viene creato, ad un oggetto Python viene assegnato:\n",
    "- una **identità** (*identity*), un numero intero univoco;\n",
    "- un **tipo** (*type*), il tipo di dato, come numeri, testo, collezioni ecc.;\n",
    "- un **valore** (*value*), il dato attuale rappresentato dall'oggetto."
   ]
  },
  {
   "cell_type": "markdown",
   "metadata": {
    "slideshow": {
     "slide_type": "fragment"
    }
   },
   "source": [
    "\n",
    "Se vogliamo accedere nuovamente all'oggetto, al momento della sua creazione possiamo assegnargli:\n",
    "- un **identificatore** (*identifier*), il nome della variabile, funzione, classe, modulo o qualunque altro oggetto;"
   ]
  },
  {
   "cell_type": "markdown",
   "metadata": {
    "slideshow": {
     "slide_type": "fragment"
    },
    "tags": []
   },
   "source": [
    "Una volta che un'oggetto è stato creato, l'_identificatore_ e il _tipo_ non cambiano mai, mentre il _valore_ può rimanere costante (**oggetti immutabili**) o cambiare (**oggetti mutabili**)."
   ]
  },
  {
   "cell_type": "markdown",
   "metadata": {
    "slideshow": {
     "slide_type": "subslide"
    },
    "tags": []
   },
   "source": [
    "\n",
    "In Python non esistono tipi di dato primitivi in senso stretto, come invece accade in molti altri linguaggi di programmazione. Anche un semplice numero intero ha i suoi metodi e attributi:"
   ]
  },
  {
   "cell_type": "code",
   "execution_count": 19,
   "metadata": {
    "slideshow": {
     "slide_type": "fragment"
    },
    "tags": []
   },
   "outputs": [
    {
     "name": "stdout",
     "output_type": "stream",
     "text": [
      "['__abs__', '__add__', '__and__', '__bool__', '__ceil__', '__class__', '__delattr__', '__dir__', '__divmod__', '__doc__', '__eq__', '__float__', '__floor__', '__floordiv__', '__format__', '__ge__', '__getattribute__', '__getnewargs__', '__getstate__', '__gt__', '__hash__', '__index__', '__init__', '__init_subclass__', '__int__', '__invert__', '__le__', '__lshift__', '__lt__', '__mod__', '__mul__', '__ne__', '__neg__', '__new__', '__or__', '__pos__', '__pow__', '__radd__', '__rand__', '__rdivmod__', '__reduce__', '__reduce_ex__', '__repr__', '__rfloordiv__', '__rlshift__', '__rmod__', '__rmul__', '__ror__', '__round__', '__rpow__', '__rrshift__', '__rshift__', '__rsub__', '__rtruediv__', '__rxor__', '__setattr__', '__sizeof__', '__str__', '__sub__', '__subclasshook__', '__truediv__', '__trunc__', '__xor__', 'as_integer_ratio', 'bit_count', 'bit_length', 'conjugate', 'denominator', 'from_bytes', 'imag', 'numerator', 'real', 'to_bytes']\n"
     ]
    }
   ],
   "source": [
    "# dir() elenca tutti gli attributi e merodi di un oggetto.\n",
    "print(dir(1))"
   ]
  },
  {
   "cell_type": "markdown",
   "metadata": {
    "slideshow": {
     "slide_type": "slide"
    },
    "tags": []
   },
   "source": [
    "# Tipi di dato: `<class 'type'>`\n",
    "\n",
    "In Python la nozione di \"**tipo di dato**\" si sovrappone a quella di \"**classe**\"."
   ]
  },
  {
   "cell_type": "markdown",
   "metadata": {
    "slideshow": {
     "slide_type": "fragment"
    },
    "tags": []
   },
   "source": [
    "Premesso che ogni cosa è un oggetto e che ogni oggetto è un'istanza di una classe, anche il tipo di dato è determinato dalla classe di appartenenza dell'oggetto. "
   ]
  },
  {
   "cell_type": "markdown",
   "metadata": {
    "slideshow": {
     "slide_type": "fragment"
    },
    "tags": []
   },
   "source": [
    "Ogni oggetto di un tipo specifico è in realtà un'istanza di una classe che descrive come un oggetto di quel tipo deve essere conservato in memoria, quali operazioni possono essere applicate all'oggetto e come calcolarle."
   ]
  },
  {
   "cell_type": "markdown",
   "metadata": {
    "slideshow": {
     "slide_type": "notes"
    },
    "tags": []
   },
   "source": [
    "> NOTA: Una volta, Python aveva sia *tipi* che *classi*. I tipi erano oggetti built-in definiti in C; le classi venivano costruite con una dichiarazione di classe. I due nomi erano diversi perché non si potevano mischiare; le classi non potevano estendere i tipi. Adesso anche tipi built-in sono etichettati come classi e possono essere estesi a piacimento."
   ]
  },
  {
   "cell_type": "markdown",
   "metadata": {
    "slideshow": {
     "slide_type": "notes"
    },
    "tags": []
   },
   "source": [
    "Come per le analogie usate spiegando la programmazione ad oggetti, un'analogia dei tipi può essere la specie biologica o qualsiasi altro attributo astratto condiviso tra oggetti specifici. Tutti i cani che avete visto sono del tipo/classe Cane, ma ognuno di essi è un oggetto individuale (istanza). Pensando a un cane come a un tipo/classe, gli si possono associare alcune \"operazioni\" disponibili, ad esempio che un cane possa abbaiare, essere nutrito, accoppiarsi con un altro cane ecc."
   ]
  },
  {
   "cell_type": "markdown",
   "metadata": {
    "slideshow": {
     "slide_type": "subslide"
    },
    "tags": []
   },
   "source": [
    "In questo argomento prenderemo in considerazione solo alcuni dei tipi di dato più semplici che vengono comunemente utilizzati in programmazione."
   ]
  },
  {
   "cell_type": "markdown",
   "metadata": {
    "slideshow": {
     "slide_type": "fragment"
    },
    "tags": []
   },
   "source": [
    "Con l'espressione \"built-in type\" si intendono tutti quei tipi di dato che sono disponibili nell'ambiente di esecuzione, senza la necessità di importare alcun modulo."
   ]
  },
  {
   "cell_type": "markdown",
   "metadata": {
    "slideshow": {
     "slide_type": "subslide"
    },
    "tags": []
   },
   "source": [
    "Tipi built-in più comuni:\n",
    "\n",
    "| Tipo       | Significato  | Dominio                   | Valore 'vuoto' | Esempio                    | Altro esempio                       | Mutabile? |\n",
    "|------------|--------------|---------------------------|----------------|----------------------------|------------------------------------ |-----------|\n",
    "| `int`      | Intero       | $\\mathbb{Z}$              | `0`            | `3`                        | `-5`                                | no        |\n",
    "| `float`    | Razionale    | $\\mathbb{Q}$ (più o meno) | `0.0`          | `3.7`                      | `-2.3`                              | no        |\n",
    "| `bool`     | Condizione   | `True`, `False`           | `False`        | `True`                     |                                     | no        |\n",
    "| `str`      | Testo        | Testo                     | `''` o `\"\"`    | `\"Buon giorno\"`            | `'come stai?'`                      | no        |\n",
    "| `tuple`    | Sequenza     | Collezione di oggetti     | `()`           | `(5, 7, 10, 7)`            | `(\"qualcosa\", 5, \"altro\")`          | no        |\n",
    "| `list`     | Sequenza     | Collezione di oggetti     | `[]`           | `[5, 7, 10, 7]`            | `[\"qualcosa\", 5, \"altro\"]`          | sì        |\n",
    "| `set`      | Insieme      | Collezione di oggetti     | `set()`        | `{5, 7, 10}`               | `{\"qualcosa\", 5, \"altro\"}`          | sì        |\n",
    "| `dict`     | Mappatura    | Mappatura tra oggetti     | `{}`           | `{'limoni':4, 'arance':7}` | `{'colore': 'rosso', 'anno': 1994}` | sì        |\n",
    "| `NoneType` | Valore nullo |                           | `None`         |                            |                                     |           |"
   ]
  },
  {
   "cell_type": "markdown",
   "metadata": {
    "slideshow": {
     "slide_type": "subslide"
    },
    "tags": []
   },
   "source": [
    "Altri tipi di dato, inizialmente meno comuni:\n",
    "\n",
    "| Tipo        | Significato  | Dominio           | Valore 'vuoto'   | Esempio                      | Altro esempio                       | Mutabile? |\n",
    "|-------------|--------------|-------------------|------------------|------------------------------|------------------------------------ |-----------|\n",
    "| `complex`   | Complesso    | $\\mathbb{C}$      | `0j`             | `3j`                         | `(3 + 2j)`                          | no        |\n",
    "| `bytes`     | Byte         |                   | `b''`            | `b'Python Bytes'`            | `b'\\x01\\x02\\x03'`                   | no        |\n",
    "| `bytearray` | Byte         |                   | `bytearray(b'')` | `bytearray(b'Python Bytes')` | `bytearray(b'\\x01\\x02\\x03')`        | si        |"
   ]
  },
  {
   "cell_type": "markdown",
   "metadata": {
    "slideshow": {
     "slide_type": "subslide"
    },
    "tags": []
   },
   "source": [
    "## Tipi numerici\n",
    "\n",
    "I tipi numerici sono `int`, `float` e `complex`."
   ]
  },
  {
   "cell_type": "markdown",
   "metadata": {
    "slideshow": {
     "slide_type": "fragment"
    },
    "tags": []
   },
   "source": [
    "Una cosa che accomuna tutti e tre i tipi è che, quando sono molto lunghi, possiamo possiamo usare l'underscore (`_`) come separatore visivo per raggruppare le cifre quando li scriviamo come *literal* (vedi più avanti).\n",
    "\n",
    "```python\n",
    "income = 12_500_000\n",
    "latitude = 41.890_230\n",
    "```\n",
    "\n",
    "*Approfondisci: [PEP 515](https://peps.python.org/pep-0515/)*"
   ]
  },
  {
   "cell_type": "markdown",
   "metadata": {
    "slideshow": {
     "slide_type": "subslide"
    },
    "tags": []
   },
   "source": [
    "### `int`\n",
    "\n",
    "Un numero di tipo `int` non ha un vero e proprio limite in Python. Il limite è dato dalla memoria disponibile sul sistema.\n",
    "\n",
    "Per ora i dati di tipo `int` non richiedono particolari riflessioni."
   ]
  },
  {
   "cell_type": "markdown",
   "metadata": {
    "slideshow": {
     "slide_type": "subslide"
    },
    "tags": []
   },
   "source": [
    "### `float`\n",
    "\n",
    "Un numero di tipo `float` è una rappresentazione a 64-bit di un numero a virgola mobile a precisione doppia, equivalente al tipo \"double\" in altri linguaggi di programmazione come C. Per memorizzare un numero float "
   ]
  },
  {
   "cell_type": "markdown",
   "metadata": {
    "slideshow": {
     "slide_type": "fragment"
    },
    "tags": []
   },
   "source": [
    "Il valore massimo del tipo `float` è circa 1,8 x 10<sup>308</sup>. Qualsiasi numero superiore a questo valore sarà indicato dalla stringa `inf` (infinito).\n",
    "\n",
    "Il valore minimo del tipo `float` è circa 2,2 x 10<sup>-308</sup>. Qualsiasi numero inferiore a questo valore sarà approssimato a `0.0`."
   ]
  },
  {
   "cell_type": "code",
   "execution_count": 20,
   "metadata": {
    "slideshow": {
     "slide_type": "fragment"
    },
    "tags": []
   },
   "outputs": [
    {
     "data": {
      "text/plain": [
       "sys.float_info(max=1.7976931348623157e+308, max_exp=1024, max_10_exp=308, min=2.2250738585072014e-308, min_exp=-1021, min_10_exp=-307, dig=15, mant_dig=53, epsilon=2.220446049250313e-16, radix=2, rounds=1)"
      ]
     },
     "execution_count": 20,
     "metadata": {},
     "output_type": "execute_result"
    }
   ],
   "source": [
    "import sys\n",
    "sys.float_info"
   ]
  },
  {
   "cell_type": "markdown",
   "metadata": {
    "slideshow": {
     "slide_type": "fragment"
    },
    "tags": []
   },
   "source": [
    "Di default Python mostra al massimo 17 cifre significative di un numero `float` oppure converte in automatico alla notazione scientifica. Se è necessario stampare un numero di cifre specifico è possibile usare la funzione built-in [`format()`](https://docs.python.org/3/library/functions.html#format) o le [*f-strings*](https://docs.python.org/3/reference/lexical_analysis.html#f-strings)."
   ]
  },
  {
   "cell_type": "markdown",
   "metadata": {
    "slideshow": {
     "slide_type": "subslide"
    },
    "tags": []
   },
   "source": [
    "Come per quasi tutti i linguaggi di programmazione, i dati di tipo `float` richiedono particolari attenzioni, in quanto in realtà non sono \"decimali\" ma \"binari\", quindi se non esiste una rappresentazione binaria di un certo decimale, questo sarà approssimato.\n",
    "\n",
    "Ritorneremo più avanti su questo argomento; per ora puoi farti un'idea sul sito [0.30000000000000004.com](https://0.30000000000000004.com/)."
   ]
  },
  {
   "cell_type": "markdown",
   "metadata": {
    "slideshow": {
     "slide_type": "fragment"
    },
    "tags": []
   },
   "source": [
    "Se serve un ambiente \"sicuro\" per operare con i numeri razionali (frazioni e soprattuto decimali) sono disponibili i moduli [`fractions`](https://docs.python.org/3/library/fractions.html) e [`decimal`](https://docs.python.org/3/library/decimal.html). "
   ]
  },
  {
   "cell_type": "markdown",
   "metadata": {
    "slideshow": {
     "slide_type": "subslide"
    },
    "tags": []
   },
   "source": [
    "## \"Contenitori\"\n",
    "\n",
    "`str`, `list`, `dict`, `tuple` e tipi di contenitori simili sotto certi aspetti e possiamo contare il numero degli elementi contenuti in essi."
   ]
  },
  {
   "cell_type": "markdown",
   "metadata": {
    "slideshow": {
     "slide_type": "fragment"
    },
    "tags": []
   },
   "source": [
    "La funzione built-in `len()` fa proprio questo:"
   ]
  },
  {
   "cell_type": "code",
   "execution_count": 21,
   "metadata": {
    "tags": []
   },
   "outputs": [
    {
     "name": "stdout",
     "output_type": "stream",
     "text": [
      "50\n",
      "7\n"
     ]
    }
   ],
   "source": [
    "mio_testo = 'Sono una stringa. Conta quanti caratteri contengo!'\n",
    "mio_elenco = ['Sono', 'una', 'lista.', 'Conta', 'quanti', 'elementi', 'contengo!']\n",
    "print(len(mio_testo))\n",
    "print(len(mio_elenco))"
   ]
  },
  {
   "cell_type": "markdown",
   "metadata": {
    "slideshow": {
     "slide_type": "subslide"
    },
    "tags": []
   },
   "source": [
    "Questi contenitori hanno una dimensione massima (numero di oggetti che possono contenere), che dipende dall'architettura del computer:\n",
    "- sistemi a 32-bit, usando 4 bytes: 2<sup>31</sup> = 2147483647 (+ 1) &rarr; 2,1 miliardi;\n",
    "- sistemi a 64-bit, usando 8 bytes: 2<sup>63</sup> = 9223372036854775807 (+ 1) &rarr; 9,223 miliadi di miliardi o trilioni."
   ]
  },
  {
   "cell_type": "code",
   "execution_count": 22,
   "metadata": {
    "slideshow": {
     "slide_type": "fragment"
    },
    "tags": []
   },
   "outputs": [
    {
     "data": {
      "text/plain": [
       "9223372036854775807"
      ]
     },
     "execution_count": 22,
     "metadata": {},
     "output_type": "execute_result"
    }
   ],
   "source": [
    "sys.maxsize"
   ]
  },
  {
   "cell_type": "markdown",
   "metadata": {
    "slideshow": {
     "slide_type": "fragment"
    },
    "tags": []
   },
   "source": [
    "Se proviamo a superare tale limite, otterremo un errore:"
   ]
  },
  {
   "cell_type": "code",
   "execution_count": 23,
   "metadata": {
    "slideshow": {
     "slide_type": "fragment"
    },
    "tags": [
     "raises-exception"
    ]
   },
   "outputs": [
    {
     "ename": "OverflowError",
     "evalue": "Python int too large to convert to C ssize_t",
     "output_type": "error",
     "traceback": [
      "\u001b[0;31m---------------------------------------------------------------------------\u001b[0m",
      "\u001b[0;31mOverflowError\u001b[0m                             Traceback (most recent call last)",
      "Cell \u001b[0;32mIn[23], line 2\u001b[0m\n\u001b[1;32m      1\u001b[0m iterabile \u001b[38;5;241m=\u001b[39m \u001b[38;5;28mrange\u001b[39m(sys\u001b[38;5;241m.\u001b[39mmaxsize \u001b[38;5;241m+\u001b[39m \u001b[38;5;241m1\u001b[39m)\n\u001b[0;32m----> 2\u001b[0m \u001b[38;5;28;43mlen\u001b[39;49m\u001b[43m(\u001b[49m\u001b[43miterabile\u001b[49m\u001b[43m)\u001b[49m\n",
      "\u001b[0;31mOverflowError\u001b[0m: Python int too large to convert to C ssize_t"
     ]
    }
   ],
   "source": [
    "iterabile = range(sys.maxsize + 1)\n",
    "len(iterabile)"
   ]
  },
  {
   "cell_type": "markdown",
   "metadata": {
    "slideshow": {
     "slide_type": "subslide"
    },
    "tags": []
   },
   "source": [
    "## Approfondimento: la classe `type`\n",
    "\n",
    "`type` è una classe bult-in."
   ]
  },
  {
   "cell_type": "code",
   "execution_count": 24,
   "metadata": {
    "slideshow": {
     "slide_type": "fragment"
    },
    "tags": []
   },
   "outputs": [
    {
     "name": "stdout",
     "output_type": "stream",
     "text": [
      "<class 'type'>\n"
     ]
    }
   ],
   "source": [
    "print(type)"
   ]
  },
  {
   "cell_type": "markdown",
   "metadata": {
    "slideshow": {
     "slide_type": "fragment"
    },
    "tags": []
   },
   "source": [
    "Come si legge [nella documentazione](https://docs.python.org/3/library/functions.html#type), se passiamo un solo argomento, `type` restituisce la classe di appartenenza dell'oggetto passato come argomento."
   ]
  },
  {
   "cell_type": "markdown",
   "metadata": {
    "slideshow": {
     "slide_type": "fragment"
    },
    "tags": []
   },
   "source": [
    "Possiamo dunque usare `type` per conoscere il tipo/classe di un certo dato:"
   ]
  },
  {
   "cell_type": "code",
   "execution_count": 25,
   "metadata": {
    "tags": []
   },
   "outputs": [
    {
     "name": "stdout",
     "output_type": "stream",
     "text": [
      "<class 'int'>\n"
     ]
    }
   ],
   "source": [
    "print(type(1))"
   ]
  },
  {
   "cell_type": "markdown",
   "metadata": {
    "slideshow": {
     "slide_type": "fragment"
    },
    "tags": []
   },
   "source": [
    "`int`, `float`, `dict` o qualunque altro tipo di dato built-in che abbiamo visto prima, sono tutte classi."
   ]
  },
  {
   "cell_type": "markdown",
   "metadata": {
    "slideshow": {
     "slide_type": "subslide"
    },
    "tags": []
   },
   "source": [
    "Dato che anche le classi sono degli oggetti, possiamo usare `type` per conoscere la classe di appartenenza di una certa classe."
   ]
  },
  {
   "cell_type": "code",
   "execution_count": 26,
   "metadata": {
    "slideshow": {
     "slide_type": "fragment"
    },
    "tags": []
   },
   "outputs": [
    {
     "name": "stdout",
     "output_type": "stream",
     "text": [
      "<class 'type'>\n",
      "<class 'type'>\n",
      "<class 'type'>\n"
     ]
    }
   ],
   "source": [
    "print(type(type))\n",
    "print(type(int))\n",
    "print(type(dict))"
   ]
  },
  {
   "cell_type": "markdown",
   "metadata": {
    "slideshow": {
     "slide_type": "fragment"
    },
    "tags": []
   },
   "source": [
    "In Python qualunque classe è un oggetto della classe `type`, anche `type` stesso:"
   ]
  },
  {
   "cell_type": "code",
   "execution_count": 27,
   "metadata": {
    "slideshow": {
     "slide_type": "fragment"
    },
    "tags": []
   },
   "outputs": [
    {
     "name": "stdout",
     "output_type": "stream",
     "text": [
      "True\n",
      "True\n",
      "True\n",
      "False\n"
     ]
    }
   ],
   "source": [
    "# isinstance() è un modo sicuro per verficare se un oggetto è una istanza di una certa classe\n",
    "print(isinstance(type(type), type))\n",
    "print(isinstance(type, type(type)))\n",
    "\n",
    "print(isinstance(int, type))\n",
    "print(isinstance(type, int))"
   ]
  },
  {
   "cell_type": "markdown",
   "metadata": {
    "slideshow": {
     "slide_type": "subslide"
    },
    "tags": []
   },
   "source": [
    "Ora che abbiamo queste informazioni, possiamo fare alcune cose:\n",
    "\n",
    "- conoscere il tipo di dato di un certo oggetto;\n",
    "- creare oggetti con specifici tipi di dato;\n",
    "- convertire un tipo di dato in un'altro."
   ]
  },
  {
   "cell_type": "markdown",
   "metadata": {
    "slideshow": {
     "slide_type": "subslide"
    },
    "tags": []
   },
   "source": [
    "## Controllo del tipo"
   ]
  },
  {
   "cell_type": "markdown",
   "metadata": {
    "slideshow": {
     "slide_type": "fragment"
    },
    "tags": []
   },
   "source": [
    "Come abbiamo visto, il \"comando\" `type` permette di conoscere il tipo di un valore."
   ]
  },
  {
   "cell_type": "markdown",
   "metadata": {
    "slideshow": {
     "slide_type": "fragment"
    },
    "tags": []
   },
   "source": [
    "Modificando la cella qua sotto, prova ad eseguire il comando `type` sui seguenti valori:\n",
    "\n",
    "```python\n",
    "type(True)\n",
    "type(False)\n",
    "type('pippo')\n",
    "type(2.0)\n",
    "type(2)\n",
    "type(['pippo', 5])\n",
    "```"
   ]
  },
  {
   "cell_type": "code",
   "execution_count": 28,
   "metadata": {
    "tags": []
   },
   "outputs": [
    {
     "name": "stdout",
     "output_type": "stream",
     "text": [
      "<class 'bool'>\n"
     ]
    }
   ],
   "source": [
    "print(type(True))"
   ]
  },
  {
   "cell_type": "markdown",
   "metadata": {
    "slideshow": {
     "slide_type": "notes"
    },
    "tags": []
   },
   "source": [
    "> RICORDA: In Python 3 non c'è differenza tra \"classi\" e \"tipi\". Nella maggior parte dei casi vengono utilizzati come sinonimi."
   ]
  },
  {
   "cell_type": "markdown",
   "metadata": {
    "slideshow": {
     "slide_type": "subslide"
    },
    "tags": []
   },
   "source": [
    "## Inizializzazione di valori \"vuoti\""
   ]
  },
  {
   "cell_type": "markdown",
   "metadata": {},
   "source": [
    "Con le classi possiamo creare oggetti."
   ]
  },
  {
   "cell_type": "markdown",
   "metadata": {
    "slideshow": {
     "slide_type": "fragment"
    },
    "tags": []
   },
   "source": [
    "Dato che `int`, `float`, `dict` ecc. sono tutte classi, possiamo fare questo:"
   ]
  },
  {
   "cell_type": "code",
   "execution_count": 29,
   "metadata": {},
   "outputs": [
    {
     "name": "stdout",
     "output_type": "stream",
     "text": [
      "0\n",
      "0.0\n",
      "{}\n",
      "[]\n"
     ]
    }
   ],
   "source": [
    "print(int())\n",
    "print(float())\n",
    "print(dict())\n",
    "print(list())"
   ]
  },
  {
   "cell_type": "markdown",
   "metadata": {
    "slideshow": {
     "slide_type": "subslide"
    },
    "tags": []
   },
   "source": [
    "## Conversione tra tipi di dato (*casting*)\n",
    "\n",
    "Ciascun tipo di dato può eventualmente anche essere convertito in alcuni altri tipi di dato."
   ]
  },
  {
   "cell_type": "markdown",
   "metadata": {
    "slideshow": {
     "slide_type": "fragment"
    },
    "tags": []
   },
   "source": [
    "In programmazione la conversione di un tipo di dato in un altro è detta *casting*:"
   ]
  },
  {
   "cell_type": "markdown",
   "metadata": {
    "slideshow": {
     "slide_type": "fragment"
    },
    "tags": []
   },
   "source": [
    "- qualsiasi tipo è di solito convertibile in `str` (se riscontri problemi guarda [`repr()`](https://docs.python.org/3/library/functions.html#repr));\n",
    "- un `int` può diventare un `float`;\n",
    "- un `float` può diventare un `int` perdendo la parte decimale (guarda anche [`math.trunc()`](https://docs.python.org/3/library/math.html#math.trunc));\n",
    "- un `str` può diventare un `int` o `float`, se contiene un intero o un numero decimale;\n",
    "- un `bool` può diventare un `int` di valore `0` o `1` a seconda se il valore è rispettivamente `False` o `True`;\n",
    "- un `int` o `float` può diventare un `bool` di valore `False` se il valore è `0`, altrimenti `True` se è un qualsiasi altro numero;\n",
    "- `None` può diventare un `bool` di valore `False`."
   ]
  },
  {
   "cell_type": "markdown",
   "metadata": {
    "slideshow": {
     "slide_type": "subslide"
    },
    "tags": []
   },
   "source": [
    "Esercizio: Modificando la cella qua sotto, prova ad eseguire le seguenti o altre conversioni e osserva cosa accade:\n",
    "\n",
    "```python\n",
    "float(3)\n",
    "int(2.4)\n",
    "int('10')\n",
    "int('A')\n",
    "str(3)\n",
    "str(2.4)\n",
    "int(True)\n",
    "int(False)\n",
    "float(True)\n",
    "float(not None)\n",
    "set([4,5,6,5,6])\n",
    "dict([(45,78),('colore', 'rosso')])\n",
    "```"
   ]
  },
  {
   "cell_type": "code",
   "execution_count": 30,
   "metadata": {
    "tags": []
   },
   "outputs": [
    {
     "data": {
      "text/plain": [
       "3.0"
      ]
     },
     "execution_count": 30,
     "metadata": {},
     "output_type": "execute_result"
    }
   ],
   "source": [
    "float(3)"
   ]
  },
  {
   "cell_type": "markdown",
   "metadata": {
    "slideshow": {
     "slide_type": "notes"
    },
    "tags": []
   },
   "source": [
    "### Approfondimento: Casting implicito ed esplicito"
   ]
  },
  {
   "cell_type": "markdown",
   "metadata": {
    "slideshow": {
     "slide_type": "notes"
    },
    "tags": []
   },
   "source": [
    "In realtà (come in molti altri linguaggi) anche Python utilizza due modalità convertire i tipi di dato: un modo implicito e uno esplicito.\n",
    "\n",
    "Gli esempi fatti poco prima sono tutte conversioni esplicite, perché stiamo esplicitamente dichiarando quale vogliamo che sia il tipo risultante.\n",
    "\n",
    "La conversione implicita viene invece eseguita automaticamente dal compilatore Python senza bisogno di un nostro intervento esplicito."
   ]
  },
  {
   "cell_type": "code",
   "execution_count": 16,
   "metadata": {
    "slideshow": {
     "slide_type": "skip"
    },
    "tags": []
   },
   "outputs": [
    {
     "name": "stdout",
     "output_type": "stream",
     "text": [
      "a : 7 : <class 'int'>\n",
      "b : 3.0 : <class 'float'>\n",
      "c : 10.0 : <class 'float'>\n",
      "d : 21.0 : <class 'float'>\n"
     ]
    }
   ],
   "source": [
    "# Python capisce che questi sono int e float da come sono scritti\n",
    "a = 7  # int\n",
    "b = 3.0  # float\n",
    "\n",
    "# Python capisce che il risultato deve essere float in base ai tipi degli operandi\n",
    "# e all'operatore utilizzato.\n",
    "c = a + b  # int + float = float\n",
    "d = a * b  # int * float = float\n",
    "\n",
    "print('a :', a, ':', type(a))\n",
    "print('b :', b, ':', type(b))\n",
    "print('c :', c, ':', type(c))\n",
    "print('d :', d, ':', type(d))"
   ]
  },
  {
   "cell_type": "code",
   "execution_count": 24,
   "metadata": {
    "slideshow": {
     "slide_type": "skip"
    },
    "tags": []
   },
   "outputs": [
    {
     "data": {
      "text/plain": [
       "[4, 4, 4, 4, 4]"
      ]
     },
     "execution_count": 24,
     "metadata": {},
     "output_type": "execute_result"
    }
   ],
   "source": [
    "[4] * 5"
   ]
  },
  {
   "cell_type": "markdown",
   "metadata": {
    "slideshow": {
     "slide_type": "skip"
    },
    "tags": []
   },
   "source": [
    "> ATTENZIONE: La conversione implicita dei tipi avviene solo se i tipi di dati utilizzati nell'istruzione sono compatibili!\n",
    ">\n",
    "> Se i tipi di dati sono incompatibili, viene sollevato un errore `TypeError`."
   ]
  },
  {
   "cell_type": "code",
   "execution_count": 6,
   "metadata": {
    "slideshow": {
     "slide_type": "skip"
    },
    "tags": []
   },
   "outputs": [
    {
     "ename": "TypeError",
     "evalue": "can only concatenate str (not \"int\") to str",
     "output_type": "error",
     "traceback": [
      "\u001b[0;31m---------------------------------------------------------------------------\u001b[0m",
      "\u001b[0;31mTypeError\u001b[0m                                 Traceback (most recent call last)",
      "Cell \u001b[0;32mIn[6], line 3\u001b[0m\n\u001b[1;32m      1\u001b[0m a \u001b[39m=\u001b[39m \u001b[39m'\u001b[39m\u001b[39m3\u001b[39m\u001b[39m'\u001b[39m\n\u001b[1;32m      2\u001b[0m b \u001b[39m=\u001b[39m \u001b[39m5\u001b[39m\n\u001b[0;32m----> 3\u001b[0m c \u001b[39m=\u001b[39m a \u001b[39m+\u001b[39;49m b  \u001b[39m# Errore!\u001b[39;00m\n",
      "\u001b[0;31mTypeError\u001b[0m: can only concatenate str (not \"int\") to str"
     ]
    }
   ],
   "source": [
    "a = '3'  # str\n",
    "b = 5  # int\n",
    "c = a + b  # str + int = TypeError!"
   ]
  },
  {
   "cell_type": "markdown",
   "metadata": {
    "slideshow": {
     "slide_type": "slide"
    },
    "tags": []
   },
   "source": [
    "# Variabili e oggetti"
   ]
  },
  {
   "cell_type": "markdown",
   "metadata": {
    "slideshow": {
     "slide_type": "fragment"
    },
    "tags": []
   },
   "source": [
    "Abbiamo finora usato Python per eseguire semplici calcoli o lavorare con valori come le stringhe. Ma è sufficiente per voi?"
   ]
  },
  {
   "cell_type": "markdown",
   "metadata": {
    "slideshow": {
     "slide_type": "fragment"
    },
    "tags": []
   },
   "source": [
    "Quando si scrivono programmi reali, di solito è necessario registrare nella memoria del computer i valori e i risultati delle varie espressioni che scriviamo al fine di usarli come dei \"semilavorati\", richiamarli e riutilizzarli successivamente nel codice."
   ]
  },
  {
   "cell_type": "markdown",
   "metadata": {
    "slideshow": {
     "slide_type": "subslide"
    },
    "tags": []
   },
   "source": [
    "Per fare questo possiamo associare/etichettare un oggetto con un deteminato identificatore (identifier)."
   ]
  },
  {
   "cell_type": "markdown",
   "metadata": {
    "slideshow": {
     "slide_type": "fragment"
    },
    "tags": []
   },
   "source": [
    "Questo processo di associazione è detto \"assegnazione\" e viene utilizzato l'operatore di assegnazione `=` (uguale). Ad esempio:"
   ]
  },
  {
   "cell_type": "code",
   "execution_count": 31,
   "metadata": {
    "tags": []
   },
   "outputs": [],
   "source": [
    "giorno_della_settimana = \"lunedì\""
   ]
  },
  {
   "cell_type": "markdown",
   "metadata": {
    "slideshow": {
     "slide_type": "fragment"
    },
    "tags": []
   },
   "source": [
    "Ora si ha un valore di tipo stringa `\"lunedì\"` immagazzinato nella memoria del computer e identificato dalla parola/nome `giorno_della_settimana`."
   ]
  },
  {
   "cell_type": "markdown",
   "metadata": {
    "slideshow": {
     "slide_type": "fragment"
    },
    "tags": []
   },
   "source": [
    "È quindi possibile recuperare il valore richiamando il nostro identificatore, ovvero il nome della variabile."
   ]
  },
  {
   "cell_type": "code",
   "execution_count": 32,
   "metadata": {
    "tags": []
   },
   "outputs": [
    {
     "name": "stdout",
     "output_type": "stream",
     "text": [
      "lunedì\n"
     ]
    }
   ],
   "source": [
    "print(giorno_della_settimana)"
   ]
  },
  {
   "cell_type": "markdown",
   "metadata": {
    "slideshow": {
     "slide_type": "fragment"
    },
    "tags": []
   },
   "source": [
    "Ora, `giorno_della_settimana` memorizza un valore di tipo `str`."
   ]
  },
  {
   "cell_type": "code",
   "execution_count": 33,
   "metadata": {
    "tags": []
   },
   "outputs": [
    {
     "name": "stdout",
     "output_type": "stream",
     "text": [
      "<class 'str'>\n"
     ]
    }
   ],
   "source": [
    "print(type(giorno_della_settimana))"
   ]
  },
  {
   "cell_type": "markdown",
   "metadata": {
    "slideshow": {
     "slide_type": "subslide"
    },
    "tags": []
   },
   "source": [
    "## Riassegnare una variabile\n",
    "\n",
    "È sempre possibile assegnare un nuovo valore a una variabile definita precedentemente:"
   ]
  },
  {
   "cell_type": "code",
   "execution_count": 34,
   "metadata": {
    "slideshow": {
     "slide_type": "fragment"
    },
    "tags": []
   },
   "outputs": [],
   "source": [
    "giorno_della_settimana = 'martedì'"
   ]
  },
  {
   "cell_type": "markdown",
   "metadata": {
    "slideshow": {
     "slide_type": "fragment"
    },
    "tags": []
   },
   "source": [
    "Ora, se ricontrolliamo, ci viene restituito il nuovo valore:"
   ]
  },
  {
   "cell_type": "code",
   "execution_count": 35,
   "metadata": {},
   "outputs": [
    {
     "name": "stdout",
     "output_type": "stream",
     "text": [
      "martedì\n"
     ]
    }
   ],
   "source": [
    "print(giorno_della_settimana)"
   ]
  },
  {
   "cell_type": "markdown",
   "metadata": {
    "slideshow": {
     "slide_type": "subslide"
    },
    "tags": []
   },
   "source": [
    "In Python possiamo però anche assegnare un <u>nuovo valore di tipo diverso</u> dal valore precedente:"
   ]
  },
  {
   "cell_type": "code",
   "execution_count": 36,
   "metadata": {},
   "outputs": [
    {
     "name": "stdout",
     "output_type": "stream",
     "text": [
      "<class 'int'>\n"
     ]
    }
   ],
   "source": [
    "giorno_della_settimana = 4\n",
    "print(type(giorno_della_settimana))"
   ]
  },
  {
   "cell_type": "markdown",
   "metadata": {
    "slideshow": {
     "slide_type": "fragment"
    },
    "tags": []
   },
   "source": [
    "Ora, `giorno_della_settimana` memorizza un valore di tipo `int`."
   ]
  },
  {
   "cell_type": "markdown",
   "metadata": {
    "slideshow": {
     "slide_type": "fragment"
    },
    "tags": []
   },
   "source": [
    "Questo \"potere\" di cambiare i tipi delle variabili è la caratteristica principale della \"tipizzazione dinamica\" o [*duck typing*](https://it.wikipedia.org/wiki/Duck_typing)."
   ]
  },
  {
   "cell_type": "markdown",
   "metadata": {
    "slideshow": {
     "slide_type": "fragment"
    },
    "tags": []
   },
   "source": [
    "Molti linguaggi di programmazione hanno invece una \"tipizzazione statica\" e non permettono l'alterazione del tipo delle variabili."
   ]
  },
  {
   "cell_type": "markdown",
   "metadata": {
    "slideshow": {
     "slide_type": "fragment"
    },
    "tags": []
   },
   "source": [
    "Per ora ci basti sapere che è buona norma comunque evitare di cambiare il tipo alle variabili, se non per validi motivi."
   ]
  },
  {
   "cell_type": "markdown",
   "metadata": {
    "slideshow": {
     "slide_type": "notes"
    },
    "tags": []
   },
   "source": [
    "Se non correttamente gestito, questo \"potere\" può portarci a cereare codice difficile da manutenere e che può generare errori difficili da prevedere."
   ]
  },
  {
   "cell_type": "markdown",
   "metadata": {
    "slideshow": {
     "slide_type": "subslide"
    },
    "tags": []
   },
   "source": [
    "## Assegnazione multipla\n",
    "\n",
    "Possiamo inizializzare più variabili su una sola linea così separandole con virgole:"
   ]
  },
  {
   "cell_type": "code",
   "execution_count": 37,
   "metadata": {
    "slideshow": {
     "slide_type": "fragment"
    },
    "tags": []
   },
   "outputs": [
    {
     "name": "stdout",
     "output_type": "stream",
     "text": [
      "Ho comprato 3 libri e 4 quaderni.\n"
     ]
    }
   ],
   "source": [
    "libri, quaderni = 3, 4\n",
    "\n",
    "print(\"Ho comprato\", libri, \"libri e\", quaderni, \"quaderni.\")"
   ]
  },
  {
   "cell_type": "markdown",
   "metadata": {
    "slideshow": {
     "slide_type": "subslide"
    },
    "tags": []
   },
   "source": [
    "È anche possibile assegnare uno stesso valore a più variabili:"
   ]
  },
  {
   "cell_type": "code",
   "execution_count": 38,
   "metadata": {},
   "outputs": [
    {
     "name": "stdout",
     "output_type": "stream",
     "text": [
      "Ho comprato 3 libri e 3 quaderni.\n",
      "Ho comprato 4 libri e 3 quaderni.\n"
     ]
    }
   ],
   "source": [
    "libri = quaderni = 3\n",
    "print(\"Ho comprato\", libri, \"libri e\", quaderni, \"quaderni.\")\n",
    "libri += 1  # Usiamo l'operatore di autoincremento\n",
    "print(\"Ho comprato\", libri, \"libri e\", quaderni, \"quaderni.\")"
   ]
  },
  {
   "cell_type": "markdown",
   "metadata": {
    "slideshow": {
     "slide_type": "fragment"
    },
    "tags": []
   },
   "source": [
    "Attenzione però se usi questa sintassi con gli oggetti mutabili! Se modificate il contenuto, modificate anche il contenuto dell'altra variabile, dato che puntano allo stesso oggetto."
   ]
  },
  {
   "cell_type": "code",
   "execution_count": 39,
   "metadata": {
    "slideshow": {
     "slide_type": "fragment"
    },
    "tags": []
   },
   "outputs": [
    {
     "name": "stdout",
     "output_type": "stream",
     "text": [
      "pippo: [1, 20]\n",
      "pluto: [1, 20]\n"
     ]
    }
   ],
   "source": [
    "pippo = pluto = []\n",
    "pippo.append(1)  # Aggiungo un elemento a pippo\n",
    "pluto.append(20)  # Aggiungo un elemento a pluto\n",
    "print('pippo:', pippo)\n",
    "print('pluto:', pluto)"
   ]
  },
  {
   "cell_type": "markdown",
   "metadata": {
    "slideshow": {
     "slide_type": "fragment"
    },
    "tags": []
   },
   "source": [
    "È dunque bene evitare questa sintassi quando volgiamo assegnare oggetti mutabili."
   ]
  },
  {
   "cell_type": "markdown",
   "metadata": {
    "slideshow": {
     "slide_type": "subslide"
    },
    "tags": []
   },
   "source": [
    "## Nominare le variabili\n",
    "\n",
    "Il nome di una variabile:\n",
    "\n",
    "- deve iniziare con una lettera o con il carattere underscore `_` ;\n",
    "- non può iniziare con un numero;\n",
    "- può contenere solo caratteri alfanumerici e trattini bassi (`A-z`, `0-9` e `_` );\n",
    "- è sensibile alle maiuscole e alle minuscole (*case-sensitive*); `age`, `Age` e `AGE` sono tre variabili diverse.\n",
    "- non deve essere una delle 35 [keyword](https://docs.python.org/3/reference/lexical_analysis.html#keywords) riservate."
   ]
  },
  {
   "cell_type": "markdown",
   "metadata": {
    "slideshow": {
     "slide_type": "fragment"
    },
    "tags": []
   },
   "source": [
    "> ATTENZIONE: Non infrangere queste regole, altrimenti il programma non funzionerà."
   ]
  },
  {
   "cell_type": "markdown",
   "metadata": {
    "slideshow": {
     "slide_type": "fragment"
    },
    "tags": []
   },
   "source": [
    "Inoltre è FORTEMENTE consigliato:\n",
    "\n",
    "- usare solo caratteri compatibili ASCII;\n",
    "- evitare di usare i nomi delle [funzioni e tipi built-in](https://docs.python.org/3/library/functions.html), altrimenti quella funzione o classe non sarà più disponibile, perché \"sovrascitta\"."
   ]
  },
  {
   "cell_type": "markdown",
   "metadata": {
    "slideshow": {
     "slide_type": "subslide"
    },
    "tags": []
   },
   "source": [
    "```python\n",
    "# Nomi di variabili validi:\n",
    "myvar = 'John'\n",
    "my_var = 'John'\n",
    "_my_var = 'John'\n",
    "myVar = 'John'\n",
    "MYVAR = 'John'\n",
    "myvar2 = 'John'\n",
    "\n",
    "# Validi, se la scelta è motivata, altrimenti da evitare:\n",
    "π = 3.1415  # caratteri non ASCII, ma può essere utile usare lettere e simboli matematici!\n",
    "私の変数 = 'John' # caratteri non ASCII, ma può essere utile a fini didattici\n",
    "più_vàr = 'John' # caratteri non ASCII\n",
    "\n",
    "# Validi, ma da evitare:\n",
    "max = 'John'    # built-in function: ora non hai più la funzione max()!\n",
    "set = 'John'    # built-in type: ora non hai più la classe per creare i set!\n",
    "сору = 'John'    # caratteri non ASCII, questa variabile è scritta in cirillico!\n",
    "# NOTA: L'uso del cirillico al posto del latino può causare inutili mal di testa.\n",
    "\n",
    "# Nomi non validi:\n",
    "2myvar = 'John'  # inizia per numero -> SyntaxError\n",
    "my-var = 'John'  # contiene un simbolo, e stai cercando di sottrarre my a var!\n",
    "my var = 'John'  # contiene uno spazio -> SyntaxError\n",
    "from = 'John'    # reserved keyword -> SyntaxError\n",
    "```"
   ]
  },
  {
   "cell_type": "markdown",
   "metadata": {
    "slideshow": {
     "slide_type": "subslide"
    },
    "tags": []
   },
   "source": [
    "### Stile e buone pratiche per i nomi\n",
    "\n",
    "Come sapete, ogni variabile ha un nome che la identifica in modo univoco tra le altre variabili. Dare un buon nome a una variabile può non essere così semplice come sembra."
   ]
  },
  {
   "cell_type": "markdown",
   "metadata": {
    "slideshow": {
     "slide_type": "notes"
    },
    "tags": []
   },
   "source": [
    "I programmatori esperti sono attenti a dare un nome alle loro variabili per garantire che i loro programmi siano facili da capire. È importante perché i programmatori passano più tempo a leggere codice che a scriverlo. Se le variabili hanno nomi sbagliati, anche il vostro stesso codice vi sembrerà poco chiaro nel giro di pochi mesi.\n",
    "\n",
    "Come scegliere dei buoni nomi per le variabili, in accordo con le convenzioni e le migliori pratiche stabilite dalla comunità Python?"
   ]
  },
  {
   "cell_type": "markdown",
   "metadata": {
    "slideshow": {
     "slide_type": "fragment"
    },
    "tags": []
   },
   "source": [
    "La PEP 8 fornisce alcune regole per i nomi delle variabili per aumentare la leggibilità del codice."
   ]
  },
  {
   "cell_type": "markdown",
   "metadata": {
    "slideshow": {
     "slide_type": "fragment"
    },
    "tags": []
   },
   "source": [
    "Usare le lettere minuscole e i trattini bassi per dividere le parole. Anche se si tratta di un'abbreviazione.\n",
    "\n",
    "```python\n",
    "http_response  # sì!\n",
    "httpresponse   # no\n",
    "myVariable     # no, il camelCase è un tipico di Java.\n",
    "```"
   ]
  },
  {
   "cell_type": "markdown",
   "metadata": {
    "slideshow": {
     "slide_type": "subslide"
    },
    "tags": []
   },
   "source": [
    "Abbiamo già visto che se si vuole definire una costante, è comune scrivere il suo nome in tutte lettere maiuscole e, ancora una volta, separare le parole con i trattini bassi."
   ]
  },
  {
   "cell_type": "markdown",
   "metadata": {
    "slideshow": {
     "slide_type": "notes"
    },
    "tags": []
   },
   "source": [
    "Normalmente, le costanti sono memorizzate in file speciali chiamati moduli. Anche se ne parleremo più avanti, ecco un piccolo esempio:"
   ]
  },
  {
   "cell_type": "markdown",
   "metadata": {},
   "source": [
    "```python\n",
    "VELOCITÀ_DI_LUCE = 299792458\n",
    "```"
   ]
  },
  {
   "cell_type": "markdown",
   "metadata": {
    "slideshow": {
     "slide_type": "fragment"
    },
    "tags": []
   },
   "source": [
    "Evitate nomi di una sola lettera che potrebbero essere facilmente confusi con i numeri, come `l` (lettera minuscola \"elle\"), `O` (lettera maiuscola \"o\") o `I` (lettera maiuscola \"i\").\n",
    "\n",
    "```python\n",
    "l = 1    # no, non si capisce se è una \"elle\" o una \"i\" maiuscola\n",
    "O = 100  # no, se si usa questo nome di variabile più avanti nel codice, può sembrare uno zero\n",
    "```"
   ]
  },
  {
   "cell_type": "markdown",
   "metadata": {
    "slideshow": {
     "slide_type": "subslide"
    },
    "tags": []
   },
   "source": [
    "Sebbene sia possibile utilizzare qualsiasi simbolo Unicode, la convenzione di stile del codice raccomanda di limitare i nomi delle variabili ai caratteri ASCII.\n",
    "\n",
    "```python\n",
    "# L'uso del cirillico al posto del latino può causare una serata di inutili mal di testa.\n",
    "# Queste sono variabili diverse!\n",
    "copy = \"Sono scritto in alfabeto latino\"  # sì!\n",
    "сору = \"E io sono scritto in cirillico!\"  # no\n",
    "```"
   ]
  },
  {
   "cell_type": "markdown",
   "metadata": {
    "slideshow": {
     "slide_type": "fragment"
    },
    "tags": []
   },
   "source": [
    "Se il nome della variabile più adatto fosse una parola chiave di Python, aggiungete un trattino basso alla fine.\n",
    "\n",
    "```python\n",
    "class_ = type(var)  # sì!\n",
    "klass = type(var)   # no\n",
    "```"
   ]
  },
  {
   "cell_type": "markdown",
   "metadata": {
    "slideshow": {
     "slide_type": "subslide"
    },
    "tags": []
   },
   "source": [
    "Esistono anche alcune buone pratiche comuni a molti linguaggi di programmazione.\n",
    "\n",
    "Scegliere un nome che abbia senso. Il nome della variabile deve essere leggibile e descrittivo e deve spiegare al lettore che tipo di valori saranno memorizzati in essa.\n",
    "\n",
    "```python\n",
    "score  # sì!\n",
    "s      # no\n",
    "\n",
    "count  # sì!\n",
    "n      # no\n",
    "```"
   ]
  },
  {
   "cell_type": "markdown",
   "metadata": {
    "slideshow": {
     "slide_type": "fragment"
    },
    "tags": []
   },
   "source": [
    "Non utilizzate nomi troppo generici. Cercate di scegliere un nome che spieghi il significato della variabile. Ma non fatelo troppo lungo. Di solito sono sufficienti 1-3 parole.\n",
    "\n",
    "```python\n",
    "http_response                  # sì!\n",
    "var1                           # no\n",
    "http_response_from_the_server  # no, facile dimenticare delle parole o l'ordine delle stesse\n",
    "```"
   ]
  },
  {
   "cell_type": "markdown",
   "metadata": {
    "slideshow": {
     "slide_type": "subslide"
    },
    "tags": []
   },
   "source": [
    "Se una parola è lunga, cercate di trovare la forma abbreviata più comune e attesa, per renderla più facile da indovinare in seguito.\n",
    "\n",
    "```python\n",
    "output_file_path  # sì!\n",
    "fpath             # no\n",
    "output_flpth      # no\n",
    "```"
   ]
  },
  {
   "cell_type": "markdown",
   "metadata": {
    "slideshow": {
     "slide_type": "fragment"
    },
    "tags": []
   },
   "source": [
    "Evitare i nomi dell'elenco dei tipi incorporati.\n",
    "\n",
    "```python\n",
    "str = 'Hello!'  # no, perché nel codice successivo non si può usare il tipo str, perché è sovrascritto.\n",
    "```"
   ]
  },
  {
   "cell_type": "markdown",
   "metadata": {
    "slideshow": {
     "slide_type": "subslide"
    },
    "tags": []
   },
   "source": [
    "## Riassumendo\n",
    "\n",
    "Tutte le convenzioni di denominazione e le buone pratiche sono facoltative, ma si raccomanda vivamente di seguirle."
   ]
  },
  {
   "cell_type": "markdown",
   "metadata": {
    "slideshow": {
     "slide_type": "notes"
    },
    "tags": []
   },
   "source": [
    "Come abbiamo detto all'inizio di questa sezione, esse rendono il codice più leggibile e autodescrittivo per voi e per gli altri programmatori."
   ]
  },
  {
   "cell_type": "markdown",
   "metadata": {
    "slideshow": {
     "slide_type": "fragment"
    },
    "tags": []
   },
   "source": [
    "Le pratiche più importanti:\n",
    "\n",
    "- Scegliere un nome che sia leggibile e descrittivo, ma non troppo prolisso (1-3 parole sono sufficienti).\n",
    "- Usare le lettere minuscole e separare le parole con i trattini bassi quando si definiscono le variabili.\n",
    "- Usare tutte le lettere maiuscole quando si definiscono le costanti.\n",
    "- Evitare nomi di una sola lettera che potrebbero essere facilmente confusi con numeri, come `l`, `O` o `I`.\n",
    "- Evitate nomi che si sovrappongono ai nomi degli oggetti incorporati. Se il nome più adatto è una keyword di Python, aggiungere un trattino basso alla fine (es. `max_`)."
   ]
  },
  {
   "cell_type": "markdown",
   "metadata": {
    "slideshow": {
     "slide_type": "fragment"
    },
    "tags": []
   },
   "source": [
    "Oltre a queste regole e raccomandazioni esistono anche diverse convenzioni sull'uso dei nomi in Python. Come al solito la [PEP 8](https://peps.python.org/pep-0008/#naming-conventions) è il nostro riferimento.\n",
    "\n",
    "Man mano vedremo le altre convenzioni, nel momento in cui ci serviranno."
   ]
  },
  {
   "cell_type": "markdown",
   "metadata": {
    "slideshow": {
     "slide_type": "subslide"
    },
    "tags": []
   },
   "source": [
    "## Literal\n",
    "\n",
    "In programmazione, un _**literal**_ è una notazione per rappresentare o definire un valore e il suo tipo senza dover ricorrere alla classe o funzione \"costruttore\"."
   ]
  },
  {
   "cell_type": "markdown",
   "metadata": {
    "slideshow": {
     "slide_type": "notes"
    },
    "tags": []
   },
   "source": [
    "\n",
    "Quasi tutti i linguaggi di programmazione hanno notazioni specifiche per i pricipali tipi di dato come numeri interi, numeri in virgola mobile e stringhe booleani ecc.; alcuni, come Python, hanno anche notazioni per elementi di tipo \"contenitore\" array, record e oggetti."
   ]
  },
  {
   "cell_type": "markdown",
   "metadata": {
    "slideshow": {
     "slide_type": "fragment"
    },
    "tags": []
   },
   "source": [
    "I *literal* sono di solito usati per inizializzare le variabili con valori prefissati:"
   ]
  },
  {
   "cell_type": "code",
   "execution_count": 40,
   "metadata": {
    "slideshow": {
     "slide_type": "fragment"
    },
    "tags": []
   },
   "outputs": [],
   "source": [
    "a = 1\n",
    "b = 'gatto'\n",
    "c = {\n",
    "    'animale': 'cane', \n",
    "    'qta': 3,\n",
    "    'storia': [20, 3, 54, 1],\n",
    "    'attivo': True,\n",
    "    'posizione': (3, 4.5, 8)\n",
    "}"
   ]
  },
  {
   "cell_type": "markdown",
   "metadata": {
    "slideshow": {
     "slide_type": "subslide"
    },
    "tags": []
   },
   "source": [
    "Una funzione anonima, in Python chiamata \"*lambda function*\", è un literal per il tipo/classe `function`."
   ]
  },
  {
   "cell_type": "code",
   "execution_count": 41,
   "metadata": {
    "slideshow": {
     "slide_type": "fragment"
    },
    "tags": []
   },
   "outputs": [
    {
     "name": "stdout",
     "output_type": "stream",
     "text": [
      "Questo è un print() chiamato da una funzione anonima\n",
      "<class 'function'>\n"
     ]
    }
   ],
   "source": [
    "mia_funzione = lambda: print('Questo è un print() chiamato da una funzione anonima')\n",
    "mia_funzione()\n",
    "print(type(mia_funzione))"
   ]
  },
  {
   "cell_type": "markdown",
   "metadata": {
    "slideshow": {
     "slide_type": "fragment"
    },
    "tags": []
   },
   "source": [
    "> NOTA: non tutti i tipi di dato possiedono una notazione literal. Per esempio il `set` vuoto o il `bytearray` non lo possiedono."
   ]
  },
  {
   "cell_type": "markdown",
   "metadata": {
    "slideshow": {
     "slide_type": "subslide"
    },
    "tags": []
   },
   "source": [
    "## Costanti in Python\n",
    "\n",
    "In programmazione una **costante** è una variabile speciale che *non deve* essere modificata."
   ]
  },
  {
   "cell_type": "markdown",
   "metadata": {
    "slideshow": {
     "slide_type": "fragment"
    },
    "tags": []
   },
   "source": [
    "In molti linguaggi di programmazione le costanti non possono essere modificate; è come se fossero in sola lettura."
   ]
  },
  {
   "cell_type": "markdown",
   "metadata": {
    "slideshow": {
     "slide_type": "fragment"
    },
    "tags": []
   },
   "source": [
    "In Python una costante è una variabile come tutte le altre ma che *non dovrebbe* essere modificata."
   ]
  },
  {
   "cell_type": "markdown",
   "metadata": {
    "slideshow": {
     "slide_type": "fragment"
    },
    "tags": []
   },
   "source": [
    "Dato che abbiamo detto che le variabili sono delle semplici etichette che puntano agli oggetti, in Python non esiste nativamente un tipo di variabile protetto dalla riscrittura: una variabile può sempre essere riassegnata."
   ]
  },
  {
   "cell_type": "markdown",
   "metadata": {
    "slideshow": {
     "slide_type": "fragment"
    },
    "tags": []
   },
   "source": [
    "Per evitare di sovrascrivere (e quindi riassegnare) le costanti, la [PEP-8 ci suggerisce](https://peps.python.org/pep-0008/#constants) di usare una convenzione: le costanti devono essere scritte tutte in stampatello maiuscolo."
   ]
  },
  {
   "cell_type": "markdown",
   "metadata": {
    "slideshow": {
     "slide_type": "fragment"
    },
    "tags": []
   },
   "source": [
    "```python\n",
    "PI = 3.141592\n",
    "COLORE = 'red'\n",
    "```"
   ]
  },
  {
   "cell_type": "markdown",
   "metadata": {
    "slideshow": {
     "slide_type": "fragment"
    },
    "tags": []
   },
   "source": [
    "Se tutti seguiamo questa convenzione, le costanti saranno sempre ben distinguibili dalle normali variabili e faremo attenzione a non sovrascriverle."
   ]
  },
  {
   "cell_type": "markdown",
   "metadata": {
    "slideshow": {
     "slide_type": "subslide"
    },
    "tags": []
   },
   "source": [
    "### Frozen object\n",
    "\n",
    "Non è possibile proteggere da scrittura una variabile, ma l'oggetto a cui si riferisce sì."
   ]
  },
  {
   "cell_type": "markdown",
   "metadata": {
    "slideshow": {
     "slide_type": "fragment"
    },
    "tags": []
   },
   "source": [
    "Alcuni tipi di dato sono già per loro natura non mutabili: `int`, `float`, `str`, `tuple`..."
   ]
  },
  {
   "cell_type": "markdown",
   "metadata": {
    "slideshow": {
     "slide_type": "fragment"
    },
    "tags": []
   },
   "source": [
    "Se invece vogliamo proteggere un oggetto più complesso, ci sono vari modi per farlo. In generale possiamo parlare di *frozen object* o *frozen variable*."
   ]
  },
  {
   "cell_type": "markdown",
   "metadata": {
    "slideshow": {
     "slide_type": "fragment"
    },
    "tags": []
   },
   "source": [
    "[Questo è un interessante articolo](https://baites.github.io/computer-science/idioms/2019/08/16/constant-and-frozen-variable-in-python.html) che tratta questo argomento e mostra le principali strategie."
   ]
  },
  {
   "cell_type": "markdown",
   "metadata": {
    "slideshow": {
     "slide_type": "slide"
    },
    "tags": []
   },
   "source": [
    "# Espressioni e operatori aritmetiche"
   ]
  },
  {
   "cell_type": "markdown",
   "metadata": {
    "slideshow": {
     "slide_type": "fragment"
    },
    "tags": []
   },
   "source": [
    "Nella vita reale eseguiamo spesso operazioni aritmetiche. Ci aiutano a calcolare il resto di un acquisto, a determinare l'area di una stanza, a contare il numero di persone in fila e così via. Le stesse operazioni vengono utilizzate nei programmi."
   ]
  },
  {
   "cell_type": "markdown",
   "metadata": {
    "slideshow": {
     "slide_type": "fragment"
    },
    "tags": []
   },
   "source": [
    "Le espressioni sono una combinazione di numeri o altri tipi di dato e operatori che calcolano un valore."
   ]
  },
  {
   "cell_type": "markdown",
   "metadata": {
    "slideshow": {
     "slide_type": "fragment"
    },
    "tags": []
   },
   "source": [
    "Inizialmente vediamo i principali *operatori arirmetici*."
   ]
  },
  {
   "cell_type": "markdown",
   "metadata": {
    "slideshow": {
     "slide_type": "subslide"
    },
    "tags": []
   },
   "source": [
    "Quelli che seguono sono tutti *operatori binari*, ovvero che richiedono due *operandi*, cioè i valori che precedono e seguono l'operatore."
   ]
  },
  {
   "cell_type": "markdown",
   "metadata": {},
   "source": [
    "| Simbolo | Esempio    | Operazione                          |\n",
    "|:-------:|:----------:|-------------------------------------|\n",
    "| `+`     | `2 + 4`    | Addizione/Concatenazione            |\n",
    "| `-`     | `2 - 2`    | Sottrazione                         |\n",
    "| `*`     | `5 * 3`    | Moltiplicazione/Ripetizione         |\n",
    "| `/`     | `10 / 3`   | Divisione                           |\n",
    "| `**`    | `2 ** 3`   | Elevamento a potenza                |\n",
    "| `//`    | `10 // 3`  | Divisione intera (*floor division*) |\n",
    "| `%`     | `10 % 3`   | Modulo (resto della divisione)      |"
   ]
  },
  {
   "cell_type": "markdown",
   "metadata": {
    "slideshow": {
     "slide_type": "fragment"
    },
    "tags": []
   },
   "source": [
    "Gli _**operatori**_ sono simboli speciali che indicano l'operazione da eseguire.\n",
    "\n",
    "Gli _**operandi**_ sono i valori su cui viene eseguita l'operazione."
   ]
  },
  {
   "cell_type": "markdown",
   "metadata": {
    "slideshow": {
     "slide_type": "fragment"
    },
    "tags": []
   },
   "source": [
    "Consideriamo queso esempio: `30 + 12`. Qui `+` è un operatore e `30` e `12` sono gli operandi."
   ]
  },
  {
   "cell_type": "markdown",
   "metadata": {
    "slideshow": {
     "slide_type": "subslide"
    },
    "tags": []
   },
   "source": [
    "## Divisione"
   ]
  },
  {
   "cell_type": "markdown",
   "metadata": {
    "slideshow": {
     "slide_type": "fragment"
    },
    "tags": []
   },
   "source": [
    "Esiste una differenza tra la divisione `/` e la divisione intera `//`. La prima produce sempre un numero `float` (come `7.7`), mentre la seconda produce un valore `int` (come `7`) ignorando la parte decimale se entrambi gli operandi sono `int`."
   ]
  },
  {
   "cell_type": "markdown",
   "metadata": {
    "slideshow": {
     "slide_type": "fragment"
    },
    "tags": []
   },
   "source": [
    "Per accedere al resto della divisione intera, possiamo usare l'operatore modulo `%`."
   ]
  },
  {
   "cell_type": "code",
   "execution_count": 42,
   "metadata": {
    "slideshow": {
     "slide_type": "fragment"
    },
    "tags": []
   },
   "outputs": [
    {
     "name": "stdout",
     "output_type": "stream",
     "text": [
      "divisione: 3.3333333333333335\n",
      "divisione intera: 3\n",
      "resto della divisione: 1\n"
     ]
    }
   ],
   "source": [
    "print('divisione:', 10 / 3)\n",
    "print('divisione intera:', 10 // 3)\n",
    "print('resto della divisione:', 10 % 3)"
   ]
  },
  {
   "cell_type": "markdown",
   "metadata": {
    "slideshow": {
     "slide_type": "subslide"
    },
    "tags": []
   },
   "source": [
    "\n",
    "In alternativa possiamo usare la funzione built-in [`divmod()`](https://docs.python.org/3/library/functions.html#divmod) che calcola `//` e `%` in una sola operazione.\n"
   ]
  },
  {
   "cell_type": "code",
   "execution_count": 43,
   "metadata": {
    "slideshow": {
     "slide_type": "fragment"
    },
    "tags": []
   },
   "outputs": [
    {
     "data": {
      "text/plain": [
       "(3, 1)"
      ]
     },
     "execution_count": 43,
     "metadata": {},
     "output_type": "execute_result"
    }
   ],
   "source": [
    "divmod(10,3)"
   ]
  },
  {
   "cell_type": "markdown",
   "metadata": {
    "slideshow": {
     "slide_type": "subslide"
    },
    "tags": []
   },
   "source": [
    "Se poi proviamo a eseguire una divisione per zero (`0`), otterremo un errore `ZeroDivisionError`."
   ]
  },
  {
   "cell_type": "code",
   "execution_count": 44,
   "metadata": {
    "slideshow": {
     "slide_type": "fragment"
    },
    "tags": [
     "raises-exception"
    ]
   },
   "outputs": [
    {
     "ename": "ZeroDivisionError",
     "evalue": "division by zero",
     "output_type": "error",
     "traceback": [
      "\u001b[0;31m---------------------------------------------------------------------------\u001b[0m",
      "\u001b[0;31mZeroDivisionError\u001b[0m                         Traceback (most recent call last)",
      "Cell \u001b[0;32mIn[44], line 1\u001b[0m\n\u001b[0;32m----> 1\u001b[0m \u001b[38;5;241;43m7\u001b[39;49m\u001b[43m \u001b[49m\u001b[38;5;241;43m/\u001b[39;49m\u001b[43m \u001b[49m\u001b[38;5;241;43m0\u001b[39;49m\n",
      "\u001b[0;31mZeroDivisionError\u001b[0m: division by zero"
     ]
    }
   ],
   "source": [
    "7 / 0"
   ]
  },
  {
   "cell_type": "markdown",
   "metadata": {
    "slideshow": {
     "slide_type": "subslide"
    },
    "tags": []
   },
   "source": [
    "### Trick: verifica numeri pari e dispari\n",
    "\n",
    "L'operatore modulo (resto della divisione) può essere utile quando si vuole verificare se un numero è pari o dispari. Applicato a `2`, restituisce `1` per i numeri dispari e `0` per quelli pari."
   ]
  },
  {
   "cell_type": "code",
   "execution_count": 45,
   "metadata": {
    "slideshow": {
     "slide_type": "fragment"
    },
    "tags": []
   },
   "outputs": [
    {
     "name": "stdout",
     "output_type": "stream",
     "text": [
      "1\n",
      "0\n"
     ]
    }
   ],
   "source": [
    "print(7 % 2)  # 1 -> 7 è un numero dispari\n",
    "print(8 % 2)  # 0 -> 8 è un numero pari"
   ]
  },
  {
   "cell_type": "markdown",
   "metadata": {
    "slideshow": {
     "slide_type": "subslide"
    },
    "tags": []
   },
   "source": [
    "## Radice\n",
    "\n",
    "Pur non essendoci un esplicito \"operatore di radice\", ricordiamo che le radici ennesime possono essere calcolate elevando il radicando a una potenza il cui esponenete è l'inverso dell'indice della radice."
   ]
  },
  {
   "cell_type": "code",
   "execution_count": 46,
   "metadata": {
    "slideshow": {
     "slide_type": "fragment"
    },
    "tags": []
   },
   "outputs": [
    {
     "name": "stdout",
     "output_type": "stream",
     "text": [
      "2.0\n",
      "2.0\n",
      "2.0\n"
     ]
    }
   ],
   "source": [
    "# Radice quadrata di 4\n",
    "a = 4 ** (1/2)\n",
    "\n",
    "# Radice cubica di 8\n",
    "b = 8 ** (1/3)\n",
    "\n",
    "# Radice con indice 7 di 128\n",
    "c = 128 ** (1/7)\n",
    "\n",
    "print(a, b, c, sep='\\n')"
   ]
  },
  {
   "cell_type": "markdown",
   "metadata": {
    "slideshow": {
     "slide_type": "subslide"
    },
    "tags": []
   },
   "source": [
    "## Operatori unari (`+` e `-`)\n",
    "\n",
    "L'operatore meno `-` ha una forma *unaria* che nega il valore o l'espressione. Un numero positivo diventa negativo e un numero negativo diventa positivo."
   ]
  },
  {
   "cell_type": "code",
   "execution_count": 47,
   "metadata": {
    "slideshow": {
     "slide_type": "fragment"
    },
    "tags": []
   },
   "outputs": [
    {
     "name": "stdout",
     "output_type": "stream",
     "text": [
      "2\n",
      "-2\n"
     ]
    }
   ],
   "source": [
    "a = 2\n",
    "print(a)\n",
    "print(-a)"
   ]
  },
  {
   "cell_type": "markdown",
   "metadata": {
    "slideshow": {
     "slide_type": "subslide"
    },
    "tags": []
   },
   "source": [
    "## Espressioni complesse e priorità delle operazioni"
   ]
  },
  {
   "cell_type": "markdown",
   "metadata": {
    "slideshow": {
     "slide_type": "fragment"
    },
    "tags": []
   },
   "source": [
    "Le operazioni aritmetiche possono essere combinate per scrivere espressioni più complesse:"
   ]
  },
  {
   "cell_type": "code",
   "execution_count": 48,
   "metadata": {},
   "outputs": [
    {
     "data": {
      "text/plain": [
       "6"
      ]
     },
     "execution_count": 48,
     "metadata": {},
     "output_type": "execute_result"
    }
   ],
   "source": [
    "2 + 2 * 2"
   ]
  },
  {
   "cell_type": "markdown",
   "metadata": {
    "slideshow": {
     "slide_type": "fragment"
    },
    "tags": []
   },
   "source": [
    "L'ordine di calcolo con cui le varie parti dell'espressione vengono valutate coincide con le regole classiche per le operazioni aritmetiche."
   ]
  },
  {
   "cell_type": "markdown",
   "metadata": {
    "slideshow": {
     "slide_type": "fragment"
    },
    "tags": []
   },
   "source": [
    "Nell'esempio precedente la moltiplicazione ha un livello di priorità più alto rispetto all'addizione e alla sottrazione, quindi l'operazione `2 * 2` viene calcolata per prima.\n",
    "\n",
    "In altre parole l'operatore `*` ha una precedenza più alta dell'operatore `+`. "
   ]
  },
  {
   "cell_type": "markdown",
   "metadata": {
    "slideshow": {
     "slide_type": "subslide"
    },
    "tags": []
   },
   "source": [
    "Per specificare un diverso ordine di esecuzione, si possono usare le parentesi tonde.\n",
    "\n",
    "Così facendo, saranno calcolate prima le espressioni racchiuse tra parentesi. Nel caso di `(2 + 2) * 2`, Python applica prima l'operatore `+` e successivamente `*`, ottenendo `8`."
   ]
  },
  {
   "cell_type": "code",
   "execution_count": 49,
   "metadata": {
    "slideshow": {
     "slide_type": "fragment"
    },
    "tags": []
   },
   "outputs": [
    {
     "data": {
      "text/plain": [
       "8"
      ]
     },
     "execution_count": 49,
     "metadata": {},
     "output_type": "execute_result"
    }
   ],
   "source": [
    "(2 + 2) * 2"
   ]
  },
  {
   "cell_type": "markdown",
   "metadata": {
    "slideshow": {
     "slide_type": "fragment"
    },
    "tags": []
   },
   "source": [
    "Come in aritmetica, le parentesi possono essere annidate l'una nell'altra, tuttavia possiamo usare solo le parentesi tonde."
   ]
  },
  {
   "cell_type": "code",
   "execution_count": 50,
   "metadata": {
    "slideshow": {
     "slide_type": "fragment"
    },
    "tags": []
   },
   "outputs": [
    {
     "data": {
      "text/plain": [
       "6.25"
      ]
     },
     "execution_count": 50,
     "metadata": {},
     "output_type": "execute_result"
    }
   ],
   "source": [
    "(2 + 5) + ((3 - 6) / 4)"
   ]
  },
  {
   "cell_type": "markdown",
   "metadata": {
    "slideshow": {
     "slide_type": "fragment"
    },
    "tags": []
   },
   "source": [
    "Se poi le parentesi non fossero necessarie, possiamo comunque utilizzarle per rendere più chiaro ed esplicito l'ordine di calcolo."
   ]
  },
  {
   "cell_type": "markdown",
   "metadata": {
    "slideshow": {
     "slide_type": "subslide"
    },
    "tags": []
   },
   "source": [
    "Esercizio: eseguire le seguenti operazioni aritmetiche, specificando l'ordine di esecuzione tra le operazioni:\n",
    "- `11*20-100`\n",
    "- `10+2*5`\n",
    "- `2*5+10`\n",
    "- `(20+10)*5`"
   ]
  },
  {
   "cell_type": "code",
   "execution_count": 51,
   "metadata": {},
   "outputs": [
    {
     "name": "stdout",
     "output_type": "stream",
     "text": [
      "120\n",
      "-880\n"
     ]
    }
   ],
   "source": [
    "print(11*20-100)\n",
    "print(11*(20-100))"
   ]
  },
  {
   "cell_type": "markdown",
   "metadata": {
    "slideshow": {
     "slide_type": "subslide"
    },
    "tags": []
   },
   "source": [
    "### Priorità\n",
    "\n",
    "In sintesi, ecco una lista con le priorità per tutte le operazioni considerate:\n",
    "\n",
    "1. parentesi\n",
    "2. potenza\n",
    "3. meno unario\n",
    "4. moltiplicazione, divisione e resto\n",
    "5. addizione e sottrazione"
   ]
  },
  {
   "cell_type": "markdown",
   "metadata": {
    "slideshow": {
     "slide_type": "fragment"
    },
    "tags": []
   },
   "source": [
    "Come abbiamo visto, il meno unario cambia il segno del suo argomento."
   ]
  },
  {
   "cell_type": "markdown",
   "metadata": {
    "slideshow": {
     "slide_type": "subslide"
    },
    "tags": []
   },
   "source": [
    "Alcune operazioni hanno la stessa priorità:"
   ]
  },
  {
   "cell_type": "code",
   "execution_count": 52,
   "metadata": {},
   "outputs": [
    {
     "data": {
      "text/plain": [
       "20.0"
      ]
     },
     "execution_count": 52,
     "metadata": {},
     "output_type": "execute_result"
    }
   ],
   "source": [
    "8 / 2 * 5"
   ]
  },
  {
   "cell_type": "markdown",
   "metadata": {},
   "source": [
    "Tuttavia l'espressione precedente può sembrare ambigua poiché ha soluzioni alternative a seconda dell'ordine delle operazioni: `20.0` o `0.8`."
   ]
  },
  {
   "cell_type": "markdown",
   "metadata": {
    "slideshow": {
     "slide_type": "fragment"
    },
    "tags": []
   },
   "source": [
    "In questi casi, Python segue la convenzione matematica delle operazioni <u>**da sinistra a destra**</u>. È una cosa buona da sapere, quindi cercate di tenerla a mente!"
   ]
  },
  {
   "cell_type": "markdown",
   "metadata": {
    "slideshow": {
     "slide_type": "fragment"
    },
    "tags": []
   },
   "source": [
    "Quindi se vogliamo cambiare l'ordine di calcolo, dobbiamo esplicitarlo con le parentesi:"
   ]
  },
  {
   "cell_type": "code",
   "execution_count": 53,
   "metadata": {},
   "outputs": [
    {
     "data": {
      "text/plain": [
       "0.8"
      ]
     },
     "execution_count": 53,
     "metadata": {},
     "output_type": "execute_result"
    }
   ],
   "source": [
    "8 / (2 * 5)"
   ]
  },
  {
   "cell_type": "markdown",
   "metadata": {
    "slideshow": {
     "slide_type": "subslide"
    },
    "tags": []
   },
   "source": [
    "### Cosa dice la PEP 8?\n",
    "\n",
    "Dato che la leggibilità è importante la guida di stile ci dà alcuni suggerimenti utili."
   ]
  },
  {
   "cell_type": "markdown",
   "metadata": {
    "slideshow": {
     "slide_type": "fragment"
    },
    "tags": []
   },
   "source": [
    "In caso di operatori binari (quelli che prevedono due operandi), ricodiamo di lasciare uno e un solo spazio vuoto tra  gli operandi e l'operatore:\n",
    "\n",
    "```python\n",
    "number=30+12      # No!\n",
    "\n",
    "number = 30 + 12  # Questo va meglio.\n",
    "```"
   ]
  },
  {
   "cell_type": "markdown",
   "metadata": {
    "slideshow": {
     "slide_type": "subslide"
    },
    "tags": []
   },
   "source": [
    "Consideriamo queste espressioni in cui ci sono operatori con priorità diverse:\n",
    "\n",
    "```python\n",
    "x = x * 2 - 1\n",
    "hypot2 = x * x + y * y\n",
    "c = (a + b) * (a - b)\n",
    "```\n"
   ]
  },
  {
   "cell_type": "markdown",
   "metadata": {
    "slideshow": {
     "slide_type": "fragment"
    },
    "tags": []
   },
   "source": [
    "La PEP 8 suggerisce che scrivendoli in questa maniera si facilita la lettura:\n",
    "\n",
    "```python\n",
    "x = x*2 - 1\n",
    "hypot2 = x*x + y*y\n",
    "c = (a+b) * (a-b)\n",
    "```"
   ]
  },
  {
   "cell_type": "markdown",
   "metadata": {
    "slideshow": {
     "slide_type": "subslide"
    },
    "tags": []
   },
   "source": [
    "Inoltre, a volte è necessario andare a capo dopo gli operatori binari. Ma questo può compromettere la leggibilità in due modi:\n",
    "\n",
    "- gli operatori non sono incolonnati;\n",
    "- ogni operatore è lontano dal suo operando ed è sulla riga precedente."
   ]
  },
  {
   "cell_type": "markdown",
   "metadata": {
    "slideshow": {
     "slide_type": "fragment"
    },
    "tags": []
   },
   "source": [
    "```python\n",
    "# No! Gli operatori sono lontani dai loro operandi.\n",
    "reddito = (salaro_lordo +\n",
    "          interessi_imponibile +\n",
    "          (dividendi - dividendi_qualificati) -\n",
    "          detrazione_irpef -\n",
    "          interessi_su_prestiti_categoria)\n",
    "```"
   ]
  },
  {
   "cell_type": "markdown",
   "metadata": {
    "slideshow": {
     "slide_type": "fragment"
    },
    "tags": []
   },
   "source": [
    "I matematici e i loro editori preferiscono seguire invece la convenzione opposta per risolvere il problema della leggibilità:"
   ]
  },
  {
   "cell_type": "markdown",
   "metadata": {
    "slideshow": {
     "slide_type": "fragment"
    },
    "tags": []
   },
   "source": [
    "```python\n",
    "# Sì! È tutto visivamente più chiaro.\n",
    "reddito = (salaro_lordo\n",
    "           + interessi_imponibile\n",
    "           + (dividendi - dividendi_qualificati)\n",
    "           - detrazione_irpef\n",
    "           - interessi_su_prestiti_categoria)\n",
    "```"
   ]
  },
  {
   "cell_type": "markdown",
   "metadata": {
    "slideshow": {
     "slide_type": "notes"
    },
    "tags": []
   },
   "source": [
    "Python comunque consente di andare a capo indifferentemente prima o dopo di un operatore binario. Se fate di testa vostra però, cercate di mantenere una coerenza di stile."
   ]
  },
  {
   "cell_type": "markdown",
   "metadata": {
    "slideshow": {
     "slide_type": "subslide"
    },
    "tags": []
   },
   "source": [
    "## Operatori di assegnazione\n",
    "\n",
    "Quando si usa il segno di uguale `=`, si assegna un valore (un oggetto) a una variabile (identificatore). Per questo motivo, `=` viene chiamato operatore di assegnazione.\n",
    "\n",
    "```python\n",
    "a = 1\n",
    "b = 2\n",
    "```"
   ]
  },
  {
   "cell_type": "markdown",
   "metadata": {
    "slideshow": {
     "slide_type": "fragment"
    },
    "tags": []
   },
   "source": [
    "Abbiamo poi imparato a scrivere espressioni matematiche come `((a+b) * (a-b)) / 3`."
   ]
  },
  {
   "cell_type": "markdown",
   "metadata": {
    "slideshow": {
     "slide_type": "fragment"
    },
    "tags": []
   },
   "source": [
    "Mettendo insieme le due cose è evidente che possiamo scrivere istruzioni come questa:\n",
    "\n",
    "```python\n",
    "c = ((a+b) * (a-b)) / 3\n",
    "```"
   ]
  },
  {
   "cell_type": "markdown",
   "metadata": {
    "slideshow": {
     "slide_type": "subslide"
    },
    "tags": []
   },
   "source": [
    "### Augmented assignment\n",
    "\n",
    "Se poi dobbiamo modificare il valore di una variabile già esistente sulla base del suo valore precedente, possiamo evitare alcune ripetizioni."
   ]
  },
  {
   "cell_type": "markdown",
   "metadata": {
    "slideshow": {
     "slide_type": "fragment"
    },
    "tags": []
   },
   "source": [
    "Come in altri linguaggi, anche Python permette di eseguire delle operazione *in-place*, ovvero \"sul posto\" tramite gli operatori di [*augmented assignment*](https://docs.python.org/3/reference/simple_stmts.html#augmented-assignment-statements)."
   ]
  },
  {
   "cell_type": "markdown",
   "metadata": {
    "slideshow": {
     "slide_type": "fragment"
    },
    "tags": []
   },
   "source": [
    "Questo codice:\n",
    "\n",
    "```python\n",
    "x = 0\n",
    "x = x + 1\n",
    "```"
   ]
  },
  {
   "cell_type": "markdown",
   "metadata": {
    "slideshow": {
     "slide_type": "fragment"
    },
    "tags": []
   },
   "source": [
    "Possiamo riscriverlo così:\n",
    "\n",
    "```python\n",
    "x = 0\n",
    "x += 1\n",
    "```"
   ]
  },
  {
   "cell_type": "markdown",
   "metadata": {
    "slideshow": {
     "slide_type": "fragment"
    },
    "tags": []
   },
   "source": [
    "> ATTENZIONE: la variabile deve essere inizializzata prima di eseguire l'auto-incremento, altrimenti sarà sollevato un `NameError`."
   ]
  },
  {
   "cell_type": "markdown",
   "metadata": {
    "slideshow": {
     "slide_type": "subslide"
    },
    "tags": []
   },
   "source": [
    "Per ciascuna operazione aritmetica c'è un rispettivo operatore di augmented assignment.\n",
    "\n",
    "| Operatore |\n",
    "|:---------:|\n",
    "| `+=`      |\n",
    "| `-=`      |\n",
    "| `*=`      |\n",
    "| `**=`     |\n",
    "| `/=`      |\n",
    "| `//=`     |\n",
    "| `%=`      |"
   ]
  },
  {
   "cell_type": "markdown",
   "metadata": {
    "slideshow": {
     "slide_type": "notes"
    },
    "tags": []
   },
   "source": [
    "In pratica, un \"augmented assignment operator\" è la combinazione, in un'unica istruzione, di un operatore binario, es. `+`, e quello di assegnazione `=`."
   ]
  },
  {
   "cell_type": "markdown",
   "metadata": {
    "slideshow": {
     "slide_type": "fragment"
    },
    "tags": []
   },
   "source": [
    "[In molti altri linguaggi](https://en.wikipedia.org/wiki/Augmented_assignment) sono chiamati \"*compound assignment operators*\" (operatori di assegnazione composti), perché eseguono un'operazione aritmetica e un'assegnazione in un unico passaggio. O anche \"*in-place assignment operators*\"."
   ]
  },
  {
   "cell_type": "markdown",
   "metadata": {
    "slideshow": {
     "slide_type": "subslide"
    },
    "tags": []
   },
   "source": [
    "## Esercizio di ricapitolazione\n",
    "\n",
    "Proviamo ora a scrivere un programma che prenda un singolo numero intero `n` ed esegua le seguenti operazioni nell'ordine indicato:\n",
    "\n",
    "1. aggiunge `n` a se stesso;\n",
    "2. moltiplica il risultato per `n`;\n",
    "3. sottrae `n` dal risultato;\n",
    "4. divide esattamente il risultato per `n` (cioè deve eseguire una divisione intera);\n",
    "5. stampa il risultato della divisione."
   ]
  },
  {
   "cell_type": "markdown",
   "metadata": {
    "slideshow": {
     "slide_type": "fragment"
    },
    "tags": []
   },
   "source": [
    "Se provassimo ad eseguire i calcoli manualmente nella shell di Python, con `n = 8` scriveremmo questo:\n",
    "\n",
    "```python\n",
    "8 + 8  # -> 16\n",
    "16 * 8  # -> 128\n",
    "128 - 8  # -> 120\n",
    "120 // 8  # -> 15\n",
    "print(15)\n",
    "```"
   ]
  },
  {
   "cell_type": "markdown",
   "metadata": {
    "slideshow": {
     "slide_type": "fragment"
    },
    "tags": []
   },
   "source": [
    "Potremmo anche annidare le quattro espressioni qua sopra con delle parentesi, ottenendo un'unica espressione:\n",
    "\n",
    "```python\n",
    "(((8 + 8) * 8) - 8) // 8  # -> 15\n",
    "print(15)\n",
    "```"
   ]
  },
  {
   "cell_type": "markdown",
   "metadata": {
    "slideshow": {
     "slide_type": "subslide"
    },
    "tags": []
   },
   "source": [
    "NOTE:\n",
    "- La variabile `n` è già definita e deve essere inserita dall'utente. La funzione `input()` fa proprio questo, quindi non toccare la prima riga.\n",
    "- Scrivi sotto al commento.\n",
    "- Eseguendo la cella di codice con il pulsante \"Execute Cell\", ti apparirà un campo di input in alto nella finestra di Visual Studio Code, dove di solito appare la Command Palette. Inserisci un numero, ad esempio `8` così verifichi che il risultato sia proprio `15`, e poi premi il tasto Invio."
   ]
  },
  {
   "cell_type": "code",
   "execution_count": 54,
   "metadata": {
    "slideshow": {
     "slide_type": "fragment"
    },
    "tags": []
   },
   "outputs": [
    {
     "name": "stdout",
     "output_type": "stream",
     "text": [
      "Inserisci un numero intero: 8\n"
     ]
    }
   ],
   "source": [
    "n = int(input('Inserisci un numero intero:'))\n",
    "# Scrivi qua sotto il programma"
   ]
  },
  {
   "cell_type": "markdown",
   "metadata": {
    "slideshow": {
     "slide_type": "subslide"
    },
    "tags": []
   },
   "source": [
    "### Soluzione\n",
    "Non andare avanti se non hai tentato l'esercizio!"
   ]
  },
  {
   "cell_type": "code",
   "execution_count": 55,
   "metadata": {
    "slideshow": {
     "slide_type": "fragment"
    },
    "tags": []
   },
   "outputs": [
    {
     "name": "stdout",
     "output_type": "stream",
     "text": [
      "Inserisci un numero intero: 8\n",
      "15\n"
     ]
    }
   ],
   "source": [
    "n = int(input('Inserisci un numero intero:'))\n",
    "# Scrivi qua sotto il programma\n",
    "r = n + n\n",
    "r = r * n\n",
    "r = r - n\n",
    "r = r // n\n",
    "print(r)"
   ]
  },
  {
   "cell_type": "markdown",
   "metadata": {
    "slideshow": {
     "slide_type": "fragment"
    },
    "tags": []
   },
   "source": [
    "Questa è un'ottima occasione per utilizzare gli speciali operatori di *augmented assignment*:"
   ]
  },
  {
   "cell_type": "code",
   "execution_count": 56,
   "metadata": {
    "tags": []
   },
   "outputs": [
    {
     "name": "stdout",
     "output_type": "stream",
     "text": [
      "Inserisci un numero intero: 8\n",
      "15\n"
     ]
    }
   ],
   "source": [
    "n = int(input('Inserisci un numero intero:'))\n",
    "# Scrivi qua sotto il programma\n",
    "r = n + n\n",
    "r *= n\n",
    "r -= n\n",
    "r //= n\n",
    "print(r)"
   ]
  },
  {
   "cell_type": "markdown",
   "metadata": {
    "slideshow": {
     "slide_type": "subslide"
    },
    "tags": []
   },
   "source": [
    "Oppure potremmo scrivere tutti i passaggi come una serie di espressioni annidate usando le parentesi, ottenendo così un'unica istruzione:"
   ]
  },
  {
   "cell_type": "code",
   "execution_count": 57,
   "metadata": {
    "tags": []
   },
   "outputs": [
    {
     "name": "stdout",
     "output_type": "stream",
     "text": [
      "Inserisci un numero intero: 8\n",
      "15\n"
     ]
    }
   ],
   "source": [
    "n = int(input('Inserisci un numero intero:'))\n",
    "# Scrivi qua sotto il programma\n",
    "r = (((n + n) * n) - n) // n\n",
    "print(r)"
   ]
  },
  {
   "cell_type": "markdown",
   "metadata": {
    "slideshow": {
     "slide_type": "fragment"
    },
    "tags": []
   },
   "source": [
    "Se poi qualcuno volesse spingersi oltre e provare a ottimizzare l'algoritmo, potremmo applicare le classiche regole di semplificazione aritmetica:\n",
    "\n",
    "$$\\require{cancel}$$ $$ \\frac{(n+n)n-n}{n} \\quad = \\quad \\frac{(n^2+n^2)-n}{n} \\quad = \\quad \\frac{2n^2-n}{n} \\quad = \\quad \\frac{2n\\cancel{^2}}{\\cancel{n}} - \\frac{\\cancel{n}}{\\cancel{n}} \\quad = \\quad 2n-1 $$"
   ]
  },
  {
   "cell_type": "markdown",
   "metadata": {
    "slideshow": {
     "slide_type": "fragment"
    }
   },
   "source": [
    "> NOTA: Qua, `//` la trattiamo come una divione normale, ma data la situazione è ininfluente."
   ]
  },
  {
   "cell_type": "code",
   "execution_count": 58,
   "metadata": {
    "slideshow": {
     "slide_type": "subslide"
    },
    "tags": []
   },
   "outputs": [
    {
     "name": "stdout",
     "output_type": "stream",
     "text": [
      "Inserisci un numero intero: 8\n",
      "15\n"
     ]
    }
   ],
   "source": [
    "n = int(input('Inserisci un numero intero:'))\n",
    "# Scrivi qua sotto il programma\n",
    "print(2 * n - 1)"
   ]
  },
  {
   "cell_type": "markdown",
   "metadata": {
    "tags": []
   },
   "source": [
    "In questo modo, con un minimo di analisi, semplifichiamo molto la vita a Python e otterremo un codice più efficiente."
   ]
  },
  {
   "cell_type": "markdown",
   "metadata": {
    "slideshow": {
     "slide_type": "slide"
    },
    "tags": []
   },
   "source": [
    "# Espressioni e operatori di confronto"
   ]
  },
  {
   "cell_type": "markdown",
   "metadata": {},
   "source": [
    "Le operazioni di confronto o di relazione consentono di confrontare due valori e di determinare la relazione tra di essi. In Python esistono dieci operatori di confronto:"
   ]
  },
  {
   "cell_type": "markdown",
   "metadata": {
    "slideshow": {
     "slide_type": "fragment"
    },
    "tags": []
   },
   "source": [
    "| Operatore | Significato                             |\n",
    "|:---------:|-----------------------------------------|\n",
    "| `<`       | è minore di                             |\n",
    "| `<=`      | è minore o uguale a                     |\n",
    "| `>`       | è maggiore di                           |\n",
    "| `>=`      | è maggiore o uguale a                   |\n",
    "| `==`      | è uguale a                              |\n",
    "| `!=`      | non è uguale a                          |\n",
    "| `is`      | è (identità di oggetto)                 |\n",
    "| `is not`  | non è (identità di oggetto negata)      |\n",
    "| `in`      | è elemento di (appartenenza)            |\n",
    "| `not in`  | non è elemento di (appartenenza negata) |"
   ]
  },
  {
   "cell_type": "markdown",
   "metadata": {
    "slideshow": {
     "slide_type": "fragment"
    },
    "tags": []
   },
   "source": [
    "Il risultato dell'applicazione di questi operatori è sempre un `bool`."
   ]
  },
  {
   "cell_type": "markdown",
   "metadata": {
    "slideshow": {
     "slide_type": "subslide"
    },
    "tags": []
   },
   "source": [
    "### Confronto aritmetico\n",
    "|Espressione|Descrizione|\n",
    "|-----------|-----------|\n",
    "|`x < y`| `True` se e solo se x < y|\n",
    "|`x > y`| `True` se e solo se x > y|\n",
    "|`x <= y`| `True` se e solo se x $\\leq$ y|\n",
    "|`x >= y`| `True` se e solo se x $\\geq$ y|"
   ]
  },
  {
   "cell_type": "markdown",
   "metadata": {
    "slideshow": {
     "slide_type": "subslide"
    },
    "tags": []
   },
   "source": [
    "### Confronto di uguaglianza (generico)\n",
    "|Espressione|Descrizione|\n",
    "|-----------|-----------|\n",
    "|`x == y`| `True` se e solo se x = y|\n",
    "|`x != y`| `True` se e solo se x $\\neq$ y|"
   ]
  },
  {
   "cell_type": "markdown",
   "metadata": {
    "slideshow": {
     "slide_type": "fragment"
    },
    "tags": []
   },
   "source": [
    "### Identità\n",
    "|Espressione|Descrizione|\n",
    "|-----------|-----------|\n",
    "|`x is y`| `True` se id(x) == id(y)|\n",
    "|`x is not y`| `True` se id(x) != id(y)|"
   ]
  },
  {
   "cell_type": "markdown",
   "metadata": {
    "slideshow": {
     "slide_type": "fragment"
    },
    "tags": []
   },
   "source": [
    "### Appartenenza\n",
    "|Espressione|Descrizione|\n",
    "|-----------|-----------|\n",
    "|`x in y`| `True` se x è un elemento di y|\n",
    "|`x not in y`| `True` se x non è un elemento di y|"
   ]
  },
  {
   "cell_type": "markdown",
   "metadata": {
    "slideshow": {
     "slide_type": "subslide"
    },
    "tags": []
   },
   "source": [
    "## Concatenamento dei confronti\n",
    "\n",
    "Poiché le operazioni di confronto restituiscono valori `bool`, è possibile unirle utilizzando gli operatori logici:\n",
    "\n",
    "```python\n",
    "0 < x and x < y\n",
    "```"
   ]
  },
  {
   "cell_type": "markdown",
   "metadata": {
    "slideshow": {
     "slide_type": "notes"
    },
    "tags": []
   },
   "source": [
    "Per approfondire questo argomento rimandiamo al notebook [`C_boolean_reference_tables.ipynb`](./C_boolean_reference_tables.ipynb)."
   ]
  },
  {
   "cell_type": "markdown",
   "metadata": {
    "slideshow": {
     "slide_type": "fragment"
    },
    "tags": []
   },
   "source": [
    "Per adesso limitiamoci a sapere che possiamo creare semplici concatenazioni di confronti in questo modo:"
   ]
  },
  {
   "cell_type": "code",
   "execution_count": 59,
   "metadata": {},
   "outputs": [
    {
     "data": {
      "text/plain": [
       "True"
      ]
     },
     "execution_count": 59,
     "metadata": {},
     "output_type": "execute_result"
    }
   ],
   "source": [
    "x = 3\n",
    "y = 4\n",
    "\n",
    "0 < x < y"
   ]
  },
  {
   "cell_type": "markdown",
   "metadata": {
    "slideshow": {
     "slide_type": "fragment"
    },
    "tags": []
   },
   "source": [
    "Qui stiamo chiedendo se `0` è minore di 3 (`x`) e se 3 è a sua volta minore di 4 (`y`), il che è vero, `True`."
   ]
  },
  {
   "cell_type": "markdown",
   "metadata": {
    "slideshow": {
     "slide_type": "slide"
    },
    "tags": []
   },
   "source": [
    "# Funzioni\n",
    "\n",
    "Una funzione è un frammento strutturato di codice che potremmo voler utilizzare in più di un luogo e in più di un momento."
   ]
  },
  {
   "cell_type": "markdown",
   "metadata": {
    "slideshow": {
     "slide_type": "fragment"
    },
    "tags": []
   },
   "source": [
    "Ci sono diversi motivi per cui potremmo voler crearci le nostre funzioni, per esempio:\n",
    "\n",
    "- Ridurre la duplicazione del codice: mettere nelle funzioni parti di codice che sono necessarie diverse volte nell'intero programma, così non hai bisogno di ripetere lo stesso codice più volte."
   ]
  },
  {
   "cell_type": "markdown",
   "metadata": {
    "slideshow": {
     "slide_type": "fragment"
    },
    "tags": []
   },
   "source": [
    "- Decomporre un task complesso: rendere il codice più semplice da scrivere e comprendere separando un programma intero in funzioni più semplici, quindi vengono migliorano la leggibilità."
   ]
  },
  {
   "cell_type": "markdown",
   "metadata": {
    "slideshow": {
     "slide_type": "subslide"
    },
    "tags": []
   },
   "source": [
    "## `GOTO` ?!?!\n",
    "\n",
    "Chi programma già in altri linguaggi potrebbe essersi chiesto: esiste l'[istruzione GOTO](https://it.wikipedia.org/wiki/GOTO) in Python?"
   ]
  },
  {
   "cell_type": "markdown",
   "metadata": {
    "slideshow": {
     "slide_type": "fragment"
    },
    "tags": []
   },
   "source": [
    "No, e non esisterà mai! Questo andrebbe completamente contro i principi di design di Python.\n",
    "\n",
    "Creare \"salti\" arbitrari tra le linee di codice può essere comodo sul momento, ma rende il codice estremamente difficile da leggere."
   ]
  },
  {
   "cell_type": "markdown",
   "metadata": {
    "slideshow": {
     "slide_type": "fragment"
    },
    "tags": []
   },
   "source": [
    "Ogni volta che vorrete eseguire una porzione di codice che è già stata scritta precedentemente, allora quella sarà probabilmente una buona occasione per scrivere una funzione."
   ]
  },
  {
   "cell_type": "markdown",
   "metadata": {
    "slideshow": {
     "slide_type": "fragment"
    },
    "tags": []
   },
   "source": [
    "![function_call_1.jpg](./imgs/function_call_1.jpg)"
   ]
  },
  {
   "cell_type": "markdown",
   "metadata": {
    "slideshow": {
     "slide_type": "subslide"
    },
    "tags": []
   },
   "source": [
    "Esistono alcuni moduli di terze parti che implementano in qualche modo l'istruzione \"goto\", tuttavia vi consiglio caldamente di lasciare perdere, come suggerito anche in [uno dei progetti](https://pypi.org/project/goto-statement/):\n",
    "\n",
    "![function_call_1.jpg](./imgs/goto.png)"
   ]
  },
  {
   "cell_type": "markdown",
   "metadata": {
    "slideshow": {
     "slide_type": "subslide"
    },
    "tags": []
   },
   "source": [
    "## Meglio una funzione!\n",
    "\n",
    "Le funzioni migliorano dunque la leggibilità, sia che si tratti di codice scritto da noi sia di codice scritto da altri."
   ]
  },
  {
   "cell_type": "markdown",
   "metadata": {
    "slideshow": {
     "slide_type": "fragment"
    },
    "tags": []
   },
   "source": [
    "Una funzione deve essere inizialmente definita da qualche parte.\n",
    "\n",
    "Proviamo a definire una funzione di esempio (giusto per vedre cosa potrebbe esserci dentro una funzione) e poi proviamo ad chiamarla, ovvero ad eseguirla:"
   ]
  },
  {
   "cell_type": "code",
   "execution_count": 60,
   "metadata": {
    "slideshow": {
     "slide_type": "subslide"
    },
    "tags": []
   },
   "outputs": [
    {
     "name": "stdout",
     "output_type": "stream",
     "text": [
      "10\n",
      "12\n"
     ]
    }
   ],
   "source": [
    "# Definendo la funzione in modo tradizionale con la keyword def\n",
    "def moltiplica(a, b):\n",
    "    return a * b\n",
    "\n",
    "# Oppure definendo la funzione come una funzione anonima\n",
    "# (sconsigliato, se non in casi particolari)\n",
    "# moltiplica_lambda = lambda a, b: a * b\n",
    "\n",
    "# Poi possiamo chiamare la funzione passandogli due numeri\n",
    "# e assegnare il valore che restituisce a una variabile\n",
    "mio_risultato1 = moltiplica(2, 5)\n",
    "mio_risultato2 = moltiplica(3, 4)\n",
    "\n",
    "# E infine chiamare la funzione print che già conosciamo\n",
    "print(mio_risultato1)\n",
    "print(mio_risultato2)"
   ]
  },
  {
   "cell_type": "markdown",
   "metadata": {
    "slideshow": {
     "slide_type": "fragment"
    },
    "tags": []
   },
   "source": [
    "Facendo riferimento alla funzione definita prima, `moltiplica` è il _**nome della funzione**_ e i numeri tra parentesi `(2, 5)` sono i suoi _**argomenti**_.\n",
    "\n",
    "Come potete vedere nella parte un cui abbiamo definito la funzione, un *argomento* è un valore che dovrà essere utilizzato all'interno del corpo della funzione."
   ]
  },
  {
   "cell_type": "markdown",
   "metadata": {
    "slideshow": {
     "slide_type": "subslide"
    },
    "tags": []
   },
   "source": [
    "![function_call_2.jpg](./imgs/function_call_2.jpg)"
   ]
  },
  {
   "cell_type": "markdown",
   "metadata": {
    "slideshow": {
     "slide_type": "fragment"
    },
    "tags": []
   },
   "source": [
    "Parleremo più avanti di come si possono definire (`def`) le funzioni, per ora ci limiteremo ad \"usarle\".\n",
    "\n",
    "Per usare una funzione dobbiamo chiamarla."
   ]
  },
  {
   "cell_type": "markdown",
   "metadata": {
    "slideshow": {
     "slide_type": "subslide"
    },
    "tags": []
   },
   "source": [
    "## Chiamare una funzione"
   ]
  },
  {
   "cell_type": "markdown",
   "metadata": {
    "slideshow": {
     "slide_type": "fragment"
    },
    "tags": []
   },
   "source": [
    "Per chiamare, o invocare, una funzione in un punto specifico del nostro programma, è sufficiente scriverne il nome, aggiungere le parentesi `()` dopo di esso."
   ]
  },
  {
   "cell_type": "markdown",
   "metadata": {
    "slideshow": {
     "slide_type": "fragment"
    },
    "tags": []
   },
   "source": [
    "All'interno delle parentesi è possibile eventualmente passare uno o più argomenti se la funzione li prevede."
   ]
  },
  {
   "cell_type": "markdown",
   "metadata": {
    "slideshow": {
     "slide_type": "fragment"
    },
    "tags": []
   },
   "source": [
    "Inoltre, se la funzione restituisce un risultato, possiamo assegnare direttamente il valore restituito dalla funzione a una variabile."
   ]
  },
  {
   "cell_type": "markdown",
   "metadata": {
    "slideshow": {
     "slide_type": "subslide"
    },
    "tags": []
   },
   "source": [
    "### `print(*objects, sep=' ', end='\\n', file=None, flush=False)`"
   ]
  },
  {
   "cell_type": "markdown",
   "metadata": {
    "slideshow": {
     "slide_type": "fragment"
    },
    "tags": []
   },
   "source": [
    "Avendo già scritto un'espressione come `print('Hello, world!')`, sai già qualcosa sulle funzioni."
   ]
  },
  {
   "cell_type": "markdown",
   "metadata": {
    "slideshow": {
     "slide_type": "fragment"
    },
    "tags": []
   },
   "source": [
    "In questo classico esempio, il messaggio `'Hello, world!'` (tra parentesi dopo il nome della funzione `print`) non è altro che un argomento che **passiamo** alla funzione."
   ]
  },
  {
   "cell_type": "markdown",
   "metadata": {
    "slideshow": {
     "slide_type": "fragment"
    },
    "tags": []
   },
   "source": [
    "Il più delle volte le funzioni richiedono almeno un argomento, ma ci sono anche funzioni che ne possono fare a meno. Questo dipende da come la funzione è stata implementata."
   ]
  },
  {
   "cell_type": "markdown",
   "metadata": {
    "slideshow": {
     "slide_type": "subslide"
    },
    "tags": []
   },
   "source": [
    "Per quanto riguarda la funzione `print`, abbiamo già visto che possiamo usarla senza alcun argomento o addirittura con più argomenti."
   ]
  },
  {
   "cell_type": "markdown",
   "metadata": {
    "slideshow": {
     "slide_type": "fragment"
    },
    "tags": []
   },
   "source": [
    "Provate a leggere la [documentazione di `print`](https://docs.python.org/3/library/functions.html#print) e cercate di trovare riscontro a quanto scritto di seguito e al relativo output."
   ]
  },
  {
   "cell_type": "code",
   "execution_count": 61,
   "metadata": {
    "tags": []
   },
   "outputs": [
    {
     "name": "stdout",
     "output_type": "stream",
     "text": [
      "Hello, world!\n",
      "\n",
      "Ciao a tutti, gente!\n",
      "a-bra-ca-da-bra\n",
      "1-2-3\n",
      "4-5-6\n",
      "1-2-3_4-5-6\n"
     ]
    }
   ],
   "source": [
    "print('Hello, world!')\n",
    "print()\n",
    "print('Ciao', 'a', 'tutti,', 'gente!')\n",
    "print('a', 'bra', 'ca', 'da', 'bra', sep='-')\n",
    "print(1,2,3, sep='-')\n",
    "print(4,5,6, sep='-')\n",
    "print(1,2,3, sep='-', end='_')\n",
    "print(4,5,6, sep='-', end='\\n')"
   ]
  },
  {
   "cell_type": "markdown",
   "metadata": {
    "slideshow": {
     "slide_type": "subslide"
    },
    "tags": []
   },
   "source": [
    "## Documentazione su una specifica funzione\n",
    "\n",
    "Il bello delle funzioni è che possiamo usarle senza avere una chiara visione della loro struttura interna e del modo in cui riescono a eseguire ciò di cui abbiamo bisogno."
   ]
  },
  {
   "cell_type": "markdown",
   "metadata": {
    "slideshow": {
     "slide_type": "fragment"
    },
    "tags": []
   },
   "source": [
    "Se però volete fare buon uso di una funzione, assicuratevi di aver letto la sua documentazione.\n",
    "\n",
    "La documentazione di Python contiene ogni tipo di informazione sulle funzioni built-in e quelle della Libreria standard."
   ]
  },
  {
   "cell_type": "markdown",
   "metadata": {
    "slideshow": {
     "slide_type": "fragment"
    },
    "tags": []
   },
   "source": [
    "Le cose più importanti da sapere su una funzione sono:\n",
    "\n",
    "- Cosa fa."
   ]
  },
  {
   "cell_type": "markdown",
   "metadata": {
    "slideshow": {
     "slide_type": "fragment"
    },
    "tags": []
   },
   "source": [
    "- Come usarla.\n",
    "  - Cosa accetta come input, ovvero quali sono i suoi argomenti.\n",
    "  - Cosa restituisce come output."
   ]
  },
  {
   "cell_type": "markdown",
   "metadata": {
    "slideshow": {
     "slide_type": "subslide"
    },
    "tags": []
   },
   "source": [
    "Per questo esiste anche una funzione speciale `help()` che, chiamata con il nome della funzione o dell'oggetto come argomento, mostra una guida sull'elemento, se questo la possiede."
   ]
  },
  {
   "cell_type": "code",
   "execution_count": 62,
   "metadata": {
    "slideshow": {
     "slide_type": "fragment"
    },
    "tags": []
   },
   "outputs": [
    {
     "name": "stdout",
     "output_type": "stream",
     "text": [
      "Help on built-in function len in module builtins:\n",
      "\n",
      "len(obj, /)\n",
      "    Return the number of items in a container.\n",
      "\n"
     ]
    }
   ],
   "source": [
    "help(len)"
   ]
  },
  {
   "cell_type": "markdown",
   "metadata": {
    "slideshow": {
     "slide_type": "notes"
    },
    "tags": []
   },
   "source": [
    "Questo salva la situazione quando la funzione si comporta in modo inaspettato e non vogliamo o non possiamo accedere ad internet per fare delle ricerche."
   ]
  },
  {
   "cell_type": "markdown",
   "metadata": {
    "slideshow": {
     "slide_type": "fragment"
    },
    "tags": []
   },
   "source": [
    "Possiamo anche solo passare una stringa che contiene l'esatto nome dell'elemento di cui vogliamo la guida."
   ]
  },
  {
   "cell_type": "markdown",
   "metadata": {
    "slideshow": {
     "slide_type": "notes"
    },
    "tags": []
   },
   "source": [
    "Questo è molto utile per gli oggetti presenti in librerie esterne, perché così non dobbiamo necessariamente importarli per accedere alla loro guida."
   ]
  },
  {
   "cell_type": "code",
   "execution_count": 63,
   "metadata": {},
   "outputs": [
    {
     "name": "stdout",
     "output_type": "stream",
     "text": [
      "Help on built-in function trunc in math:\n",
      "\n",
      "math.trunc = trunc(x, /)\n",
      "    Truncates the Real x to the nearest Integral toward 0.\n",
      "    \n",
      "    Uses the __trunc__ magic method.\n",
      "\n"
     ]
    }
   ],
   "source": [
    "help('math.trunc')"
   ]
  },
  {
   "cell_type": "markdown",
   "metadata": {
    "slideshow": {
     "slide_type": "slide"
    },
    "tags": []
   },
   "source": [
    "# Funzioni built-in\n",
    "\n",
    "Abbiamo detto che le funzioni sono come degli \"strumenti\" per fare certe cose e che sono riutilizzabili."
   ]
  },
  {
   "cell_type": "markdown",
   "metadata": {
    "slideshow": {
     "slide_type": "notes"
    },
    "tags": []
   },
   "source": [
    "Molti tra i più comuni algoritmi utili come strumenti in programmazione sono già scritti, quindi, in tutti questi casi, non occorre scrivere una funzione ad-hoc tutte le volte ma abbiamo già una \"cassetta per gli attrezzi\" disponibile."
   ]
  },
  {
   "cell_type": "markdown",
   "metadata": {
    "slideshow": {
     "slide_type": "fragment"
    },
    "tags": []
   },
   "source": [
    "L'interprete Python ha diverse funzioni e tipi built-in che sono sempre disponibili senza necessità di importare moduli esterni."
   ]
  },
  {
   "cell_type": "markdown",
   "metadata": {
    "slideshow": {
     "slide_type": "fragment"
    },
    "tags": []
   },
   "source": [
    "Attualmente (Python 3.11), il [numero di funzioni built-in](https://docs.python.org/3/library/functions.html) ammonta a 70."
   ]
  },
  {
   "cell_type": "markdown",
   "metadata": {
    "slideshow": {
     "slide_type": "fragment"
    },
    "tags": []
   },
   "source": [
    "Le funzioni built-in (incorporate) possono semplificare la vita, a patto che si sia consapevoli della loro esistenza."
   ]
  },
  {
   "cell_type": "markdown",
   "metadata": {
    "slideshow": {
     "slide_type": "subslide"
    },
    "tags": []
   },
   "source": [
    "Ecco un po' di esempi. Provate a cambiare i valori e i tipi di dato per vedere cosa succede."
   ]
  },
  {
   "cell_type": "code",
   "execution_count": 64,
   "metadata": {},
   "outputs": [
    {
     "data": {
      "text/plain": [
       "12"
      ]
     },
     "execution_count": 64,
     "metadata": {},
     "output_type": "execute_result"
    }
   ],
   "source": [
    "abs(-12)"
   ]
  },
  {
   "cell_type": "code",
   "execution_count": 65,
   "metadata": {
    "slideshow": {
     "slide_type": "fragment"
    },
    "tags": []
   },
   "outputs": [
    {
     "data": {
      "text/plain": [
       "3"
      ]
     },
     "execution_count": 65,
     "metadata": {},
     "output_type": "execute_result"
    }
   ],
   "source": [
    "numero = '111'\n",
    "len(numero)"
   ]
  },
  {
   "cell_type": "code",
   "execution_count": 66,
   "metadata": {
    "slideshow": {
     "slide_type": "subslide"
    },
    "tags": []
   },
   "outputs": [
    {
     "data": {
      "text/plain": [
       "(6, 43, 1, 25)"
      ]
     },
     "execution_count": 66,
     "metadata": {},
     "output_type": "execute_result"
    }
   ],
   "source": [
    "lista_numeri = [3, 7, 4, 3, 25, 1]\n",
    "\n",
    "n_elementi = len(lista_numeri)\n",
    "somma = sum(lista_numeri)\n",
    "min_ = min(lista_numeri)\n",
    "max_ = max(lista_numeri)\n",
    "\n",
    "# Per visualizzare il contenuto di più varibili in una volta sola,\n",
    "# nella shell di Python potete anche fare così, senza doveri ricorrere a print().\n",
    "n_elementi, somma, min_, max_"
   ]
  },
  {
   "cell_type": "code",
   "execution_count": 67,
   "metadata": {
    "slideshow": {
     "slide_type": "fragment"
    },
    "tags": []
   },
   "outputs": [
    {
     "data": {
      "text/plain": [
       "(False, True)"
      ]
     },
     "execution_count": 67,
     "metadata": {},
     "output_type": "execute_result"
    }
   ],
   "source": [
    "lista_bool = [True, True, True, False]\n",
    "\n",
    "tutti_veri = all(lista_bool)\n",
    "qualche_vero = any(lista_bool)\n",
    "\n",
    "tutti_veri, qualche_vero"
   ]
  },
  {
   "cell_type": "markdown",
   "metadata": {
    "slideshow": {
     "slide_type": "subslide"
    },
    "tags": []
   },
   "source": [
    "## Elenco funzioni built-in"
   ]
  },
  {
   "cell_type": "markdown",
   "metadata": {
    "slideshow": {
     "slide_type": "subslide"
    },
    "tags": []
   },
   "source": [
    "### Input/Output\n",
    "\n",
    "| FUNZIONE                | DESCRIZIONE BREVE                                                                                                                                       |\n",
    "| ----------------------- | ------------------------------------------------------------------------------------------------------------------------------------------------------- |\n",
    "| input()                 | Consente l'immissione di dati da parte dell'utente                                                                                                      |\n",
    "| open()                  | Apre un file e restituisce un oggetto file                                                                                                              |\n",
    "| print()                 | Stampa sul dispositivo di output standard                                                                                                               |"
   ]
  },
  {
   "cell_type": "markdown",
   "metadata": {
    "slideshow": {
     "slide_type": "subslide"
    },
    "tags": []
   },
   "source": [
    "### Strumenti matematici\n",
    "\n",
    "| FUNZIONE                | DESCRIZIONE BREVE                                                                                                                                       |\n",
    "| ----------------------- | ------------------------------------------------------------------------------------------------------------------------------------------------------- |\n",
    "| abs()                   | Restituisce il valore assoluto di un numero                                                                                                             |\n",
    "| divmod()                | Restituisce il quoziente e il resto della divisione di argomento1 per argomento2                                                                        |\n",
    "| pow()                   | Restituisce il valore di x alla potenza di y                                                                                                            |\n",
    "| round()                 | Arrotonda un numero                                                                                                                                     |"
   ]
  },
  {
   "cell_type": "markdown",
   "metadata": {
    "slideshow": {
     "slide_type": "subslide"
    },
    "tags": []
   },
   "source": [
    "### Informazioni sugli oggetti\n",
    "\n",
    "| FUNZIONE                | DESCRIZIONE BREVE                                                                                                                                       |\n",
    "| ----------------------- | ------------------------------------------------------------------------------------------------------------------------------------------------------- |\n",
    "| callable()              | Restituisce True se l'oggetto specificato è richiamabile, altrimenti False                                                                              |\n",
    "| id()                    | Restituisce l'id di un oggetto                                                                                                                          |\n",
    "| isinstance()            | Restituisce True se un oggetto specificato è un'istanza di un oggetto specificato                                                                       |\n",
    "| issubclass()            | Restituisce True se una classe specificata è una sottoclasse di un oggetto specificato                                                                  |"
   ]
  },
  {
   "cell_type": "markdown",
   "metadata": {
    "slideshow": {
     "slide_type": "subslide"
    },
    "tags": []
   },
   "source": [
    "### Gestione attributi degli oggetti\n",
    "\n",
    "| FUNZIONE                | DESCRIZIONE BREVE                                                                                                                                       |\n",
    "| ----------------------- | ------------------------------------------------------------------------------------------------------------------------------------------------------- |\n",
    "| delattr()               | Elimina l'attributo specificato (proprietà o metodo) dall'oggetto specificato.                                                                          |\n",
    "| getattr()               | Restituisce il valore dell'attributo (proprietà o metodo) specificato                                                                                   |\n",
    "| hasattr()               | Restituisce True se l'oggetto specificato ha l'attributo (proprietà/metodo) specificato                                                                 |\n",
    "| setattr()               | Imposta un attributo (proprietà/metodo) di un oggetto                                                                                                   |"
   ]
  },
  {
   "cell_type": "markdown",
   "metadata": {
    "slideshow": {
     "slide_type": "subslide"
    },
    "tags": []
   },
   "source": [
    "### Informazioni sugli iterabili/sequenze\n",
    "\n",
    "| FUNZIONE                | DESCRIZIONE BREVE                                                                                                                                       |\n",
    "| ----------------------- | ------------------------------------------------------------------------------------------------------------------------------------------------------- |\n",
    "| all()                   | Restituisce True se tutti gli elementi di un oggetto iterabile sono true                                                                                |\n",
    "| any()                   | Restituisce True se qualsiasi elemento di un oggetto iterabile è vero                                                                                   |\n",
    "| len()                   | Restituisce la lunghezza di un oggetto                                                                                                                  |\n",
    "| max()                   | Restituisce l'elemento più grande di un iteratore                                                                                                       |\n",
    "| min()                   | Restituisce l'elemento più piccolo di un'iterabile                                                                                                      |\n",
    "| sum()                   | Somma gli elementi di un iteratore                                                                                                                      |"
   ]
  },
  {
   "cell_type": "markdown",
   "metadata": {
    "slideshow": {
     "slide_type": "subslide"
    },
    "tags": []
   },
   "source": [
    "### Manipolazione/conversione di iterabili/sequenze\n",
    "\n",
    "| FUNZIONE                | DESCRIZIONE BREVE                                                                                                                                       |\n",
    "| ----------------------- | ------------------------------------------------------------------------------------------------------------------------------------------------------- |\n",
    "| aiter()                 | Restituisce un iteratore asincrono per un iterabile asincrono                                                                                           |\n",
    "| anext()                 | Quando è in stato awaited, restituisce l'elemento successivo dall'iteratore asincrono indicato, oppure l'elemento predefinito se l'iteratore è esaurito |\n",
    "| enumerate()             | Prende un insieme (ad esempio una tupla) e lo restituisce come oggetto enumerato                                                                        |\n",
    "| filter()                | Utilizza una funzione di filtro per escludere elementi in un oggetto iterabile                                                                          |\n",
    "| iter()                  | Restituisce un oggetto iteratore a partire dall'iterabile passato                                                                                       |\n",
    "| map()                   | Restituisce un iteratore con la funzione specificata applicata a ciascun elemento dell'iterabile passato                                                |\n",
    "| next()                  | Restituisce l'elemento successivo di un'iteratore                                                                                                       |\n",
    "| range()                 | Restituisce una sequenza di numeri iterabile, partendo da 0 e incrementando di 1 (di default). `range` è un tipo dati a sé stante.                      |\n",
    "| reversed()              | Restituisce un iteratore invertito da un iterabile                                                                                                      |\n",
    "| slice()                 | Restituisce un oggetto slice                                                                                                                            |\n",
    "| sorted()                | Restituisce una list ordinata da un iterabile                                                                                                           |\n",
    "| zip()                   | Restituisce un iteratore, da due o più iteratori                                                                                                        |"
   ]
  },
  {
   "cell_type": "markdown",
   "metadata": {
    "slideshow": {
     "slide_type": "subslide"
    },
    "tags": []
   },
   "source": [
    "### Conversione di dati di un tipo in un altro tipo\n",
    "\n",
    "| FUNZIONE                | DESCRIZIONE BREVE                                                                                                                                       |\n",
    "| ----------------------- | ------------------------------------------------------------------------------------------------------------------------------------------------------- |\n",
    "| ascii()                 | Restituisce una versione leggibile di un oggetto. Sostituisce i caratteri nonascii con il carattere di escape                                           |\n",
    "| bin()                   | Restituisce la versione binaria di un numero                                                                                                            |\n",
    "| chr()                   | Restituisce un carattere del codice Unicode specificato.                                                                                                |\n",
    "| format()                | Formatta un valore specificato                                                                                                                          |\n",
    "| hash()                  | Restituisce il valore hash di un oggetto specificato                                                                                                    |\n",
    "| hex()                   | Converte un numero in un valore esadecimale                                                                                                             |\n",
    "| oct()                   | Converte un numero in ottale                                                                                                                            |\n",
    "| ord()                   | Converte un intero che rappresenta l'Unicode del carattere specificato                                                                                  |\n",
    "| repr()                  | Restituisce una versione leggibile di un oggetto                                                                                                        |"
   ]
  },
  {
   "cell_type": "markdown",
   "metadata": {
    "slideshow": {
     "slide_type": "subslide"
    },
    "tags": []
   },
   "source": [
    "### Tipi di dato / classi\n",
    "\n",
    "| FUNZIONE                | DESCRIZIONE BREVE                                                                                                                                       |\n",
    "| ----------------------- | ------------------------------------------------------------------------------------------------------------------------------------------------------- |\n",
    "| bool()                  | Restituisce il valore booleano dell'oggetto specificato                                                                                                 |\n",
    "| bytearray()             | Restituisce un oggetto array di byte                                                                                                                    |\n",
    "| bytes()                 | Restituisce un oggetto byte                                                                                                                             |\n",
    "| complex()               | Restituisce un oggetto numero complesso                                                                                                                 |\n",
    "| dict()                  | Restituisce un oggetto dizionario (array)                                                                                                               |\n",
    "| float()                 | Restituisce un oggetto numero in virgola mobile                                                                                                         |\n",
    "| frozenset()             | Restituisce un oggetto frozenset                                                                                                                        |\n",
    "| int()                   | Restituisce un oggetto numero intero                                                                                                                    |\n",
    "| list()                  | Restituisce un oggetto list                                                                                                                             |\n",
    "| object()                | Restituisce un oggetto                                                                                                                                  |\n",
    "| set()                   | Restituisce un oggetto set                                                                                                                              |\n",
    "| str()                   | Restituisce un oggetto stringa                                                                                                                          |\n",
    "| tuple()                 | Restituisce un oggetto tupla                                                                                                                            |"
   ]
  },
  {
   "cell_type": "markdown",
   "metadata": {
    "slideshow": {
     "slide_type": "subslide"
    },
    "tags": []
   },
   "source": [
    "### Tipi di dato / classi speciali\n",
    "\n",
    "| FUNZIONE                | DESCRIZIONE BREVE                                                                                                                                       |\n",
    "| ----------------------- | ------------------------------------------------------------------------------------------------------------------------------------------------------- |\n",
    "| type()                  | Restituisce il tipo/classe di un oggetto                                                                                                                |\n",
    "| memoryview()            | Restituisce un oggetto memoryview a partire da un oggetto passato di tipo bytes-like                                                                    |"
   ]
  },
  {
   "cell_type": "markdown",
   "metadata": {
    "slideshow": {
     "slide_type": "subslide"
    },
    "tags": []
   },
   "source": [
    "### Definizione delle classi\n",
    "\n",
    "| FUNZIONE                | DESCRIZIONE BREVE                                                                                                                                       |\n",
    "| ----------------------- | ------------------------------------------------------------------------------------------------------------------------------------------------------- |\n",
    "| @classmethod            | Converte un metodo in un metodo di classe                                                                                                               |\n",
    "| @staticmethod           | Converte un metodo in un metodo statico                                                                                                                 |\n",
    "| property()<br>@property | Consente di creare una proprietà definendone i getter, setter e deleter                                                                                 |\n",
    "| super()                 | Restituisce un oggetto che rappresenta la classe padre                                                                                                  |"
   ]
  },
  {
   "cell_type": "markdown",
   "metadata": {
    "slideshow": {
     "slide_type": "subslide"
    },
    "tags": []
   },
   "source": [
    "### Metaprogrammazione\n",
    "\n",
    "| FUNZIONE                | DESCRIZIONE BREVE                                                                                                                                       |\n",
    "| ----------------------- | ------------------------------------------------------------------------------------------------------------------------------------------------------- |\n",
    "| compile()               | Restituisce il sorgente specificato come oggetto, pronto per essere eseguito                                                                            |\n",
    "| eval()                  | Valuta ed esegue un'espressione                                                                                                                         |\n",
    "| exec()                  | Esegue il codice (o il *code object*) specificato                                                                                                       |"
   ]
  },
  {
   "cell_type": "markdown",
   "metadata": {
    "slideshow": {
     "slide_type": "subslide"
    },
    "tags": []
   },
   "source": [
    "###  Informazioni sui namespace dell'ambiente: scope e oggetti\n",
    "\n",
    "| FUNZIONE                | DESCRIZIONE BREVE                                                                                                                                       |\n",
    "| ----------------------- | ------------------------------------------------------------------------------------------------------------------------------------------------------- |\n",
    "| dir()                   | Restituisce una list delle proprietà e dei metodi dell'oggetto specificato                                                                             |\n",
    "| globals()               | Restituisce la tabella dei simboli globali corrente come dizionario                                                                                     |\n",
    "| locals()                | Restituisce un dizionario aggiornato della tabella dei simboli locali corrente                                                                          |\n",
    "| vars()                  | Restituisce la proprietà \\__dict_ \\_ di un oggetto                                                                                                      |"
   ]
  },
  {
   "cell_type": "markdown",
   "metadata": {
    "slideshow": {
     "slide_type": "subslide"
    },
    "tags": []
   },
   "source": [
    "### Guida / Help\n",
    "\n",
    "| FUNZIONE                | DESCRIZIONE BREVE                                                                                                                                       |\n",
    "| ----------------------- | ------------------------------------------------------------------------------------------------------------------------------------------------------- |\n",
    "| help()                  | Esegue il sistema di guida/help integrato                                                                                                               |"
   ]
  },
  {
   "cell_type": "markdown",
   "metadata": {
    "slideshow": {
     "slide_type": "fragment"
    },
    "tags": []
   },
   "source": [
    "### Strumenti per il debug\n",
    "\n",
    "| FUNZIONE                | DESCRIZIONE BREVE                                                                                                                                       |\n",
    "| ----------------------- | ------------------------------------------------------------------------------------------------------------------------------------------------------- |\n",
    "| breakpoint()            | Questa funzione consente di entrare nel debugger nel punto in cui viene invocata.                                                                       |"
   ]
  },
  {
   "cell_type": "markdown",
   "metadata": {
    "jp-MarkdownHeadingCollapsed": true,
    "slideshow": {
     "slide_type": "subslide"
    },
    "tags": []
   },
   "source": [
    "## Riassumendo\n",
    "\n",
    "- Le funzioni sono pensate per essere riutilizzabili. Si possono applicare più volte con argomenti diversi.\n",
    "- Per chiamare una funzione, scrivete il suo nome seguito da parentesi e inserite gli argomenti all'interno.\n",
    "- Normalmente, una funzione ha una documentazione, che a volte può essere di grande aiuto."
   ]
  },
  {
   "cell_type": "markdown",
   "metadata": {
    "slideshow": {
     "slide_type": "slide"
    },
    "tags": []
   },
   "source": [
    "# Ricevere un input\n",
    "\n",
    "Sovente i programmi hanno bisogno di interagire con gli utenti. È in questo caso che la funzione `input()` entra in scena."
   ]
  },
  {
   "cell_type": "markdown",
   "metadata": {
    "slideshow": {
     "slide_type": "fragment"
    },
    "tags": []
   },
   "source": [
    "Se vogliamo ottenere dei dati di input da un utenre, questi dovrà poter inserire un valore e questo valore dovrà essere reso disponibile all'interno dell'ambiente di esecuzione."
   ]
  },
  {
   "cell_type": "markdown",
   "metadata": {
    "slideshow": {
     "slide_type": "fragment"
    },
    "tags": []
   },
   "source": [
    "La funzione `input()` fa questo: legge il valore inserito dall'utente e lo restituisce all'interno del programma <u>sotto forma di stringa</u>."
   ]
  },
  {
   "cell_type": "markdown",
   "metadata": {
    "slideshow": {
     "slide_type": "subslide"
    },
    "tags": []
   },
   "source": [
    "> NOTA: `input()` su Jupyter Notebook in VS Code.\n",
    ">\n",
    "> In VS Code quando si esegue `input()` viene mostrata una barra in alto, dove solitamente appare la Command Palette.\n",
    "> È sufficiente inserire i dati e premere il tasto invio."
   ]
  },
  {
   "cell_type": "markdown",
   "metadata": {
    "slideshow": {
     "slide_type": "fragment"
    },
    "tags": []
   },
   "source": [
    "Ad esempio, il programma seguente legge il nome dell'utente e stampa un saluto."
   ]
  },
  {
   "cell_type": "code",
   "execution_count": 68,
   "metadata": {
    "tags": []
   },
   "outputs": [
    {
     "name": "stdout",
     "output_type": "stream",
     "text": [
      " Guido van Rossum\n",
      "Ciao, Guido van Rossum!\n"
     ]
    }
   ],
   "source": [
    "nome_utente = input()\n",
    "print('Ciao, ' + nome_utente + '!')"
   ]
  },
  {
   "cell_type": "markdown",
   "metadata": {
    "slideshow": {
     "slide_type": "fragment"
    },
    "tags": []
   },
   "source": [
    "Cosa è successo?"
   ]
  },
  {
   "cell_type": "markdown",
   "metadata": {
    "slideshow": {
     "slide_type": "notes"
    },
    "tags": []
   },
   "source": [
    "Nella prima riga, il programma attende che l'utente inserisca qualcosa come input. Assegnamo questo input a una variabile per utilizzarlo in seguito.\n",
    "\n",
    "Nella seconda riga, il programma esegue una concatenazione di stringhe: prima `\"Ciao, \"`, poi il nome inserito dall'utente e infine `\"!\"` e stampa a monitor l'intera frase.\n",
    "\n",
    "Quindi, il programma stampa un risultato che dipende dall'input dell'utente."
   ]
  },
  {
   "cell_type": "markdown",
   "metadata": {
    "slideshow": {
     "slide_type": "subslide"
    },
    "tags": []
   },
   "source": [
    "## Messaggi chiari all'utente\n",
    "\n",
    "È consigliabile indicare chiaramente il tipo di input che ci si aspetta dagli utenti."
   ]
  },
  {
   "cell_type": "markdown",
   "metadata": {
    "slideshow": {
     "slide_type": "fragment"
    },
    "tags": []
   },
   "source": [
    "La funzione `input()` può accettare un argomento opzionale, cioè un messaggio per l'utente:"
   ]
  },
  {
   "cell_type": "code",
   "execution_count": 69,
   "metadata": {},
   "outputs": [
    {
     "name": "stdout",
     "output_type": "stream",
     "text": [
      "Prego, inserisci il tuo nome:  Guido van Rossum\n",
      "Ciao, Guido van Rossum!\n"
     ]
    }
   ],
   "source": [
    "nome_utente = input('Prego, inserisci il tuo nome: ')\n",
    "print('Ciao, ' + nome_utente + '!')"
   ]
  },
  {
   "cell_type": "markdown",
   "metadata": {
    "slideshow": {
     "slide_type": "notes"
    },
    "tags": []
   },
   "source": [
    "Il programma si avvia, l'utente vede il messaggio, inserisce il proprio nome e ottiene il risultato stampato a monitor."
   ]
  },
  {
   "cell_type": "markdown",
   "metadata": {
    "slideshow": {
     "slide_type": "fragment"
    },
    "tags": []
   },
   "source": [
    "Un altro modo per farlo è stampare il messaggio separatamente:"
   ]
  },
  {
   "cell_type": "code",
   "execution_count": 70,
   "metadata": {},
   "outputs": [
    {
     "name": "stdout",
     "output_type": "stream",
     "text": [
      "Prego, inserisci il tuo nome: \n",
      " Guido van Rossum\n",
      "Ciao, Guido van Rossum!\n"
     ]
    }
   ],
   "source": [
    "print('Prego, inserisci il tuo nome: ')\n",
    "nome_utente = input()\n",
    "print('Ciao, ' + nome_utente + '!')"
   ]
  },
  {
   "cell_type": "markdown",
   "metadata": {
    "slideshow": {
     "slide_type": "fragment"
    },
    "tags": []
   },
   "source": [
    "In realtà non c'è una grande differenza: nell'esempio precedente, l'input sarà stampato nella stessa riga del messaggio, mentre in questo caso sarà scritto nella riga successiva. Quindi, si può scegliere quello che si preferisce."
   ]
  },
  {
   "cell_type": "markdown",
   "metadata": {
    "slideshow": {
     "slide_type": "subslide"
    },
    "tags": []
   },
   "source": [
    "> NOTA: `input()` su Jupyter Notebook in VS Code.\n",
    ">\n",
    "> Provando ad eseguire gli esempi precedenti su Jupyter Notebook, notate che:\n",
    "> - se passiamo il messaggio per l'utente come argomento, questo verrà visualizzato sotto alla barra di input in alto;\n",
    "> - se stampiamo il messaggio con `print()`, questo sarà visualizzato sotto alla cella."
   ]
  },
  {
   "cell_type": "markdown",
   "metadata": {
    "slideshow": {
     "slide_type": "subslide"
    },
    "tags": []
   },
   "source": [
    "## Considerazioni importanti su `input()`"
   ]
  },
  {
   "cell_type": "markdown",
   "metadata": {
    "slideshow": {
     "slide_type": "fragment"
    },
    "tags": []
   },
   "source": [
    "Innanzitutto, quanto può essere lungo l'input dell'utente e come fa il programma a capire che la persona ha inserito tutto ciò che voleva?"
   ]
  },
  {
   "cell_type": "markdown",
   "metadata": {
    "slideshow": {
     "slide_type": "fragment"
    },
    "tags": []
   },
   "source": [
    "Non appena inizia l'esecuzione di `input()`, il programma si ferma e attende che l'utente inserisca un valore e prema il tasto Invio. \n",
    "\n",
    "Se l'utente non immette alcun valore e/o non preme Invio, il programma non procede con l'esecuzione!"
   ]
  },
  {
   "cell_type": "markdown",
   "metadata": {
    "slideshow": {
     "slide_type": "subslide"
    },
    "tags": []
   },
   "source": [
    "Inoltre qualsiasi valore immesso viene visto dalla funzione `input` come una stringa. Non importa se si immettono cifre o lettere, l'input verrà convertito in una stringa."
   ]
  },
  {
   "cell_type": "markdown",
   "metadata": {
    "slideshow": {
     "slide_type": "fragment"
    },
    "tags": []
   },
   "source": [
    "Se vuoi che un numero sia un numero, oltre a comunicarlo all'utente, devi convertirlo tu esplicitamente nel tipo desiderato. Ad esempio:"
   ]
  },
  {
   "cell_type": "code",
   "execution_count": 71,
   "metadata": {},
   "outputs": [
    {
     "name": "stdout",
     "output_type": "stream",
     "text": [
      "Qual è il tuo numero preferito? 34\n"
     ]
    }
   ],
   "source": [
    "valore = int(input('Qual è il tuo numero preferito?'))"
   ]
  },
  {
   "cell_type": "markdown",
   "metadata": {
    "slideshow": {
     "slide_type": "fragment"
    },
    "tags": []
   },
   "source": [
    "Attenzione però: convertendo direttamente una stringa in un tipo numerico, se l'utente inserisce delle lettere ad es. \"`due`\", potrebbe satà sollevato un `ValueError`."
   ]
  },
  {
   "cell_type": "markdown",
   "metadata": {
    "slideshow": {
     "slide_type": "subslide"
    },
    "tags": []
   },
   "source": [
    "Inoltre, per leggere più input, è necessario chiamare la funzione più di una volta."
   ]
  },
  {
   "cell_type": "code",
   "execution_count": 72,
   "metadata": {
    "tags": []
   },
   "outputs": [
    {
     "name": "stdout",
     "output_type": "stream",
     "text": [
      "Inserisci il tuo nome: Guido\n",
      "Inserisci il tuo cognome: van Rossum\n",
      "Ciao, Guido van Rossum!\n"
     ]
    }
   ],
   "source": [
    "nome = input('Inserisci il tuo nome:')\n",
    "cognome = input('Inserisci il tuo cognome:')\n",
    "print('Ciao,', nome, cognome + '!', sep=' ')"
   ]
  },
  {
   "cell_type": "markdown",
   "metadata": {
    "slideshow": {
     "slide_type": "subslide"
    },
    "tags": []
   },
   "source": [
    "## Riassumendo\n",
    "\n",
    "Ora sai come lavorare con `input()`, cioè una funzione che ti aiuta a interagire con l'utente."
   ]
  },
  {
   "cell_type": "markdown",
   "metadata": {
    "slideshow": {
     "slide_type": "fragment"
    },
    "tags": []
   },
   "source": [
    "È una funzione molto utile sicuramente durante l'apprendimento programmazione. Ecco cosa abbiamo imparato:\n",
    "\n",
    "- non c'è limite per la lunghezza dei dati di input e la funzione aspetterà finché l'utente non premerà Invio;\n",
    "- è possibile aggiungere un messaggio rivolto all'utente insieme alla richiesta di inserimento;\n",
    "- la funzione interpreta come una stringa qualsiasi valore inserito;\n",
    "- i dati ricevuti dall'utente possono essere successivamente convertiti nel tipo di dati desiderato."
   ]
  }
 ],
 "metadata": {
  "kernelspec": {
   "display_name": "Python 3 (ipykernel)",
   "language": "python",
   "name": "python3"
  },
  "language_info": {
   "codemirror_mode": {
    "name": "ipython",
    "version": 3
   },
   "file_extension": ".py",
   "mimetype": "text/x-python",
   "name": "python",
   "nbconvert_exporter": "python",
   "pygments_lexer": "ipython3",
   "version": "3.11.2"
  }
 },
 "nbformat": 4,
 "nbformat_minor": 4
}
