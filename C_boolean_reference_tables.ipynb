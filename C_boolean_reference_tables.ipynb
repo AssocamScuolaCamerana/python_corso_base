{
 "cells": [
  {
   "attachments": {},
   "cell_type": "markdown",
   "metadata": {},
   "source": [
    "# Boolean\n",
    "\n",
    "Nei linguaggi di programmazione, il tipo booleano, o logico, è un modo comune per rappresentare qualcosa che ha solo due stati opposti, come ON o OFF, SI o NO, ecc.\n",
    "\n",
    "In Python, il tipo booleano è `bool`. I due valori possibili sono `True` e `False` scritti con l'iniziale maiuscola."
   ]
  },
  {
   "attachments": {},
   "cell_type": "markdown",
   "metadata": {},
   "source": [
    "## Conversione\n",
    "\n",
    "Possiamo convertire `bool` in `int` con la funzione `int()`. Ogni intero può essere convertito in un booleano (e vice versa) con `bool()`:"
   ]
  },
  {
   "attachments": {},
   "cell_type": "markdown",
   "metadata": {},
   "source": [
    "```python\n",
    "bool(1)\n",
    "bool(0)\n",
    "bool(72)\n",
    "bool(-5)\n",
    "int(True)\n",
    "int(False)\n",
    "```"
   ]
  },
  {
   "cell_type": "markdown",
   "metadata": {},
   "source": [
    "Possiamo tentare di convertire in booleano quasi qualunque oggetto Python. Prova:\n",
    "\n",
    "```python\n",
    "bool('')\n",
    "bool('0')\n",
    "bool('pippo')\n",
    "bool(None)\n",
    "bool([])\n",
    "bool([45, False])\n",
    "```"
   ]
  },
  {
   "attachments": {},
   "cell_type": "markdown",
   "metadata": {},
   "source": [
    "## Operatori tra booleani\n",
    "\n",
    "In Python ci sono tre operatori booleani incorporati: `and`, `or` e `not`. I primi due sono operatori binari, il che significa che si aspettano due argomenti. not è un operatore unario, che si applica sempre a un singolo operando. Vediamo innanzitutto questi operatori applicati ai valori booleani.\n",
    "\n",
    "Possiamo operare sui valori booleani con gli operatori booleani :\n",
    "\n",
    "###  and\n",
    "\n",
    "`and` è un operatore binario (accetta due operandi) e restituisce `True` se entrambi gli argomenti sono `True`, altrimenti restituisce `False`.\n",
    "\n",
    "| x     | y     |x and y |\n",
    "|-------|-------|--------|\n",
    "|`False`|`False`| `False`|\n",
    "|`False`|`True` | `False`|\n",
    "|`True` |`False`| `False`|\n",
    "|`True` |`True` | `True` |\n",
    "\n",
    "\n",
    "###  or\n",
    "\n",
    "`or` è un operatore binario, che restituisce `True` se almeno uno dei due argomenti è `True`, altrimenti restituisce `False`.\n",
    "\n",
    "| x     | y     | x or y |\n",
    "|-------|-------|--------|\n",
    "|`False`|`False`| `False`|\n",
    "|`False`|`True` | `True` |\n",
    "|`True` |`False`| `True` |\n",
    "|`True` |`True` | `True` |\n",
    "\n",
    "###  not\n",
    "\n",
    "`not` è un operatore unario (accetta un solo operando) che inverte il valore booleano del suo argomento.\n",
    "\n",
    "| x     |not x  |\n",
    "|-------|-------|\n",
    "|`False`|`True` |\n",
    "|`True` |`False`|"
   ]
  },
  {
   "attachments": {},
   "cell_type": "markdown",
   "metadata": {},
   "source": [
    "La precedenza delle operazioni booleane\n",
    "\n",
    "Gli operatori logici hanno una priorità diversa che influisce sull'ordine di valutazione. Ecco gli operatori in ordine di priorità:\n",
    "\n",
    "1. `not`\n",
    "2. `and`\n",
    "3. `or`\n",
    "\n",
    "Quindi, `not` viene considerato per primo, poi `and`, infine `or`. Tenendo presente questo, considerate la seguente espressione:\n",
    "\n",
    "```python\n",
    "print(Falso or not Falso)  # True\n",
    "```\n",
    "\n",
    "Per prima cosa viene valutata la parte `not False` e, dopo la valutazione, rimane `False or True`. Il risultato è dunque `True`.\n",
    "\n",
    "Anche se trattare solo i valori booleani può sembrare ovvio, la precedenza delle operazioni logiche sarà molto importante da ricordare quando si inizierà a lavorare con i cosiddetti valori _**truthy**_ e _**falsy**_."
   ]
  },
  {
   "attachments": {},
   "cell_type": "markdown",
   "metadata": {},
   "source": [
    "## Valori truthy e falsy\n",
    "\n",
    "Sebbene Python disponga del tipo di dati booleano, spesso è necessario usare valori non booleani in un contesto logico.\n",
    "\n",
    "Python consente di testare la veridicità (*truthfulness*) di quasi tutti gli oggetti. Quando vengono utilizzati con gli operatori logici, i valori di tipo non booleano, come i numeri interi o le stringhe, vengono chiamati _**truthy**_ e _**falsy**_. Ciò dipende dal fatto che vengano interpretati come `True` o `False`.\n",
    "\n",
    "I seguenti valori sono valutati come `False` in Python:\n",
    "\n",
    "- costanti definite come false: `None` e `False`,\n",
    "- zero di qualsiasi tipo numerico: `0`, `0.0`,\n",
    "- sequenze e contenitori vuoti: `\"\"`, `[]`, `{}`, `()`, `set()`.\n",
    "\n",
    "Tutto il resto viene generalmente valutato come Vero. Ecco un paio di esempi:\n",
    "\n",
    "```python\n",
    "print(0.0 or False)  # False\n",
    "print(\"True\" and True)  # True\n",
    "print(\"\" or False)  # False\n",
    "```"
   ]
  },
  {
   "attachments": {},
   "cell_type": "markdown",
   "metadata": {},
   "source": [
    "\n",
    "## Valori di ritorno degli operatori `and` e `or`\n",
    "\n",
    "In generale, `and` e `or` possono accettare qualsiasi argomento che possa essere *truthy* o *falsy*.\n",
    "\n",
    "```python\n",
    "# `and` ha una priorità più alta di `or`\n",
    "truthy_integer = False or 5 and 100  # 100\n",
    "```"
   ]
  },
  {
   "attachments": {},
   "cell_type": "markdown",
   "metadata": {},
   "source": [
    "Di nuovo, scomponiamo l'espressione precedente in parti. Dal momento che l'operatore `and` ha una priorità maggiore di `or`, dovremmo esaminare la parte `5 and 100`. Entrambi i valori `100` e `5` sono `True`, quindi l'operazione restituirà `100`. Non l'avete mai vista prima, quindi è naturale chiedersi perché abbiamo un numero al posto del valore `True`. La spiegazione è la seguente:"
   ]
  },
  {
   "attachments": {},
   "cell_type": "markdown",
   "metadata": {},
   "source": [
    "Gli operatori `or` e `and` restituiscono uno dei loro operandi, non necessariamente di tipo booleano (si vedano i dettagli più avanti). Tuttavia, `not` restituisce sempre un valore `bool`.\n",
    "\n",
    "- `and` restituisce il primo valore se la valutazione è `Falso`, altrimenti restituisce il secondo valore.\n",
    "\n",
    "```python\n",
    "False and True  # -> False\n",
    "True and True   # -> True\n",
    "True and False  # -> False\n",
    "```\n",
    "\n",
    "- `or` restituisce il primo valore se la valutazione è `True`, altrimenti restituisce il secondo valore.\n",
    "\n",
    "```python\n",
    "True or False   # -> True\n",
    "False or True   # -> True\n",
    "True or True    # -> True\n",
    "False or False  # -> False\n",
    "```\n",
    "\n",
    "Tornando all'espressione `False or 5 and 100`, si può notare che l'ultima parte `False or 100` fa esattamente la stessa cosa, restituendo 100 invece di Vero.\n",
    "\n",
    "Un altro esempio ingannevole è il seguente:\n",
    "\n",
    "```python\n",
    "tricky = not (False or '')  # True\n",
    "```\n",
    "\n",
    "Come per le espressioni aritmetiche, coppia di parentesi è un modo per specificare l'ordine di esecuzione delle operazioni.\n",
    "\n",
    "Pertanto, valutiamo prima questa parte dell'espressione: `False or ''`. L'operando `''` valuta `False`, e `or` restituisce una stringa vuota. Poiché il risultato dell'espressione racchiusa è negato, alla fine otteniamo Vero: `not ''` è uguale a `True`.\n",
    "\n",
    "Perché non abbiamo ottenuto, ad esempio, una stringa non vuota? L'operatore `not` crea un nuovo valore, che per default è di tipo `bool`."
   ]
  },
  {
   "attachments": {},
   "cell_type": "markdown",
   "metadata": {},
   "source": [
    "## Operatori di comparazione\n",
    "\n",
    "Gli operatori di comparazione permettono di costruire _espressioni_ che ritornano un valore `bool`:\n",
    "\n",
    "|Comparatore|Descrizione|\n",
    "|-----------|-----------|\n",
    "|`x == y`| `True` se e solo se x = y|\n",
    "|`x != y`| `True` se e solo se x $\\neq$ y|\n",
    "|`x < y`| `True` se e solo se x < y|\n",
    "|`x > y`| `True` se e solo se x > y|\n",
    "|`x <= y`| `True` se e solo se x $\\leq$ y|\n",
    "|`x >= y`| `True` se e solo se x $\\geq$ y|"
   ]
  },
  {
   "attachments": {},
   "cell_type": "markdown",
   "metadata": {},
   "source": [
    "## Concatenamento dei confronti\n",
    "\n",
    "Poiché le operazioni di confronto restituiscono valori `bool`, è possibile unirle utilizzando gli operatori logici.\n",
    "\n",
    "In questo caso, è importante conoscere la loro priorità, cioè quale viene eseguita per prima.\n",
    "\n",
    "Tutte le operazioni di confronto hanno la stessa priorità, che è la più bassa tispetto a qualsiasi altra operazione."
   ]
  },
  {
   "cell_type": "code",
   "execution_count": 39,
   "metadata": {},
   "outputs": [
    {
     "data": {
      "text/plain": [
       "True"
      ]
     },
     "execution_count": 39,
     "metadata": {},
     "output_type": "execute_result"
    }
   ],
   "source": [
    "x, y = 3, 4\n",
    "\n",
    "x > 0 and y > 0  # True\n",
    "\n",
    "0 < x < y  # True"
   ]
  },
  {
   "cell_type": "code",
   "execution_count": null,
   "metadata": {},
   "outputs": [
    {
     "data": {
      "text/plain": [
       "True"
      ]
     },
     "metadata": {},
     "output_type": "display_data"
    }
   ],
   "source": [
    "x = -5\n",
    "y = 10\n",
    "z = 12\n",
    "\n",
    "x < y and y <= z"
   ]
  },
  {
   "cell_type": "markdown",
   "metadata": {},
   "source": [
    "In Python esiste un modo più elegante per scrivere confronti complessi. Si chiama concatenamento.\n",
    "\n",
    "L'espreessione seguente è quasi equivalente a quella precedente. La differenza è che `y` viene valutato solo una volta."
   ]
  },
  {
   "cell_type": "code",
   "execution_count": null,
   "metadata": {},
   "outputs": [
    {
     "data": {
      "text/plain": [
       "True"
      ]
     },
     "metadata": {},
     "output_type": "display_data"
    }
   ],
   "source": [
    "x < y <= z"
   ]
  },
  {
   "cell_type": "markdown",
   "metadata": {},
   "source": [
    "Il concatenamento dei confronti, tuttavia, deve essere usato con cautela, perché a volte le espressioni possono diventare complicate, in quanto il risultato dipende dall'ordine degli operatori e da come sono messe le parentesi. Si consideri questo esempio:"
   ]
  },
  {
   "cell_type": "code",
   "execution_count": null,
   "metadata": {},
   "outputs": [
    {
     "name": "stdout",
     "output_type": "stream",
     "text": [
      "False\n",
      "True\n"
     ]
    }
   ],
   "source": [
    "a = 1\n",
    "b = 2\n",
    "c = 3\n",
    "e = 4\n",
    "f = 5\n",
    "g = 6\n",
    "\n",
    "print(b + c <= e or f + g >= e == f == 5)\n",
    "print((b + c <= e or f + g >= e) == (f == 5))"
   ]
  },
  {
   "attachments": {},
   "cell_type": "markdown",
   "metadata": {},
   "source": [
    "## Short-circuit evaluation\n",
    "\n",
    "Per questioni di efficienza, se durante la valutazione di un'espressione booleana Python scopre che il risultato possibile può essere solo uno, allora evita di calcolare le espressioni seguenti. Per esempio, in questa espressione:\n",
    "\n",
    "```python\n",
    "False and x\n",
    "```\n",
    "\n",
    "leggendo da sinistra a destra, nel momento in cui incontriamo `False` sappiamo già che il risultato della `and` sarà sempre `False` indipendentemente dal valore della `x` (convinciti!). \n",
    "\n",
    "Se invece leggendo da sinistra a destra Python trova prima `True`, continua la valutazione delle espressioni seguenti _e come risultato dell'intera_ `and` _restituisce la valutazione dell'_ ***ultima*** _espressione_. Se usiamo sempre booleani, non ci accorgeremo delle differenze, ma cambiando tipi potremmo ottenere delle sorprese:"
   ]
  },
  {
   "cell_type": "code",
   "execution_count": null,
   "metadata": {},
   "outputs": [
    {
     "data": {
      "text/plain": [
       "False"
      ]
     },
     "metadata": {},
     "output_type": "display_data"
    }
   ],
   "source": [
    "# la divisione non genera errore perché non viene mai valutata, dato che il primo argomento è False.\n",
    "False and (1 / 0)  # False\n",
    "\n",
    "# La divisione non genera errore perché non viene mai valutata, dato che il primo argomento è True.\n",
    "True or (1 / 0)  # True"
   ]
  },
  {
   "attachments": {},
   "cell_type": "markdown",
   "metadata": {},
   "source": [
    "Questo è dovuto al fatto che, per calcolare le espressioni che fanno uso degli operatori logici, Python effettua una cosiddetta \"[valutazione a corto circuito](https://it.wikipedia.org/wiki/Valutazione_a_corto_circuito)\" (*short-circuit evaluation* oppure *lazy evaluation*).\n",
    "\n",
    "La *short-circuit evaluation* è un meccanismo relativo agli operatori logici (più precisamente i booleani binari `and` e `or`).\n",
    "\n",
    "In pratica, il secondo operando viene valutato unicamente se il valore del primo operando non è sufficiente a determinare il risultato dell'espressione:\n",
    "\n",
    "- quando il primo argomento dell'operatore logico `and` è `False`, il valore dell'intera espressione dovrà essere necessariamente `False`;\n",
    "- quando il primo argomento dell'operatore logico `or` è `True`, il valore dell'intera espressione dovrà essere necessariamente `True`.\n",
    "\n",
    "> NOTA: Per alcune operazioni booleane, come l'operatore \"or esclusivo\" (XOR), non è possibile effettuare il cortocircuito, perché entrambi gli operandi sono sempre necessari per determinare il risultato."
   ]
  },
  {
   "attachments": {},
   "cell_type": "markdown",
   "metadata": {},
   "source": [
    "Vi è anche una conseguenza di questo comportamento:\n",
    "\n",
    "- `x and y` restituisce `x` se `x` è `False`; altrimenti, valuta e restituisce `y`.\n",
    "- `x or y` restituisce `x` se `x` è `True`; altrimenti, valuta e restituisce `y`."
   ]
  },
  {
   "cell_type": "markdown",
   "metadata": {},
   "source": [
    "\n",
    "\n",
    "Questo permette di:\n",
    "- sveltire il calcolo del risultato delle espressioni,\n",
    "- disporre di un'istruzione condizionale in forma compatta (qualora la valutazione del secondo operando produca degli [effetti collaterali](https://it.wikipedia.org/wiki/Effetto_collaterale_(informatica)).\n",
    "\n",
    "`and` e `or`, possono essere considerate delle vere e proprie strutture di controllo, piuttosto che semplici operatori logici, poiché non sono proprio \"rigorosi\", nel senso che se il secondo operando produce un qualche effetto collaterale (side effect), questo potrebbe non venire valutato e dunque non produrre tale effetto."
   ]
  },
  {
   "cell_type": "markdown",
   "metadata": {},
   "source": [
    "Questa scrittura (criptica e poco pitonica):"
   ]
  },
  {
   "cell_type": "code",
   "execution_count": null,
   "metadata": {},
   "outputs": [
    {
     "name": "stdout",
     "output_type": "stream",
     "text": [
      "['pippo']\n"
     ]
    }
   ],
   "source": [
    "test = True\n",
    "# test = False\n",
    "lista = []\n",
    "\n",
    "test and lista.append('pippo')\n",
    "\n",
    "print(b)"
   ]
  },
  {
   "cell_type": "markdown",
   "metadata": {},
   "source": [
    "Equivale a questa (molto meglio!):"
   ]
  },
  {
   "cell_type": "code",
   "execution_count": null,
   "metadata": {},
   "outputs": [
    {
     "name": "stdout",
     "output_type": "stream",
     "text": [
      "[]\n"
     ]
    }
   ],
   "source": [
    "test = True\n",
    "# test = False\n",
    "lista = []\n",
    "\n",
    "if test:\n",
    "    lista.append('pippo')\n",
    "\n",
    "print(b)"
   ]
  },
  {
   "cell_type": "markdown",
   "metadata": {},
   "source": [
    "In questo caso, con l'operatore `or` usato in questo modo è abbastanza chiaro:"
   ]
  },
  {
   "cell_type": "code",
   "execution_count": null,
   "metadata": {},
   "outputs": [
    {
     "name": "stdout",
     "output_type": "stream",
     "text": [
      "Test superato!\n"
     ]
    }
   ],
   "source": [
    "test = 'Test superato!'  # bool('Test superato!') == True\n",
    "# test = ''              # bool('') == False\n",
    "\n",
    "result = test or 'Test fallito!'\n",
    "\n",
    "print(result)"
   ]
  },
  {
   "cell_type": "markdown",
   "metadata": {},
   "source": [
    "Che equivale a questo, altrettanto chiaro:"
   ]
  },
  {
   "cell_type": "code",
   "execution_count": null,
   "metadata": {},
   "outputs": [
    {
     "name": "stdout",
     "output_type": "stream",
     "text": [
      "Test superato!\n"
     ]
    }
   ],
   "source": [
    "test = 'Test superato!'\n",
    "# test = False\n",
    "\n",
    "if not test:\n",
    "    result = 'Test fallito!'\n",
    "\n",
    "print(result)"
   ]
  },
  {
   "attachments": {},
   "cell_type": "markdown",
   "metadata": {},
   "source": [
    "> CURIOSITÀ: Alcuni linguaggi di programmazione (es. ADA, Eiffel) fanno riferimento a questi operatori come \"**and then**\" (e quindi) per `and` e \"**or else**\" (o altrimenti) per `or`."
   ]
  },
  {
   "cell_type": "markdown",
   "metadata": {},
   "source": [
    "### Attenzione! Logica e aritmetica"
   ]
  },
  {
   "attachments": {},
   "cell_type": "markdown",
   "metadata": {},
   "source": [
    "Visti i comportamenti degli operatori logici cortocircuitati in Python, se in un'espressione sono presenti una parte logica e una aritmetica, potremmo dunque vedere dei comportamenti insoliti.\n"
   ]
  },
  {
   "cell_type": "code",
   "execution_count": 2,
   "metadata": {},
   "outputs": [
    {
     "name": "stdout",
     "output_type": "stream",
     "text": [
      "33\n",
      "True\n",
      "False\n",
      "False\n",
      "True\n",
      "33\n",
      "33\n",
      "33\n"
     ]
    }
   ],
   "source": [
    "a = 1\n",
    "b = 2\n",
    "c = 3\n",
    "e = 4\n",
    "f = 5\n",
    "g = 6\n",
    "\n",
    "# espressioni \"True and\" restituiscono il risultato dell'ultima operazione:\n",
    "print(b + c * f >= e and (f + g) * c)  # (17 >= 4 is True) and 33 -> 33\n",
    "print((f + g) * c and b + c * f >= e)  # 33 and (17 >= 4 is True) -- > True\n",
    "\n",
    "# espressioni \"False and\" restituiscono False:\n",
    "print(b + c * f <= e and (f + g) * c)  # (17 <= 4 is False) and 33 --> False\n",
    "print((f + g) * c and b + c * f <= e)  # 33 and (17 <= 4 is False) --> False\n",
    "\n",
    "# espressioni \"True or\" restituiscono il risultato della prima operazione:\n",
    "print(b + c * f >= e or (f + g) * c)  # (17 >= 4 is True) or 33 --> True\n",
    "print((f + g) * c or b + c * f >= e)  # 33 or (17 >= 4 is True) --> 33\n",
    "\n",
    "# espressioni \"True/False or\" restituiscono il risultato della parte True:\n",
    "print((f + g) * c or b + c * f <= e)  # 33 or (17 <= 4 is False) --> 33\n",
    "print(b + c * f <= e or (f + g) * c)  # (17 <= 4 is False) or 33 --> 33"
   ]
  },
  {
   "attachments": {},
   "cell_type": "markdown",
   "metadata": {},
   "source": [
    "A prima vista potrebbe sembrare confuso ma, se ci si pensa bene, ogni valore stampato è perfettamente legale e conforme alla comune logica matematica e alla natura degli operatori logici cortocircuitati."
   ]
  },
  {
   "cell_type": "markdown",
   "metadata": {},
   "source": [
    "## Leggi di De Morgan\n",
    "\n",
    "A volte può essere utile avere a mente alcune relazioni di equivalenza tra gli operatori logici:\n",
    "\n",
    "| [Gate](https://it.wikipedia.org/wiki/Porta_logica) | Python op. | Formula | Equivalente a |\n",
    "|------|------------|------------------------------|------------------------------------|\n",
    "| OR   | `or`       | `x or y`                     | `not(not x and not y)`             |\n",
    "| NOR  | `not(or)`  | `not (x or y)`               | `not x and not y`                  |\n",
    "| AND  | `and`      | `x and y`                    | `not(not x or not y)`              |\n",
    "| NAND | `not(and)` | `not (x and y)`              | `not x or not y`                   |"
   ]
  },
  {
   "attachments": {},
   "cell_type": "markdown",
   "metadata": {},
   "source": [
    "### XOR: Operatori logici e di confronto"
   ]
  },
  {
   "attachments": {},
   "cell_type": "markdown",
   "metadata": {},
   "source": [
    "In python l'operatore logico XOR è disponibile solo in versione bitwise tramite l'operatore `^` o tramite il modulo `operator` con `operator.xor()`.\n",
    "\n",
    "Tuttavia XOR e la sua negazione XNOR possono anche essere rappresentate in questi modi:\n",
    "\n",
    "| [Gate](https://it.wikipedia.org/wiki/Porta_logica) | Python op. | Formula | Equivalente a |\n",
    "|------|------------|------------------------------|------------------------------------|\n",
    "| XOR  | `!=`       | `(x or y) and not (x and y)` | `(x or y) and (not x or not y)`    |\n",
    "| XNOR | `==`       | `not (x or y) or (x and y)`  | `not ((x or y) and not (x and y))` |\n",
    "\n",
    "È possibile utilizzare `!=` e `==` come XOR e XNOR solo se i valori truthy e falsy degli operandi sono stati convertiti esplicitamente in `bool`.\n",
    "\n",
    "> ATTENZIONE: `not` ha una priorità inferiore rispetto agli operatori non booleani, quindi `not a == b` viene interpretato come `not (a == b)` e `a == not b` solleverà un errore di sintassi."
   ]
  },
  {
   "cell_type": "code",
   "execution_count": 32,
   "metadata": {},
   "outputs": [
    {
     "ename": "SyntaxError",
     "evalue": "invalid syntax (1386348353.py, line 1)",
     "output_type": "error",
     "traceback": [
      "\u001b[0;36m  Cell \u001b[0;32mIn[32], line 1\u001b[0;36m\u001b[0m\n\u001b[0;31m    False == not True\u001b[0m\n\u001b[0m             ^\u001b[0m\n\u001b[0;31mSyntaxError\u001b[0m\u001b[0;31m:\u001b[0m invalid syntax\n"
     ]
    }
   ],
   "source": [
    "False == not True"
   ]
  },
  {
   "attachments": {},
   "cell_type": "markdown",
   "metadata": {},
   "source": [
    "### Testare le equivalenze tra diverse espressioni"
   ]
  },
  {
   "attachments": {},
   "cell_type": "markdown",
   "metadata": {},
   "source": [
    "Nella cella di codice qua sotto potete provare a riscrivere delle espressioni e provare se una forma effettivamente corrisponde ad un'altra.\n",
    "\n",
    "Modifica `orig` e `trasf` con due espressioni booleane equivalenti e prova a vedere se effettivamente hanno lo stesso risultato."
   ]
  },
  {
   "cell_type": "code",
   "execution_count": null,
   "metadata": {},
   "outputs": [
    {
     "name": "stdout",
     "output_type": "stream",
     "text": [
      "Le due espressioni sono equivalenti!\n"
     ]
    }
   ],
   "source": [
    "inputs = [(False, False),\n",
    "          (False, True),\n",
    "          (True, False),\n",
    "          (True, True)]\n",
    "\n",
    "for x, y in inputs:\n",
    "    orig = x or y\n",
    "    trasf = not(not x and not y)\n",
    "    assert(orig == trasf)  # Se i due risultati non sono uguali, solleva un errore.\n",
    "\n",
    "print('Le due espressioni sono equivalenti!')  # Se viene stampato questo messaggio, significa\n",
    "                                               # che nessun errore è stato sollevato."
   ]
  }
 ],
 "metadata": {
  "kernelspec": {
   "display_name": ".venv",
   "language": "python",
   "name": "python3"
  },
  "language_info": {
   "codemirror_mode": {
    "name": "ipython",
    "version": 3
   },
   "file_extension": ".py",
   "mimetype": "text/x-python",
   "name": "python",
   "nbconvert_exporter": "python",
   "pygments_lexer": "ipython3",
   "version": "3.11.2"
  },
  "orig_nbformat": 4
 },
 "nbformat": 4,
 "nbformat_minor": 2
}
