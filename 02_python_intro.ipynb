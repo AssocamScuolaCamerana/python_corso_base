{
 "cells": [
  {
   "cell_type": "markdown",
   "metadata": {
    "slideshow": {
     "slide_type": "slide"
    },
    "tags": []
   },
   "source": [
    "# Introduzione a Python\n",
    "\n",
    "![python_logo.png](./imgs/python_logo.png)"
   ]
  },
  {
   "cell_type": "markdown",
   "metadata": {
    "slideshow": {
     "slide_type": "slide"
    },
    "tags": []
   },
   "source": [
    "## Perché Python?"
   ]
  },
  {
   "cell_type": "markdown",
   "metadata": {
    "slideshow": {
     "slide_type": "fragment"
    },
    "tags": []
   },
   "source": [
    "**<u>Semplice</u>** a sufficienza per iniziare anche senza basi di programmazione (molto simile allo pseudocodice)."
   ]
  },
  {
   "cell_type": "markdown",
   "metadata": {
    "slideshow": {
     "slide_type": "fragment"
    },
    "tags": []
   },
   "source": [
    "**<u>Versatile</u>** e **<u>multipiattaforma</u>**, molto usato per scripting, applicazioni web, calcolo scientifico, intelligenza artificiale..."
   ]
  },
  {
   "cell_type": "markdown",
   "metadata": {
    "slideshow": {
     "slide_type": "fragment"
    },
    "tags": []
   },
   "source": [
    "**<u>Diffuso</u>** sia nell’industria che nella ricerca (vedi [Indice TIOBE](https://www.tiobe.com/tiobe-index/), [Popolarità su Github](https://madnight.github.io/githut), [Popolarità su Stack Overflow](https://insights.stackoverflow.com/trends))."
   ]
  },
  {
   "cell_type": "markdown",
   "metadata": {
    "slideshow": {
     "slide_type": "fragment"
    },
    "tags": []
   },
   "source": [
    "**<u>[Open source](https://github.com/python/cpython/)</u>** & *business friendly* (potete vendere prodotti commerciali basati su Python senza pagare royalties)."
   ]
  },
  {
   "cell_type": "markdown",
   "metadata": {
    "slideshow": {
     "slide_type": "slide"
    },
    "tags": []
   },
   "source": [
    "## Breve storia di Python"
   ]
  },
  {
   "cell_type": "markdown",
   "metadata": {
    "slideshow": {
     "slide_type": "fragment"
    },
    "tags": []
   },
   "source": [
    "Ideato nel 1989 dall’informatico olandese [Guido van Rossum](https://gvanrossum.github.io/) originariamente come [linguaggio di scripting](https://it.wikipedia.org/wiki/Linguaggio_di_scripting), Python si è poi evoluto in un [linguaggio completo](https://it.wikipedia.org/wiki/Linguaggio_di_programmazione)."
   ]
  },
  {
   "cell_type": "markdown",
   "metadata": {
    "slideshow": {
     "slide_type": "fragment"
    },
    "tags": []
   },
   "source": [
    "Il nome fu scelto per via della passione di van Rossum per i [Monty Python](http://www.montypython.com) e in particolare per la loro serie televisiva *Monty Python's Flying Circus*."
   ]
  },
  {
   "cell_type": "markdown",
   "metadata": {
    "slideshow": {
     "slide_type": "fragment"
    },
    "tags": []
   },
   "source": [
    "- Nel 1991 rilascia la prima versione pubblica, la 0.9 (&rarr; [curiosità](https://www.tuhs.org/Usenet/alt.sources/1991-February/001749.html)).\n",
    "- Nel 1994 esce la versione 1.0.\n",
    "- Nel 2000 esce la versione 2.0.\n",
    "- Nel 2008 esce la versione 3.0.\n",
    "    - Nel 2016 esce la versione 3.6, che introduce alcuni importanti migliorie.\n",
    "    - L'attuale versione è la 3.11, uscita nel 2022."
   ]
  },
  {
   "cell_type": "markdown",
   "metadata": {
    "slideshow": {
     "slide_type": "subslide"
    },
    "tags": []
   },
   "source": [
    "Durante questo corso possiamo usare qualunque versione dalla 3.8 in avanti."
   ]
  },
  {
   "cell_type": "markdown",
   "metadata": {
    "slideshow": {
     "slide_type": "subslide"
    },
    "tags": []
   },
   "source": [
    "[Python Timeline (support)](https://en.wikipedia.org/wiki/History_of_Python#Support)\n",
    "\n",
    "[Python Timeline (release)](https://www.mclibre.org/consultar/python/otros/historia.html)"
   ]
  },
  {
   "cell_type": "markdown",
   "metadata": {
    "slideshow": {
     "slide_type": "slide"
    },
    "tags": []
   },
   "source": [
    "## Caratteristiche peculiari di Python: pro e contro"
   ]
  },
  {
   "cell_type": "markdown",
   "metadata": {
    "slideshow": {
     "slide_type": "subslide"
    },
    "tags": []
   },
   "source": [
    "### Pro\n",
    "- Linguaggio interpretato e di facile debug.\n",
    "- Linguaggio di alto livello.\n",
    "- Segue il paradigma orientato agli oggetti.\n",
    "- Libreria Standard molto estesa.\n",
    "- Flessibile ed estendibile con moduli di terze parti (vedi [PyPI](https://pypi.org/)) e facilmente integrabile con C/C++ e Java.\n",
    "- Con una [tipizzazione](https://it.wikipedia.org/wiki/Tipo_di_dato) dei dati [*forte* e *dinamica*](https://velog.io/@dhlee91/Static-vs.-Dynamic-Strong-vs.-Weak-typing) (e anche *statica*, se necessario).\n",
    "- Multipiattaforma: è possibile utilizzare lo stesso codice su diverse piattaforme come Windows, macOS, Unix o Linux.\n",
    "- Ben documentato e con un'ottima comunità di supporto.\n",
    "\n",
    "NOTA: La *tipizzazione statica* deve essere controllata con uno strumento di analisi di terze parti (es. [MyPy](https://github.com/python/mypy))."
   ]
  },
  {
   "cell_type": "markdown",
   "metadata": {
    "slideshow": {
     "slide_type": "subslide"
    },
    "tags": []
   },
   "source": [
    "### Contro\n",
    "- Più lento dei linguaggi compilati.\n",
    "- Configurazione dell'ambiente di lavoro (*environment*) alle volte complessa per un principiante.\n",
    "- Alto consumo di memoria (RAM).\n",
    "- La tipizzazione *dinamica* può portare a grossi problemi se non gestita in modo consapevole.\n",
    "- Le falle nella sicurezza sono dietro l'angolo se non si fanno adeguati test di qualità.\n",
    "- Il multithreading e il multiprocessing possono comportarsi in modi diversi su piattaforme diverse ed è talvolta necessario ricorrere a differenti implementazioni di Python (es. [PyPy](https://foss.heptapod.net/pypy/pypy)) o estensioni (es. [Cython](https://cython.org/) per avere un incremento delle prestazioni."
   ]
  },
  {
   "cell_type": "markdown",
   "metadata": {
    "slideshow": {
     "slide_type": "subslide"
    },
    "tags": []
   },
   "source": [
    "### Dietro le quinte di un linguaggio interpretato: Python bytecode"
   ]
  },
  {
   "cell_type": "markdown",
   "metadata": {
    "slideshow": {
     "slide_type": "fragment"
    },
    "tags": []
   },
   "source": [
    "In generale, il bytecode è definibile come linguaggio intermedio (astratto) tra il linguaggio macchina e il linguaggio di programmazione."
   ]
  },
  {
   "cell_type": "markdown",
   "metadata": {
    "slideshow": {
     "slide_type": "fragment"
    },
    "tags": []
   },
   "source": [
    "![compiled_language.jpeg](./imgs/compiled_language.png)"
   ]
  },
  {
   "cell_type": "markdown",
   "metadata": {
    "slideshow": {
     "slide_type": "subslide"
    },
    "tags": []
   },
   "source": [
    "Il codice sorgente Python viene compilato in bytecode, la rappresentazione interna di un programma Python nell'interprete CPython."
   ]
  },
  {
   "cell_type": "markdown",
   "metadata": {
    "slideshow": {
     "slide_type": "fragment"
    },
    "tags": []
   },
   "source": [
    "![bytecode.jpeg](./imgs/bytecode.png)"
   ]
  },
  {
   "cell_type": "markdown",
   "metadata": {
    "slideshow": {
     "slide_type": "subslide"
    },
    "tags": []
   },
   "source": [
    "Il bytecode generato viene anche memorizzato (*cached*) in un file con estensione `.pyc`, in modo che l'esecuzione dello stesso file sia più veloce la seconda volta (si evita la ricompilazione dal sorgente al bytecode)."
   ]
  },
  {
   "cell_type": "markdown",
   "metadata": {
    "slideshow": {
     "slide_type": "fragment"
    },
    "tags": []
   },
   "source": [
    "Questo \"linguaggio intermedio\" viene eseguito su una macchina virtuale che esegue il codice macchina corrispondente a ciascun bytecode."
   ]
  },
  {
   "cell_type": "markdown",
   "metadata": {
    "slideshow": {
     "slide_type": "fragment"
    },
    "tags": []
   },
   "source": [
    "Per approfondire: [Playing with Python Bytecode - PyCon 2016](https://www.youtube.com/watch?v=mxjv9KqzwjI)"
   ]
  },
  {
   "cell_type": "markdown",
   "metadata": {
    "slideshow": {
     "slide_type": "slide"
    },
    "tags": []
   },
   "source": [
    "## Ecosistema di Python"
   ]
  },
  {
   "cell_type": "markdown",
   "metadata": {
    "slideshow": {
     "slide_type": "fragment"
    },
    "tags": []
   },
   "source": [
    "Python è oggi utilizzato in centinaia di prodotti software. Per farti un'idea puoi guardare questa lista su Wikipedia: [List of Python software](https://en.wikipedia.org/wiki/List_of_Python_software)."
   ]
  },
  {
   "cell_type": "markdown",
   "metadata": {
    "slideshow": {
     "slide_type": "fragment"
    },
    "tags": []
   },
   "source": [
    "Ecco una panoramica specifica per settore degli strumenti Python più famosi, compresi framework, librerie o pacchetti."
   ]
  },
  {
   "cell_type": "markdown",
   "metadata": {
    "slideshow": {
     "slide_type": "subslide"
    },
    "tags": []
   },
   "source": [
    "#### Web Development\n",
    "| Tool        | Caratteristiche principali                                                                                                                                                    |\n",
    "| ----------- | ----------------------------------------------------------------------------------------------------------------------------------------------------------------------------- |\n",
    "| Flask       | Un micro framework web; ottimo per la realizzazione di applicazioni web leggere; estensibilità flessibile a funzionalità di terze parti.                                      |\n",
    "| Django      | Un framework web completo; ottimo per la creazione di applicazioni web basate su database; altamente scalabile come soluzione aziendale.                                      |\n",
    "| Odoo        | Un framework web completo e pronto out-of-the-box per realizzare software di gestione aziendale, produttività (lato back-end) e anche siti web (lato front-end).              |\n",
    "| FastAPI     | Framework web per la creazione di API; convalida e conversione dei dati; generazione automatica di API per interfacce web.                                                    |"
   ]
  },
  {
   "cell_type": "markdown",
   "metadata": {
    "slideshow": {
     "slide_type": "subslide"
    },
    "tags": []
   },
   "source": [
    "#### Data Science\n",
    "| Tool        | Caratteristiche principali                                                                                                                                                    |\n",
    "| ----------- | ----------------------------------------------------------------------------------------------------------------------------------------------------------------------------- |\n",
    "| NumPy       | Specializzato nell'elaborazione di grandi array multidimensionali; elevata efficienza computazionale; parte integrante di molte altre librerie.                               |\n",
    "| Pandas      | Un pacchetto versatile per l'elaborazione di dati bidimensionali simili a fogli di calcolo; manipolazione completa dei dati.                                                  |\n",
    "| Statsmodels | Un pacchetto popolare per le statistiche, come la regressione lineare, la correlazione, la modellazione bayesiana e l'analisi di sopravvivenza.                               |\n",
    "| Matplotlib  | Un paradigma orientato agli oggetti per disegnare istogrammi, grafici a dispersione, diagrammi a torta e altre figure comuni con una varietà di impostazioni personalizzabili.|\n",
    "| Seaborn     | Una libreria di visualizzazione facile da usare per disegnare grafici attraenti; API di alto livello basate su Matplotlib.                                                    |"
   ]
  },
  {
   "cell_type": "markdown",
   "metadata": {
    "slideshow": {
     "slide_type": "subslide"
    },
    "tags": []
   },
   "source": [
    "#### Machine Learning\n",
    "| Tool         | Caratteristiche principali                                                                                                                                                    |\n",
    "| ------------ | ----------------------------------------------------------------------------------------------------------------------------------------------------------------------------- |\n",
    "| Scikit-learn | Un'ampia gamma di strumenti di pre-elaborazione per la costruzione di modelli ML; implementazione di algoritmi ML comuni.                                                     |\n",
    "| TensorFlow   | Un framework con API di alto e basso livello; strumento di visualizzazione Tensor board; ottimo per costruire reti neurali complesse.                                         |\n",
    "| Keras        | API di alto livello per la costruzione di reti neurali; facile da usare; ottimo per la costruzione di modelli a basse prestazioni.                                            |\n",
    "| PyTorch      | Un framework per la costruzione di reti neurali; stile di codice più intuitivi rispetto a TensorFlow; ottimo per la costruzione di reti neurali complesse.                    |\n",
    "| FastAI       | API di alto livello per la costruzione di reti neurali basato su PyTorch; facile da usare.   "
   ]
  },
  {
   "cell_type": "markdown",
   "metadata": {
    "slideshow": {
     "slide_type": "slide"
    },
    "tags": []
   },
   "source": [
    "## Python in azione: un esempio con Odoo"
   ]
  },
  {
   "cell_type": "markdown",
   "metadata": {
    "slideshow": {
     "slide_type": "fragment"
    },
    "tags": []
   },
   "source": [
    "Un software che ci può faciilmente mostrare le potenzialità di Python è senza dubbio [Odoo](https://github.com/odoo/odoo) (in precedenza noto com Open ERP), che è sia un'applicazione vera e propria sia un framework completo per lo sviiluppo di \"gestionali\" aziendali (o perché no, anche personali!)."
   ]
  },
  {
   "cell_type": "markdown",
   "metadata": {
    "slideshow": {
     "slide_type": "fragment"
    },
    "tags": []
   },
   "source": [
    "![odoo-logo.png](./imgs/odoo-logo.png)"
   ]
  },
  {
   "cell_type": "markdown",
   "metadata": {
    "slideshow": {
     "slide_type": "subslide"
    },
    "tags": []
   },
   "source": [
    "**Odoo** è sviluppato all'azienda belga *Odoo S.A.* ed è rilasciato sotto la licenza libera LGPL v3, seguendo il modello di business detto \"open core\"."
   ]
  },
  {
   "cell_type": "markdown",
   "metadata": {
    "slideshow": {
     "slide_type": "fragment"
    },
    "tags": []
   },
   "source": [
    "Infatti Odoo S.A. offre anche a pagamento una suite commerciale rilasciata sotto licenza proprietaria e chiamata _**Odoo Enterptise Edition**_."
   ]
  },
  {
   "cell_type": "markdown",
   "metadata": {
    "slideshow": {
     "slide_type": "fragment"
    },
    "tags": []
   },
   "source": [
    "Tuttavia il \"core\" chiamato _**Odoo Community Edition**_, che è a tutti gli effetti l'applicazione vera e propria, è open source e completamente funzionale già \"out-of-the-box\". Inoltre, la comunità ha fondato la _**Odoo Communinty Association**_ allo scopo di offrire un ecosistema di applicazioni libere da utilizzare sul \"core\" in alternativa a Odoo Enterprise."
   ]
  },
  {
   "cell_type": "markdown",
   "metadata": {
    "slideshow": {
     "slide_type": "notes"
    },
    "tags": []
   },
   "source": [
    "Tuttavia chiunque, anche con conoscenze basilari di Python, può sviluppare una semplice applicazione per Odoo con estrema facilità."
   ]
  },
  {
   "cell_type": "markdown",
   "metadata": {
    "slideshow": {
     "slide_type": "notes"
    },
    "tags": []
   },
   "source": [
    "Odoo offre un [ORM](https://it.wikipedia.org/wiki/Object-relational_mapping) simile a quello di [Django](https://it.wikipedia.org/wiki/Django_(informatica)), ma con un ecosistema di moduli meno dispersivo, più organico e strutturato."
   ]
  },
  {
   "cell_type": "markdown",
   "metadata": {
    "slideshow": {
     "slide_type": "subslide"
    },
    "tags": []
   },
   "source": [
    "Ecco alcuni link utili:\n",
    "- [Odoo.com](https://www.odoo.com/): il sito commerciale dell'azienda che offre anche odoo come SaaS.\n",
    "- [Odoo CE repository](https://github.com/odoo/odoo): il codice sorgente ufficiale della \"Community Edition\", ovvero il \"core\".\n",
    "- [Odoo Community Association repositories](https://github.com/OCA): vari repository divisi per categoria dove trovare le applicazioni scritte dalla community e approvate dalla \"Odoo Community Association\"."
   ]
  },
  {
   "cell_type": "markdown",
   "metadata": {
    "slideshow": {
     "slide_type": "fragment"
    },
    "tags": []
   },
   "source": [
    "Per provare una versione di Odoo, puoi utilizzare il servizio di test automatico [RunBot](https://runbot.odoo.com/) e accedere ad una istanza con le credenziali di login `admin` e password `admin`."
   ]
  },
  {
   "cell_type": "markdown",
   "metadata": {
    "slideshow": {
     "slide_type": "subslide"
    },
    "tags": []
   },
   "source": [
    "Ma ora andiamo a vedere un paio di esempi di Python dentro Odoo:"
   ]
  },
  {
   "cell_type": "markdown",
   "metadata": {
    "slideshow": {
     "slide_type": "fragment"
    },
    "tags": []
   },
   "source": [
    "- [Metodo su un campo calcolato](https://github.com/odoo/odoo/blob/14eddf9fde5480d283245f4f3506bbe1aa3fa52d/addons/mail/models/mail_message.py#L206).\n",
    "- [Metodo da eseguire all'archiviazione di un record](https://github.com/odoo/odoo/blob/14eddf9fde5480d283245f4f3506bbe1aa3fa52d/addons/hr/models/hr_employee.py#L386)."
   ]
  },
  {
   "cell_type": "markdown",
   "metadata": {
    "slideshow": {
     "slide_type": "fragment"
    },
    "tags": []
   },
   "source": [
    "Riesci ad intuire quali operazioni vengono eseguite in questi esempi?"
   ]
  },
  {
   "cell_type": "markdown",
   "metadata": {
    "slideshow": {
     "slide_type": "fragment"
    },
    "tags": []
   },
   "source": [
    "Al termine di questo corso riproveremo ad aprire questi link e ne riparleremo... ma intanto, sono riuscito a stimolare ulteriormente il tuo interesse e la tua curiosità?"
   ]
  },
  {
   "cell_type": "markdown",
   "metadata": {
    "slideshow": {
     "slide_type": "slide"
    },
    "tags": []
   },
   "source": [
    "## Differenze tra Python v2 e v3"
   ]
  },
  {
   "cell_type": "markdown",
   "metadata": {
    "slideshow": {
     "slide_type": "fragment"
    },
    "tags": []
   },
   "source": [
    "IMPORTANTE: Python 3 non è retrocompatibile con Python 2!"
   ]
  },
  {
   "cell_type": "markdown",
   "metadata": {
    "slideshow": {
     "slide_type": "fragment"
    },
    "tags": []
   },
   "source": [
    "L'ultima versione di Python 2 è la v2.7. È uscita nel 2010 ed è stata dismessa nel 2020."
   ]
  },
  {
   "cell_type": "markdown",
   "metadata": {
    "slideshow": {
     "slide_type": "fragment"
    },
    "tags": []
   },
   "source": [
    "Dato che gli sviluppatori hanno avuto a disposizione 10 anni di tempo per portare tutti i loro progetti alla v3, consideriamo la v2 definitivamente defunta e non dovrebbe più essere utilizzata."
   ]
  },
  {
   "cell_type": "markdown",
   "metadata": {
    "slideshow": {
     "slide_type": "fragment"
    },
    "tags": []
   },
   "source": [
    "Oggi dunque, preoccuparsi delle differenze tra Python 2 e Python 3 non ha più molto senso, soprattutto ai fini di questo corso."
   ]
  },
  {
   "cell_type": "markdown",
   "metadata": {
    "slideshow": {
     "slide_type": "notes"
    },
    "tags": []
   },
   "source": [
    "Considera però che che potresti incontrare ancora del codice scritto per Python 2 in vecchi repository o in vecchi manuali, trovandoti così di fronte a sintassi a cui non sei abituato. Se proprio ti interessa, puoi approfondire questo argomento qua: [Python 2 vs Python 3 - considerazioni pratiche](https://www.0x90.it/python-2-vs-python-3/)."
   ]
  },
  {
   "cell_type": "markdown",
   "metadata": {
    "slideshow": {
     "slide_type": "fragment"
    },
    "tags": []
   },
   "source": [
    "IMPORTANTE: In questo corso utilizzeremo Python 3!"
   ]
  },
  {
   "cell_type": "markdown",
   "metadata": {
    "slideshow": {
     "slide_type": "slide"
    },
    "tags": []
   },
   "source": [
    "## Installazione di Python"
   ]
  },
  {
   "cell_type": "markdown",
   "metadata": {
    "slideshow": {
     "slide_type": "fragment"
    },
    "tags": []
   },
   "source": [
    "Passiamo finalmente alla pratica. Scarichiamo e installiamo Python."
   ]
  },
  {
   "cell_type": "markdown",
   "metadata": {
    "slideshow": {
     "slide_type": "fragment"
    },
    "tags": []
   },
   "source": [
    "Python può essere installato su machine Windows, Linux e Mac scaricando la versione desiderata dalla [pagina ufficiale dei download](https://www.python.org/downloads/)."
   ]
  },
  {
   "cell_type": "markdown",
   "metadata": {
    "slideshow": {
     "slide_type": "subslide"
    },
    "tags": []
   },
   "source": [
    "### Windows"
   ]
  },
  {
   "cell_type": "markdown",
   "metadata": {
    "slideshow": {
     "slide_type": "fragment"
    },
    "tags": []
   },
   "source": [
    "Su Windows è sufficiente scaricare e installare direttamente la versione che viene proposta."
   ]
  },
  {
   "cell_type": "markdown",
   "metadata": {
    "slideshow": {
     "slide_type": "fragment"
    },
    "tags": []
   },
   "source": [
    "I file verranno installati nella posizione `C:\\Users\\<username>\\AppData\\Local\\Programs\\Python\\Python3x` (NB: il \"`3x`\" indica la versione che hai installato)."
   ]
  },
  {
   "cell_type": "markdown",
   "metadata": {
    "slideshow": {
     "slide_type": "notes"
    },
    "tags": []
   },
   "source": [
    "Tra le varie opzioni di installazione conviene spuntare quella che permette di aggiungere automaticamente i percorsi dove si trovano `python` e `pip` alle variabili d'ambiente, in modo che potremmo richiamare questi comandi da qualunqe posizione ci troviamo nel prompt dei comandi. Se vi dimenticate di farlo alla prima installazione, potete sempre avviare di nuovo l'installer e aggiungere l'opzione."
   ]
  },
  {
   "cell_type": "markdown",
   "metadata": {
    "slideshow": {
     "slide_type": "notes"
    },
    "tags": []
   },
   "source": [
    "Un'altra opzione che invece è spuntata di default è quella che permette di associare i file con estensione `.py` all'interprete di Python e quindi eseguire gli script con un semplice doppio click. Io consiglio di togliere questa spunta ed eventualmente fare questa associazione in futuro, solo se sarà necessario. I file di Python sono degli script e possono eseguire anche del codice malevolo, se li scaricate da internet da una fonte non affidabile. Di norma è sempre meglio non avere la possibilità di eseguire codice con un semplice doppio click (o invio), a meno che non sappiate cosa state facendo."
   ]
  },
  {
   "cell_type": "markdown",
   "metadata": {
    "slideshow": {
     "slide_type": "fragment"
    },
    "tags": []
   },
   "source": [
    "Al termine dell'installazione troveremo la voce \"Python\" nel menù delle applicazioni la quale ci offre i collegementi per aprire l'interprete interattivo di Python oppure avviare IDLE, l'IDE ufficiale e integrato con Python."
   ]
  },
  {
   "cell_type": "markdown",
   "metadata": {
    "slideshow": {
     "slide_type": "subslide"
    },
    "tags": []
   },
   "source": [
    "### macOS"
   ]
  },
  {
   "cell_type": "markdown",
   "metadata": {
    "slideshow": {
     "slide_type": "fragment"
    },
    "tags": []
   },
   "source": [
    "macOS ha una versione di Python pre-installata, che è bene non alterare se non usando gli strumenti di aggiornamento che offre il sistema operativo. Puoi provare a eseguire il comando `python3` nel terminale per vedere se e quale versione è installata (il comando risultasse non esiste, prova anche solo `python`)."
   ]
  },
  {
   "cell_type": "markdown",
   "metadata": {
    "slideshow": {
     "slide_type": "fragment"
    },
    "tags": []
   },
   "source": [
    "Su macOS, il Pyhon di sistema è situato nella directory `/usr/bin/`. Per sapere la posizione del file che viene eseguito quando lanciate il comando `python3` o `python`, potete scrivere rispettivamente `which python3` o `which python`. I pacchetti di installazione standard offerti dal sito ufficiale si preoccupano loro di installare la versione di Python scaricata nel modo corretto, senza sovrascrivere quella di sistema."
   ]
  },
  {
   "cell_type": "markdown",
   "metadata": {
    "slideshow": {
     "slide_type": "notes"
    },
    "tags": []
   },
   "source": [
    "Al termine dell'installazione troveremo la voce \"Python\" dentro Applicazioni la quale contiene le app \"Python Launcher\" per consentire di associare i file con estensione `.py` ed eseguirli con doppio click (sconsigliato per ora) e la app IDLE, l'IDE ufficiale e integrato con Python."
   ]
  },
  {
   "cell_type": "markdown",
   "metadata": {
    "slideshow": {
     "slide_type": "fragment"
    },
    "tags": []
   },
   "source": [
    "Python lo possiamo avviare da una finestra di terminale con il comando `python3`."
   ]
  },
  {
   "cell_type": "markdown",
   "metadata": {
    "slideshow": {
     "slide_type": "fragment"
    },
    "tags": []
   },
   "source": [
    "Per controllare che stia usando la versione scaricata, digita il comado `which python3`. Se è `/usr/local/bin/` o `/Library/Frameworks/Python.framework/Versions/3.x/bin/python3` allora è tutto ok (NB: `3.x` indica la versione che hai installato)."
   ]
  },
  {
   "cell_type": "markdown",
   "metadata": {
    "slideshow": {
     "slide_type": "notes"
    },
    "tags": []
   },
   "source": [
    "Se hai necessità di scaricare e compilare da te le sorgenti di Python, allora ti consiglio di cercare sul web. Un ottimo punto di partenza può essere questo: [How To Install Python 3 and Set Up a Local Programming Environment on macOS](https://www.digitalocean.com/community/tutorials/how-to-install-python-3-and-set-up-a-local-programming-environment-on-macos). Se poi hai problemi, chiedi in classe!"
   ]
  },
  {
   "cell_type": "markdown",
   "metadata": {
    "slideshow": {
     "slide_type": "subslide"
    },
    "tags": []
   },
   "source": [
    "### Linux"
   ]
  },
  {
   "cell_type": "markdown",
   "metadata": {
    "slideshow": {
     "slide_type": "fragment"
    },
    "tags": []
   },
   "source": [
    "Python è preinstallato sulla maggior parte delle distribuzioni Linux ed è disponibile come pacchetto su tutte le altre. Usate il vostro pakage manager e/o aggiornate il sistema per ottenere l'ultima versione di Python."
   ]
  },
  {
   "cell_type": "markdown",
   "metadata": {
    "slideshow": {
     "slide_type": "fragment"
    },
    "tags": []
   },
   "source": [
    "Tuttavia, se ci fossero alcune funzioni che vuoi utilizzare e che non sono disponibili nel pacchetto Python della tua distro o nel caso in cui Python non sia preinstallato e non sia presente nei repository della tua distro, è possibile compilare l'ultima versione di Python dai sorgenti."
   ]
  },
  {
   "cell_type": "markdown",
   "metadata": {
    "slideshow": {
     "slide_type": "subslide"
    },
    "tags": []
   },
   "source": [
    "### Compilazione dei sorgenti"
   ]
  },
  {
   "cell_type": "markdown",
   "metadata": {
    "slideshow": {
     "slide_type": "fragment"
    },
    "tags": []
   },
   "source": [
    "Se usi Linux (o macOS) potresti dover compilare Python dai sorgenti. È molto semplice. Ipotizzando che tu abbia Ubuntu o una qualsiasi distro basata su Debian, la procedura è la seguente:"
   ]
  },
  {
   "cell_type": "markdown",
   "metadata": {
    "slideshow": {
     "slide_type": "fragment"
    },
    "tags": []
   },
   "source": [
    "```bash\n",
    "# Aggiorna il sistema e installa pacchetti necessari alla compilazione\n",
    "    $ sudo apt update && sudo apt upgrade\n",
    "    $ sudo apt install build-essential libbz2-dev libffi-dev libgdbm-dev libncurses5-dev \\\n",
    "    > libreadline-dev libsqlite3-dev libssl-dev zlib1g-dev python3-dev wget\n",
    "\n",
    "# Scarica e decomprime i sorgenti\n",
    "    $ wget https://www.python.org/ftp/python/3.11.2/Python-3.11.2.tgz\n",
    "    $ tar -xf Python-3.11.2.tgz\n",
    "    $ cd Python-3.11.2/\n",
    "\n",
    "# Esegue la compilazione\n",
    "    $ ./configure --enable-optimizations\n",
    "    $ make -j4\n",
    "    $ sudo make altinstall\n",
    "```"
   ]
  },
  {
   "cell_type": "markdown",
   "metadata": {
    "slideshow": {
     "slide_type": "fragment"
    },
    "tags": []
   },
   "source": [
    "> In `make -j4` il 4 indica il numero di thread che si vuole impiegare per la compilazione, potendo renderla più rapida."
   ]
  },
  {
   "cell_type": "markdown",
   "metadata": {
    "slideshow": {
     "slide_type": "subslide"
    },
    "tags": []
   },
   "source": [
    "### Distribuzione di Python alternativa: Anaconda"
   ]
  },
  {
   "cell_type": "markdown",
   "metadata": {
    "slideshow": {
     "slide_type": "fragment"
    },
    "tags": []
   },
   "source": [
    "![anaconda-logo.png](./imgs/anaconda-logo.png)"
   ]
  },
  {
   "cell_type": "markdown",
   "metadata": {
    "slideshow": {
     "slide_type": "fragment"
    },
    "tags": []
   },
   "source": [
    "Se hai intenzione di usare Python per fare **data science**, analisi scientifiche o utilizzarlo in settori altamente specializzati, è consigliabile usare la distrtibuzione [Anaconda](https://www.anaconda.com/products/distribution), che include i pacchetti per applicazioni scientifiche e un [gestore dei pacchetti proprio, denominato `conda`](https://docs.conda.io/en/latest/), in alternativa a `pip`, quello ufficiale. Dispone inoltre di un'interfaccia grafica che permette di gestire i pacchetti e i *virtual environments*."
   ]
  },
  {
   "cell_type": "markdown",
   "metadata": {
    "slideshow": {
     "slide_type": "fragment"
    },
    "tags": []
   },
   "source": [
    "Anaconda è sviluppato dall'azienda [Anaconda Inc.](https://www.anaconda.com/about-us) che, assieme alla \"[The conda Organization](https://github.com/conda)\" sviluppa e mantiene anche il gestore dei pacchetti `conda`."
   ]
  },
  {
   "cell_type": "markdown",
   "metadata": {
    "slideshow": {
     "slide_type": "notes"
    },
    "tags": []
   },
   "source": [
    "Per questo corso non è necessario usare questa distribuzione in quanto useremo principalmente i moduli della Libreria Standard di Python. I pochi moduli di terze parti che dovremo scaricare sono ottenibili direttamente e facilmente anche con `pip`. Come primo approccio consiglio sempre di partire dalle soluzioni più standard e semplici, per poi via via cercare le configurazioni che meglio si adattano alle nostre esigenze."
   ]
  },
  {
   "cell_type": "markdown",
   "metadata": {
    "slideshow": {
     "slide_type": "slide"
    },
    "tags": []
   },
   "source": [
    "## L'interfaccia a riga di comando di sistema"
   ]
  },
  {
   "cell_type": "markdown",
   "metadata": {
    "slideshow": {
     "slide_type": "notes"
    },
    "tags": []
   },
   "source": [
    "Quando si lavora al computer, è necessario comunicare con il Sistema Operativo (OS) per ottenere il risultato desiderato. Ad esempio, se volete aprire un file, dovete comunicarlo al sistema operativo (Windows, Linux o macOS). Esistono due modi di interagire con il sistema operativo: uno è più testuale, l'altro è più grafico, ma entrambi meritano un certo apprezzamento. Questi due metodi sono l'**interfaccia a riga di comando** e l'**interfaccia grafica**."
   ]
  },
  {
   "cell_type": "markdown",
   "metadata": {
    "slideshow": {
     "slide_type": "subslide"
    },
    "tags": []
   },
   "source": [
    "### Che cos'è una *command-line*?"
   ]
  },
  {
   "cell_type": "markdown",
   "metadata": {
    "slideshow": {
     "slide_type": "fragment"
    },
    "tags": []
   },
   "source": [
    "La **Command-Line Interface** o **CLI** (interfaccia a riga di comando) è un modo per interagire con un sistema operativo tramite comandi testuali. La **Graphical User Interface**, o **GUI** (interfaccia grafica), invece, fornisce un'interfaccia con finestre, icone e menu con cui impartire comandi al sistema operativo facendo clic su gli elementi grafici."
   ]
  },
  {
   "cell_type": "markdown",
   "metadata": {
    "slideshow": {
     "slide_type": "notes"
    },
    "tags": []
   },
   "source": [
    "In passato, le interfacce a riga di comando erano l'unico mezzo per interagire con un computer. Ma perché usarle ora, quando si ha a disposizione un'interfaccia grafica semplice e familiare? In genere le interfacce a riga di comando sono molto più flessibili e offrono un maggior numero di opzioni. Ad esempio, è possibile combinare i comandi per crearne uno nuovo, mentre non è possibile farlo tramite un'interfaccia grafica. Anche alcuni software possono avere (solo) un'interfaccia a riga di comando, richiedendo quindi all'utente di conoscere le basi della riga di comando."
   ]
  },
  {
   "cell_type": "markdown",
   "metadata": {
    "slideshow": {
     "slide_type": "subslide"
    },
    "tags": []
   },
   "source": [
    "- In Windows abbiamo due CLI. La prima, più vecchia e sempre presente è chiamata \"_**Prompt dei comandi**_\" (*command prompt*). È poi di norma anche presente la \"_**PowerShell**_\" disponibile da Windows 7 in avanti."
   ]
  },
  {
   "cell_type": "markdown",
   "metadata": {
    "slideshow": {
     "slide_type": "fragment"
    },
    "tags": []
   },
   "source": [
    "- Sui sistemi Linux e macOS la CLI si è soliti chiamarla  \"_**terminale**_\" (*terminal*) o più genericamente \"_**shell**_\"."
   ]
  },
  {
   "cell_type": "markdown",
   "metadata": {
    "slideshow": {
     "slide_type": "fragment"
    },
    "tags": []
   },
   "source": [
    "Inoltre, è possibile scrivere dei \"programmi\" eseguibili dall'interfaccia a riga di comando usando uno specifico \"linguaggio di comando\". Sui sistemi Unix come GNU/Linux e macOS sono chiamati \"*shell script*\" (di solito con estensione `.sh`), mentre su Windows vengono chiamati \"*file di batch*\" (di solito con estensione `.bat` o `.cmd`)."
   ]
  },
  {
   "cell_type": "markdown",
   "metadata": {
    "slideshow": {
     "slide_type": "notes"
    },
    "tags": []
   },
   "source": [
    "Tutti i sistemi operativi dispongono di interfacce a riga di comando, come anche molte applicazioni e utility. I moderni linguaggi di programmazione non fanno eccezione e offrono solitamente una modalità interattiva a riga di comando con cui è possibile eseguire il codice riga per riga, inviandolo all'interprete del linguaggio. Vedremo più avanti che anche Python ne possiede uno: il Python Interpreter."
   ]
  },
  {
   "cell_type": "markdown",
   "metadata": {
    "slideshow": {
     "slide_type": "notes"
    },
    "tags": []
   },
   "source": [
    "Ma ora concentriamoci sulla CLI del nostro sistema operativo."
   ]
  },
  {
   "cell_type": "markdown",
   "metadata": {
    "slideshow": {
     "slide_type": "subslide"
    },
    "tags": []
   },
   "source": [
    "### Aprire la CLI di sistema"
   ]
  },
  {
   "cell_type": "markdown",
   "metadata": {
    "slideshow": {
     "slide_type": "fragment"
    },
    "tags": []
   },
   "source": [
    "Di solito, non è necessario accedere alla cartella in cui si trova l'interprete della riga di comando per aprirlo. È possibile aprirlo semplicemente cercando le parole chiave `cmd` in Windows e `terminal` sotto Linux o macOS, utilizzando i rispettivi strumenti di ricerca."
   ]
  },
  {
   "cell_type": "markdown",
   "metadata": {
    "slideshow": {
     "slide_type": "notes"
    },
    "tags": []
   },
   "source": [
    "Quando lo si apre, si vedrà una finestra nera (o bianca). Se tutto è a posto, apparirà il cursore che ci informa il computer è pronto ad accettare comandi. Per Windows, il prompt dei comandi termina con `>`, mentre per Linux e macOS con `$`. Per eseguire un comando, digitarlo e poi premere `Invio`."
   ]
  },
  {
   "cell_type": "markdown",
   "metadata": {
    "slideshow": {
     "slide_type": "subslide"
    },
    "tags": []
   },
   "source": [
    "### Comandi di sistema"
   ]
  },
  {
   "cell_type": "markdown",
   "metadata": {
    "slideshow": {
     "slide_type": "fragment"
    },
    "tags": []
   },
   "source": [
    "Se sei un informatico o usavi già i computer negli anni '80-'90 dovresti già conoscere i comandi principali. Per comodità, sul sito [SS64](https://ss64.com/) è possibile trovare un elenco completo dei comandi di Windows, Linux e macOS. Comunque, i comandi fondamentali che dovresti conoscere, sono:\n",
    "\n",
    "- `dir` (su Windows) o `ls` (su Linux/macOS): elenca gli elementi contenuti in una cartella.\n",
    "- `cd`: sta per *change directory* e consente di cambiare la cartella in cui ci troviamo e spostarsi in un'altra posizione. `cd ..` ci sposta nella cartella genitore.\n",
    "- `where` (su Windows) o `which` (su Linux/macOS): mostra il percorso originale al file eseguibile di un comando; utile per scoprire a quale file viene eseguito con un certo comando presente nelle variabili d'ambiente.\n",
    "- `whoami`: indica il nome dell'utente corrente.\n",
    "- `echo`: serve per far stampare delle stringhe di testo a monitor (come il comando print() di Pyton).\n",
    "- `mkdir`/`rmdir`: crea/rimuove una cartella.\n",
    "- `help` (su Windows) o `man` (su Linux/macOS): mostra la documentazione di un comando.\n",
    "- `exit`: chiude la CLI."
   ]
  },
  {
   "cell_type": "markdown",
   "metadata": {
    "slideshow": {
     "slide_type": "subslide"
    },
    "tags": []
   },
   "source": [
    "### Opzioni e parametri di un comando"
   ]
  },
  {
   "cell_type": "markdown",
   "metadata": {
    "slideshow": {
     "slide_type": "fragment"
    },
    "tags": []
   },
   "source": [
    "Cosa sono essenzialmente le *opzioni* e i *parametri* di un comando CLI? Entrambi sono due tipi particolari di *argomenti*."
   ]
  },
  {
   "cell_type": "markdown",
   "metadata": {
    "slideshow": {
     "slide_type": "fragment"
    },
    "tags": []
   },
   "source": [
    "- Un'_**opzione**_ (*option*) modifica il comportamento di un *comando*."
   ]
  },
  {
   "cell_type": "markdown",
   "metadata": {
    "slideshow": {
     "slide_type": "fragment"
    },
    "tags": []
   },
   "source": [
    "- Un _**parametro**_ (*parameter*) può essere usato per passare delle informazioni sia direttamente al *comando* sia a una delle sue *opzioni*."
   ]
  },
  {
   "cell_type": "markdown",
   "metadata": {
    "slideshow": {
     "slide_type": "fragment"
    },
    "tags": []
   },
   "source": [
    "Una delle differenze principali tra i due è che il numero di valori possibili delle opzioni è limitato e definito nel codice, mentre con i parametri l'utente ha più libertà, poiché non hanno tali limitazioni."
   ]
  },
  {
   "cell_type": "markdown",
   "metadata": {
    "slideshow": {
     "slide_type": "subslide"
    },
    "tags": []
   },
   "source": [
    "Esempi di opzioni\n",
    "\n",
    "```bash\n",
    "ls -la\n",
    "mkdir --help\n",
    "```"
   ]
  },
  {
   "cell_type": "markdown",
   "metadata": {
    "slideshow": {
     "slide_type": "subslide"
    },
    "tags": []
   },
   "source": [
    "Esempi di parameri\n",
    "\n",
    "```bash\n",
    "cd Desktop\n",
    "mkdir papers\n",
    "echo pippo\n",
    "man mkdir\n",
    "```"
   ]
  },
  {
   "cell_type": "markdown",
   "metadata": {
    "slideshow": {
     "slide_type": "subslide"
    },
    "tags": []
   },
   "source": [
    "Esempi di opzioni e parameri\n",
    "\n",
    "```bash\n",
    "cd /d F:\\Backup\n",
    "jupyter-nbconvert 02_python_intro.ipynb --to slides\n",
    "```"
   ]
  },
  {
   "cell_type": "markdown",
   "metadata": {
    "slideshow": {
     "slide_type": "subslide"
    },
    "tags": []
   },
   "source": [
    "### Operare con percorsi, file e cartelle"
   ]
  },
  {
   "cell_type": "markdown",
   "metadata": {
    "slideshow": {
     "slide_type": "fragment"
    },
    "tags": []
   },
   "source": [
    "Dare i giusti nomi alle cose è una delle attività più importanti per un informatico. Nominare file e cartelle (*folder/directory*) in modo efficace e organizzarli in efficacemente sono buone pratiche per avere vita più facile in futuro."
   ]
  },
  {
   "cell_type": "markdown",
   "metadata": {
    "slideshow": {
     "slide_type": "subslide"
    },
    "tags": []
   },
   "source": [
    "![final-doc.jpeg](./imgs/fs/final-doc.jpeg)"
   ]
  },
  {
   "cell_type": "markdown",
   "metadata": {
    "slideshow": {
     "slide_type": "subslide"
    },
    "tags": []
   },
   "source": [
    "### Riassumendo"
   ]
  },
  {
   "cell_type": "markdown",
   "metadata": {
    "slideshow": {
     "slide_type": "fragment"
    },
    "tags": []
   },
   "source": [
    "La cosa importante da sapere è che le moderne e attraenti interfacce grafiche non hanno reso obsolete le CLI. La *command-line* è ancora uno dei modi più rapidi per portare a termine il proprio lavoro."
   ]
  },
  {
   "cell_type": "markdown",
   "metadata": {
    "slideshow": {
     "slide_type": "fragment"
    },
    "tags": []
   },
   "source": [
    "In particolare, se intendi essere uno sviluppatore, è molto importante avere una buona conoscenza dei comandi del tuo sistema operativo."
   ]
  },
  {
   "cell_type": "markdown",
   "metadata": {
    "slideshow": {
     "slide_type": "fragment"
    },
    "tags": []
   },
   "source": [
    "In questa sezione abbiamo introdotto l'interfaccia a riga di comando: cos'è, dove si trova e come si può usare. Abbiamo anche provato alcuni comandi come `dir`/`ls`, `where`/`which`, `whoami` ed `exit`. Più avanti è probabile che ne impareremo altri. Infine abbiamo visto la differenza tra *opzioni* e *parametri* di un comando."
   ]
  },
  {
   "cell_type": "markdown",
   "metadata": {
    "slideshow": {
     "slide_type": "slide"
    },
    "tags": []
   },
   "source": [
    "## Interprete interattivo di Python"
   ]
  },
  {
   "cell_type": "markdown",
   "metadata": {
    "slideshow": {
     "slide_type": "fragment"
    },
    "tags": []
   },
   "source": [
    "Anche Python dispone di un interprete di comandi interattivo ed è molto comodo e potente."
   ]
  },
  {
   "cell_type": "markdown",
   "metadata": {
    "slideshow": {
     "slide_type": "notes"
    },
    "tags": []
   },
   "source": [
    "A volte potrebbe essere necessario calcolare urgentemente qualcosa, contare il numero di caratteri in una stringa o fare qualche altra operazione di routine una tantum. Probabilmente non vorrete scrivere l'intero programma solo per questo, che richiede tempo, ed è una richiesta perfettamente ragionevole. Fortunatamente, Python può aiutarvi in questo! Esiste uno strumento speciale che si può usare per compiti e controlli rapidi, chiamato \"[Python Interpreter](https://docs.python.org/3/tutorial/interpreter.html)\" o gergalmente \"*shell*\". Tuttavia, non è l'unico caso d'uso possibile e ne conosceremo altri più avanti; per ora, analizziamo da vicino cos'è l'inteprete interattivo di Python e come può essere utilizzato."
   ]
  },
  {
   "cell_type": "markdown",
   "metadata": {
    "slideshow": {
     "slide_type": "fragment"
    },
    "tags": []
   },
   "source": [
    "In pratica possiamo utilizzare l'interprete Python come una sorta di \"shell\" interattiva con cui interagire in tempo reale. \"Interattiva\" significa che potete digitare qualsiasi cosa nella sintassi di Python, premere \"Invio\" e l'interprete stamperà immediatamente il risultato. Può essere molto utile se stai iniziando a imparare a programmare: digitando ed eseguendo il vostro codice riga per riga, è più facile osservarne il comportamento e trovarvi errori accidentali."
   ]
  },
  {
   "cell_type": "markdown",
   "metadata": {
    "slideshow": {
     "slide_type": "subslide"
    },
    "tags": []
   },
   "source": [
    "### Avvio da prompt/terminale"
   ]
  },
  {
   "cell_type": "markdown",
   "metadata": {
    "slideshow": {
     "slide_type": "fragment"
    },
    "tags": []
   },
   "source": [
    "Se hai installato Python tramite l'intaller ufficiale, dovrebbe essere già tutto pronto. In ogni caso, la cosa importante è che la posizione dell'interprete Python sia stata aggiunta alle *variabili d'ambiente* del tuo sistema operativo, altrimenti occorre digitare il percorso completo all'eseguibile di Python ogni volta."
   ]
  },
  {
   "cell_type": "markdown",
   "metadata": {
    "slideshow": {
     "slide_type": "fragment"
    },
    "tags": []
   },
   "source": [
    "Su Linux o macOS, è sufficiente avviare il terminale di sistema ed eseguire il comando `python3`."
   ]
  },
  {
   "attachments": {},
   "cell_type": "markdown",
   "metadata": {
    "slideshow": {
     "slide_type": "subslide"
    },
    "tags": []
   },
   "source": [
    "Su Windows potremmo digitare `python` dal prompt dei comandi, ma potrebbe essere necessario dover aggiungere il percorso del file eseguibile alla variabile di sistema PATH se non lo hai già fatto in fase di installazione. Se non sai come fare, cerca sul web, ci sono molte guide. Oppure, se ti ricordi, nel capitolo sull'intallazione di Python ho detto:"
   ]
  },
  {
   "cell_type": "markdown",
   "metadata": {
    "slideshow": {
     "slide_type": "fragment"
    },
    "tags": []
   },
   "source": [
    "> *Tra le varie opzioni di installazione conviene spuntare quella che permette di aggiungere automaticamente i percorsi dove si trovano `python` e `pip` alle variabili d'ambiente, in modo che potremmo richiamare questi comandi da qualunqe posizione ci troviamo nel prompt dei comandi. **Se vi dimenticate di farlo alla prima installazione, potete sempre avviare di nuovo l'installer e aggiungere l'opzione**.*"
   ]
  },
  {
   "attachments": {},
   "cell_type": "markdown",
   "metadata": {},
   "source": [
    "Su Windows è più conveniente digitare il comando `py` dal prompt dei comandi. `py` è chiamato \"Python launcher\" ed è un'utility che aiuta a individuare ed eseguire diverse versioni di Python.\n",
    "\n",
    "Viene installato in `C:\\Windows\\py.exe`, in modo da essere disponibile senza richiedere modifiche al PATH.\n",
    "\n",
    "Il launcher rileva quali versioni di Python sono installate sul computer ed è in grado di eseguire automaticamente la versione giusta. Per impostazione predefinita, utilizza l'ultima versione di Python presente sul computer. \n",
    "\n",
    "È anche possibile specificare una versione diversa, se installata, ad esempio `py -3.8` per lanciare la 3.8."
   ]
  },
  {
   "cell_type": "markdown",
   "metadata": {
    "slideshow": {
     "slide_type": "subslide"
    },
    "tags": []
   },
   "source": [
    "### Avvio all'interno di un IDE"
   ]
  },
  {
   "cell_type": "markdown",
   "metadata": {
    "slideshow": {
     "slide_type": "fragment"
    },
    "tags": []
   },
   "source": [
    "Inoltre, è probabile che di default abbiate installato anche _**IDLE**_, che offre anche una semplice interfaccia grafica per la shell di Python. Provate a cercarla nel vostro sistema. IDLE è ottimo per i principianti perché può essere usato anche per eseguire e modificare gli script. Ma di solito gli sviluppatori di software usano un IDE; noi useremo Visual Studio Code, anche se il comportamento è lo stesso in qualsiasi shell Python."
   ]
  },
  {
   "cell_type": "markdown",
   "metadata": {
    "slideshow": {
     "slide_type": "fragment"
    },
    "tags": []
   },
   "source": [
    "Se avete installato _**Visual Studio Code**_, fai clic su \"Terminale\" nella parte inferiore della sua finestra e digita il comando `python` o `python3` come in un qualunque prompt/terminale."
   ]
  },
  {
   "cell_type": "markdown",
   "metadata": {
    "slideshow": {
     "slide_type": "subslide"
    },
    "tags": []
   },
   "source": [
    "### Posizione dell'interprete Python\n",
    "\n",
    "È molto importante avere consapevolezza di come si chiama e dove si trova il nostro interprete Python."
   ]
  },
  {
   "cell_type": "markdown",
   "metadata": {
    "slideshow": {
     "slide_type": "fragment"
    },
    "tags": []
   },
   "source": [
    "L'interprete è un file eseguibile denominato:\n",
    "- `python.exe` su Windows. I file con estensione `.py` si aprono con questo programma.\n",
    "- `pythonw.exe` su Windows, ma non apre una console, serve per eseguire gli script che devono mostrare l’interfaccia utente grafica (GUI) di un’applicazione Python. Di solito i file con estensione `.pyw` si aprono con questo programma.\n",
    "- `python3` su Linux e macOS. Si possono aprire sia i file con estensione `.py` sia `.pyw`."
   ]
  },
  {
   "cell_type": "markdown",
   "metadata": {
    "slideshow": {
     "slide_type": "fragment"
    },
    "tags": []
   },
   "source": [
    "Nel capitolo sull'installazione di Python vengono discusse anche le posizioni di installazione nei vari sistemi operativi."
   ]
  },
  {
   "cell_type": "markdown",
   "metadata": {
    "slideshow": {
     "slide_type": "notes"
    },
    "tags": []
   },
   "source": [
    "Dunque, per farla breve, per aprire l'interprete possiamo digitare il comando `python` dal prompt dei comandi o dalla PowerShell se ci troviamo su Windows, e `python3` dal terminale se siamo su macOS o Linux."
   ]
  },
  {
   "cell_type": "markdown",
   "metadata": {
    "slideshow": {
     "slide_type": "subslide"
    },
    "tags": []
   },
   "source": [
    "### Uso dell'interprete Python"
   ]
  },
  {
   "cell_type": "markdown",
   "metadata": {
    "slideshow": {
     "slide_type": "fragment"
    },
    "tags": []
   },
   "source": [
    "Quando l'interprete viene eseguito senza argomenti, lo standard input (*`stdin`*) viene collegato direttamente al *terminale tty* e, similmente a una shell di Unix, legge ed esegue i comandi in modo interattivo."
   ]
  },
  {
   "cell_type": "markdown",
   "metadata": {
    "slideshow": {
     "slide_type": "fragment"
    },
    "tags": []
   },
   "source": [
    "Quando invece viene eseguito con un nome di file come argomento, Python legge ed esegue lo script di quel file; ma questo lo approfondiremo nel prossimo capitolo."
   ]
  },
  {
   "cell_type": "markdown",
   "metadata": {
    "slideshow": {
     "slide_type": "fragment"
    },
    "tags": []
   },
   "source": [
    "Vediamo ora come usare l'interprete in modo interattivo."
   ]
  },
  {
   "cell_type": "markdown",
   "metadata": {
    "slideshow": {
     "slide_type": "subslide"
    },
    "tags": []
   },
   "source": [
    "Se dunque lo invochiamo senza argomenti, presenta una interfaccia interattiva e apparirà un testo come il seguente:\n",
    "\n",
    "        Python 3.11.1 (tags/v3.11.1:a7a450f, Dec  6 2022, 19:58:39) [MSC v.1934 64 bit (AMD64)] on win32\n",
    "        Type \"help\", \"copyright\", \"credits\" or \"license\" for more information.\n",
    "        >>>"
   ]
  },
  {
   "cell_type": "markdown",
   "metadata": {
    "slideshow": {
     "slide_type": "fragment"
    },
    "tags": []
   },
   "source": [
    "Il simbolo `>>>` indica che l’interprete è pronto a ricevere comandi. Qui si può digitare qualsiasi pezzo di codice in sintassi Python e l'interprete lo eseguirà immediatamente."
   ]
  },
  {
   "cell_type": "markdown",
   "metadata": {
    "slideshow": {
     "slide_type": "subslide"
    },
    "tags": []
   },
   "source": [
    "- Il prompt è caratterizzato da `>>>`.\n",
    "- Una volta inserito il comando basta premere `Invio` per eseguirlo.\n",
    "- Se si è inserito un comando che può continuare sulla riga successiva, premendo `Invio` comparirà `...` a inizio della nuova riga."
   ]
  },
  {
   "cell_type": "markdown",
   "metadata": {
    "slideshow": {
     "slide_type": "fragment"
    },
    "tags": []
   },
   "source": [
    "Per uscire dalla shell interattiva e tornare al prompt/terminale di sistema, premere `Ctrl + Z` e poi `Invio` su Windows, oppure `Ctrl + D` su OS X o Linux. In alternativa, si possono eseguire i comandi Python `exit()` o `quit()`."
   ]
  },
  {
   "cell_type": "markdown",
   "metadata": {
    "slideshow": {
     "slide_type": "notes"
    },
    "tags": []
   },
   "source": [
    "Si potrebbe anche voler riavviare la shell Python (ad esempio, se il programma non dà più segni di vita). La shell aperta dalla riga di comando è sufficiente chiuderla e riaprirla. Tuttavia, se si lavora con un IDE, esistono dei comandi speciali per farlo:"
   ]
  },
  {
   "cell_type": "markdown",
   "metadata": {
    "slideshow": {
     "slide_type": "notes"
    },
    "tags": []
   },
   "source": [
    "- IDLE shell: pulsante Riavvia shell dalla barra degli strumenti in alto o Ctrl-F6.\n",
    "- Visual Studio Code: pulsante con l'incona del cestino (*kill terminal*) nella barra degli strumenti del terminale. Successivamente avviamo un nuovo terminale.\n",
    "- PyCharm: pulsante di ripristino (*Rerun*) in alto a sinistra nella barra degli strumenti della console\"."
   ]
  },
  {
   "cell_type": "markdown",
   "metadata": {
    "slideshow": {
     "slide_type": "subslide"
    },
    "tags": []
   },
   "source": [
    "### Esperimenti con IDLE Shell"
   ]
  },
  {
   "cell_type": "markdown",
   "metadata": {
    "slideshow": {
     "slide_type": "fragment"
    },
    "tags": []
   },
   "source": [
    "IDLE sta per _**Integrated Development and Learning Environment**_, ovvero \"ambiente di sviluppo e apprendimento integrato\" di Python. È un IDE per Python, fornito in bundle con la distribuzione predefinita del linguaggio dalla versione 1.5.2b1."
   ]
  },
  {
   "cell_type": "markdown",
   "metadata": {
    "slideshow": {
     "slide_type": "notes"
    },
    "tags": []
   },
   "source": [
    "IDLE vuole essere un IDE semplice e adatto ai principianti, soprattutto in un ambiente educativo. A tal fine, è multipiattaforma e cerca di rimanere minimale, limitando al minimo il numero di funzionalità."
   ]
  },
  {
   "cell_type": "markdown",
   "metadata": {
    "slideshow": {
     "slide_type": "fragment"
    },
    "tags": []
   },
   "source": [
    "È quindi un ottimo ambiente per fare pratica. Proviamo qualche comando e osserviamo l'output."
   ]
  },
  {
   "cell_type": "markdown",
   "metadata": {},
   "source": [
    "```python\n",
    "print('Hello world!')\n",
    "```"
   ]
  },
  {
   "cell_type": "markdown",
   "metadata": {
    "slideshow": {
     "slide_type": "fragment"
    },
    "tags": []
   },
   "source": [
    "> *CURIOSITÀ: uno dei membri fondatori dei Monty Python si chiama Eric Idle.*"
   ]
  },
  {
   "cell_type": "markdown",
   "metadata": {
    "slideshow": {
     "slide_type": "subslide"
    },
    "tags": []
   },
   "source": [
    "### Riassumendo"
   ]
  },
  {
   "cell_type": "markdown",
   "metadata": {
    "slideshow": {
     "slide_type": "notes"
    },
    "tags": []
   },
   "source": [
    "Quando si studia Python, è importante soffermarsi su ogni riga di codice non chiara e che ci suscita dei dubbi. Anzi, all'inizio non dare mai nulla per scontato: le sorprese di nascondono anche dietro alle le cose banali. Vi aiuterà a capire meglio come funziona Python, quindi non esitate a provare gli esempi del corso e a modificarli a vostro piacimeto."
   ]
  },
  {
   "cell_type": "markdown",
   "metadata": {
    "slideshow": {
     "slide_type": "fragment"
    },
    "tags": []
   },
   "source": [
    "La shell è un ottima area di test, una sandbox. E poi non puoi rompere nulla dato che una volta che chiudi o riavvii la shell, tutto ciò che si è fatto scompare <u>(occhio solo solo quando usi i moduli os, subprocess o shutil)</u>."
   ]
  },
  {
   "cell_type": "markdown",
   "metadata": {
    "slideshow": {
     "slide_type": "notes"
    },
    "tags": []
   },
   "source": [
    "Come potete vedere, la shell di Python è uno strumento molto utile per un programmatore e torneremo a parlarne più avanti per illustrarvi altre opportunità che offre."
   ]
  },
  {
   "cell_type": "markdown",
   "metadata": {
    "slideshow": {
     "slide_type": "slide"
    },
    "tags": []
   },
   "source": [
    "## Creazione di un file di script Python"
   ]
  },
  {
   "cell_type": "markdown",
   "metadata": {
    "slideshow": {
     "slide_type": "fragment"
    },
    "tags": []
   },
   "source": [
    "Gli script Python possono essere eseguiti dalla command-line del sistema operativo proprio come dei normali comandi (ad esempio `cd` o `mkdir`). Questo significa che possiamo scrivere uno script in grado di prendere in input dei dati, fare qualcosa con essi e restituire il risultato."
   ]
  },
  {
   "cell_type": "markdown",
   "metadata": {
    "slideshow": {
     "slide_type": "notes"
    },
    "tags": []
   },
   "source": [
    "Questa sezione ci introduce al mondo dello scripting."
   ]
  },
  {
   "cell_type": "markdown",
   "metadata": {
    "slideshow": {
     "slide_type": "subslide"
    },
    "tags": []
   },
   "source": [
    "### File di script"
   ]
  },
  {
   "cell_type": "markdown",
   "metadata": {
    "slideshow": {
     "slide_type": "fragment"
    },
    "tags": []
   },
   "source": [
    "Un file sorgente Python è un file di testo, generalmente con estensione `.py`. Viene anche chiamato \"script\"."
   ]
  },
  {
   "cell_type": "markdown",
   "metadata": {
    "slideshow": {
     "slide_type": "fragment"
    },
    "tags": []
   },
   "source": [
    "Un file con estensione `.pyw` è invece uno script Python che viene eseguito allo scopo di visualizzare l’interfaccia utente grafica (GUI) di un’applicazione Python."
   ]
  },
  {
   "cell_type": "markdown",
   "metadata": {
    "slideshow": {
     "slide_type": "notes"
    },
    "tags": []
   },
   "source": [
    "È possibile eseguire gli script in diversi modi. Tramite il prompt/shell del vostro sistema operativo, tramite l'IDE che usate (es. Visual Studio Code) oppure facendo doppio click sull'incona del file. Quest'ultimo caso, solo se l'estensione è stata associata in modo corretto all'interprete Python (per ora non ve lo consiglio)."
   ]
  },
  {
   "cell_type": "markdown",
   "metadata": {
    "slideshow": {
     "slide_type": "subslide"
    },
    "tags": []
   },
   "source": [
    "### Esecuzione di script dalla riga di comando"
   ]
  },
  {
   "cell_type": "markdown",
   "metadata": {
    "slideshow": {
     "slide_type": "fragment"
    },
    "tags": []
   },
   "source": [
    "A titolo di esempio, prendiamo uno script `moltiplica_due_numeri.py` che moltiplica due numeri e stampa il risultato, e proviamo a lanciamolo dalla shell."
   ]
  },
  {
   "cell_type": "markdown",
   "metadata": {
    "slideshow": {
     "slide_type": "subslide"
    },
    "tags": []
   },
   "source": [
    "#### Esecuzione come argomento del comando `python` "
   ]
  },
  {
   "cell_type": "markdown",
   "metadata": {
    "slideshow": {
     "slide_type": "notes"
    },
    "tags": []
   },
   "source": [
    "Anche se abbiamo detto che possibile indicare al sistema operativo come eseguire i file `.py` automaticamente con l'interprete Python, in questo esempio utilizzeremo solo il comando `python`, come segue:"
   ]
  },
  {
   "cell_type": "markdown",
   "metadata": {
    "slideshow": {
     "slide_type": "fragment"
    },
    "tags": []
   },
   "source": [
    "```powershell\n",
    "python moltiplica_due_numeri.py 5 9\n",
    "```"
   ]
  },
  {
   "cell_type": "markdown",
   "metadata": {
    "slideshow": {
     "slide_type": "notes"
    },
    "tags": []
   },
   "source": [
    "Nella riga precedente, `python` è il comando che indica che l'interprete Python deve essere usato per lo script passato come argomento. Infatti, separato da uno spazio, segue il nome dello script. "
   ]
  },
  {
   "cell_type": "markdown",
   "metadata": {
    "slideshow": {
     "slide_type": "fragment"
    },
    "tags": []
   },
   "source": [
    "Se lo script si trova in un'altra directory rispetto a quella in cui ci troviamo, è necessario specificare il percorso del file. Può essere un percorso assoluto:\n",
    "\n",
    "```powershell\n",
    "python C:\\python_scripts\\moltiplica_due_numeri.py 11 44\n",
    "```"
   ]
  },
  {
   "cell_type": "markdown",
   "metadata": {
    "slideshow": {
     "slide_type": "subslide"
    },
    "tags": []
   },
   "source": [
    "Oppure può essere un percorso relativo, ad esempio per eseguire uno script contenuto nella cartella genitore:\n",
    "\n",
    "```powershell\n",
    "python ..\\moltiplica_due_numeri.py 11 44\n",
    "```"
   ]
  },
  {
   "cell_type": "markdown",
   "metadata": {
    "slideshow": {
     "slide_type": "fragment"
    },
    "tags": []
   },
   "source": [
    "Infine, se lo script accetta degli argomenti, questi vengono scritti separati da spazi bianchi dopo il nome dello script."
   ]
  },
  {
   "cell_type": "markdown",
   "metadata": {
    "slideshow": {
     "slide_type": "subslide"
    },
    "tags": []
   },
   "source": [
    "#### Esecuzione \"diretta\""
   ]
  },
  {
   "cell_type": "markdown",
   "metadata": {
    "slideshow": {
     "slide_type": "fragment"
    },
    "tags": []
   },
   "source": [
    "Su sistemi Linux o macOS, inserendo la stringa `#! /usr/bin/env python3` (detta [shebang](https://it.wikipedia.org/wiki/Shabang)) come prima riga dello script, il file viene eseguito senza dover manualmente invocare l’interprete, scrivendo solo il nome del file."
   ]
  },
  {
   "cell_type": "markdown",
   "metadata": {
    "slideshow": {
     "slide_type": "fragment"
    },
    "tags": []
   },
   "source": [
    "> Naturalmente vanno prima impostati i permessi di esecuzione sullo script\n",
    "> ```bash\n",
    "> $ chmod +x moltiplica_due_numeri.py\n",
    "> ```"
   ]
  },
  {
   "cell_type": "markdown",
   "metadata": {
    "slideshow": {
     "slide_type": "fragment"
    },
    "tags": []
   },
   "source": [
    "```bash\n",
    "$ ./moltiplica_due_numeri.py 11 44\n",
    "```"
   ]
  },
  {
   "cell_type": "markdown",
   "metadata": {
    "slideshow": {
     "slide_type": "notes"
    },
    "tags": []
   },
   "source": [
    "Comodo, no?"
   ]
  },
  {
   "attachments": {},
   "cell_type": "markdown",
   "metadata": {
    "slideshow": {
     "slide_type": "fragment"
    },
    "tags": []
   },
   "source": [
    "Sotto Windows abbiamo più modi per eseguire direttamente gli script, ma vi consiglio di cercare sul web... fateci pure l'abitudine ;)\n",
    "\n",
    "Il *Python launcher* `py` è in grado di interpretare i *shebang* citati qua sopra. Se ti interessa l'argomento [la documentazione è questa](https://docs.python.org/3/using/windows.html#shebang-lines)."
   ]
  },
  {
   "cell_type": "markdown",
   "metadata": {
    "slideshow": {
     "slide_type": "subslide"
    },
    "tags": []
   },
   "source": [
    "E questo è tutto! La questione ora è: come possiamo accedere agli argomenti specificati dal nostro script Python?"
   ]
  },
  {
   "cell_type": "markdown",
   "metadata": {
    "slideshow": {
     "slide_type": "subslide"
    },
    "tags": []
   },
   "source": [
    "### Il modulo `sys`"
   ]
  },
  {
   "cell_type": "markdown",
   "metadata": {
    "slideshow": {
     "slide_type": "fragment"
    },
    "tags": []
   },
   "source": [
    "Ci sono diversi modi per accedere agli argomenti passati allo script innanzitutto vediamo, come farlo tramite il modulo `sys`."
   ]
  },
  {
   "cell_type": "markdown",
   "metadata": {
    "slideshow": {
     "slide_type": "fragment"
    },
    "tags": []
   },
   "source": [
    "Esso fornisce l'accesso a funzioni e variabili che possono interagire con l'interprete Python sottostante, indipendentemente dal sistema operativo in uso."
   ]
  },
  {
   "cell_type": "markdown",
   "metadata": {
    "slideshow": {
     "slide_type": "fragment"
    },
    "tags": []
   },
   "source": [
    "Non entreremo nel dettaglio delle sue caratteristiche, ma ci concentreremo su quella più importante in questo momento, ovvero `sys.argv`. Esegue proprio l'operazione di cui abbiamo bisogno: raccoglie gli argomenti passati allo script python."
   ]
  },
  {
   "cell_type": "markdown",
   "metadata": {
    "slideshow": {
     "slide_type": "subslide"
    },
    "tags": []
   },
   "source": [
    "Chiamando `sys.argv`, otteniamo gli argomenti specificati dall'utente come elenco (*list*) di stringhe."
   ]
  },
  {
   "cell_type": "markdown",
   "metadata": {
    "slideshow": {
     "slide_type": "fragment"
    },
    "tags": []
   },
   "source": [
    "L'indicizzazione, come sempre in Python, parte da `0`, e il primo argomento, `sys.argv[0]`, è il nome del nostro script Python così come è stato invocato (o solo il nome o il percorso al file)."
   ]
  },
  {
   "cell_type": "markdown",
   "metadata": {
    "slideshow": {
     "slide_type": "fragment"
    },
    "tags": []
   },
   "source": [
    "```python\n",
    "    ['moltiplica_due_numeri.py', '11', '44']\n"
   ]
  },
  {
   "cell_type": "markdown",
   "metadata": {
    "slideshow": {
     "slide_type": "fragment"
    },
    "tags": []
   },
   "source": [
    "Anche gli argomenti che seguono sono elementi di una *list* a cui si può accedere tramite il loro indice."
   ]
  },
  {
   "cell_type": "markdown",
   "metadata": {
    "slideshow": {
     "slide_type": "fragment"
    },
    "tags": []
   },
   "source": [
    "> Si noti che si tratta di stringhe e quindi, se abbiamo bisogno di un valore numerico, dobbiamo eseguire una conversione in un tipo di dato numerico."
   ]
  },
  {
   "cell_type": "markdown",
   "metadata": {
    "slideshow": {
     "slide_type": "subslide"
    },
    "tags": []
   },
   "source": [
    "Scriviamo quindi un semplice programma `moltiplica_due_numeri.py`:\n",
    "\n",
    "```python\n",
    "import sys  # per prima cosa, importiamo il modulo\n",
    "\n",
    "args = sys.argv  # otteniamo l'elenco degli argomenti\n",
    "first_num = float(args[1])  # convertiamo gli argomenti nel tipo float\n",
    "second_num = float(args[2])\n",
    "\n",
    "product = first_num * second_num\n",
    "\n",
    "print(\"Il prodotto di \" + args[1] + \" per \" + args[2] + \" è uguale a \" + str(product))\n",
    "```"
   ]
  },
  {
   "cell_type": "markdown",
   "metadata": {
    "slideshow": {
     "slide_type": "subslide"
    },
    "tags": []
   },
   "source": [
    "#### Controllo dell'input"
   ]
  },
  {
   "cell_type": "markdown",
   "metadata": {
    "slideshow": {
     "slide_type": "fragment"
    },
    "tags": []
   },
   "source": [
    "Vale la pena notare che se ci si aspetta di ottenere un numero specifico di argomenti (cioè quasi sempre), è una buona idea controllare la lunghezza di sys.argv nel nostro script."
   ]
  },
  {
   "cell_type": "markdown",
   "metadata": {
    "slideshow": {
     "slide_type": "fragment"
    },
    "tags": []
   },
   "source": [
    "Verifichiamo questo aspetto nel nostro codice:\n",
    "\n",
    "```python\n",
    "import sys  \n",
    "\n",
    "args = sys.argv  \n",
    "\n",
    "if len(args) != 3:\n",
    "    print(\"Lo script deve essere eseguito passando due argomenti, \"\n",
    "          \"il primo e il secondo numero da moltiplicare.\")\n",
    "else:\n",
    "    first_num = float(args[1])  \n",
    "    second_num = float(args[2])\n",
    "\n",
    "    product = first_num * second_num\n",
    "\n",
    "    print(\"Il prodotto di \" + args[1] + \" per \" + args[2] + \" è uguale a \" + str(product))\n",
    "```"
   ]
  },
  {
   "cell_type": "markdown",
   "metadata": {
    "slideshow": {
     "slide_type": "subslide"
    },
    "tags": []
   },
   "source": [
    "### Riassumendo"
   ]
  },
  {
   "cell_type": "markdown",
   "metadata": {
    "slideshow": {
     "slide_type": "fragment"
    },
    "tags": []
   },
   "source": [
    "In questa sezione abbiamo scritto per la prima volta codice Python."
   ]
  },
  {
   "cell_type": "markdown",
   "metadata": {
    "slideshow": {
     "slide_type": "fragment"
    },
    "tags": []
   },
   "source": [
    "Ecco le cose viste:\n",
    "\n",
    "- Inserire commenti nel codice tramite carattere `#`.\n",
    "- Importare un modulo tramite l'istruzione `import`.\n",
    "- Creare una variabile e assegnarle un \"contenuto\".\n",
    "- Costrutto `if...else` per eseguire codice in base a una condizione posta.\n",
    "- Accedere al contenuto di una lista (`list`), in particolare a uno specifico elemento tramite il suo indice tramite la notazione di \"subscription\".\n",
    "- Convertire una stringa in `float`.\n",
    "- Eseguire l'operazione aritmetica di moltiplicazione (`*`).\n",
    "- Creare una stringa (`string`) concatenando più più stringhe.\n",
    "- Stampare a monitor una stringa tramite la funzione built-in `print()`.\n",
    "- Esecuzione di uno script dalla shell del sistema operativo passando anche degli argomenti allo script."
   ]
  },
  {
   "cell_type": "markdown",
   "metadata": {
    "slideshow": {
     "slide_type": "slide"
    },
    "tags": []
   },
   "source": [
    "### Esecuzione di script dall'IDE (VS Code)"
   ]
  },
  {
   "cell_type": "markdown",
   "metadata": {
    "slideshow": {
     "slide_type": "notes"
    },
    "tags": []
   },
   "source": [
    "Diamo un'occhiata alle funzionalità di Visual Studio Code rispetto alla riga di comando."
   ]
  },
  {
   "cell_type": "markdown",
   "metadata": {
    "slideshow": {
     "slide_type": "fragment"
    },
    "tags": []
   },
   "source": [
    "Invece di scrivere manualmente il nome dello script e gli argomenti ogni volta, è possibile impostarli in un file di configurazione."
   ]
  },
  {
   "cell_type": "markdown",
   "metadata": {
    "slideshow": {
     "slide_type": "fragment"
    },
    "tags": []
   },
   "source": [
    "Per fare ciò, andiamo su \"**Run &rarr; Add configurations...**\". Si aprirà un file e ci verrà chiesto quale linguaggio vogliamo usare. Il primo proposto è Python e lo selezioniamo."
   ]
  },
  {
   "cell_type": "markdown",
   "metadata": {
    "slideshow": {
     "slide_type": "fragment"
    },
    "tags": []
   },
   "source": [
    "A questo punto dalla *command palette* dobbiamo indicare il tipo di configurazione che vogliamo creare e selezioniamo \"Python file\"."
   ]
  },
  {
   "cell_type": "markdown",
   "metadata": {
    "slideshow": {
     "slide_type": "subslide"
    },
    "tags": []
   },
   "source": [
    "Ci apparirà questo:\n",
    "\n",
    "```json\n",
    "{\n",
    "    // Use IntelliSense to learn about possible attributes.\n",
    "    // Hover to view descriptions of existing attributes.\n",
    "    // For more information, visit: https://go.microsoft.com/fwlink/?linkid=830387\n",
    "    \"version\": \"0.2.0\",\n",
    "    \"configurations\": [\n",
    "       {\n",
    "           \"name\": \"Python: Current File\",\n",
    "           \"type\": \"python\",\n",
    "           \"request\": \"launch\",\n",
    "           \"program\": \"${file}\",\n",
    "           \"console\": \"integratedTerminal\",\n",
    "           \"justMyCode\": true\n",
    "       },\n",
    "    ]\n",
    "}\n",
    "```\n",
    "\n",
    "È un file chiamato `launch.json`. Se non esisteva sarà creato automaticamente all'interno della root del progetto a cui appartiene il file che stiamo editando, nella cartella nascosta `.vscode`."
   ]
  },
  {
   "cell_type": "markdown",
   "metadata": {
    "slideshow": {
     "slide_type": "fragment"
    },
    "tags": []
   },
   "source": [
    "Questo è uno scheletro di configurazione per l'esecuzione di uno script."
   ]
  },
  {
   "cell_type": "markdown",
   "metadata": {
    "slideshow": {
     "slide_type": "subslide"
    },
    "tags": []
   },
   "source": [
    "Ora dobbiamo personalizzarlo dandogli un nome per riconoscerlo e indicando gli argomenti che vogliamo passare al nostro script. Modifichiamo il file come segue:\n",
    "\n",
    "```json\n",
    "{\n",
    "    // Use IntelliSense to learn about possible attributes.\n",
    "    // Hover to view descriptions of existing attributes.\n",
    "    // For more information, visit: https://go.microsoft.com/fwlink/?linkid=830387\n",
    "    \"version\": \"0.2.0\",\n",
    "    \"configurations\": [\n",
    "        {\n",
    "            \"name\": \"TEST: Moltiplica due numeri\",  // Qua diamo alla configurazione\n",
    "                                                    // un nome riconoscibile.\n",
    "            \"type\": \"python\",\n",
    "            \"request\": \"launch\",\n",
    "            \"program\": \"${file}\",\n",
    "            \"console\": \"integratedTerminal\",\n",
    "            \"args\": [     // Qua aggiungiamo una chiave \"args\"\n",
    "                \"20\",     // con i due argomenti che vogliamo passare\n",
    "                \"5\"       // sotto forma di un array di stringhe.\n",
    "            ],\n",
    "            \"justMyCode\": true\n",
    "        }\n",
    "    ]\n",
    "}\n",
    "```"
   ]
  },
  {
   "cell_type": "markdown",
   "metadata": {
    "slideshow": {
     "slide_type": "subslide"
    },
    "tags": []
   },
   "source": [
    "Salviamo le modifiche ed eseguiamo lo script tramite il menù \"**Run &rarr; Start debugging**\". L'output sarà quello atteso:\n",
    "\n",
    "```powershell    \n",
    "    Il prodotto di 20 per 5 è uguale a 100.0\n",
    "```"
   ]
  },
  {
   "cell_type": "markdown",
   "metadata": {
    "slideshow": {
     "slide_type": "fragment"
    },
    "tags": []
   },
   "source": [
    "Ora, invece di eseguire il modulo dalla shell come ad esempio `python multiply_two_numbers.py 5 20` e passare gli argomenti ogni volta che lo script viene chiamato, è possibile impostarli nel file `launch.json` ed eseguire il programma in modalità debug."
   ]
  },
  {
   "cell_type": "markdown",
   "metadata": {
    "slideshow": {
     "slide_type": "notes"
    },
    "tags": []
   },
   "source": [
    "Se create più configurazioni, ciascuna magari con argomenti diversi, andando su \"**View &rarr; Run**\" è possibile selezionare una specifica configurazione tramite la prima tendina in alto di fianco al simbolo di \"Play\". Una volta scelta la configurazione, cliccare sul simbolo \"Play\" o andare su \"**Run &rarr; Start debugging**\" per eseguire lo script con la configurazione selezionata."
   ]
  },
  {
   "cell_type": "markdown",
   "metadata": {
    "slideshow": {
     "slide_type": "subslide"
    },
    "tags": []
   },
   "source": [
    "### Approfondimenti\n",
    "\n",
    "[Command line and environment](https://docs.python.org/3/using/cmdline.html)\n",
    "\n",
    "[Using the Python Interpreter](https://docs.python.org/3/tutorial/interpreter.html)"
   ]
  },
  {
   "cell_type": "markdown",
   "metadata": {
    "slideshow": {
     "slide_type": "subslide"
    },
    "tags": []
   },
   "source": [
    "### Riassumendo\n",
    "\n",
    "Abbiamo imparato come eseguire gli script Python dalla riga di comando, come ottenere l'accesso agli argomenti passati con il moodulo `sys` e che è importante verificare che gli argomenti siano quelli che ci aspettiamo."
   ]
  },
  {
   "cell_type": "markdown",
   "metadata": {
    "slideshow": {
     "slide_type": "fragment"
    },
    "tags": []
   },
   "source": [
    "Abbiamo anche visto come specificare gli argomenti degli script tramite le configurazioni di progetto di Visual Studio Code."
   ]
  },
  {
   "cell_type": "markdown",
   "metadata": {
    "slideshow": {
     "slide_type": "slide"
    },
    "tags": []
   },
   "source": [
    "## Filosofia di Python: *The Zen of Python*"
   ]
  },
  {
   "cell_type": "markdown",
   "metadata": {
    "slideshow": {
     "slide_type": "fragment"
    },
    "tags": []
   },
   "source": [
    "Python è stato concepito con un design che segue una filosofia di programmazione ben definita e enunciata dallo stesso Guido Van Rossum in più occasioni."
   ]
  },
  {
   "cell_type": "markdown",
   "metadata": {
    "slideshow": {
     "slide_type": "fragment"
    },
    "tags": []
   },
   "source": [
    "Egli ricorda che 1999 presentò alla [DARPA](https://it.wikipedia.org/wiki/Defense_Advanced_Research_Projects_Agency) una proposta di finanziamento intitolata \"Computer Programming for Everybody\" (programmazione per tutti), in cui definì i suoi obiettivi per Python:"
   ]
  },
  {
   "cell_type": "markdown",
   "metadata": {
    "slideshow": {
     "slide_type": "fragment"
    },
    "tags": []
   },
   "source": [
    "- Un linguaggio semplice, intuitivo e potente quanto i principali concorrenti.\n",
    "- Open source, in modo che chiunque possa contribuire al suo sviluppo.\n",
    "- Un codice facilmente comprensibile, come un linguaggio naturale (plain English).\n",
    "- Adatto ai compiti di tutti i giorni e dunque in grado di consentire tempi di sviluppo brevi."
   ]
  },
  {
   "cell_type": "markdown",
   "metadata": {
    "slideshow": {
     "slide_type": "subslide"
    },
    "tags": []
   },
   "source": [
    "Questi quattro punti cardinali sono stati rielaborati da Tim Peters nei principi “filosofici” esplicitati nel documento “[PEP 20 - The Zen of Python](https://peps.python.org/pep-0020/)”, una sorta di Bibbia per gli amatori di questo linguaggio."
   ]
  },
  {
   "cell_type": "markdown",
   "metadata": {
    "slideshow": {
     "slide_type": "fragment"
    },
    "tags": []
   },
   "source": [
    "In questo documento, visualizzabile eseguendo il comando `import this`, sono elencati degli aforismi che spiegano cosa ci sia stato dietro la nascita di Python e come dovrà proseguire il suo sviluppo."
   ]
  },
  {
   "cell_type": "code",
   "execution_count": 1,
   "metadata": {
    "slideshow": {
     "slide_type": "subslide"
    },
    "tags": []
   },
   "outputs": [
    {
     "name": "stdout",
     "output_type": "stream",
     "text": [
      "The Zen of Python, by Tim Peters\n",
      "\n",
      "Beautiful is better than ugly.\n",
      "Explicit is better than implicit.\n",
      "Simple is better than complex.\n",
      "Complex is better than complicated.\n",
      "Flat is better than nested.\n",
      "Sparse is better than dense.\n",
      "Readability counts.\n",
      "Special cases aren't special enough to break the rules.\n",
      "Although practicality beats purity.\n",
      "Errors should never pass silently.\n",
      "Unless explicitly silenced.\n",
      "In the face of ambiguity, refuse the temptation to guess.\n",
      "There should be one-- and preferably only one --obvious way to do it.\n",
      "Although that way may not be obvious at first unless you're Dutch.\n",
      "Now is better than never.\n",
      "Although never is often better than *right* now.\n",
      "If the implementation is hard to explain, it's a bad idea.\n",
      "If the implementation is easy to explain, it may be a good idea.\n",
      "Namespaces are one honking great idea -- let's do more of those!\n"
     ]
    }
   ],
   "source": [
    "import this"
   ]
  },
  {
   "cell_type": "markdown",
   "metadata": {
    "slideshow": {
     "slide_type": "subslide"
    },
    "tags": []
   },
   "source": [
    "\"The Zen of Python\" è stato [*hard coded*](https://en.wikipedia.org/wiki/Hard_coding) nel core di Python nel 2004 come [*easter egg*](https://it.wikipedia.org/wiki/Easter_egg). In teoria dovrebbero essere 20 aforismi ma, ad oggi, solo 19 sono stati scritti, come enunciato dall'abstract del [PEP 20](https://peps.python.org/pep-0020/):"
   ]
  },
  {
   "cell_type": "markdown",
   "metadata": {
    "slideshow": {
     "slide_type": "fragment"
    },
    "tags": []
   },
   "source": [
    "> ABSTRACT: *Tim Peters, pitonista di lunga data, sintetizza i principi guida del [BDFL](https://it.wikipedia.org/wiki/Benevolo_Dittatore_a_Vita) per la progettazione di Python in 20 aforismi, di cui solo 19 sono stati scritti.*"
   ]
  },
  {
   "cell_type": "markdown",
   "metadata": {
    "slideshow": {
     "slide_type": "subslide"
    },
    "tags": []
   },
   "source": [
    "A scanso di equivoci, come suggerisce la regola n.2, proviamo a tradurre in italiano:\n",
    "\n",
    "```\n",
    "    1. Bello è meglio di brutto.\n",
    "    2. Esplicito è meglio di implicito.\n",
    "    3. Semplice è meglio di complesso.\n",
    "    4. Complesso è meglio di complicato.\n",
    "    5. Lineare è meglio di nidificato.\n",
    "    6. Sparso è meglio di denso.\n",
    "    7. La leggibilità è importante.\n",
    "    8. I casi speciali non sono abbastanza speciali per infrangere le regole.\n",
    "    9. Anche se la praticità batte la purezza.\n",
    "    10. Gli errori non devono mai passare in silenzio.\n",
    "    11. A meno che non siano stati esplicitamente silenziati.\n",
    "    12. Davanti all’ambiguità, rifiuta la tentazione di indovinare.\n",
    "    13. Ci dovrebbe essere un-- e preferibilmente solo un --modo ovvio per farlo.\n",
    "    14. Anche se all'inizio quel modo potrebbe non essere ovvio, a meno che tu non sia olandese.\n",
    "    15. Adesso è meglio che mai.\n",
    "    16. Anche se \"mai\" è sovente meglio di *proprio* adesso.\n",
    "    17. Se l’implementazione è difficile da spiegare, è una cattiva idea.\n",
    "    18. Se l’implementazione è facile da spiegare, potrebbe essere una buona idea.\n",
    "    19. I namespace sono un'idea grandiosa -- cerchiamo di farne di più!\n",
    "```"
   ]
  },
  {
   "cell_type": "markdown",
   "metadata": {
    "slideshow": {
     "slide_type": "subslide"
    },
    "tags": []
   },
   "source": [
    "### Pensa pitonico!"
   ]
  },
  {
   "cell_type": "markdown",
   "metadata": {
    "slideshow": {
     "slide_type": "fragment"
    },
    "tags": []
   },
   "source": [
    "A volte si sente descrivere del codice come particolarmente \"pitonico\" oppure dire che una scelta è più \"pitonica\" rispetto ad un'altra."
   ]
  },
  {
   "cell_type": "markdown",
   "metadata": {
    "slideshow": {
     "slide_type": "fragment"
    },
    "tags": []
   },
   "source": [
    "L'aggettivo \"pitonico\" o \"pythonico\" è generalmente usato per descrivere del codice facilmente leggibile, conciso e reso più efficiente dal fatto che si utilizzano le caratteristiche integrate di Python a proprio vantaggio."
   ]
  },
  {
   "cell_type": "markdown",
   "metadata": {
    "slideshow": {
     "slide_type": "fragment"
    },
    "tags": []
   },
   "source": [
    "\"Pitonico\" è dunque anche uno stile di codifica idiomatico che si concentra principalmente sulla leggibilità e manutenibilità del codice seguendo i principi del \"The Zen of Python\"."
   ]
  },
  {
   "cell_type": "markdown",
   "metadata": {
    "slideshow": {
     "slide_type": "notes"
    },
    "tags": []
   },
   "source": [
    "Ci accorgeremo in fretta che Python è così ben sviluppato e che ci sono troppe funzioni da imparare, da rendere impossibile o perlmeno poco saggio cercare di imparare tutto e subito. È invece molto meglio concentrarsi sulle abilità essenziali che molto probabilmente userete nei vostri progetti e imparare a scrivere codice in modo pitonico affrontando i compiti di programmazione più comuni."
   ]
  },
  {
   "cell_type": "markdown",
   "metadata": {
    "slideshow": {
     "slide_type": "fragment"
    },
    "tags": []
   },
   "source": [
    "Cercare di sviluppare buone abitudini di programmazione che incrementino la leggibilità e la manutenibilità del codice, sarà una cosa che i vostri amici, colleghi e soprattutto voi stessi a distanza di tempo, apprezzerete senza dubbio."
   ]
  },
  {
   "cell_type": "markdown",
   "metadata": {
    "slideshow": {
     "slide_type": "subslide"
    },
    "tags": []
   },
   "source": [
    "### Altri *easter egg*"
   ]
  },
  {
   "cell_type": "markdown",
   "metadata": {
    "slideshow": {
     "slide_type": "fragment"
    },
    "tags": []
   },
   "source": [
    "Prova a scrivere questi comandi nell'interprete interattivo di Python:\n",
    "```python\n",
    "import __hello__\n",
    "\n",
    "import antigravity\n",
    "\n",
    "from __future__ import braces\n",
    "\n",
    "from __future__ import barry_as_FLUFL\n",
    "```"
   ]
  },
  {
   "cell_type": "markdown",
   "metadata": {
    "slideshow": {
     "slide_type": "subslide"
    },
    "tags": []
   },
   "source": [
    "## Stile di scrittura del codice e buone pratiche: PEP 8"
   ]
  },
  {
   "cell_type": "markdown",
   "metadata": {
    "slideshow": {
     "slide_type": "fragment"
    },
    "tags": []
   },
   "source": [
    "Come scrivere codice pulito e facile da leggere?"
   ]
  },
  {
   "cell_type": "markdown",
   "metadata": {
    "slideshow": {
     "slide_type": "notes"
    },
    "tags": []
   },
   "source": [
    "Questa è la domanda che ci si pone quando si passa da semplici programmi a riga singola a programmi più complicati. All'inizio può sembrare poco importante, ma nella vita reale la programmazione è un processo che coinvolge molte persone che lavorano insieme, quindi si passa più tempo a leggere il codice che a scriverlo.\n",
    "\n",
    "Sebbene Python sia spesso più leggibile di altri linguaggi di programmazione grazie alla sua sintassi minimalista, la sintassi in sé non è sufficiente. È il modo in cui si scrive il codice che influisce sulla leggibilità generale."
   ]
  },
  {
   "cell_type": "markdown",
   "metadata": {
    "slideshow": {
     "slide_type": "fragment"
    },
    "tags": []
   },
   "source": [
    "È necessario seguire delle convenzioni comuni sullo stile di programmazione, in modo che gli altri programmatori siano in grado di leggere facilmente il vostro codice."
   ]
  },
  {
   "cell_type": "markdown",
   "metadata": {
    "slideshow": {
     "slide_type": "fragment"
    },
    "tags": []
   },
   "source": [
    "Ma dove possiamo trovare queste convenzioni?"
   ]
  },
  {
   "cell_type": "markdown",
   "metadata": {
    "slideshow": {
     "slide_type": "fragment"
    },
    "tags": []
   },
   "source": [
    "Esiste un documento che si chiama [**PEP 8**](https://peps.python.org/pep-0008/) dal titolo \"**Style Guide for Python Code**\". L'idea chiave è quella di utilizzare lo stesso stile di codice per tutti i progetti Python, come se fossero stati scritti dallo stesso programmatore. Questo documento garantisce che anche un principiante possa capire facilmente il codice scritto da un qualsiasi altro sviluppatore."
   ]
  },
  {
   "cell_type": "markdown",
   "metadata": {
    "slideshow": {
     "slide_type": "notes"
    },
    "tags": []
   },
   "source": [
    "Prima di andare avanti, parliamo un attimo dei PEP."
   ]
  },
  {
   "cell_type": "markdown",
   "metadata": {
    "slideshow": {
     "slide_type": "subslide"
    },
    "tags": []
   },
   "source": [
    "**PEP** è l'acronimo di _**Python Enhancement Proposal**_. Sono documenti che forniscono proposte di sviluppo, linee guida e convenzioni da condividere con la comunità di sviluppatori Python."
   ]
  },
  {
   "cell_type": "markdown",
   "metadata": {
    "slideshow": {
     "slide_type": "notes"
    },
    "tags": []
   },
   "source": [
    "Esistono diversi tipi di PEP e quello più utile per i principianti è il PEP di tipo informativo. I PEP di questo tipo descrivono in genere linee guida o convenzioni comunemente accettate sul linguaggio, quindi possono essere molto utili. Oltre alla PEP 8, che è una guida di stile ufficiale, abbiamo già visto l'altra grande PEP, la PEP 20, ovvero lo Zen di Python."
   ]
  },
  {
   "cell_type": "markdown",
   "metadata": {
    "slideshow": {
     "slide_type": "fragment"
    },
    "tags": []
   },
   "source": [
    "Ora che sappiamo cos'è la PEP 8, andiamo a elencare le cose più importanti da tenere presenti in questa fase dell'apprendimento. Man mano che vedremo e studieremo le varie parti di Python, faremo anche riferimento alla PEP 8 e vedremo che cosa essa ci suggerisce."
   ]
  },
  {
   "cell_type": "markdown",
   "metadata": {
    "slideshow": {
     "slide_type": "subslide"
    },
    "tags": []
   },
   "source": [
    "### La lunghezza di una riga\n",
    "Non utilizzare più di [79 caratteri in una riga](https://en.wikipedia.org/wiki/Characters_per_line) di codice. Le righe più corte vengono visualizzate meglio negli editor di codice. Più avanti impareremo diversi modi per rispettare questa regola."
   ]
  },
  {
   "cell_type": "markdown",
   "metadata": {
    "slideshow": {
     "slide_type": "subslide"
    },
    "tags": []
   },
   "source": [
    "### Evitare gli spazi extra\n",
    "\n",
    "A volte si possono aggiungere degli spazi anche se non sono necessari. Questo però, a volte, riduce la leggibilità del codice."
   ]
  },
  {
   "cell_type": "markdown",
   "metadata": {
    "slideshow": {
     "slide_type": "fragment"
    },
    "tags": []
   },
   "source": [
    "Evitate spazi extra all'interno delle parentesi.\n",
    "\n",
    "Bene:\n",
    "\n",
    "```python\n",
    "print('Hello!')\n",
    "```\n",
    "\n",
    "Male:\n",
    "\n",
    "```python\n",
    "print( 'Hello!' )\n",
    "```"
   ]
  },
  {
   "cell_type": "markdown",
   "metadata": {
    "slideshow": {
     "slide_type": "subslide"
    },
    "tags": []
   },
   "source": [
    "Evitate spazi extra prima di una parentesi di apertura di una chiamata.\n",
    "\n",
    "Bene:\n",
    "\n",
    "```python\n",
    "print('some text')\n",
    "```\n",
    "\n",
    "Male:\n",
    "\n",
    "```python\n",
    "print ('some text')\n",
    "```"
   ]
  },
  {
   "cell_type": "markdown",
   "metadata": {
    "slideshow": {
     "slide_type": "subslide"
    },
    "tags": []
   },
   "source": [
    "### Virgolette o apici?\n",
    "\n",
    "Come già detto, per definire le stringhe si possono usare sia gli apici singoli che quelli doppi. Scegliete quello che più vi piace e usatelo con coerenza nel vostro codice e, se state modificando codice scritto da altri, mantenete la coerenza attenedovi allo stile preesistente. "
   ]
  },
  {
   "cell_type": "markdown",
   "metadata": {
    "slideshow": {
     "slide_type": "subslide"
    },
    "tags": []
   },
   "source": [
    "L'unica raccomandazione della PEP 8 è che se una stringa contiene apici singoli, si dovrebbero usare quelli doppi e viceversa. Questo per evitare l'uso del backslash.\n",
    "\n",
    "Bene:\n",
    "\n",
    "```python\n",
    "print(\"It's a good string!\")\n",
    "print('What is a \"good string\"?')\n",
    "```"
   ]
  },
  {
   "cell_type": "markdown",
   "metadata": {
    "slideshow": {
     "slide_type": "fragment"
    },
    "tags": []
   },
   "source": [
    "Male e difficile da leggere:\n",
    "\n",
    "```python\n",
    "print('It\\'s a bad string!')\n",
    "print(\"What is a \\\"bad string\\\"?\")\n",
    "```"
   ]
  },
  {
   "cell_type": "markdown",
   "metadata": {
    "slideshow": {
     "slide_type": "fragment"
    },
    "tags": []
   },
   "source": [
    "Il backslash in questo caso è un [carattere di escape](https://en.wikipedia.org/wiki/Escape_character) usato per indicare che la virgoletta (doppia o singola) che segue non è la fine della stringa; lo si imparerà in dettaglio più avanti."
   ]
  },
  {
   "cell_type": "markdown",
   "metadata": {
    "slideshow": {
     "slide_type": "fragment"
    },
    "tags": []
   },
   "source": [
    "Secondo la PEP 8, evitare i backslash migliora la leggibilità del codice. Quindi, anche se l'esempio con i backslash funziona, notate quanto il primo esempio sia più facile da leggere."
   ]
  },
  {
   "cell_type": "markdown",
   "metadata": {
    "slideshow": {
     "slide_type": "subslide"
    },
    "tags": []
   },
   "source": [
    "### Riassumendo"
   ]
  },
  {
   "cell_type": "markdown",
   "metadata": {
    "slideshow": {
     "slide_type": "fragment"
    },
    "tags": []
   },
   "source": [
    "In questo capitolo abbiamo scoperto cos'è la PEP 8, dove trovarla e come consultarla. Riassumiamo brevemente i punti principali che abbiamo discusso:"
   ]
  },
  {
   "cell_type": "markdown",
   "metadata": {
    "slideshow": {
     "slide_type": "fragment"
    },
    "tags": []
   },
   "source": [
    "- la lunghezza di una riga di codice non dovrebbe superare i 79 caratteri;\n",
    "- gli spazi extra devono essere evitati all'interno delle parentesi e prima di una parentesi di chiamata;\n",
    "- le virgolette devono essere usate in modo coerente e/o per evitare i backslash."
   ]
  },
  {
   "cell_type": "markdown",
   "metadata": {
    "slideshow": {
     "slide_type": "notes"
    },
    "tags": []
   },
   "source": [
    "In seguito, imparerete molte cose su Python e diventerete programmatori più abili, ma seguire lo stile del codice rimarrà sempre importante. Non preoccupatevi, però: non è necessario imparare tutte le convenzioni in una volta sola; basta aprirle di tanto in tanto dopo aver imparato qualcosa di nuovo. In questo corso forniremo anche i riferimenti a queste convenzioni."
   ]
  }
 ],
 "metadata": {
  "kernelspec": {
   "display_name": "Python 3 (ipykernel)",
   "language": "python",
   "name": "python3"
  },
  "language_info": {
   "codemirror_mode": {
    "name": "ipython",
    "version": 3
   },
   "file_extension": ".py",
   "mimetype": "text/x-python",
   "name": "python",
   "nbconvert_exporter": "python",
   "pygments_lexer": "ipython3",
   "version": "3.11.2"
  },
  "vscode": {
   "interpreter": {
    "hash": "20e40d8fc09a6690434ad602c7eb2d8de15d36ec466bfbfb0de97c7c540d7363"
   }
  }
 },
 "nbformat": 4,
 "nbformat_minor": 4
}
