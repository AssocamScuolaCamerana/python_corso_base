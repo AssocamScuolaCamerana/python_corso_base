{
 "cells": [
  {
   "attachments": {},
   "cell_type": "markdown",
   "metadata": {},
   "source": [
    "# Modulo di terze parti `requests`: effettuare HTTP requests"
   ]
  },
  {
   "attachments": {},
   "cell_type": "markdown",
   "metadata": {},
   "source": [
    "Questa è un'introduzione a `requests`, un'elegante e semplice libreria HTTP per Python.\n",
    "\n",
    "L'Hypertext Transfer Protocol (HTTP) è probabilmente il protocollo per il trasferimento dati più diffuso su Internet. Consente la comunicazione tra il client (solitamente un browser web) e il server HTTP (server web) mediante l'invio di messaggi di testo: il client invia un messaggio di richiesta al server che, a sua volta, restituisce un messaggio di risposta.\n",
    "\n",
    "Python `requests` consente di inviare tutti i tipi di richieste e di ottenere le relative risposte in modo semplice e intuitivo.\n",
    "\n",
    "Questa è una libreria di terze parti e dunque non fa parte della Libreria standard. È necessario installarla tramite il comando `pip install requests` nella riga di comando."
   ]
  },
  {
   "attachments": {},
   "cell_type": "markdown",
   "metadata": {},
   "source": [
    "```bash\n",
    "# MAC/LINUX:\n",
    "(my_venv) $ pip install requests\n",
    "\n",
    "# WINDOWS:\n",
    "(my_venv) C:\\my_proj> pip install requests\n",
    "```"
   ]
  },
  {
   "attachments": {},
   "cell_type": "markdown",
   "metadata": {},
   "source": [
    "\n",
    "Se sei su Windows, non hai creato un virtual environment (male!;) e devi usare il `py` launcher:\n",
    "\n",
    "```powershell\n",
    "C:\\my_proj> py -m pip install requests\n",
    "```"
   ]
  },
  {
   "attachments": {},
   "cell_type": "markdown",
   "metadata": {},
   "source": [
    "Per iniziare a usare requests nel vostro codice, importate la libreria:\n",
    "\n",
    "```python\n",
    "import requests\n",
    "```"
   ]
  },
  {
   "attachments": {},
   "cell_type": "markdown",
   "metadata": {},
   "source": [
    "### Invio e recezione dei dati\n",
    "\n",
    "Come detto, il protocollo HTTP prevede una serie di [messaggi di richiesta](https://it.wikipedia.org/wiki/Hypertext_Transfer_Protocol#Messaggio_di_richiesta) che il client può inviare al server. In particolare i più noti sono\n",
    "\n",
    "- GET\n",
    "- POST\n",
    "- PUT\n",
    "- DELETE\n",
    "\n",
    "La richiesta GET è usata per recuperare informazioni da un determinato server usando un URL. Per esempio, ogni volta che si inserisce un URL nella casella degli indirizzi del browser, questo lo traduce in un messaggio di richiesta GET e lo invia al server.\n",
    "\n",
    "Il più delle volte navighiamo sul web recuperando alcuni dati, ma quando ci colleghiamo a un social network, aggiungiamo un articolo al carrello in un negozio online o cancelliamo una foto pubblicata in precedenza, inviamo informazioni al server per modificarne lo stato. A questo scopo utilizziamo metodi HTTP come POST, PUT e DELETE.\n",
    "\n",
    "In questa sezione, vedremo come inviare questi tipi comuni di richieste con Python, limitandoci a GET e POST, che sono i metodi usati per reperire informazioni. PUT e DELETE vengono usati in casi specifici che non ci interessano ai fini di questo corso di base."
   ]
  },
  {
   "attachments": {},
   "cell_type": "markdown",
   "metadata": {},
   "source": [
    "## Richiesta GET: `requests.get()`\n",
    "\n",
    "Immaginiamo di dover ottenere la pagina principale del sito ufficiale della libreria `requests`. Possiamo farlo con l'aiuto di `requests.get(url)` come segue:"
   ]
  },
  {
   "cell_type": "code",
   "execution_count": 3,
   "metadata": {},
   "outputs": [
    {
     "name": "stdout",
     "output_type": "stream",
     "text": [
      "<Response [200]>\n",
      "200\n"
     ]
    }
   ],
   "source": [
    "import requests\n",
    "\n",
    "response = requests.get('https://requests.readthedocs.io/en/master/')\n",
    "print(response)\n",
    "print(response.status_code)\n"
   ]
  },
  {
   "attachments": {},
   "cell_type": "markdown",
   "metadata": {},
   "source": [
    "`requests.get()` restituisce un oggetto di risposta (*response*) contenente tutte le informazioni riguardanti la risposta da parte del server. Si noti che `200` è un codice HTTP standard che indica che la richiesta è andata a buon fine, mentre per esempio il codice `404` significa che la risorsa richieasta non è stata trovata. È possibile accedere esplicitamente al codice di risposta nell'attributo `status_code` dell'oggetto di risposta:"
   ]
  },
  {
   "attachments": {},
   "cell_type": "markdown",
   "metadata": {},
   "source": [
    "Se si usa un oggetto response in un'istruzione `if`, la valutazione sarà `True` se il codice di stato inizia con la cifra `2` (richiesta accettata) o `3` (reindirizzamento) e `False` altrimenti:\n",
    "\n",
    "- `2xx` &rarr; truthy\n",
    "- `3xx` &rarr; truthy\n",
    "- `4xx` &rarr; falsy"
   ]
  },
  {
   "cell_type": "code",
   "execution_count": 4,
   "metadata": {},
   "outputs": [
    {
     "name": "stdout",
     "output_type": "stream",
     "text": [
      "Success!\n"
     ]
    }
   ],
   "source": [
    "if response:\n",
    "    print('Success!')\n",
    "else:\n",
    "    print('Fail')\n"
   ]
  },
  {
   "attachments": {},
   "cell_type": "markdown",
   "metadata": {},
   "source": [
    "Per leggere il contenuto della risposta del server, si deve osservare la proprietà `.text`:"
   ]
  },
  {
   "cell_type": "code",
   "execution_count": 5,
   "metadata": {},
   "outputs": [
    {
     "data": {
      "text/plain": [
       "'\\n<!DOCTYPE html>\\n\\n<html lang=\"en\">\\n  <head>\\n    <meta charset=\"utf-8\" />\\n    <meta name=\"viewport\" content=\"width=device-width, initial-scale=1.0\" /><meta name=\"generator\" content=\"Docutils 0.17.1: http://docutils.sourceforge.net/\" />\\n\\n    <title>Requests: HTTP for Humans™ &#8212; Requests 2.30.0 documentation</title>\\n    <link rel=\"stylesheet\" type=\"text/css\" href=\"_static/pygments.css\" />\\n    <link rel=\"stylesheet\" type=\"text/css\" href=\"_static/alabaster.css\" />\\n    <link rel=\"stylesheet\" type=\"text/css\" href=\"/_/static/css/badge_only.css\" />\\n    <script data-url_root=\"#\" id=\"documentation_options\" src=\"_static/documentation_options.js\"></script>\\n    <script src=\"_static/jquery.js\"></script>\\n    <script src=\"_static/underscore.js\"></script>\\n    <script src=\"_static/doctools.js\"></script>\\n    <script async=\"async\" src=\"/_/static/javascript/readthedocs-doc-embed.js\"></script>\\n    <link rel=\"canonical\" href=\"https://requests.readthedocs.io/en/latest/index.html\" />\\n    <link rel=\"index\" title=\"Index\" href=\"genindex/\" />\\n    <link rel=\"search\" title=\"Search\" href=\"search/\" />\\n    <link rel=\"next\" title=\"Installation of Requests\" href=\"user/install/\" />\\n   \\n  <link rel=\"stylesheet\" href=\"_static/custom.css\" type=\"text/css\" />\\n  \\n  \\n  <meta name=\"viewport\" content=\"width=device-width, initial-scale=0.9, maximum-scale=0.9\" />\\n\\n  \\n<!-- RTD Extra Head -->\\n\\n<link rel=\"stylesheet\" href=\"/_/static/css/readthedocs-doc-embed.css\" type=\"text/css\" />\\n\\n<script type=\"application/json\" id=\"READTHEDOCS_DATA\">{\"ad_free\": false, \"api_host\": \"https://readthedocs.org\", \"build_date\": \"2023-05-03T15:40:17Z\", \"builder\": \"sphinx\", \"canonical_url\": null, \"commit\": \"2ad18e0e\", \"docroot\": \"/docs/\", \"features\": {\"docsearch_disabled\": false}, \"global_analytics_code\": \"UA-17997319-1\", \"language\": \"en\", \"page\": \"index\", \"programming_language\": \"py\", \"project\": \"requests\", \"proxied_api_host\": \"/_\", \"source_suffix\": \".rst\", \"subprojects\": {\"requests-docs-cn\": \"https://requests.readthedocs.io/projects/cn/zh_CN/latest/\", \"requests-docs-de\": \"https://requests.readthedocs.io/projects/de/de/latest/\", \"requests-docs-es\": \"https://requests.readthedocs.io/projects/es/es/latest/\", \"requests-docs-it\": \"https://requests.readthedocs.io/projects/it/it/latest/\", \"requests-docs-pl\": \"https://requests.readthedocs.io/projects/pl/pl/latest/\", \"requests-docs-pt\": \"https://requests.readthedocs.io/projects/pt/pt_BR/latest/\", \"requests-html\": \"https://requests.readthedocs.io/projects/requests-html/en/latest/\"}, \"theme\": \"alabaster\", \"user_analytics_code\": \"\", \"version\": \"latest\"}</script>\\n\\n<!--\\nUsing this variable directly instead of using `JSON.parse` is deprecated.\\nThe READTHEDOCS_DATA global variable will be removed in the future.\\n-->\\n<script type=\"text/javascript\">\\nREADTHEDOCS_DATA = JSON.parse(document.getElementById(\\'READTHEDOCS_DATA\\').innerHTML);\\n</script>\\n\\n<script type=\"text/javascript\" src=\"/_/static/javascript/readthedocs-analytics.js\" async=\"async\"></script>\\n\\n<!-- end RTD <extrahead> -->\\n</head><body>\\n  \\n\\n    <div class=\"document\">\\n      <div class=\"documentwrapper\">\\n        <div class=\"bodywrapper\">\\n          \\n\\n          <div class=\"body\" role=\"main\">\\n            \\n  <section id=\"requests-http-for-humans\">\\n<h1>Requests: HTTP for Humans™<a class=\"headerlink\" href=\"#requests-http-for-humans\" title=\"Permalink to this headline\">¶</a></h1>\\n<p>Release v2.30.0. (<a class=\"reference internal\" href=\"user/install/#install\"><span class=\"std std-ref\">Installation</span></a>)</p>\\n<a class=\"reference external image-reference\" href=\"https://pepy.tech/project/requests\"><img alt=\"Requests Downloads Per Month Badge\" src=\"https://pepy.tech/badge/requests/month\" /></a>\\n<a class=\"reference external image-reference\" href=\"https://pypi.org/project/requests/\"><img alt=\"License Badge\" src=\"https://img.shields.io/pypi/l/requests.svg\" /></a>\\n<a class=\"reference external image-reference\" href=\"https://pypi.org/project/requests/\"><img alt=\"Wheel Support Badge\" src=\"https://img.shields.io/pypi/wheel/requests.svg\" /></a>\\n<a class=\"reference external image-reference\" href=\"https://pypi.org/project/requests/\"><img alt=\"Python Version Support Badge\" src=\"https://img.shields.io/pypi/pyversions/requests.svg\" /></a>\\n<p><strong>Requests</strong> is an elegant and simple HTTP library for Python, built for human beings.</p>\\n<hr class=\"docutils\" />\\n<p><strong>Behold, the power of Requests</strong>:</p>\\n<div class=\"highlight-default notranslate\"><div class=\"highlight\"><pre><span></span><span class=\"gp\">&gt;&gt;&gt; </span><span class=\"n\">r</span> <span class=\"o\">=</span> <span class=\"n\">requests</span><span class=\"o\">.</span><span class=\"n\">get</span><span class=\"p\">(</span><span class=\"s1\">&#39;https://api.github.com/user&#39;</span><span class=\"p\">,</span> <span class=\"n\">auth</span><span class=\"o\">=</span><span class=\"p\">(</span><span class=\"s1\">&#39;user&#39;</span><span class=\"p\">,</span> <span class=\"s1\">&#39;pass&#39;</span><span class=\"p\">))</span>\\n<span class=\"gp\">&gt;&gt;&gt; </span><span class=\"n\">r</span><span class=\"o\">.</span><span class=\"n\">status_code</span>\\n<span class=\"go\">200</span>\\n<span class=\"gp\">&gt;&gt;&gt; </span><span class=\"n\">r</span><span class=\"o\">.</span><span class=\"n\">headers</span><span class=\"p\">[</span><span class=\"s1\">&#39;content-type&#39;</span><span class=\"p\">]</span>\\n<span class=\"go\">&#39;application/json; charset=utf8&#39;</span>\\n<span class=\"gp\">&gt;&gt;&gt; </span><span class=\"n\">r</span><span class=\"o\">.</span><span class=\"n\">encoding</span>\\n<span class=\"go\">&#39;utf-8&#39;</span>\\n<span class=\"gp\">&gt;&gt;&gt; </span><span class=\"n\">r</span><span class=\"o\">.</span><span class=\"n\">text</span>\\n<span class=\"go\">&#39;{&quot;type&quot;:&quot;User&quot;...&#39;</span>\\n<span class=\"gp\">&gt;&gt;&gt; </span><span class=\"n\">r</span><span class=\"o\">.</span><span class=\"n\">json</span><span class=\"p\">()</span>\\n<span class=\"go\">{&#39;private_gists&#39;: 419, &#39;total_private_repos&#39;: 77, ...}</span>\\n</pre></div>\\n</div>\\n<p>See <a class=\"reference external\" href=\"https://gist.github.com/973705\">similar code, sans Requests</a>.</p>\\n<p><strong>Requests</strong> allows you to send HTTP/1.1 requests extremely easily.\\nThere’s no need to manually add query strings to your\\nURLs, or to form-encode your POST data. Keep-alive and HTTP connection pooling\\nare 100% automatic, thanks to <a class=\"reference external\" href=\"https://github.com/urllib3/urllib3\">urllib3</a>.</p>\\n<section id=\"beloved-features\">\\n<h2>Beloved Features<a class=\"headerlink\" href=\"#beloved-features\" title=\"Permalink to this headline\">¶</a></h2>\\n<p>Requests is ready for today’s web.</p>\\n<ul class=\"simple\">\\n<li><p>Keep-Alive &amp; Connection Pooling</p></li>\\n<li><p>International Domains and URLs</p></li>\\n<li><p>Sessions with Cookie Persistence</p></li>\\n<li><p>Browser-style SSL Verification</p></li>\\n<li><p>Automatic Content Decoding</p></li>\\n<li><p>Basic/Digest Authentication</p></li>\\n<li><p>Elegant Key/Value Cookies</p></li>\\n<li><p>Automatic Decompression</p></li>\\n<li><p>Unicode Response Bodies</p></li>\\n<li><p>HTTP(S) Proxy Support</p></li>\\n<li><p>Multipart File Uploads</p></li>\\n<li><p>Streaming Downloads</p></li>\\n<li><p>Connection Timeouts</p></li>\\n<li><p>Chunked Requests</p></li>\\n<li><p><code class=\"docutils literal notranslate\"><span class=\"pre\">.netrc</span></code> Support</p></li>\\n</ul>\\n<p>Requests officially supports Python 3.7+, and runs great on PyPy.</p>\\n</section>\\n<section id=\"the-user-guide\">\\n<h2>The User Guide<a class=\"headerlink\" href=\"#the-user-guide\" title=\"Permalink to this headline\">¶</a></h2>\\n<p>This part of the documentation, which is mostly prose, begins with some\\nbackground information about Requests, then focuses on step-by-step\\ninstructions for getting the most out of Requests.</p>\\n<div class=\"toctree-wrapper compound\">\\n<ul>\\n<li class=\"toctree-l1\"><a class=\"reference internal\" href=\"user/install/\">Installation of Requests</a><ul>\\n<li class=\"toctree-l2\"><a class=\"reference internal\" href=\"user/install/#python-m-pip-install-requests\">$ python -m pip install requests</a></li>\\n<li class=\"toctree-l2\"><a class=\"reference internal\" href=\"user/install/#get-the-source-code\">Get the Source Code</a></li>\\n</ul>\\n</li>\\n<li class=\"toctree-l1\"><a class=\"reference internal\" href=\"user/quickstart/\">Quickstart</a><ul>\\n<li class=\"toctree-l2\"><a class=\"reference internal\" href=\"user/quickstart/#make-a-request\">Make a Request</a></li>\\n<li class=\"toctree-l2\"><a class=\"reference internal\" href=\"user/quickstart/#passing-parameters-in-urls\">Passing Parameters In URLs</a></li>\\n<li class=\"toctree-l2\"><a class=\"reference internal\" href=\"user/quickstart/#response-content\">Response Content</a></li>\\n<li class=\"toctree-l2\"><a class=\"reference internal\" href=\"user/quickstart/#binary-response-content\">Binary Response Content</a></li>\\n<li class=\"toctree-l2\"><a class=\"reference internal\" href=\"user/quickstart/#json-response-content\">JSON Response Content</a></li>\\n<li class=\"toctree-l2\"><a class=\"reference internal\" href=\"user/quickstart/#raw-response-content\">Raw Response Content</a></li>\\n<li class=\"toctree-l2\"><a class=\"reference internal\" href=\"user/quickstart/#custom-headers\">Custom Headers</a></li>\\n<li class=\"toctree-l2\"><a class=\"reference internal\" href=\"user/quickstart/#more-complicated-post-requests\">More complicated POST requests</a></li>\\n<li class=\"toctree-l2\"><a class=\"reference internal\" href=\"user/quickstart/#post-a-multipart-encoded-file\">POST a Multipart-Encoded File</a></li>\\n<li class=\"toctree-l2\"><a class=\"reference internal\" href=\"user/quickstart/#response-status-codes\">Response Status Codes</a></li>\\n<li class=\"toctree-l2\"><a class=\"reference internal\" href=\"user/quickstart/#response-headers\">Response Headers</a></li>\\n<li class=\"toctree-l2\"><a class=\"reference internal\" href=\"user/quickstart/#cookies\">Cookies</a></li>\\n<li class=\"toctree-l2\"><a class=\"reference internal\" href=\"user/quickstart/#redirection-and-history\">Redirection and History</a></li>\\n<li class=\"toctree-l2\"><a class=\"reference internal\" href=\"user/quickstart/#timeouts\">Timeouts</a></li>\\n<li class=\"toctree-l2\"><a class=\"reference internal\" href=\"user/quickstart/#errors-and-exceptions\">Errors and Exceptions</a></li>\\n</ul>\\n</li>\\n<li class=\"toctree-l1\"><a class=\"reference internal\" href=\"user/advanced/\">Advanced Usage</a><ul>\\n<li class=\"toctree-l2\"><a class=\"reference internal\" href=\"user/advanced/#session-objects\">Session Objects</a></li>\\n<li class=\"toctree-l2\"><a class=\"reference internal\" href=\"user/advanced/#request-and-response-objects\">Request and Response Objects</a></li>\\n<li class=\"toctree-l2\"><a class=\"reference internal\" href=\"user/advanced/#prepared-requests\">Prepared Requests</a></li>\\n<li class=\"toctree-l2\"><a class=\"reference internal\" href=\"user/advanced/#ssl-cert-verification\">SSL Cert Verification</a></li>\\n<li class=\"toctree-l2\"><a class=\"reference internal\" href=\"user/advanced/#client-side-certificates\">Client Side Certificates</a></li>\\n<li class=\"toctree-l2\"><a class=\"reference internal\" href=\"user/advanced/#ca-certificates\">CA Certificates</a></li>\\n<li class=\"toctree-l2\"><a class=\"reference internal\" href=\"user/advanced/#body-content-workflow\">Body Content Workflow</a></li>\\n<li class=\"toctree-l2\"><a class=\"reference internal\" href=\"user/advanced/#keep-alive\">Keep-Alive</a></li>\\n<li class=\"toctree-l2\"><a class=\"reference internal\" href=\"user/advanced/#streaming-uploads\">Streaming Uploads</a></li>\\n<li class=\"toctree-l2\"><a class=\"reference internal\" href=\"user/advanced/#chunk-encoded-requests\">Chunk-Encoded Requests</a></li>\\n<li class=\"toctree-l2\"><a class=\"reference internal\" href=\"user/advanced/#post-multiple-multipart-encoded-files\">POST Multiple Multipart-Encoded Files</a></li>\\n<li class=\"toctree-l2\"><a class=\"reference internal\" href=\"user/advanced/#event-hooks\">Event Hooks</a></li>\\n<li class=\"toctree-l2\"><a class=\"reference internal\" href=\"user/advanced/#custom-authentication\">Custom Authentication</a></li>\\n<li class=\"toctree-l2\"><a class=\"reference internal\" href=\"user/advanced/#streaming-requests\">Streaming Requests</a></li>\\n<li class=\"toctree-l2\"><a class=\"reference internal\" href=\"user/advanced/#proxies\">Proxies</a></li>\\n<li class=\"toctree-l2\"><a class=\"reference internal\" href=\"user/advanced/#compliance\">Compliance</a></li>\\n<li class=\"toctree-l2\"><a class=\"reference internal\" href=\"user/advanced/#http-verbs\">HTTP Verbs</a></li>\\n<li class=\"toctree-l2\"><a class=\"reference internal\" href=\"user/advanced/#custom-verbs\">Custom Verbs</a></li>\\n<li class=\"toctree-l2\"><a class=\"reference internal\" href=\"user/advanced/#link-headers\">Link Headers</a></li>\\n<li class=\"toctree-l2\"><a class=\"reference internal\" href=\"user/advanced/#transport-adapters\">Transport Adapters</a></li>\\n<li class=\"toctree-l2\"><a class=\"reference internal\" href=\"user/advanced/#blocking-or-non-blocking\">Blocking Or Non-Blocking?</a></li>\\n<li class=\"toctree-l2\"><a class=\"reference internal\" href=\"user/advanced/#header-ordering\">Header Ordering</a></li>\\n<li class=\"toctree-l2\"><a class=\"reference internal\" href=\"user/advanced/#timeouts\">Timeouts</a></li>\\n</ul>\\n</li>\\n<li class=\"toctree-l1\"><a class=\"reference internal\" href=\"user/authentication/\">Authentication</a><ul>\\n<li class=\"toctree-l2\"><a class=\"reference internal\" href=\"user/authentication/#basic-authentication\">Basic Authentication</a></li>\\n<li class=\"toctree-l2\"><a class=\"reference internal\" href=\"user/authentication/#digest-authentication\">Digest Authentication</a></li>\\n<li class=\"toctree-l2\"><a class=\"reference internal\" href=\"user/authentication/#oauth-1-authentication\">OAuth 1 Authentication</a></li>\\n<li class=\"toctree-l2\"><a class=\"reference internal\" href=\"user/authentication/#oauth-2-and-openid-connect-authentication\">OAuth 2 and OpenID Connect Authentication</a></li>\\n<li class=\"toctree-l2\"><a class=\"reference internal\" href=\"user/authentication/#other-authentication\">Other Authentication</a></li>\\n<li class=\"toctree-l2\"><a class=\"reference internal\" href=\"user/authentication/#new-forms-of-authentication\">New Forms of Authentication</a></li>\\n</ul>\\n</li>\\n</ul>\\n</div>\\n</section>\\n<section id=\"the-community-guide\">\\n<h2>The Community Guide<a class=\"headerlink\" href=\"#the-community-guide\" title=\"Permalink to this headline\">¶</a></h2>\\n<p>This part of the documentation, which is mostly prose, details the\\nRequests ecosystem and community.</p>\\n<div class=\"toctree-wrapper compound\">\\n<ul>\\n<li class=\"toctree-l1\"><a class=\"reference internal\" href=\"community/recommended/\">Recommended Packages and Extensions</a><ul>\\n<li class=\"toctree-l2\"><a class=\"reference internal\" href=\"community/recommended/#certifi-ca-bundle\">Certifi CA Bundle</a></li>\\n<li class=\"toctree-l2\"><a class=\"reference internal\" href=\"community/recommended/#cachecontrol\">CacheControl</a></li>\\n<li class=\"toctree-l2\"><a class=\"reference internal\" href=\"community/recommended/#requests-toolbelt\">Requests-Toolbelt</a></li>\\n<li class=\"toctree-l2\"><a class=\"reference internal\" href=\"community/recommended/#requests-threads\">Requests-Threads</a></li>\\n<li class=\"toctree-l2\"><a class=\"reference internal\" href=\"community/recommended/#requests-oauthlib\">Requests-OAuthlib</a></li>\\n<li class=\"toctree-l2\"><a class=\"reference internal\" href=\"community/recommended/#betamax\">Betamax</a></li>\\n</ul>\\n</li>\\n<li class=\"toctree-l1\"><a class=\"reference internal\" href=\"community/faq/\">Frequently Asked Questions</a><ul>\\n<li class=\"toctree-l2\"><a class=\"reference internal\" href=\"community/faq/#encoded-data\">Encoded Data?</a></li>\\n<li class=\"toctree-l2\"><a class=\"reference internal\" href=\"community/faq/#custom-user-agents\">Custom User-Agents?</a></li>\\n<li class=\"toctree-l2\"><a class=\"reference internal\" href=\"community/faq/#why-not-httplib2\">Why not Httplib2?</a></li>\\n<li class=\"toctree-l2\"><a class=\"reference internal\" href=\"community/faq/#python-3-support\">Python 3 Support?</a></li>\\n<li class=\"toctree-l2\"><a class=\"reference internal\" href=\"community/faq/#python-2-support\">Python 2 Support?</a></li>\\n<li class=\"toctree-l2\"><a class=\"reference internal\" href=\"community/faq/#what-are-hostname-doesn-t-match-errors\">What are “hostname doesn’t match” errors?</a></li>\\n</ul>\\n</li>\\n<li class=\"toctree-l1\"><a class=\"reference internal\" href=\"community/out-there/\">Integrations</a><ul>\\n<li class=\"toctree-l2\"><a class=\"reference internal\" href=\"community/out-there/#python-for-ios\">Python for iOS</a></li>\\n</ul>\\n</li>\\n<li class=\"toctree-l1\"><a class=\"reference internal\" href=\"community/out-there/#articles-talks\">Articles &amp; Talks</a></li>\\n<li class=\"toctree-l1\"><a class=\"reference internal\" href=\"community/support/\">Support</a><ul>\\n<li class=\"toctree-l2\"><a class=\"reference internal\" href=\"community/support/#stack-overflow\">Stack Overflow</a></li>\\n<li class=\"toctree-l2\"><a class=\"reference internal\" href=\"community/support/#file-an-issue\">File an Issue</a></li>\\n<li class=\"toctree-l2\"><a class=\"reference internal\" href=\"community/support/#send-a-tweet\">Send a Tweet</a></li>\\n</ul>\\n</li>\\n<li class=\"toctree-l1\"><a class=\"reference internal\" href=\"community/vulnerabilities/\">Vulnerability Disclosure</a><ul>\\n<li class=\"toctree-l2\"><a class=\"reference internal\" href=\"community/vulnerabilities/#process\">Process</a></li>\\n<li class=\"toctree-l2\"><a class=\"reference internal\" href=\"community/vulnerabilities/#previous-cves\">Previous CVEs</a></li>\\n</ul>\\n</li>\\n<li class=\"toctree-l1\"><a class=\"reference internal\" href=\"community/release-process/\">Release Process and Rules</a><ul>\\n<li class=\"toctree-l2\"><a class=\"reference internal\" href=\"community/release-process/#major-releases\">Major Releases</a></li>\\n<li class=\"toctree-l2\"><a class=\"reference internal\" href=\"community/release-process/#minor-releases\">Minor Releases</a></li>\\n<li class=\"toctree-l2\"><a class=\"reference internal\" href=\"community/release-process/#hotfix-releases\">Hotfix Releases</a></li>\\n<li class=\"toctree-l2\"><a class=\"reference internal\" href=\"community/release-process/#reasoning\">Reasoning</a></li>\\n</ul>\\n</li>\\n</ul>\\n</div>\\n<div class=\"toctree-wrapper compound\">\\n<ul>\\n<li class=\"toctree-l1\"><a class=\"reference internal\" href=\"community/updates/\">Community Updates</a></li>\\n<li class=\"toctree-l1\"><a class=\"reference internal\" href=\"community/updates/#release-history\">Release History</a></li>\\n</ul>\\n</div>\\n</section>\\n<section id=\"the-api-documentation-guide\">\\n<h2>The API Documentation / Guide<a class=\"headerlink\" href=\"#the-api-documentation-guide\" title=\"Permalink to this headline\">¶</a></h2>\\n<p>If you are looking for information on a specific function, class, or method,\\nthis part of the documentation is for you.</p>\\n<div class=\"toctree-wrapper compound\">\\n<ul>\\n<li class=\"toctree-l1\"><a class=\"reference internal\" href=\"api/\">Developer Interface</a><ul>\\n<li class=\"toctree-l2\"><a class=\"reference internal\" href=\"api/#main-interface\">Main Interface</a></li>\\n<li class=\"toctree-l2\"><a class=\"reference internal\" href=\"api/#exceptions\">Exceptions</a></li>\\n<li class=\"toctree-l2\"><a class=\"reference internal\" href=\"api/#request-sessions\">Request Sessions</a></li>\\n<li class=\"toctree-l2\"><a class=\"reference internal\" href=\"api/#lower-level-classes\">Lower-Level Classes</a></li>\\n<li class=\"toctree-l2\"><a class=\"reference internal\" href=\"api/#lower-lower-level-classes\">Lower-Lower-Level Classes</a></li>\\n<li class=\"toctree-l2\"><a class=\"reference internal\" href=\"api/#authentication\">Authentication</a></li>\\n<li class=\"toctree-l2\"><a class=\"reference internal\" href=\"api/#encodings\">Encodings</a></li>\\n<li class=\"toctree-l2\"><a class=\"reference internal\" href=\"api/#cookies\">Cookies</a></li>\\n<li class=\"toctree-l2\"><a class=\"reference internal\" href=\"api/#status-code-lookup\">Status Code Lookup</a></li>\\n<li class=\"toctree-l2\"><a class=\"reference internal\" href=\"api/#migrating-to-1-x\">Migrating to 1.x</a></li>\\n<li class=\"toctree-l2\"><a class=\"reference internal\" href=\"api/#migrating-to-2-x\">Migrating to 2.x</a></li>\\n</ul>\\n</li>\\n</ul>\\n</div>\\n</section>\\n<section id=\"the-contributor-guide\">\\n<h2>The Contributor Guide<a class=\"headerlink\" href=\"#the-contributor-guide\" title=\"Permalink to this headline\">¶</a></h2>\\n<p>If you want to contribute to the project, this part of the documentation is for\\nyou.</p>\\n<div class=\"toctree-wrapper compound\">\\n<ul>\\n<li class=\"toctree-l1\"><a class=\"reference internal\" href=\"dev/contributing/\">Contributor’s Guide</a><ul>\\n<li class=\"toctree-l2\"><a class=\"reference internal\" href=\"dev/contributing/#be-cordial\">Be Cordial</a></li>\\n<li class=\"toctree-l2\"><a class=\"reference internal\" href=\"dev/contributing/#get-early-feedback\">Get Early Feedback</a></li>\\n<li class=\"toctree-l2\"><a class=\"reference internal\" href=\"dev/contributing/#contribution-suitability\">Contribution Suitability</a></li>\\n<li class=\"toctree-l2\"><a class=\"reference internal\" href=\"dev/contributing/#code-contributions\">Code Contributions</a><ul>\\n<li class=\"toctree-l3\"><a class=\"reference internal\" href=\"dev/contributing/#steps-for-submitting-code\">Steps for Submitting Code</a></li>\\n<li class=\"toctree-l3\"><a class=\"reference internal\" href=\"dev/contributing/#code-review\">Code Review</a></li>\\n<li class=\"toctree-l3\"><a class=\"reference internal\" href=\"dev/contributing/#code-style\">Code Style</a></li>\\n<li class=\"toctree-l3\"><a class=\"reference internal\" href=\"dev/contributing/#new-contributors\">New Contributors</a></li>\\n</ul>\\n</li>\\n<li class=\"toctree-l2\"><a class=\"reference internal\" href=\"dev/contributing/#documentation-contributions\">Documentation Contributions</a></li>\\n<li class=\"toctree-l2\"><a class=\"reference internal\" href=\"dev/contributing/#bug-reports\">Bug Reports</a></li>\\n<li class=\"toctree-l2\"><a class=\"reference internal\" href=\"dev/contributing/#feature-requests\">Feature Requests</a></li>\\n</ul>\\n</li>\\n<li class=\"toctree-l1\"><a class=\"reference internal\" href=\"dev/authors/\">Authors</a><ul>\\n<li class=\"toctree-l2\"><a class=\"reference internal\" href=\"dev/authors/#keepers-of-the-crystals\">Keepers of the Crystals</a></li>\\n<li class=\"toctree-l2\"><a class=\"reference internal\" href=\"dev/authors/#previous-keepers-of-crystals\">Previous Keepers of Crystals</a></li>\\n<li class=\"toctree-l2\"><a class=\"reference internal\" href=\"dev/authors/#patches-and-suggestions\">Patches and Suggestions</a></li>\\n</ul>\\n</li>\\n</ul>\\n</div>\\n<p>There are no more guides. You are now guideless.\\nGood luck.</p>\\n</section>\\n</section>\\n\\n\\n          </div>\\n          \\n        </div>\\n      </div>\\n      <div class=\"sphinxsidebar\" role=\"navigation\" aria-label=\"main navigation\">\\n        <div class=\"sphinxsidebarwrapper\"><p class=\"logo\">\\n  <a href=\"#\">\\n    <img class=\"logo\" src=\"_static/requests-sidebar.png\" alt=\"Requests logo\" />\\n  </a>\\n</p>\\n\\n<p>\\n  <iframe src=\"https://ghbtns.com/github-btn.html?user=psf&repo=requests&type=watch&count=true&size=large\"\\n    allowtransparency=\"true\" frameborder=\"0\" scrolling=\"0\" width=\"200px\" height=\"35px\"></iframe>\\n</p>\\n\\n<p>\\n  Requests is an elegant and simple HTTP library for Python, built for\\n  human beings.\\n</p>\\n\\n<h3>Useful Links</h3>\\n<ul>\\n  <li><a href=\"https://requests.readthedocs.io/en/latest/user/quickstart/\">Quickstart</a></li>\\n  <li><a href=\"https://requests.readthedocs.io/en/latest/user/advanced/\">Advanced Usage</a></li>\\n  <li><a href=\"https://requests.readthedocs.io/en/latest/api/\">API Reference</a></li>\\n  <li><a href=\"https://requests.readthedocs.io/en/latest/community/updates/#release-history\">Release History</a></li>\\n  <li><a href=\"https://requests.readthedocs.io/en/latest/dev/contributing/\">Contributors Guide</a></li>\\n\\n  <p></p>\\n\\n  <li><a href=\"https://requests.readthedocs.io/en/latest/community/recommended/\">Recommended Packages and Extensions</a></li>\\n\\n  <p></p>\\n\\n  <li><a href=\"https://github.com/psf/requests\">Requests @ GitHub</a></li>\\n  <li><a href=\"https://pypi.org/project/requests/\">Requests @ PyPI</a></li>\\n  <li><a href=\"https://github.com/psf/requests/issues\">Issue Tracker</a></li>\\n</ul>\\n\\n<div id=\"native-ribbon\">\\n</div>\\n<div id=\"searchbox\" style=\"display: none\" role=\"search\">\\n  <h3 id=\"searchlabel\">Quick search</h3>\\n    <div class=\"searchformwrapper\">\\n    <form class=\"search\" action=\"search/\" method=\"get\">\\n      <input type=\"text\" name=\"q\" aria-labelledby=\"searchlabel\" autocomplete=\"off\" autocorrect=\"off\" autocapitalize=\"off\" spellcheck=\"false\"/>\\n      <input type=\"submit\" value=\"Go\" />\\n    </form>\\n    </div>\\n</div>\\n<script>$(\\'#searchbox\\').show(0);</script><!-- Alabaster (krTheme++) Hacks -->\\n\\n<!-- CSS Adjustments (I\\'m very picky.) -->\\n<style type=\"text/css\">\\n\\n  /* Rezzy requires precise alignment. */\\n  img.logo {margin-left: -20px!important;}\\n\\n  /* \"Quick Search\" should be capitalized. */\\n  div#searchbox h3 {text-transform: capitalize;}\\n\\n  /* Make the document a little wider, less code is cut-off. */\\n  div.document {width: 1008px;}\\n\\n  /* Much-improved spacing around code blocks. */\\n  div.highlight pre {padding: 11px 14px;}\\n\\n  /* Remain Responsive! */\\n  @media screen and (max-width: 1008px) {\\n    div.sphinxsidebar {display: none;}\\n    div.document {width: 100%!important;}\\n\\n    /* Have code blocks escape the document right-margin. */\\n    div.highlight pre {margin-right: -30px;}\\n  }\\n</style>\\n\\n<!-- Native CPC by BuySellAds -->\\n\\n<script type=\"text/javascript\" src=\"//m.servedby-buysellads.com/monetization.js\"></script>\\n\\n<div id=\"native-ribbon\">\\n</div>\\n\\n<script>\\n_bsa.init(\\'custom\\', \\'CK7D62JU\\', \\'placement:pythonrequestsorg\\',\\n    {\\n      target: \\'#native-ribbon\\',\\n      template: `\\n<div class=\"native-sponsor\">Sponsored by ##company## — Learn More</div>\\n  <a href=\"##link##\" class=\"native-flex\">\\n    <style>\\n    #native-ribbon #_custom_ {\\n      background: linear-gradient(-30deg, ##backgroundColor##E5, ##backgroundColor##E5 45%, ##backgroundColor## 45%) #fff;\\n    }\\n\\n    .native-details,\\n    .native-sponsor,\\n    .native-bsa {\\n      color: ##textColor## !important;\\n    }\\n\\n    .native-details:hover {\\n      color: ##textColorHover## !important;\\n    }\\n\\n    .native-cta {\\n      color: ##ctaTextColor##;\\n      background-color: ##ctaBackgroundColor##;\\n    }\\n\\n    .native-cta:hover {\\n      color: ##ctaTextColorHover##;\\n      background-color: ##ctaBackgroundColorHover##;\\n    }\\n    </style>\\n    <div class=\"native-main\">\\n      <img class=\"native-img\" src=\"##logo##\">\\n      <div class=\"native-details\">\\n        <span class=\"native-company\">##title##</span>\\n        <span class=\"native-desc\">##description##</span>\\n      </div>\\n    </div>\\n    <span class=\"native-cta\">##callToAction##</span>\\n  </a>\\n</div>\\n`\\n    }\\n  );\\n</script>\\n        </div>\\n      </div>\\n      <div class=\"clearer\"></div>\\n    </div>\\n    <div class=\"footer\">\\n      &copy;MMXVIX. A <a href=\"https://kenreitz.org/projects\">Kenneth Reitz</a> Project.\\n      \\n    </div>\\n\\n    \\n    <a href=\"https://github.com/requests/requests\" class=\"github\">\\n        <img style=\"position: absolute; top: 0; right: 0; border: 0;\" src=\"https://s3.amazonaws.com/github/ribbons/forkme_right_darkblue_121621.png\" alt=\"Fork me on GitHub\"  class=\"github\"/>\\n    </a>\\n    \\n\\n    \\n  </body>\\n</html>'"
      ]
     },
     "execution_count": 5,
     "metadata": {},
     "output_type": "execute_result"
    }
   ],
   "source": [
    "response.text"
   ]
  },
  {
   "attachments": {},
   "cell_type": "markdown",
   "metadata": {},
   "source": [
    "Si noti che le richieste decodificano automaticamente il contenuto della risposta del server. È possibile conoscere la codifica utilizzata e modificarla, se necessario, utilizzando la proprietà `.encoding`:"
   ]
  },
  {
   "cell_type": "code",
   "execution_count": 6,
   "metadata": {},
   "outputs": [
    {
     "data": {
      "text/plain": [
       "'utf-8'"
      ]
     },
     "execution_count": 6,
     "metadata": {},
     "output_type": "execute_result"
    }
   ],
   "source": [
    "response.encoding"
   ]
  },
  {
   "attachments": {},
   "cell_type": "markdown",
   "metadata": {},
   "source": [
    "Altre informazioni utili, ad esempio il tipo di contenuto, sono memorizzate nelle intestazioni della risposta. Per visualizzarle, accedere a `.headers`:"
   ]
  },
  {
   "cell_type": "code",
   "execution_count": 13,
   "metadata": {},
   "outputs": [
    {
     "name": "stdout",
     "output_type": "stream",
     "text": [
      "<class 'requests.structures.CaseInsensitiveDict'>\n"
     ]
    },
    {
     "data": {
      "text/plain": [
       "{'Date': 'Sun, 07 May 2023 19:52:18 GMT', 'Content-Type': 'text/html; charset=utf-8', 'Transfer-Encoding': 'chunked', 'Connection': 'keep-alive', 'Vary': 'Accept-Encoding', 'x-amz-id-2': 'cHxFKDDpeojgPgVtDLL+l7N91r+pEPgBKFKpalpRIBGC14LdXdYI1ov6SHGlOdlMZFf8YKXZ/PA=', 'x-amz-request-id': 'RX8WJYR1PZ1Y4647', 'Last-Modified': 'Wed, 03 May 2023 15:40:45 GMT', 'ETag': 'W/\"54a5438f257dfdd616bf67bd385e3595\"', 'x-amz-server-side-encryption': 'AES256', 'x-amz-meta-mtime': '1683128417.696991171', 'X-Served': 'Nginx-Proxito-Sendfile', 'X-Backend': 'web-i-0da7af1fc1df5a365', 'X-RTD-Project': 'requests', 'X-RTD-Version': 'latest', 'X-RTD-Path': '/proxito/html/requests/latest/index.html', 'X-RTD-Domain': 'requests.readthedocs.io', 'X-RTD-Version-Method': 'path', 'X-RTD-Project-Method': 'public_domain', 'Referrer-Policy': 'no-referrer-when-downgrade', 'Strict-Transport-Security': 'max-age=31536000; includeSubDomains; preload', 'X-Content-Type-Options': 'nosniff', 'CDN-Cache-Control': 'public', 'Content-Encoding': 'gzip', 'Cache-Control': 'max-age=1200', 'CF-Cache-Status': 'HIT', 'Age': '239', 'Server': 'cloudflare', 'CF-RAY': '7c3c00a93a67185c-MRS', 'alt-svc': 'h3=\":443\"; ma=86400, h3-29=\":443\"; ma=86400'}"
      ]
     },
     "execution_count": 13,
     "metadata": {},
     "output_type": "execute_result"
    }
   ],
   "source": [
    "print(type(response.headers))\n",
    "\n",
    "response.headers"
   ]
  },
  {
   "attachments": {},
   "cell_type": "markdown",
   "metadata": {},
   "source": [
    "Viene restituito un oggetto simile a un dizionario, in modo da poter accedere al valore dell'intestazione desiderato tramite la sua chiave. Si noti che le intestazioni sono insensibili alle maiuscole e alle minuscole, il che significa che non ci si deve preoccupare di come sono scritte:"
   ]
  },
  {
   "cell_type": "code",
   "execution_count": 15,
   "metadata": {},
   "outputs": [
    {
     "data": {
      "text/plain": [
       "'text/html; charset=utf-8'"
      ]
     },
     "execution_count": 15,
     "metadata": {},
     "output_type": "execute_result"
    }
   ],
   "source": [
    "response.headers['Content-Type']\n",
    "\n",
    "response.headers['CONTENT-TYPE']\n"
   ]
  },
  {
   "attachments": {},
   "cell_type": "markdown",
   "metadata": {},
   "source": [
    "### Parametri delle *GET query string*\n",
    "\n",
    "Una \"*query string*\" è una convenzione sintattica per aggiungere coppie chiave-valore a un URL.\n",
    "\n",
    "È interpretate come un'informazione separata dall'URL standard per mezzo di un segno di punto interrogativo `?` e contiene coppie chiave-valore. Ogni chiave è separata dal valore da un segno di uguaglianza =, mentre le coppie sono separate da una e commerciale `&`.\n",
    "\n",
    "Tramite le *query string* possiamo simulare i dati aggiunti a un URL di base dal browser o da altre applicazioni client. Il modo in cui questi parametri vengono interpretati dipende dall'applicazione lato server. Per esempio, `https://www.python.org/search/` è una pagina di ricerca del sito ufficiale di Python. Se si cerca `'tutorial'`, i risultati saranno visualizzati nella pagina con l'URL `https://www.python.org/search/?q=tutorial`.\n",
    "\n",
    "Quando si usa `requests`, non è necessario aggiungere manualmente le query string agli URL. La libreria consente di fornire questi argomenti come un dizionario di stringhe utilizzando il *keyword argument* `params` quando si effettua una richiesta:"
   ]
  },
  {
   "cell_type": "code",
   "execution_count": 21,
   "metadata": {},
   "outputs": [
    {
     "data": {
      "text/plain": [
       "'\\n<!DOCTYPE html>\\n\\n<html>\\n  <head>\\n    <meta charset=\"utf-8\" />\\n    <meta name=\"viewport\" content=\"width=device-width, initial-scale=1.0\" />\\n    <title>Search &#8212; Python 3.11.3 documentation</title><meta name=\"viewport\" content=\"width=device-width, initial-scale=1.0\">\\n    \\n    <link rel=\"stylesheet\" type=\"text/css\" href=\"_static/pygments.css\" />\\n    <link rel=\"stylesheet\" type=\"text/css\" href=\"_static/pydoctheme.css?digest=2d3badd06fe70b34b68db01f99471ce1624ffe4a\" />\\n    \\n    \\n    <script data-url_root=\"./\" id=\"documentation_options\" src=\"_static/documentation_options.js\"></script>\\n    <script src=\"_static/jquery.js\"></script>\\n    <script src=\"_static/underscore.js\"></script>\\n    <script src=\"_static/doctools.js\"></script>\\n    \\n    <script src=\"_static/sidebar.js\"></script>\\n    \\n    <script src=\"_static/searchtools.js\"></script>\\n    <script src=\"_static/language_data.js\"></script>\\n    <link rel=\"search\" type=\"application/opensearchdescription+xml\"\\n          title=\"Search within Python 3.11.3 documentation\"\\n          href=\"_static/opensearch.xml\"/>\\n    <link rel=\"author\" title=\"About these documents\" href=\"about.html\" />\\n    <link rel=\"index\" title=\"Index\" href=\"genindex.html\" />\\n    <link rel=\"search\" title=\"Search\" href=\"#\" />\\n    <link rel=\"copyright\" title=\"Copyright\" href=\"copyright.html\" />\\n    \\n  <script src=\"searchindex.js\" defer></script>\\n  \\n    <link rel=\"canonical\" href=\"https://docs.python.org/3/search.html\" />\\n    \\n      \\n    \\n\\n    \\n    <style>\\n      @media only screen {\\n        table.full-width-table {\\n            width: 100%;\\n        }\\n      }\\n    </style>\\n<link rel=\"shortcut icon\" type=\"image/png\" href=\"_static/py.svg\" />\\n            <script type=\"text/javascript\" src=\"_static/copybutton.js\"></script>\\n            <script type=\"text/javascript\" src=\"_static/menu.js\"></script> \\n\\n\\n    <script type=\"text/javascript\">\\n        var GLOSSARY_PAGE = \\'glossary.html\\';\\n\\n        jQuery(function() {\\n            $.getJSON(\"_static/glossary.json\", function(glossary) {\\n                var RESULT_TEMPLATE = \\'<div style=\"display: none\" class=\"admonition seealso\" id=\"glossary-result\">\\' +\\n                                      \\'  <p class=\"topic-title\">\\' +\\n                                      \\'    <a class=\"glossary-title\" href=\"#\"></a>\\' +\\n                                      \\'  </p>\\' +\\n                                      \\'  <div class=\"glossary-body\"></div>\\' +\\n                                      \\'</div>\\';\\n                $(\"#search-results\").prepend(RESULT_TEMPLATE);\\n\\n                var params = $.getQueryParameters();\\n                if (params.q) {\\n                    var search_param = params.q[0].toLowerCase();\\n                    var glossary_item = glossary[search_param];\\n                    if (glossary_item) {\\n                        var resultDiv = $(\"#glossary-result\");\\n\\n                        // set up the title text with a link to the glossary page\\n                        resultDiv.find(\".glossary-title\").text(\\'Glossary: \\' + glossary_item.title);\\n                        var link_target = search_param.replace(/ /g, \\'-\\');\\n                        resultDiv.find(\".glossary-title\").attr(\\n                            \\'href\\', GLOSSARY_PAGE + \\'#term-\\' + link_target\\n                        );\\n\\n                        // rewrite any anchor links (to other glossary terms)\\n                        // to have a full reference to the glossary page\\n                        var body = $(glossary_item.body).children();\\n                        body.find(\"a[href^=\\'#\\']\").each(function() {\\n                            var current_url = $(this).attr(\\'href\\');\\n                            $(this).attr(\\'href\\', GLOSSARY_PAGE + current_url);\\n                        });\\n                        resultDiv.find(\".glossary-body\").html(body);\\n\\n                        resultDiv.show();\\n                    } else {\\n                        $(\"#glossary-result\").hide(\\'\\');\\n                    }\\n                }\\n            });\\n        });\\n    </script>\\n\\n  </head>\\n<body>\\n<div class=\"mobile-nav\">\\n    <input type=\"checkbox\" id=\"menuToggler\" class=\"toggler__input\" aria-controls=\"navigation\"\\n           aria-pressed=\"false\" aria-expanded=\"false\" role=\"button\" aria-label=\"Menu\" />\\n    <label for=\"menuToggler\" class=\"toggler__label\">\\n        <span></span>\\n    </label>\\n    <nav class=\"nav-content\" role=\"navigation\">\\n         <a href=\"https://www.python.org/\" class=\"nav-logo\">\\n             <img src=\"_static/py.svg\" alt=\"Logo\"/>\\n         </a>\\n        <div class=\"version_switcher_placeholder\"></div>\\n    </nav>\\n    <div class=\"menu-wrapper\">\\n        <nav class=\"menu\" role=\"navigation\" aria-label=\"main navigation\">\\n            <div class=\"language_switcher_placeholder\"></div>\\n        </nav>\\n    </div>\\n</div>\\n\\n  \\n    <div class=\"related\" role=\"navigation\" aria-label=\"related navigation\">\\n      <h3>Navigation</h3>\\n      <ul>\\n        <li class=\"right\" style=\"margin-right: 10px\">\\n          <a href=\"genindex.html\" title=\"General Index\"\\n             accesskey=\"I\">index</a></li>\\n        <li class=\"right\" >\\n          <a href=\"py-modindex.html\" title=\"Python Module Index\"\\n             >modules</a> |</li>\\n\\n          <li><img src=\"_static/py.svg\" alt=\"python logo\" style=\"vertical-align: middle; margin-top: -1px\"/></li>\\n          <li><a href=\"https://www.python.org/\">Python</a> &#187;</li>\\n          <li class=\"switchers\">\\n            <div class=\"language_switcher_placeholder\"></div>\\n            <div class=\"version_switcher_placeholder\"></div>\\n          </li>\\n          <li>\\n              \\n          </li>\\n    <li id=\"cpython-language-and-version\">\\n      <a href=\"index.html\">3.11.3 Documentation</a> &#187;\\n    </li>\\n\\n        <li class=\"nav-item nav-item-this\"><a href=\"\">Search</a></li>\\n            \\n      </ul>\\n    </div>    \\n\\n    <div class=\"document\">\\n      <div class=\"documentwrapper\">\\n        <div class=\"bodywrapper\">\\n          <div class=\"body\" role=\"main\">\\n            \\n  <h1 id=\"search-documentation\">Search</h1>\\n  \\n  <noscript>\\n  <div class=\"admonition warning\">\\n  <p>\\n    Please activate JavaScript to enable the search\\n    functionality.\\n  </p>\\n  </div>\\n  </noscript>\\n  \\n  \\n  <p>\\n    Searching for multiple words only shows matches that contain\\n    all words.\\n  </p>\\n  \\n  \\n  <form action=\"\" method=\"get\">\\n    <input type=\"text\" name=\"q\" aria-labelledby=\"search-documentation\" value=\"\" autocomplete=\"off\" autocorrect=\"off\" autocapitalize=\"off\" spellcheck=\"false\"/>\\n    <input type=\"submit\" value=\"search\" />\\n    <span id=\"search-progress\" style=\"padding-left: 10px\"></span>\\n  </form>\\n  \\n  \\n  \\n  <div id=\"search-results\">\\n  \\n  </div>\\n  \\n\\n            <div class=\"clearer\"></div>\\n          </div>\\n        </div>\\n      </div>\\n      <div class=\"sphinxsidebar\" role=\"navigation\" aria-label=\"main navigation\">\\n        <div class=\"sphinxsidebarwrapper\">\\n        </div>\\n      </div>\\n      <div class=\"clearer\"></div>\\n    </div>  \\n    <div class=\"related\" role=\"navigation\" aria-label=\"related navigation\">\\n      <h3>Navigation</h3>\\n      <ul>\\n        <li class=\"right\" style=\"margin-right: 10px\">\\n          <a href=\"genindex.html\" title=\"General Index\"\\n             >index</a></li>\\n        <li class=\"right\" >\\n          <a href=\"py-modindex.html\" title=\"Python Module Index\"\\n             >modules</a> |</li>\\n\\n          <li><img src=\"_static/py.svg\" alt=\"python logo\" style=\"vertical-align: middle; margin-top: -1px\"/></li>\\n          <li><a href=\"https://www.python.org/\">Python</a> &#187;</li>\\n          <li class=\"switchers\">\\n            <div class=\"language_switcher_placeholder\"></div>\\n            <div class=\"version_switcher_placeholder\"></div>\\n          </li>\\n          <li>\\n              \\n          </li>\\n    <li id=\"cpython-language-and-version\">\\n      <a href=\"index.html\">3.11.3 Documentation</a> &#187;\\n    </li>\\n\\n        <li class=\"nav-item nav-item-this\"><a href=\"\">Search</a></li>\\n            \\n      </ul>\\n    </div>  \\n    <div class=\"footer\">\\n    &copy; <a href=\"copyright.html\">Copyright</a> 2001-2023, Python Software Foundation.\\n    <br />\\n    This page is licensed under the Python Software Foundation License Version 2.\\n    <br />\\n    Examples, recipes, and other code in the documentation are additionally licensed under the Zero Clause BSD License.\\n    <br />\\n    See <a href=\"/license.html\">History and License</a> for more information.<br />\\n    <br />\\n\\n    The Python Software Foundation is a non-profit corporation.\\n<a href=\"https://www.python.org/psf/donations/\">Please donate.</a>\\n<br />\\n    <br />\\n\\n    Last updated on May 07, 2023.\\n    <a href=\"/bugs.html\">Found a bug</a>?\\n    <br />\\n\\n    Created using <a href=\"https://www.sphinx-doc.org/\">Sphinx</a> 4.5.0.\\n    </div>\\n\\n    <script type=\"text/javascript\" src=\"_static/switchers.js\"></script>\\n  </body>\\n</html>'"
      ]
     },
     "execution_count": 21,
     "metadata": {},
     "output_type": "execute_result"
    }
   ],
   "source": [
    "# Il dizionario con i parametri della query\n",
    "my_params = {'q': 'tutorial'}\n",
    "\n",
    "# Questa richiesta otterrà la pagina con i risultati della ricerca di \"tutorial\"\n",
    "# sul sito ufficiale di Python:\n",
    "search_res = requests.get('https://docs.python.org/3/search.html', params=my_params)\n",
    "\n",
    "search_res.text"
   ]
  },
  {
   "attachments": {},
   "cell_type": "markdown",
   "metadata": {},
   "source": [
    "Se è necessario inviare richieste simili più volte, è opportuno definire una funzione speciale per questo.\n",
    "\n",
    "Ad esempio, google_search(query, num) restituisce un URL alla pagina contenente un numero di risultati di ricerca di Google per una determinata query:"
   ]
  },
  {
   "cell_type": "code",
   "execution_count": 27,
   "metadata": {},
   "outputs": [
    {
     "name": "stdout",
     "output_type": "stream",
     "text": [
      "https://docs.python.org/3/search.html?q=urllib&num=1\n"
     ]
    }
   ],
   "source": [
    "def google_search(query, num):\n",
    "    res = requests.get('https://docs.python.org/3/search.html', params={\n",
    "        'q': query,\n",
    "        'num': num\n",
    "    })\n",
    "    return res\n",
    "\n",
    "new_res = google_search('urllib', 1)\n",
    "print(new_res.url)\n",
    "\n",
    "# https://www.google.com/search?q=python&num=1"
   ]
  },
  {
   "attachments": {},
   "cell_type": "markdown",
   "metadata": {},
   "source": [
    "Attenzione a non fare troppe richieste in breve tempo!\n",
    "\n",
    "- Molte richieste possono portare al blocco del vostro IP o dell'eventuale account che utilizzate per accedere al server. Cercate di essere attenti quando inviate più richieste! Vedremo più avanti alcuni suggerimenti.\n",
    "\n",
    "Purtroppo il Web oggi non è più solo HTML!\n",
    "\n",
    "- Oggi la maggior parte dei motori di ricerca sia come Google, sia quelli \"interni\" a ciascun sito utilizzano JavaScript per reperire le richieste dal server e comporre la pagina con i risultati. Questo complica un po' le cose perché non ci basta la pagina HTML di risposta, ma dobbiamo eseguire alcuni scritp necessari al corretto funzionamento della pagina."
   ]
  },
  {
   "attachments": {},
   "cell_type": "markdown",
   "metadata": {},
   "source": [
    "## Richiesta POST: `requests.post()`\n",
    "\n",
    "Una richiesta POST consente di inviare alcuni dati aggiuntivi al server. A differenza delle richieste GET, in cui si possono specificare parametri aggiuntivi nella query string, le richieste POST passano i dati aggiuntivi nel corpo del messaggio (di *request*).\n",
    "\n",
    "Con la libreria `requests`, è possibile effettuare una richiesta POST utilizzando `requests.post`, specificando i dati aggiuntivi con il parametro `data`, ad esempio come dizionario.\n",
    "\n",
    "Si immagini di voler aggiungere un nuovo post al proprio blog personale. Si potrebbe scrivere qualcosa di simile:"
   ]
  },
  {
   "cell_type": "code",
   "execution_count": 5,
   "metadata": {},
   "outputs": [
    {
     "name": "stdout",
     "output_type": "stream",
     "text": [
      "<Response [200]>\n"
     ]
    }
   ],
   "source": [
    "import requests\n",
    "\n",
    "my_data = {'post_text': 'Alcuni esempi con Python per fare il caffè!'}\n",
    "\n",
    "res = requests.post('https://httpbingo.org/post', data=my_data)\n",
    "print(res)"
   ]
  },
  {
   "attachments": {},
   "cell_type": "markdown",
   "metadata": {},
   "source": [
    "## Richiesta PUT e DELETE: `requests.put()` e `requests.delete()`\n",
    "\n",
    "Il metodo PUT sostituisce la risorsa all'URL dato con la risorsa specificata nella richiesta. Se originariamente non esiste una risorsa da sostituire sul server, PUT ne creerà una.\n",
    "\n",
    "Si potrebbe anche voler rimuovere una risorsa dal server. Per farlo, occorre inviare una richiesta DELETE, che cancella la risorsa identificata dall'URL della richiesta.\n",
    "\n",
    "Tuttavia questi due metodi non ci servono attualmente, ai fini del *data retrival*, in quanto i dati vogliamo principalmente leggerli, non cancellarli o aggiornali."
   ]
  },
  {
   "attachments": {},
   "cell_type": "markdown",
   "metadata": {},
   "source": [
    "## Idempotenza\n",
    "\n",
    "Una proprietà importante di alcune richieste HTTP è l'idempotenza. Una richiesta è detta idempotente se l'invio della stessa richiesta più di una volta non introduce ulteriori modifiche allo stato del server. \n",
    "\n",
    "Analizzando le richieste menzionate in questa sezione, quali hanno questa proprietà?\n",
    "\n",
    "Ovviamente, GET è idempotente,o meglio, nullipotente, perché si limita a raccogliere i dati dal server senza introdurre alcuna modifica.\n",
    "\n",
    "Anche PUT è idempotente, perché se si invia lo stesso oggetto più volte, non avrà alcun effetto rispetto all'invio di una richiesta PUT una sola volta.\n",
    "\n",
    "E, naturalmente, se si elimina una risorsa una volta, lo stato del server non cambierà ulteriormente quando si invia la stessa richiesta più volte, il che significa che DELETE è idempotente.\n",
    "\n",
    "Tuttavia, si noti che POST non è idempotente, perché una richiesta POST può aggiungere nuovi dati al server (ad esempio, un nuovo record a un database) e farlo più volte è diverso dall'aggiungerlo una sola volta."
   ]
  },
  {
   "attachments": {},
   "cell_type": "markdown",
   "metadata": {},
   "source": [
    "## Uso pratico\n",
    "\n",
    "In realtà il funzionamento questi metodi HTTP dipendono da come vengono implementate le applicazioni lato server. I nomi di questi tipi di richieste sono assolutamente convenzionali e rappresentano solamente dei modi diversi per inviare dei dati al server. Che cosa il server ne farà di quei dati è un altro paio di maniche. Non c'è nessun'impedimento a usare il metodo DELETE per leggere i dati e il POST per eliminarli.\n",
    "\n",
    "Naturalmente nessuno stravolge il significato di questi metodi, tuttavia spesso il metodo POST è utilizzato al posto del metodo GET in quanto i parametri della query string sono visibili nell'URL e dunque vengono memorizzati come metadati nei log dei provider internet. Per una maggiore privacy, oggi si tende ad inviare le informazioni considerate più sensibili tramite il metodo POST piuttosto che GET. Inoltre, il contenuto del POST può esere completamente crittografato, cosa che non si può fare del tutto con GET.\n",
    "\n"
   ]
  },
  {
   "attachments": {},
   "cell_type": "markdown",
   "metadata": {},
   "source": [
    "## Riassumendo\n",
    "\n",
    "- `requests` è una libreria Python di terze parti per effettuare richieste HTTP.\n",
    "\n",
    "GET\n",
    "\n",
    "- La richiesta `requests.get()` viene utilizzata per recuperare i dati dal server tramite il metodo GET.\n",
    "- Per fornire parametri aggiuntivi al server con la richiesta GET, utilizzare una query string.\n",
    "- Una stringa di query può essere passata a `requests.get(url, params)` come un dizionario di coppie chiave-valore.\n",
    "\n",
    "POST\n",
    "\n",
    "- POST è il metodo di richiesta più comune utilizzato per inviare dati al server (anche e soprattutto richieste di dati).\n",
    "- Per effettuare una richiesta POST con requests, utilizzare `requests.post(url, data)`.\n",
    "\n",
    "PUT e DELETE\n",
    "\n",
    "- Le richieste PUT sono utilizzate per aggiornare la risorsa sul server. Possono essere inviate con `requests.put(url, data)`.\n",
    "- La richiesta DELETE `requests.delete(url)` rimuove dal server una risorsa all'URL indicato.\n",
    "\n",
    "Idempotenza\n",
    "\n",
    "- Una richiesta HTTP è idempotente se l'invio di più richieste identiche ha lo stesso risultato dell'invio di una singola richiesta.\n",
    "- GET, PUT e DELETE sono idempotenti, mentre POST non lo è."
   ]
  },
  {
   "attachments": {},
   "cell_type": "markdown",
   "metadata": {},
   "source": [
    "## Per fare dei test\n",
    "\n",
    "Il sito [`httpbingo.org`](https://httpbingo.org/) può essere molto utile quando fai delle prove, perché consente di testare diversi tipi di richieste HTTP."
   ]
  },
  {
   "attachments": {},
   "cell_type": "markdown",
   "metadata": {},
   "source": [
    "## Per approfondire:\n",
    "\n",
    "https://docs.python-requests.org/en/latest/\n",
    "\n",
    "https://realpython.com/python-requests/"
   ]
  },
  {
   "attachments": {},
   "cell_type": "markdown",
   "metadata": {},
   "source": [
    "# Modulo built-in `urllib.request`\n",
    "\n",
    "Il modulo della Libreria standard `urllib.request` offre un'interfaccia per le comunicazioni HTTP a più basso livello e dunque un po' più ostica da usare.\n",
    "\n",
    "Per approfondire, consiglio di iniziare con i seguenti link:\n",
    "\n",
    "https://docs.python.org/3/library/urllib.request.html\n",
    "\n",
    "https://realpython.com/urllib-request/"
   ]
  }
 ],
 "metadata": {
  "kernelspec": {
   "display_name": ".venv",
   "language": "python",
   "name": "python3"
  },
  "language_info": {
   "codemirror_mode": {
    "name": "ipython",
    "version": 3
   },
   "file_extension": ".py",
   "mimetype": "text/x-python",
   "name": "python",
   "nbconvert_exporter": "python",
   "pygments_lexer": "ipython3",
   "version": "3.11.2"
  },
  "orig_nbformat": 4
 },
 "nbformat": 4,
 "nbformat_minor": 2
}
