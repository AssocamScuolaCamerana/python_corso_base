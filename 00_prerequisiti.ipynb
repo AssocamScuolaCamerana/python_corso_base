{
 "cells": [
  {
   "cell_type": "markdown",
   "metadata": {
    "slideshow": {
     "slide_type": "slide"
    },
    "tags": []
   },
   "source": [
    "# Prerequisiti"
   ]
  },
  {
   "cell_type": "markdown",
   "metadata": {
    "slideshow": {
     "slide_type": "notes"
    },
    "tags": []
   },
   "source": [
    "Per poter affrontare tutti gli aspetti più tecnici di questo corso, è necessaria una serie di conoscenze e competenze che possiamo definire ***di base e propedeutiche***.\n",
    "\n",
    "Assicurati di possedere queste conoscenze e, in caso contrario, non aspettare troppo e trova il tempo per approfondirle ed acquisirle in quanto non vi sarà il tempo di trattarle nella prima parte introduttiva.\n",
    "\n",
    "Gli argomenti segnati con una freccia \"&rarr;\" sono da considerarsi FONDAMENTALI E IMPRESCINDIBILI. Insomma, per poter programmare software, dovete prima essere anche un po' \"informatici\". Come possiamo altrimenti pensare di dare istruzioni a una *cosa* che nemmeno conosciamo?\n",
    "\n",
    "Gli argomenti non contrassegnati con la freccia sono comunque da considerarsi propedeutici e quindi avrete vita più semplice se possedete quelle conoscenze."
   ]
  },
  {
   "cell_type": "markdown",
   "metadata": {
    "slideshow": {
     "slide_type": "subslide"
    },
    "tags": []
   },
   "source": [
    "- Conoscenza di base della lingua inglese.\n",
    "- &rarr; Aritmetica e geometria di base, concetti di: funzione matematica, grafico cartesiano, operatori logici e insiemi.\n",
    "- &rarr; Concetti di analogico vs digitale.\n",
    "- &rarr; Conoscenza di base dei componenti hardware di un computer e della loro funzione.\n",
    "- &rarr; Prefissi del Sistema Internazionale e unità di misura dell'informazione (dimensione, capacità, banda, velocità ecc.).\n",
    "- &rarr; Operare col sistema operativo (livello utente) e installare applicazioni.\n",
    "- &rarr; Operazioni base con file e cartelle da riga di comando.\n",
    "- &rarr; Nozioni di base sui formati e tipi di file.\n",
    "- Nozioni di base sulla compressione dei dati (dallo zip all'mp4).\n",
    "- Nozioni di base su grafica e immagini (pixel, dimensioni, risoluzione).\n",
    "- Uso del browser, navigazione sul web, nozioni di protocollo, URL, dominio e DNS.\n",
    "- Uso di un client email.\n",
    "- Uso base dell'elaboratore testi.\n",
    "- &rarr; Uso base del foglio di calcolo: uso delle espressioni e funzioni più semplici.\n",
    "- Concetti basilari sulle tecnologie web HTML, JavaScript e CSS.\n",
    "- &rarr; Nozioni basilari di sicurezza informatica."
   ]
  },
  {
   "cell_type": "markdown",
   "metadata": {
    "slideshow": {
     "slide_type": "notes"
    },
    "tags": []
   },
   "source": [
    "> NOTA: Gli argomenti non sono in ordine casuale ma da quelli più generali si va a quelli più specifici."
   ]
  },
  {
   "cell_type": "markdown",
   "metadata": {
    "slideshow": {
     "slide_type": "skip"
    },
    "tags": []
   },
   "source": [
    "## Curiosità, orientamento e senso critico\n",
    "\n",
    "Il mondo dell'informatica e soprattutto della programmazione è basato sulla logica, dunque quando qualcosa vi sembra illogico, è probabile o che non abbiate capito qualcosa o che ci sia qualcosa che non va. Nel primo caso avete un'occasione per imparare una cosa nuova, nel secondo avete scoperto qualcosa!\n",
    "\n",
    "Quindi la regola fondamentale è che ogni volta che qualcosa non è chiaro, non prendetelo come un dato di fatto da memorizzare e passare oltre, ma cercate di capire il perché una certa cosa è fatta o funziona in un modo che non vi è chiaro. Quindi chiedete in classe quando avete dubbi!\n",
    "\n",
    "Si dice che non esistano domande stupide. Sono d'accordo. Esistono però domande \"non efficienti\". Per esempio nel caso in cui la risposta sia palese e sotto gli occhi di tutti, o ancora peggio, quando la domanda posta contiene al suo interno già la risposta.\n",
    "\n",
    "A scuola però non esistono nemmeno le domande non efficienti: nulla deve essere dato per scontato, anche se in apparenza può essere sotto gli occhi di tutti. Non siamo su un forum, quindi non riceverete *RTFM* come risposta, ma vi indicherò gentilmente dove poter trovare le risposte alle vostre domande.\n",
    "\n",
    "La scuola non può però insegnnarci tutto. In fin dei conti, il compito ultimo della scuola è dare una risposta alla domanda:\n",
    "\n",
    "> *Come faccio a sapere come fare a sapere?*\n",
    "\n",
    "Tre consigli dunque per affrontare questo corso con il giusto atteggiamento:\n",
    "\n",
    "- Siate curiosi, non date nulla per scontato.\n",
    "- Cercate sempre dei punti di riferimento e abbiate ben chiare tutte le risorse e le informazioni a vostra disposizione.\n",
    "- Siate critici, non date MAI nulla per scontato.\n",
    "\n",
    "Senza dubbio queste attitudini vi faciliteranno la vita nel vostro percorso per diventare dei bravi sviluppatori."
   ]
  },
  {
   "cell_type": "markdown",
   "metadata": {
    "slideshow": {
     "slide_type": "slide"
    },
    "tags": []
   },
   "source": [
    "## Simboli e caratteri speciali usati in programmazione"
   ]
  },
  {
   "cell_type": "markdown",
   "metadata": {
    "slideshow": {
     "slide_type": "subslide"
    },
    "tags": []
   },
   "source": [
    "| ITALIANO                                         | NOME UNICODE               | SIMBOLO        | ICT SLANG                                                       | NOTE         |\n",
    "| ------------------------------------------------ | -------------------------- | :------------: | --------------------------------------------------------------- | ------------ |\n",
    "| apostrofo<br>virgoletta singola<br>apice singolo | apostrophe                 | `'`            | **single quotes**                                               | no:<br>`‘ ’` |\n",
    "| virgoletta doppia<br>apice doppio                | quotation mark             | `\"`            | **double quotes**                                               | no:<br>`“ ”` |\n",
    "|                                                  |                            | `'''`          | **triple single quotes**                                        |              |\n",
    "|                                                  |                            | `\"\"\"`          | **triple double quotes**                                        |              |\n",
    "| accento grave                                    | grave accent               | <code>`</code> | **backtick**                                                    |              |\n",
    "| punto                                            | full stop                  | `.`            | **dot (domain)<br>period (sentences)<br>point (float numbers)** |              |\n",
    "| virgola                                          | **comma**                  | `,`            |                                                                 |              |\n",
    "| due punti                                        | **colon**                  | `:`            |                                                                 |              |\n",
    "| punto e virgola                                  | **semicolon**              | `;`            |                                                                 |              |\n",
    "| punto esclamativo                                | **exclamation mark**       | `!`            |                                                                 |              |\n",
    "| punto interrogativo                              | **question mark**          | `?`            |                                                                 |              |\n",
    "| cancelletto                                      | number sign                | `#`            | **hash**                                                        |              |"
   ]
  },
  {
   "cell_type": "markdown",
   "metadata": {
    "slideshow": {
     "slide_type": "subslide"
    },
    "tags": []
   },
   "source": [
    "| ITALIANO                                         | NOME UNICODE               | SIMBOLO        | ICT SLANG                                                       | NOTE           |\n",
    "| ------------------------------------------------ | -------------------------- | :------------: | --------------------------------------------------------------- | -------------- |\n",
    "| trattino basso                                   | low line                   | `_`            | **underscore**                                                  |                |\n",
    "| trattino / meno                                  | hyphen-minus               | `-`            | **minus**                                                       | no:<br>`− – —` |\n",
    "| più                                              | plus sign                  | `+`            | **plus**                                                        |                |\n",
    "| barra obliqua                                    | solidus                    | `/`            | **slash**                                                       |                |\n",
    "| barra rovesciata                                 | reverse solidus            | `\\`            | **backslash**                                                   |                |\n",
    "| asterisco                                        | **asterisk**               | `*`            |                                                                 |                |\n",
    "| chiocciola                                       | commercial at              | `@`            | **at**                                                          |                |\n",
    "| e commerciale                                    | **ampersand**              | `&`            |                                                                 |                |\n",
    "| barra verticale                                  | vertical line              | `\\|`           | **pipe / vertical bar**                                         |                |\n",
    "| parentesi tonde                                  | left/right parenthesis     | `()`           | **parentheses**                                                 |                |\n",
    "| parentesi quadre                                 | left/right square brackets | `[]`           | **brackets**                                                    |                |\n",
    "| parentesi graffe                                 | left/right curly brackets  | `{}`           | **braces**                                                      |                |\n",
    "| minore di                                        | less-than sign             | `<`            | **less-than**                                                   |                |\n",
    "| maggiore di                                      | greater-than sign          | `>`            | **greater-than**                                                |                |\n",
    "| uquale                                           | equals sign                | `=`            | **equals**                                                      |                |\n",
    "| dollaro                                          | dollar sign                | `$`            | **dollar**                                                      |                |\n",
    "| percento                                         | percent sign               | `%`            | **percent**                                                     |                |"
   ]
  },
  {
   "cell_type": "markdown",
   "metadata": {
    "slideshow": {
     "slide_type": "slide"
    }
   },
   "source": [
    "## Regole d'oro\n",
    "\n",
    "L'azione che più sovente si compie in informatica (la scienza che studia il trattamento delle informazioni), è dare i nomi alle cose. Tutto si basa su questo. Prima diamo dei nomi alle cose e poi possiamo cominciare a ragionarci sopra."
   ]
  },
  {
   "cell_type": "markdown",
   "metadata": {
    "slideshow": {
     "slide_type": "fragment"
    },
    "tags": []
   },
   "source": [
    "Non è assolutamente detto che dare i nomi alle cose sia facile! Ma tanto per cominciare è bene essere consapevoli che dei buoni nomi ci faciliteranno la vita in futuro tanto quanto quelli cattivi ci condurranno al disastro."
   ]
  },
  {
   "cell_type": "markdown",
   "metadata": {
    "slideshow": {
     "slide_type": "fragment"
    },
    "tags": []
   },
   "source": [
    "> CURIOSITÀ: Anni fa diventò virale tra gli informatici questo post: [TwoHardThings](https://martinfowler.com/bliki/TwoHardThings.html)."
   ]
  },
  {
   "cell_type": "markdown",
   "metadata": {
    "slideshow": {
     "slide_type": "subslide"
    },
    "tags": []
   },
   "source": [
    "A questo proposito, ecco delle buone pratiche:\n",
    "\n",
    "- È bene prendere l'abitudine di nominare sempre i file e cartelle utilizzando l'undersocore `_` al posto degli spazi vuoti come separatore tra le parole.\n",
    "- Attiviamo la visualizzazione delle estensioni dei file e dei file nascosti in se il nostro sistema operativo li nasconde.\n",
    "- Quando nominiamo file o cartelle con sequenze numeriche è bene semore prevedere uno o più zeri iniziali (*leading zeros*) a seconda della dimensione\n",
    "  della nostra lista. Es.  `file01.txt`,  `file02.txt ` ecc.\n",
    "- Evitare di usare caratteri maiuscoli nel nominare i file se non strettamente necessario in quanto non sempre possiamo sapere se il file system \n",
    "  su cui saranno copiati i nostri file (anche da altri utenti) è case sensitive oppure no."
   ]
  },
  {
   "cell_type": "markdown",
   "metadata": {
    "slideshow": {
     "slide_type": "slide"
    },
    "tags": []
   },
   "source": [
    "## Proportional vs. monospaced font"
   ]
  },
  {
   "cell_type": "markdown",
   "metadata": {
    "slideshow": {
     "slide_type": "fragment"
    },
    "tags": []
   },
   "source": [
    "Un font che contiene glifi di larghezze differenti è detto proporzionale (*proportional*) o a larghezza variabile (*variable-width*).\n",
    "\n",
    "Un font che utilizza un'unica larghezza fissa per tutti i glifi è detto monospaziato (*monospaced*), non proporzionale (*non-proportional*) o a larghezza fissa (*fixed-width*).\n",
    "\n",
    "![proportional-vs-monospaced-font.png](./imgs/vscode/proportional-vs-monospaced-font.png)"
   ]
  },
  {
   "cell_type": "markdown",
   "metadata": {
    "slideshow": {
     "slide_type": "notes"
    },
    "tags": []
   },
   "source": [
    "Anche se oggi i computer possono visualizzare un'ampia varietà di caratteri, la maggior parte degli **IDE** e degli **editor di codice** utilizza un carattere monospaziato come carattere predefinito. Questo aumenta la leggibilità del codice sorgente che spesso dipende dalla facilità con cui è possibile distinguere i vari simboli e caratteri in modo inequivocabile.\n",
    "\n",
    "I font monospaziati consentono inoltre di allineare facilmante e con precisione il testo in colonne verticali. Usando questo tipo di font, possiamo vedere la pagina di testo come una griglia formata da righe e colonne, la cui larghezza è appunto la larghezza di ciascun carattere."
   ]
  },
  {
   "cell_type": "markdown",
   "metadata": {
    "slideshow": {
     "slide_type": "fragment"
    },
    "tags": []
   },
   "source": [
    "Per approfondire: [List of monospaced typefaces (Wikipedia)](https://en.wikipedia.org/wiki/List_of_monospaced_typefaces)."
   ]
  },
  {
   "cell_type": "markdown",
   "metadata": {
    "slideshow": {
     "slide_type": "slide"
    },
    "tags": []
   },
   "source": [
    "## Supporto linguistico"
   ]
  },
  {
   "cell_type": "markdown",
   "metadata": {
    "slideshow": {
     "slide_type": "notes"
    },
    "tags": []
   },
   "source": [
    "Indipendentemente dal tuo livello di conoscenza della lingua inglese, è inevitabile imbattersi in parole sconosciute o frasi molto lunghe e complesse. Se non abbiamo molto tempo a disposizione, è utile potersi levare il dubbio rapidamente. Inoltre la risposta che cerchi potrebbe trovarsi su un sito tedesco o su un forum cinese!\n",
    "\n",
    "Dunque, se già non li conosci, ecco alcuni strumenti utili per tradurre testi nella lingua che preferisci, oltre alla già famosa web app di [Google Translator](https://translate.google.it/):"
   ]
  },
  {
   "cell_type": "markdown",
   "metadata": {
    "slideshow": {
     "slide_type": "fragment"
    },
    "tags": []
   },
   "source": [
    "- [Google Translator](https://chrome.google.com/webstore/detail/google-translate/aapbdbdomjkkjkaonfhkkikfgjllcleb) estensione ufficiale per Chrome.\n",
    "- [DeepL](https://chrome.google.com/webstore/detail/deepl-translate-reading-w/cofdbpoegempjloogbagkncekinflcnj) estensione ufficiale per Chrome.\n",
    "- Web app di [DeepL](https://www.deepl.com/translator): traduttore online con testo a fronte, molto più accurato di Google Traduttore."
   ]
  }
 ],
 "metadata": {
  "kernelspec": {
   "display_name": "Python 3 (ipykernel)",
   "language": "python",
   "name": "python3"
  },
  "language_info": {
   "codemirror_mode": {
    "name": "ipython",
    "version": 3
   },
   "file_extension": ".py",
   "mimetype": "text/x-python",
   "name": "python",
   "nbconvert_exporter": "python",
   "pygments_lexer": "ipython3",
   "version": "3.11.2"
  },
  "vscode": {
   "interpreter": {
    "hash": "e6f25737dda967aa6ad8da4764c832ec57727c0329acf0be14f62a51d35ee438"
   }
  }
 },
 "nbformat": 4,
 "nbformat_minor": 4
}
