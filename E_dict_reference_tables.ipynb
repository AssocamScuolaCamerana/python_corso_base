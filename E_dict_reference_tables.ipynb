{
 "cells": [
  {
   "attachments": {},
   "cell_type": "markdown",
   "metadata": {},
   "source": [
    "# Dizionari"
   ]
  },
  {
   "attachments": {},
   "cell_type": "markdown",
   "metadata": {},
   "source": [
    "## Operatori e operazioni con i dizionari\n",
    "\n",
    "Per manipolare i dizionari vi sono diversi operatori:\n",
    "\n",
    "|Operatore|Ritorna|Descrizione|\n",
    "|---------|-------|-----------|\n",
    "|`len`(dict)|`int`|Ritorna il numero di chiavi|\n",
    "|dict`[`chiave`]`|obj|Ritorna il valore associato alla chiave|\n",
    "|dict`[`chiave`]` `=` valore||Aggiunge o modifica il valore associato ad una chiave|\n",
    "|`del` dict`[`chiave`]`||Rimuove la coppia chiave/valore|\n",
    "|chiave `in` dict|`bool`|Ritorna `True` se chiave è presente nel dizionario|\n",
    "|`==` , `!=`|`bool`|Controlla se due dizionari sono uguali o differenti|\n"
   ]
  },
  {
   "attachments": {},
   "cell_type": "markdown",
   "metadata": {},
   "source": [
    "## Metodi dei dizionari\n",
    "\n",
    "In questo foglio vedremo i metodi principali per estrarre dati e manipolare i dizionari.\n",
    "\n",
    "|Metodo|Ritorna|Descrizione|\n",
    "|---|---|---|\n",
    "|`dict.keys()`|`dict_keys`|Ritorna una _vista_ di chiavi che sono presenti nel dizionario|\n",
    "|`dict.values()`|`dict_values`|Ritorna una _vista_ di valori presenti nel dizionario|\n",
    "|`dict.items()`|`dict_items`|Ritorna una _vista_ di coppie (chiave, valore) presenti nel dizionario|\n",
    "|`dict.update(dict2)`|`None`|MODIFICA il dizionario `diz1` con le coppie chiave / valore trovate in `dict2`|"
   ]
  },
  {
   "attachments": {},
   "cell_type": "markdown",
   "metadata": {},
   "source": [
    "# Classi speciali\n",
    "\n",
    "Vi sono delle classi speciali di dizionari che possiamo usare:"
   ]
  },
  {
   "attachments": {},
   "cell_type": "markdown",
   "metadata": {},
   "source": [
    "|Classe|Descrizione|\n",
    "|------|-----------|\n",
    "|`collections.defaultdict`|Dizionario che permette di accedere a chiavi non esistenti, creandole al volo e fornendo un valore di default|\n",
    "|`collections.Counter`|Dizionario che permette di contare gli elementi uguali in un iterabile restituendo un dizionario di report|\n",
    "|`collections.OrderedDict`|Dizionario che permette di mantenere l'ordine di inserimento delle chiavi|\n"
   ]
  }
 ],
 "metadata": {
  "language_info": {
   "name": "python"
  },
  "orig_nbformat": 4
 },
 "nbformat": 4,
 "nbformat_minor": 2
}
