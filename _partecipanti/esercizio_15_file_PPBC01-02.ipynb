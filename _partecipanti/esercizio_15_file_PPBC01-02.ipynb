{
 "cells": [
  {
   "attachments": {},
   "cell_type": "markdown",
   "metadata": {},
   "source": [
    "# Le età dei nostri amici"
   ]
  },
  {
   "attachments": {},
   "cell_type": "markdown",
   "metadata": {},
   "source": [
    "Requisiti: `import`, `with ... as`, `open`, `dict`"
   ]
  },
  {
   "attachments": {},
   "cell_type": "markdown",
   "metadata": {},
   "source": [
    "E’ dato un file `nomi_data_nascita.txt` nella cartella `/files_esercizi` del nostro repository. Il file è caratterizzato dal seguente formato rappresentante delle coppie nome/età. Per esempio:\n",
    "\n",
    "```python\n",
    "Ada: 1999\n",
    "Pippo: 1980\n",
    "Felice: 1976\n",
    "Geronima: 1999\n",
    "...\n",
    "```\n",
    "\n",
    "Leggi tutto il file creando un dizionario (`dict`) le cui chiavi sono corrispondono all’età della persona alla data attuale. A ciascuna età deve essere associata una lista con i nomi di persone che hanno quell’età.\n",
    "\n",
    "Output atteso:\n",
    "\n",
    "```python\n",
    "{24: ['Ada:', 'Geronima:', 'Roberto:'], 43: ['Pippo:', 'Ciccio:'], 47: ['Felice:', 'Mimmo:'], 51: ['Luca:', 'Pluto:'], 100: ['Totò:']}\n",
    "```"
   ]
  },
  {
   "cell_type": "code",
   "execution_count": 4,
   "metadata": {},
   "outputs": [
    {
     "name": "stdout",
     "output_type": "stream",
     "text": [
      "'Ada: 1999\\nPippo: 1980\\nFelice: 1976\\nGeronima: 1999\\nCiccio: 1980\\nLuca: 1972\\nRoberto: 1999\\nPluto: 1972\\nMimmo: 1976\\nTotò: 1923'\n",
      "\n",
      "\n",
      "tipo di file <class '_io.TextIOWrapper'>\n"
     ]
    }
   ],
   "source": [
    "file=open('../files_esercizi/nomi_data_nascita.txt', 'rt', encoding='utf-8')\n",
    "print(repr(file.read()))\n",
    "print('\\n')\n",
    "print(\"tipo di file\", type(file))\n",
    "file.close()\n",
    "\n"
   ]
  },
  {
   "cell_type": "code",
   "execution_count": 38,
   "metadata": {},
   "outputs": [
    {
     "name": "stdout",
     "output_type": "stream",
     "text": [
      "\n",
      "Pippo: 1980\n",
      "\n",
      "'Pippo: 1980\\n'\n",
      "tipo di file <class 'str'>\n"
     ]
    }
   ],
   "source": [
    "# file=open('../files_esercizi/nomi_data_nascita.txt', 'rt', encoding='utf-8')\n",
    "# print()\n",
    "# line=file.readline()\n",
    "# line=file.readline()\n",
    "# print(line)\n",
    "# print(repr(line))\n",
    "# print(\"tipo di file\",type(line))\n",
    "# file.close()"
   ]
  },
  {
   "cell_type": "code",
   "execution_count": 34,
   "metadata": {},
   "outputs": [
    {
     "name": "stdout",
     "output_type": "stream",
     "text": [
      "\n",
      "['Ada: 1999\\n', 'Pippo: 1980\\n', 'Felice: 1976\\n', 'Geronima: 1999\\n', 'Ciccio: 1980\\n', 'Luca: 1972\\n', 'Roberto: 1999\\n', 'Pluto: 1972\\n', 'Mimmo: 1976\\n', 'Totò: 1923']\n",
      "['Ada: 1999\\n', 'Pippo: 1980\\n', 'Felice: 1976\\n', 'Geronima: 1999\\n', 'Ciccio: 1980\\n', 'Luca: 1972\\n', 'Roberto: 1999\\n', 'Pluto: 1972\\n', 'Mimmo: 1976\\n', 'Totò: 1923']\n",
      "tipo di file <class 'list'>\n",
      "10\n"
     ]
    }
   ],
   "source": [
    "# file=open('../files_esercizi/nomi_data_nascita.txt', 'rt', encoding='utf-8')\n",
    "# print()\n",
    "# line=file.readlines()\n",
    "# print(line)\n",
    "# print(repr(line))\n",
    "# print(\"tipo di file\",type(line))\n",
    "# print(len(line))\n",
    "# file.close()"
   ]
  },
  {
   "cell_type": "code",
   "execution_count": 3,
   "metadata": {},
   "outputs": [
    {
     "name": "stdout",
     "output_type": "stream",
     "text": [
      "Ada: 1999\n",
      "\n",
      "'Ada: 1999\\n'\n",
      "['Ada', ' 1999\\n']\n",
      "['Ada', '1999']\n"
     ]
    }
   ],
   "source": [
    "linea_pulita=[]\n",
    "with open('../files_esercizi/nomi_data_nascita.txt', 'rt', encoding='utf-8') as file:\n",
    "    line=file.readline()\n",
    "    print(line)\n",
    "    print(repr(line))\n",
    "    linea_divisa=line.split(':')\n",
    "    print(repr(linea_divisa))\n",
    "    for i in range(len(linea_divisa)):\n",
    "        linea_pulita.append(linea_divisa[i].strip())\n",
    "    \n",
    "\n",
    "    \n",
    "print(repr(linea_pulita))\n",
    "\n"
   ]
  },
  {
   "cell_type": "code",
   "execution_count": 5,
   "metadata": {},
   "outputs": [],
   "source": [
    "ANNO_CORRENTE=2023"
   ]
  },
  {
   "attachments": {},
   "cell_type": "markdown",
   "metadata": {},
   "source": [
    "Ora, riesci a scriverle in un file nuovo, mantenendo il seguente formato?\n",
    "\n",
    "```python\n",
    "Nome,Età\n",
    "Ada,24\n",
    "Geronima,24\n",
    "Roberto,24\n",
    "Pippo,43\n",
    "Ciccio,43\n",
    "...\n",
    "```"
   ]
  },
  {
   "cell_type": "markdown",
   "metadata": {},
   "source": [
    "Prova a scrivere un nuovo file `nomi_eta.csv` nella cartella `/files_esercizi` del nostro repository.\n",
    "\n",
    "Normalmente i file `.csv` hanno la prima linea dedicata alle \"intestazioni di colonna\". In questo caso nella prima riga del file dovremmo avere `Nome,Età`."
   ]
  },
  {
   "cell_type": "code",
   "execution_count": 8,
   "metadata": {},
   "outputs": [],
   "source": [
    "\n",
    "with open('../files_esercizi/new_file.txt', 'w', encoding='utf-8') as new_file:\n",
    "    linea_editata=linea_pulita[0] + ',' + str(ANNO_CORRENTE - int(linea_pulita[1]))\n",
    "    #linea_da_scrivere=linea_pulita[0] + ',' + linea_pulita[1]\n",
    "    new_file.write(linea_editata)\n"
   ]
  },
  {
   "cell_type": "markdown",
   "metadata": {},
   "source": [
    "Per finire, riusciresti a creare uno script che prende in ingresso due parametri, il file di origine `nomi_data_nascita.txt` e il file di output `nomi_eta.csv` e che esegue le conversione creando il file di output?\n",
    "\n",
    "Per lanciare il nostro script, immaginando di trovarci nella cartella `/files_esercizi`, dovremmo poter lanciare un comando come il seguente:\n",
    "\n",
    "```shell\n",
    "$ py converti_nomi_nascita.py nomi_data_nascita.txt nomi_eta.csv\n",
    "```"
   ]
  },
  {
   "cell_type": "markdown",
   "metadata": {},
   "source": [
    "Crea un nuovo file e chiamalo `converti_nomi_nascita.py` e salvalo dove preferisci, per esempio nella tua cartella `/personale` che dovresti avrere sul tuo branch del nostro repository.\n",
    "\n",
    "Ricorda che poi i percorsi ai file devono essere compatibili con la posizione in cui eseguirai lo script, dove tu ti trovi e dove si trova il file da convertire. Prova varie combinazioni, e vedi cosa succede e dove viene generato il file di output."
   ]
  },
  {
   "cell_type": "code",
   "execution_count": 8,
   "metadata": {},
   "outputs": [],
   "source": [
    "from datetime import date\n",
    "anno_corrente=date.today().year\n",
    "#ANNO_CORRENTE=202\n",
    "# linea_pulita=[]\n",
    "# with open('../files_esercizi/nomi_data_nascita.txt', 'rt', encoding='utf-8') as file:\n",
    "#     with open('../files_esercizi/new_file.txt', 'w', encoding='utf-8') as new_file:\n",
    "#        line=file.readline()\n",
    "#        while line !='': \n",
    "            \n",
    "#             linea_divisa=line.split(':')\n",
    "#             for i in range(len(linea_divisa)):\n",
    "#                 linea_pulita.append(linea_divisa[i].strip())\n",
    "\n",
    "\n",
    "#             linea_editata=linea_pulita[0] + ',' + str(anno_corrente - int(linea_pulita[1]))\n",
    "#             new_file.write(linea_editata + '\\n')\n",
    "#             linea_pulita=[]\n",
    "#             line=file.readline()\n"
   ]
  },
  {
   "cell_type": "code",
   "execution_count": 17,
   "metadata": {},
   "outputs": [],
   "source": [
    "from datetime import date\n",
    "anno_corrente=date.today().year\n",
    "\n",
    "sep=';'\n",
    "data_dict={}\n",
    "\n",
    "a=lambda x : [x]\n",
    "with open('../files_esercizi/nomi_data_nascita.txt', 'rt', encoding = 'utf-8') as file:\n",
    "    \n",
    "       line = file.readline()\n",
    "       while line != '' : \n",
    "            linea_divisa = line.split(':')\n",
    "            valore_pulito = linea_divisa[0].strip()\n",
    "            #chiave_pulita = anno_corrente - int(linea_divisa[1].strip()) #qui dove si calcola con l'età\n",
    "            chiave_pulita = int(linea_divisa[1].strip()) #qui c'è solo l'anno di nascita\n",
    "            \n",
    "            if chiave_pulita in data_dict:\n",
    "                data_dict[chiave_pulita].append(valore_pulito)\n",
    "            else:\n",
    "                data_dict[chiave_pulita] = a(valore_pulito)\n",
    "            line = file.readline()\n",
    "         "
   ]
  },
  {
   "cell_type": "code",
   "execution_count": 14,
   "metadata": {},
   "outputs": [
    {
     "data": {
      "text/plain": [
       "{1999: ['Ada', 'Geronima', 'Roberto'],\n",
       " 1980: ['Pippo', 'Ciccio'],\n",
       " 1976: ['Felice', 'Mimmo'],\n",
       " 1972: ['Luca', 'Pluto'],\n",
       " 1923: ['Totò']}"
      ]
     },
     "execution_count": 14,
     "metadata": {},
     "output_type": "execute_result"
    }
   ],
   "source": [
    "data_dict"
   ]
  },
  {
   "cell_type": "code",
   "execution_count": null,
   "metadata": {},
   "outputs": [],
   "source": []
  },
  {
   "cell_type": "code",
   "execution_count": 18,
   "metadata": {},
   "outputs": [],
   "source": [
    "with open('../files_esercizi/new_file.csv', 'w', encoding = 'utf-8') as new_file:\n",
    "    new_file.write(f'Età{sep}Nome\\n')\n",
    "    for key in data_dict:\n",
    "        for i in range(len(data_dict[key])):\n",
    "            eta=str(key)\n",
    "            nome=str(data_dict[key][i])\n",
    "            new_file.write (eta + sep + nome + '\\n' )\n",
    "\n",
    "        \"\"\" for key in data_dict:\n",
    "            for name in data_dict[key]:\n",
    "                print(key,name) \"\"\""
   ]
  },
  {
   "attachments": {},
   "cell_type": "markdown",
   "metadata": {},
   "source": [
    "## Corretti a lezione"
   ]
  },
  {
   "attachments": {},
   "cell_type": "markdown",
   "metadata": {},
   "source": [
    "### Creazione dizionario"
   ]
  },
  {
   "cell_type": "code",
   "execution_count": 1,
   "metadata": {},
   "outputs": [
    {
     "name": "stdout",
     "output_type": "stream",
     "text": [
      "24 Ada\n",
      "24 Geronima\n",
      "24 Roberto\n",
      "43 Pippo\n",
      "43 Ciccio\n",
      "47 Felice\n",
      "47 Mimmo\n",
      "51 Luca\n",
      "51 Pluto\n",
      "100 Totò\n"
     ]
    }
   ],
   "source": [
    "from datetime import date\n",
    "anno_corrente=date.today().year\n",
    "\n",
    "sep=';'\n",
    "data_dict={}\n",
    "\n",
    "# a = lambda x : [x]\n",
    "with open('../files_esercizi/nomi_data_nascita.txt', 'rt', encoding = 'utf-8') as file:\n",
    "    \n",
    "       line = file.readline()\n",
    "       while line != '' : \n",
    "            linea_divisa = line.split(':')\n",
    "            valore_pulito = linea_divisa[0].strip()\n",
    "            chiave_pulita = anno_corrente - int(linea_divisa[1].strip()) # qui dove si calcola l'età\n",
    "            # chiave_pulita = int(linea_divisa[1].strip()) # qui c'è solo l'anno di nascita\n",
    "            \n",
    "            if chiave_pulita in data_dict:\n",
    "                data_dict[chiave_pulita].append(valore_pulito)\n",
    "            else:\n",
    "                data_dict[chiave_pulita] = [valore_pulito]\n",
    "            line = file.readline()\n",
    "\n",
    "\n",
    "for key in data_dict:\n",
    "    for name in data_dict[key]:\n",
    "        print(key, name)"
   ]
  },
  {
   "attachments": {},
   "cell_type": "markdown",
   "metadata": {},
   "source": [
    "### Scrittura file CSV diretta"
   ]
  },
  {
   "cell_type": "code",
   "execution_count": 2,
   "metadata": {},
   "outputs": [],
   "source": [
    "# scrivi qui\n",
    "from datetime import date\n",
    "\n",
    "anno_corrente = date.today().year\n",
    "sep = ';'\n",
    "\n",
    "with (open('../files_esercizi/nomi_data_nascita.txt', 'rt', encoding='utf-8') as file,\n",
    "    open('../files_esercizi/new_file.csv', 'w', encoding='latin-1') as new_file):\n",
    "        line = file.readline()\n",
    "        new_file.write(f'Nome{sep}Età\\n')\n",
    "        while line != '': \n",
    "            \n",
    "            linea_divisa = line.split(':')\n",
    "\n",
    "            nome = linea_divisa[0].strip()\n",
    "            anno = linea_divisa[1].strip()\n",
    "            eta = str(anno_corrente - int(anno))\n",
    "            \n",
    "            linea_editata = nome + sep + eta\n",
    "            new_file.write(linea_editata + '\\n')\n",
    "\n",
    "            line = file.readline()"
   ]
  }
 ],
 "metadata": {
  "kernelspec": {
   "display_name": ".venv",
   "language": "python",
   "name": "python3"
  },
  "language_info": {
   "codemirror_mode": {
    "name": "ipython",
    "version": 3
   },
   "file_extension": ".py",
   "mimetype": "text/x-python",
   "name": "python",
   "nbconvert_exporter": "python",
   "pygments_lexer": "ipython3",
   "version": "3.11.2"
  },
  "orig_nbformat": 4
 },
 "nbformat": 4,
 "nbformat_minor": 2
}
