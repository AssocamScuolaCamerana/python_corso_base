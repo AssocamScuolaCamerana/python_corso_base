{
 "cells": [
  {
   "cell_type": "markdown",
   "id": "1e5c2f86",
   "metadata": {
    "is_toc": true
   },
   "source": [
    "**Sommario**\n",
    "- [OOP - Programmazione orientata agli oggetti](#oop---programmazione-orientata-agli-oggetti)\n",
    "  - [Classi](#classi)\n",
    "    - [Dichiarare le classi](#dichiarare-le-classi)\n",
    "    - [Attributi di classe](#attributi-di-classe)\n",
    "  - [Creare un'istanza di una classe](#creare-un'istanza-di-una-classe)\n",
    "    - [Metodo `__init__()`](#metodo-__init__)\n",
    "    - [`self`](#self)\n",
    "    - [Attributi di istanza](#attributi-di-istanza)\n",
    "    - [Riassumendo (istanze)](#riassumendo-istanze)\n",
    "  - [Modifica degli attributi](#modifica-degli-attributi)\n",
    "    - [Assegnazione e modifica di oggetti mutabili a livello di istanza](#assegnazione-e-modifica-di-oggetti-mutabili-a-livello-di-istanza)\n",
    "    - [Aggiunta di attributi](#aggiunta-di-attributi)\n",
    "    - [Controllare se un attributo appartiene alla classe o all'istanza](#controllare-se-un-attributo-appartiene-alla-classe-o-all'istanza)\n",
    "    - [Riassumendo (attributi)](#riassumendo-attributi)\n",
    "  - [Ereditarietà in Python](#ereditarietà-in-python)\n",
    "    - [Che cos'è l'ereditarietà?](#che-cos'è-l'ereditarietà?)\n",
    "    - [Oggetto classe](#oggetto-classe)\n",
    "    - [Ereditarietà singola](#ereditarietà-singola)\n",
    "    - [`type()` Vs `isinstance()`](#type-vs-isinstance)\n",
    "    - [`issubclass()`](#issubclass)\n",
    "    - [Riassumendo (ereditarietà)](#riassumendo-ereditarietà)\n",
    "  - [Override dei metodi](#override-dei-metodi)\n",
    "    - [La funzione `super()`](#la-funzione-super)\n",
    "  - [Classi astratte e \"interfacce\"](#classi-astratte-e-interfacce)\n",
    "  - [Approfondimento: la relazione tra `type` e `object`](#approfondimento-la-relazione-tra-type-e-object)"
   ]
  },
  {
   "attachments": {},
   "cell_type": "markdown",
   "metadata": {},
   "source": [
    "# OOP - Programmazione orientata agli oggetti\n",
    "\n",
    "## Classi\n",
    "\n",
    "All'inizio di questo percorso, abbiamo visto per sommi capi la programmazione orientata agli oggetti (OOP), un metodo di programmazione che si focalizza sull'uso di \"oggetti\". In OOP, questi oggetti interagiscono tra loro, e questa interazione è il fulcro del funzionamento di un programma.\n",
    "\n",
    "In OOP, gli oggetti sono caratterizzati da _**stati**_ (dati) e _**comportamenti**_ (funzioni). Quando molti oggetti condividono caratteristiche simili, è utile raggrupparli in una \"classe\". Una classe agisce come un _**modello**_ che definisce gli stati e i comportamenti comuni di questi oggetti simili. Quando abbiamo bisogno di un nuovo oggetto di un determinato \"tipo\", è sufficiente usare la classe che descrive quel tipo per creare l'oggetto che ci serve."
   ]
  },
  {
   "attachments": {},
   "cell_type": "markdown",
   "metadata": {},
   "source": [
    "### Dichiarare le classi\n",
    "\n",
    "Le classi vengono dichiarate con la parola chiave `class` e il nome della classe:"
   ]
  },
  {
   "cell_type": "code",
   "execution_count": 1,
   "metadata": {},
   "outputs": [],
   "source": [
    "class MyClass:\n",
    "    # qualche variabile\n",
    "    var = ... \n",
    "\n",
    "    # qualche metodo\n",
    "    def fai_qualcosa(self):\n",
    "        ..."
   ]
  },
  {
   "attachments": {},
   "cell_type": "markdown",
   "metadata": {},
   "source": [
    "In genere, il nome di una classe inizia con una lettera maiuscola e di solito è un sostantivo o una frase sostantiva. I nomi delle classi seguono la convenzione PascalCase: ciò significa che se si tratta di una frase, tutte le iniziali delle parole nella frase sono maiuscole e scritte senza underscore o tra di loro."
   ]
  },
  {
   "cell_type": "code",
   "execution_count": 2,
   "metadata": {},
   "outputs": [],
   "source": [
    "# nome di classe buono\n",
    "class MyClass:\n",
    "    ...\n",
    "\n",
    "# nome di classe non buono\n",
    "class My_class:\n",
    "    ..."
   ]
  },
  {
   "attachments": {},
   "cell_type": "markdown",
   "metadata": {},
   "source": [
    "Le classi consentono di definire i dati e i comportamenti di oggetti simili.\n",
    "\n",
    "Il comportamento è descritto dai _**metodi**_. Un metodo è simile a una funzione, in quanto è un blocco di codice che ha un nome ed esegue una determinata azione. I metodi, tuttavia, non sono indipendenti, poiché sono definiti all'interno di una classe.\n",
    "\n",
    "I dati all'interno delle classi sono memorizzati negli _**attributi**_ (variabili) e ne esistono di due tipi: *attributi di classe* e *attributi di istanza*. La differenza tra questi due tipi di attributi verrà spiegata di seguito."
   ]
  },
  {
   "attachments": {},
   "cell_type": "markdown",
   "metadata": {},
   "source": [
    "### Attributi di classe\n",
    "\n",
    "Un attributo di classe è un attributo condiviso da tutte le istanze della classe. Consideriamo la classe Book come esempio:"
   ]
  },
  {
   "cell_type": "code",
   "execution_count": 3,
   "metadata": {},
   "outputs": [],
   "source": [
    "# Classe Libro\n",
    "class Libro:\n",
    "    materiale = 'carta'\n",
    "    copertina = 'brossura'\n",
    "    libri = []"
   ]
  },
  {
   "attachments": {},
   "cell_type": "markdown",
   "metadata": {},
   "source": [
    "Questa classe ha una variabile stringa `materiale` con il valore \"carta\", una variabile stringa `copertina` con il valore \"brossura\" e un elenco vuoto come attributo `libri`. Tutte queste variabili sono attributi della classe e vi si può accedere usando la notazione a punti con il nome della classe:"
   ]
  },
  {
   "cell_type": "code",
   "execution_count": 4,
   "metadata": {},
   "outputs": [
    {
     "data": {
      "text/plain": [
       "'carta'"
      ]
     },
     "metadata": {},
     "output_type": "display_data"
    },
    {
     "data": {
      "text/plain": [
       "'brossura'"
      ]
     },
     "metadata": {},
     "output_type": "display_data"
    },
    {
     "data": {
      "text/plain": [
       "[]"
      ]
     },
     "metadata": {},
     "output_type": "display_data"
    }
   ],
   "source": [
    "display(\n",
    "    Libro.materiale,\n",
    "    Libro.copertina,\n",
    "    Libro.libri,\n",
    ")"
   ]
  },
  {
   "attachments": {},
   "cell_type": "markdown",
   "metadata": {},
   "source": [
    "Gli _**attributi di classe**_ sono definiti all'interno della classe stessa, ma al di fuori dei metodi. Il loro valore è lo stesso per tutte le istanze di quella classe, quindi si possono considerare come una sorta di valori \"predefiniti\" per tutti gli oggetti.\n",
    "\n",
    "Gli attributi della classe si possono contrapporre concettualmente agli _**attributi di istanza**_ che memorizzano i dati unici per ogni oggetto della classe. Sono definiti all'interno dei metodi della classe, solitamente all'interno del metodo `__init__`.\n",
    "\n",
    "Inizialmente ci occuperemo solo degli attributi della classe, ma più avanti tratteremo anche gli attributi di istanza."
   ]
  },
  {
   "attachments": {},
   "cell_type": "markdown",
   "metadata": {},
   "source": [
    "## Creare un'istanza di una classe\n",
    "\n",
    "Ora creiamo un'istanza della classe `Libro`. Per farlo, è necessario eseguire questo codice:"
   ]
  },
  {
   "cell_type": "code",
   "execution_count": 5,
   "metadata": {},
   "outputs": [],
   "source": [
    "# Istanza di Libro\n",
    "mio_libro = Libro()"
   ]
  },
  {
   "attachments": {},
   "cell_type": "markdown",
   "metadata": {},
   "source": [
    "Qui non solo abbiamo creato un'istanza della classe `Libro`, ma l'abbiamo anche assegnata alla variabile `mio_libro`. La sintassi dell'istanziazione di un oggetto di classe assomiglia a una chiamata di funzione: dopo il nome della classe, si scrivono le parentesi.\n",
    "\n",
    "Il nuovo oggetto `mio_libro` ha anch'esso accesso ai contenuti della classe `Libro`, ai suoi attributi e ai suoi metodi."
   ]
  },
  {
   "cell_type": "code",
   "execution_count": 6,
   "metadata": {},
   "outputs": [
    {
     "data": {
      "text/plain": [
       "'carta'"
      ]
     },
     "metadata": {},
     "output_type": "display_data"
    },
    {
     "data": {
      "text/plain": [
       "'brossura'"
      ]
     },
     "metadata": {},
     "output_type": "display_data"
    },
    {
     "data": {
      "text/plain": [
       "[]"
      ]
     },
     "metadata": {},
     "output_type": "display_data"
    }
   ],
   "source": [
    "display(\n",
    "    mio_libro.materiale,\n",
    "    mio_libro.copertina,\n",
    "    mio_libro.libri,\n",
    ")"
   ]
  },
  {
   "cell_type": "code",
   "execution_count": 7,
   "metadata": {},
   "outputs": [],
   "source": [
    "mio_libro.materiale = 'plastica'\n",
    "mio_libro.libri.append(mio_libro)"
   ]
  },
  {
   "attachments": {},
   "cell_type": "markdown",
   "metadata": {},
   "source": [
    "Riassumendo quanto visto fino ad ora, le classi rappresentano dunque la struttura comune di oggetti simili, i loro attributi e i loro metodi. Esistono attributi di classe e attributi di istanza. Gli attributi della classe sono comuni a tutte le istanze della classe."
   ]
  },
  {
   "attachments": {},
   "cell_type": "markdown",
   "metadata": {},
   "source": [
    "A questo punto, sapete già cosa sono le classi e come definirle e utilizzarle in Python. Ora entriamo nel dettaglio delle istanze di classe.\n",
    "\n",
    "Un'istanza di classe è un oggetto della classe. Se, per esempio, esistesse la classe `Fiume`, potremmo creare istanze come \"Volga\", \"Senna\" e \"Nilo\". Queste istanze avrebbero tutte la stessa struttura e condividerebbero tutti gli attributi della classe Fiume.\n",
    "\n",
    "Tuttavia, inizialmente, tutte le istanze della classe sarebbero identiche tra loro. Il più delle volte questo non è ciò che vogliamo. Per personalizzare lo stato iniziale di un'istanza, si usa il metodo __init__."
   ]
  },
  {
   "attachments": {},
   "cell_type": "markdown",
   "metadata": {},
   "source": [
    "### Metodo `__init__()`\n",
    "\n",
    "Il metodo `__init__` è un _**costruttore**_. I costruttori sono un concetto tipico della programmazione orientata agli oggetti in generale. In Python, una classe può avere uno e un solo costruttore.\n",
    "\n",
    "Se `__init__` è definito all'interno di una classe, viene invocato automaticamente quando si crea una nuova istanza della classe. Prendiamo come esempio la nostra classe `Fiume`:"
   ]
  },
  {
   "cell_type": "code",
   "execution_count": 8,
   "metadata": {},
   "outputs": [
    {
     "name": "stdout",
     "output_type": "stream",
     "text": [
      "Volga\n",
      "Volga\n",
      "Senna\n",
      "Senna\n",
      "Nilo\n",
      "Nilo\n"
     ]
    }
   ],
   "source": [
    "class Fiume:\n",
    "    # lista di tutti i fiumi\n",
    "    fiumi = []\n",
    "    \n",
    "    def __init__(self, nome, lunghezza):\n",
    "        self.nome = nome\n",
    "        self.lunghezza = lunghezza\n",
    "        # aggiunge questa singola istanza di Fiume alla lista di tutti i fiumi\n",
    "        Fiume.fiumi.append(self)\n",
    "    \n",
    "    def get_nome(self):\n",
    "        print(self.nome)\n",
    "\n",
    "volga = Fiume('Volga', 3530)\n",
    "senna = Fiume('Senna', 776)\n",
    "nilo = Fiume('Nilo', 6852)\n",
    "\n",
    "\n",
    "# stampa il nome di tutti i fiumi\n",
    "for fiume in Fiume.fiumi:\n",
    "    print(fiume.nome)\n",
    "    fiume.get_nome()\n"
   ]
  },
  {
   "attachments": {},
   "cell_type": "markdown",
   "metadata": {},
   "source": [
    "Abbiamo creato tre istanze (o oggetti) della classe `Fiume`: `volga`, `senna` e `nilo`.\n",
    "\n",
    "Poiché abbiamo definito i parametri `nome` e `lunghezza` per il metodo `__init__`, essi devono essere passati esplicitamente quando si crea una nuova istanza. Quindi qualcosa come `volga = Fiume()` causerebbe un errore. Guardate questa visualizzazione del codice per vedere come funziona quasi in tempo reale!\n",
    "\n",
    "Il metodo `__init__` specifica quali attributi vogliamo che le istanze della nostra classe abbiano fin dall'inizio. Nel nostro esempio, sono `nome` e `lunghezza`."
   ]
  },
  {
   "attachments": {},
   "cell_type": "markdown",
   "metadata": {},
   "source": [
    "### `self`\n",
    "\n",
    "Avrete notato che il nostro metodo `__init__` ha un altro argomento oltre a `nome` e `lunghezza`: `self`. L'argomento `self` rappresenta una specifica istanza della classe e ci permette di accedere ai suoi attributi e metodi. Nell'esempio di `__init__`, in pratica creiamo degli attributi per una determinata istanza e assegniamo loro i valori degli argomenti del metodo. È importante usare il parametro `self` all'interno del metodo, se vogliamo salvare i valori dell'istanza per un uso successivo.\n",
    "\n",
    "Il più delle volte abbiamo bisogno di scrivere il parametro `self` anche in altri metodi, perché quando il metodo viene chiamato il primo argomento che viene passato al metodo è l'oggetto stesso. Aggiungiamo un metodo alla nostra classe `Fiume` e vediamo come funziona. La sintassi dei metodi non è importante in questo momento, basta prestare attenzione all'uso di `self`:"
   ]
  },
  {
   "cell_type": "code",
   "execution_count": 9,
   "metadata": {},
   "outputs": [],
   "source": [
    "class Fiume:\n",
    "    fiumi = []\n",
    "\n",
    "    def __init__(self, nome, lunghezza):\n",
    "        self.nome = nome\n",
    "        self.lunghezza = lunghezza\n",
    "        Fiume.fiumi.append(self)\n",
    "\n",
    "    def get_info(self):\n",
    "        print(f'La lunghezza del fiume {self.nome} è {self.lunghezza} km.')"
   ]
  },
  {
   "attachments": {},
   "cell_type": "markdown",
   "metadata": {},
   "source": [
    "Creaiamo dunque delle istanze di questa classe:"
   ]
  },
  {
   "cell_type": "code",
   "execution_count": 10,
   "metadata": {},
   "outputs": [],
   "source": [
    "volga = Fiume('Volga', 3530)\n",
    "senna = Fiume('Senna', 776)\n",
    "nilo = Fiume('Nilo', 6852)"
   ]
  },
  {
   "attachments": {},
   "cell_type": "markdown",
   "metadata": {},
   "source": [
    "Ora, proviamo a invocare il metodo `get_info` sugli gli oggetti che abbiamo creato:"
   ]
  },
  {
   "cell_type": "code",
   "execution_count": 11,
   "metadata": {},
   "outputs": [
    {
     "name": "stdout",
     "output_type": "stream",
     "text": [
      "La lunghezza del fiume Volga è 3530 km.\n",
      "La lunghezza del fiume Senna è 776 km.\n",
      "La lunghezza del fiume Nilo è 6852 km.\n"
     ]
    }
   ],
   "source": [
    "volga.get_info()\n",
    "senna.get_info()\n",
    "nilo.get_info()"
   ]
  },
  {
   "attachments": {},
   "cell_type": "markdown",
   "metadata": {},
   "source": [
    "Come si può vedere, per ogni oggetto il metodo `get_info()` ha stampato i suoi valori particolari e questo è stato possibile perché abbiamo usato la parola chiave `self` nel metodo.\n",
    "\n",
    "Si noti che quando chiamiamo il metodo di un oggetto, non scriviamo l'argomento `self` tra le parentesi. Il parametro `self` (che rappresenta una particolare istanza della classe) viene passato implicitamente al metodo di istanza quando viene chiamato. Esistono quindi due modi per chiamare un metodo di istanza: `self.method()` o `Class.method(self)`. Nel nostro esempio, la situazione sarebbe la seguente:"
   ]
  },
  {
   "cell_type": "code",
   "execution_count": 12,
   "metadata": {},
   "outputs": [
    {
     "name": "stdout",
     "output_type": "stream",
     "text": [
      "La lunghezza del fiume Volga è 3530 km.\n",
      "La lunghezza del fiume Volga è 3530 km.\n"
     ]
    }
   ],
   "source": [
    "# self.method()\n",
    "volga.get_info()\n",
    "\n",
    "# class.method(self)\n",
    "Fiume.get_info(volga)\n"
   ]
  },
  {
   "attachments": {},
   "cell_type": "markdown",
   "metadata": {},
   "source": [
    "### Attributi di istanza\n",
    "\n",
    "Le classi in Python hanno due tipi di attributi: gli *attributi di classe* e gli *attributi di istanza*. Dovreste già sapere cosa sono gli attributi di classe, quindi qui ci concentreremo sugli attributi di istanza. Gli attributi di istanza sono definiti all'interno dei metodi e memorizzano informazioni specifiche do un'istanza.\n",
    "\n",
    "Nella classe `Fiume`, gli attributi `nome` e `lunghezza` sono attributi di istanza, poiché sono definiti all'interno di un metodo (`__init__`) e sono preceduti da `self`. Di solito, gli attributi di istanza vengono creati all'interno del metodo `__init__`, poiché è il costruttore, ma è possibile definire attributi di istanza anche in altri metodi. Tuttavia, non è consigliato, quindi si consiglia di attenersi al metodo `__init__`.\n",
    "\n",
    "Gli attributi di istanza sono disponibili solo nell'ambito dell'oggetto, motivo per cui questo codice produrrà un errore:"
   ]
  },
  {
   "cell_type": "code",
   "execution_count": 13,
   "metadata": {},
   "outputs": [
    {
     "ename": "AttributeError",
     "evalue": "type object 'Fiume' has no attribute 'nome'",
     "output_type": "error",
     "traceback": [
      "\u001b[0;31m---------------------------------------------------------------------------\u001b[0m",
      "\u001b[0;31mAttributeError\u001b[0m                            Traceback (most recent call last)",
      "Cell \u001b[0;32mIn[13], line 1\u001b[0m\n\u001b[0;32m----> 1\u001b[0m \u001b[38;5;28mprint\u001b[39m(\u001b[43mFiume\u001b[49m\u001b[38;5;241;43m.\u001b[39;49m\u001b[43mnome\u001b[49m)\n",
      "\u001b[0;31mAttributeError\u001b[0m: type object 'Fiume' has no attribute 'nome'"
     ]
    }
   ],
   "source": [
    "print(Fiume.nome)"
   ]
  },
  {
   "attachments": {},
   "cell_type": "markdown",
   "metadata": {},
   "source": [
    "Gli attributi di istanza servono a distinguere i diversi oggetti: i loro valori sono diversi per ciascuna delle istanze."
   ]
  },
  {
   "cell_type": "code",
   "execution_count": 14,
   "metadata": {},
   "outputs": [
    {
     "data": {
      "text/plain": [
       "'Volga'"
      ]
     },
     "metadata": {},
     "output_type": "display_data"
    },
    {
     "data": {
      "text/plain": [
       "'Senna'"
      ]
     },
     "metadata": {},
     "output_type": "display_data"
    },
    {
     "data": {
      "text/plain": [
       "'Nilo'"
      ]
     },
     "metadata": {},
     "output_type": "display_data"
    }
   ],
   "source": [
    "display(\n",
    "    volga.nome,\n",
    "    senna.nome,\n",
    "    nilo.nome\n",
    ")"
   ]
  },
  {
   "attachments": {},
   "cell_type": "markdown",
   "metadata": {},
   "source": [
    "Perciò, quando si decide quali attributi definire nel proprio programma, si deve innanzitutto decidere se si vogliono memorizzare valori unici per ogni istanza della classe o, al contrario, condividerli tra tutte le istanze."
   ]
  },
  {
   "attachments": {},
   "cell_type": "markdown",
   "metadata": {},
   "source": [
    "### Riassumendo (istanze)\n",
    "\n",
    "In questo argomento abbiamo imparato a conoscere le istanze di classe.\n",
    "\n",
    "Se una *classe* è un'astrazione, un modello per oggetti simili tra loro, un'*istanza di classe* è una sorta di esempio di quella classe, un oggetto avente la propria unicità ma che segue la struttura delineata nella classe.\n",
    "\n",
    "Nel tuo programma, puoi creare tutti gli oggetti della tua classe di cui hai bisogno.\n",
    "\n",
    "Per creare oggetti con stati iniziali diversi, le classi hanno un *metodo costruttore* `__init__` che consente appunto di inizializzare il nuovo oggetto con tramite i parametri necessari. Per riferirsi a un'istanza particolare all'interno dei metodi, si utilizza la parola chiave `self`. Convenzionalmente nel metodo `__init__` si definiscono gli attributi dell'istanza, che saranno diversi per ciascuna delle istanze che creeremo.\n",
    "\n",
    "Nella maggior parte dei casi, nei nostri programmi non avremo a che fare con le classi in quanto tali, ma piuttosto con le loro istanze, quindi sapere come crearle e lavorare con esse è molto importante!"
   ]
  },
  {
   "attachments": {},
   "cell_type": "markdown",
   "metadata": {},
   "source": [
    "Python distingue tra attributi di classe e attributi di istanza. Gli attributi di classe sono quelli condivisi da tutte le istanze della classe, mentre gli attributi di istanza sono specifici per ogni istanza. Inoltre, gli attributi di classe sono definiti all'interno della classe, ma al di fuori di qualsiasi metodo, mentre gli attributi di istanza sono solitamente definiti all'interno di metodi, in particolare il metodo `__init__`.\n",
    "\n",
    "Vediamo ora in dettaglio la differenza tra attributi di classe e attributi di istanza."
   ]
  },
  {
   "attachments": {},
   "cell_type": "markdown",
   "metadata": {},
   "source": [
    "## Modifica degli attributi\n",
    "\n",
    "Supponiamo di avere una classe `Animale`:"
   ]
  },
  {
   "cell_type": "code",
   "execution_count": 2,
   "metadata": {},
   "outputs": [],
   "source": [
    "class Animale:\n",
    "    tipo = 'mammifero'\n",
    "    n_animali = 0  # numero di animali\n",
    "    nomi_animali = []  # lista dei nomi di tutti gli animali\n",
    "\n",
    "    def __init__(self, specie, nome):\n",
    "        self.specie = specie\n",
    "        self.nome = nome\n",
    "        self.zampe = 4"
   ]
  },
  {
   "attachments": {},
   "cell_type": "markdown",
   "metadata": {},
   "source": [
    "Questa classe ha tre attributi di classe, `tipo`, `n_animali` e `nomi_animali`, e tre attributi di istanza, definiti nel metodo `__init__`, `specie`, `nome` e `zampe`.\n",
    "\n",
    "Creiamo intanto tre istanze di questa classe per poter successivamente vedere come funziona la modifica degli attributi di classe e di istanza in Python:"
   ]
  },
  {
   "cell_type": "code",
   "execution_count": 3,
   "metadata": {},
   "outputs": [],
   "source": [
    "felix = Animale('gatto', 'Felix')\n",
    "fido = Animale('cane', 'Fido')\n",
    "nemo = Animale('pesce rosso', 'Nemo')"
   ]
  },
  {
   "attachments": {},
   "cell_type": "markdown",
   "metadata": {},
   "source": [
    "Abbiamo creato tre istanze della classe `Animale` che hanno gli stessi attributi di classe e diversi attributi di istanza."
   ]
  },
  {
   "attachments": {},
   "cell_type": "markdown",
   "metadata": {},
   "source": [
    "Ora, avrebbe senso cambiare il valore di `n_animali`, perché ora abbiamo più di `0` animali domestici. Poiché `n_animali` è un intero, che è un tipo immutabile, possiamo cambiare il suo valore per l'intera classe solo se vi accediamo direttamente come attributo della classe:"
   ]
  },
  {
   "cell_type": "code",
   "execution_count": 4,
   "metadata": {},
   "outputs": [
    {
     "data": {
      "text/plain": [
       "3"
      ]
     },
     "metadata": {},
     "output_type": "display_data"
    },
    {
     "data": {
      "text/plain": [
       "3"
      ]
     },
     "metadata": {},
     "output_type": "display_data"
    },
    {
     "data": {
      "text/plain": [
       "3"
      ]
     },
     "metadata": {},
     "output_type": "display_data"
    },
    {
     "data": {
      "text/plain": [
       "3"
      ]
     },
     "metadata": {},
     "output_type": "display_data"
    }
   ],
   "source": [
    "# access class attribute directly through the class\n",
    "Animale.n_animali += 3\n",
    "\n",
    "display(\n",
    "    Animale.n_animali,\n",
    "    felix.n_animali,\n",
    "    fido.n_animali,\n",
    "    nemo.n_animali\n",
    ")"
   ]
  },
  {
   "attachments": {},
   "cell_type": "markdown",
   "metadata": {},
   "source": [
    "Se invece provassimo a modificare il valore di `n_animali` tramite le istanze, non funzionerebbe come vorremmo:"
   ]
  },
  {
   "cell_type": "code",
   "execution_count": 5,
   "metadata": {},
   "outputs": [
    {
     "data": {
      "text/plain": [
       "3"
      ]
     },
     "metadata": {},
     "output_type": "display_data"
    },
    {
     "data": {
      "text/plain": [
       "4"
      ]
     },
     "metadata": {},
     "output_type": "display_data"
    },
    {
     "data": {
      "text/plain": [
       "4"
      ]
     },
     "metadata": {},
     "output_type": "display_data"
    },
    {
     "data": {
      "text/plain": [
       "4"
      ]
     },
     "metadata": {},
     "output_type": "display_data"
    }
   ],
   "source": [
    "# accediamo all'attributo della classe attraverso le istanze\n",
    "felix.n_animali += 1\n",
    "fido.n_animali += 1\n",
    "nemo.n_animali += 1\n",
    "\n",
    "display(\n",
    "    Animale.n_animali,\n",
    "    felix.n_animali,\n",
    "    fido.n_animali,\n",
    "    nemo.n_animali\n",
    ")"
   ]
  },
  {
   "attachments": {},
   "cell_type": "markdown",
   "metadata": {},
   "source": [
    "Anche se tutte le istanze hanno accesso agli attributi della classe, se questi attributi sono immutabili, la modifica del loro valore per un'istanza non li cambia per l'intera classe.\n",
    "\n",
    "Lo stesso vale per l'attributo `tipo`, poiché anche le stringhe sono immutabili in Python. Se lo cambiamo per l'oggetto `nemo` (dato che un pesce rosso non è un mammifero), rimarrebbe invariato per gli altri attributi (come dovrebbe essere):"
   ]
  },
  {
   "cell_type": "code",
   "execution_count": 19,
   "metadata": {},
   "outputs": [
    {
     "data": {
      "text/plain": [
       "'mammifero'"
      ]
     },
     "metadata": {},
     "output_type": "display_data"
    },
    {
     "data": {
      "text/plain": [
       "'mammifero'"
      ]
     },
     "metadata": {},
     "output_type": "display_data"
    },
    {
     "data": {
      "text/plain": [
       "'mammifero'"
      ]
     },
     "metadata": {},
     "output_type": "display_data"
    },
    {
     "data": {
      "text/plain": [
       "'pesce'"
      ]
     },
     "metadata": {},
     "output_type": "display_data"
    }
   ],
   "source": [
    "nemo.tipo = 'pesce'\n",
    "\n",
    "display(\n",
    "    Animale.tipo,\n",
    "    felix.tipo,\n",
    "    fido.tipo,\n",
    "    nemo.tipo\n",
    ")"
   ]
  },
  {
   "attachments": {},
   "cell_type": "markdown",
   "metadata": {},
   "source": [
    "In altre parole, se riassegnamo il valore a un attributo di classe tramite un'istanza, questo viene \"personalizzato\" per quell'istanza e il suo valore bypassa quello del rispettivo attributo di classe, il quale rimane invariato.\n",
    "\n",
    "Se invece l'oggetto a cui punta un attributo di classe è mutabile, abbiamo la possibilità di modificarlo senza dover riassegnare il valore all'attributo e quindi l'oggetto a cui punteranno tutte le istanze continuerà ad essere il medesimo."
   ]
  },
  {
   "attachments": {},
   "cell_type": "markdown",
   "metadata": {},
   "source": [
    "Nel caso in cui le istanze (oggetti unici) che devono avere un valore diverso dall'attributo di classe sono relativamente poche, questo approccio potrebbe anche andare bene. Tuttavia, se ci sono molti oggetti di questo che richiedono un valore \"custom\", si dovrebbe considerare di rendere questo attributo un attributo di istanza e inizializzarlo tramite il metodo costruttore `__init__`.\n",
    "\n",
    "La situazione dell'attributo `nomi_animali` è diversa. L'attributo `nomi_animali` è una lista. Essendo una lista mutabile, le modifiche che apportiamo ad essa si riflettono sull'intera classe. Per esempio:"
   ]
  },
  {
   "cell_type": "code",
   "execution_count": 20,
   "metadata": {},
   "outputs": [
    {
     "data": {
      "text/plain": [
       "['Felix', 'Fido', 'Nemo']"
      ]
     },
     "metadata": {},
     "output_type": "display_data"
    },
    {
     "data": {
      "text/plain": [
       "['Felix', 'Fido', 'Nemo']"
      ]
     },
     "metadata": {},
     "output_type": "display_data"
    },
    {
     "data": {
      "text/plain": [
       "['Felix', 'Fido', 'Nemo']"
      ]
     },
     "metadata": {},
     "output_type": "display_data"
    },
    {
     "data": {
      "text/plain": [
       "['Felix', 'Fido', 'Nemo']"
      ]
     },
     "metadata": {},
     "output_type": "display_data"
    }
   ],
   "source": [
    "felix.nomi_animali.append(felix.nome)\n",
    "fido.nomi_animali.append(fido.nome)\n",
    "nemo.nomi_animali.append(nemo.nome)\n",
    "\n",
    "display(\n",
    "    Animale.nomi_animali,\n",
    "    felix.nomi_animali,\n",
    "    fido.nomi_animali,\n",
    "    nemo.nomi_animali\n",
    ")"
   ]
  },
  {
   "attachments": {},
   "cell_type": "markdown",
   "metadata": {},
   "source": [
    "Se per qualche motivo volessimo che l'attributo `nomi_animali` della classe memorizzasse valori diversi per istanze diverse, potremmo farlo creando un nuovo elenco invece di aggiungerlo a quello esistente:"
   ]
  },
  {
   "cell_type": "code",
   "execution_count": 22,
   "metadata": {},
   "outputs": [
    {
     "data": {
      "text/plain": [
       "['Felix', 'Fido', 'Nemo']"
      ]
     },
     "metadata": {},
     "output_type": "display_data"
    },
    {
     "data": {
      "text/plain": [
       "['Felix']"
      ]
     },
     "metadata": {},
     "output_type": "display_data"
    },
    {
     "data": {
      "text/plain": [
       "['Fido']"
      ]
     },
     "metadata": {},
     "output_type": "display_data"
    },
    {
     "data": {
      "text/plain": [
       "['Nemo']"
      ]
     },
     "metadata": {},
     "output_type": "display_data"
    }
   ],
   "source": [
    "felix.nomi_animali = ['Felix']\n",
    "fido.nomi_animali = ['Fido']\n",
    "nemo.nomi_animali = ['Nemo']\n",
    "\n",
    "display(\n",
    "    Animale.nomi_animali,\n",
    "    felix.nomi_animali,\n",
    "    fido.nomi_animali,\n",
    "    nemo.nomi_animali\n",
    ")"
   ]
  },
  {
   "attachments": {},
   "cell_type": "markdown",
   "metadata": {},
   "source": [
    "Ma questo non sembra molto conveniente o necessario: dopo tutto, questo è un attributo di classe e l'idea alla base è che memorizzi valori comuni a tutte le istanze. Quindi, ancora una volta, se vuoi che un attributo memorizzi valori unici, è più logico renderlo direttamente un attributo di istanza.\n",
    "\n",
    "Come, ad esempio, la variabile `zampe`. È un attributo di istanza, anche se non viene passato esplicitamente come argomento del metodo `__init__`. Il valore predefinito è `4`, ma possiamo cambiarlo se ne abbiamo bisogno. Sarebbe utile per l'oggetto `nemo`, perché il pesce non ha le zampe (ha le pinne, ma lasciamo la questione se una pinna possa essere considerata una zampa in questo contesto per un'altra volta). Ecco come cambiare il valore delle gambe per l'oggetto ben:"
   ]
  },
  {
   "cell_type": "code",
   "execution_count": 23,
   "metadata": {},
   "outputs": [],
   "source": [
    "nemo.zampe = 0"
   ]
  },
  {
   "attachments": {},
   "cell_type": "markdown",
   "metadata": {},
   "source": [
    "Non ci sono particolari altre attenzioni da prestare con la modifica degli attributi di istanza perché, come abbiamo detto, riguardano un solo oggetto.\n",
    "\n",
    "Tuttavia bisogna fare particolare attenzione quando si assegnano e successivamente si modificano degli oggetti mutabili."
   ]
  },
  {
   "attachments": {},
   "cell_type": "markdown",
   "metadata": {},
   "source": [
    "### Assegnazione e modifica di oggetti mutabili a livello di istanza\n",
    "\n",
    "Un altro modo di vedere la questione è in termini di assegnazione e ri-assegnazione.\n",
    "\n",
    "Gli operatori `=`, `+=` e simili sono operatori di assegnazione. Quando si cerca di modificare l'attributo della classe dall'istanza usando questi operatori, si crea essenzialmente un nuovo attributo di istanza per quel particolare oggetto. Questo è il motivo per cui le altre istanze e la classe stessa non sono influenzate da questa modifica, perché abbiamo assegnato un valore a un attributo di istanza appena creato.\n",
    "\n",
    "Al contrario, l'aggiunta di un nuovo elemento all'elenco con `append` ha un effetto ben diverso perché non avviene alcuna riassegnazione ma solo una modifica dell'elenco esistente.\n",
    "\n",
    "Consideriamo il seguente esempio in cui utilizziamo lo stesso oggetto mutabile per inizializzare due oggetti diversi:"
   ]
  },
  {
   "cell_type": "code",
   "execution_count": 24,
   "metadata": {},
   "outputs": [
    {
     "data": {
      "text/plain": [
       "['gomma', 'matita']"
      ]
     },
     "metadata": {},
     "output_type": "display_data"
    },
    {
     "data": {
      "text/plain": [
       "['gomma', 'matita']"
      ]
     },
     "metadata": {},
     "output_type": "display_data"
    }
   ],
   "source": [
    "class Scatola:\n",
    "    def __init__(self, contenuto):\n",
    "        self.contenuto = contenuto\n",
    "\n",
    "lista_default = ['gomma']\n",
    "\n",
    "scatola1 = Scatola(lista_default)  # Inizializzato con il medesimo oggetto mutabile\n",
    "scatola2 = Scatola(lista_default)  # Inizializzato con il medesimo oggetto mutabile\n",
    "\n",
    "scatola1.contenuto.append('matita')\n",
    "\n",
    "display(\n",
    "    scatola1.contenuto,\n",
    "    scatola2.contenuto\n",
    ")"
   ]
  },
  {
   "attachments": {},
   "cell_type": "markdown",
   "metadata": {},
   "source": [
    "Qua sopra, anche se `contenuto` è un attributo di istanza perché è definito nel metodo `__init__`, esso punta sempre al medesimo oggetto mutabile (la lista `lista_default`). Quindi se alteriamo questa lista, l'alterazione si rifletterà su tutte le istanze.\n",
    "\n",
    "Attenzione anche al seguente esempio:"
   ]
  },
  {
   "cell_type": "code",
   "execution_count": 25,
   "metadata": {},
   "outputs": [
    {
     "data": {
      "text/plain": [
       "['gomma', 'matita']"
      ]
     },
     "metadata": {},
     "output_type": "display_data"
    },
    {
     "data": {
      "text/plain": [
       "['gomma', 'matita']"
      ]
     },
     "metadata": {},
     "output_type": "display_data"
    }
   ],
   "source": [
    "class Scatola:\n",
    "    def __init__(self, contenuto=['gomma']):  # Parametro di default mutabile !!\n",
    "        self.contenuto = contenuto\n",
    "\n",
    "scatola1 = Scatola()\n",
    "scatola2 = Scatola()\n",
    "\n",
    "scatola1.contenuto.append('matita')\n",
    "\n",
    "display(\n",
    "    scatola1.contenuto,\n",
    "    scatola2.contenuto\n",
    ")"
   ]
  },
  {
   "attachments": {},
   "cell_type": "markdown",
   "metadata": {},
   "source": [
    "Mai usare degli oggetti mutabili come parametri di default di funzioni! Questo perché i parametri di default vengono creati durante la definizione delle funzioni e ogni volta che la funzione viene invocata, essa usa l'oggetto \"default\" creato inizialmente.\n",
    "\n",
    "Piuttosto in modo che una nuova lista `['gomma']` venga creata ogni volta che viene eseguito `__init__`, per esempio in questo modo:"
   ]
  },
  {
   "cell_type": "code",
   "execution_count": 26,
   "metadata": {},
   "outputs": [
    {
     "data": {
      "text/plain": [
       "['gomma', 'matita']"
      ]
     },
     "metadata": {},
     "output_type": "display_data"
    },
    {
     "data": {
      "text/plain": [
       "['gomma']"
      ]
     },
     "metadata": {},
     "output_type": "display_data"
    }
   ],
   "source": [
    "class Scatola:\n",
    "    def __init__(self, contenuto=None):\n",
    "        self.contenuto = contenuto or ['gomma']\n",
    "\n",
    "scatola1 = Scatola()\n",
    "scatola2 = Scatola()\n",
    "\n",
    "scatola1.contenuto.append('matita')\n",
    "\n",
    "display(\n",
    "    scatola1.contenuto,\n",
    "    scatola2.contenuto\n",
    ")"
   ]
  },
  {
   "attachments": {},
   "cell_type": "markdown",
   "metadata": {},
   "source": [
    "### Aggiunta di attributi\n",
    "\n",
    "Oltre a modificare gli attributi, si possono anche creare attributi per la classe o per una particolare istanza. Per esempio, vogliamo visualizzare le informazioni sulla specie di tutti i nostri animali domestici. Potremmo scriverle nella classe stessa fin dall'inizio, oppure creare una variabile `specie_tutte` come questa:"
   ]
  },
  {
   "cell_type": "code",
   "execution_count": 1,
   "metadata": {},
   "outputs": [
    {
     "ename": "NameError",
     "evalue": "name 'felix' is not defined",
     "output_type": "error",
     "traceback": [
      "\u001b[0;31m---------------------------------------------------------------------------\u001b[0m",
      "\u001b[0;31mNameError\u001b[0m                                 Traceback (most recent call last)",
      "Cell \u001b[0;32mIn[1], line 1\u001b[0m\n\u001b[0;32m----> 1\u001b[0m Animale\u001b[38;5;241m.\u001b[39mspecie_tutte \u001b[38;5;241m=\u001b[39m [\u001b[43mfelix\u001b[49m\u001b[38;5;241m.\u001b[39mspecie, fido\u001b[38;5;241m.\u001b[39mspecie, nemo\u001b[38;5;241m.\u001b[39mspecie]\n\u001b[1;32m      3\u001b[0m display(\n\u001b[1;32m      4\u001b[0m     felix\u001b[38;5;241m.\u001b[39mspecie_tutte,\n\u001b[1;32m      5\u001b[0m     fido\u001b[38;5;241m.\u001b[39mspecie_tutte,\n\u001b[1;32m      6\u001b[0m     nemo\u001b[38;5;241m.\u001b[39mspecie_tutte\n\u001b[1;32m      7\u001b[0m )\n",
      "\u001b[0;31mNameError\u001b[0m: name 'felix' is not defined"
     ]
    }
   ],
   "source": [
    "Animale.specie_tutte = [felix.specie, fido.specie, nemo.specie]\n",
    "\n",
    "display(\n",
    "    felix.specie_tutte,\n",
    "    fido.specie_tutte,\n",
    "    nemo.specie_tutte\n",
    ")"
   ]
  },
  {
   "attachments": {},
   "cell_type": "markdown",
   "metadata": {},
   "source": [
    "Un'altra cosa che si può fare è creare un attributo per un'istanza specifica. Per esempio, vogliamo ricordare la razza del cane chiamato Avocado. Le razze sono di solito rilevanti nel contesto dei cani (o dei gatti), quindi ha senso che vogliamo che solo il nostro cane abbia questa informazione:"
   ]
  },
  {
   "cell_type": "code",
   "execution_count": 28,
   "metadata": {},
   "outputs": [],
   "source": [
    "fido.razza = \"dobermann\""
   ]
  },
  {
   "attachments": {},
   "cell_type": "markdown",
   "metadata": {},
   "source": [
    "Qui abbiamo creato un attributo `razza` per l'oggetto `fido` e gli abbiamo assegnato il valore `'dobermann'`. Le altre istanze della classe Pet e la classe stessa non avrebbero questo attributo, quindi le righe di codice seguenti causerebbero un errore:"
   ]
  },
  {
   "cell_type": "code",
   "execution_count": 29,
   "metadata": {},
   "outputs": [
    {
     "ename": "AttributeError",
     "evalue": "type object 'Animale' has no attribute 'razza'",
     "output_type": "error",
     "traceback": [
      "\u001b[0;31m---------------------------------------------------------------------------\u001b[0m",
      "\u001b[0;31mAttributeError\u001b[0m                            Traceback (most recent call last)",
      "Cell \u001b[0;32mIn[29], line 1\u001b[0m\n\u001b[0;32m----> 1\u001b[0m \u001b[43mAnimale\u001b[49m\u001b[38;5;241;43m.\u001b[39;49m\u001b[43mrazza\u001b[49m  \u001b[38;5;66;03m# AttributeError\u001b[39;00m\n\u001b[1;32m      2\u001b[0m felix\u001b[38;5;241m.\u001b[39mrazza    \u001b[38;5;66;03m# AttributeError\u001b[39;00m\n\u001b[1;32m      3\u001b[0m nemo\u001b[38;5;241m.\u001b[39mrazza     \u001b[38;5;66;03m# AttributeError\u001b[39;00m\n",
      "\u001b[0;31mAttributeError\u001b[0m: type object 'Animale' has no attribute 'razza'"
     ]
    }
   ],
   "source": [
    "Animale.razza  # AttributeError\n",
    "felix.razza    # AttributeError\n",
    "nemo.razza     # AttributeError"
   ]
  },
  {
   "cell_type": "markdown",
   "metadata": {},
   "source": [
    "### Controllare se un attributo appartiene alla classe o all'istanza"
   ]
  },
  {
   "cell_type": "markdown",
   "metadata": {},
   "source": [
    "Possiamo controllare il contenuto dei *namespace* dei nostri oggetti in vari modi:"
   ]
  },
  {
   "cell_type": "code",
   "execution_count": null,
   "metadata": {},
   "outputs": [
    {
     "data": {
      "text/plain": [
       "['__class__',\n",
       " '__delattr__',\n",
       " '__dict__',\n",
       " '__dir__',\n",
       " '__doc__',\n",
       " '__eq__',\n",
       " '__format__',\n",
       " '__ge__',\n",
       " '__getattribute__',\n",
       " '__getstate__',\n",
       " '__gt__',\n",
       " '__hash__',\n",
       " '__init__',\n",
       " '__init_subclass__',\n",
       " '__le__',\n",
       " '__lt__',\n",
       " '__module__',\n",
       " '__ne__',\n",
       " '__new__',\n",
       " '__reduce__',\n",
       " '__reduce_ex__',\n",
       " '__repr__',\n",
       " '__setattr__',\n",
       " '__sizeof__',\n",
       " '__str__',\n",
       " '__subclasshook__',\n",
       " '__weakref__',\n",
       " 'n_animali',\n",
       " 'nome',\n",
       " 'nomi_animali',\n",
       " 'specie',\n",
       " 'specie_tutte',\n",
       " 'tipo',\n",
       " 'zampe']"
      ]
     },
     "metadata": {},
     "output_type": "display_data"
    }
   ],
   "source": [
    "dir(Animale)\n",
    "dir(felix)\n",
    "\n",
    "# vars(Animale)\n",
    "# vars(felix)\n",
    "\n",
    "# Animale.__dict__\n",
    "# felix.__dict__"
   ]
  },
  {
   "cell_type": "code",
   "execution_count": null,
   "metadata": {},
   "outputs": [
    {
     "data": {
      "text/plain": [
       "True"
      ]
     },
     "metadata": {},
     "output_type": "display_data"
    },
    {
     "data": {
      "text/plain": [
       "True"
      ]
     },
     "metadata": {},
     "output_type": "display_data"
    },
    {
     "data": {
      "text/plain": [
       "True"
      ]
     },
     "metadata": {},
     "output_type": "display_data"
    },
    {
     "data": {
      "text/plain": [
       "True"
      ]
     },
     "metadata": {},
     "output_type": "display_data"
    },
    {
     "data": {
      "text/plain": [
       "True"
      ]
     },
     "metadata": {},
     "output_type": "display_data"
    },
    {
     "data": {
      "text/plain": [
       "False"
      ]
     },
     "metadata": {},
     "output_type": "display_data"
    }
   ],
   "source": [
    "display(\n",
    "    hasattr(Animale, 'n_animali'),\n",
    "    hasattr(felix, 'n_animali')\n",
    ")\n",
    "\n",
    "display(\n",
    "    'n_animali' in vars(Animale),  # Animale.__dict__\n",
    "    'n_animali' in vars(felix)\n",
    ")\n",
    "\n",
    "display(\n",
    "    '__init__' in vars(Animale),\n",
    "    '__init__' in vars(felix)\n",
    ")\n"
   ]
  },
  {
   "attachments": {},
   "cell_type": "markdown",
   "metadata": {},
   "source": [
    "### Riassumendo (attributi)\n",
    "\n",
    "In questo argomento abbiamo mostrato le differenze nell'uso degli attributi di classe e degli attributi di istanza."
   ]
  },
  {
   "attachments": {},
   "cell_type": "markdown",
   "metadata": {},
   "source": [
    "Gli _**attributi di classe**_ sono utilizzati per memorizzare informazioni disponibili per tutte le istanze della classe, ma il loro utilizzo può essere complicato se non si tiene conto del tipo di variabile.\n",
    "\n",
    "Quindi, in quali casi dovremmo usare gli attributi di classe? Innanzitutto, se vogliamo definire valori predefiniti per tutti gli oggetti. In secondo luogo, per memorizzare le costanti necessarie specifiche della classe (ad esempio, quelle matematiche). Infine, per tenere sotto controllo i dati di tutti gli oggetti, come nell'esempio di pet_names. Si potrebbe voler accedere facilmente a informazioni particolari di ogni istanza della propria classe e, in questo caso, si potrebbe usare un attributo di classe mutabile.\n",
    "\n",
    "Ricordate che il modo in cui i valori degli attributi di classe cambiano dipende dal fatto che siano mutabili o meno. Tenetene conto quando scrivete il programma e gestite gli oggetti della classe!"
   ]
  },
  {
   "attachments": {},
   "cell_type": "markdown",
   "metadata": {},
   "source": [
    "Gli _**attributi di istanza**_, invece, memorizzano informazioni diverse per ogni istanza, ed è ovviamente la loro funzione principale. La modifica e l'aggiunta di nuovi attributi di istanza può avere effetto solo su un singolo oggetto, ma bisogna comunque prestare attenzione alle modifiche apportate.\n",
    "\n",
    "Ci auguriamo che ora conosciate la differenza tra attributi di classe e di istanza e che li usiate con successo nei vostri programmi!"
   ]
  },
  {
   "attachments": {},
   "cell_type": "markdown",
   "metadata": {},
   "source": [
    "## Ereditarietà in Python\n",
    "\n",
    "Uno dei principi fondamentali della programmazione orientata agli oggetti è l'ereditarietà. In questo argomento ci concentreremo sull'ereditarietà in Python: cosa significa e come si fa."
   ]
  },
  {
   "attachments": {},
   "cell_type": "markdown",
   "metadata": {},
   "source": [
    "### Che cos'è l'ereditarietà?\n",
    "\n",
    "L'ereditarietà è un meccanismo che consente alle classi di ereditare metodi o proprietà da altre classi. In altre parole, l'ereditarietà è un meccanismo che consente di derivare nuove classi da quelle esistenti.\n",
    "\n",
    "Lo scopo dell'ereditarietà è quello di riutilizzare il codice esistente. Spesso gli oggetti di una classe possono assomigliare a quelli di un'altra classe, quindi, invece di riscrivere gli stessi metodi e attributi, possiamo fare in modo che una classe erediti tali metodi e attributi da un'altra classe.\n",
    "\n",
    "Quando si parla di ereditarietà, la terminologia assomiglia all'ereditarietà biologica: abbiamo classi figlie (o sottoclassi, classi derivate) che ereditano metodi o attributi da classi genitore (o classi base, superclassi). Le classi figlio possono anche ridefinire i metodi della classe genitore, se necessario."
   ]
  },
  {
   "attachments": {},
   "cell_type": "markdown",
   "metadata": {},
   "source": [
    "### Oggetto classe\n",
    "\n",
    "L'ereditarietà è molto semplice da implementare nei programmi. Qualsiasi classe può essere una classe genitore, quindi è sufficiente scrivere il nome della classe genitore tra parentesi dopo la classe figlio:"
   ]
  },
  {
   "cell_type": "code",
   "execution_count": null,
   "metadata": {},
   "outputs": [],
   "source": [
    "# sintassi per l'ereditarietà\n",
    "class ClasseFiglia(ClasseGenitore):\n",
    "    # attributi e metodi\n",
    "    ..."
   ]
  },
  {
   "attachments": {},
   "cell_type": "markdown",
   "metadata": {},
   "source": [
    "La definizione della classe madre deve precedere quella della classe figlia, altrimenti si otterrà un `NameError`! Se una classe ha diverse sottoclassi, la sua definizione deve precederle tutte. Le classi \"sorelle\" (*sibling*) possono essere definite in qualsiasi ordine.\n",
    "\n",
    "Se non si definisce un genitore per una classe, non significa che non ne abbia uno! Per impostazione predefinita, tutte le classi hanno come genitore la classe `object`. In Python 3.x non è necessario indicarlo esplicitamente, quindi le definizioni seguenti sono equivalenti:"
   ]
  },
  {
   "cell_type": "code",
   "execution_count": null,
   "metadata": {},
   "outputs": [],
   "source": [
    "# la classe genitore è esplicitata\n",
    "class MiaClasse(object):\n",
    "    # attributi e metodi\n",
    "    ...\n",
    "\n",
    "\n",
    "# la classe genitore è implicita\n",
    "class MiaClasse:\n",
    "    # attributi e metodi\n",
    "    ..."
   ]
  },
  {
   "cell_type": "code",
   "execution_count": 47,
   "metadata": {},
   "outputs": [
    {
     "name": "stdout",
     "output_type": "stream",
     "text": [
      "['__abstractmethods__', '__annotations__', '__base__', '__bases__', '__basicsize__', '__call__', '__class__', '__delattr__', '__dict__', '__dictoffset__', '__dir__', '__doc__', '__eq__', '__flags__', '__format__', '__ge__', '__getattribute__', '__getstate__', '__gt__', '__hash__', '__init__', '__init_subclass__', '__instancecheck__', '__itemsize__', '__le__', '__lt__', '__module__', '__mro__', '__name__', '__ne__', '__new__', '__or__', '__prepare__', '__qualname__', '__reduce__', '__reduce_ex__', '__repr__', '__ror__', '__setattr__', '__sizeof__', '__str__', '__subclasscheck__', '__subclasses__', '__subclasshook__', '__text_signature__', '__weakrefoffset__', 'mro']\n",
      "['__class__', '__delattr__', '__dir__', '__doc__', '__eq__', '__format__', '__ge__', '__getattribute__', '__getstate__', '__gt__', '__hash__', '__init__', '__init_subclass__', '__le__', '__lt__', '__ne__', '__new__', '__reduce__', '__reduce_ex__', '__repr__', '__setattr__', '__sizeof__', '__str__', '__subclasshook__']\n"
     ]
    }
   ],
   "source": [
    "print(dir(type))\n",
    "print(dir(object))"
   ]
  },
  {
   "attachments": {},
   "cell_type": "markdown",
   "metadata": {},
   "source": [
    "Le sottoclassi di `object` ne ereditano i metodi e gli attributi. Quindi, tutti i metodi standard come `__init__` o `__repr__` sono ereditati dalla classe `object`. Se non ridefiniamo questi metodi per le nostre classi personalizzate, finiremo per utilizzare le loro implementazioni definite per la classe `object`."
   ]
  },
  {
   "attachments": {},
   "cell_type": "markdown",
   "metadata": {},
   "source": [
    "### Ereditarietà singola\n",
    "\n",
    "A differenza di altri linguaggi di programmazione, Python supporta due forme di ereditarietà: singola e multipla. L'ereditarietà singola si ha quando una classe figlia eredita da una sola classe genitore. L'ereditarietà multipla si ha quando una classe figlio eredita da più classi genitore. Per ora vediamo l'ereditarietà singola.\n",
    "\n",
    "Consideriamo un esempio di ereditarietà singola."
   ]
  },
  {
   "cell_type": "code",
   "execution_count": 109,
   "metadata": {},
   "outputs": [],
   "source": [
    "# classe genitore\n",
    "class Animale:\n",
    "    def __init__(self, nome):\n",
    "        self.nome = nome\n",
    "\n",
    "# classe figlia\n",
    "class Cane(Animale):\n",
    "    pass"
   ]
  },
  {
   "attachments": {},
   "cell_type": "markdown",
   "metadata": {},
   "source": [
    "Qui abbiamo una classe base `Animale` con il metodo `__init__` e una sottoclasse `Cane` che eredita dalla classe base. La parola chiave `pass` ci permette di non scrivere nulla nella definizione della classe figlia.\n",
    "\n",
    "Ora che abbiamo definito le classi, possiamo creare gli oggetti:"
   ]
  },
  {
   "cell_type": "code",
   "execution_count": 113,
   "metadata": {},
   "outputs": [],
   "source": [
    "mucca = Animale('Alvaro')  # istanza di Animale\n",
    "dobermann = Cane('Fido')   # istanza di Cane"
   ]
  },
  {
   "attachments": {},
   "cell_type": "markdown",
   "metadata": {},
   "source": [
    "Non abbiamo definito il metodo `__init__` per la classe `Cane`, ma poiché è figlia di `Animale`, ne ha ereditato l'`__init__`. Quindi, se provassimo a dichiarare un'istanza della classe `Cane` in un modo diverso, otterremmo un errore:"
   ]
  },
  {
   "cell_type": "code",
   "execution_count": 111,
   "metadata": {},
   "outputs": [
    {
     "ename": "TypeError",
     "evalue": "Animale.__init__() missing 1 required positional argument: 'nome'",
     "output_type": "error",
     "traceback": [
      "\u001b[0;31m---------------------------------------------------------------------------\u001b[0m",
      "\u001b[0;31mTypeError\u001b[0m                                 Traceback (most recent call last)",
      "Cell \u001b[0;32mIn[111], line 1\u001b[0m\n\u001b[0;32m----> 1\u001b[0m labrador \u001b[39m=\u001b[39m Cane()  \u001b[39m# TypeError\u001b[39;00m\n",
      "\u001b[0;31mTypeError\u001b[0m: Animale.__init__() missing 1 required positional argument: 'nome'"
     ]
    }
   ],
   "source": [
    "labrador = Cane()"
   ]
  },
  {
   "attachments": {},
   "cell_type": "markdown",
   "metadata": {},
   "source": [
    "### `type()` Vs `isinstance()`\n",
    "\n",
    "Esistono due modi principali per verificare il tipo di un oggetto: le funzioni `type()` o `isinstance()`.\n",
    "\n",
    "La funzione `type()` accetta un solo argomento, un oggetto, e ne restituisce il tipo.\n",
    "\n",
    "La funzione `isinstance()` accetta due argomenti: un oggetto e una classe. Verifica se l'oggetto dato è un'istanza della classe data e restituisce un valore booleano.\n",
    "\n",
    "Per i tipi built-in funzionano allo stesso modo, ma quando è coinvolta l'ereditarietà, i risultati sono diversi. Verifichiamo!\n",
    "\n",
    "Per prima cosa, esaminiamo la funzione `type()`:"
   ]
  },
  {
   "cell_type": "code",
   "execution_count": 114,
   "metadata": {},
   "outputs": [
    {
     "name": "stdout",
     "output_type": "stream",
     "text": [
      "True\n",
      "False\n",
      "False\n",
      "True\n"
     ]
    }
   ],
   "source": [
    "print(type(mucca) == Animale)      # True\n",
    "print(type(dobermann) == Animale)  # False\n",
    "\n",
    "print(type(mucca) == Cane)         # False\n",
    "print(type(dobermann) == Cane)     # True"
   ]
  },
  {
   "attachments": {},
   "cell_type": "markdown",
   "metadata": {},
   "source": [
    "Come si può vedere, questo ci permette di verificare il tipo immediato dell'oggetto.\n",
    "\n",
    "`isinstance()` invece funziona in modo diverso:"
   ]
  },
  {
   "cell_type": "code",
   "execution_count": 115,
   "metadata": {},
   "outputs": [
    {
     "name": "stdout",
     "output_type": "stream",
     "text": [
      "True\n",
      "True\n",
      "False\n",
      "True\n"
     ]
    }
   ],
   "source": [
    "print(isinstance(mucca, Animale))      # True\n",
    "print(isinstance(dobermann, Animale))  # True\n",
    "\n",
    "print(isinstance(mucca, Cane))         # False\n",
    "print(isinstance(dobermann, Cane))     # True"
   ]
  },
  {
   "attachments": {},
   "cell_type": "markdown",
   "metadata": {},
   "source": [
    "In questo modo, otteniamo `True` non solo con il *tipo* immediato/diretto, ma anche con il *tipo genitore* e funzionerebbe anche con il *genitore del tipo genitore* e così via nella catena di ereditarietà.\n",
    "\n",
    "Questa è una distinzione importante da ricordare!"
   ]
  },
  {
   "attachments": {},
   "cell_type": "markdown",
   "metadata": {},
   "source": [
    "### `issubclass()`\n",
    "\n",
    "Mentre `isinstance()` verifica il tipo di un'istanza di una classe, un'altra funzione integrata chiede se una data classe è una sottoclasse di un'altra classe:"
   ]
  },
  {
   "cell_type": "code",
   "execution_count": 116,
   "metadata": {},
   "outputs": [
    {
     "name": "stdout",
     "output_type": "stream",
     "text": [
      "True\n",
      "False\n",
      "True\n"
     ]
    },
    {
     "ename": "TypeError",
     "evalue": "issubclass() arg 1 must be a class",
     "output_type": "error",
     "traceback": [
      "\u001b[0;31m---------------------------------------------------------------------------\u001b[0m",
      "\u001b[0;31mTypeError\u001b[0m                                 Traceback (most recent call last)",
      "Cell \u001b[0;32mIn[116], line 5\u001b[0m\n\u001b[1;32m      2\u001b[0m \u001b[39mprint\u001b[39m(\u001b[39missubclass\u001b[39m(Animale, Cane))  \u001b[39m# False\u001b[39;00m\n\u001b[1;32m      4\u001b[0m \u001b[39mprint\u001b[39m(\u001b[39missubclass\u001b[39m(Cane, Cane))      \u001b[39m# True\u001b[39;00m\n\u001b[0;32m----> 5\u001b[0m \u001b[39mprint\u001b[39m(\u001b[39missubclass\u001b[39;49m(dobermann, Cane)) \u001b[39m# TypeError\u001b[39;00m\n",
      "\u001b[0;31mTypeError\u001b[0m: issubclass() arg 1 must be a class"
     ]
    }
   ],
   "source": [
    "print(issubclass(Cane, Animale))  # True\n",
    "print(issubclass(Animale, Cane))  # False\n",
    "\n",
    "print(issubclass(Cane, Cane))      # True\n",
    "print(issubclass(dobermann, Cane)) # TypeError"
   ]
  },
  {
   "attachments": {},
   "cell_type": "markdown",
   "metadata": {},
   "source": [
    "Come mostrato, la funzione `issubclass()` restituisce `True` se la prima classe eredita dalla seconda e `False` altrimenti. Ogni classe è considerata una sottoclasse di se stessa. Si noti che la funzione non può lavorare con le istanze di una classe: entrambi i suoi argomenti devono essere classi. Tuttavia, è possibile utilizzare una tupla di classi per verificare se la propria classe eredita da una qualsiasi delle classi presenti nella tupla."
   ]
  },
  {
   "cell_type": "code",
   "execution_count": 117,
   "metadata": {},
   "outputs": [
    {
     "name": "stdout",
     "output_type": "stream",
     "text": [
      "True\n",
      "True\n"
     ]
    }
   ],
   "source": [
    "print(issubclass(Cane, object))             # True\n",
    "print(issubclass(Cane, (Animale, object)))  # True"
   ]
  },
  {
   "attachments": {},
   "cell_type": "markdown",
   "metadata": {},
   "source": [
    "Il caso di più classi potrebbe però essere fuorviante. Il fatto è che la funzione controlla se un qualunque elemento della tupla sia un genitore. Supponiamo di aver definito una nuova classe `Robot`:"
   ]
  },
  {
   "cell_type": "code",
   "execution_count": 119,
   "metadata": {},
   "outputs": [],
   "source": [
    "class Robot:\n",
    "    pass"
   ]
  },
  {
   "attachments": {},
   "cell_type": "markdown",
   "metadata": {},
   "source": [
    "Allora `issubclass()` restituirà quanto segue:"
   ]
  },
  {
   "cell_type": "code",
   "execution_count": 120,
   "metadata": {},
   "outputs": [
    {
     "name": "stdout",
     "output_type": "stream",
     "text": [
      "False\n",
      "True\n"
     ]
    }
   ],
   "source": [
    "print(issubclass(Cane, Robot))             # False\n",
    "print(issubclass(Cane, (Robot, Animale)))  # True"
   ]
  },
  {
   "attachments": {},
   "cell_type": "markdown",
   "metadata": {},
   "source": [
    "Anche se `Cane` non ha nulla a che fare con `Robot`, nell'ultimo caso abbiamo ottenuto `True`. Tenete quindi presente questo dettaglio quando usate questa funzione."
   ]
  },
  {
   "attachments": {},
   "cell_type": "markdown",
   "metadata": {},
   "source": [
    "### Riassumendo (ereditarietà)\n",
    "\n",
    "L'ereditarietà è molto importante, tanté che è considerata uno dei pilastri della OOP. In Python, dichiarare le classi genitore è abbastanza semplice e diretto. In questa sezione, abbiamo trattato le basi dell'ereditarietà: come si fa, cos'è l'oggetto classe, come definire un singolo genitore per la classe e verificare il tipo di un oggetto o di una classe senza errori.\n",
    "\n",
    "L'ereditarietà è ciò che rende le classi così potenti e utili. Inoltre, ti aiuta ad attenerti al principio \"DRY\" (*Don't Repeat Yourself*) e a strutturare il codice in modo più efficacie e chiaro."
   ]
  },
  {
   "attachments": {},
   "cell_type": "markdown",
   "metadata": {},
   "source": [
    "## Override dei metodi\n",
    "\n",
    "Un altro concetto importante della programmazione orientata agli oggetti è l'_**overriding**_. L'*overriding* è la capacità di una classe di modificare l'implementazione dei metodi ereditati dalle sue classi antenate.\n",
    "\n",
    "Questa caratteristica è estremamente utile, perché ci permette di beneficiare dell'ereditarietà in tutto il suo potenziale. Non solo possiamo riutilizzare il codice e le implementazioni dei metodi esistenti, ma anche aggiornarli e modificarne il comportamento, se necessario.\n",
    "\n",
    "L'overriding è un concetto applicabile solo alle gerarchie di classi: senza ereditarietà, non si può parlare di overriding dei metodi.\n",
    "\n",
    "Consideriamo questo esempio di gerarchia di classi:"
   ]
  },
  {
   "cell_type": "code",
   "execution_count": null,
   "metadata": {},
   "outputs": [],
   "source": [
    "class Genitore:\n",
    "    def fai_qualcosa(self):\n",
    "        print(\"Ho fatto qualcosa\")\n",
    "\n",
    "\n",
    "class Figlio(Genitore):\n",
    "    def fai_qualcosa(self):\n",
    "        print(\"Ho fatto qualcos'altro\")\n",
    "\n",
    "\n",
    "genitore = Genitore()\n",
    "figlio = Figlio()\n",
    "\n",
    "genitore.fai_qualcosa()  # Ho fatto qualcosa\n",
    "figlio.fai_qualcosa()  # Ho fatto qualcos'altro\n"
   ]
  },
  {
   "attachments": {},
   "cell_type": "markdown",
   "metadata": {},
   "source": [
    "In questo caso, il metodo `fai qualcosa` è sovrascritto nella classe `Figlio`. Se non fosse stato sovrascritto, il metodo avrebbe avuto la stessa implementazione della classe `Genitore` e il codice `figlio.fai_qualcosa()` avrebbe stampato quindi `\"Ho fatto qualcosa\"`.\n",
    "\n",
    "Ma se dovessimo fare l'override del metodo ma non perdere il codice che è definito nella classe `Genitore?`? Qui entra in gioco la funzione `super()`!"
   ]
  },
  {
   "attachments": {},
   "cell_type": "markdown",
   "metadata": {},
   "source": [
    "### La funzione `super()`\n",
    "\n",
    "Python ha una funzione speciale per chiamare il metodo della classe genitore all'interno dei metodi della classe figlio: la funzione `super()`. Essa restituisce un \"proxy\", ovvero un oggetto temporaneo della classe genitore, e ci permette di chiamare un metodo della classe genitore utilizzando questo proxy. Vediamo l'esempio seguente:"
   ]
  },
  {
   "cell_type": "code",
   "execution_count": 1,
   "metadata": {},
   "outputs": [],
   "source": [
    "\n",
    "class Genitore:\n",
    "    def __init__(self, nome):\n",
    "        self.nome = nome\n",
    "        print(\"Invocato __init__ di Genitore\")\n",
    "\n",
    "class Figlio(Genitore):\n",
    "    def __init__(self, nome):\n",
    "        res = super().__init__(nome)\n",
    "        print(\"Invocato __init__ di Figlio\")\n"
   ]
  },
  {
   "attachments": {},
   "cell_type": "markdown",
   "metadata": {},
   "source": [
    "Abbiamo sovrascritto il metodo `__init__` nella classe `Figlio`, ma al suo interno abbiamo richiamato il metodo `__init__` della classe `Genitore`. Se creiamo un oggetto della classe `Figlio`, otterremo il seguente risultato:"
   ]
  },
  {
   "cell_type": "code",
   "execution_count": 2,
   "metadata": {},
   "outputs": [
    {
     "name": "stdout",
     "output_type": "stream",
     "text": [
      "Invocato __init__ di Genitore\n",
      "Invocato __init__ di Figlio\n"
     ]
    }
   ],
   "source": [
    "marco = Figlio(\"Marco\")"
   ]
  },
  {
   "cell_type": "markdown",
   "metadata": {},
   "source": [
    "Vediamo un altro esempio:"
   ]
  },
  {
   "cell_type": "code",
   "execution_count": 4,
   "metadata": {},
   "outputs": [
    {
     "name": "stdout",
     "output_type": "stream",
     "text": [
      "Ciao!\n",
      "Mi chiamo Pippo!\n"
     ]
    }
   ],
   "source": [
    "class Personaggio:\n",
    "\tdef saluta(self):\n",
    "\t\tprint('Ciao!')\n",
    "\n",
    "class Pippo(Personaggio):\n",
    "\tdef saluta(self):\n",
    "\t\tsuper().saluta()            # -> Ciao!\n",
    "\t\tprint('Mi chiamo Pippo!')   # -> Mi chiamo Pippo!\n",
    "\t\t\n",
    "istanza_pippo = Pippo()\n",
    "istanza_pippo.saluta()"
   ]
  },
  {
   "attachments": {},
   "cell_type": "markdown",
   "metadata": {},
   "source": [
    "In Python 3 il metodo `super()` non ha alcun parametro obbligatorio. Nelle versioni precedenti, invece, era necessario specificare la classe dalla quale il metodo avrebbe cercato una superclasse. Nel nostro esempio, invece di `super().__init__(nome)` possiamo scrivere `super(Child, self).__init__(nome)`. Entrambe le righe di codice significano la stessa cosa: vogliamo trovare la superclasse della classe `Figlio` e poi chiamare il suo metodo `__init__`. In Python 3 sono equivalenti, quindi non è necessario scrivere esplicitamente il tipo. Tuttavia, può essere utile se si vuole accedere al metodo della classe \"nonno\": la classe genitore della classe genitore."
   ]
  },
  {
   "cell_type": "code",
   "execution_count": 3,
   "metadata": {},
   "outputs": [
    {
     "name": "stdout",
     "output_type": "stream",
     "text": [
      "Ciao Nonno!\n",
      "Nonno\n"
     ]
    }
   ],
   "source": [
    "class Nonno(object):\n",
    "    def mio_metodo(self):\n",
    "        print(\"Nonno\")\n",
    "\n",
    "class Genitore(Nonno):\n",
    "    def mio_metodo(self):\n",
    "        print(\"Genitore\")\n",
    "\n",
    "class Figlio(Genitore):\n",
    "    def mio_metodo(self):\n",
    "        print(\"Ciao Nonno!\")\n",
    "        super(Genitore, self).mio_metodo()  # Accede al metodo del Nonno\n",
    "\n",
    "\n",
    "maria = Figlio()\n",
    "maria.mio_metodo()"
   ]
  },
  {
   "cell_type": "markdown",
   "metadata": {},
   "source": [
    "In questo modo viene invocato direttamene il metodo in ``Nonno``, evitando che quello in ``Genitore`` venga eseguito."
   ]
  },
  {
   "cell_type": "markdown",
   "metadata": {},
   "source": [
    "## Classi astratte e \"interfacce\""
   ]
  },
  {
   "cell_type": "markdown",
   "metadata": {},
   "source": [
    "Nella programmazione orientata agli oggetti, possiamo sentir parlare di qualcosa chiamata \"interfaccia\", che non va confusa con l'interfaccia utente. Un'interfaccia nel contesto OOP, è una sorta di modello per le classi. Essa definisce un insieme di metodi che le classi \"figlie\" dovranno implementare. \n",
    "\n",
    "In programmazione, i termini \"classi astratte\" e \"interfacce\" sono spesso usati in modo intercambiabile, ma è importante sottolineare che in Python, le interfacce non sono un concetto esplicitamente integrato nel linguaggio come in altri linguaggi. Tuttavia possiamo ottenere un comportamento simile utilizzando le classi astratte. Una classe astratta è una classe che non è destinata ad essere istanziata direttamente, ma piuttosto serve a fornire una base per altre classi. \n",
    "\n",
    "Un esempio in Python potrebbe essere una classe astratta che definisce un metodo senza fornirne un'implementazione. Ecco come potrebbe apparire:\n",
    "\n",
    "```python\n",
    "from abc import ABC, abstractmethod\n",
    "\n",
    "class Animale(ABC):\n",
    "    @abstractmethod\n",
    "    def emetti_suono(self):\n",
    "        pass\n",
    "\n",
    "class Cane(Animale):\n",
    "    def emetti_suono(self):\n",
    "        return \"Bau\"\n",
    "\n",
    "class Gatto(Animale):\n",
    "    def emetti_suono(self):\n",
    "        return \"Miao\"\n",
    "```\n",
    "\n",
    "Qui, `Animale` è una classe astratta che definisce il metodo `emetti_suono`, ma non fornisce un'implementazione. Le classi `Cane` e `Gatto` ereditano da `Animale` e forniscono le loro implementazioni per `emetti_suono`.\n",
    "\n",
    "Questo è diverso da come le strutture funzionano in linguaggi come C++, dove originariamente servivano solo per raggruppare dati. In C++, le strutture sono diventate più simili alle classi nel tempo, ma in Python, la distinzione tra classi e strutture non esiste nello stesso modo. In Python, tutto è un oggetto, e le classi sono il mezzo principale per definire nuovi tipi di oggetti."
   ]
  },
  {
   "cell_type": "markdown",
   "metadata": {},
   "source": [
    "## Approfondimento: la relazione tra `type` e `object`\n",
    "\n",
    "In Python, `object` e `type` hanno una relazione molto interessante e fondamentale per comprendere il modello ad oggetti di questo linguaggio. Qui si entra nel cuore del sistema di tipi di Python e nel concetto di *metaclassi*.\n",
    "\n",
    "- **`object`** è la *classe* base di tutte le classi in Python. Significa che ogni classe in Python eredita, direttamente o indirettamente, da `object`. Ciò implica che ogni oggetto in Python, a prescindere dalla sua specificità, è anche un'_**istanza**_ di `object` in qualche modo. Quindi, `object` funge da radice nell'albero della gerarchia delle classi di Python.\n",
    "\n",
    "- **`type`** è la *metaclasse* predefinita di tutte le classi in Python, compresa se stessa e `object`. In altre parole, `type` è il _**tipo**_ di tutte le classi, inclusa la classe `object` e la classe `type` stessa. Questo significa che se chiedi il tipo di qualsiasi classe, otterrai `type` come risposta, e se chiedi il tipo di `type`, otterrai ancora `type`, dimostrando che `type` è un'istanza di se stessa.\n",
    "\n",
    "La relazione tra `object` e `type` è particolarmente unica perché:\n",
    "- `type` è un'istanza di se stessa (`type(type)` &rarr; `type`), indicando che è una metaclasse.\n",
    "\n",
    "- `type` è anche un'istanza di `object` (`isinstance(type, object)` &rarr; `True`), poiché tutte le classi in Python ereditano da `object`.\n",
    "\n",
    "- `object` è un'istanza di `type` (`isinstance(object, type)` &rarr; `True`), il che significa che `object` è una classe.\n",
    "\n",
    "Questa relazione circolare tra `object` e `type` è un aspetto chiave della riflessività del sistema di tipi di Python e consente una grande flessibilità nella definizione di classi e nella metaprogrammazione. La presenza di questa struttura consente a Python di essere estremamente dinamico e riflessivo, dando agli sviluppatori potenti strumenti per manipolare e interagire con il sistema di tipi.\n",
    "\n",
    "> NOTA: Una _**metaclasse**_ è, in sostanza, una \"classe di classi\". È il *tipo* di una classe, proprio come una classe è il *tipo* dei suoi oggetti. Le metaclassi sono responsabili della generazione di classi, quindi controllano come le classi vengono create. In Python, `type` è la metaclasse predefinita, che significa che è il tipo di tutte le classi che non specificano esplicitamente una diversa metaclasse. Questo è un argomento avanzato e se vuoi [lo puoi approfondire qua](https://docs.python.org/3/reference/datamodel.html#metaclasses)."
   ]
  }
 ],
 "metadata": {
  "kernelspec": {
   "display_name": ".venv",
   "language": "python",
   "name": "python3"
  },
  "language_info": {
   "codemirror_mode": {
    "name": "ipython",
    "version": 3
   },
   "file_extension": ".py",
   "mimetype": "text/x-python",
   "name": "python",
   "nbconvert_exporter": "python",
   "pygments_lexer": "ipython3",
   "version": "3.11.2"
  }
 },
 "nbformat": 4,
 "nbformat_minor": 2
}
