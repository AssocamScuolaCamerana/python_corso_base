{
 "cells": [
  {
   "attachments": {},
   "cell_type": "markdown",
   "metadata": {},
   "source": [
    "## Come Python interpreta i valori\n",
    "\n",
    "| Concetto             | Valutazione   | Python                                             | &nbsp;    | &nbsp;  | &nbsp;  | &nbsp;                                             |\n",
    "|----------------------|---------------|----------------------------------------------------|-----------|---------|---------|----------------------------------------------------|\n",
    "| un oggetto non vuoto | *truthy*      | `True`<br>`1`                                      | non-empty |         |         | ![true.jpg](./imgs/programming/true.jpg)           |\n",
    "| un oggetto vuoto     | *falsy*       | `False`<br>`0`                                     | empty     | blank   |         | ![false.jpg](./imgs/programming/false.jpg)         |\n",
    "| il Nulla             | *falsy*       | `None`                                             | null      | void    | nothing | ![none.jpg](./imgs/programming/none.jpg)           |\n",
    "| un oggetto mancante  | *error*       | `NameError`<br>`IndexError`<br>`KeyError`<br>`...` | undefined | missing | #N/A    | ![undefined.jpg](./imgs/programming/undefined.jpg) |\n",
    "\n",
    "LEGENDA:\n",
    "\n",
    "- *thruty*, *falsy*: valutazione della *thruthfulness* (veridicità) in Python;\n",
    "- *error*: generazione di errori in Python;\n",
    "- `font monospace`: oggetto / significato in Python;\n",
    "- font normale: concetti di senso comune e/o di uso in altri linguaggi di programmazione."
   ]
  }
 ],
 "metadata": {
  "kernelspec": {
   "display_name": ".venv",
   "language": "python",
   "name": "python3"
  },
  "language_info": {
   "codemirror_mode": {
    "name": "ipython",
    "version": 3
   },
   "file_extension": ".py",
   "mimetype": "text/x-python",
   "name": "python",
   "nbconvert_exporter": "python",
   "pygments_lexer": "ipython3",
   "version": "3.11.2"
  },
  "orig_nbformat": 4
 },
 "nbformat": 4,
 "nbformat_minor": 2
}
