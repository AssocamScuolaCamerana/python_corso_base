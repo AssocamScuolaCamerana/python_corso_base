{
 "cells": [
  {
   "cell_type": "markdown",
   "metadata": {},
   "source": [
    "# Iterabili, iteratori, generatori, `enumerate`, `range`"
   ]
  },
  {
   "cell_type": "markdown",
   "metadata": {},
   "source": [
    "![iterables.png](./imgs/iterables.png)"
   ]
  },
  {
   "attachments": {},
   "cell_type": "markdown",
   "metadata": {},
   "source": [
    "| Concetto         | Spiegazione                                                                                                                                                                                                            |\n",
    "|------------------|------------------------------------------------------------------------------------------------------------------------------------------------------------------------------------------------------------------------|\n",
    "| iterable         | Un oggetto in grado di restituire i suoi membri uno alla volta, e sul quale è possibile eseguire un ciclo e che può essere trasformato in un iteratore. Esempi di iterabili sono `list`, `set`, `tuple`, `dict`, `string`, ecc.                                                |\n",
    "| iterator         | Un oggetto che rappresenta uno *stream* (flusso) di dati e che può essere iterato e che implementa i metodi `__iter__` e `__next__`.                                                                                                                                                                                     |\n",
    "| generator        | Un tipo speciale di funzione che non restituisce un singolo valore: restituisce un oggetto iteratore con una sequenza di valori.                                                                                       |\n",
    "| lazy evaluation  | Una strategia di valutazione per cui alcuni oggetti vengono prodotti solo quando necessario. Di conseguenza, alcuni circoli di sviluppatori si riferiscono alla valutazione pigra anche come \"call-by-need\".           |\n",
    "| iterator protocol | Un insieme di regole da seguire per implementare un iteratore in Python.                                                                                                                                               |\n",
    "| `next()`         | Una funzione built-in utilizzata per restituire l'elemento successivo in un iteratore. L'oggetto deve implementare il metodo `__next__`.                                                                               |\n",
    "| `iter()`         | Una funzione built-in usata per convertire un iterabile in un iteratore. L'oggetto deve implementare il metodo `__iter__`.                                                                                             |\n",
    "| `for`            | Il ciclo `for` utilizza il metodo `__iter__` per ottenere un iteratore correttamente inizializzato e `__next__` per esegiuire l'iterazione. Quando rileva un errore di `StopIteration`, termina automaticamente il ciclo senza effetti collaterali. |\n",
    "| `yield`          | Una keyword di Python simile alla parola chiave `return`, con la differenza che `yield` restituisce un oggetto generatore invece di un valore.                                                                         |"
   ]
  },
  {
   "cell_type": "markdown",
   "metadata": {},
   "source": [
    "![iterable_iterator_generator.png](./imgs/iterable_iterator_generator.png)"
   ]
  },
  {
   "attachments": {},
   "cell_type": "markdown",
   "metadata": {},
   "source": [
    "## Lazy evaluation\n",
    "\n",
    "Vedi [su Wikipedia](https://it.wikipedia.org/wiki/Valutazione_lazy)."
   ]
  },
  {
   "cell_type": "markdown",
   "metadata": {},
   "source": [
    "## `<class 'generator'>` "
   ]
  },
  {
   "attachments": {},
   "cell_type": "markdown",
   "metadata": {},
   "source": [
    "La forma più compatta per creare un generatore è detta [_**Generator expressions**_](https://docs.python.org/3/reference/expressions.html#generator-expressions) (*genexp*).\n",
    "\n",
    "Una *genex* ha la forma `(<exp> for <target> in <iterable>)`."
   ]
  },
  {
   "cell_type": "code",
   "execution_count": null,
   "metadata": {},
   "outputs": [
    {
     "name": "stdout",
     "output_type": "stream",
     "text": [
      "<class 'generator'>\n",
      "A\n",
      "B\n",
      "C\n"
     ]
    }
   ],
   "source": [
    "# gen = (x for x in range(3))\n",
    "gen = (x for x in ['A', 'B', 'C'])\n",
    "\n",
    "print(type(gen))\n",
    "\n",
    "# print(gen.__next__())\n",
    "# print(gen.__next__())\n",
    "# print(gen.__next__())\n",
    "# print(gen.__next__())  # StopIteration error\n",
    "\n",
    "print(next(gen))\n",
    "print(next(gen))\n",
    "print(next(gen))\n",
    "# print(next(gen))  # StopIteration error\n",
    "\n",
    "# for x in gen:\n",
    "#     print(x)"
   ]
  },
  {
   "attachments": {},
   "cell_type": "markdown",
   "metadata": {},
   "source": [
    "A prima vista potrebbe sembrare una \"tuple comprehension\", ma in questo caso le parentesi tonde non ci devono trarre in inganno."
   ]
  },
  {
   "cell_type": "markdown",
   "metadata": {},
   "source": [
    "Possiamo comunque implementare il nostro generatore, con l'uso della parola `yeld` all'interno di una funzione."
   ]
  },
  {
   "cell_type": "markdown",
   "metadata": {},
   "source": [
    "Possiamo generare una sequenza di numeri e iterarci sopra:"
   ]
  },
  {
   "cell_type": "code",
   "execution_count": 7,
   "metadata": {},
   "outputs": [
    {
     "name": "stdout",
     "output_type": "stream",
     "text": [
      "<class 'generator'>\n",
      "0\n",
      "1\n",
      "2\n"
     ]
    }
   ],
   "source": [
    "def my_generator_range(len):\n",
    "    item = 0\n",
    "    yield item\n",
    "    item += 1\n",
    "    while item < len:\n",
    "        yield item\n",
    "        item += 1\n",
    "\n",
    "gen = my_generator_range(3)\n",
    "\n",
    "print(type(gen))\n",
    "\n",
    "print(next(gen))\n",
    "print(next(gen))\n",
    "print(next(gen))\n",
    "# print(next(gen))  # StopIteration error"
   ]
  },
  {
   "cell_type": "markdown",
   "metadata": {},
   "source": [
    "O creare un generatore che itera sopra un iterabile e modifica i suoi elementi. Il vantaggio è che esegue i calcoli solo solo quando è necessario:"
   ]
  },
  {
   "cell_type": "code",
   "execution_count": null,
   "metadata": {},
   "outputs": [
    {
     "name": "stdout",
     "output_type": "stream",
     "text": [
      "<class 'generator'>\n",
      "a\n",
      "b\n",
      "c\n"
     ]
    }
   ],
   "source": [
    "def my_generator_iterable(iterable):\n",
    "    lenght = len(iterable)\n",
    "    idx = 0\n",
    "    item = iterable[0].lower()\n",
    "    yield item\n",
    "    idx += 1\n",
    "    while idx < lenght:\n",
    "        yield iterable[idx].lower()\n",
    "        idx += 1\n",
    "\n",
    "\n",
    "gen = my_generator_iterable(['A', 'B', 'C'])\n",
    "\n",
    "print(type(gen))\n",
    "\n",
    "print(next(gen))\n",
    "print(next(gen))\n",
    "print(next(gen))\n",
    "# print(next(gen))  # StopIteration error"
   ]
  },
  {
   "cell_type": "markdown",
   "metadata": {},
   "source": [
    "Naturalmente, invece di \"iterare\" semplicemente passo-passo un iterabile o un range, potremmo eseguire eseguire dei calcoli aggiuntivi ad ogni iterazione e restituire il risultato di quel calcolo anziché l'elemento originale."
   ]
  },
  {
   "cell_type": "code",
   "execution_count": 1,
   "metadata": {},
   "outputs": [
    {
     "name": "stdout",
     "output_type": "stream",
     "text": [
      "<class 'generator'>\n",
      "1\n",
      "4\n",
      "9\n",
      "16\n"
     ]
    }
   ],
   "source": [
    "def squares(start, stop):\n",
    "    for i in range(start, stop):\n",
    "        yield i * i\n",
    "\n",
    "gen = squares(1, 5)\n",
    "print(type(gen))\n",
    "\n",
    "print(next(gen))\n",
    "print(next(gen))\n",
    "print(next(gen))\n",
    "print(next(gen))\n",
    "# print(next(gen))  # StopIteration error"
   ]
  },
  {
   "cell_type": "code",
   "execution_count": 2,
   "metadata": {},
   "outputs": [
    {
     "name": "stdout",
     "output_type": "stream",
     "text": [
      "<class 'generator'>\n",
      "1\n",
      "4\n",
      "9\n",
      "16\n"
     ]
    }
   ],
   "source": [
    "gen = (i*i for i in range(1, 5))\n",
    "print(type(gen))\n",
    "\n",
    "print(next(gen))\n",
    "print(next(gen))\n",
    "print(next(gen))\n",
    "print(next(gen))\n",
    "# print(next(gen))  # StopIteration error"
   ]
  },
  {
   "cell_type": "markdown",
   "metadata": {},
   "source": [
    "## `<class '*_iterator'>`"
   ]
  },
  {
   "cell_type": "code",
   "execution_count": 3,
   "metadata": {},
   "outputs": [
    {
     "name": "stdout",
     "output_type": "stream",
     "text": [
      "<class 'list_iterator'>\n",
      "A\n",
      "B\n",
      "C\n"
     ]
    }
   ],
   "source": [
    "# iterabile = range(3)\n",
    "iterabile = ['A', 'B', 'C']\n",
    "\n",
    "iteratore = iter(iterabile)\n",
    "\n",
    "print(type(iteratore))\n",
    "\n",
    "print(next(iteratore))\n",
    "print(next(iteratore))\n",
    "print(next(iteratore))\n",
    "# print(next(iteratore))  # StopIteration error"
   ]
  },
  {
   "cell_type": "markdown",
   "metadata": {},
   "source": [
    "## `<class 'enumerate'>`"
   ]
  },
  {
   "cell_type": "code",
   "execution_count": 4,
   "metadata": {},
   "outputs": [
    {
     "name": "stdout",
     "output_type": "stream",
     "text": [
      "<class 'enumerate'>\n",
      "(0, 'A')\n",
      "(1, 'B')\n",
      "(2, 'C')\n"
     ]
    }
   ],
   "source": [
    "enum = enumerate(['A', 'B', 'C'])\n",
    "print(type(enum))\n",
    "\n",
    "print(next(enum))\n",
    "print(next(enum))\n",
    "print(next(enum))\n",
    "# print(next(enum))  # StopIteration error\n",
    "\n",
    "# for idx, elem in enum:\n",
    "#     print('index:', idx, 'element:', elem)"
   ]
  },
  {
   "attachments": {},
   "cell_type": "markdown",
   "metadata": {},
   "source": [
    "## *Iterator protocol*: implementare un oggetto iteratore"
   ]
  },
  {
   "attachments": {},
   "cell_type": "markdown",
   "metadata": {},
   "source": [
    "Un oggetto iteratore deve implementare il metodo speciale `__iter__` che deve restituire un iterabile e quello `__next__` che deve restituire un elemento alla volta fino all'esaurimento dell'iterabile."
   ]
  },
  {
   "attachments": {},
   "cell_type": "markdown",
   "metadata": {},
   "source": [
    "> APPROFONDIMENTO: Il metodo `__iter__` viene richiamato quando è necessario ottenere un iteratore a partire da un container. Questo metodo deve restituire un nuovo oggetto iteratore che può iterare su tutti gli oggetti del contenitore. Per le mappature, deve iterare sulle chiavi del contenitore.\n",
    "\n",
    "Per fare questo e creare un oggetto che si comporta a tutti gli effetti come un iteratore, possiamo fare così:"
   ]
  },
  {
   "cell_type": "code",
   "execution_count": 6,
   "metadata": {},
   "outputs": [
    {
     "name": "stdout",
     "output_type": "stream",
     "text": [
      "<class '__main__.MyFullIterator'>\n",
      "<class '__main__.MyFullIterator'>\n",
      "0\n",
      "1\n",
      "2\n"
     ]
    }
   ],
   "source": [
    "class MyFullIterator():\n",
    "    def __init__(self, stop):\n",
    "        self._stop = stop\n",
    "        self._cursore = 0  # inizializzo il contatore del \"cursore\"\n",
    "\n",
    "    def __iter__(self):\n",
    "        return self        # restituisce l'oggetto creato\n",
    "\n",
    "    def __next__(self):\n",
    "        if self._cursore < self._stop:\n",
    "            res = self._cursore\n",
    "            self._cursore += 1\n",
    "            return res\n",
    "        else:\n",
    "            raise StopIteration\n",
    "\n",
    "my_iterator = MyFullIterator(3)\n",
    "print(type(my_iterator))\n",
    "\n",
    "my_init_iterator = iter(my_iterator)\n",
    "print(type(my_init_iterator))\n",
    "\n",
    "print(next(my_init_iterator))\n",
    "print(next(my_init_iterator))\n",
    "print(next(my_init_iterator))\n",
    "# print(next(my_init_iterator))  # StopIteration error\n",
    "\n",
    "# for x in my_iterator:\n",
    "#     print(x)"
   ]
  },
  {
   "attachments": {},
   "cell_type": "markdown",
   "metadata": {},
   "source": [
    "## Domanda: Ma li iteratori possono essere \"resettati\"?\n",
    "\n",
    "Gli iteratori di Python normalmente non possono essere \"resettati\": una volta esauriti, dovrebbero sollevare una `StopIteration` ogni volta che viene chiamato `next()`. Per iterare nuovamente è necessario richiedere un nuovo oggetto iteratore con la funzione `iter()`."
   ]
  }
 ],
 "metadata": {
  "kernelspec": {
   "display_name": ".venv",
   "language": "python",
   "name": "python3"
  },
  "language_info": {
   "codemirror_mode": {
    "name": "ipython",
    "version": 3
   },
   "file_extension": ".py",
   "mimetype": "text/x-python",
   "name": "python",
   "nbconvert_exporter": "python",
   "pygments_lexer": "ipython3",
   "version": "3.11.2"
  },
  "orig_nbformat": 4
 },
 "nbformat": 4,
 "nbformat_minor": 2
}
