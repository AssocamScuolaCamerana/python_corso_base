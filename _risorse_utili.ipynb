{
 "cells": [
  {
   "attachments": {},
   "cell_type": "markdown",
   "metadata": {},
   "source": [
    "# Risorse utili per approfondire lo studio di Python in autonomia"
   ]
  },
  {
   "attachments": {},
   "cell_type": "markdown",
   "metadata": {},
   "source": [
    "## I migliori blog:\n",
    "\n",
    "- https://realpython.com/\n",
    "- https://dbader.org/\n",
    "- https://pymotw.com/3/"
   ]
  },
  {
   "attachments": {},
   "cell_type": "markdown",
   "metadata": {},
   "source": [
    "## Corsi e tutorial gratuiti:\n",
    "\n",
    "- https://docs.python.org/3/tutorial/\n",
    "- https://python-course.eu/\n",
    "- https://learn.microsoft.com/en-us/training/paths/beginner-python/\n",
    "- https://www.geeksforgeeks.org/python-programming-language/\n",
    "- https://www.learnpython.org/\n",
    "- https://www.pythonlikeyoumeanit.com/\n",
    "- https://developers.google.com/edu/python\n",
    "- https://runestone.academy/ns/books/published/fopp/index.html\n",
    "- https://flaviocopes.com/book/read/python/\n",
    "- https://www.pythonlikeyoumeanit.com/"
   ]
  },
  {
   "attachments": {},
   "cell_type": "markdown",
   "metadata": {},
   "source": [
    "## Libri online in italiano\n",
    "\n",
    "- https://github.com/AllenDowney/ThinkPythonItalian\n",
    "- https://do1.dr-chuck.com/pythonlearn/IT_it/\n",
    "- https://github.com/AbhishekMali21/PYTHON-FOR-EVERYBODY\n",
    "- https://www.py4e.com/lessons"
   ]
  },
  {
   "attachments": {},
   "cell_type": "markdown",
   "metadata": {},
   "source": [
    "## SoftPython / Python Biella Group\n",
    "\n",
    "- https://it.softpython.org/\n",
    "- https://github.com/DavidLeoni/softpython-it\n",
    "- https://pythonbiellagroup.it/\n",
    "- https://www.youtube.com/playlist?list=PLyaoAB2kb_ZF1I48pZ1rKru3jKHFeho38"
   ]
  },
  {
   "attachments": {},
   "cell_type": "markdown",
   "metadata": {},
   "source": [
    "## Altri siti utili in italiano\n",
    "\n",
    "- https://www.meccanismocomplesso.org/lezioni-di-python-il-corso-per-imparare-a-programmare-in-python/\n",
    "- https://newdev.eduopen.org/eduopenv2/course_details.php?courseid=56\n",
    "- https://gitlab.hpc.cineca.it/scai-training-rome/python-intro-2022\n",
    "- https://pythonitalia.github.io/python-abc/\n",
    "- https://www.freecodecamp.org/italian/news/manuale-python-per-principianti/"
   ]
  },
  {
   "attachments": {},
   "cell_type": "markdown",
   "metadata": {},
   "source": [
    "## PyCon (conferenze ufficiali della comunità Python)\n",
    "\n",
    "- https://www.youtube.com/@PyConUS\n",
    "- https://www.youtube.com/@PythonItalia"
   ]
  },
  {
   "attachments": {},
   "cell_type": "markdown",
   "metadata": {},
   "source": [
    "## Corsi \"PRO\":\n",
    "\n",
    "- https://www.sololearn.com/learn\n",
    "- https://scrimba.com/learn/python\n",
    "- https://hyperskill.org/\n",
    "- https://www.codecademy.com/catalog/language/python\n",
    "- https://www.datacamp.com/groups/classrooms\n",
    "- https://codefinity.com/courses/catalog\n",
    "- https://www.educative.io/explore"
   ]
  },
  {
   "attachments": {},
   "cell_type": "markdown",
   "metadata": {},
   "source": [
    "## Esercizi:\n",
    "- https://www.hackerrank.com/domains/python\n",
    "- https://leetcode.com/problemset/all/\n",
    "- https://edabit.com/challenges\n",
    "- https://runestone.academy/ns/books/published/fopp/index.html#appendices"
   ]
  },
  {
   "attachments": {},
   "cell_type": "markdown",
   "metadata": {},
   "source": [
    "## Quiz:\n",
    "\n",
    "- https://runestone.academy/ns/books/published/fopp/index.html"
   ]
  },
  {
   "attachments": {},
   "cell_type": "markdown",
   "metadata": {},
   "source": [
    "## Code challenges e esempi per le \"code interviews\"\n",
    "\n",
    "- https://www.interviewbit.com/python-interview-questions/\n",
    "- https://www.edureka.co/blog/interview-questions/python-interview-questions/\n",
    "- https://codingcompiler.com/python-coding-interview-questions-answers/"
   ]
  },
  {
   "attachments": {},
   "cell_type": "markdown",
   "metadata": {},
   "source": [
    "## Strumenti didattici\n",
    "\n",
    "- https://pythontutor.com/python-debugger.html\n",
    "- https://replit.com/languages/python3"
   ]
  },
  {
   "attachments": {},
   "cell_type": "markdown",
   "metadata": {},
   "source": [
    "## Jupyter Notebook online\n",
    "\n",
    "- https://nbviewer.org/\n",
    "- https://mybinder.org/\n",
    "- https://colab.research.google.com/"
   ]
  }
 ],
 "metadata": {
  "language_info": {
   "name": "python"
  },
  "orig_nbformat": 4
 },
 "nbformat": 4,
 "nbformat_minor": 2
}
