{
 "cells": [
  {
   "attachments": {},
   "cell_type": "markdown",
   "metadata": {},
   "source": [
    "## Tipo booleano e tipi numerici"
   ]
  },
  {
   "attachments": {},
   "cell_type": "markdown",
   "metadata": {},
   "source": [
    "| Tipo      | Valore vuoto | Esempio    | Altro esempio | Mutabile? |\n",
    "|-----------|--------------|------------|---------------|-----------|\n",
    "| `bool`    | `False`      | `True`     |               | no        |\n",
    "| `int`     | `0`          | `3`        | `5`           | no        |\n",
    "| `float`   | `0.0`        | `3.7`      | `-2.3`        | no        |\n",
    "| `complex` | `0j`         | `(3 + 2j)` | `(3 + 2j)`    | no        |\n"
   ]
  },
  {
   "attachments": {},
   "cell_type": "markdown",
   "metadata": {},
   "source": [
    "## Sequenze\n",
    "\n",
    "Una _**sequenza**_ è un'iterabile che supporta un accesso efficiente agli elementi utilizzando come indici dei numeri interi tramite il metodo speciale `__getitem__()` (che implementa la valutazione di `self[key]`) e definisce un metodo `__len__()` (che implementa la funzione built-in `len()`) il quale restituisce la lunghezza della sequenza. Alcuni tipi di sequenza incorporati sono `list`, `str`, `tuple` e `bytes`.\n",
    "\n",
    "> NOTA: Anche `dict` supporta `__getitem__()`  e  `__len__()`, ma è considerato una mappatura (*mapping*) piuttosto che una sequenza, perché le ricerche/interrogazioni utilizzano chiavi immutabili arbitrarie piuttosto che interi."
   ]
  },
  {
   "attachments": {},
   "cell_type": "markdown",
   "metadata": {},
   "source": [
    "## Sequenze e contenitori"
   ]
  },
  {
   "attachments": {},
   "cell_type": "markdown",
   "metadata": {},
   "source": [
    "\n",
    "| Tipo        | Valore vuoto     | Esempio                             | Mutabile? | Indexed?  | Ordinato?| Duplicati? |\n",
    "|-------------|------------------|-------------------------------------|:---------:|:---------:|:--------:|:----------:|\n",
    "| `str`       | `''` o `\"\"`      | `'come stai?'`                      | ❌        | ✅        | ✅        | ✅         |\n",
    "| `bytes`     | `b''`            | `b\"Buongiorno\"`                     | ❌        | ✅        | ✅        | ✅         |\n",
    "| `tuple`     | `()`             | `(5, 'x', 10, 'x')`                 | ❌        | ✅        | ✅        | ✅         |\n",
    "| `list`      | `[]`             | `[5, 'x', 10, 'x']`                 | ✅        | ✅        | ✅        | ✅         |\n",
    "| `bytearray` | `bytearray(b'')` | `bytearray(b'Buongiorno')`          | ✅        | ✅        | ✅        | ✅         |\n",
    "| `dict`      | `{}`             | `{'colore': 'rosso', 'anno': 1994}` | ✅        | ✅        | ❌        | ❌         |\n",
    "| `set`       | `set()`          | `{5, 'x', 10}`                      | ✅        | ❌        | ❌        | ❌         |\n",
    "            \n",
    "- Le tuple possono contenere tipi mutabili.\n",
    "- I `set` accettano solo elementi unici e hashable.\n",
    "- I `dict` accettano solo chiavi uniche e hashable (ma elemmenti di qualsiasi tipo).\n",
    "- I tipi immutabili sono sempre hashable (ma non tutti i tipi hashable sono immutabili &rarr; vedi [`__hash__()`](https://docs.python.org/3/reference/datamodel.html#object.__hash__))."
   ]
  }
 ],
 "metadata": {
  "kernelspec": {
   "display_name": ".venv",
   "language": "python",
   "name": "python3"
  },
  "language_info": {
   "codemirror_mode": {
    "name": "ipython",
    "version": 3
   },
   "file_extension": ".py",
   "mimetype": "text/x-python",
   "name": "python",
   "nbconvert_exporter": "python",
   "pygments_lexer": "ipython3",
   "version": "3.11.2"
  },
  "orig_nbformat": 4
 },
 "nbformat": 4,
 "nbformat_minor": 2
}
