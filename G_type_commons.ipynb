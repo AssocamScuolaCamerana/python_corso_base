{
 "cells": [
  {
   "attachments": {},
   "cell_type": "markdown",
   "metadata": {},
   "source": [
    "## Tipo booleano e tipi numerici"
   ]
  },
  {
   "attachments": {},
   "cell_type": "markdown",
   "metadata": {},
   "source": [
    "| Tipo        | Valore 'vuoto'   | Esempio                      | Altro esempio                       | Mutabile? |\n",
    "|-------------|------------------|------------------------------|------------------------------------ |-----------|\n",
    "| `bool`      | `False`          | `True`                       |                                     | no        |\n",
    "| `int`       | `0`              | `3`                          | `5`                                 | no        |\n",
    "| `float`     | `0.0`            | `3.7`                        | `-2.3`                              | no        |\n",
    "| `complex`   |                  | `(3 + 2j)`                   | `(3 + 2j)`                          | no        |\n"
   ]
  },
  {
   "attachments": {},
   "cell_type": "markdown",
   "metadata": {},
   "source": [
    "## Sequenze"
   ]
  },
  {
   "attachments": {},
   "cell_type": "markdown",
   "metadata": {},
   "source": [
    "\n",
    "\n",
    "| Tipo        | Valore 'vuoto'   | Esempio                             | Mutabile? | Ordinato? | Indexed? | Duplicati? |\n",
    "|-------------|------------------|-------------------------------------|:---------:|:--------:|:---------:|:----------:|\n",
    "| `str`       | `''` o `\"\"`      | `'come stai?'`                      | ❌        | ✅        | ✅        | ✅         |\n",
    "| `bytes`     | `b''`            | `b\"Buongiorno\"`                     | ❌        | ✅        | ✅        | ✅         |\n",
    "| `tuple`     | `()`             | `(5, 'x', 10, 'x')`                 | ❌        | ✅        | ✅        | ✅         |\n",
    "| `list`      | `[]`             | `[5, 'x', 10, 'x']`                 | ✅        | ✅        | ✅        | ✅         |\n",
    "| `set`       | `set()`          | `{5, 'x', 10}`                      | ✅        | ❌        | ❌        | ❌         |\n",
    "| `dict`      | `{}`             | `{'colore': 'rosso', 'anno': 1994}` | ✅        | ❌        | ✅        | ❌         |\n",
    "| `bytearray` | `bytearray(b'')` | `bytearray(b'Buongiorno')`          | ✅        | ✅        | ✅        | ✅         |\n",
    "\n",
    "- Le tuple possono contenere tipi mutabili.\n",
    "- I `set` accettano solo elementi unici e hashable.\n",
    "- I `dict` accettano solo chiavi uniche e hashable (ma elemmenti di qualsiasi tipo).\n",
    "- I tipi immutabili sono sempre hashable (ma non tutti i tipi hashable sono immutabili)."
   ]
  }
 ],
 "metadata": {
  "kernelspec": {
   "display_name": ".venv",
   "language": "python",
   "name": "python3"
  },
  "language_info": {
   "codemirror_mode": {
    "name": "ipython",
    "version": 3
   },
   "file_extension": ".py",
   "mimetype": "text/x-python",
   "name": "python",
   "nbconvert_exporter": "python",
   "pygments_lexer": "ipython3",
   "version": "3.11.2"
  },
  "orig_nbformat": 4
 },
 "nbformat": 4,
 "nbformat_minor": 2
}
