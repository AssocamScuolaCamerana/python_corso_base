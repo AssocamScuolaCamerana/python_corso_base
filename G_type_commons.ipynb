{
 "cells": [
  {
   "attachments": {},
   "cell_type": "markdown",
   "metadata": {},
   "source": [
    "## Tipo booleano e tipi numerici"
   ]
  },
  {
   "attachments": {},
   "cell_type": "markdown",
   "metadata": {},
   "source": [
    "| Tipo      | Valore vuoto | Esempio    | Altro esempio | Mutabile? |\n",
    "|-----------|--------------|------------|---------------|:---------:|\n",
    "| `bool`    | `False`      | `True`     |               | ❌        |\n",
    "| `int`     | `0`          | `3`        | `5`           | ❌        |\n",
    "| `float`   | `0.0`        | `3.7`      | `-2.3`        | ❌        |\n",
    "| `complex` | `0j`         | `(3 + 2j)` | `(3 + 2j)`    | ❌        |\n"
   ]
  },
  {
   "attachments": {},
   "cell_type": "markdown",
   "metadata": {},
   "source": [
    "## Iterabili: sequenze e \"contenitori\" in genere\n",
    "\n",
    "- **MUTABILE ?**: se possiamo modificare gli elementi dell'oggetto dopo che questo è stato \"costruito\", o meglio, istanziato. Se proviamo a modificare un oggetto \"NON MUTABILE\" verrà semplicemente creato un nuovo oggetto (con la modifica appòlicata) e il nostro identificatore (es. variabile) semplicemente punterà al nuovo oggetto.\n",
    "\n",
    "- **INDEXED (INDICIZZATO) ?**: se possiamo accedere agli elementi di un oggetto in modo arbitrario, direttamente tramite il *numero di indice* o una codiddetta *chiave*.\n",
    "\n",
    "- **ORDINATO ?**: se la posizione di tutti gli elementi contenuti nell'oggetto è stabilita, memorizzata e può essere rappresentata come una sequenza di oggetti. Serializzando e de-serializzando un oggetto ordinato, l'informazione sull'ordine degli elementi viene mantenuta.\n",
    "\n",
    "- **DUPLICATI ?**: se l'oggetto consente di avere elementi duplicati al suo interno. Solitamente, per verificare se due oggetti sono da considerarsi una \"copia\" l'uno dell'altro, Python usa il metodo `hash()`, da qui il termine \"hashable\". Per approfondire [*Funzione di hash*](https://it.wikipedia.org/wiki/Funzione_di_hash)."
   ]
  },
  {
   "attachments": {},
   "cell_type": "markdown",
   "metadata": {},
   "source": [
    "\n",
    "| Tipo        | Valore vuoto     | Esempio                             | Mutabile? | Indexed?  | Ordinato?| Duplicati? |\n",
    "|-------------|------------------|-------------------------------------|:---------:|:---------:|:--------:|:----------:|\n",
    "| `str`       | `''` o `\"\"`      | `'come stai?'`                      | ❌        | ✅        | ✅        | ✅         |\n",
    "| `bytes`     | `b''`            | `b\"Buongiorno\"`                     | ❌        | ✅        | ✅        | ✅         |\n",
    "| `tuple`     | `()`             | `(5, 'x', 10, 'x')`                 | ❌        | ✅        | ✅        | ✅         |\n",
    "| `list`      | `[]`             | `[5, 'x', 10, 'x']`                 | ✅        | ✅        | ✅        | ✅         |\n",
    "| `bytearray` | `bytearray(b'')` | `bytearray(b'Buongiorno')`          | ✅        | ✅        | ✅        | ✅         |\n",
    "| `dict`      | `{}`             | `{'colore': 'rosso', 'anno': 1994}` | ✅        | ✅        | ❌        | ❌         |\n",
    "| `set`       | `set()`          | `{5, 'x', 10}`                      | ✅        | ❌        | ❌        | ❌         |\n",
    "            \n",
    "- Le tuple possono contenere tipi mutabili.\n",
    "- I `set` non consentono elementi duplicati e accettano solo elementi hashable.\n",
    "- I `dict` accettano solo chiavi uniche e hashable (ma elementi di qualsiasi tipo).\n",
    "- I tipi immutabili sono sempre hashable (ma non tutti i tipi hashable sono immutabili &rarr; vedi [`__hash__()`](https://docs.python.org/3/reference/datamodel.html#object.__hash__)).\n",
    "- Due oggetti possono avere lo stesso `hash()`, ma un `id()` diverso."
   ]
  },
  {
   "attachments": {},
   "cell_type": "markdown",
   "metadata": {},
   "source": [
    "## Sequenze\n",
    "\n",
    "Una _**sequenza**_ è un'iterabile che supporta un accesso efficiente agli elementi utilizzando come indici dei numeri interi tramite il metodo speciale `__getitem__()` (che implementa la valutazione di `self[key]`) e definisce un metodo `__len__()` (che implementa la funzione built-in `len()`) il quale restituisce la lunghezza della sequenza. Alcuni tipi di sequenza built-in sono `list`, `str`, `tuple` e `bytes`.\n",
    "\n",
    "## Mappature\n",
    "\n",
    "Anche `dict` supporta `__getitem__()`  e  `__len__()`, ma è considerato una <u>mappatura (*mapping*)</u> piuttosto che una sequenza, perché non è ordinata e le ricerche/interrogazioni utilizzano chiavi immutabili arbitrarie piuttosto che numeri interi."
   ]
  },
  {
   "attachments": {},
   "cell_type": "markdown",
   "metadata": {},
   "source": [
    "## Accedere ai valori dentro una [*data structure*](https://en.wikipedia.org/wiki/List_of_data_structures)"
   ]
  },
  {
   "attachments": {},
   "cell_type": "markdown",
   "metadata": {},
   "source": [
    "Le [*data structures*] (strutture di dati) come le liste, dizionari, set, tuple, array ecc... possono assumere forme molto complesse, in quanto quasi ogni struttura può contenerne una qualsiasi altra al suo interno.\n",
    "\n",
    "Non ci sono molti limiti al modo in cui possiamo creare le strutture di dati: potremmo immaginare di avere una lista di dizionari, i cui valori sono delle liste di tuple contenenti dei set di stringhe."
   ]
  },
  {
   "cell_type": "code",
   "execution_count": 5,
   "metadata": {},
   "outputs": [],
   "source": [
    "data = [                                                # lista\n",
    "    {                                                   # dizionario\n",
    "        'reality': [                                    # lista\n",
    "            (                                           # tupla\n",
    "                {'acqua', 'terra'},                     # set di stringhe\n",
    "                {'fuoco', 'aria'}\n",
    "            ),\n",
    "            (\n",
    "                {'mela', 'caco'}, \n",
    "                {'pera', 'noce'}\n",
    "            ),\n",
    "        ],\n",
    "        'fiction': [\n",
    "            (\n",
    "                {'vibranio', 'kryptonite', 'beskar'},\n",
    "                {'adamantio', 'dilitio', 'mithril'}\n",
    "            ),\n",
    "            (\n",
    "                {'drago', 'grifone'},\n",
    "                {'idra'},\n",
    "                ([{'chimera': 'fenice'}])       # () intrrpretato come \"gruppo\"\n",
    "                # ([{'chimera': 'fenice'}],)    # () intrrpretato come \"tupla\"\n",
    "            )\n",
    "        ]\n",
    "    },\n",
    "    {\n",
    "        234: {\n",
    "                'Korvo': {5.94, 3},\n",
    "                'Terry': [3, 4, 'mimmo'], \n",
    "                'Yumyulack': 3 + 4j,\n",
    "                'Jesse': (3, 5, 3),\n",
    "                'Pupa': {\n",
    "                    '1': 'a',\n",
    "                    1: 'b',\n",
    "                    0.1: 'c'\n",
    "                }\n",
    "        },\n",
    "        '234': [],\n",
    "        (2, 3, 4): 'guarda che tupla di chiave!',\n",
    "        False: 'una chiave di cui non ci si può fidare!',\n",
    "        3 + 4j: 'una chiave veramente complessa!'\n",
    "    },\n",
    "    {\n",
    "        'TEAM1': [\n",
    "            {\n",
    "                'nome': 'Rick',\n",
    "                'cognome': 'Sanchez'\n",
    "            },\n",
    "            {\n",
    "                'nome': 'Morty',\n",
    "                'cognome': 'Smith'\n",
    "            }\n",
    "        ],\n",
    "        'TEAM2': [\n",
    "            {\n",
    "                'nome': 'Pippo', \n",
    "                'cognome': 'Disney'\n",
    "            },\n",
    "            {\n",
    "                'nome': 'Pluto',\n",
    "                'cognome': 'Disney'\n",
    "            }\n",
    "        ]\n",
    "    }\n",
    "]"
   ]
  },
  {
   "attachments": {},
   "cell_type": "markdown",
   "metadata": {},
   "source": [
    "Per accedere a questi dati tutto quello che ci serve è la notazione a subscription `[...]`."
   ]
  },
  {
   "attachments": {},
   "cell_type": "markdown",
   "metadata": {},
   "source": [
    "Le particolarità da osservare sono:\n",
    "\n",
    "- Non è possibile accedere direttamente ai singoli elementi di un `set`, se non per mezzo di un ciclo `for` oppure convertendo il `set` in una `lista` (casting). Tuttavia non possiamo prevedere in anticipo come gli elementi saranno messi in sequenza.\n",
    "- Le chiavi di un `dict` e gli elementi di una `tuple` possono essere `str`, `integer`, `float`, `bool`, `complex` o `tuple`."
   ]
  },
  {
   "attachments": {},
   "cell_type": "markdown",
   "metadata": {},
   "source": [
    "ESERCITATI:\n",
    "\n",
    "- Scegli un valore nella struttura dati qua sopra e prova a raggiungerlo scrivendo un'espressione.\n",
    "\n",
    "- Scegli una delle seguenti espressioni e prova a capire a quale valore accede, osservando la struttura dati qua sopra."
   ]
  },
  {
   "attachments": {},
   "cell_type": "markdown",
   "metadata": {},
   "source": [
    "```python\n",
    "data[0]['reality'][0][0]\n",
    "data[1][234]['Pupa']['1']\n",
    "data[2]['TEAM2'][0]['nome']\n",
    "data[0]['fiction'][1][2][0]['chimera']\n",
    "data[2]['TEAM2'][0]['nome'][1]\n",
    "data[1][234]['Terry'][2]\n",
    "```"
   ]
  },
  {
   "attachments": {},
   "cell_type": "markdown",
   "metadata": {},
   "source": [
    "Di solito, per essere accessibili tramite delle procedure automatiche, le strutture dati sono omogenee e auto-similari, tuttavia, nulla vieta di creare una struttura complessa come quella precedente."
   ]
  },
  {
   "attachments": {},
   "cell_type": "markdown",
   "metadata": {},
   "source": [
    "Nella vita di tutti i giorni è però molto più probabile ritrovarsi davanti strutture più \"classiche\", simili alla seguente:"
   ]
  },
  {
   "cell_type": "code",
   "execution_count": 37,
   "metadata": {},
   "outputs": [],
   "source": [
    "library = [\n",
    "    {\n",
    "        'title': 'Nineteen Eighty-Four',\n",
    "        'author': 'George Orwell',\n",
    "        'genre': ['fiction', 'british'],\n",
    "        'isbn': 9780155658110,\n",
    "        'publicationDate': 1949,\n",
    "        'borrowed': True,\n",
    "        'borrowedStart': '2023-05-01',\n",
    "        'borrowedEnd': '2023-05-15'\n",
    "    },\n",
    "    {\n",
    "        'title': 'To Kill a Mockingbird',\n",
    "        'author': 'Harper Lee',\n",
    "        'genre': ['fiction', 'american'],\n",
    "        'isbn': 9789023493617,\n",
    "        'publicationDate': 1960,\n",
    "        'borrowed': False,\n",
    "        'borrowedStart': None,\n",
    "        'borrowedEnd': None\n",
    "    },\n",
    "    {\n",
    "        'title': 'Gödel, Escher, Bach',\n",
    "        'author': 'Douglas Hofstadter',\n",
    "        'genre': ['pop science', 'american', 'pulitzer'],\n",
    "        'isbn': 9780394745022,\n",
    "        'publicationDate': 1979,\n",
    "        'borrowed': True,\n",
    "        'borrowedStart': '2023-04-01',\n",
    "        'borrowedEnd': '2023-04-15'\n",
    "    }\n",
    "]"
   ]
  },
  {
   "attachments": {},
   "cell_type": "markdown",
   "metadata": {},
   "source": [
    "Se siete riusciti a districarvi con i \"percorsi\" per \"navigare\" attraverso la prima struttura (`data`), questa seconda (`library`) dovrebbe apparirvi un gioco da ragazzi!"
   ]
  },
  {
   "attachments": {},
   "cell_type": "markdown",
   "metadata": {},
   "source": [
    "Su una struttura come questa possiamo edeguire dei cicli per leggere, filtrare e mappare i dati in essa contenuti.\n",
    "\n",
    "Ecco un esempio:"
   ]
  },
  {
   "cell_type": "code",
   "execution_count": 42,
   "metadata": {},
   "outputs": [
    {
     "name": "stdout",
     "output_type": "stream",
     "text": [
      "Nineteen Eighty-Four : 1949\n",
      "To Kill a Mockingbird : 1960\n",
      "Gödel, Escher, Bach : 1979\n"
     ]
    }
   ],
   "source": [
    "for book in library:\n",
    "    print(book['title'], ':', book['publicationDate'])\n"
   ]
  },
  {
   "attachments": {},
   "cell_type": "markdown",
   "metadata": {},
   "source": [
    "## Iterazione"
   ]
  },
  {
   "cell_type": "code",
   "execution_count": 43,
   "metadata": {},
   "outputs": [
    {
     "name": "stdout",
     "output_type": "stream",
     "text": [
      "Libri presi in prestito:\n",
      "  * Nineteen Eighty-Four\n",
      "  * Gödel, Escher, Bach\n"
     ]
    }
   ],
   "source": [
    "print('Libri presi in prestito:')\n",
    "for book in library:\n",
    "    if book['borrowed']:             # <- filtro\n",
    "        print('  *', book['title'])"
   ]
  },
  {
   "attachments": {},
   "cell_type": "markdown",
   "metadata": {},
   "source": [
    "## Filtraggio"
   ]
  },
  {
   "cell_type": "code",
   "execution_count": 44,
   "metadata": {},
   "outputs": [
    {
     "name": "stdout",
     "output_type": "stream",
     "text": [
      "Libri in prestito scaduto (SOLLECITARE LA RESTITUZIONE!):\n",
      "  * Gödel, Escher, Bach\n"
     ]
    }
   ],
   "source": [
    "from datetime import date\n",
    "\n",
    "print(\"Libri in prestito scaduto (SOLLECITARE LA RESTITUZIONE!):\")\n",
    "for book in library:\n",
    "    if book['borrowed']:            # <- filtro\n",
    "        if date.fromisoformat(book['borrowedEnd']) < date.today():\n",
    "            print('  *', book['title'])"
   ]
  },
  {
   "attachments": {},
   "cell_type": "markdown",
   "metadata": {},
   "source": [
    "## Mappatura"
   ]
  },
  {
   "attachments": {},
   "cell_type": "markdown",
   "metadata": {},
   "source": [
    "Immaginiamo che la nostra bibblioteca debba inviare le notifiche di sollecito per la restituzione dei libri ogni sabato. \n",
    "\n",
    "Ogni volta vi seve un elenco dello stato dei libri, rispettivamente al loro stato di prestito."
   ]
  },
  {
   "cell_type": "code",
   "execution_count": 51,
   "metadata": {},
   "outputs": [
    {
     "name": "stdout",
     "output_type": "stream",
     "text": [
      "Libri presi in prestito (OK):\n",
      "  * Gödel, Escher, Bach\n",
      "Libri in prestito scaduto (SOLLECITARE LA RESTITUZIONE!):\n",
      "  * Nineteen Eighty-Four\n"
     ]
    }
   ],
   "source": [
    "from datetime import date\n",
    "\n",
    "report_prestiti = {\n",
    "    'regolari': [],\n",
    "    'scaduti': []\n",
    "}\n",
    "\n",
    "for book in library:\n",
    "    if book['borrowed']:\n",
    "        if date.fromisoformat(book['borrowedEnd']) < date.today():\n",
    "            report_prestiti['regolari'].append(book)\n",
    "        else:\n",
    "            report_prestiti['scaduti'].append(book)\n",
    "\n",
    "print('Libri in prestito - Regolari:')\n",
    "for book in report_prestiti['regolari']:\n",
    "        print('  *', book['title'])\n",
    "\n",
    "print(\"Libri in prestito - Inviare sollecito restituzione:\")\n",
    "for book in report_prestiti['scaduti']:\n",
    "        print('  *', book['title'])\n"
   ]
  }
 ],
 "metadata": {
  "kernelspec": {
   "display_name": ".venv",
   "language": "python",
   "name": "python3"
  },
  "language_info": {
   "codemirror_mode": {
    "name": "ipython",
    "version": 3
   },
   "file_extension": ".py",
   "mimetype": "text/x-python",
   "name": "python",
   "nbconvert_exporter": "python",
   "pygments_lexer": "ipython3",
   "version": "3.11.2"
  },
  "orig_nbformat": 4
 },
 "nbformat": 4,
 "nbformat_minor": 2
}
