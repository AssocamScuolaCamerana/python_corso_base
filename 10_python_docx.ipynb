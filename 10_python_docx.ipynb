{
 "cells": [
  {
   "attachments": {},
   "cell_type": "markdown",
   "metadata": {},
   "source": [
    "# Modulo `docxtpl`: creare \"stampe unione\" con Python"
   ]
  },
  {
   "attachments": {},
   "cell_type": "markdown",
   "metadata": {},
   "source": [
    "Il modulo di terze parti `docxtpl` consente di generare dei file di Word in modo dinamico partendo da un cosiddetto template. In particolare `docxtpl` utilizza il linguaggio di templating [Jinja](jinja.palletsprojects.com).\n",
    "\n",
    "Consente di lacorare con file di Microsoft Word con estensione `.docx` (Word 2007-oggi).\n",
    "\n",
    "- [Sito ufficiale](https://docxtpl.readthedocs.io/en/latest/) della documentazione.\n",
    "- [Pagina su PyPi](https://pypi.org/project/docxtpl/) (Python Package Index).\n",
    "- [Repo su GitHub](https://github.com/elapouya/python-docx-template)."
   ]
  },
  {
   "attachments": {},
   "cell_type": "markdown",
   "metadata": {},
   "source": [
    "## Installazione di `docxtpl`\n",
    "\n",
    "Poiché si tratta di una libreria esterna, bisogna per prima cosa installarla (meglio in un virtual enviroment):"
   ]
  },
  {
   "attachments": {},
   "cell_type": "markdown",
   "metadata": {},
   "source": [
    "```bash\n",
    "# MAC/LINUX:\n",
    "(my_venv) $ pip install docxtpl\n",
    "\n",
    "# WINDOWS:\n",
    "(my_venv) C:\\my_proj> pip install docxtpl\n",
    "```"
   ]
  },
  {
   "attachments": {},
   "cell_type": "markdown",
   "metadata": {},
   "source": [
    "\n",
    "Se sei su Windows, non hai creato un virtual environment (male!;) e devi usare il `py` launcher:\n",
    "\n",
    "```powershell\n",
    "C:\\my_proj> py -m pip install docxtpl\n",
    "```"
   ]
  },
  {
   "attachments": {},
   "cell_type": "markdown",
   "metadata": {},
   "source": [
    "Quindi, è suffuciente importare la classe `DocxTemplate` nel vostro codice:\n",
    "\n",
    "```python\n",
    "from docxtpl import DocxTemplate\n",
    "```"
   ]
  },
  {
   "attachments": {},
   "cell_type": "markdown",
   "metadata": {},
   "source": [
    "## Esempio di utilizzo"
   ]
  },
  {
   "attachments": {},
   "cell_type": "markdown",
   "metadata": {},
   "source": [
    "È stato preparato un template di esempio:\n",
    "\n",
    "- Apri il template `newsletter_template.docx` nella cartella `files_esercizi/`.\n",
    "\n",
    "Leggi il contenuto del file e osserva i segnaposto, detti in inglese \"placeholders\", con le seguentu sintassi `{{ ... }}` e `{% ... %}`.\n",
    "\n",
    "Di seguito, trovi un tipico esempio in cui si stampano delle informazioni provenienti da un dizionario Python.\n",
    "\n",
    "In questo caso viene eseguita anche la sostituzione di un'immagine inserita e posizionata nel template originale.\n",
    "\n",
    "Dopo aver eseguito il blocco di codice qua sotto, apri il file `newsletter_compilato.docx` nella cartella `files_esercizi/outputs/` e guarfa il risultato prodotto."
   ]
  },
  {
   "cell_type": "code",
   "execution_count": 32,
   "metadata": {},
   "outputs": [
    {
     "name": "stdout",
     "output_type": "stream",
     "text": [
      "Le chiavi usate nel template sono: {'data_iscrizione', 'nickname', 'vip', 'nome', 'fattura_lines'}\n"
     ]
    }
   ],
   "source": [
    "from docxtpl import DocxTemplate\n",
    "\n",
    "# Preparo i dati da usare nel template\n",
    "dati_da_scrivere = {\n",
    "    'data_iscrizione': '10/4/2022',\n",
    "    'nome': 'Michelangelo',\n",
    "    'nickname': 'Mickey',\n",
    "    'vip': True,\n",
    "    'fattura_lines': [\n",
    "        {\n",
    "            'descrizione': 'Spese di cancelleria',\n",
    "            'prezzo': 357.36\n",
    "        },\n",
    "        {\n",
    "            'descrizione': 'Spese di rappresentanza',\n",
    "            'prezzo': 142.63\n",
    "        }\n",
    "    ],\n",
    "    'boss_firmatario': 'Benjamin Franklin'\n",
    "}\n",
    "\n",
    "# Con la classe DocxTemplate creo un oggetto Python basato sul file di template\n",
    "doc = DocxTemplate('./files_esercizi/newsletter_template.docx')\n",
    "\n",
    "# Se mi serve, posso  controllare quali sono effettivamente le chiavi place-holders\n",
    "# usate nel mio template. Utile ad esempio per controllare che tutti i dati\n",
    "# necessari siano presenti nei \"dati_da_scrivere\" prima di creare il file.\n",
    "doc_keys = doc.get_undeclared_template_variables()\n",
    "print('Le chiavi usate nel template sono:', doc_keys)\n",
    "\n",
    "# Effettuo la scrittura delle variabili nel template, quindi i place-holders\n",
    "# saranno sostituiti con i valori effettivi.\n",
    "doc.render(dati_da_scrivere)\n",
    "\n",
    "# Sostituisco l'immagine place-holder della firma, con la firma effettiva\n",
    "doc.replace_pic('firma_del_boss', './files_esercizi/esempi/firma.png')\n",
    "\n",
    "# Salvo l'output su un altro file DOCX\n",
    "doc.save('./files_esercizi/outputs/newsletter_compilato.docx')"
   ]
  },
  {
   "attachments": {},
   "cell_type": "markdown",
   "metadata": {},
   "source": [
    "## Jinja\n",
    "\n",
    "Abbiamo detto che con  `docxtpl`, per inserire variabili nei documenti, dobbiamo usare la sintassi Jinja.\n",
    "\n",
    "Traducendo direttamente dal [sito di Jinja](jinja.palletsprojects.com):\n",
    "\n",
    "> Jinja è un motore per templating veloce, espressivo ed estensibile. Speciali segnaposto (placeholders) nel template permettono di scrivere codice simile alla sintassi Python. Al template vengono poi passati i dati per il rendering del documento finale."
   ]
  }
 ],
 "metadata": {
  "kernelspec": {
   "display_name": ".venv",
   "language": "python",
   "name": "python3"
  },
  "language_info": {
   "codemirror_mode": {
    "name": "ipython",
    "version": 3
   },
   "file_extension": ".py",
   "mimetype": "text/x-python",
   "name": "python",
   "nbconvert_exporter": "python",
   "pygments_lexer": "ipython3",
   "version": "3.11.2"
  },
  "orig_nbformat": 4
 },
 "nbformat": 4,
 "nbformat_minor": 2
}
