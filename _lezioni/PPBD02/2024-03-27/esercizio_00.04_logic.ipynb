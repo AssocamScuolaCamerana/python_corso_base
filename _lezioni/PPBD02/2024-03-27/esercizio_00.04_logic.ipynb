{
 "cells": [
  {
   "cell_type": "markdown",
   "metadata": {},
   "source": [
    "# Esercizi introduttivi"
   ]
  },
  {
   "cell_type": "markdown",
   "metadata": {},
   "source": [
    "TEMI TRATTATI:\n",
    "\n",
    "- Elaborazioni e confronti tra variabili con valori di tipo `int`, `float` e `str`.\n",
    "- Espressioni booleane.\n",
    "- Scelte logiche."
   ]
  },
  {
   "cell_type": "markdown",
   "metadata": {},
   "source": [
    "NOTE SULLO SVOLGIMENTO:\n",
    "- Puoi svolgere ed eseguire gli esercizi direttamente qua su questo notebook oppure su un normale file di script Python con estensione `.py`, eseguendolo nel terminale del sistema operativo con il comando `py mio_esercizio.py` (Windows) oppure `python3 mio_esercizio.py` (Linux o macOS)."
   ]
  },
  {
   "cell_type": "markdown",
   "metadata": {},
   "source": [
    "## Esercizio 1: Vero o Falso\n",
    "\n",
    "Per ciascuna delle seguenti coppie di valori, eseguire un test di uguaglianza, assegnare il risultato ad una variabile, e visualizzarlo. Provare a prevedere quale sarà il risultato di ciascuna verifica.\n",
    "\n",
    "```text\n",
    "1, 1\n",
    "\n",
    "1, 1.0\n",
    "\n",
    "2.0, sqrt(4)\n",
    "\n",
    "'1', 1\n",
    "\n",
    "'ciao', 'Ciao'.\n",
    "```"
   ]
  },
  {
   "cell_type": "markdown",
   "metadata": {},
   "source": [
    "ESEMPIO:\n",
    "\n",
    "```python\n",
    "esempio = 'pippo' == 'pippo'\n",
    "print(esempio)\n",
    "# True\n",
    "```"
   ]
  },
  {
   "cell_type": "code",
   "execution_count": null,
   "metadata": {},
   "outputs": [],
   "source": [
    "# Scrivi qua il tuo codice\n",
    "\n",
    "from math import sqrt\n",
    "\n",
    "\n",
    "print('1 == 1 ?', 1 == 1)\n",
    "\n",
    "if 1 == 1:\n",
    "    print('1 == 1 ?', True)\n",
    "else:\n",
    "    print('1 == 1 ?', False)\n",
    "\n",
    "if 1 == 1.0:\n",
    "    print('1 == 1.0 ?', True)\n",
    "else:\n",
    "    print('1 == 1.0 ?', False)\n",
    "\n",
    "if 2.0 == sqrt(4):\n",
    "    print('2.0 == sqrt(4) ?', True)\n",
    "else:\n",
    "    print('2.0 == sqrt(4) ?', False)"
   ]
  },
  {
   "cell_type": "code",
   "execution_count": null,
   "metadata": {},
   "outputs": [
    {
     "data": {
      "text/plain": [
       "2.0"
      ]
     },
     "metadata": {},
     "output_type": "display_data"
    }
   ],
   "source": [
    "import math\n",
    "\n",
    "math.sqrt(4)"
   ]
  },
  {
   "cell_type": "code",
   "execution_count": null,
   "metadata": {},
   "outputs": [],
   "source": [
    "# SCONSIGLIATO !!\n",
    "from math import *\n",
    "\n",
    "sqrt(2)"
   ]
  },
  {
   "cell_type": "markdown",
   "metadata": {},
   "source": [
    "## Esercizio 2: Identikit della stringa\n",
    "\n",
    "Scrivere un programma che legga una stringa e visualizzi dei messaggi appropriati, dopo aver verificato se:\n",
    "\n",
    "- contiene soltanto lettere;\n",
    "- contiene soltanto lettere maiuscole;\n",
    "- contiene soltanto lettere minuscole;\n",
    "- contiene soltanto cifre numeriche decimali;\n",
    "- contiene soltanto lettere e cifre;\n",
    "- inizia con una lettera maiuscola;\n",
    "- termina con un punto."
   ]
  },
  {
   "cell_type": "code",
   "execution_count": null,
   "metadata": {},
   "outputs": [],
   "source": [
    "# Scrivi qua il tuo codice\n",
    "\n",
    "message = 'ciao mamma! ho fame.'\n",
    "# message = input('Prego, inserire un messaggio:')\n",
    "\n",
    "print('Hai inserito:', message)\n",
    "\n",
    "if message.isalpha():\n",
    "    print('La stringa contiene solo caratteri alfabetici.')\n",
    "else:\n",
    "    print('La stringa contiene almeno un carattere non alfabetico.')\n",
    "\n",
    "if message.islower():\n",
    "    print('La stringa contiene solo caratteri minuscoli.')\n",
    "\n",
    "if message.isupper():\n",
    "    print('La stringa contiene solo caratteri maiuscoli.')\n",
    "\n",
    "if message.isdigit():\n",
    "# if message.isdecimal():\n",
    "    print('La stringa contiene solo caratteri numerici.')\n",
    "\n",
    "if message.isalnum():\n",
    "    print('La stringa contiene solo caratteri alfanumerici.')\n",
    "\n",
    "if message.endswith('.'):\n",
    "    print('La stringa termina con un punto.')\n",
    "\n",
    "if message[0].isupper():\n",
    "    print('Il primo carattere della stringa è maiuscolo.')\n"
   ]
  },
  {
   "cell_type": "code",
   "execution_count": null,
   "metadata": {},
   "outputs": [],
   "source": [
    "message = 'KS . JDHF'\n",
    "\n",
    "if message.isalpha() and message.islower():\n",
    "    print('La stringa contiene SOLO caratteri minuscoli e nessun altro tipo di carattere.')\n",
    "else:\n",
    "    print('Non è possible stabilire se tutti i caratteri alfabetici siano minuscoli.')\n",
    "\n",
    "if message.isalpha() and message.isupper():\n",
    "    print('La stringa contiene SOLO caratteri maiuscoli e nessun altro tipo di carattere.')"
   ]
  },
  {
   "cell_type": "markdown",
   "metadata": {},
   "source": [
    "## Esercizio 3: Tracce genetiche\n",
    "\n",
    "Le sequenze di DNA sono come lunghe stringhe composte da solo quattro lettere: `'A'`, `'C'`, `'T'` e `'G'`. Scrivere un programma che prenda in input una \"sequenza lunga\" di DNA di venti caratteri e una \"sequenza breve\" di tre caratteri e visualizzi le seguenti informazioni:\n",
    "\n",
    "1. Se la \"sequenza breve\" è presente all'interno della \"sequenza lunga\".\n",
    "2. Se presente, a partire da quale posizione (indice) della \"sequenza lunga\" è presente la \"sequenza breve\".\n",
    "3. Se presente, quante volte la \"sequenza breve\" è contenuta nella \"sequenza lunga\"."
   ]
  },
  {
   "cell_type": "code",
   "execution_count": null,
   "metadata": {},
   "outputs": [],
   "source": [
    "# Scrivi qua il tuo codice\n",
    "\n",
    "seq_lunga = 'AGTCGTTAGATTACAATGAC'\n",
    "seq_breve = 'GTA'\n",
    "\n",
    "# Controllare che una sottostringa sia presente in una stringa più lunga\n",
    "# (operatore di appartenenza)  \"in\"\n",
    "if seq_breve in seq_lunga:\n",
    "    print(f'La stringa breve \"{seq_breve}\" è contenuta in quella più lunga.')\n",
    "else:\n",
    "    print(f'La stringa breve \"{seq_breve}\" non è contenuta in quella più lunga.')\n",
    "\n",
    "indice = seq_lunga.find(seq_breve)\n",
    "if indice != -1:\n",
    "    print(f'Trovata alla posizione {indice}.')\n",
    "else:\n",
    "    print('Sottostringa non trovata!')\n",
    "\n",
    "conteggio = seq_lunga.count(seq_breve)\n",
    "print(f'La sottoastringa è stata trovata {conteggio} volte.')\n"
   ]
  },
  {
   "cell_type": "code",
   "execution_count": null,
   "metadata": {},
   "outputs": [
    {
     "name": "stdout",
     "output_type": "stream",
     "text": [
      "La stringa breve \"CGT\" è contenuta in quella più lunga per un totale di 1 volta, la cui prima occorrenza è alla posizione 3.\n"
     ]
    }
   ],
   "source": [
    "seq_lunga = 'AGTCGTTAGTTACAATGAC'\n",
    "seq_breve = 'CGT'\n",
    "\n",
    "if seq_breve in seq_lunga:\n",
    "    # print(f'La stringa breve \"{seq_breve}\" è contenuta in quella più lunga.')\n",
    "\n",
    "    indice = seq_lunga.find(seq_breve)\n",
    "    # print(f'Trovata alla posizione {indice}.')\n",
    "\n",
    "    conteggio = seq_lunga.count(seq_breve)\n",
    "    # print(f'La sottoastringa è stata trovata {conteggio} volte.')\n",
    "\n",
    "    # Condizione \"estesa\", senza usare l'operatore ternario\n",
    "    # if conteggio == 1:\n",
    "    #     str_volta = 'volta'\n",
    "    # else:\n",
    "    #     str_volta = 'volte'\n",
    "\n",
    "    # Ma dato che questa condizione è un caso perfetto per usare l'operatore\n",
    "    # ternario, lo possiamo riscrivere in questo modo:\n",
    "    str_volta = 'volta' if conteggio == 1 else 'volte'\n",
    "\n",
    "\n",
    "    print(f'La stringa breve \"{seq_breve}\" è contenuta in quella più lunga '\n",
    "          f'per un totale di {conteggio} {str_volta}, la cui prima occorrenza è '\n",
    "          f'alla posizione {indice}.')\n",
    "\n",
    "else:\n",
    "    print(f'La stringa breve \"{seq_breve}\" non è contenuta in quella più lunga.')"
   ]
  },
  {
   "cell_type": "markdown",
   "metadata": {},
   "source": [
    "## Esercizio 4: Questione di logica\n",
    "\n",
    "Scrivere un programma che prenda in input un numero intero `x` e visualizzi a schermo le seguenti espressioni, accompagnate dai valori di verità risultanti dalla loro valutazione.\n",
    "\n",
    "- `x > 0 and x < 100`\n",
    "- `x > 0 or x < 100`\n",
    "- `x > 0 or 100 < x`\n",
    "- `x > 0 and x < 100 or x == -1`\n",
    "\n",
    "Testare il programma con numerosi valori di x."
   ]
  },
  {
   "cell_type": "markdown",
   "metadata": {},
   "source": [
    "ESEMPIO:\n",
    "\n",
    "Se `x = 200`\n",
    "\n",
    "Output atteso:\n",
    "\n",
    "```text\n",
    "200 > 0 and 200 < 100 : False\n",
    "200 > 0 or 200 < 100 : True\n",
    "200 > 0 or 100 < 200 : True\n",
    "200 > 0 and 200 < 100 or 200 == -1 : False\n",
    "\n",
    "```"
   ]
  },
  {
   "cell_type": "code",
   "execution_count": 10,
   "metadata": {},
   "outputs": [
    {
     "name": "stdout",
     "output_type": "stream",
     "text": [
      "3.4 > 0 and 3.4 < 100 : True\n",
      "3.4 > 0 or 3.4 < 100 True\n",
      "3.4 > 0 or 100 < 3.4 True\n",
      "3.4 > 0 and 3.4 < 100 or 3.4 == -1 True\n"
     ]
    }
   ],
   "source": [
    "# Scrivi qua il tuo codice\n",
    "\n",
    "x = float(input('Prego, inserire un numero:'))\n",
    "\n",
    "print(f'{x} > 0 and {x} < 100 :', x > 0 and x < 100)\n",
    "print(f'{x} > 0 or {x} < 100', x > 0 or x < 100)\n",
    "print(f'{x} > 0 or 100 < {x}', x > 0 or 100 < x)\n",
    "print(f'{x} > 0 and {x} < 100 or {x} == -1', x > 0 and x < 100 or x == -1)"
   ]
  },
  {
   "cell_type": "markdown",
   "metadata": {},
   "source": [
    "#### Miglioriamo un po' il codice"
   ]
  },
  {
   "cell_type": "code",
   "execution_count": 24,
   "metadata": {},
   "outputs": [
    {
     "name": "stdout",
     "output_type": "stream",
     "text": [
      "Hai inserito un valore non valido:  789j\n"
     ]
    }
   ],
   "source": [
    "x = input('Prego, inserire un numero:')\n",
    "\n",
    "if x.replace('.', '').isdigit():\n",
    "    x = float(x)\n",
    "\n",
    "    print(f'{x} > 0 and {x} < 100 :', x > 0 and x < 100)\n",
    "    print(f'{x} > 0 or {x} < 100', x > 0 or x < 100)\n",
    "    print(f'{x} > 0 or 100 < {x}', x > 0 or 100 < x)\n",
    "    print(f'{x} > 0 and {x} < 100 or {x} == -1', x > 0 and x < 100 or x == -1)\n",
    "\n",
    "else:\n",
    "    print('Hai inserito un valore non valido: ', x)\n",
    "    # print('Hai inserito un valore non valido: ' + x)\n",
    "    # print(f'Hai inserito un valore non valido: {x}')"
   ]
  },
  {
   "cell_type": "markdown",
   "metadata": {},
   "source": [
    "#### Aggiungiamo un loop infinito"
   ]
  },
  {
   "cell_type": "markdown",
   "metadata": {},
   "source": [
    "Il loop infinito (`while True`) continuerà a girare finchè non eseguiamo l'istruzione `break`."
   ]
  },
  {
   "cell_type": "code",
   "execution_count": 1,
   "metadata": {},
   "outputs": [],
   "source": [
    "while True:\n",
    "\n",
    "    x = input('Prego, inserire un numero:')\n",
    "\n",
    "    if x.replace('.', '').replace('-', '').isdigit():  # Toglie l'eventuale punto prima di controllare\n",
    "                                      # che tutti i caratteri siano cifre. \n",
    "        x = float(x)\n",
    "\n",
    "        print(f'{x} > 0 and {x} < 100 :', x > 0 and x < 100)\n",
    "        print(f'{x} > 0 or {x} < 100', x > 0 or x < 100)\n",
    "        print(f'{x} > 0 or 100 < {x}', x > 0 or 100 < x)\n",
    "        print(f'{x} > 0 and {x} < 100 or {x} == -1', x > 0 and x < 100 or x == -1)\n",
    "\n",
    "        break  # Esce dal ciclo while\n",
    "\n",
    "    else:\n",
    "        print('Hai inserito un valore non valido: ', x)\n",
    "        # print('Hai inserito un valore non valido: ' + x)\n",
    "        # print(f'Hai inserito un valore non valido: {x}')\n"
   ]
  },
  {
   "cell_type": "markdown",
   "metadata": {},
   "source": [
    "#### Pattern utile quando dobbiamo confrontare la stessa variabile su più valori"
   ]
  },
  {
   "cell_type": "code",
   "execution_count": null,
   "metadata": {},
   "outputs": [],
   "source": [
    "risp = input()\n",
    "\n",
    "print(risp == 's' or risp == 'n' or risp == 'x' or  risp == 'f')\n",
    "\n",
    "print(risp in ('s', 'n', 'x', 'f'))"
   ]
  },
  {
   "cell_type": "markdown",
   "metadata": {},
   "source": [
    "## Esercizio 5: De Morgan (+)\n",
    "\n",
    "La legge di De Morgan permette di semplificare l'applicazione dell'operatore `not` ad espressioni che contengono operatori `and` e/o `or`. In particolare, questa legge ha due forme, una per la negazione di espressioni in `and`, e una per la negazione di espressioni in `or`:\n",
    "\n",
    "|               | equivale a\n",
    "--------------- | ------------------|\n",
    "`not (A and B)` | `not A or not B`  |\n",
    "`not (A or B)`  | `not A and not B` |\n",
    "\n",
    "Considerare le espressioni seguenti, e per ciascuna di esse applicare la legge di De Morgan. Provare a descrivere \"a parole\" il significato algebrico intuitivo di ciascuna espressione.\n",
    "\n",
    "Scrivere poi un programma che prenda in input un numero intero `x` e, per ciascuna delle seguenti espressioni (che corrispondono alla negazione delle espressioni dell'Esercizio 4), stampi:\n",
    "\n",
    "1. L'espressione di partenza.\n",
    "2. L'espressione una volta applicata la legge di De Morgan e il valore di verità risultante dalla sua valutazione.\n",
    "\n",
    "- `not(x > 0 and x < 100)`\n",
    "- `not(x > 0 or x < 100)`\n",
    "- `not(x > 0 or 100 < x)`\n",
    "- `not(x > 0 and x< 100 or x == -1)`"
   ]
  },
  {
   "cell_type": "markdown",
   "metadata": {},
   "source": [
    "ESEMPIO:\n",
    "\n",
    "Se `x = 200`\n",
    "\n",
    "Output atteso:\n",
    "\n",
    "```text\n",
    "Originale:\n",
    "200 > 0 and 200 < 100 : False\n",
    "\n",
    "Negato:\n",
    "# not (200 > 0 and 200 < 100) : False\n",
    "# not (200 > 0) or not (200 < 100) : True\n",
    "200 <= 0 or 200 >= 100 : True\n",
    "...\n",
    "```"
   ]
  },
  {
   "cell_type": "code",
   "execution_count": 14,
   "metadata": {},
   "outputs": [
    {
     "name": "stdout",
     "output_type": "stream",
     "text": [
      "True True True\n"
     ]
    }
   ],
   "source": [
    "# Scrivi qua il tuo codice\n",
    "\n",
    "not (200 > 0 and 200 < 100)\n",
    "not (200 > 0) or not (200 < 100)\n",
    "200 <= 0 or 200 >= 100"
   ]
  }
 ],
 "metadata": {
  "kernelspec": {
   "display_name": ".venv",
   "language": "python",
   "name": "python3"
  },
  "language_info": {
   "codemirror_mode": {
    "name": "ipython",
    "version": 3
   },
   "file_extension": ".py",
   "mimetype": "text/x-python",
   "name": "python",
   "nbconvert_exporter": "python",
   "pygments_lexer": "ipython3",
   "version": "3.10.13"
  }
 },
 "nbformat": 4,
 "nbformat_minor": 2
}
