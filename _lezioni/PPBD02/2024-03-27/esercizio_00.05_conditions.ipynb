{
 "cells": [
  {
   "cell_type": "markdown",
   "metadata": {},
   "source": [
    "# Esercizi introduttivi"
   ]
  },
  {
   "cell_type": "markdown",
   "metadata": {},
   "source": [
    "TEMI TRATTATI:\n",
    "\n",
    "- Scelte logiche.\n",
    "- Costrutti condizionali (`if`, `else` e `elif`).\n",
    "- Blocchi e istruzioni annidate.\n",
    "- Elaborazioni e confronti tra variabili con valori di tipo `int`, `float` e `str`.\n",
    "- Espressioni booleane."
   ]
  },
  {
   "cell_type": "markdown",
   "metadata": {},
   "source": [
    "NOTE SULLO SVOLGIMENTO:\n",
    "- Puoi svolgere ed eseguire gli esercizi direttamente qua su questo notebook oppure su un normale file di script Python con estensione `.py`, eseguendolo nel terminale del sistema operativo con il comando `py mio_esercizio.py` (Windows) oppure `python3 mio_esercizio.py` (Linux o macOS)."
   ]
  },
  {
   "cell_type": "markdown",
   "metadata": {},
   "source": [
    "## Esercizio 1: Andamenti\n",
    "\n",
    " Scrivere un programma che legga tre numeri e visualizzi il messaggio `'increasing'` se sono in ordine strettamente crescente, `'decreasing'` se sono in ordine strettamente decrescente e `'neither'` se non sono né in ordine crescente né in ordine decrescente.\n",
    " \n",
    " NOTA BENE: \"strettamente crescente\" significa che ciascun valore deve essere maggiore del precedente (analogo significato ha il termine decrescente). Per esempio la sequenza `3 4 4` non va considerata crescente."
   ]
  },
  {
   "cell_type": "code",
   "execution_count": 3,
   "metadata": {},
   "outputs": [
    {
     "name": "stdout",
     "output_type": "stream",
     "text": [
      "neither\n"
     ]
    }
   ],
   "source": [
    "# Scrivi qua il tuo codice\n",
    "num1 = input()\n",
    "num2 = input()\n",
    "num3 = input()\n",
    "\n",
    "\n",
    "if num1 < num2 and num2 < num3:\n",
    "    \n",
    "    print('increasing')\n",
    "\n",
    "elif num1 > num2 and num2 > num3:\n",
    "    \n",
    "    print('decreasing')\n",
    "\n",
    "else:\n",
    "    \n",
    "    print('neither')\n"
   ]
  },
  {
   "cell_type": "markdown",
   "metadata": {},
   "source": [
    "## Esercizio 2: Voti\n",
    "\n",
    "Scrivere un programma che riceva in input un voto in lettere inserito dall’utente, lo traduca nel corrispondente voto numerico e infine lo stampi\n",
    "\n",
    "- I voti in lettere sono `'A'`, `'B'`, `'C'`, `'D'` e `'F'`, eventualmente seguiti da un segno `+` o `–`.\n",
    "\n",
    "- I loro valori numerici sono, nell’ordine, `4.0`, `3.0`, `2.0`, `1.0` e `0.0`.\n",
    "\n",
    "- I voti `'F+'` e `'F–'` non esistono.\n",
    "\n",
    "- Un segno `+` aumenta il voto numerico di `0.3`, mentre un segno `–` lo diminuisce della stessa quantità.\n",
    "\n",
    "- Il voto `'A+'` è comunque uguale a `4.0`."
   ]
  },
  {
   "cell_type": "code",
   "execution_count": null,
   "metadata": {},
   "outputs": [],
   "source": [
    "# Scrivi qua il tuo codice\n"
   ]
  },
  {
   "cell_type": "markdown",
   "metadata": {},
   "source": [
    "## Esercizio 3: Cicli stagionali\n",
    "\n",
    "Il seguente pseudocodice descrive un algoritmo che individua la stagione (Primavera, Estate, Autunno o Inverno) a cui appartiene una data, fornita tramite due input numerici: mese e giorno.\n",
    "\n",
    "```text\n",
    "- Ottieni il numero del mese\n",
    "- Ottieni il numero del giorno\n",
    "\n",
    "- Se il mese è 1, 2 o 3:\n",
    "    - stagione = \"Inverno\"\n",
    "- Altrimenti se il mese è 4, 5 o 6:\n",
    "    - stagione = \"Primavera\"\n",
    "- Altrimenti se il mese è 7, 8 o 9:\n",
    "    - stagione = \"Estate\"\n",
    "- Altrimenti se il mese è 10, 11 o 12:\n",
    "    - stagione = \"Autunno\"\n",
    "\n",
    "- Se il mese è divisibile per 3 e il giorno >= 21:\n",
    "    - Se la stagione è \"Inverno\":\n",
    "        - stagione = \"Primavera\"\n",
    "    - Altrimenti se la stagione è \"Primavera\":\n",
    "        - stagione = \"Estate\"\n",
    "    - Altrimenti se la stagione è \"Estate\":\n",
    "        - stagione = \"Autunno\"\n",
    "    - Altrimenti:\n",
    "        - stagione = \"Inverno\"\n",
    "```"
   ]
  },
  {
   "cell_type": "markdown",
   "metadata": {},
   "source": [
    "Implementa in Python questo algoritmo.\n",
    "\n",
    "Scrivere un programma che chieda all’utente un mese e un giorno in forma numerica e poi visualizzi la stagione determinata da questo algoritmo.\n",
    "\n",
    "Verifica la correttezza dell'output tramite dei test manuali con date fittizie."
   ]
  },
  {
   "cell_type": "code",
   "execution_count": 6,
   "metadata": {},
   "outputs": [
    {
     "name": "stdout",
     "output_type": "stream",
     "text": [
      "Autunno\n"
     ]
    }
   ],
   "source": [
    "# Scrivi qua il tuo codice\n",
    "\n",
    "mese = 10\n",
    "giorno = 21\n",
    "\n",
    "if mese in (1, 2, 3):\n",
    "    stagione = 'Inverno'\n",
    "\n",
    "elif mese in (4, 5, 6):\n",
    "    stagione = 'Primavera'\n",
    "\n",
    "elif mese in (7, 8, 9):\n",
    "    stagione = 'Estate'\n",
    "\n",
    "elif mese in (10, 11, 12):\n",
    "    stagione = 'Autunno'\n",
    "\n",
    "else:\n",
    "    raise Exception('Il mese inserito non e valido!' + str(mese))\n",
    "\n",
    "\n",
    "# Se il mese e divisibile per 3 e il giorno >= 21\n",
    "\n",
    "# if not (mese % 3) and giorno >= 21:\n",
    "\n",
    "if mese % 3 == 0 and giorno >= 21:\n",
    "    if stagione == 'Inverno':\n",
    "        stagione = 'Primavera'\n",
    "\n",
    "    elif stagione == 'Primaver' :\n",
    "        stagione = 'Estate'\n",
    "    elif stagione == 'Estate' :\n",
    "        stagione = 'Inverno' \n",
    "print(stagione) "
   ]
  },
  {
   "cell_type": "code",
   "execution_count": 8,
   "metadata": {},
   "outputs": [
    {
     "name": "stdout",
     "output_type": "stream",
     "text": [
      "True\n",
      "True\n"
     ]
    }
   ],
   "source": [
    "mese = 12\n",
    "\n",
    "print(not(mese % 3))\n",
    "print(mese % 3 == 0)"
   ]
  }
 ],
 "metadata": {
  "kernelspec": {
   "display_name": ".venv",
   "language": "python",
   "name": "python3"
  },
  "language_info": {
   "codemirror_mode": {
    "name": "ipython",
    "version": 3
   },
   "file_extension": ".py",
   "mimetype": "text/x-python",
   "name": "python",
   "nbconvert_exporter": "python",
   "pygments_lexer": "ipython3",
   "version": "3.10.13"
  }
 },
 "nbformat": 4,
 "nbformat_minor": 2
}
