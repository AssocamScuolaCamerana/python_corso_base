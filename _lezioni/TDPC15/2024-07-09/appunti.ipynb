{
 "cells": [
  {
   "cell_type": "markdown",
   "metadata": {},
   "source": [
    "## Esempio di applicazione realizzata\n",
    "\n",
    "https://pethye724-pippotest.hf.space/"
   ]
  },
  {
   "cell_type": "markdown",
   "metadata": {},
   "source": [
    "## Documentazione di SQLAlchemy-serializer\n",
    "\n",
    "https://github.com/n0nSmoker/SQLAlchemy-serializer"
   ]
  },
  {
   "cell_type": "markdown",
   "metadata": {},
   "source": [
    "## Composite unique constraint\n",
    "\n",
    "Vincolo di unicità composito.\n",
    "\n",
    "Se vogliamo evitare che in una tabella possano esistere più record con due o più campi uguali, dobbiamo definire un vincolo `UniqueConstraint`.\n",
    "\n",
    "```python\n",
    "class Prenotazione(db.Model):\n",
    "    __tablename__ = 'prenotazioni'\n",
    "    id = db.Column(db.Integer(), primary_key=True, autoincrement=True)\n",
    "    user_id = db.Column(db.Integer(), db.ForeignKey('users.id'), nullable=False)\n",
    "    lotto_id = db.Column(db.Integer(), db.ForeignKey('lotti.id'), nullable=False)\n",
    "    qta = db.Column(db.Integer, nullable=False)\n",
    "\n",
    "    __table_args__ = (\n",
    "        db.UniqueConstraint('user_id', 'lotto_id', name='user_id_lotto_id_uniq'),\n",
    "    )\n",
    "```\n",
    "\n",
    "Per essere sicuri che non siano consentiti siano due record con il medesimo utente e lotto, basta aggiungere all'interno della classe del modello:\n",
    "\n",
    "```python\n",
    "    __table_args__ = (\n",
    "        db.UniqueConstraint('user_id', 'lotto_id', name='user_id_lotto_id_uniq'),\n",
    "    )\n",
    "```"
   ]
  },
  {
   "cell_type": "markdown",
   "metadata": {},
   "source": [
    "## Programmazione ad oggetti - Classi\n",
    "\n",
    "Aspetti importanti da comprendere nella definizione di una classe:\n",
    "\n",
    "- ereditarietà (singola o multipla)\n",
    "- metodo costruttore `__init__()`\n",
    "- funzione `super()`\n",
    "- nome `self` nei parametri dei metodi di istanza\n"
   ]
  },
  {
   "cell_type": "code",
   "execution_count": 5,
   "metadata": {},
   "outputs": [
    {
     "name": "stdout",
     "output_type": "stream",
     "text": [
      "Mario Rossi\n",
      "Nome: Mario, Cognome: Rossi, Matricola: 123456, Corso di studio: Informatica\n"
     ]
    }
   ],
   "source": [
    "class Persona:\n",
    "    def __init__(self, nome, cognome):\n",
    "        self.nome = nome\n",
    "        self.cognome = cognome\n",
    "\n",
    "    def nome_completo(self):\n",
    "        return f'{self.nome} {self.cognome}'\n",
    "\n",
    "    def descrizione(self):\n",
    "        return f'Nome: {self.nome}, Cognome: {self.cognome}'\n",
    "\n",
    "\n",
    "class Studente(Persona):\n",
    "    def __init__(self, nome, cognome, matricola, corso_di_studio):\n",
    "        super().__init__(nome, cognome)\n",
    "        self.matricola = matricola\n",
    "        self.corso_di_studio = corso_di_studio\n",
    "\n",
    "    def descrizione(self):\n",
    "        descrizione_base = super().descrizione()\n",
    "        return (f'{descrizione_base}, Matricola: {self.matricola}, '\n",
    "                f'Corso di studio: {self.corso_di_studio}')\n",
    "\n",
    "\n",
    "# Creo un'istanza di Studente\n",
    "studente = Studente('Mario', 'Rossi', '123456', 'Informatica')\n",
    "\n",
    "# Uso i metodi di istanza che ho definito nella Classe\n",
    "print(studente.nome_completo())\n",
    "print(studente.descrizione())"
   ]
  },
  {
   "cell_type": "code",
   "execution_count": 4,
   "metadata": {},
   "outputs": [
    {
     "name": "stdout",
     "output_type": "stream",
     "text": [
      "Mario Rossi\n",
      "Nome: Mario, Cognome: Rossi\n"
     ]
    }
   ],
   "source": [
    "persona = Persona('Mario', 'Rossi')\n",
    "\n",
    "print(persona.nome_completo())\n",
    "print(persona.descrizione())"
   ]
  }
 ],
 "metadata": {
  "kernelspec": {
   "display_name": ".venv",
   "language": "python",
   "name": "python3"
  },
  "language_info": {
   "codemirror_mode": {
    "name": "ipython",
    "version": 3
   },
   "file_extension": ".py",
   "mimetype": "text/x-python",
   "name": "python",
   "nbconvert_exporter": "python",
   "pygments_lexer": "ipython3",
   "version": "3.11.2"
  }
 },
 "nbformat": 4,
 "nbformat_minor": 2
}
