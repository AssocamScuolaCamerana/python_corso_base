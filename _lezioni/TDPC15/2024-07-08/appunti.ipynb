{
 "cells": [
  {
   "cell_type": "markdown",
   "metadata": {},
   "source": [
    "## Programmazione ad oggetti - Classi\n",
    "\n",
    "\n",
    "Vedi notebook: [15_python_oop.ipynb](../../../15_python_oop.ipynb)"
   ]
  },
  {
   "cell_type": "markdown",
   "metadata": {},
   "source": [
    "## Individuare gli errori\n",
    "\n",
    "Vedi notebook su repository \"backend\": A_debugging.ipynb"
   ]
  },
  {
   "cell_type": "markdown",
   "metadata": {},
   "source": [
    "## Elenco estensioni installate su VS Code\n",
    "\n",
    "```bash\n",
    "C:\\> code --list-extensions\n",
    "```"
   ]
  }
 ],
 "metadata": {
  "language_info": {
   "name": "python"
  }
 },
 "nbformat": 4,
 "nbformat_minor": 2
}
