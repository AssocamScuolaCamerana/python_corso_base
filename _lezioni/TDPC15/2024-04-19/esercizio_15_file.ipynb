{
 "cells": [
  {
   "attachments": {},
   "cell_type": "markdown",
   "metadata": {},
   "source": [
    "# Esercizio - Le età dei nostri amici"
   ]
  },
  {
   "attachments": {},
   "cell_type": "markdown",
   "metadata": {},
   "source": [
    "Requisiti: `import`, `with ... as`, `open`, `dict`"
   ]
  },
  {
   "attachments": {},
   "cell_type": "markdown",
   "metadata": {},
   "source": [
    "E’ dato un file `nomi_data_nascita.txt` nella cartella `/files_esercizi` del nostro repository. Il file è caratterizzato dal seguente formato rappresentante delle coppie nome/età. Per esempio:\n",
    "\n",
    "```python\n",
    "Ada: 1999\n",
    "Pippo: 1980\n",
    "Felice: 1976\n",
    "Geronima: 1999\n",
    "...\n",
    "```\n",
    "\n",
    "Leggi tutto il file creando un dizionario (`dict`) le cui chiavi sono corrispondono all’età della persona alla data attuale. A ciascuna età deve essere associata una lista con i nomi di persone che hanno quell’età.\n",
    "\n",
    "Output atteso:\n",
    "\n",
    "```python\n",
    "{24: ['Ada:', 'Geronima:', 'Roberto:'], 43: ['Pippo:', 'Ciccio:'], 47: ['Felice:', 'Mimmo:'], 51: ['Luca:', 'Pluto:'], 100: ['Totò:']}\n",
    "```"
   ]
  },
  {
   "cell_type": "code",
   "execution_count": null,
   "metadata": {},
   "outputs": [],
   "source": [
    "{\n",
    "    25: [\"Ada:\", \"Geronima:\", \"Roberto:\"],\n",
    "    44: [\"Pippo:\", \"Ciccio:\"],\n",
    "    48: [\"Felice:\", \"Mimmo:\"],\n",
    "    52: [\"Luca:\", \"Pluto:\"],\n",
    "    101: [\"Totò:\"],\n",
    "}"
   ]
  },
  {
   "cell_type": "code",
   "execution_count": 69,
   "metadata": {},
   "outputs": [
    {
     "name": "stdout",
     "output_type": "stream",
     "text": [
      "Ada 25\n",
      "Pippo 44\n",
      "Felice 48\n",
      "Geronima 25\n",
      "Ciccio 44\n",
      "Luca 52\n",
      "Roberto 25\n",
      "Pluto 52\n",
      "Mimmo 48\n",
      "Totò 101\n"
     ]
    }
   ],
   "source": [
    "# scrivi qui\n",
    "\n",
    "from datetime import date\n",
    "\n",
    "# 1. ottendo la \"data\" o la \"data e ora\"\n",
    "# 2 estraggo l'anno dalla data\n",
    "anno_corrente = date.today().year  # ok, è già integer!  # 2024\n",
    "\n",
    "# [1] Percorso relativo a un file che si trova in una cartella differente\n",
    "# percorso_file = '../files_esercizi/nomi_data_nascita.txt'\n",
    "\n",
    "# [2] Percorso relativo al file che si trova nella medesima cartella in cui mi trovo io\n",
    "percorso_file = 'nomi_data_nascita.txt'\n",
    "\n",
    "# [3] Percorso assoluto al file\n",
    "# percorso_file = '/Users/pippo/Repositories/python_corso_base/files_esercizi/nomi_data_nascita.txt'\n",
    "\n",
    "report = {}\n",
    "\n",
    "# Accedo al file\n",
    "mio_file = open(percorso_file, 'r', encoding='utf-8')\n",
    "\n",
    "# print(mio_file.read())\n",
    "\n",
    "# mio_file.seek(0)  # \"riavvolgo\" il file\n",
    "\n",
    "# Leggere il contenuto del file di TESTO\n",
    "# Per ciascuna riga:\n",
    "for line in mio_file:  # ATTENZIONE: funziona solo se il file è testuale\n",
    "    # print(line)\n",
    "    # print(repr(line))\n",
    "    \n",
    "    lista_linea = line.split(':')\n",
    "    # print(lista_linea)\n",
    "    nome = lista_linea[0]\n",
    "    anno_nascita = int(lista_linea[1].strip())   # Attenzione al tipo di dato!!\n",
    "    eta = anno_corrente - anno_nascita\n",
    "    print(nome, eta)\n",
    "    # Controllo se la chiave è presente nel dizionario\n",
    "    # Se la chiave con l'età è presente\n",
    "    if ... :\n",
    "        ...\n",
    "    # Se la chiave con l'età NON è presente\n",
    "    else:\n",
    "        ...\n"
   ]
  },
  {
   "cell_type": "code",
   "execution_count": 58,
   "metadata": {},
   "outputs": [
    {
     "name": "stdout",
     "output_type": "stream",
     "text": [
      "Ada: 1999\n",
      "\n",
      "Pippo: 1980\n",
      "\n",
      "Felice: 1976\n",
      "\n",
      "Geronima: 1999\n",
      "\n",
      "Ciccio: 1980\n",
      "\n",
      "Luca: 1972\n",
      "\n",
      "Roberto: 1999\n",
      "\n",
      "Pluto: 1972\n",
      "\n",
      "Mimmo: 1976\n",
      "\n",
      "Totò: 1923\n"
     ]
    }
   ],
   "source": [
    "while True:\n",
    "    linea = mio_file.readline()\n",
    "    if linea != '':\n",
    "        print(linea)\n",
    "    else:\n",
    "        break\n"
   ]
  },
  {
   "attachments": {},
   "cell_type": "markdown",
   "metadata": {},
   "source": [
    "Ora, riesci a scriverle in un file nuovo, mantenendo il seguente formato?\n",
    "\n",
    "```python\n",
    "Nome,Età\n",
    "Ada,24\n",
    "Geronima,24\n",
    "Roberto,24\n",
    "Pippo,43\n",
    "Ciccio,43\n",
    "...\n",
    "```"
   ]
  },
  {
   "attachments": {},
   "cell_type": "markdown",
   "metadata": {},
   "source": [
    "Prova a scrivere un nuovo file `nomi_eta.csv` nella cartella `/files_esercizi` del nostro repository.\n",
    "\n",
    "Normalmente i file `.csv` hanno la prima linea dedicata alle \"intestazioni di colonna\". In questo caso nella prima riga del file dovremmo avere `Nome,Età`."
   ]
  },
  {
   "cell_type": "code",
   "execution_count": null,
   "metadata": {},
   "outputs": [],
   "source": [
    "# scrivi qui"
   ]
  },
  {
   "attachments": {},
   "cell_type": "markdown",
   "metadata": {},
   "source": [
    "Per finire, riusciresti a creare uno script che prende in ingresso due parametri, il file di origine `nomi_data_nascita.txt` e il file di output `nomi_eta.csv` e che esegue le conversione creando il file di output?\n",
    "\n",
    "Per lanciare il nostro script, immaginando di trovarci nella cartella `/files_esercizi`, dovremmo poter lanciare un comando come il seguente:\n",
    "\n",
    "```shell\n",
    "$ py converti_nomi_nascita.py nomi_data_nascita.txt nomi_eta.csv\n",
    "```"
   ]
  },
  {
   "attachments": {},
   "cell_type": "markdown",
   "metadata": {},
   "source": [
    "Crea un nuovo file e chiamalo `converti_nomi_nascita.py` e salvalo dove preferisci, per esempio nella tua cartella `/personale` che dovresti avrere sul tuo branch del nostro repository.\n",
    "\n",
    "Ricorda che poi i percorsi ai file devono essere compatibili con la posizione in cui eseguirai lo script, dove tu ti trovi e dove si trova il file da convertire. Prova varie combinazioni, e vedi cosa succede e dove viene generato il file di output."
   ]
  }
 ],
 "metadata": {
  "kernelspec": {
   "display_name": ".venv",
   "language": "python",
   "name": "python3"
  },
  "language_info": {
   "codemirror_mode": {
    "name": "ipython",
    "version": 3
   },
   "file_extension": ".py",
   "mimetype": "text/x-python",
   "name": "python",
   "nbconvert_exporter": "python",
   "pygments_lexer": "ipython3",
   "version": "3.11.2"
  },
  "orig_nbformat": 4
 },
 "nbformat": 4,
 "nbformat_minor": 2
}
