{
 "cells": [
  {
   "cell_type": "markdown",
   "metadata": {},
   "source": [
    "### Argomento `back_populates`\n",
    "\n",
    "Quando usi `back_populates`, devi definire la relazione bidirezionale esplicitamente in entrambi i modelli coinvolti. Questo richiede di specificare il nome dell'attributo che definisce la relazione inversa sull'altro modello. Ecco un esempio:\n",
    "\n",
    "Nel modello `Messaggio`:\n",
    "\n",
    "```python\n",
    "user = db.relationship('Utente', back_populates='messaggi')\n",
    "```\n",
    "\n",
    "E nel modello `Utente`:\n",
    "\n",
    "```python\n",
    "messaggi = db.relationship('Messaggio', back_populates='user')\n",
    "```\n",
    "\n",
    "In questo caso:\n",
    "- `user` è un attributo nel modello `Messaggio` che definisce la relazione verso il modello `Utente`.\n",
    "- `back_populates='messaggi'` dice a SQLAlchemy che l'attributo `messaggi` nel modello `Utente` è la controparte di questa relazione.\n",
    "- Analogamente, `messaggi` nel modello `Utente` ha `back_populates='user'` per indicare la relazione inversa."
   ]
  }
 ],
 "metadata": {
  "language_info": {
   "name": "python"
  }
 },
 "nbformat": 4,
 "nbformat_minor": 2
}
