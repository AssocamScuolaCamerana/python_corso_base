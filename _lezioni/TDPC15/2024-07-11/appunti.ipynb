{
 "cells": [
  {
   "cell_type": "markdown",
   "metadata": {},
   "source": [
    "## Esercitati a rispondere a questo tipo di domande\n",
    "\n",
    "1. Descrivi le le metodologie e le procedure che hai usato nella progettazione dell'applicazione e del suo database.\n",
    "\n",
    "2. Quali tecnologie e strategie hai applicato per sviluppare l'interfaccia grafica?\n",
    "\n",
    "3. Quali difficoltà hai incontrato durante la realizzazione del progetto?\n",
    "\n",
    "4. Descrivi le principali funzionalità che offre l'applicazione. Ti vengono in mente dei suggerimenti per migliorare l'applicazione realizzata dal punto di vista dell'esperienza utente e della sicurezza?\n"
   ]
  }
 ],
 "metadata": {
  "language_info": {
   "name": "python"
  }
 },
 "nbformat": 4,
 "nbformat_minor": 2
}
