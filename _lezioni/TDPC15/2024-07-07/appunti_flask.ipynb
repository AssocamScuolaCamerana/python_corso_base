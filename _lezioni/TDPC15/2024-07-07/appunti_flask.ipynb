{
 "cells": [
  {
   "cell_type": "markdown",
   "metadata": {},
   "source": [
    "## Checklist per applicazione Flask"
   ]
  },
  {
   "cell_type": "markdown",
   "metadata": {},
   "source": [
    "### Requirements\n",
    "\n",
    "Fare mente locale dei moduli che ci serviranno:\n",
    "\n",
    "- Flask  ->  Webapp\n",
    "- Flask-SQLAlchemy  -> Database (SQLite come DBMS)\n",
    "\n"
   ]
  },
  {
   "cell_type": "markdown",
   "metadata": {},
   "source": [
    "### Creazione scheletro cartelle:\n",
    "\n",
    "```text\n",
    "my_app/\n",
    "├── static/\n",
    "|   ├── script.js\n",
    "│   └── style.css\n",
    "├── templates/\n",
    "│   └── home.html\n",
    "├── app.py        (routes)\n",
    "├── models.py     (logica del databe)\n",
    "├── settings.py   (configurazioni dell'applicazione)\n",
    "└──requirements.txt\n",
    "```"
   ]
  },
  {
   "cell_type": "markdown",
   "metadata": {},
   "source": [
    "### 1) Scheleto di `app.py` senza DB\n",
    "\n",
    "```python\n",
    "from flask import Flask\n",
    "\n",
    "app = Flask(__name__)\n",
    "\n",
    "db.init_app(app)\n",
    "\n",
    "@app.route('/')\n",
    "def home():\n",
    "    return render_template('home.html')\n",
    "\n",
    "if __name__ == '__main__':\n",
    "    app.run(debug=True)\n",
    "\n",
    "```"
   ]
  },
  {
   "cell_type": "markdown",
   "metadata": {},
   "source": [
    "### 2) Scheleto di `app.py` con DB\n",
    "\n",
    "```python\n",
    "from flask import Flask\n",
    "from models import db, init_db\n",
    "\n",
    "app = Flask(__name__)\n",
    "\n",
    "app.config['SQLALCHEMY_DATABASE_URI'] = 'sqlite:///sqlite.db'\n",
    "\n",
    "db.init_app(app)\n",
    "\n",
    "@app.route('/')\n",
    "def home():\n",
    "    return render_template('home.html')\n",
    "\n",
    "if __name__ == '__main__':\n",
    "    with app.app_context():\n",
    "        init_db()\n",
    "    app.run(debug=True)\n",
    "\n",
    "```"
   ]
  },
  {
   "cell_type": "markdown",
   "metadata": {},
   "source": [
    "### Scheletro `models.py`\n",
    "```python\n",
    "from flask_sqlalchemy import SQLAlchemy\n",
    "\n",
    "db = SQLAlchemy()\n",
    "\n",
    "class User(db.Model, SerializerMixin):\n",
    "    __tablename__ = 'users'\n",
    "    id = db.Column(db.Integer, primary_key=True, autoincrement=True)\n",
    "    name = db.Column(db.String(50), nullable=False)\n",
    "    password = db.Column(db.String(30), nullable=False)\n",
    "\n",
    "\n",
    "def init_db()\n",
    "    db.create_all()\n",
    "\n",
    "    # Ora posso popolare il DB con i dati iniziali\n",
    "    if User.query.first() is None:\n",
    "        ...\n",
    "\n",
    "```"
   ]
  },
  {
   "cell_type": "markdown",
   "metadata": {},
   "source": [
    "## Esempio con esercizio Gruppo di acquisto (E11)\n",
    "\n",
    "1. immaginare l'interfaccia utente (UI - User Interface)\n",
    "    - casi d'uso &rarr; esperienza utente (UX - User Experience)\n",
    "\n",
    "\n",
    "PAGINE (VISTE) DI ELENCO (listati)\n",
    "- **elenco lotti (homepage)**\n",
    "    - endpoint per dati lotti\n",
    "- **elenco prenotazioni utente**\n",
    "    - endpoint per dati prenotazioni dell'utente\n",
    "\n",
    "- elenco prodotti\n",
    "    - endpoint per dati prodotti\n",
    "- elenco produttori\n",
    "    - endpoint per dati produttori\n",
    "- elenco utenti\n",
    "    - endpoint per dati utenti\n",
    "\n",
    "\n",
    "PAGINE (VISTE) DI FORM (formulari)\n",
    "- **pagina singola prenotazione**\n",
    "    - enpoint per restituire la pagina del form\n",
    "    - enpoint per ricevere i dati delle modifiche\n",
    "\n"
   ]
  }
 ],
 "metadata": {
  "language_info": {
   "name": "python"
  }
 },
 "nbformat": 4,
 "nbformat_minor": 2
}
