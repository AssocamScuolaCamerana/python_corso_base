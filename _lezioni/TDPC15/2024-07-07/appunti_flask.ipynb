{
 "cells": [
  {
   "cell_type": "markdown",
   "metadata": {},
   "source": [
    "## Checklist per applicazione Flask"
   ]
  },
  {
   "cell_type": "markdown",
   "metadata": {},
   "source": [
    "### Requirements\n",
    "\n",
    "Fare mente locale dei moduli che serviranno:\n",
    "\n",
    "- Flask &rarr;  Webapp (web-server + logica di controllo app)\n",
    "\n",
    "- Flask-SQLAlchemy &rarr; interazione col Database (usiamo SQLite come DBMS)\n",
    "\n",
    "- SQLAlchemy-serializer &rarr; serializzaizone dei record SQLAlchemy in dizionari (risposte con dati dal DB in formato JSON)\n",
    "\n"
   ]
  },
  {
   "cell_type": "markdown",
   "metadata": {},
   "source": [
    "Installiamo le dipendenze\n",
    "\n",
    "```bash\n",
    "$ pip install Flask Flask-SQLAlchemy SQLAlchemy-serializer\n",
    "\n",
    "# oppure\n",
    "\n",
    "$ py -m install Flask Flask-SQLAlchemy SQLAlchemy-serializer\n",
    "```"
   ]
  },
  {
   "cell_type": "markdown",
   "metadata": {},
   "source": [
    "### Creazione scheletro cartelle:\n",
    "\n",
    "```text\n",
    "my_app/\n",
    "├── static/\n",
    "|   ├── script.js\n",
    "│   └── style.css\n",
    "├── templates/\n",
    "│   └── home.html\n",
    "├── app.py        (routes)\n",
    "├── models.py     (logica del databe)\n",
    "├── settings.py   (configurazioni dell'applicazione)\n",
    "└──requirements.txt\n",
    "```"
   ]
  },
  {
   "cell_type": "markdown",
   "metadata": {},
   "source": [
    "### 1) Scheletro senza DB"
   ]
  },
  {
   "cell_type": "markdown",
   "metadata": {},
   "source": [
    "#### `app.py`\n",
    "\n",
    "```python\n",
    "from flask import Flask\n",
    "\n",
    "app = Flask(__name__)\n",
    "\n",
    "db.init_app(app)\n",
    "\n",
    "@app.route('/')\n",
    "def home():\n",
    "    return render_template('home.html')\n",
    "\n",
    "if __name__ == '__main__':\n",
    "    app.run(debug=True)\n",
    "\n",
    "```"
   ]
  },
  {
   "cell_type": "markdown",
   "metadata": {},
   "source": [
    "### 2) Scheletro con DB"
   ]
  },
  {
   "cell_type": "markdown",
   "metadata": {},
   "source": [
    "#### `models.py`\n",
    "```python\n",
    "from flask_sqlalchemy import SQLAlchemy\n",
    "\n",
    "db = SQLAlchemy()\n",
    "\n",
    "class Libro(db.Model, SerializerMixin):\n",
    "    __tablename__ = 'libri'\n",
    "    id = db.Column(db.Integer, primary_key=True)\n",
    "    titolo = db.Column(db.String(200), nullable=False)\n",
    "    autore = db.Column(db.String(200), nullable=False)\n",
    "    anno = db.Column(db.Integer, nullable=False)\n",
    "\n",
    "def init_db()\n",
    "    db.create_all()\n",
    "\n",
    "    # Ora posso popolare il DB con i dati iniziali\n",
    "    if User.query.first() is None:\n",
    "        ...\n",
    "\n",
    "```"
   ]
  },
  {
   "cell_type": "markdown",
   "metadata": {},
   "source": [
    "#### `app.py`\n",
    "\n",
    "```python\n",
    "from flask import Flask\n",
    "from models import db, init_db, Libro\n",
    "\n",
    "app = Flask(__name__)\n",
    "\n",
    "app.config['SQLALCHEMY_DATABASE_URI'] = 'sqlite:///sqlite.db'\n",
    "\n",
    "db.init_app(app)\n",
    "\n",
    "# Mostra la pagina con l'elenco dei Libri (client-side rendering)\n",
    "@app.route('/')\n",
    "def libri():\n",
    "    return render_template('libri.html')\n",
    "\n",
    "# Restituisce un JSON con i dati di tutti i Libri\n",
    "@app.route('/api/get_libri', methods=['GET'])\n",
    "def get_libri():\n",
    "    libri = Libro.query.all()\n",
    "    res_dati = []\n",
    "    for libro in libri:\n",
    "        res_dati.append(libro.to_dict())\n",
    "    return res_dati\n",
    "\n",
    "\n",
    "# Mostra la pagina con il form di un singolo Libro (server-side rendering)\n",
    "@app.route('/libro/<int:libro_id>', methods=['GET'])\n",
    "def form_libro(libro_id):\n",
    "    libro = db.session.get(Libro, prenotazione_id)\n",
    "    return render_template('libro.html', libro=libro)\n",
    "\n",
    "# Riceve le i dati per la modifica di un Libro \n",
    "@app.route('/libro/<int:libro_id>', methods=['POST'])\n",
    "def update_libro(libro_id):\n",
    "    # Cerca il Libro e se non lo trova restituisce un messaggio di errore\n",
    "    libro = Libro.query.get_or_404(libro_id)\n",
    "\n",
    "    # Legge i dati ricevuti in formato JSON\n",
    "    titolo = request.json.get('titolo')\n",
    "    autore = request.json.get('autore')\n",
    "    anno = request.json.get('anno')\n",
    "\n",
    "    # Aggiorna i dati del Libro\n",
    "    libro.titolo = data['titolo']\n",
    "    libro.autore = data['autore']\n",
    "    libro.anno = data['anno']\n",
    "    db.session.commit()\n",
    "\n",
    "    # Restituisce i dati del Libro aggiornato\n",
    "    return jsonify(libro.to_dict())\n",
    "\n",
    "if __name__ == '__main__':\n",
    "    with app.app_context():\n",
    "        init_db()\n",
    "    app.run(debug=True)\n",
    "\n",
    "```"
   ]
  },
  {
   "cell_type": "markdown",
   "metadata": {},
   "source": [
    "## Esempio con esercizio Gruppo di acquisto (E11)\n",
    "\n",
    "1. immaginare l'interfaccia utente (UI - User Interface)\n",
    "    - casi d'uso &rarr; esperienza utente (UX - User Experience)\n",
    "\n",
    "\n",
    "PAGINE (VISTE) DI ELENCO (listati)\n",
    "- **elenco lotti (homepage)**\n",
    "    - endpoint per dati lotti\n",
    "- **elenco prenotazioni utente**\n",
    "    - endpoint per dati prenotazioni dell'utente\n",
    "\n",
    "- elenco prodotti\n",
    "    - endpoint per dati prodotti\n",
    "- elenco produttori\n",
    "    - endpoint per dati produttori\n",
    "- elenco utenti\n",
    "    - endpoint per dati utenti\n",
    "\n",
    "\n",
    "PAGINE (VISTE) DI FORM (formulari)\n",
    "- **pagina singola prenotazione**\n",
    "    - endpoint per restituire la pagina del form\n",
    "    - endpoint per ricevere i dati delle modifiche\n",
    "\n"
   ]
  }
 ],
 "metadata": {
  "language_info": {
   "name": "python"
  }
 },
 "nbformat": 4,
 "nbformat_minor": 2
}
