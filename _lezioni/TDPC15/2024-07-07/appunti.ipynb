{
 "cells": [
  {
   "cell_type": "markdown",
   "metadata": {},
   "source": [
    "## Ripasso sull'uso dei cicli `for` con strutture dati"
   ]
  },
  {
   "cell_type": "code",
   "execution_count": 6,
   "metadata": {},
   "outputs": [
    {
     "name": "stdout",
     "output_type": "stream",
     "text": [
      "21\n"
     ]
    }
   ],
   "source": [
    "pippo = [3, 4, 5]\n",
    "\n",
    "somma = 0\n",
    "somma += pippo[0] + 3\n",
    "somma += pippo[1] + 3\n",
    "somma += pippo[2] + 3\n",
    "\n",
    "print(somma)"
   ]
  },
  {
   "cell_type": "code",
   "execution_count": 11,
   "metadata": {},
   "outputs": [
    {
     "name": "stdout",
     "output_type": "stream",
     "text": [
      "40\n"
     ]
    }
   ],
   "source": [
    "pippo = [3, 4, 5, 6, 7]\n",
    "\n",
    "somma = 0\n",
    "for num in pippo:  # al primo giro num sarà pippo[0]\n",
    "    somma += num + 3\n",
    "\n",
    "print(somma) "
   ]
  },
  {
   "cell_type": "markdown",
   "metadata": {},
   "source": [
    "Riflessione sui tipi di dato:\n",
    "\n",
    "- sequenze (ordinate):\n",
    "    - list\n",
    "    - tuple\n",
    "    - str\n",
    "\n",
    "- mappature (chive: valore):\n",
    "    - dict\n",
    "\n",
    "- insiemi\n",
    "    - set"
   ]
  },
  {
   "cell_type": "code",
   "execution_count": 15,
   "metadata": {},
   "outputs": [
    {
     "name": "stdout",
     "output_type": "stream",
     "text": [
      "Pluto\n",
      "5\n",
      "cane\n"
     ]
    }
   ],
   "source": [
    "pluto = {\n",
    "    \"nome\": \"Pluto\",\n",
    "    \"eta\": 5,\n",
    "    \"razza\": \"cane\"\n",
    "}\n",
    "\n",
    "print(pluto[\"nome\"])\n",
    "print(pluto[\"eta\"])\n",
    "print(pluto[\"razza\"])"
   ]
  },
  {
   "cell_type": "code",
   "execution_count": 16,
   "metadata": {},
   "outputs": [
    {
     "name": "stdout",
     "output_type": "stream",
     "text": [
      "nome\n",
      "eta\n",
      "razza\n"
     ]
    }
   ],
   "source": [
    "pluto = {\n",
    "    \"nome\": \"Pluto\",\n",
    "    \"eta\": 5,\n",
    "    \"razza\": \"cane\"\n",
    "}\n",
    "\n",
    "for key in pluto:\n",
    "    print(key)"
   ]
  },
  {
   "cell_type": "code",
   "execution_count": 17,
   "metadata": {},
   "outputs": [
    {
     "name": "stdout",
     "output_type": "stream",
     "text": [
      "Pluto\n",
      "5\n",
      "cane\n"
     ]
    }
   ],
   "source": [
    "pluto = {\n",
    "    \"nome\": \"Pluto\",\n",
    "    \"eta\": 5,\n",
    "    \"razza\": \"cane\"\n",
    "}\n",
    "\n",
    "for key in pluto:\n",
    "    print(pluto[key])"
   ]
  },
  {
   "cell_type": "code",
   "execution_count": 27,
   "metadata": {},
   "outputs": [
    {
     "name": "stdout",
     "output_type": "stream",
     "text": [
      "nome : Pluto\n",
      "eta : 5\n"
     ]
    }
   ],
   "source": [
    "pluto = {\n",
    "    \"nome\": \"Pluto\",\n",
    "    \"eta\": 5,\n",
    "    \"razza\": \"cane\"\n",
    "}\n",
    "\n",
    "for key in pluto:\n",
    "    print(key, ':', pluto[key])\n",
    "    # if key == \"eta\":\n",
    "    #     break"
   ]
  },
  {
   "cell_type": "code",
   "execution_count": 26,
   "metadata": {},
   "outputs": [
    {
     "name": "stdout",
     "output_type": "stream",
     "text": [
      "nome : Pluto\n",
      "eta : 5\n",
      "razza : cane\n"
     ]
    }
   ],
   "source": [
    "pluto = {\n",
    "    \"nome\": \"Pluto\",\n",
    "    \"eta\": 5,\n",
    "    \"razza\": \"cane\"\n",
    "}\n",
    "\n",
    "for key, value in pluto.items():\n",
    "    print(key, ':', value)"
   ]
  },
  {
   "cell_type": "markdown",
   "metadata": {},
   "source": [
    "`for key, value in pluto.items()` in questo caso viene tradotto come se fosse così:"
   ]
  },
  {
   "cell_type": "code",
   "execution_count": 25,
   "metadata": {},
   "outputs": [
    {
     "name": "stdout",
     "output_type": "stream",
     "text": [
      "nome : Pluto\n",
      "eta : 5\n",
      "razza : cane\n"
     ]
    }
   ],
   "source": [
    "for key, value in [('nome', 'Pluto'), ('eta', 5), ('razza', 'cane')]:\n",
    "    print(key, ':', value)"
   ]
  },
  {
   "cell_type": "code",
   "execution_count": 23,
   "metadata": {},
   "outputs": [
    {
     "name": "stdout",
     "output_type": "stream",
     "text": [
      "4\n",
      "5\n"
     ]
    }
   ],
   "source": [
    "foo, bar = (4, 5)\n",
    "\n",
    "print(foo)\n",
    "print(bar)"
   ]
  },
  {
   "cell_type": "markdown",
   "metadata": {},
   "source": [
    "## Ciclo `while`"
   ]
  },
  {
   "cell_type": "code",
   "execution_count": null,
   "metadata": {},
   "outputs": [],
   "source": [
    "while True:  # Ciclo infito\n",
    "    ...\n",
    "    if ...:\n",
    "        break"
   ]
  },
  {
   "cell_type": "code",
   "execution_count": 28,
   "metadata": {},
   "outputs": [
    {
     "name": "stdout",
     "output_type": "stream",
     "text": [
      "0\n",
      "1\n",
      "2\n",
      "3\n",
      "4\n",
      "5\n",
      "6\n",
      "7\n",
      "8\n",
      "9\n"
     ]
    }
   ],
   "source": [
    "max_num = 10\n",
    "count = 0\n",
    "while count < max_num:\n",
    "    ...\n",
    "    print(count)\n",
    "    count += 1"
   ]
  },
  {
   "cell_type": "markdown",
   "metadata": {},
   "source": [
    "Ques'ultimo caso è più conveniente implementarlo con un ciclo `for` usando `range()`:"
   ]
  },
  {
   "cell_type": "code",
   "execution_count": 29,
   "metadata": {},
   "outputs": [
    {
     "name": "stdout",
     "output_type": "stream",
     "text": [
      "0\n",
      "1\n",
      "2\n",
      "3\n",
      "4\n",
      "5\n",
      "6\n",
      "7\n",
      "8\n",
      "9\n"
     ]
    }
   ],
   "source": [
    "max_num = 10\n",
    "\n",
    "for count in range(max_num):\n",
    "    ...\n",
    "    print(count)\n"
   ]
  }
 ],
 "metadata": {
  "kernelspec": {
   "display_name": ".venv",
   "language": "python",
   "name": "python3"
  },
  "language_info": {
   "codemirror_mode": {
    "name": "ipython",
    "version": 3
   },
   "file_extension": ".py",
   "mimetype": "text/x-python",
   "name": "python",
   "nbconvert_exporter": "python",
   "pygments_lexer": "ipython3",
   "version": "3.11.2"
  }
 },
 "nbformat": 4,
 "nbformat_minor": 2
}
