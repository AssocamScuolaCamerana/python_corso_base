{
 "cells": [
  {
   "attachments": {},
   "cell_type": "markdown",
   "metadata": {},
   "source": [
    "# CSV, JSON e XML\n",
    "\n",
    "Nel notebook precedente sui file abbiamo accennato ai tre formati pricipali per la serializzazione dei dati: CSV, JSON e XML.\n",
    "\n",
    "Prendiamo prima in dettaglio brevemente le loro caratteristiche principali e poi proviamo a vedere come leggerli e generarli in modo efficace.\n",
    "\n",
    "- [CSV](https://it.wikipedia.org/wiki/Comma-separated_values): Comma Separated Values (standard [RFC 4180)](https://www.rfc-editor.org/rfc/rfc4180)). \n",
    "- [JSON](https://it.wikipedia.org/wiki/JavaScript_Object_Notation): JavaScript Object Notation (standard [RFC 8259](https://www.rfc-editor.org/rfc/rfc8259)).\n",
    "- [XML](https://it.wikipedia.org/wiki/XML): eXtensible Markup Language (standard [by W3C](https://www.w3.org/TR/xml/) o SGML [ISO 8879](https://www.iso.org/standard/16387.html))."
   ]
  },
  {
   "attachments": {},
   "cell_type": "markdown",
   "metadata": {},
   "source": [
    "## CSV\n",
    "\n",
    "`.csv` è uno dei formati più vecchi e diffusi.\n",
    "\n",
    "CSV sta per *Comma-Separated Values*, ovvero \"valori separati da virgola\". Un file CSV consente di memorizzare i dati in un formato tabellare.\n",
    "\n",
    "Si tratta in realtà di un semplice file in cui ogni riga rappresenta solitamente una serie di dati che possiamo considerare come un insieme di *entry* o meglio, utilizzando un temine tipico dei database, un *record*.\n",
    "\n",
    "Ogni riga contiene poi più elementi separati da virgole, ovvero gli *attributi* del record.\n",
    "\n",
    "I dati in formato CSV possono essere facilmente importati in un foglio di calcolo (es. LibreOffice Calc o Excel) o in un database.\n",
    "\n",
    "I file CSV sono spesso utilizzati per lo scambio di dati tra software con formati interni diversi. Sono particolarmente utili nelle attività commerciali. In particolare, è possibile spostare i dati tra le implementazioni di diversi fornitori di fogli di calcolo, database e servizi web in generale."
   ]
  },
  {
   "attachments": {},
   "cell_type": "markdown",
   "metadata": {},
   "source": [
    "### Sintassi e struttura di base\n",
    "\n",
    "Un file CSV è composto dai seguenti elementi:\n",
    "\n",
    "- Riga di intestazione: una riga contenente i nomi delle colonne. È facoltativa, ma caldamente consigliata perché ci dice cosa sono i dati contenuti nel file.\n",
    "- Una o più righe contenenti i dati: ogni riga rappresenta una entità o \"record\" le cui proprietà sono elencate in serie, sulla riga stessa.\n",
    "- Un carattere separatore: usato per separare i dati su ciascuna riga. Di standard è il carattere virgola `,` (in inglese si dice _**comma**_).\n",
    "- Un carattere delimitatore di testo: usato per racchiudere valori ambigui (facoltativo). Di standard sono le virgolette `\"`.\n",
    "\n",
    "Vediamo un esempio di CSV:\n",
    "\n",
    "```csv\n",
    "blog title, date, author, file size\n",
    "Data Formats 101, 08-01-2017, Ben, 17kb\n",
    "```\n",
    "\n",
    "Questa scrittura deve essere interpretata così:\n",
    "\n",
    "| `blog title`       | `date`       | `author`    | `file size` |\n",
    "|--------------------|--------------|-------------|-------------|\n",
    "| `Data Formats 101` | `08-01-2017` | `Ben`       | `17kb`      |\n",
    "\n",
    "In realtà ne esistono molte varianti, in base al delimitatore che si vuole usare."
   ]
  },
  {
   "attachments": {},
   "cell_type": "markdown",
   "metadata": {},
   "source": [
    "Esiste l'espressione ombrello [_**Delimiter-Separated Values**_](https://en.wikipedia.org/wiki/Delimiter-separated_values) o DSV, che indica genericamente dei dati separati da un delimitatore. Ad esempio:\n",
    "- Tab (carattere di tabulazione) &rarr; TSV\n",
    "- Pipe (carattere `|`) &rarr; PSV\n",
    "\n",
    "Tuttavia i file vengono solitamente nominati con estensione `.csv` indipendentemente dal separatore usato!"
   ]
  },
  {
   "attachments": {},
   "cell_type": "markdown",
   "metadata": {},
   "source": [
    "#### In Italia - punto e virgola `;`\n",
    "\n",
    "In Italia e nei paesi di lingua romanza si tende ad usare il punto e virgola `;` anziché la virgola come separatore.\n",
    "\n",
    "> NOTA: Se il sistema operativo (Windows o macOS) sono impostati con la localizzazione italiana se si prova ad aprire un CSV con valori separati da virgole `,` anziché da punto e virgola `;` con Excel non si otterà il risultato sperato. È necessario andare su `Dati > Importa dati esterni > Importa da file di testo` e poi seguire la procedura guidata (wizard) per l'importazione e selezionare la virgola come separatore."
   ]
  },
  {
   "attachments": {},
   "cell_type": "markdown",
   "metadata": {},
   "source": [
    "### Inserimento di caratteri \"speciali\" nel testo dei dati\n",
    "\n",
    "In caso all'interno di un valore dovesse essere usato il carattere separatore è necessario ricorrere all'uso di un delimitatore di testo.\n",
    "\n",
    "E se il delimitatore di testo viene usato all'interno del testo, questo va raddoppiato.\n",
    "\n",
    "Per esempio:\n",
    "\n",
    "```csv\n",
    "blog title, date, author, file size\n",
    "Data Formats 101, 08-01-2017, Ben, 17kb\n",
    "\"Hello, Python!\", 23-04-2015, John \"\"Big Boy\"\" McCoy, 49kb\n",
    "```\n",
    "\n",
    "| `blog title`       | `date`       | `author`               | `file size` |\n",
    "|--------------------|--------------|------------------------|-------------|\n",
    "| `Data Formats 101` | `08-01-2017` | `Ben`                  | `17kb`      |\n",
    "| `Hello, Python!`   | `23-04-2015` | `John \"Big Boy\" McCoy` | `49kb`      |\n",
    "\n",
    "Fin qua sembra abbastanza semplice..."
   ]
  },
  {
   "attachments": {},
   "cell_type": "markdown",
   "metadata": {},
   "source": [
    "#### Ma se...\n",
    "\n",
    "Ma se bisogna scrivere sia il separatore che il delimitatore?\n",
    "\n",
    "| Valore effettivo      | Valore in CSV             |\n",
    "|:---------------------:|:-------------------------:|\n",
    "| `regular_value` | `regular_value` |\n",
    "| `Fresh, brown \"eggs\"` | `\"Fresh, brown \"\"eggs\"\"\"` |\n",
    "| `\"` | `\"\"\"\"` |\n",
    "| `\",\"` | `\"\"\",\"\"\"` |\n",
    "| `,,,\"` | `\",,,\"\"\"` |\n",
    "| `,\"\",` | `\",\"\"\"\",\"` |\n",
    "| `\"\"\"` | `\"\"\"\"\"\"\"\"` |\n",
    "\n",
    "Altri esempi [su Wikipedia](https://en.wikipedia.org/wiki/Comma-separated_values#Example)."
   ]
  },
  {
   "attachments": {},
   "cell_type": "markdown",
   "metadata": {},
   "source": [
    "Per fortuna Python ha degli strumenti che si occupano loro di gestire gran parte delle casistiche sia in lettura che in scrittura, quindi questi esempi ci servono solo a capire che, se apriamo manualmente e leggiamo un file CSV, a volte potremmo trovarci di fronte a sintassi un po' strane, ma queste servono solo a gestire questi casi speciali."
   ]
  },
  {
   "attachments": {},
   "cell_type": "markdown",
   "metadata": {},
   "source": [
    "### Pro e contro del CSV\n",
    "\n",
    "Pro:\n",
    "\n",
    "- Sono facilmente importabili su un foglio di calcolo standard (Excel, LibreOffice Calc ecc.)\n",
    "- Forniscono uno schema di informazioni semplice da creare e analizzare.\n",
    "- Sono molto compatti.\n",
    "\n",
    "Contro:\n",
    "\n",
    "- Quando i dati in ciascuna colonna hanno dimensioni molto diverse, si perde l'allineamento delle colonne e diventa difficile leggere i file CSV come testo semplice.\n",
    "- Un file CSV può contenere una sola \"tabella\".\n",
    "- Non c'è distinzione tra testo e valori numerici. Bisogna inoltre prestare particolare attenzione ai valori float e al loro separatore dei decimali (`.` contro `,`) quando leggiamo i dati perché questo dipende da quale separatore dei dati è stato usato usato (e viceversa). Insomma, è facile sbagliare!\n",
    "- Non esiste un modo standard per rappresentare i dati binari.\n",
    "- Problemi con la distinzione tra valori nulli e stringhe vuote.\n",
    "- Le sequenze di escape non sono proprio intuitive."
   ]
  },
  {
   "attachments": {},
   "cell_type": "markdown",
   "metadata": {},
   "source": [
    "## JSON\n",
    "\n",
    "JSON sta per \"JavaScript Object Notation\". Deriva dal linguaggio [JavaScript](https://it.wikipedia.org/wiki/JavaScript), ma è considerato indipendente dal linguaggio: funziona con quasi tutti i linguaggi di programmazione.\n",
    "\n",
    "`.json` è un formato che utilizza una struttura dati molto simile a un dizionario Python, ma con alcune differenze, che vedremo più avanti.\n",
    "\n",
    "```json\n",
    "{ \"blog title\": \"Data Formats 101\", \"date\": \"08-01-2017\", \"author\": \"ben\", \"file size\": \"17kb\" }\n",
    "```\n",
    "Con il formato JSON possimo creare anche annidare i dati, crando così anche strutture più complesse:\n",
    "\n",
    "```json\n",
    "{ \"blog title\": \"Data Formats 101\", \"date\": \"08-01-2017\", \"author\": \"ben\", \"file size\": \"17kb\", \"sections\": { \"Section_1\": \"JSON\", \"Section_2\": \"XML\", \"Section_3\": \"CSV\", \"Section_4\": \"TSV\" }, \"publication_channels\" : [\"medium\", \"twitter\", \"facebook\", \"linkedin\"] }\n",
    "```"
   ]
  },
  {
   "cell_type": "markdown",
   "metadata": {},
   "source": [
    "[Link alla versione \"beautified/prettyfied\"](https://prettier.io/playground/#N4Igxg9gdgLgprEAuEwAEAdEAjANhAczRgEsZc4slMQARAQxnrQDEIAnAW0YGc0BGAAz8sAGhoATRpWQ1BADgC0wxQCZhAdjE16AVxgALDlRrYE2rADMSFNDxIAvGdSz8NAa2wWQPOGFLQPCboWADKfgFQAPoislgAUqEA8gBy3uH+JNBRqiZYABoAsgAy6RFZ0QDMeSAAwqEAamWZ2QAsNQAqjVhoAL7iWAAOungkYIwVUWAG9FBQcLhBIGjUANpYnHASJLqc3jAA7mTw7N6W9GBw2BAQ7t64JFDuW49YALp9IKIgEIORPMhQPR2OwIAcAArAhAAlD0XAHegATwB32w7AuzxgoXom2KjzgyHOizgqPRYExoUGF0eBGQMHYuhJIDgnDMEgkW2KswIunoBDgbC4jFIUFpsP0EC+IAMME4uAA6gYyHAeFTLuEoPZSAA3MiI5DgHgokCPXzsGDg9EEbiEuG+b4AKx4AA9QjSKABFXQQeC24nfKnsM0Gp3QKWDdiPGDykgSQzIeSCAOg3zy9GDA0RlVwdjagnfACO3vglt+MJA9B4inmWy2UvYcCLJAblr5NqQRPtPhZJDpDKZ9lFFAAgjB6SRsPo4OCc3j5n6u4OCJ7iwSO3amUxsDG4wZkK1vvT6DYabUIJx28yeABWKW6XwdejYGGdpnaxkASSgHNgoTAkb+Ydv1CGBEQoBc4F6XogA)."
   ]
  },
  {
   "attachments": {},
   "cell_type": "markdown",
   "metadata": {},
   "source": [
    "Grazie alla sintassi leggera di JSON, è possibile memorizzare e inviare facilmente ad altre applicazioni qualsiasi cosa, da numeri e stringhe ad array e oggetti. È anche possibile creare strutture di dati più complesse collegando nidificando oggetti e array."
   ]
  },
  {
   "attachments": {},
   "cell_type": "markdown",
   "metadata": {},
   "source": [
    "### Sintassi e struttura di base\n",
    "\n",
    "Il testo JSON sopporta due strutture di base:\n",
    "\n",
    "- oggetto `{ }`: un insieme di coppie `chiave:valore` separate da virgola (anche detto \"array associativo\" o \"dizionario\");\n",
    "- array `[ ]`: un insieme ordinato di valori separati da virgola (anche detto \"lista\").\n",
    "\n",
    "> NOTA: JSON non supporta i commenti."
   ]
  },
  {
   "cell_type": "markdown",
   "metadata": {},
   "source": [
    "#### Oggetti\n",
    "\n",
    "Gli oggetti JSON sono scritti tra parentesi graffe `{}` e le loro coppie `chiave:valore` sono separate da una virgola `,`. La chiave e il valore della coppia sono separati da due punti `:`. Ecco un esempio:\n",
    "\n",
    "```json\n",
    "{\n",
    "    \"first_name\": \"Sophie\",\n",
    "    \"last_name\": \"Goodwin\",\n",
    "    \"age\": 34\n",
    "}\n",
    "```\n",
    "\n",
    "Qui si possono vedere i dati di alcuni utenti in formato JSON.\n",
    "\n",
    "Le chiavi di un oggetto sono sempre stringhe, mentre i valori possono essere di sette tipi diversi, compresi altri oggetti o array.\n",
    "\n",
    "Si noti che non è necessario mettere una virgola (`,`) dopo l'ultima coppia `chiave:valore`."
   ]
  },
  {
   "attachments": {},
   "cell_type": "markdown",
   "metadata": {},
   "source": [
    "#### Array\n",
    "\n",
    "Gli array sono scritti tra parentesi quadre `[]` e i loro valori sono separati da una virgola `,`. Il valore dell'array, ancora una volta, può essere di qualsiasi tipo, compreso un altro array o un oggetto. Ecco un esempio di array:\n",
    "\n",
    "```json\n",
    "[\"night\", \"street\", false, [ 345, 23, 8, \"juice\"], \"fruit\", {\"name\": \"Pippo\", \"age\": 65}]\n",
    "```\n",
    "\n",
    "Il più delle volte, un array include elementi simili, ma non è obbligatorio, come vediamo nell'esepio.\n"
   ]
  },
  {
   "attachments": {},
   "cell_type": "markdown",
   "metadata": {},
   "source": [
    "### Oggetti annidati\n",
    "\n",
    "JSON è un formato molto flessibile. È possibile annidare oggetti e array all'interno di altri oggetti e array creando strutture ad albero:\n",
    "\n",
    "```json\n",
    "{\n",
    "  \"persons\": [\n",
    "    {\n",
    "      \"firstName\": \"Whitney\",\n",
    "      \"lastName\": \"Byrd\",\n",
    "      \"age\": 20\n",
    "    },\n",
    "    {\n",
    "      \"firstName\": \"Eugene\",\n",
    "      \"lastName\": \"Lang\",\n",
    "      \"age\": 26\n",
    "    },\n",
    "    {\n",
    "      \"firstName\": \"Sophie\",\n",
    "      \"lastName\": \"Goodwin\",\n",
    "      \"age\": 34,\n",
    "      \"book_ids\": [456, 567, 34, 64, 98]\n",
    "    }\n",
    "  ]\n",
    "}\n",
    "```\n",
    "\n",
    "Gli oggetti annidati sono completamente indipendenti e possono avere proprietà diverse (vedi `book_ids` nell'esempio). In pratica però, questi oggetti si assomigliano spesso perché di solito gli \"oggetti fratelli\" dovrebbero avere le stesse caratteristiche."
   ]
  },
  {
   "attachments": {},
   "cell_type": "markdown",
   "metadata": {},
   "source": [
    "### camelCase VS snake_case\n",
    "\n",
    "Se avete letto con attenzione gli esempi di oggetti JSON, potresti esserti posto questa domanda: quale stile di scrittura delle parole composte si dovrebbe usare per JSON?\n",
    "\n",
    "- _**CamelCase**_ è uno stile in cui le parole composte sono scritte insieme e senza spazi, ma ogni parola all'interno della frase inizia con una lettera maiuscola. Lo stile si chiama \"camelCase\" perché le lettere maiuscole all'interno della parola assomigliano alle gobbe di un cammello.\n",
    "- _**snake_case**_ è uno stile dove le parole sono unite tra loro con l'underscore `_`.\n",
    "\n",
    "In realtà, la scelta della giusta convenzione di denominazione JSON dipende direttamente dal linguaggio di programmazione e dalle librerie che utilizzate. È possibile utilizzare sia *camelCase* che *snake_case*, qualsiasi scelta sarà valida, ma è sconsigliato mischiare gli stili all'interno dello stesso file o base di dati.\n",
    "\n"
   ]
  },
  {
   "attachments": {},
   "cell_type": "markdown",
   "metadata": {},
   "source": [
    "### Inserimento di caratteri \"speciali\" nel testo dei dati\n",
    "\n",
    "Se dobbiamo inserire delle virgolette `\"` o un backslash `\\` all'interno dei dati dobbiamo prima inserire il carattere di escape `\\`:\n",
    "\n",
    "| Valore effettivo | Valore in JSON |\n",
    "|:----------------:|:--------------:|\n",
    "| `\"`              | `\\\"`           |\n",
    "| `\\`              | `\\\\`           |\n",
    "| `\\\"`             | `\\\\\\\"`         |"
   ]
  },
  {
   "attachments": {},
   "cell_type": "markdown",
   "metadata": {},
   "source": [
    "### Pro e contro dell'XML\n",
    "\n",
    "Pro:\n",
    "\n",
    "- Data la sua ompattezza e leggerezza rispetto all'XML, JSON è il formato di interscambio più usato sul Web per le comunicazioni client-server.\n",
    "- Maggiore flessibilità nella descrizione di strutture dati complesse (nidificazione e coppie chiave-valore) rispetto al semplice CSV.\n",
    "- Alta leggibilità, anche per non è programmatore. Il formato JSON è anche sovente usato nei file di configurazione dei programmi. Per esempio VS Code salva le tue configurazioni in file JSON.\n",
    "- La maggior parte dei linguaggi di programmazione dispone di funzioni e librerie per leggere e creare strutture JSON.\n",
    "\n",
    "Contro:\n",
    "\n",
    "- Non esiste ancora un unico standard internazionale che descrive il linguaggio univocamente.\n",
    "- L'alta flessibilità rende però le strutture di dati JSON meno robuste rispetto all'XML.\n",
    "- Non è prevista la possibilità di definire una grammatica formale come invece si può fare con l'XML.\n",
    "- Non è possibile inserire commenti esplicitamente (ovvero parti di testo che devono essere ignorate e non considerate dati). Eventuali commenti vanno inseriti come dati e marcati secondo una convenzione prestabilita, in modo da ignorarli quando andiamo a leggere i dati.\n"
   ]
  },
  {
   "attachments": {},
   "cell_type": "markdown",
   "metadata": {},
   "source": [
    "## XML\n",
    "\n",
    "XML sta per \"eXtensible Markup Language\".\n",
    "\n",
    "`.xml` è un formato appartenenete alla macro-famiglia detta [SGML](https://it.wikipedia.org/wiki/Standard_Generalized_Markup_Language) (*Standard Generalized Markup Language*), da cui deriva anche il più famoso [HTML](https://it.wikipedia.org/wiki/HTML).\n",
    "\n",
    "In pratica XML e HTML sono strettemente imparentati. Infatti se hai già visto del codice HTML, questa sintassi dovrebbe esserti familiare:\n",
    "\n",
    "```xml\n",
    "<entry> <blog_title>Data Formats 101</blog_title> <date>08-01-2017</date> <author>Ben</author> <file_size>17kb</file_size> </entry>\n",
    "```\n",
    "\n",
    "Anche l'XML permette l'annidamento dei dati:\n",
    "\n",
    "```xml\n",
    "<entry> <blog_title>Data Formats 101</blog_title> <date>08-01-2017</date> <author>Ben</author> <file_size>17kb</file_size> <sections type=”object”> <section_1>JSON</section_1> <section_2>XML</section_2> <section_3>CSV</section_3> <section_4>TSV</section_4> </sections>@t <publication_channels type=”array”> <value>medium</value> <value>twitter</value> <value>facebook</value> <value>linkedin</value> </publication_channels> </entry>\n",
    "```"
   ]
  },
  {
   "attachments": {},
   "cell_type": "markdown",
   "metadata": {},
   "source": [
    "[Link alla versione \"beautified/prettyfied\"](https://prettier.io/playground/#N4Igxg9gdgLgprEAuEAeBMBOBPAfAAlQCMAbCAcwH0YBLGEuXAEQEMYX8AxCTAWzYDO+AIwAGYagD0pCtToMCqACZtGogBwBacZoBM4gOxSV8RSwCuMABY9cAIQRSL124QBmNBpQE0AXo2EDAGsiKQ8vH39FATgwWmghGGwABzgAXkBcAggiACtYmAzo-JpoSmFcACkAZQB5ADkpGLiSqDKi5tLdXAANAFkAGUbizvb41oBmXABhKoA1IY6J0ZbKABZcABU5hbG1xUkmsYFcAAEYQmTzUhowNhWwKxYoKDgSRJT0jJZMTBZsQsIADcWCRzIxeHAlDRzLwpMDQYwgSCwbgYAB3OjwTBw5GI1DwlFuFhgOBECAQII4hGKAmMEg0KBBSEMqkowiSS7XW67B5PF5vfYYHC4EAAGhAEGSR2QoG+mAgaIACt8EAJkCAQWi-mrxURfmAmTAqiwIf0GXBkES3nBdfrDVVksSGeRkFgweK4LwiJClJD+k9yOYWOQ4Nw+GxaFAXShnBAxSArDBeCQAOpWOhwASOklVVV0GiAujYdU0chQHgW8UMmKYGCK37kfiWkExcU5AQADyqzoYAEVzBB4M3reLHZga+rE8n48lMAyYCmaEprMh1KJR-KYinfsl1bPM3BMIDKyAAI4D+D1yVqmMCTQvSGQ+OYODnmgv+vBptIK2tkAxXgaFdTB3X-Hs4AAQRgLAaCISw4EVQ8zReYc-x8KM+wvC0fxbG0QHYIhF2XKxkFWcUsBYTxnSmCBeG-EBMwAVnjcwYg2FgiBvX88MBMEAEkoF9WAqjAOcpQgwSqiSBhULgABfOSgA)."
   ]
  },
  {
   "attachments": {},
   "cell_type": "markdown",
   "metadata": {},
   "source": [
    "La differenza più rilevante tra JSON e XML è che l'XML consente di memorizzare anche i cosiddetti \"[metadati](https://it.wikipedia.org/wiki/Metadato)\" in un modo inequivocabile.\n",
    "\n",
    "```xml\n",
    "<date timezone=\"UTC\">08-01-2017</date>\n",
    "```\n",
    "\n",
    "se avessimo voluto fare la stessa cosa con JSON, avremmo dovuto creare un \"campo\" apposito:\n",
    "\n",
    "```json\n",
    "{ \"timezone\": \"UTC\", \"date\": \"08-01-2017\" }\n",
    "```"
   ]
  },
  {
   "attachments": {},
   "cell_type": "markdown",
   "metadata": {},
   "source": [
    "### Sintassi e struttura di base\n",
    "\n",
    "In XML abbiamo due contenitori per i nosti dati: i _**tag**_ e gli _**attributi**_ dei tag.\n",
    "\n",
    "- I tag definiscono gli elementi che possono contenere dati.\n",
    "- Gli attributi definiscono le proprità degli elementi che possono contenere dati. \n",
    "- I tag possono contenere altri tag, per creare strutture nidificate."
   ]
  },
  {
   "attachments": {},
   "cell_type": "markdown",
   "metadata": {},
   "source": [
    "### Tag ed elementi\n",
    "\n",
    "Ogni documento XML è da _**elementi**_ descritti e delimitati da _**tag**_.\n",
    "\n",
    "Un tag è una stringa con un significato assegnato, che di solito rappresenta un'entità come un libro, una persona ecc.\n",
    "\n",
    "La stringa è racchiusa tra parentesi uncinate (o angolari) `< >`.\n",
    "\n",
    "È interessante notare che lo standard XML non fornisca affatto i tag, ma offre agli sviluppatori l'opportunità di \"inventarli\" autonomamente.\n",
    "\n",
    "Un elemento è un blocco/frammento di una struttura XML: è definito con i tag e può contenere testo, altri tag (e dunque altri elementi) e _**attributi**_.\n",
    "\n",
    "Ecco un esempio di documento XML che descrive un libro con un titolo e un autore:\n",
    "\n",
    "```xml\n",
    "<?xml version=\"1.0\" encoding=\"UTF-8\"?>\n",
    "<libro>\n",
    "    <titolo>Think Python</titolo>\n",
    "    <autore>Downey, Allen B.</autore>\n",
    "</libro>\n",
    "```\n",
    "\n",
    "Questo documento ha tre tag: `<libro>`, `<titolo>` e `<autore>`."
   ]
  },
  {
   "attachments": {},
   "cell_type": "markdown",
   "metadata": {},
   "source": [
    "I tag (elementi) possono essere scritti usando:\n",
    "\n",
    "- una coppia di *Start-tag/End-tag* (`<tag> </tag>`) \n",
    "- un singolo *Empty-element-tag* (`<tag/>`)\n",
    "\n",
    "In pratica tutti gli elementi devono avere un tag di chiusura (un tag simile, ma con una barra `/` davanti) o terminare semplicemente con una barra (`/>`):\n",
    "\n",
    "```xml\n",
    "<elemento-tag>dato1</elemento-tag>\n",
    "\n",
    "<elemento-tag testo=\"dato1\"/>\n",
    "```"
   ]
  },
  {
   "attachments": {},
   "cell_type": "markdown",
   "metadata": {},
   "source": [
    "### Elementi figli\n",
    "\n",
    "Ogni documento XML ha sempre un singolo elemento chiamato \"root\" (radice) principale.\n",
    "\n",
    "Questo elemento può contenere altri elementi, chiamati \"elementi figli\" (*child elements*), che a loro volta possono avere dei figli.\n",
    "\n",
    "Il seguente documento XML rappresenta i libri contenuti in una biblioteca:\n",
    "\n",
    "```xml\n",
    "<biblioteca>\n",
    "    <libro>\n",
    "        <titolo>Il Principe</titolo>\n",
    "        <autore>Macchivelli, Niccolò</autore>\n",
    "    </libro>\n",
    "    <libro>\n",
    "        <titolo>Liber abbaci</titolo>\n",
    "        <autore>Fibonacci, Leonardo</autore>\n",
    "    </libro>\n",
    "</biblioteca>\n",
    "```"
   ]
  },
  {
   "attachments": {},
   "cell_type": "markdown",
   "metadata": {},
   "source": [
    "In questo esempio, l'elemento radice <biblioteca> ha due elementi figli taggati <libro> e l'elemento <libro> ha a sua volta due elementi figli: <titolo> e <autore>. "
   ]
  },
  {
   "attachments": {},
   "cell_type": "markdown",
   "metadata": {},
   "source": [
    "### Prolog\n",
    "\n",
    "Lo standard XML prevede la presenza del cosiddetto _**prolog**_ (prologo) nella prima riga di un file XML:\n",
    "\n",
    "```xml\n",
    "<?xml version=\"1.0\" encoding=\"UTF-8\"?>\n",
    "```\n",
    "Specifica la versione dello standard XML (di solito 1.0) e definisce la codifica (qui è UTF-8).\n",
    "\n",
    "Il prologo è facoltativo, ma se c'è, deve essere il elemento del documento.\n",
    "\n",
    "> NOTE: Un prologo non ha un tag di chiusura e ha una notazione speciale `<? ?>`."
   ]
  },
  {
   "attachments": {},
   "cell_type": "markdown",
   "metadata": {},
   "source": [
    "### Attributi\n",
    "\n",
    "Gli elementi XML possono possedere _**attributi**_ che forniscono dei \"campi\" aggiuntivi per immagazzinare informazioni relative sull'elemento.\n",
    "\n",
    "Il valore dell'attributo è sempre inserito tra virgolette doppie o singole:\n",
    "\n",
    "```xml\n",
    "<libro titolo=\"Il quadrato rosso\"/>\n",
    "<libro titolo='Il quadrato rosso'/>\n",
    "```\n",
    "\n",
    "Un elemento può contenere più di un attributo:\n",
    "\n",
    "```xml\n",
    "<libro titolo=\"Il Principe\" autore=\"Macchivelli, Niccolò\" pagine=\"256\">\n",
    "```\n",
    "\n",
    "La nostra libreria, avremmo potuto scriverla anche così:\n",
    "\n",
    "```xml\n",
    "<biblioteca>\n",
    "    <libro titolo=\"Il Principe\" autore=\"Macchivelli, Niccolò\">\n",
    "    <libro titolo=\"Liber abbaci\" autore=\"Fibonacci, Leonardo\">\n",
    "    <libro titolo=\"Il deserto dei Tartari\" autore=\"Buzzati, Dino\">\n",
    "</biblioteca>\n",
    "```"
   ]
  },
  {
   "attachments": {},
   "cell_type": "markdown",
   "metadata": {},
   "source": [
    "### Attributi e/o elementi figli?\n",
    "\n",
    "Come si può vedere, in alcuni casi gli attributi potrebbero sostituire gli elementi figli.\n",
    "\n",
    "Non esiste un consenso su cosa sia meglio usare e in quale circosatanza. Di solito dipende dai dati che si sta cercando di serializzare, dagli strumenti per l'elaborazione di XML e, naturalmente, dalle persone con cui si lavora.\n",
    "\n",
    "Come abbiamo visto, sono un ottimo posto dove mettere dei _**metadati**_, ovvero informazioni aggiuntive sul nostro \"dato reale\" (chi l'ha creato o modificato, come decofificarlo correttamente ecc.).\n",
    "\n",
    "Si noti che un elemento può avere sia attributi che elementi figli insieme.\n",
    "\n",
    "```xml\n",
    "<libro data-inserimento=\"2023-03-14\" utente=\"Pippo Disney\">\n",
    "    <titolo>Il Principe</titolo>\n",
    "    <autore>Macchivelli, Niccolò</autore>\n",
    "</libro>\n",
    "```"
   ]
  },
  {
   "attachments": {},
   "cell_type": "markdown",
   "metadata": {},
   "source": [
    "### Inserimento di caratteri \"speciali\" nel testo dei dati\n",
    "\n",
    "Come in Python, se il valore dell'attributo contiene virgolette doppie, è possibile utilizzare virgolette singole e viceversa. Ad esempio:\n",
    "\n",
    "```xml\n",
    "<libro titolo=\"Let's python!\"/>\n",
    "<libro titolo='Il \"Tramonto in mare\" di Ivan Aivazovsky'/>\n",
    "```\n",
    "\n",
    "Nel testo di un elemento e nel valore di un attributo non possiamo usare questi caratteri: `<`, `>` e `&`. \n",
    "Inoltre, nel valore di un attributo potremmo volere usasre direttamente `'` o `\"` indipendentemente dalle virgolette esterne.\n",
    "\n",
    "In XML non esistono caratteri di escape veri e prorpri, ma possiamo esprimere qualsiasi carattere tramite i cosiddetti [*special entity symbols*](https://en.wikipedia.org/wiki/List_of_XML_and_HTML_character_entity_references), che seguono una sintassi simile a questa: `&codice;`.\n",
    "\n",
    "| Simbolo | Entity name | Decimal form |\n",
    "|:-------:|:------------|--------------|\n",
    "| `&`     | `&amp;`     | `&#38;`      |\n",
    "| `<`     | `&lt;`      | `&#60;`      |\n",
    "| `>`     | `&gt;`      | `&#62;`      |\n",
    "| `\"`     | `&quot;`    | `&#34;`      |\n",
    "| `'`     | `&apos;`    | `&#39;`      |\n",
    "\n",
    "Ecco degli esempi di applicazione:\n",
    "\n",
    "```xml\n",
    "<libro titolo=\"Il &quot;De sterrennacht&quot; di Vincent van Gogh\"/>\n",
    "\n",
    "<film titolo=\"Batman &amp; Robin\" regista=\"Joel Schumacher\"/>\n",
    "\n",
    "<quiz>\n",
    "    <domanda>A cosa serve il tag &lt;style&gt; in HTML?</domanda>\n",
    "    <risposta>Serve per inserire delle regole di stile CSS.</risposta>\n",
    "</quiz>\n",
    "```\n",
    "\n",
    "> SUGGERIMENTO: Il sito [amp-what.com](https://www.amp-what.com/) ti consente di trovare facilmente il codice di qualunque simbolo!\n"
   ]
  },
  {
   "attachments": {},
   "cell_type": "markdown",
   "metadata": {},
   "source": [
    "### Commenti\n",
    "\n",
    "È possibile inserire commenti in file XML attraverso la l'uso di tag speciali `<!--` e `-->` che racchiudono il testo del commento.\n",
    "\n",
    "```xml\n",
    "<!-- Questo è un commento e non sarà considerato parte dei dati -->\n",
    "<libro>\n",
    "    <titolo>Il Principe</titolo>\n",
    "    <autore>Macchivelli, Niccolò</autore>\n",
    "    <!-- QUESTO E' UN ALTRO COMMENTO! -->\n",
    "</libro>\n",
    "```"
   ]
  },
  {
   "attachments": {},
   "cell_type": "markdown",
   "metadata": {},
   "source": [
    "### Pro e contro dell'XML\n",
    "\n",
    "Pro:\n",
    "\n",
    "- Il formato è basato su standard internazionali.\n",
    "- Ha una struttura ben definita che facilita la ricerca e l'estrazione di informazioni.\n",
    "- I moderni linguaggi di programmazione dispongono di librerie per l'elaborazione automatica dei documenti XML.\n",
    "- Consente di scrivere commenti.\n",
    "\n",
    "Contro:\n",
    "\n",
    "- L'uso dei tag e degli attributi non rende facile una sua lettura/scrittura \"a mano\".\n",
    "- La sua sintassi ridondante richiede una maggiore quantità di memoria per immagazzinare i dati rispetto a CSV e JSON. Questo causa un aumento dei costi di archiviazione e di trasferimento dei dati. Questo aspetto è particolarmente importante quando è necessario memorizzare o trasferire una grande quantità di dati."
   ]
  },
  {
   "attachments": {},
   "cell_type": "markdown",
   "metadata": {},
   "source": [
    "# Apertura di file CSV\n",
    "\n",
    "In Python possiamo leggere un file CSV come qualsiasi altro file di testo.\n",
    "\n",
    "Stiamo per aprire il file [`./files_esercizi/botteghe-storiche.csv`](./files_esercizi/botteghe-storiche.csv)."
   ]
  },
  {
   "attachments": {},
   "cell_type": "markdown",
   "metadata": {},
   "source": [
    "Dato che è un file con oltre 700 righe, potremmo voler prima lavorare per esempio sulle prime 10, per poi applicare l'algorirmo all'intero file."
   ]
  },
  {
   "cell_type": "code",
   "execution_count": 1,
   "metadata": {},
   "outputs": [
    {
     "name": "stdout",
     "output_type": "stream",
     "text": [
      "ID,Ragione sociale,Indirizzo,Civico,Comune,Cap,Frazione/Località,Note\n",
      "1,BAZZANELLA RENATA,Via del Lagorai,30,Sover,38068,Piscine di Sover,\"generi misti, bar - ristorante\"\n",
      "2,CONFEZIONI MONTIBELLER S.R.L.,Corso Ausugum,48,Borgo Valsugana,38051,,esercizio commerciale\n",
      "3,FOTOGRAFICA TRINTINAGLIA UMBERTO S.N.C.,Largo Dordi,8,Borgo Valsugana,38051,,\"esercizio commerciale, attività artigianale\"\n",
      "4,BAR SERAFINI DI MINATI RENZO,Frazione Serafini,24,Grigno,38055,,esercizio commerciale\n",
      "5,COLTELLERIA S. CROCE,Via S. Croce,61,Trento,38122,,\n",
      "6,SEMBENINI GINO & FIGLI S.R.L.,Via S. Francesco,35,Riva del Garda,38066,,\n",
      "7,HOTEL RISTORANTE PIZZERIA “ALLA NAVE”,Via Nazionale,29,Lavis,38015,Nave San Felice,\n",
      "8,OBRELLI GIOIELLERIA DAL 1929 S.R.L.,Via Roma,33,Lavis,38015,,\n",
      "9,MACELLERIE TROIER S.A.S. DI TROIER DARIO E C.,Via Roma,13,Lavis,38015,,\n"
     ]
    }
   ],
   "source": [
    "with open('./files_esercizi/botteghe-storiche.csv', 'r') as file_in:\n",
    "    for _ in range(10):  # solo le pime 10 righe\n",
    "        linea = next(file_in)\n",
    "        print(linea, end='')"
   ]
  },
  {
   "attachments": {},
   "cell_type": "markdown",
   "metadata": {},
   "source": [
    "Come abbiamo visto, un CSV deve essere interpretato come una tabella. Dunque possiamo immaginare questo:"
   ]
  },
  {
   "attachments": {},
   "cell_type": "markdown",
   "metadata": {},
   "source": [
    "| ID     | Ragione sociale                               | Indirizzo         | Civico | Comune          | Cap   | Frazione/Località | Note                                        |\n",
    "|--------|-----------------------------------------------|-------------------|--------|-----------------|-------|-------------------|---------------------------------------------|\n",
    "| 1      | BAZZANELLA RENATA                             | Via del Lagorai   | 30     | Sover           | 38068 | Piscine di Sover  | generi misti, bar - ristorante              |\n",
    "| 2      | CONFEZIONI MONTIBELLER S.R.L.                 | Corso Ausugum     | 48     | Borgo Valsugana | 38051 |                   | esercizio commerciale                       |\n",
    "| 3      | FOTOGRAFICA TRINTINAGLIA UMBERTO S.N.C.       | Largo Dordi       | 8      | Borgo Valsugana | 38051 |                   | esercizio commerciale, attività artigianale |\n",
    "| 4      | BAR SERAFINI DI MINATI RENZO                  | Frazione Serafini | 24     | Grigno          | 38055 |                   | esercizio commerciale                       |\n",
    "| 5      | COLTELLERIA S. CROCE                          | Via S. Croce      | 61     | Trento          | 38122 |                   |                                             |\n",
    "| 6      | SEMBENINI GINO & FIGLI S.R.L.                 | Via S. Francesco  | 35     | Riva del Garda  | 38066 |                   |                                             |\n",
    "| 7      | HOTEL RISTORANTE PIZZERIA “ALLA NAVE”         | Via Nazionale     | 29     | Lavis           | 38015 | Nave San Felice   |                                             |\n",
    "| 8      | OBRELLI GIOIELLERIA DAL 1929 S.R.L.           | Via Roma          | 33     | Lavis           | 38015 |                   |                                             |\n",
    "| 9      | MACELLERIE TROIER S.A.S. DI TROIER DARIO E C. | Via Roma          | 13     | Lavis           | 38015 |                   |                                             |\n"
   ]
  },
  {
   "attachments": {},
   "cell_type": "markdown",
   "metadata": {},
   "source": [
    "## Leggere \"manualmente\" da CSV\n",
    "\n",
    "Non c'è nulla di particolare nella lettura delle righe di un file CSV, ma potrebbe non essere così semplice ottenere informazioni particolari dalle righe scritte in quel modo. Se noti, nella colonna \"Note\" abbiamo dei valori a loro volta separati da virgola, e dunque l'intero valore deve essere delimitato con i caratteri `\"`."
   ]
  },
  {
   "cell_type": "markdown",
   "metadata": {},
   "source": [
    "Potremmo provare ad usare `linea.split()` e passare una virgola come separatore."
   ]
  },
  {
   "cell_type": "code",
   "execution_count": 2,
   "metadata": {},
   "outputs": [
    {
     "name": "stdout",
     "output_type": "stream",
     "text": [
      "['ID', 'Ragione sociale', 'Indirizzo', 'Civico', 'Comune', 'Cap', 'Frazione/Località', 'Note\\n']\n",
      "['1', 'BAZZANELLA RENATA', 'Via del Lagorai', '30', 'Sover', '38068', 'Piscine di Sover', '\"generi misti', ' bar - ristorante\"\\n']\n",
      "['2', 'CONFEZIONI MONTIBELLER S.R.L.', 'Corso Ausugum', '48', 'Borgo Valsugana', '38051', '', 'esercizio commerciale\\n']\n",
      "['3', 'FOTOGRAFICA TRINTINAGLIA UMBERTO S.N.C.', 'Largo Dordi', '8', 'Borgo Valsugana', '38051', '', '\"esercizio commerciale', ' attività artigianale\"\\n']\n",
      "['4', 'BAR SERAFINI DI MINATI RENZO', 'Frazione Serafini', '24', 'Grigno', '38055', '', 'esercizio commerciale\\n']\n",
      "['5', 'COLTELLERIA S. CROCE', 'Via S. Croce', '61', 'Trento', '38122', '', '\\n']\n",
      "['6', 'SEMBENINI GINO & FIGLI S.R.L.', 'Via S. Francesco', '35', 'Riva del Garda', '38066', '', '\\n']\n",
      "['7', 'HOTEL RISTORANTE PIZZERIA “ALLA NAVE”', 'Via Nazionale', '29', 'Lavis', '38015', 'Nave San Felice', '\\n']\n",
      "['8', 'OBRELLI GIOIELLERIA DAL 1929 S.R.L.', 'Via Roma', '33', 'Lavis', '38015', '', '\\n']\n",
      "['9', 'MACELLERIE TROIER S.A.S. DI TROIER DARIO E C.', 'Via Roma', '13', 'Lavis', '38015', '', '\\n']\n"
     ]
    }
   ],
   "source": [
    "with open('./files_esercizi/botteghe-storiche.csv', 'r') as file_in:\n",
    "    for _ in range(10):  # solo le pime 10 righe\n",
    "        linea = next(file_in)\n",
    "        linea_list = linea.split(',')\n",
    "        print(linea_list)"
   ]
  },
  {
   "attachments": {},
   "cell_type": "markdown",
   "metadata": {},
   "source": [
    "Abbiamo così ottenuto una lista per ciascuna riga. Ogni lista contiene gli elementi della riga, divisi utilizzando il carattere \"virgola\".\n",
    "\n",
    "Anche se a prima vista potrebbe sembrare tutto ok, guardando meglio ci dovremmo accorgere che ci sono un po' di problemi."
   ]
  },
  {
   "cell_type": "code",
   "execution_count": 3,
   "metadata": {},
   "outputs": [
    {
     "name": "stdout",
     "output_type": "stream",
     "text": [
      "'\"generi misti'\n",
      "' bar - ristorante\"\\n'\n"
     ]
    }
   ],
   "source": [
    "row = ['1', 'BAZZANELLA RENATA', 'Via del Lagorai', '30', 'Sover', '38068', 'Piscine di Sover', '\"generi misti', ' bar - ristorante\"\\n']\n",
    "print(repr(row[7]))\n",
    "print(repr(row[8]))"
   ]
  },
  {
   "attachments": {},
   "cell_type": "markdown",
   "metadata": {},
   "source": [
    "Potremmo anche decidere di \"pulire\" manualmente i dati, ma il problema più grande è che in realtà stringhe come `\"generi misti, bar - ristorante\"` non dovevano essere divise perché dovrebbero essere considerate come un unico valore appartenenete alla colonna \"Note\".\n",
    "\n",
    "Prima di passare a vedere come risolvere questi problemi, ragioniamo anche sulla scrittura."
   ]
  },
  {
   "attachments": {},
   "cell_type": "markdown",
   "metadata": {},
   "source": [
    "## Scrivere \"manualmente\" in CSV\n",
    "\n",
    "Come per la lettura, l'idea di scrivere su un file CSV non è diversa da quella di scrivere qualcosa su un qualsiasi file di testo.\n",
    "\n",
    "Immaginate che un vostro collega vi porti un nuovo rapporto in cui è presente una \"bottega storica\" che non è presente nel tuo file CSV. Decidi quindi di aggiungerla alla fine del file.\n",
    "\n",
    "Che cosa fate? Si potrebbe creare una lista con tutti i dati delle varie colonne del nuovo record e poi unirli con `str.join(list)` usando una virgola e infine scrivere i dati nel file.\n",
    "\n",
    "```python\n",
    "with open('./files_esercizi/botteghe-storiche.csv', 'a') as file_in:\n",
    "    nuovo_record = ['737', 'MARCHETTI', 'Piazza Catena', '21', 'Riva del Garda', '38066', '', 'esercizio commerciale']\n",
    "    file_in.write(','.join(nuovo_record) + '\\n')\n",
    "```"
   ]
  },
  {
   "attachments": {},
   "cell_type": "markdown",
   "metadata": {},
   "source": [
    "> ATTENZIONE: Se notate il file `botteghe-storiche.csv` termina con una riga vuota. Se provate a rimuovere l'ultima riga vuota, la nuova riga scritta apparirà sulla stessa riga dell'ultima. Quindi i file CSV gestiti in questo modo \"manuale\" devono tenere conto anche di questo fatto. In realtà, secondo lo standard, un file CSV non deve necessariamente contenere una riga vuota al fondo!"
   ]
  },
  {
   "cell_type": "markdown",
   "metadata": {},
   "source": [
    "> NOTA: In teoria, dato che abbiamo una colonna `ID`, possiamo intuire che il numero dell'`ID` del record deve essere univoco. In altre parole non dovrebbero esserci due \"botteghe storiche\" con il medesimo `ID`. Un programma reale dovrebbe per esempio tenere conto anche di aspetti di questo tipo e quindi potremmo leggere prima gli ID di tutte le righe e poi decidere se dobbiamo aggiornare un record già esistente oppure crearne uno nuovo su una riga al fondo."
   ]
  },
  {
   "attachments": {},
   "cell_type": "markdown",
   "metadata": {},
   "source": [
    "Tutti i modi di lavorare con un file CSV descritti sopra vi dovrebbero a questo punto essere familiari. Abbiamo effettuato le operazioni e usato strutture di dati built-in e algoritmi che abbiamo visto nella prima parte del corso.\n",
    "\n",
    "In pratica per lavorare con un file CSV ci bastano: `str`, `list` e i relativi metodi, cicli `for` e `while` e la funzione `open()` e i metodi degli oggetti *file_like*.\n",
    "\n",
    "Tuttavia il modulo `csv` della Libreria Standard ci può facilitare parecchio il lavoro."
   ]
  },
  {
   "attachments": {},
   "cell_type": "markdown",
   "metadata": {},
   "source": [
    "# Modulo CSV\n",
    "\n",
    "La libreria `csv` è lo strumento principale per lavorare con i file CSV. È built-in, quindi è sufficiente importarla.\n",
    "\n",
    "\n",
    "```python\n",
    "import csv\n",
    "```"
   ]
  },
  {
   "attachments": {},
   "cell_type": "markdown",
   "metadata": {},
   "source": [
    "## Lettura con `csv`"
   ]
  },
  {
   "attachments": {},
   "cell_type": "markdown",
   "metadata": {},
   "source": [
    "Per leggere i dati da un file, occorre creare un oggetto `reader`.\n",
    "\n",
    "Nell'esempio seguente, la funzione `csv.reader()` restituisce un oggetto `reader` che itera sulle righe del file CSV dato."
   ]
  },
  {
   "cell_type": "code",
   "execution_count": 4,
   "metadata": {},
   "outputs": [
    {
     "name": "stdout",
     "output_type": "stream",
     "text": [
      "['ID', 'Ragione sociale', 'Indirizzo', 'Civico', 'Comune', 'Cap', 'Frazione/Località', 'Note']\n",
      "['1', 'BAZZANELLA RENATA', 'Via del Lagorai', '30', 'Sover', '38068', 'Piscine di Sover', 'generi misti, bar - ristorante']\n",
      "['2', 'CONFEZIONI MONTIBELLER S.R.L.', 'Corso Ausugum', '48', 'Borgo Valsugana', '38051', '', 'esercizio commerciale']\n",
      "['3', 'FOTOGRAFICA TRINTINAGLIA UMBERTO S.N.C.', 'Largo Dordi', '8', 'Borgo Valsugana', '38051', '', 'esercizio commerciale, attività artigianale']\n",
      "['4', 'BAR SERAFINI DI MINATI RENZO', 'Frazione Serafini', '24', 'Grigno', '38055', '', 'esercizio commerciale']\n",
      "['5', 'COLTELLERIA S. CROCE', 'Via S. Croce', '61', 'Trento', '38122', '', '']\n",
      "['6', 'SEMBENINI GINO & FIGLI S.R.L.', 'Via S. Francesco', '35', 'Riva del Garda', '38066', '', '']\n",
      "['7', 'HOTEL RISTORANTE PIZZERIA “ALLA NAVE”', 'Via Nazionale', '29', 'Lavis', '38015', 'Nave San Felice', '']\n",
      "['8', 'OBRELLI GIOIELLERIA DAL 1929 S.R.L.', 'Via Roma', '33', 'Lavis', '38015', '', '']\n",
      "['9', 'MACELLERIE TROIER S.A.S. DI TROIER DARIO E C.', 'Via Roma', '13', 'Lavis', '38015', '', '']\n"
     ]
    }
   ],
   "source": [
    "import csv\n",
    "\n",
    "with open('./files_esercizi/botteghe-storiche.csv', 'r', newline='') as file_in:\n",
    "    file_reader = csv.reader(file_in, delimiter=\",\")  # crea un reader object\n",
    "\n",
    "    for _ in range(10):  # solo le pime 10 righe\n",
    "        print(next(file_reader))"
   ]
  },
  {
   "attachments": {},
   "cell_type": "markdown",
   "metadata": {},
   "source": [
    "Come si può vedere, il risultato è molto simile a quello di prima. Ogni riga restituita dal lettore è un elenco di elementi stringa con i dati.\n",
    "\n",
    "> NOTA: Dato che non siamo sempre sicuri che il nostro codice sarà eseguito su una versione recente di Python, quando apriamo un file CSV, è considerata una buona prativa specificare l'argomento `newline=''` quando apriamo i file con il modulo `csv`; questo perché se il newline non viene menzionato, le vecchie versioni di Python aggiungono l'interruzione di riga dopo l'ultimo elemento. Il modulo `csv` gestisce comunque questo aspetto automaticamente.\n",
    "\n",
    "Proseguendo con il nostro esempio, supponiamo che ci venga chiesto di stampare alcuni risultati e di renderli più leggibili per altre persone. In particolare:\n",
    "\n",
    "- i record con `'ID'` `45`, `64`, `176` e `204`;\n",
    "- di questi record, stampare `'ID'`, `'Ragione sociale'` e `'Cap'`.\n"
   ]
  },
  {
   "attachments": {},
   "cell_type": "markdown",
   "metadata": {},
   "source": [
    "In questo caso dobbiamo leggere l'intero file e non solo più le prime 10 righe!"
   ]
  },
  {
   "cell_type": "code",
   "execution_count": 5,
   "metadata": {},
   "outputs": [
    {
     "name": "stdout",
     "output_type": "stream",
     "text": [
      "ID: 45\n",
      "Ragione sociale: FARMACIA S. MARCO\n",
      "Cap: 38068\n",
      "----------------------------\n",
      "ID: 64\n",
      "Ragione sociale: OTTICI DEFLORIAN MARANGONI DI MARANGONI DONATELLA\n",
      "Cap: 38042\n",
      "----------------------------\n",
      "ID: 176\n",
      "Ragione sociale: LA BOTTEGA DELL’ARTIGIANO\n",
      "Cap: 38067\n",
      "----------------------------\n",
      "ID: 204\n",
      "Ragione sociale: FABBRO GENTILINI MAURIZIO\n",
      "Cap: 38028\n",
      "----------------------------\n"
     ]
    }
   ],
   "source": [
    "import csv\n",
    "\n",
    "with open('./files_esercizi/botteghe-storiche.csv', 'r', encoding='utf-8') as file_in:\n",
    "    reader_obj = csv.reader(file_in, delimiter=\",\")\n",
    "    count = 0\n",
    "    for line in reader_obj:\n",
    "        if line[0] in ['45', '64', '176', '204']:\n",
    "            print('ID:', line[0])\n",
    "            print('Ragione sociale:', line[1])\n",
    "            print('Cap:', line[5])\n",
    "            print('----------------------------')\n",
    "        else:\n",
    "            pass\n",
    "        count += 1\n"
   ]
  },
  {
   "attachments": {},
   "cell_type": "markdown",
   "metadata": {},
   "source": [
    "E se domani vi chiedessero di estrarre altre informazioni?\n",
    "\n",
    "Meglio preparare subito il codice in modo da renderlo più \"universale\"!"
   ]
  },
  {
   "cell_type": "code",
   "execution_count": 6,
   "metadata": {},
   "outputs": [
    {
     "name": "stdout",
     "output_type": "stream",
     "text": [
      "ID: 45\n",
      "Ragione sociale: FARMACIA S. MARCO\n",
      "Comune: Rovereto\n",
      "Cap: 38068\n",
      "----------------------------\n",
      "ID: 64\n",
      "Ragione sociale: OTTICI DEFLORIAN MARANGONI DI MARANGONI DONATELLA\n",
      "Comune: Baselga di Piné\n",
      "Cap: 38042\n",
      "----------------------------\n",
      "ID: 176\n",
      "Ragione sociale: LA BOTTEGA DELL’ARTIGIANO\n",
      "Comune: Ledro\n",
      "Cap: 38067\n",
      "----------------------------\n",
      "ID: 204\n",
      "Ragione sociale: FABBRO GENTILINI MAURIZIO\n",
      "Comune: Revò\n",
      "Cap: 38028\n",
      "----------------------------\n"
     ]
    }
   ],
   "source": [
    "import csv\n",
    "\n",
    "identifier = 0                            # identificatore dei record\n",
    "col_numbers = [0, 1, 4, 5]                # colonne da estrarre\n",
    "record_ids = [45, 64, 176, 204]           # record da estrarre\n",
    "sep_rec = '----------------------------'  # separatore visivo da usare\n",
    "\n",
    "with open('./files_esercizi/botteghe-storiche.csv', 'r', encoding='utf-8') as file_in:\n",
    "    reader_obj = csv.reader(file_in, delimiter=',')\n",
    "    linea_num = 0\n",
    "    for linea in reader_obj:\n",
    "        if linea_num == 0:          # se è la prima riga (che contiene i nomi delle colonne)\n",
    "            colonne_labels = linea  # leggo i nomi delle intestazioni di colonna\n",
    "        if linea[0] in [str(idn) for idn in record_ids]:  # filtro\n",
    "            for col_num in col_numbers:\n",
    "                print(colonne_labels[col_num]+':', linea[col_num])\n",
    "            print(sep_rec)\n",
    "        else:\n",
    "            pass\n",
    "        linea_num += 1"
   ]
  },
  {
   "attachments": {},
   "cell_type": "markdown",
   "metadata": {},
   "source": [
    "## Scrittura con `csv`\n",
    "\n",
    "Un altro oggetto molto utilizzato nella libreria CSV è l'oggetto `csv.writer` che, come suggerisce il nome, aiuta a scrivere informazioni su un file.\n",
    "\n",
    "Supponiamo che in ufficio vogliate fare uno studio di Business Intelligence sulle \"botteghe storiche\" e i loro \"titolari\" per trovare delle possibili correlazioni. Vi vengono forniti quindi alcuni dati utili sui titolari delle botteghe.\n",
    "\n",
    "Se dovessimo costruire la il file CSV a mano, inserendo i dati uno a uno, potremmo farlo direttamente con un editor di testo, ma potremmo compiere degli errori, e in quel caso potrebbero essere difficili da individuare. Se invece li scriviamo in una struttura dati come una lista di liste, possiamo facilmente processarli riducendo la possibilità di compiere errori dato che il modulo `csv` sovente ci avvisa se c'è qualcosa di anomalo nei dati."
   ]
  },
  {
   "cell_type": "code",
   "execution_count": 7,
   "metadata": {},
   "outputs": [],
   "source": [
    "import csv\n",
    "\n",
    "intestazione = ['ID', 'Nome', 'Età', 'Altezza', 'Bottega ID']\n",
    "nuovi_dati = [\n",
    "    ['1', 'Alessio', '23', '184', '23'],\n",
    "    ['2', 'Carla', '35', '170', '46'],\n",
    "    ['3', 'Marco', '21', '178', '103'],\n",
    "    ['4', 'Paola', '55', '164', '254'],\n",
    "]\n",
    "\n",
    "with open('./files_esercizi/botteghe-storiche-titolari.csv', 'w', encoding='utf-8') as file_out:\n",
    "    writer_obj = csv.writer(file_out, delimiter=',', lineterminator='\\n')\n",
    "    writer_obj.writerow(intestazione)\n",
    "    for riga in nuovi_dati:\n",
    "        writer_obj.writerow(riga)"
   ]
  },
  {
   "attachments": {},
   "cell_type": "markdown",
   "metadata": {},
   "source": [
    "In questo esempio, abbiamo creato un nuovo file e poi abbiamo usato il metodo `writer_obj.writerow()` per scrivere nuove informazioni. Il parametro `lineterminator` è il separatore tra le voci di dati.\n",
    "\n",
    "Il primo dato contiene i nomi delle colonne, tutti gli altri contengono gli autori. \n",
    "\n",
    "Come sempre, per essere sicuri che tutto è andato a buon fine, controlliamo l'output: [`botteghe-storiche-titolari.csv`](./files_esercizi/botteghe-storiche-titolari.csv)"
   ]
  },
  {
   "attachments": {},
   "cell_type": "markdown",
   "metadata": {},
   "source": [
    "## `DictReader` e `DictWriter`\n",
    "\n",
    "Il modulo `csv` ha anche due classi magiche: `csv.DictReader()` e `csv.DictWriter()`. Esse rappresentano ogni voce di dati come un dizionario. Le chiavi del dizionario sono le intestazioni di colonna e i valori sono i dati corrispondenti.\n",
    "\n",
    "Trattandosi di un dizionario, è possibile accededre ai dati utilizzando la notazione a subscription utilizzando le i nomi delle colonne come chiavi. "
   ]
  },
  {
   "cell_type": "code",
   "execution_count": 8,
   "metadata": {},
   "outputs": [
    {
     "name": "stdout",
     "output_type": "stream",
     "text": [
      "ID: 45\n",
      "Ragione sociale: FARMACIA S. MARCO\n",
      "Cap: 38068\n",
      "----------------------------\n",
      "ID: 64\n",
      "Ragione sociale: OTTICI DEFLORIAN MARANGONI DI MARANGONI DONATELLA\n",
      "Cap: 38042\n",
      "----------------------------\n",
      "ID: 176\n",
      "Ragione sociale: LA BOTTEGA DELL’ARTIGIANO\n",
      "Cap: 38067\n",
      "----------------------------\n",
      "ID: 204\n",
      "Ragione sociale: FABBRO GENTILINI MAURIZIO\n",
      "Cap: 38028\n",
      "----------------------------\n"
     ]
    }
   ],
   "source": [
    "import csv\n",
    "\n",
    "with open('./files_esercizi/botteghe-storiche.csv', 'r', encoding='utf-8') as file_in:\n",
    "    file_reader = csv.DictReader(file_in, delimiter=\",\")\n",
    "    for linea in file_reader:\n",
    "        if linea['ID'] in ['45', '64', '176', '204']:  # filtro\n",
    "            print('ID:', linea['ID'])\n",
    "            print('Ragione sociale:', linea['Ragione sociale'])\n",
    "            print('Cap:', linea['Cap'])\n",
    "            print('----------------------------')"
   ]
  },
  {
   "attachments": {},
   "cell_type": "markdown",
   "metadata": {},
   "source": [
    "Come fatto precedentemente, cerchiamo di rendere più \"universale\" il codice:"
   ]
  },
  {
   "cell_type": "code",
   "execution_count": 9,
   "metadata": {},
   "outputs": [
    {
     "name": "stdout",
     "output_type": "stream",
     "text": [
      "ID: 45\n",
      "Ragione sociale: FARMACIA S. MARCO\n",
      "Comune: Rovereto\n",
      "Cap: 38068\n",
      "----------------------------\n",
      "ID: 64\n",
      "Ragione sociale: OTTICI DEFLORIAN MARANGONI DI MARANGONI DONATELLA\n",
      "Comune: Baselga di Piné\n",
      "Cap: 38042\n",
      "----------------------------\n",
      "ID: 176\n",
      "Ragione sociale: LA BOTTEGA DELL’ARTIGIANO\n",
      "Comune: Ledro\n",
      "Cap: 38067\n",
      "----------------------------\n",
      "ID: 204\n",
      "Ragione sociale: FABBRO GENTILINI MAURIZIO\n",
      "Comune: Revò\n",
      "Cap: 38028\n",
      "----------------------------\n"
     ]
    }
   ],
   "source": [
    "import csv\n",
    "\n",
    "identifier = 'ID'                                       # identificatore dei record\n",
    "col_names = ['ID', 'Ragione sociale', 'Comune', 'Cap']  # colonne da estrarre\n",
    "record_ids = [45, 64, 176, 204]                         # record da estrarre\n",
    "sep_rec = '----------------------------'                # separatore visivo da usare\n",
    "\n",
    "with open('./files_esercizi/botteghe-storiche.csv', 'r', encoding='utf-8') as file_in:\n",
    "    file_reader = csv.DictReader(file_in, delimiter=\",\")\n",
    "    for linea in file_reader:\n",
    "        if linea[identifier] in [str(idn) for idn in record_ids]:  # filtro\n",
    "            for col_name in col_names:\n",
    "                print(col_name+':', linea[col_name])\n",
    "            print(sep_rec)\n",
    "        else:\n",
    "            pass"
   ]
  },
  {
   "attachments": {},
   "cell_type": "markdown",
   "metadata": {},
   "source": [
    "L'analogo strumento per scrivere è invece `csv.DictWriter()`. Utilizziamo il nostro file `botteghe-storiche-titolari.csv` e proviamo ad aggiungere nuovi record in quel file."
   ]
  },
  {
   "cell_type": "code",
   "execution_count": 10,
   "metadata": {},
   "outputs": [],
   "source": [
    "import csv\n",
    "\n",
    "intestazioni = ['ID', 'Nome', 'Età', 'Altezza', 'Bottega ID']\n",
    "nuovi_dati = [\n",
    "    {'ID': '5', 'Nome': 'Tito', 'Età': '47', 'Altezza': '175', 'Bottega ID': '45'},\n",
    "    {'ID': '6', 'Nome': 'Giorgia', 'Età': '38', 'Altezza': '169', 'Bottega ID': '73'},\n",
    "    {'ID': '7', 'Nome': 'Eva', 'Età': '69', 'Altezza': '185', 'Bottega ID': '146'},\n",
    "    {'ID': '8', 'Nome': 'Mimmo', 'Età': '20', 'Altezza': '178', 'Bottega ID': '195'},\n",
    "]\n",
    "\n",
    "with open('./files_esercizi/botteghe-storiche-titolari.csv', 'a', encoding='utf-8') as file_out:\n",
    "    file_writer = csv.DictWriter(file_out, delimiter=',', lineterminator='\\n', fieldnames=intestazioni)\n",
    "    if file_out.tell() == 0:       # se il file è vuoto\n",
    "        file_writer.writeheader()  # scrive la riga di intestazione\n",
    "    file_writer.writerows(nuovi_dati)"
   ]
  },
  {
   "attachments": {},
   "cell_type": "markdown",
   "metadata": {},
   "source": [
    "Per prima cosa, creiamo un elenco di titoli di colonne che passeremo come argomento al parametro `fieldnames`. Questa lista è una sequenza di chiavi di dizionario che identifica l'ordine in cui i valori saranno scritti nel file `botteghe-storiche-titolari.csv`.\n",
    "\n",
    "Quindi, se il file è vuoto aggiungiamo subito le intestazioni di colonna usando la funzione `writeheader()` e infine i dati usando la funzione `writerows()`.\n",
    "\n",
    "Ora controlliamo l'output: [`botteghe-storiche-titolari.csv`](./files_esercizi/botteghe-storiche-titolari.csv)"
   ]
  },
  {
   "attachments": {},
   "cell_type": "markdown",
   "metadata": {},
   "source": [
    "## Riassumendo\n",
    "\n",
    "In questa sezione abbiamo imparato:\n",
    "\n",
    "- CSV è l'acronimo di *comma-separated value* (valore separato da virgole); questo formato di file viene utilizzato per memorizzare dati tabellari;\n",
    "- come leggere manualmente i dati dal file e scrivere informazioni su di esso;\n",
    "- Python dispone di una libreria CSV built-in con gli utili metodi `csv.reader()` e `csv.writer()`;\n",
    "- `csv.DictReader()` e `csv.DictWriter()` aiutano a rappresentare i dati come dizionari.\n",
    "\n",
    "Naturalmente, non possiamo trattare tutti gli aspetti. Se volete saperne di più, leggete [la documentazione ufficiale](https://docs.python.org/3/library/csv.html) e il [PEP 305](https://peps.python.org/pep-0305/)\n",
    "\n",
    "Se avete particolari necessità o problemi con il modo in cui vengono gestiti i separarori e i delimitatori, dovreste approfondire i cosiddetti \"[dialetti](https://docs.python.org/3/library/csv.html#dialects-and-formatting-parameters)\"."
   ]
  },
  {
   "attachments": {},
   "cell_type": "markdown",
   "metadata": {},
   "source": [
    "# Modulo JSON\n",
    "\n",
    "La libreria `json` è lo strumento principale per lavorare con i file JSON. È built-in, quindi è sufficiente importarla.\n",
    "\n",
    "Come abbiamo visto all'inizio di questo notebook, JSON è un formato molto comune per la memorizzazione e la trasmissione dei dati. Anche se originariamente deriva da JavaScript, oggi questo formato è indipendente dal linguaggio e viene utilizzato in ogni tipo di situazione. \n",
    "\n",
    "Le due procedure principali sono la conversione dei dati Python in JSON e viceversa. Per capire meglio la logica che sta dietro alla conversione, diamo un'occhiata a un _**oggetto**_ JSON:"
   ]
  },
  {
   "attachments": {},
   "cell_type": "markdown",
   "metadata": {},
   "source": [
    "```json\n",
    "{\n",
    "  \"movies\": [\n",
    "    {\n",
    "      \"title\": \"Inception\",\n",
    "      \"director\": \"Christopher Nolan\",\n",
    "      \"year\": 2010\n",
    "    },\n",
    "    {\n",
    "      \"title\": \"The Lord of the Rings: The Fellowship of the Ring\",\n",
    "      \"director\": \"Peter Jackson\",\n",
    "      \"year\": 2001\n",
    "    },\n",
    "    {\n",
    "      \"title\": \"Parasite\",\n",
    "      \"director\": \"Bong Joon Ho\",\n",
    "      \"year\": 2019\n",
    "    }\n",
    "  ]\n",
    "}\n",
    "```"
   ]
  },
  {
   "attachments": {},
   "cell_type": "markdown",
   "metadata": {},
   "source": [
    "Si può notare che ci sono molte somiglianze tra la notazione JSON e i tipi di dati Python: abbiamo stringhe e numeri, un _**oggetto**_ JSON è simile a un dizionario Python, un _**array**_ a una lista. Questo rende le conversioni tra JSON e Python abbastanza facili e intuitive.\n",
    "\n",
    "Ecco una tabella di conversione completa per la codifica dei dati tra Python in JSON:\n",
    "\n",
    "| Python          | JSON                |\n",
    "|-----------------|---------------------|\n",
    "| `dict`          | `object` &rarr; `{}`|\n",
    "| `list`, `tuple` | `array`  &rarr; `[]`|\n",
    "| `str`           | `string` &rarr; `\"\"`|\n",
    "| `int`, `float`  | `number`            |\n",
    "| `True`          | `true`              |\n",
    "| `False`         | `false`             |\n",
    "| `None`          | `null`              |"
   ]
  },
  {
   "attachments": {},
   "cell_type": "markdown",
   "metadata": {},
   "source": [
    "> ATTENZIONE: I tipi di dati non elencati nella tabella, come le classi personalizzate o, ad esempio, gli oggetti datetime, non possono essere convertiti in JSON così facilmente.\n",
    "Diamo ora un'occhiata ai metodi specifici disponibili nel modulo json e vediamo come avviene la conversione."
   ]
  },
  {
   "cell_type": "markdown",
   "metadata": {},
   "source": [
    "## Codifica in JSON\n",
    "\n",
    "In generale, la codifica in formato JSON è chiamata serializzazione. Il modulo `json` ha due metodi per la serializzazione: `json.dump()` e `json.dumps()`. La differenza fondamentale tra questi due metodi è il tipo di serializzazione: `json.dump()` scrive su un oggetto simile a un file, mentre `json.dumps()` crea una stringa.\n",
    "\n",
    "Supponiamo di avere un dizionario equivalente al JSON che abbiamo visto prima. Ecco come salvarlo nel file JSON `movies.json` nella nostra cartella `files_esercizi`:"
   ]
  },
  {
   "cell_type": "code",
   "execution_count": 14,
   "metadata": {},
   "outputs": [],
   "source": [
    "import json\n",
    "\n",
    "movie_dict = {\n",
    "  'movies': [\n",
    "    {\n",
    "      'title': 'Inception',\n",
    "      'director': 'Christopher Nolan',\n",
    "      'year': 2010\n",
    "    },\n",
    "    {\n",
    "      'title': 'The Lord of the Rings: The Fellowship of the Ring',\n",
    "      'director': 'Peter Jackson',\n",
    "      'year': 2001\n",
    "    },\n",
    "    {\n",
    "      'title': 'Parasite',\n",
    "      'director': 'Bong Joon Ho',\n",
    "      'year': 2019\n",
    "    }\n",
    "  ]\n",
    "}\n",
    "\n",
    "with open('./files_esercizi/movies.json', 'w') as json_file:\n",
    "    json.dump(movie_dict, json_file)"
   ]
  },
  {
   "attachments": {},
   "cell_type": "markdown",
   "metadata": {},
   "source": [
    "Come si può vedere, questo metodo ha due argomenti necessari: i dati e l'oggetto di tipo file su cui scrivere. Se si esegue questo codice, si creerà un file JSON con i dati sui film.\n",
    "\n",
    "Un'altra opzione è la serializzazione dei dati in una stringa, utilizzando `json.dumps()`. In questo caso, l'unico argomento richiesto è il dato che si vuole serializzare:"
   ]
  },
  {
   "cell_type": "code",
   "execution_count": 15,
   "metadata": {},
   "outputs": [
    {
     "name": "stdout",
     "output_type": "stream",
     "text": [
      "{\"movies\": [{\"title\": \"Inception\", \"director\": \"Christopher Nolan\", \"year\": 2010}, {\"title\": \"The Lord of the Rings: The Fellowship of the Ring\", \"director\": \"Peter Jackson\", \"year\": 2001}, {\"title\": \"Parasite\", \"director\": \"Bong Joon Ho\", \"year\": 2019}]}\n"
     ]
    }
   ],
   "source": [
    "json_str = json.dumps(movie_dict)\n",
    "\n",
    "print(json_str)"
   ]
  },
  {
   "attachments": {},
   "cell_type": "markdown",
   "metadata": {},
   "source": [
    "Attenzione ai tipi di dati! JSON supporta solo le stringhe come chiavi. I tipi Python di base, come gli interi, vengono convertiti automaticamente in stringhe, ma per altri tipi di chiavi, come le tuple, si otterrà un `TypeError` perché le funzioni `.dump()` e `.dumps()` non possono convertirle in stringhe.\n",
    "\n",
    "Oltre ai parametri obbligatori, entrambi i metodi hanno diversi parametri opzionali. È possibile controllarli tutti nella documentazione ufficiale, qui ci occuperemo solo del parametro `indent`. Si può notare che la stringa ottenuta nell'esempio precedente è piuttosto difficile da leggere, rispetto al dizionario originale. Se specifichiamo l'indentazione (un intero o una stringa), possiamo stampare il JSON risultante:"
   ]
  },
  {
   "cell_type": "code",
   "execution_count": 16,
   "metadata": {},
   "outputs": [
    {
     "name": "stdout",
     "output_type": "stream",
     "text": [
      "{\n",
      "    \"movies\": [\n",
      "        {\n",
      "            \"title\": \"Inception\",\n",
      "            \"director\": \"Christopher Nolan\",\n",
      "            \"year\": 2010\n",
      "        },\n",
      "        {\n",
      "            \"title\": \"The Lord of the Rings: The Fellowship of the Ring\",\n",
      "            \"director\": \"Peter Jackson\",\n",
      "            \"year\": 2001\n",
      "        },\n",
      "        {\n",
      "            \"title\": \"Parasite\",\n",
      "            \"director\": \"Bong Joon Ho\",\n",
      "            \"year\": 2019\n",
      "        }\n",
      "    ]\n",
      "}\n"
     ]
    }
   ],
   "source": [
    "json_str = json.dumps(movie_dict, indent=4)\n",
    "print(json_str)"
   ]
  },
  {
   "attachments": {},
   "cell_type": "markdown",
   "metadata": {},
   "source": [
    "## Decodifica da JSON\n",
    "\n",
    "La procedura opposta è la deserializzazione. Analogamente alla serializzazione, il modulo json ha due metodi: `json.load()` e `json.loads()`. Qui la differenza sta nei JSON in ingresso: oggetti simili a file o stringhe.\n",
    "\n",
    "Convertiamo i JSON appena creati in tipi di dati Python."
   ]
  },
  {
   "cell_type": "code",
   "execution_count": 17,
   "metadata": {},
   "outputs": [
    {
     "name": "stdout",
     "output_type": "stream",
     "text": [
      "True\n"
     ]
    }
   ],
   "source": [
    "# from a file\n",
    "with open('./files_esercizi/movies.json', 'r') as json_file:\n",
    "    movie_dict_from_json = json.load(json_file)\n",
    "\n",
    "print(movie_dict_from_json == movie_dict)"
   ]
  },
  {
   "attachments": {},
   "cell_type": "markdown",
   "metadata": {},
   "source": [
    "Si può notare che il dizionario ottenuto come risultato di `json.load()` è uguale al nostro dizionario originale. Lo stesso vale per `json.loads()`:"
   ]
  },
  {
   "cell_type": "code",
   "execution_count": 18,
   "metadata": {},
   "outputs": [
    {
     "name": "stdout",
     "output_type": "stream",
     "text": [
      "True\n"
     ]
    }
   ],
   "source": [
    "# from string\n",
    "print(movie_dict == json.loads(json_str))"
   ]
  },
  {
   "attachments": {},
   "cell_type": "markdown",
   "metadata": {},
   "source": [
    "> ATTENZIONE: Ricordate il problema delle chiavi non a stringa? Ebbene, se convertiamo un dizionario Python con chiavi non a stringa in JSON e poi di nuovo in un oggetto Python, non otterremo lo stesso dizionario."
   ]
  },
  {
   "attachments": {},
   "cell_type": "markdown",
   "metadata": {},
   "source": [
    "## Riassumendo\n",
    "\n",
    "In questa sezione abbiamo visto come lavorare con JSON utilizzando il modulo `json` di Python. Possiamo:\n",
    "\n",
    "- convertire oggetti Python in JSON usando `json.dump()` o `json.dumps()`;\n",
    "- convertire JSON in oggetti Python usando `json.load()` o `json.loads()`.\n",
    "\n",
    "Le conversioni vengono effettuate in base alla tabella di conversione e non tutti gli oggetti Python possono essere convertiti in JSON.\n",
    "\n",
    "Considerando che JSON è un formato di dati molto utilizzato, è importante essere in grado di lavorare con esso!"
   ]
  },
  {
   "attachments": {},
   "cell_type": "markdown",
   "metadata": {},
   "source": [
    "# XML e libreria `lxml`"
   ]
  },
  {
   "attachments": {},
   "cell_type": "markdown",
   "metadata": {},
   "source": [
    "Come abbiamo visto all'inizio di questo notebook, XML è un formato che memorizza i dati in una struttura gerarchica.\n",
    "\n",
    "Un _**elemento**_ è un \"mattone\" di base di XML e (solitamente) consiste in:\n",
    "\n",
    "- un _**tag di apertura**_;\n",
    "- un _**tag di chiusura**_ corrispondente;\n",
    "- un _**contenuto**_;\n",
    "- uno o più _**attributi**_ facoltativi contenuti nel tag di apertura.\n",
    "\n",
    "Esiste un sottomodulo integrato in Python chiamato `xml.etree` che può analizzare gli XML.\n",
    "\n",
    "Tuttavia, useremo una libreria di terze parti, `lxml`, e il suo sottomodulo omonimo `etree`. Il motivo è che quest'ultimo elabora i documenti XML in modo più veloce e il core di questa libreria è scritto in linguaggio C.\n",
    "\n",
    "- [Sito ufficiale](https://lxml.de/) e documentazione.\n",
    "- [Pagina su PyPi](https://pypi.org/project/lxml/) (Python Package Index).\n",
    "- [Repo su GitHub](https://github.com/lxml/lxml).\n",
    "\n",
    "## Installazione di `lxml`\n",
    "\n",
    "Poiché si tratta di una libreria esterna, bisogna per prima cosa installarla (meglio in un virtual enviromento):\n",
    "\n",
    "```bash\n",
    "(my_venv) $ pip install lxml\n",
    "```\n",
    "\n",
    "Se siete su Windows, non avete creato un virtual environment e dovete usare il `py` launcher:\n",
    "\n",
    "```powershell\n",
    "C:\\my_proj> py -m pip install lxml\n",
    "```\n",
    "\n",
    "Quindi, importate il modulo `etree` nel vostro codice. \n",
    "\n",
    "```python\n",
    "from lxml import etree\n",
    "```\n",
    "\n",
    "Lavoreremo con due classi di questo modulo: `Element` ed `ElementTree`.\n",
    "\n",
    "Un'istanza della classe `Element` può rappresentare un qualunque elemento del documento XML. Memorizza informazioni sul nome del tag, sugli attributi del tag e sui riferimenti agli elementi figli. È noto anche come *node*.\n",
    "\n",
    "`ElementTree` rappresenta l'intero documento XML. Contiene alcune informazioni generali sul documento XML, come la sua codifica e la versione di XML, oltre a un riferimento all'`Element` _**root**_ principale del documento.\n",
    "\n",
    "> NOTA: \n",
    "> - chiamiamo *tree* l'`ElementTree` perché la struttura di un intero file XML è effettivamente una \"struttura ad albero\" organizzata in modo gerarchico.\n",
    "> - chiamiamo *root* (in gergo HTML *node*) un qualunque `Element` perché è effettivamente la root per tutti i suoi elementi figli. Anche esso ha \"struttura ad albero\" organizzata in modo gerarchico."
   ]
  },
  {
   "attachments": {},
   "cell_type": "markdown",
   "metadata": {},
   "source": [
    "## Da testo a oggetto XML\n",
    "\n",
    "L'azione di leggere, processare e analizzare uno stream di dati (un file) viene detta [*parsing*](https://it.wikipedia.org/wiki/Parsing).\n",
    "\n",
    "Possiamo eseguire parsing di documenti XML a partire da una stringa o da un file.\n",
    "\n",
    "- Per fare il parsing di stringa, basta richiamare la funzione `etree.fromstring()` che restituisce l'`Element`, ovvero la root (radice) del documento.\n",
    "- Per fare il parsing di un file, si usa la funzione `etree.parse()`. Essa restituisce un'istanza della classe `ElementTree`, quindi si deve usare il metodo `ElementTree.getroot()` per ottenere la root del documento."
   ]
  },
  {
   "attachments": {},
   "cell_type": "markdown",
   "metadata": {},
   "source": [
    "#### Da stringa: `etree.fromstring(text, parser=None, base_url=None)`\n",
    "\n",
    "- [Tutorial](https://lxml.de/tutorial.html#the-fromstring-function)\n",
    "- [Documentazione API](https://lxml.de/apidoc/lxml.etree.html#lxml.etree.fromstring)\n",
    "- [Codice sorgente](https://github.com/lxml/lxml/blob/11b33a83ad689bd16bd0a98c14cda51a90572b73/src/lxml/etree.pyx#L3242)\n",
    "\n",
    "INPUT: Il parametro `text` può essere:\n",
    "\n",
    "- una stringa contenente un documento XML (o un frammento XML).\n",
    "\n",
    "OUTPUT: Un'oggetto di tipo `Element` (*root node*).\n",
    "\n"
   ]
  },
  {
   "cell_type": "code",
   "execution_count": 19,
   "metadata": {},
   "outputs": [
    {
     "name": "stdout",
     "output_type": "stream",
     "text": [
      "<class 'lxml.etree._Element'>\n"
     ]
    }
   ],
   "source": [
    "from lxml import etree\n",
    "\n",
    "xml_string = '<a><b>hello</b></a>'\n",
    "\n",
    "root = etree.fromstring(xml_string)\n",
    "\n",
    "print(type(root))"
   ]
  },
  {
   "attachments": {},
   "cell_type": "markdown",
   "metadata": {},
   "source": [
    "#### Da file: `etree.parse(source, parser=None, base_url=None)`\n",
    "\n",
    "- [Tutorial](https://lxml.de/tutorial.html#the-parse-function)\n",
    "- [Documentazione API](https://lxml.de/apidoc/lxml.etree.html#lxml.etree.parse)\n",
    "- [Codice sorgente](https://github.com/lxml/lxml/blob/11b33a83ad689bd16bd0a98c14cda51a90572b73/src/lxml/etree.pyx#L3515)\n",
    "\n",
    "INPUT: Il parametro `source` può essere:\n",
    "\n",
    "- un oggetto file aperto in modalità binaria con `open()`\n",
    "- un oggetto di tipo file-like (che ha un metodo `.read()`) \n",
    "- una stringa contenente il *pathname* di un file XML\n",
    "- una stringa contenente un URL con protocollo HTTP o FTP\n",
    "\n",
    "OUTPUT: Un'oggetto di tipo `ElementTree` (*xml document-object*)."
   ]
  },
  {
   "cell_type": "code",
   "execution_count": 20,
   "metadata": {},
   "outputs": [
    {
     "name": "stdout",
     "output_type": "stream",
     "text": [
      "<class 'lxml.etree._ElementTree'>\n",
      "<class 'lxml.etree._Element'>\n"
     ]
    }
   ],
   "source": [
    "from lxml import etree\n",
    "\n",
    "xml_file = \"./files_esercizi/country_data.xml\"\n",
    "\n",
    "tree = etree.parse(xml_file)\n",
    "print(type(tree))\n",
    "\n",
    "root = tree.getroot()\n",
    "print(type(root))"
   ]
  },
  {
   "attachments": {},
   "cell_type": "markdown",
   "metadata": {},
   "source": [
    "#### Print: `etree.dump(elem, pretty_print=True, with_tail=True)`\n",
    "\n",
    "Durante la scrittura e il debug dei vostri algoritmi potrebbe essere utile stampare a monitor (`sys.stdout`) i contenuti XML. Per non dover sempre ricorrere a `print()` e preoccuparsi che le strutture XML siano mostrate con la giusta indentazione, esiste la funzione `etree.dump()`. Accetta un `Element` del documento XML e lo stampa (print) a monitor con tutto il suo contenuto in modo \"prettified\"."
   ]
  },
  {
   "cell_type": "code",
   "execution_count": 21,
   "metadata": {},
   "outputs": [
    {
     "name": "stdout",
     "output_type": "stream",
     "text": [
      "<a>\n",
      "  <b>hello</b>\n",
      "</a>\n"
     ]
    }
   ],
   "source": [
    "from lxml import etree\n",
    "\n",
    "xml_string = \"<a><b>hello</b></a>\"\n",
    "root = etree.fromstring(xml_string)\n",
    "\n",
    "etree.dump(root)"
   ]
  },
  {
   "attachments": {},
   "cell_type": "markdown",
   "metadata": {},
   "source": [
    "Vediamo ora come navigare attraverso (*to traverse*) un documento XML e accedere alle informazioni in esso contenute."
   ]
  },
  {
   "attachments": {},
   "cell_type": "markdown",
   "metadata": {},
   "source": [
    "### Spostarsi attraverso l'albero XML\n",
    "\n",
    "Non possiamo navigare direttamente in un `ElementTree`, ma possiamo navigare attraverso uno specifico `Element`, che sarà considerata la nostra _**root**_.\n",
    "\n",
    "Poiché spesso le informazioni importanti non sono memorizzate nell'elemento root, è necessario poter accedere agli elementi figli.\n",
    "\n",
    "Fare questo con la libreria `lxml` è molto comodo, perché la classe `Element` imita le liste di Python. Vediamo un esempio.\n",
    "\n",
    "Per prima cosa, facciao il parsing di un file XML e stampiamolo con `etree.dump()` per comprenderne la struttura."
   ]
  },
  {
   "cell_type": "code",
   "execution_count": 22,
   "metadata": {},
   "outputs": [
    {
     "name": "stdout",
     "output_type": "stream",
     "text": [
      "<country>\n",
      "  <name>United Stated of America</name>\n",
      "  <capital>Washington</capital>\n",
      "  <states>\n",
      "    <state>California</state>\n",
      "    <state>Texas</state>\n",
      "    <state>Florida</state>\n",
      "    <state>Hawaii</state>\n",
      "  </states>\n",
      "</country>\n"
     ]
    }
   ],
   "source": [
    "xml_file = \"./files_esercizi/country_data.xml\"\n",
    "root = etree.parse(xml_file).getroot()\n",
    "etree.dump(root)"
   ]
  },
  {
   "attachments": {},
   "cell_type": "markdown",
   "metadata": {},
   "source": [
    "Si può accedere a un elemento figlio specificando il suo indice con la classica notazione a subscription (parentesi quadre).\n",
    "\n",
    "Il nostro elemento radice, `<country>`, ha tre elementi figli che in ordine sono rispettivamente: `<name>`, `<capital>` e `<states>`. Il tag che `<capital>` ha quindi l'indice `1` (ricordiamo che gli indici partono da `0`), quindi è possibile accedervi in questo modo:"
   ]
  },
  {
   "cell_type": "code",
   "execution_count": 23,
   "metadata": {},
   "outputs": [
    {
     "name": "stdout",
     "output_type": "stream",
     "text": [
      "<capital>Washington</capital>\n",
      "  \n"
     ]
    }
   ],
   "source": [
    "etree.dump(root[1])"
   ]
  },
  {
   "attachments": {},
   "cell_type": "markdown",
   "metadata": {},
   "source": [
    "La struttura dell'intero documento XML si comporta come un insieme di liste in cui ogni lista, tranne quello principale, è annidata in un altra lista. Quindi, per stampare tutti gli stati degli USA menzionati nel nostro documento, dobbiamo prima ottenere l'elemento `<states>` e poi iterare su tutti i suoi sottoelementi. Questo può essere fatto nello stesso modo in cui si lavora con gli elenchi:"
   ]
  },
  {
   "cell_type": "code",
   "execution_count": 24,
   "metadata": {},
   "outputs": [
    {
     "name": "stdout",
     "output_type": "stream",
     "text": [
      "California\n",
      "Texas\n",
      "Florida\n",
      "Hawaii\n"
     ]
    }
   ],
   "source": [
    "states = root[2]\n",
    "for state in states:\n",
    "    print(state.text)"
   ]
  },
  {
   "attachments": {},
   "cell_type": "markdown",
   "metadata": {},
   "source": [
    "> NOTA: Quando un elemento contiene del testo, questo viene memorizzato nel suo attributo `.text`."
   ]
  },
  {
   "attachments": {},
   "cell_type": "markdown",
   "metadata": {},
   "source": [
    "### Accesso agli attributi\n",
    "\n",
    "I dati non sono necessariamente memorizzati come testo grezzo all'interno dei tag; anche gli _**attributi**_ possono memorizzare alcune informazioni all'interno dei tag di apertura.\n",
    "\n",
    "Carichiamo un nuovo documento XML con le informazioni contenute negli attributi. E visualizziamolo a monitor per comodità:"
   ]
  },
  {
   "cell_type": "code",
   "execution_count": 25,
   "metadata": {},
   "outputs": [
    {
     "name": "stdout",
     "output_type": "stream",
     "text": [
      "<country name=\"United Stated of America\" capital=\"Washington\">\n",
      "  <states>\n",
      "    <state name=\"Hawaii\"/>\n",
      "    <state name=\"Florida\"/>\n",
      "    <state name=\"Texas\"/>\n",
      "    <state name=\"California\"/>\n",
      "  </states>\n",
      "</country>\n"
     ]
    }
   ],
   "source": [
    "xml_file = \"./files_esercizi/country_data_attrs.xml\"\n",
    "root = etree.parse(xml_file).getroot()\n",
    "etree.dump(root)"
   ]
  },
  {
   "attachments": {},
   "cell_type": "markdown",
   "metadata": {},
   "source": [
    "NOTA: Le forme *Start-tag/End-tag* (`<tag></tag>`) e *Empty-element-tag* (`<tag/>`) sono semanticamente equivalenti. Il parser XML non li tratterà in modo diverso."
   ]
  },
  {
   "attachments": {},
   "cell_type": "markdown",
   "metadata": {},
   "source": [
    "L'elemento si comporta come una lista quando si cerca di accedere ai suoi sottoelementi. Ma quando vogliamo ottenere gli attributi di un tag, l'elemento funziona come un dizionario. \n",
    "\n",
    "Il metodo `.get()` viene utilizzato per accedere all'attributo specificato. Se non esiste un attributo, restituisce `None`. Si noti che, a differenza di un dizionario, non è possibile specificare l'attributo tra parentesi quadre."
   ]
  },
  {
   "cell_type": "code",
   "execution_count": 26,
   "metadata": {},
   "outputs": [
    {
     "name": "stdout",
     "output_type": "stream",
     "text": [
      "Hawaii\n",
      "Florida\n",
      "Texas\n",
      "California\n"
     ]
    }
   ],
   "source": [
    "states = root[0]\n",
    "for state in states:\n",
    "    print(state.get('name'))"
   ]
  },
  {
   "attachments": {},
   "cell_type": "markdown",
   "metadata": {},
   "source": [
    "I metodi `keys()` e `items()` possono essere usati per ottenere tutti gli attributi di un tag:"
   ]
  },
  {
   "cell_type": "code",
   "execution_count": 27,
   "metadata": {},
   "outputs": [
    {
     "name": "stdout",
     "output_type": "stream",
     "text": [
      "['name', 'capital']\n",
      "[('name', 'United Stated of America'), ('capital', 'Washington')]\n"
     ]
    }
   ],
   "source": [
    "print(root.keys())\n",
    "print(root.items())"
   ]
  },
  {
   "attachments": {},
   "cell_type": "markdown",
   "metadata": {},
   "source": [
    "## Da oggetto XML a testo\n",
    "\n",
    "Infine, dopo aver ottenuto tutte le informazioni necessarie ed eventualmente fatto delle modifiche, possiamo salvare il nostro oggetto Python su un file XML.\n",
    "\n",
    "La funzione `etree.tostring()` prende un elemento e restituisce un oggetto `bytes` che può essere successivamente salvato in un file."
   ]
  },
  {
   "cell_type": "code",
   "execution_count": 28,
   "metadata": {},
   "outputs": [
    {
     "name": "stdout",
     "output_type": "stream",
     "text": [
      "b'<a><b>hello</b></a>'\n"
     ]
    }
   ],
   "source": [
    "# Creiamo un oggetto XML (a partire da una stringa)\n",
    "xml_string = \"<a><b>hello</b></a>\"\n",
    "root = etree.fromstring(xml_string)\n",
    "\n",
    "# E poi lo riconvertiamo in stinga con tostring()\n",
    "print(etree.tostring(root))"
   ]
  },
  {
   "attachments": {},
   "cell_type": "markdown",
   "metadata": {},
   "source": [
    "Il metodo `ElementTree.write()` salva un'istanza di `ElementTree` direttamente su un file.\n",
    "\n",
    "ATTENZIONE: Se abbiamo lavorato con un `Element` XML, dobbiamo prima convertirlo in `ElementTree`."
   ]
  },
  {
   "cell_type": "code",
   "execution_count": 30,
   "metadata": {},
   "outputs": [],
   "source": [
    "# Creiamo un oggetto XML (a partire da una stringa)\n",
    "xml_string = \"<a><b>hello</b></a>\"\n",
    "root = etree.fromstring(xml_string)\n",
    "\n",
    "# Modifichiamo il testo del primo elemento figlio\n",
    "root[0].text += ', Pippo!'\n",
    "# Modifichiamo l'attributo dell'elemento root\n",
    "root.set('href', 'https://pippo.disney')\n",
    "\n",
    "# Convertiamo l'oggetto Element ottenuto in un ElementTree\n",
    "tree = etree.ElementTree(root)\n",
    "\n",
    "# Salviamo l'oggetto ElementTree su file\n",
    "tree.write('./files_esercizi/hello.xml')"
   ]
  },
  {
   "attachments": {},
   "cell_type": "markdown",
   "metadata": {},
   "source": [
    "Naturalmente se non volgiamo usare la funzione `ElementTree.write()` puoi sempre usare la classica funzione `open()`. Ricorda però che il file va aperto in modalità binaria, perché le rappresentazioni in stringa di un XML con `etree` sono sempre di tipo `bytes`."
   ]
  },
  {
   "cell_type": "code",
   "execution_count": 31,
   "metadata": {},
   "outputs": [],
   "source": [
    "import io\n",
    "from lxml import etree\n",
    "\n",
    "# Creiamo un oggetto XML (a partire da una stringa)\n",
    "xml_string_in = \"<a><b>hello</b></a>\"\n",
    "root = etree.fromstring(xml_string_in)\n",
    "\n",
    "# Modifichiamo il testo del primo elemento figlio\n",
    "root[0].text += ', Pluto!'\n",
    "# Modifichiamo l'attributo dell'elemento root\n",
    "root.set('href', 'https://pluto.disney')\n",
    "\n",
    "# Convertiamo l'oggetto Element ottenuto in un ElementTree\n",
    "tree = etree.ElementTree(root)\n",
    "# Riconvertiamo l'ElementTree in stringa\n",
    "xml_string_out = etree.tostring(tree)\n",
    "\n",
    "# Salviamo il file su disco con open() e mode 'wb'\n",
    "with open('./files_esercizi/hello.xml', 'wb') as file_out:\n",
    "    file_out.write(xml_string_out)\n"
   ]
  },
  {
   "attachments": {},
   "cell_type": "markdown",
   "metadata": {},
   "source": [
    "## Riassumendo\n",
    "\n",
    "Un elemento di un documento XML nel modulo `xml.etree` è rappresentato da un'istanza della classe `Element`. Lo chiamiamo \"root\" perché è la root di tutti gli elementi che contiene al suo interno.\n",
    "\n",
    "Si lavora con `Element` come con un elenco se si vuole accedere ai suoi sottoelementi o come con un dizionario (`.get()`) per accedere agli attributi.\n",
    "\n",
    "- I metodi `etree.fromstring()` e `etree.parse()` sono usati per creare oggetti XML Python da una stringa o da un file\n",
    "- I mmetodi `etree.tostring()` e `ElementTree.write()` ci permettono di salvare gli oggetti XML Python su una stringa o su un file.\n",
    "\n",
    "Per riferirci all'intero documento XML, abbiamo la classe `ElementTree`."
   ]
  }
 ],
 "metadata": {
  "kernelspec": {
   "display_name": ".venv",
   "language": "python",
   "name": "python3"
  },
  "language_info": {
   "codemirror_mode": {
    "name": "ipython",
    "version": 3
   },
   "file_extension": ".py",
   "mimetype": "text/x-python",
   "name": "python",
   "nbconvert_exporter": "python",
   "pygments_lexer": "ipython3",
   "version": "3.11.2"
  },
  "orig_nbformat": 4
 },
 "nbformat": 4,
 "nbformat_minor": 2
}
