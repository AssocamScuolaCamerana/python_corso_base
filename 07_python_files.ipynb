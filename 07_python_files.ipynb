{
 "cells": [
  {
   "attachments": {},
   "cell_type": "markdown",
   "metadata": {},
   "source": [
    "# Interagire con i file\n",
    "\n",
    "Spesso i dati per il vostro programma arrivano dall'esterno sotto forma di file. Tutti sappiamo cosa sono i file, li usiamo nella vita di tutti i giorni e quindi ha senso incorporarli in un progetto. In questo argomento imparerete a lavorare con i file esterni.\n",
    "\n",
    "Lo schema generale del lavoro con i file è il seguente: aprire il file, fare ciò che serve, quindi chiuderlo. Esaminiamo questi passaggi in modo più dettagliato."
   ]
  },
  {
   "cell_type": "markdown",
   "metadata": {},
   "source": [
    "## Aprire un file, la funzione `open()`\n",
    "\n",
    "Prima di poter provare a fare qualcosa con un file, è necessario aprirlo. Python ha molte funzioni integrate per lavorare con i file, quindi non è necessario installare o importare alcun modulo. Per aprire un file, possiamo usare la funzione integrata `open()`.\n",
    "\n",
    "```python\n",
    "# Esempio di apertura di un file\n",
    "mio_file = open('mio_file.txt')\n",
    "```\n",
    "\n",
    "La funzione `open()` ha un parametro richiesto, `file`, che è un oggetto di tipo _**path-like**_. L'oggetto path-like è una `str` o un `byte` che rappresenta un percorso nella directory del file. Nel nostro esempio, il parametro `file` ha il valore `\"mio_file.txt\"`, che significa che il file \"my_file.txt\" si trova nella directory di lavoro corrente.\n",
    "\n",
    "In questo argomento non entreremo nel dettaglio dei percorsi e delle directory, quindi assumeremo che tutti i nostri file di esempio si trovino nella directory di lavoro corrente.\n",
    "\n",
    "L'oggetto `my_file` che abbiamo appena creato è un file o un oggetto simile a un file. Significa solo che possiamo usare diversi tipi di metodi per i file su questo oggetto.\n",
    "\n",
    "La funzione `open()` ha una serie di parametri opzionali. Se date un'occhiata alla documentazione ufficiale di Python, potrete saperne di più. In questo argomento, esamineremo due parametri: `mode` e `encoding`.\n",
    "\n"
   ]
  },
  {
   "attachments": {},
   "cell_type": "markdown",
   "metadata": {},
   "source": [
    "## Il parametro `mode`\n",
    "\n",
    "Uno dei parametri opzionali più importanti della funzione open() è mode. Questo parametro regola il modo in cui vogliamo aprire il nostro file e per quale scopo. Sono disponibili le seguenti opzioni:\n",
    "\n",
    "| `mode`              | Significato                                                                        |\n",
    "|---------------------|------------------------------------------------------------------------------------|\n",
    "| `'r'`               | Apre per la lettura. Se il file non esiste, si verifica un errore.                 |\n",
    "| `'w'`               | Apre per la scrittura. Se il file esiste già, verrà sovrascritto.                  |\n",
    "| `'a'`               | Apre per la scrittura. Se il file esiste già, viene aggiunto alla fine del file.   |\n",
    "| `'+'`               | Apre per l'aggiornamento (lettura e scrittura).                                    |\n",
    "| `'b'`               | Apre in modalità binaria (binary mode).                                            |\n",
    "| `'t'`               | Apre come testo.                                                                   |\n",
    "\n",
    "Vediamo l'esempio seguente.\n",
    "\n",
    "```python\n",
    "mio_file = open('mio_file.txt', 'w')\n",
    "```\n",
    "\n",
    "Come si può notare, abbiamo specificato il parametro `mode` subito dopo il nome del file. Ora il file è aperto per la scrittura.\n",
    "\n",
    "È necessario fare un paio di precisazioni sulle modalità.\n",
    "\n",
    "Innanzitutto, per impostazione predefinita, i file vengono aperti per la lettura come testo, quindi il valore predefinito di `mode` è `'r'` o, più precisamente, `'rt'`.\n",
    "\n",
    "In secondo luogo, è possibile combinare le modalità per ottenere ciò che ci serve. Ad esempio, se vogliamo aprire un file esistente e poterlo leggere e aggiornare, dobbiamo impostare la modalità `'r+'`.\n",
    "\n",
    "In terzo luogo, è possibile scegliere il formato in cui aprire i file. Le opzioni principali sono testo o binario, rispettivamente `'t'` e `'b'`. Ciò corrisponde alla differenza tra gli oggetti `str` e `byte`. Quindi, se si vuole aprire un file per la scrittura in formato binario, la modalità deve essere `'wb'`.\n",
    "\n",
    "Si noti che, poiché il formato testo è quello predefinito, nella maggior parte dei casi `'t'` viene omesso.\n",
    "\n",
    "> ATTENZIONE: Alcune modalità non possono essere combinate tra loro: ad esempio, deve essere specificata solo una delle opzioni `'w'`, `'r'` e `'a'`, non si può aprire un file con la modalità `'ar'`. Allo stesso modo, si deve scegliere una delle due opzioni `'b'` o `'t'`, il file non può essere aperto sia in modalità testo che in modalità binaria.\n",
    "\n",
    "Infine, va segnalata un'importante differenza tra le opzioni `'w'` e `'a'`. Entrambe le modalità sono utilizzate per scrivere su un file. L'unica differenza è che `'w'` tronca il file prima di scriverlo. In altre parole, se il file esiste già, il suo contenuto viene cancellato. `'a'` si comporta diversamente: se il file esiste, qualsiasi cosa vi si scriva verrà semplicemente aggiunta alla fine del file. È possibile distinguerli con una semplice associazione di parole: `'w'` sta per *write* e `'a'` sta per *append*."
   ]
  },
  {
   "attachments": {},
   "cell_type": "markdown",
   "metadata": {},
   "source": [
    "## Codifica\n",
    "\n",
    "Il parametro `encoding` specifica la codifica da utilizzare per decodificare o codificare il file di testo.\n",
    "\n",
    "La codifica dipende dal sistema operativo e dell'editor con cui è stato scritto il file. Quando apriamo un file, Python non può indovinare la codifica, e se non gliela specifichiamo potrebbe aprirlo usando una codifica diversa da quella prevista.\n",
    "\n",
    "Se non stai usando la codifica giusta per il tuo file, le informazioni visualizzate potrebbero sembrare non avere senso. Quindi, se il file che si sta tentando di aprire appare strano o \"sbagliato\", potrebbe essere necessario modificare questo parametro e provare altre codifiche.\n",
    "\n",
    "È dunque sempre consigliabile specificare l'encoding quando si apre il file come testo dato che il valore predefinito dipende dalla piattaforma con cui è stato creato il file (solitamente `'utf-8'`).\n",
    "\n",
    "Di seguito sono riportati alcuni esempi di apertura di file tramite diverse codifiche:\n",
    "\n",
    "```python\n",
    "# UTF-8\n",
    "file_utf8 = open('mio_file.txt', encoding='utf-8')\n",
    "\n",
    "# LATIN-1\n",
    "file_utf16 = open('mio_file.txt', encoding='latin-1')\n",
    "\n",
    "# CP1252\n",
    "file_cp1252 = open('mio_file.txt', encoding='cp1252')\n",
    "```\n",
    "\n",
    "In genere, quando apri un file, prova prima a specificare la codifica `utf-8` che è la più comune scrivendo `encoding='utf-8'`, e se per caso  non va bene prova invece `encoding='latin-1'` (solitamente utile se il file è stato scritto su sistemi Windows). Se apri file scritti in posti più esotici, tipo in Cina, potresti dover usare un'altro encoding. Per approfondire queste questioni, puoi cominciare da questa pagina sulla [codifica dei caratteri](https://it.wikipedia.org/wiki/Codifica_di_caratteri).\n",
    "\n"
   ]
  },
  {
   "attachments": {},
   "cell_type": "markdown",
   "metadata": {},
   "source": [
    "## Chiusura del file\n",
    "\n",
    "Dopo aver lavorato con un file, è necessario chiuderlo. La chiusura dei file è estremamente importante!\n",
    "\n",
    "Nella maggior parte dei casi, un file viene chiuso quando il programma finisce di lavorare. Tuttavia, questo non è garantito. Per garantire la sicurezza dei dati, dobbiamo assicurarci che il file venga chiuso alla fine.\n",
    "\n",
    "Uno dei modi per farlo è utilizzare il metodo `close()` sul file:\n",
    "\n",
    "```python\n",
    "# chiude il file\n",
    "mio_file.close()\n",
    "```\n",
    "\n",
    "Questo non è l'unico modo, né il più efficiente. Ma per il momento è sufficiente, vedremo più avanti l'istruzione `with` che semplifica l'apertura/chiusura dei file.\n"
   ]
  },
  {
   "attachments": {},
   "cell_type": "markdown",
   "metadata": {},
   "source": [
    "## Riassumendo\n",
    "\n",
    "In questo argomento abbiamo appreso le basi del lavoro con i file in Python: come aprirli e chiuderli.\n",
    "\n",
    "- Quando si aprono i file, è necessario specificare per cosa li si sta aprendo, ad esempio per la lettura o la scrittura.\n",
    "- Per impostazione predefinita, i file vengono aperti per la lettura come testo.\n",
    "- A volte è necessario specificare la codifica del file, in modo che i dati vengano codificati/decodificati correttamente."
   ]
  },
  {
   "attachments": {},
   "cell_type": "markdown",
   "metadata": {},
   "source": [
    "## Lettura di un file\n",
    "\n",
    "Se avete un file, potreste voler visualizzare il suo contenuto. Vediamo diversi modi per leggere i file in Python.\n",
    "\n",
    "Per leggere un file, è sufficiente aprirlo in modalità di lettura.\n",
    "\n",
    "Immaginiamo di avere un file chiamato `personaggi.txt` che ha questo aspetto:\n",
    "\n",
    "```\n",
    "Leonardo\n",
    "da Vinci\n",
    "Sandro\n",
    "Botticelli\n",
    "Niccolò \n",
    "Macchiavelli\n",
    "```\n",
    "\n",
    "Ora, per leggere il file, è possibile:\n",
    "\n",
    "- utilizzare il metodo `read(size)`;\n",
    "- utilizzare il metodo `readline(size)`;\n",
    "- utilizzare il metodo `readlines()`;\n",
    "- iterare sulle righe con un ciclo `for`.\n",
    "\n",
    "I primi tre modi sono metodi speciali per gli oggetti file, mentre l'ultimo è un ciclo Python generico. Esaminiamoli uno per uno."
   ]
  },
  {
   "cell_type": "markdown",
   "metadata": {},
   "source": [
    "### `read()`\n",
    "\n",
    "`read(size)` legge la dimensione (`size`) specificate in byte di un file. Se il parametro non viene specificato, l'intero file viene letto e assegnato a una singola variabile. Ecco cosa otterremo applicandola al nostro file:"
   ]
  },
  {
   "cell_type": "code",
   "execution_count": 10,
   "metadata": {},
   "outputs": [
    {
     "name": "stdout",
     "output_type": "stream",
     "text": [
      "Leonardo\n",
      "da Vinci\n",
      "Sandro\n",
      "Botticelli\n",
      "Niccolò \n",
      "Macchiavelli\n"
     ]
    }
   ],
   "source": [
    "file = open('./files_esercizi/personaggi.txt', 'r')\n",
    "print(file.read())\n",
    "file.close()"
   ]
  },
  {
   "attachments": {},
   "cell_type": "markdown",
   "metadata": {},
   "source": [
    "### `readline()`\n",
    "\n",
    "`readline(size)` è simile a `read(size)`, ma legge la dimenzione (`size`) specificata in byte da una singola riga e non dall'intero file.\n",
    "\n",
    "Le righe dei file sono separate da sequenze di escape \"newline\": `'\\n'`, `'\\r'` o `'\\r\\n'`. In questo argomento sceglieremo `'\\n'`. Tenete però presente che questa sequenza di escape dipende dal vostro sistema operativo.\n",
    "\n",
    "Procediamo con il nostro esempio. Il file `personaggi.txt` contiene 6 righe. Ecco cosa otterremo se proviamo a leggere 3 byte da ogni riga:"
   ]
  },
  {
   "cell_type": "code",
   "execution_count": 9,
   "metadata": {},
   "outputs": [
    {
     "name": "stdout",
     "output_type": "stream",
     "text": [
      "Leo\n",
      "nar\n",
      "do\n",
      "\n",
      "da \n",
      "Vin\n",
      "ci\n",
      "\n"
     ]
    }
   ],
   "source": [
    "file = open('./files_esercizi/personaggi.txt', 'r')\n",
    "print(file.readline(3))\n",
    "print(file.readline(3))\n",
    "print(file.readline(3))\n",
    "print(file.readline(3))\n",
    "print(file.readline(3))\n",
    "print(file.readline(3))\n",
    "file.close()"
   ]
  },
  {
   "attachments": {},
   "cell_type": "markdown",
   "metadata": {},
   "source": [
    "Come si può notare, l'output non contiene i primi tre caratteri di tutte e 6 le righe. Questo perché quando si specifica il parametro `size`, viene estratto dalla riga un numero di byte della dimensione specificata fino alla sua fine e solo allora si passa a un'altra riga.\n",
    "\n",
    "Il carattere \"newline\" viene considerato come parte della riga. Quindi, nel nostro esempio, abbiamo bisogno di tre passaggi di `readline(3)` per leggere la prima riga che ha 8 caratteri e un carattere di newline (9 byte in totale). È da qui che provengono tutte le righe vuote nell'output."
   ]
  },
  {
   "attachments": {},
   "cell_type": "markdown",
   "metadata": {},
   "source": [
    "### `readlines()`\n",
    "\n",
    "`readlines()` ci permette di leggere l'intero file come una lista di righe. Ecco come si presenta:"
   ]
  },
  {
   "cell_type": "code",
   "execution_count": 7,
   "metadata": {},
   "outputs": [
    {
     "name": "stdout",
     "output_type": "stream",
     "text": [
      "['Leonardo\\n', 'da Vinci\\n', 'Sandro\\n', 'Botticelli\\n', 'Niccolò \\n', 'Macchiavelli']\n"
     ]
    }
   ],
   "source": [
    "file = open('./files_esercizi/personaggi.txt', 'r')\n",
    "print(file.readlines())\n",
    "file.close()"
   ]
  },
  {
   "attachments": {},
   "cell_type": "markdown",
   "metadata": {},
   "source": [
    "Qui si può vedere che il carattere *newline* fa effettivamente parte della riga.\n",
    "\n",
    "Questo metodo funziona bene quando i file sono piccoli, ma per i file di grandi dimensioni potrebbe essere inefficiente in quanto l'intero contenuto del file deve essere caricato in memoria per creare l'oggetto `list`."
   ]
  },
  {
   "attachments": {},
   "cell_type": "markdown",
   "metadata": {},
   "source": [
    "### Ciclo `for`\n",
    "\n",
    "Il modo più efficiente per leggere il contenuto di un file è quello di iterare sulle sue righe con un ciclo `for`."
   ]
  },
  {
   "cell_type": "code",
   "execution_count": 6,
   "metadata": {},
   "outputs": [
    {
     "name": "stdout",
     "output_type": "stream",
     "text": [
      "Leonardo\n",
      "\n",
      "da Vinci\n",
      "\n",
      "Sandro\n",
      "\n",
      "Botticelli\n",
      "\n",
      "Niccolò \n",
      "\n",
      "Macchiavelli\n"
     ]
    }
   ],
   "source": [
    "file = open('./files_esercizi/personaggi.txt', 'r')\n",
    "for line in file:\n",
    "    print(line)\n",
    "file.close() "
   ]
  },
  {
   "attachments": {},
   "cell_type": "markdown",
   "metadata": {},
   "source": [
    "Questo è il modo migliore per leggere file di grandi dimensioni, perché possiamo lavorare con una riga alla volta o con righe specifiche, ignorando quelle che non ci servono."
   ]
  },
  {
   "attachments": {},
   "cell_type": "markdown",
   "metadata": {},
   "source": [
    "### Riassumendo\n",
    "\n",
    "In questa sezione abbiamo visto come leggere il contenuto di un file.\n",
    "\n",
    "Questa è un'abilità è molto utile perché in certi casi è più facile o più conveniente leggere un file usando Python piuttosto che aprirlo direttamente.\n",
    "\n",
    "Per fare ciò, abbiamo a disposizione:\n",
    "\n",
    "- Il metodo `read()` legge il file nella sua interezza.\n",
    "- Il metodo `readline()` legge il file una riga alla volta.\n",
    "- Il metodo `readlines()` legge il file come una `list` di righe.\n",
    "- Il ciclo `for` per iterare sulle righe del file, che è il modo migliore."
   ]
  },
  {
   "attachments": {},
   "cell_type": "markdown",
   "metadata": {},
   "source": [
    "## Context manager: `with ... as`\n",
    "\n",
    "Viviamo in un mondo di risorse limitate, quindi una delle abilità più importanti nella vita (e nella programmazione) è saperle gestire. Non possiamo insegnarvi come gestire le risorse nella vita reale, ma possiamo aiutarvi a gestire efficacemente le risorse in Python con l'aiuto dei gestori di contesto.\n",
    "\n",
    "### Quando usare un context manager\n",
    "\n",
    "Lo scopo principale di un *context manager* è la gestione delle risorse. Cosa significa in pratica? L'esempio più comune è l'apertura dei file.\n",
    "\n",
    "L'apertura di un file consuma una risorsa limitata chiamata *file descriptor*. Se si cerca di aprire troppi file contemporaneamente, a seconda del sistema operativo, si può ottenere un errore o bloccare completamente il programma.\n",
    "\n",
    "```python\n",
    "# non fatelo a casa! ;)\n",
    "n_files = 1000000\n",
    "files = []\n",
    "\n",
    "for i in range(n_files):\n",
    "    files.append(open('test.txt'))\n",
    "\n",
    "# OSError: [Errno 24] Too many open files\n",
    "```\n",
    "\n",
    "Per evitare il consumo dei *file descriptor*, è necessario chiudere i file dopo averli utilizzati. La chiusura dei file avviene, come abbiamo già visto, con il metodo `close()`.\n",
    "\n",
    "```python\n",
    "n_files = 1000000\n",
    "files = []\n",
    "\n",
    "for i in range(n_files):\n",
    "    f = open('test.txt')\n",
    "    files.append(f)\n",
    "    f.close()\n",
    "\n",
    "# nessun errore, tutto ok!\n",
    "```\n",
    "\n",
    "Questo funziona perfettamente se i programmi sono relativamente semplici. Tuttavia, quando i nostri programmi o le nostre manipolazioni di file diventano più complicati, determinare quando e come chiudere i file può diventare complicato.\n",
    "\n",
    "NOTA: In altri linguaggi di programmazione, un modo comune per affrontare questo problema è un blocco `try ... except ... finally`.\n",
    "\n",
    "In Python, possiamo usare un *context manager*, il quale garantisce che tutte le operazioni necessarie avvengano al momento giusto.\n",
    "\n",
    "Nell'esempio dell'apertura dei file, il *context manager* chiuderà il file e rilascerà il *file descriptor* quando avremo finito di lavorare con il file, (anche se si è verificato un errore)."
   ]
  },
  {
   "attachments": {},
   "cell_type": "markdown",
   "metadata": {},
   "source": [
    "### `with ... as`\n",
    "\n",
    "Ora che sappiamo perché dobbiamo usare i context manager, impariamo come farlo. Un context manager viene introdotto dalla parola chiave `with`, seguita dal manager stesso e dal nome della variabile. La sintassi di base è la seguente:\n",
    "\n",
    "```python\n",
    "# invoca un gestore di contesto\n",
    "with context_manager as nome_variabile:\n",
    "    ...\n",
    "```\n",
    "\n",
    "`context_manager` è qualsiasi cosa che si comporti come un context manager (cioè che supporti metodi specifici dei context manager). Può essere un context_manager personalizzato o uno built-in di Python.\n",
    "\n",
    "Di seguito sono riportati alcuni esempi di context manager che si possono incontrare in Python. Non è necessario sapere cosa sono. Si tratta solo di informazioni aggiuntive che potrebbero essere interessanti:\n",
    "\n",
    "- Oggetti di tipo file (e altri *stream* come `io.StringIO` o `io.BytesIO`).\n",
    "- Sockets (networking).\n",
    "- Locks e semaphores del modulo `threading`.\n",
    "- Connessioni a un database.\n",
    "- Oggetti di tipo mock (unit test).\n",
    "\n",
    "È anche possibile annidare il costrutto `with`:\n",
    "\n",
    "```python\n",
    "# context manager annidato\n",
    "with context_manager1 as var1:\n",
    "    with context_manager2 as var2:\n",
    "        # e così via\n",
    "        ...\n",
    "```\n",
    "\n",
    "Più comunemente, l'istruzione `with ... as` viene utilizzata quando si lavora con i file. Vediamo come si fa."
   ]
  },
  {
   "attachments": {},
   "cell_type": "markdown",
   "metadata": {},
   "source": [
    "L'oggetto file che otteniamo quando usiamo la funzione `open()` funge da context manager, quindi possiamo usarlo dopo l'istruzione `with`. Ecco come si può fare:\n",
    "\n",
    "```python\n",
    "with open('test.txt') as f:\n",
    "    # qua possiamo lavorare con il file\n",
    "    ...\n",
    "```\n",
    "Come si può vedere, è molto semplice! Ci permette anche di accorciare un po' il codice, poiché non è necessario chiudere esplicitamente il file alla fine.\n",
    "\n",
    "> NOTA: In realtà è possibile chiudere esplicitamente il file all'interno del costrutto `with ... as`, non ci sarà alcun errore. Semplicemente non è necessario!\n",
    "\n",
    "Tornando alla situazione da un milione di file, ecco come apparirebbe se usassimo il costrutto `with`:\n",
    "\n",
    "```python\n",
    "n_files = 1000000\n",
    "files = []\n",
    "\n",
    "for i in range(n_files):\n",
    "    with open('test.txt') as f:\n",
    "        files.append(f)\n",
    "\n",
    "# nessun errore, tutto ok!\n",
    "```\n",
    "\n",
    "Vediamo ora un esempio più realistico. Supponiamo di avere un file con un elenco di film diretti da Quentin Tarantino, chiamato `tarantino.txt`. Vogliamo leggere questo file e stamparne i titoli:"
   ]
  },
  {
   "cell_type": "code",
   "execution_count": 5,
   "metadata": {},
   "outputs": [
    {
     "name": "stdout",
     "output_type": "stream",
     "text": [
      "Reservoir Dogs\n",
      "Pulp Fiction\n",
      "Jackie Brown\n",
      "Kill Bill: Volume 1\n",
      "Kill Bill: Volume 2\n",
      "Grindhouse: Death Proof\n",
      "Inglorious Basterds\n",
      "Django Unchained\n",
      "The Hateful Eight\n",
      "Once Upon a Time in Hollywood\n"
     ]
    }
   ],
   "source": [
    "with open('./files_esercizi/tarantino.txt', 'r', encoding='utf-8') as f:\n",
    "    for line in f:\n",
    "        # usiamo strip() per sbarazzarci dei simboli di newline\n",
    "        print(line.strip())"
   ]
  },
  {
   "attachments": {},
   "cell_type": "markdown",
   "metadata": {},
   "source": [
    "Ora immaginiamo di voler elaborare questi titoli, ad esempio renderli tutti minuscoli, e di salvarli in un nuovo file. Se si aprono più file contemporaneamente usando il costrutto `with ... as`: è sufficiente scrivere `with` una volta e scrivere `as` tante volte quanti sono i file da aprire.\n",
    "\n",
    "Ecco come si può fare:"
   ]
  },
  {
   "cell_type": "code",
   "execution_count": 4,
   "metadata": {},
   "outputs": [],
   "source": [
    "with open('./files_esercizi/tarantino.txt', 'r', encoding='utf-8') as in_file, \\\n",
    "     open('./files_esercizi/tarantino_lowercase.txt', 'w', encoding='utf-8') as out_file:\n",
    "    for line in in_file:\n",
    "        out_file.write(line.lower())"
   ]
  },
  {
   "attachments": {},
   "cell_type": "markdown",
   "metadata": {},
   "source": [
    "Un file `tarantino_lowercase.txt` sarà creato nel processo e conterrà i titoli dei film di Tarantino scritti in minuscolo.\n",
    "\n",
    "> NOTA: Il backslash (`\\`) nel frammento di codice precedente è un carattere di continuazione di riga. Viene utilizzato per collocare una singola istruzione lunga su più righe di codice."
   ]
  },
  {
   "attachments": {},
   "cell_type": "markdown",
   "metadata": {},
   "source": [
    "### Riassumendo\n",
    "\n",
    "In questa sezione abbiamo imparato a conoscere i *context manager*, strutture speciali utilizzate per la gestione efficace delle risorse.\n",
    "\n",
    "Fondamentalmente, un context manager aiuta ad assicurarsi che tutte le operazioni necessarie siano state eseguite e rilascia le risorse occupate quando queste non sono più utilizzate.\n",
    "\n",
    "I context manager sono solitamente introdotti da un'istruzione `with ... as`.\n",
    "\n",
    "In pratica, si incontrano più comunemente nell'apertura/scrittura dei file. Tuttavia, è possibile creare gestori di contesto personalizzati per i propri scopi, ma questi sono utilizzi per settori più specifici."
   ]
  },
  {
   "attachments": {},
   "cell_type": "markdown",
   "metadata": {},
   "source": [
    "# Formato dei dati (*data format*)\n",
    "\n",
    "Uno dei problemi più antichi dell'informatica è: come registriamo i nostri dati?\n",
    "\n",
    "A prima vista può sembrare una domanda banale, ma in realtà dietro si cela un problema complesso: come distinguiamo i nostri dati l'uno dall'altro?"
   ]
  },
  {
   "cell_type": "markdown",
   "metadata": {},
   "source": [
    "## Serializzazione: alcune riflessioni\n",
    "\n",
    "In informatica, la [serializzazione](https://it.wikipedia.org/wiki/Serializzazione) è il processo di traduzione di una struttura di dati (o dello stato di un oggetto) in un formato che può essere memorizzato o trasmesso e ricostruito in un secondo momento, anche in un ambiente informatico diverso.\n",
    "\n",
    "Se il nostro file `personaggi.txt` fosse scritto così:\n",
    "\n",
    "<pre>\n",
    "Leonardo da Vinci Sandro Botticelli Niccolò Macchiavelli\n",
    "</pre>\n",
    "\n",
    "come potremmo fare a capire quando finisce un dato e quando ne inizia uno nuovo? Per quanto ne sappiamo, anzi, per quanto ne sa Python, `Leonardo da Vinci Sandro Botticelli Niccolò Macchiavelli` potremme essere il nome di una sola persona.\n",
    "\n",
    "Quindi dobbiamo trovare il modo di \"dividere\" i nostri dati utilizzando una \"regola\", perché, come ben sappiamo, il nostro computer deve essere istruito tramite regole precise, descritte da una sequenza di istruzioni.\n",
    "\n",
    "In altre parole dobbiamo:\n",
    "\n",
    "- Trovare un modo/convenzione per registrare i dati.\n",
    "- Istruire il computer su come leggere i dati.\n",
    "\n",
    "Potremmo per esempio decidere di separare i nostri dati usando la virgola:\n",
    "\n",
    "<pre>\n",
    "Leonardo da Vinci,Sandro Botticelli,Niccolò Macchiavelli\n",
    "</pre>\n",
    "\n",
    "In questo caso, se dovessimo memorizzare solo nomi e cognomi, la virgola è una buona soluzione perché sappiamo che i nomi e cogomi non contengono virgole.\n",
    "\n",
    "Tuttavia se dovessimo memorizzare delle stringhe di testo arbitrarie:\n",
    "\n",
    "<pre>\n",
    "Giovanni,Marco,casa,3,487,Hello, World!,\"AEIOU\"\n",
    "|-------|-----|----|-----|-------------|-------|\n",
    "    0      1    2     3         4          5\n",
    "</pre>\n",
    "\n",
    "è chiaro che avremmo qualche problema! `3,487` e `Hello, World!` verrebbero divisi:\n",
    "\n",
    "<pre>\n",
    "Giovanni,Marco,casa,3,487,Hello, World!,\"AEIOU\"\n",
    "|-------|-----|----|-|---|-----|-------|-------|\n",
    "    0      1    2   3  4    5      6       7\n",
    "</pre>\n",
    "\n",
    "In questo modo avremo 7 valori anziché i 5 che dovrebbero essere!\n",
    "\n",
    "Potremmo quindi pensare a delle soluzioni:\n",
    "\n",
    "<pre>\n",
    "Giovanni,Marco,casa,3\\,487,Hello\\, World!,\"AEIOU\"\n",
    "\n",
    "Giovanni,Marco,casa,3,,487,Hello,, World!,\"AEIOU\"\n",
    "\n",
    "Giovanni,Marco,casa,\"3,487\",\"Hello, World!\",\"\"AEIOU\"\"\n",
    "</pre>\n",
    "\n",
    "Nel primo e nel secondo caso usiamo un carattere di escape, mentre nel terzo usiamo un delimitatore facoltativo.\n",
    "\n",
    "Naturalmente [esistono già tantissime soluzioni](https://en.wikipedia.org/wiki/Comparison_of_data_serialization_formats) a questo problema, dato che è un problema antico. Quindi non ci metteremo noi a inventare un formato di dati, ma ne useremo alcuni tra quelli già disponibili.\n",
    "\n",
    "Inoltre, il vantaggio di usare un formato già disponibile è che possiamo inviare ad altre persone il nostro file e queste potranno leggerlo in modo corretto dato che stiamo seguendo una \"convenzione\".\n",
    "\n",
    "I formati (o le \"convenzioni\") più diffusi sono:\n",
    "\n",
    "- [CSV](https://it.wikipedia.org/wiki/Comma-separated_values): Comma Separated Values (standard [RFC 4180)](https://www.rfc-editor.org/rfc/rfc4180)). \n",
    "- [JSON](https://it.wikipedia.org/wiki/JavaScript_Object_Notation): JavaScript Object Notation (standard [RFC 8259](https://www.rfc-editor.org/rfc/rfc8259)).\n",
    "- [XML](https://it.wikipedia.org/wiki/XML): eXtensible Markup Language (standard [by W3C](https://www.w3.org/TR/xml/) o SGML [ISO 8879](https://www.iso.org/standard/16387.html)).\n",
    "\n"
   ]
  },
  {
   "attachments": {},
   "cell_type": "markdown",
   "metadata": {},
   "source": [
    "### CSV\n",
    "\n",
    "`.csv` è uno dei formati più vecchi e diffusi.\n",
    "\n",
    "```csv\n",
    "blog title, date, author, file size\n",
    "Data Formats 101, 08-01-2017, Ben, 17kb\n",
    "```\n",
    "\n",
    "In realtà ne esistono molte varianti, in base al delimitatore che si vuole usare.\n",
    "\n",
    "Esiste l'espressione ombrello _**Delimiter-Separated Values**_ o DSV, che indica genericamente dei dati separati da un delimitatore. Ad esempio:\n",
    "- Tab (carattere di tabulazione) &rarr; TSV\n",
    "- Pipe (carattere `|`) &rarr; PSV"
   ]
  },
  {
   "attachments": {},
   "cell_type": "markdown",
   "metadata": {},
   "source": [
    "### JSON\n",
    "\n",
    "`.json` è un formato che utilizza una struttura dati molto simile a un dizionario Python, ma con alcune differenze, che vedremo più avanti.\n",
    "\n",
    "```json\n",
    "{ \"blog title\": \"Data Formats 101\", \"date\": \"08-01-2017\", \"author\": \"ben\", \"file size\": \"17kb\" }\n",
    "```\n",
    "Con il formato JSON possimo creare anche annidare i dati, crando così anche strutture più complesse:\n",
    "\n",
    "```json\n",
    "{ \"blog title\": \"Data Formats 101\", \"date\": \"08-01-2017\", \"author\": \"ben\", \"file size\": \"17kb\", \"sections\": { \"Section_1\": \"JSON\", \"Section_2\": \"XML\", \"Section_3\": \"CSV\", \"Section_4\": \"TSV\" }, \"publication_channels\" : [\"medium\", \"twitter\", \"facebook\", \"linkedin\"] }\n",
    "```"
   ]
  },
  {
   "attachments": {},
   "cell_type": "markdown",
   "metadata": {},
   "source": [
    "### XML\n",
    "\n",
    "`.xml` è un formato appartenenete alla macro-famiglia detta SGML (*Standard Generalized Markup Language*), da cui deriva anche il più famoso HTML.\n",
    "\n",
    "In pratica XML e HTML sono strettemente imparentati. Infatti se hai già visto del codice HTML, questa sintassi dovrebbe esserti familiare:\n",
    "\n",
    "```xml\n",
    "<entry> <blog_title>Data Formats 101</blog_title> <date>08-01-2017</date> <author>Ben</author> <file_size>17kb</file_size> </entry>\n",
    "```\n",
    "\n",
    "Anche l'XML permette l'annidamento dei dati:\n",
    "\n",
    "```xml\n",
    "<entry> <blog_title>Data Formats 101</blog_title> <date>08-01-2017</date> <author>Ben</author> <file_size>17kb</file_size> <sections type=”object”> <section_1>JSON</section_1> <section_2>XML</section_2> <section_3>CSV</section_3> <section_4>TSV</section_4> </sections>@t <publication_channels type=”array”> <value>medium</value> <value>twitter</value> <value>facebook</value> <value>linkedin</value> </publication_channels> </entry>\n",
    "```\n",
    "\n",
    "La differenza più rilevante tra JSON e XML è che l'XML consente di memorizzare anche i cosiddetti \"metadati\" in un modo inequivocabile.\n",
    "\n",
    "```xml\n",
    "<date timezone=\"UTC\">08-01-2017</date>\n",
    "```\n",
    "\n",
    "se avessimo voluto fare la stessa cosa con JSON, avremmo dovuto creare un \"campo\" apposito:\n",
    "\n",
    "```json\n",
    "{ \"timezone\": \"UTC\", \"date\": \"08-01-2017\" }\n",
    "```"
   ]
  },
  {
   "attachments": {},
   "cell_type": "markdown",
   "metadata": {},
   "source": [
    "## Un semplice elenco di dati\n",
    "\n",
    "I formati CSV, JSON e XML consentono di serializzare strutture dati anche molto complesse, tuttavia se avessimo necessita di registrare una serie di valori tutti dello stesso tipo, come per esempio un elenco di nomi, potremmo anche non scomodare questi formati e cercare una soluzione più semplice.\n",
    "\n",
    "Un modo rapido e molto usato per registrare dei dati in un file di testo è quello di posizionare ciascun dato (*entry*) su una nuova riga.\n",
    "\n",
    "In pratica il più semplice file contenente dati che possiamo immaginare, potrebbe essere elenco di valori, ciascuno sulla propria riga.\n",
    "\n",
    "Ritornando al nostro esempio, il file `personaggi.txt` fa proprio questo e infatti troviamo ciascun nome su una riga diversa.\n",
    "\n",
    "> NOTA: Peccato che abbiamo nome e cognome alternati... in effettu è un po' scomodo.\n",
    "\n",
    "Se ci pensiamo bene, in questo modo stiamo utilizzando il carattere `\\n` come **delimitatore** dei nostri dati. Ogni volta che incontro un `\\n`, so che finisce un dato e ne inizia uno nuovo.\n",
    "\n",
    "Come abbiamo già visto, potremmo utilizzare un qualsasi altro carattere, a patto che questo non venga confuso con i caratteri contenuti nei dati veri e propri.\n",
    "\n",
    "> RIBADISCO: Se decidessimo di usare un altro carattere, ad esempio la virgola, dovremmo assicurarci di non utilizzare la virgola all'interno dei dati, oppure trovare il modo i distinguere la virgola di separazione, il delimitatore, da quella che eventualmente potremmo trovare nei dati.\n",
    "\n",
    "La questione è lo stessa delle stringhe di Python, dove abbiamo il problema di gestire le virgolette interne se queste sono uguali a quelle esterne:\n",
    "\n",
    "```python\n",
    "'\"Voglio leggere \"Guerra e pace\"'   # tutto ok\n",
    "\"Voglio leggere \\\"Guerra e pace\\\"\"  # usiamo \\ come simbolo di escape,\n",
    "                                    # in modo da distinguere i dati dai delimitatori\n",
    "```\n",
    "\n",
    "Nel caso delle stringhe, Python implementa due possibili soluzioni:\n",
    "\n",
    "- Usare un delimitatore diverso, che non si confonda con il contenuto dei dati.\n",
    "- Usare un simbolo di escape, il quale indica che il carattere seguente fa parte dei dati e non si tratta del delimitatore.\n",
    "\n",
    "Le strategie per risolvere questo problema sono molteplici e ciascun **formato** di file, ovvero ciascun **tipo** di file, può implementare le proprie soluzioni. Sta a noi informarci di queste \"convenzioni\" prima di accedere al file per elaborarlo.\n",
    "\n",
    "Come abbiamo visto negli esempi, i file `.csv`, `.json` o `.xml` utilizzano ciascuno un diverso metodo per delimitare e addirittura strutturare i dati.\n",
    "\n",
    "Per ora però cominciamo a lavorare su un semplice elenco di valori."
   ]
  },
  {
   "attachments": {},
   "cell_type": "markdown",
   "metadata": {},
   "source": [
    "## Esercizio: unire le righe due a due\n",
    "\n",
    "Il nostro file `personaggi.txt` ha una caratteristica che potremmo trovare anche altrove: le informazioni sono raggruppate per righe e ogni tot righe abbiamo un cosiddetto nuovo \"record\". \n",
    "\n",
    "```\n",
    "Leonardo\n",
    "da Vinci\n",
    "Sandro\n",
    "Botticelli\n",
    "Niccolò \n",
    "Macchiavelli\n",
    "```\n",
    "\n",
    "In questo file notiamo subito la regolarità: le prime due linee contengono i dati di Leonardo da Vinci, prima il nome e poi il cognome. Le successive due linee hanno invece i dati di Sandro Botticelli, di nuovo prima il nome e poi il cognome, e così via.\n",
    "\n",
    "Un programma che potremo voler fare potrebbe essere leggere le linee e stampare a video nomi e cognomi così:\n",
    "\n",
    "```\n",
    "Leonardo da Vinci \n",
    "Sandro Botticelli\n",
    "Niccolò Macchiavelli\n",
    "```\n",
    "\n",
    "Per iniziare ad avere un'approssimazione del risultato finale, possiamo aprire il file, leggere solo la prima linea e stamparla:"
   ]
  },
  {
   "cell_type": "code",
   "execution_count": 3,
   "metadata": {},
   "outputs": [
    {
     "name": "stdout",
     "output_type": "stream",
     "text": [
      "Leonardo\n",
      "\n"
     ]
    }
   ],
   "source": [
    "with open('./files_esercizi/personaggi.txt', encoding='utf-8') as file_personaggi:\n",
    "    linea = file_personaggi.readline()\n",
    "    print(linea)"
   ]
  },
  {
   "attachments": {},
   "cell_type": "markdown",
   "metadata": {},
   "source": [
    "> SUGGERIMENTO: all'inizio, man mano che aggiungi del codice per implementare la tua soluzione, controlla con `print()` il contenuto e con `type()` il tipo dei dati/oggetti che crei. Ad esempio:"
   ]
  },
  {
   "cell_type": "code",
   "execution_count": 11,
   "metadata": {},
   "outputs": [
    {
     "name": "stdout",
     "output_type": "stream",
     "text": [
      "Leonardo\n",
      "\n",
      "type(f): <class '_io.TextIOWrapper'>\n",
      "\n",
      "Help on built-in function readline:\n",
      "\n",
      "readline(size=-1, /) method of _io.TextIOWrapper instance\n",
      "    Read until newline or EOF.\n",
      "    \n",
      "    Returns an empty string if EOF is hit immediately.\n",
      "\n"
     ]
    }
   ],
   "source": [
    "with open('./files_esercizi/personaggi.txt', encoding='utf-8') as file_personaggi:\n",
    "    linea=file_personaggi.readline()\n",
    "    print(linea)\n",
    "    print('type(f):', type(file_personaggi))\n",
    "    print()\n",
    "    help(file_personaggi.readline)    \n",
    "    # help(f)  # lunga ...\n"
   ]
  },
  {
   "cell_type": "markdown",
   "metadata": {},
   "source": [
    "Prima abbiamo messo il contenuto della prima linea nella variabile `line`, ora potremmo metterlo in una variabile dal nome più significativo, come `nome`. Non solo, possiamo anche direttamente leggere la linea successiva nella variabile `cognome` e poi stampare la concatenazione delle due:"
   ]
  },
  {
   "cell_type": "code",
   "execution_count": 13,
   "metadata": {},
   "outputs": [
    {
     "name": "stdout",
     "output_type": "stream",
     "text": [
      "Leonardo\n",
      " da Vinci\n",
      "\n"
     ]
    }
   ],
   "source": [
    "with open('./files_esercizi/personaggi.txt', encoding='utf-8') as file_personaggi:\n",
    "    nome = file_personaggi.readline()\n",
    "    cognome = file_personaggi.readline()\n",
    "    print(nome + ' ' + cognome)\n"
   ]
  },
  {
   "attachments": {},
   "cell_type": "markdown",
   "metadata": {},
   "source": [
    "PROBLEMA: Il `print` mette comunque uno strano ritorno a capo. Come mai? Se ti ricordi, prima abbiamo detto che `readline` legge il contenuto della linea in una stringa aggiungendo alla fine anche il carattere speciale di newline. Per eliminarlo, puoi usare il metodo `str.rstrip()`:"
   ]
  },
  {
   "cell_type": "code",
   "execution_count": 27,
   "metadata": {},
   "outputs": [
    {
     "name": "stdout",
     "output_type": "stream",
     "text": [
      "Leonardo da Vinci\n"
     ]
    }
   ],
   "source": [
    "with open('./files_esercizi/personaggi.txt', encoding='utf-8') as file_personaggi:\n",
    "    nome = file_personaggi.readline().rstrip()\n",
    "    cognome = file_personaggi.readline().rstrip()\n",
    "    print(nome + ' ' + cognome)"
   ]
  },
  {
   "attachments": {},
   "cell_type": "markdown",
   "metadata": {},
   "source": [
    "ESPERIMENTA: Riscrivi il blocco qua sopra nella cella sotto, ed esegui la cella con Control+Invio. Domanda: che succede se usi `str.strip()` invece di `str.rstrip()`? Ed `str.lstrip()`? Riesci a dedurre il significato di `r` e `l` ? Se non ci riesci, prova ad usare il comando python `help` chiamando `help(str.rstrip)` "
   ]
  },
  {
   "cell_type": "code",
   "execution_count": 28,
   "metadata": {},
   "outputs": [
    {
     "name": "stdout",
     "output_type": "stream",
     "text": [
      "Leonardo da Vinci\n"
     ]
    }
   ],
   "source": [
    "with open('./files_esercizi/personaggi.txt', encoding='utf-8') as file_personaggi:\n",
    "    nome = file_personaggi.readline().rstrip()\n",
    "    cognome = file_personaggi.readline().rstrip()\n",
    "    print(nome + ' ' + cognome)"
   ]
  },
  {
   "attachments": {},
   "cell_type": "markdown",
   "metadata": {},
   "source": [
    "Benissimo, abbiamo la prima linea! Adesso possiamo leggere tutte le linee in sequenza. A tal fine possiamo usare un ciclo `while`:\n",
    "\n"
   ]
  },
  {
   "cell_type": "code",
   "execution_count": 25,
   "metadata": {},
   "outputs": [
    {
     "name": "stdout",
     "output_type": "stream",
     "text": [
      "Leonardo da Vinci\n",
      "Sandro Botticelli\n",
      "Niccolò Macchiavelli\n"
     ]
    }
   ],
   "source": [
    "with open('./files_esercizi/personaggi.txt', encoding='utf-8') as file_personaggi:\n",
    "    linea = file_personaggi.readline()\n",
    "    while linea != '':                \n",
    "        nome = linea.rstrip()\n",
    "        cognome = file_personaggi.readline().rstrip()\n",
    "        print(nome + ' ' + cognome)\n",
    "        linea = file_personaggi.readline()"
   ]
  },
  {
   "attachments": {},
   "cell_type": "markdown",
   "metadata": {},
   "source": [
    "> NOTA: In Python ci sono metodi più concisi per leggere un file di testo linea per linea che vedremo in seguito, intanto abbiamo questo approccio per esplicitare tutti i passaggi."
   ]
  },
  {
   "attachments": {},
   "cell_type": "markdown",
   "metadata": {},
   "source": [
    "> NOTA: In generale, un ciclo `while` funziona così:"
   ]
  },
  {
   "cell_type": "code",
   "execution_count": 30,
   "metadata": {},
   "outputs": [
    {
     "name": "stdout",
     "output_type": "stream",
     "text": [
      "1\n",
      "2\n",
      "3\n",
      "4\n",
      "5\n"
     ]
    }
   ],
   "source": [
    "i = 1\n",
    "while i < 6:  # fintanto che questa condizione è True,\n",
    "    print(i)      # esegui questo blocco di codice\n",
    "    i += 1        # e quando arrivi alla fine lo esegui di nuovo."
   ]
  },
  {
   "cell_type": "markdown",
   "metadata": {},
   "source": [
    "Cosa abbiamo fatto? Per prima cosa, abbiamo aggiunto un ciclo `while` in un nuovo blocco\n",
    "\n",
    "**ATTENZIONE**: nel nuovo blocco while, dato che è già all'interno del blocco esterno `with`, le istruzioni sono indentate di 8 spazi e non più 4! Se per caso sbagli gli spazi, possono succedere brutti guai!\n",
    "\n",
    "Prima leggiamo una linea, e due casi sono possibili:\n",
    "\n",
    "- A: siamo alla fine del file (o il file è vuoto): in questo caso la chiamata a  `readline()` ritorna una stringa vuota\n",
    "\n",
    "- B: non siamo alla fine del file: la prima linea è messa come una stringa dentro la variabile `linea`. Dato che Python internamente usa un puntatore per tenere traccia della posizione a cui si è durante la lettura del file, dopo una lettura questo puntatore è mosso all'inizio della riga successiva. In questo modo una chiamata successiva a `readline()` leggerà la linea dalla nuova posizione.\n",
    "\n",
    "L'algoritmo è il seguente:\n",
    "\n",
    "1. Nel blocco `while` diciamo a Python di continuare il ciclo fintanto che `linea` _non_ è vuota.\n",
    "2. In questo caso, dentro il blocco `while` estraiamo il nome dalla linea e lo mettiamo nella variabile `nome` (rimuovendo il carattere extra di ritorno a capo con la `rstrip()` come fatto in precedenza), e poi procediamo leggendo la nuova riga ed estraendo il risultato dentro la variabile `cognome`.\n",
    "3. Infine, leggiamo di nuovo la linea dentro la variabile `linea` così sarà pronta per la prossima iterazione di estrazione nome.\n",
    "4. Se la `linea` è vuota il ciclo terminerà.\n",
    "\n",
    "```python\n",
    "while linea != '':                                 # entra nel ciclo se la linea contiene caratteri\n",
    "    nome = linea.rstrip()                          # estrae il nome\n",
    "    cognome = file_personaggi.readline().rstrip()  # legge la riga seguente ed estrae il cognome\n",
    "    print(nome + ' ' + cognome)     \n",
    "    linea = file_personaggi.readline()             # legge la prossima linea\n",
    "```\n"
   ]
  },
  {
   "attachments": {},
   "cell_type": "markdown",
   "metadata": {},
   "source": [
    "### Esercizio - riscrivi\n",
    "\n",
    "Di nuovo come prima, riscrivi nella cella qua sotto il codice col `while` appena spiegato, facendo MOLTA attenzione all'indentazione (per la linea del with esterno fai pure copia e incolla):"
   ]
  },
  {
   "cell_type": "code",
   "execution_count": 39,
   "metadata": {},
   "outputs": [],
   "source": [
    "# riscrivi qua il codice col while interno\n"
   ]
  }
 ],
 "metadata": {
  "kernelspec": {
   "display_name": ".venv",
   "language": "python",
   "name": "python3"
  },
  "language_info": {
   "codemirror_mode": {
    "name": "ipython",
    "version": 3
   },
   "file_extension": ".py",
   "mimetype": "text/x-python",
   "name": "python",
   "nbconvert_exporter": "python",
   "pygments_lexer": "ipython3",
   "version": "3.11.2"
  },
  "orig_nbformat": 4
 },
 "nbformat": 4,
 "nbformat_minor": 2
}
