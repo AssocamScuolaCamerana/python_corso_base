{
 "cells": [
  {
   "cell_type": "markdown",
   "metadata": {},
   "source": [
    "## Libreria Standard, moduli e pacchetti di Python\n",
    "\n",
    "Esistono diversi modi per interagire con il codice. In questo argomento impareremo quali sono questi modi e qual è l'opzione più conveniente di caso in caso. Tuttavia, la cosa più importante è che impareremo come salvare il nostro codice in un file per poterlo riutilizzare o modificare ulteriormente in futuro. Come probabilmente avrete già intuito, questo vale per qualsiasi codice, il che significa che potete anche usare il codice di qualcun altro e quest'ultima parte è una cosa piuttosto importante che apprezzerete rapidamente come sviluppatori.\n",
    "\n",
    "Quando si lavora su semplici esempi, probabilmente si digita il codice direttamente nell'interprete. Ma ogni volta che si esce dall'interprete e lo si riavvia, si perdono tutte le definizioni fatte in precedenza. Per questo motivo, quando si iniziano a scrivere programmi più grandi, è opportuno preparare il codice in anticipo con un editor di testo e poi eseguirlo con l'interprete. Un file contenente un elenco di operazioni che vanno lette ed eseguite da un interprete è chiamato genericamente \"***script***\".\n",
    "\n",
    "È anche possibile che si vogliano scrivere alcune funzioni per poi riutilizzarle in altri programmi oppure utilizzare il codice scritto in precedenza da qualcun altro. Un modo per farlo potrebbe essere quello di copiare il codice nel proprio programma, ma questo è poco pratico e porta presto a un codice mal strutturato e difficile da leggere/manutenere. Fortunatamente, in Python esiste un altro modo per organizzare e riutilizzare il codice ed è chiamato nello specifico \"***modulo***\".\n",
    "\n",
    "Il modulo è semplicemente un file che contiene dichiarazioni e definizioni, insomma codice Python. Di solito ha un'estensione `.py`. Ciò che rende potente il sistema dei moduli è la possibilità di caricare o importare un modulo da un altro, creando quello che viene in gerdo chiamato \"albero delle dipendenze\"."
   ]
  },
  {
   "cell_type": "markdown",
   "metadata": {},
   "source": [
    "### Caricamento dei moduli (importazione)\n",
    "\n",
    "Per caricare un modulo, basta usare il comando `import`. Nella sua forma base, ha la seguente sintassi: `import modulo_di_esempio`.\n",
    "\n",
    "```python\n",
    "    import modulo_di_esempio # importazione del modulo\n",
    "\n",
    "    modulo_di_esempio.super_function()  # chiamata a una funzione definita nel modulo_di_esempio\n",
    "\n",
    "    print(modulo_di_esempio.super_variable)  # accesso a una variabile definita nel modulo_di_esempio\n",
    "```\n",
    "\n",
    "`modulo_di_esempio` è il nome del modulo che si vuole importare. Per esempio, il nome di un file chiamato `mio_modulo.py` è `mio_modulo`. Usando questa semplice sintassi, per essere importato, `mio_modulo.py` deve trovarsi nella stessa directory del file in cui si sta cercando di importare `mio_modulo`. All'inizio, il sistema di importazione di Python cerca un modulo nella directory corrente, poi controlla i moduli built-in (Libreria standard) e, se non viene trovato nulla, viene sollevato un errore. Dopo l'importazione, il modulo diventa disponibile sotto forma di oggetto avente il suo proprio nome e si può accedere alle funzioni e alle variabili in esso definite usando la notazione a punti (`mio_modulo.super_funzione()`).\n",
    "\n",
    "Se necessitiamo solo di alcune parti di un modulo, è anche possibile importarne solo alcune funzioni o variabili, evitando di importare l'intero modulo. Si può fare questo usando l'espresione `from` nella dichiarazione di importazione.\n",
    "\n",
    "```python\n",
    "    from modulo_di_esempio import funzione_di_esempio\n",
    "\n",
    "    funzione_di_esempio()  # super_function is now available directly at the current module\n",
    "\n",
    "    modulo_di_esempio.funzione_di_esempio()  # note that in this case name super_module is not imported, \n",
    "                                            # so this line leads to an error\n",
    "```\n",
    "\n",
    "Una buona pratica è quella di importare un solo modulo per riga e di mettere tutte le importazioni all'inizio del file, perché questo aumenta la leggibilità.\n",
    "\n",
    "```python\n",
    "    import modulo_1\n",
    "    import modulo_2\n",
    "    import modulo_3\n",
    "\n",
    "    # the rest of module code goes here\n",
    "    # ...\n",
    "```\n",
    "\n",
    "Se il modulo da importare si trova in una directory differente è necessario ricorrere a una sintassi particolare.\n",
    "Ipotizzando che lo script che stiamo scrivendo si trova nella posizione `/my_prject/app/` e il modulo da importare si trova nella posizione `/my_prject/libs/`, allora dovremmo scrivere:\n",
    "\n",
    "```python\n",
    "    # oppure, per importare l'intero modulo\n",
    "    from .. import libs.modulo_di_esempio\n",
    "    # oppure, per importare solo una funzione:\n",
    "    from .. import libs.modulo_di_esempio.funzione_di_esempio\n",
    "```\n",
    "\n",
    "> NOTA: Il nome della directory `/libs/` viene interpretato da Python come un *namespace*!\n",
    "\n",
    "Inoltre, un'altra sintassi speciale dell'istruzione `import` consente di caricare tutti i nomi definiti in un modulo. Si chiama *wildcard import* e ha la sintassi `from module import *`. In generale, si dovrebbe evitare di utilizzare questo metodo dato che può causare un comportamento inaspettato, perché non si sa quali nomi esattamente saranno importati nel namespace corrente. Inoltre, questi nomi potrebbero sovrapporsi ad altri esistenti senza che l'utente se ne accorga. È meglio renderlo esplicito e specificare ogni volta cosa si sta importando.\n",
    "\n",
    "La [PEP 8](https://peps.python.org/pep-0008/#imports) ci suggerisce che nel caso in cui si debbano usare più dichiarazioni di importazione, dovremmo fare attenzione al loro ordine:\n",
    "\n",
    "1. importazioni di moduli built-i, cioè dalla Libreria standard di Python;\n",
    "2. importazioni da moduli di terze parti, cioè da qualcosa installato addizionalmente (di solito con `pip` o con qualunque altro package manager);\n",
    "3. importazioni di script/moduli/librerie locali, cioè file che appartengono solo all'applicazione corrente.\n",
    "\n",
    "È duque buona prassi raggrupparle in questo ordine e, se sono numerose bisognerebbe separare i gruppi con una riga vuota. Inoltre, in molte linee guida, si raccomanda di ordinare le importazioni in ordine alfabetico."
   ]
  },
  {
   "cell_type": "markdown",
   "metadata": {},
   "source": [
    "### Moduli *built-in*: *The Standard Library*\n",
    "\n",
    "Python è dotato di un'ottima Libreria standard. Contiene molti moduli integrati (*built-in*) che forniscono funzioni e strutture dati molto utili. Un altro vantaggio è che la Libreria standard è disponibile su ogni sistema in cui è installato Python. Il \"[Python Module Index](https://docs.python.org/3/py-modindex.html)\" è il riferimento ufficiale a tutti i moduli disponibili nella Libreria standard.\n",
    "\n",
    "Python ha un modulo math che fornisce l'accesso alle funzioni matematiche.\n",
    "\n",
    "```python\n",
    "    import math\n",
    "\n",
    "    print(math.factorial(5))  # prints the value of 5!\n",
    "\n",
    "    print(math.log(10))  # prints the natural logarithm of 10\n",
    "\n",
    "    print(math.pi)  # math also contains several constants\n",
    "    print(math.e)\n",
    "```\n",
    "\n",
    "Il modulo string contiene operazioni e costanti comuni sulle stringhe.\n",
    "\n",
    "```python\n",
    "    from string import digits\n",
    "\n",
    "    print(digits)  # prints all the digit symbols\n",
    "```\n",
    "\n",
    "Il modulo random fornisce funzioni che consentono di effettuare una scelta casuale.\n",
    "\n",
    "```python\n",
    "    from random import choice\n",
    "\n",
    "    print(choice(['red', 'green', 'yellow']))  # print a random item from the list\n",
    "```"
   ]
  },
  {
   "cell_type": "markdown",
   "metadata": {},
   "source": [
    "### Riassumendo\n",
    "\n",
    "In questo argomento abbiamo appreso cosa sono gli script e i moduli, perché sono utili, come importare moduli o oggetti specifici da essi e se è necessario o meno utilizzare il nome di un modulo per accedervi. Abbiamo anche parlato dei moduli esterni e di quelli forniti con la Libreria standard di Python. Questa competenza di base vi darà sicuramente molte opportunità in futuro, quindi non abbiate timore di provare a caricare i moduli da soli!\n",
    "\n"
   ]
  },
  {
   "cell_type": "markdown",
   "metadata": {},
   "source": [
    "## Leggere la documentazione\n",
    "\n",
    "La maggior parte dei programmatori quando non sa come fare qualcosa è abituata a cercare una risposta su Google o a porre una domanda su un forum come Stack Overflow. A volte, sui forum, è possibile imbattersi in espressioni colorite come RTFM, ovvero \"Read The Fucking Manual\". Se leggi una risposta di questo tipo, significa che la domanda avrebbe potuto essere risolta leggendo il manuale o la documentazione corrispondente.\n",
    "\n",
    "La lettura della documentazione è pertanto un'abilità essenziale a un programmatore che non vuole sprecare il proprio tempo e quello degli altri, evitando così gli insulti sui forum. Per capire perché è così, consideriamo alcuni punti:\n",
    "\n",
    "- La documentazione ufficiale è la fonte più veritiera e completa.\n",
    "- Contiene informazioni aggiornate per le ultime versioni.\n",
    "- Lo stesso codice può essere scritto in modi diversi, ma la documentazione contiene le migliori pratiche.\n",
    "- Se la risposta a quello che cerchi è contenuta nella documentazione, le risposte che otterrai su un forum non potranno che essere delle mere parafrasi a quello che c'è già scritto nella documentazione.\n",
    "\n",
    "> REGOLA DORO: La prima cosa da cercare su Google è se esiste una documentazione ufficiale. Se c'è, aprila subito e prima di chiedere in giro, guarda lì."
   ]
  },
  {
   "attachments": {},
   "cell_type": "markdown",
   "metadata": {},
   "source": [
    "### Fonte principale: `docs.python.org`\n",
    "\n",
    "Python ha la sua [documentazione ufficiale](https://docs.python.org), completa e aggiornata! Diamo un'occhiata all'intestazione del sito:\n",
    "\n",
    "![doc_site.png](./imgs/docs/doc_site.png)\n",
    "\n",
    "Per impostazione predefinita, viene mostrata l'ultima versione di Python, ma è possibile trovare la documentazione anche per le versioni precedenti. Per comodità, si può anche selezionare un'altra lingua (anche la versione in inglese è sempre la più aggiornata) o usare il campo di ricerca rapida per trovare le informazioni necessarie.\n",
    "\n",
    "Di seguito sono riportate le parti della documentazione importanti per iniziare:\n",
    "\n",
    "- [Tutorial](https://docs.python.org/tutorial): è quello da cui partire per scoprire il mondo Python.\n",
    "- [Language Reference](https://docs.python.org/3/reference/index.html): in questa sezione viene descritta la sintassi e la \"semantica di base\" degli elementi nativi del linguaggio Python.\n",
    "- [Library Reference](https://docs.python.org/library): fornisce informazioni su tutti i moduli dell Standard library. In questa sezione passerete la maggior parte del vostro tempo come programmatori Python.\n",
    "- [Python Setup and Usage](https://docs.python.org/using): contiene suggerimenti su come installare e configurare l'ambiente Python su diverse piattaforme.\n",
    "- [Python HOWTOs](https://docs.python.org/howto): sono varie guide su argomenti specifici.\n",
    "- [FAQs](https://docs.python.org/faq): risposte alle domande più comuni, suddivide per argomenti.\n",
    "\n",
    "È anche possibile scaricare la documentazione in un formato comodo per voi nella pagina di [download](https://docs.python.org/download).\n",
    "\n",
    "È vero, la documentazione contiene molte informazioni. Ma sono testi che vanno consultati solo quando ne abbiamo necessità. on dobbiamo leggerlo tutto in una volta! L'importante è imparare a saper trovare le risposte alle nostre in modo autonomo ed evitare di fare domande inutili sui forum.\n",
    "\n",
    "> INFO: Nella documentazione, soprattutto nella sezione [Language Reference](https://docs.python.org/3/reference/index.html), che contiene le specifiche tecniche del linguaggio, è facile imbattersi in notazioni tecniche che usano una metasintassi detta [Backus-Naur Form](https://it.wikipedia.org/wiki/Backus-Naur_Form), in particolare la sua forma estesa detta [EBNF](https://it.wikipedia.org/wiki/EBNF) ed espressioni in una grammatica formale detta [*parsing expression grammar* o PEG](https://en.wikipedia.org/wiki/Parsing_expression_grammar). Non spaventatevi, queste sono informazioni tecniche rivolte soprattutto agli ingegneri informatici."
   ]
  },
  {
   "cell_type": "markdown",
   "metadata": {},
   "source": [
    "### Come leggere la documentazione\n",
    "\n",
    "Il modo migliore per imparare qualcosa è provarlo in pratica, quindi facciamo riferimento alla [documentazione del modulo `math`](https://docs.python.org/3/library/math.html) come esempio. Vi suggeriamo di aprirla e di darle un'occhiata da soli. Di seguito descriviamo ciò che vi si può trovare.\n",
    "\n",
    "Innanzitutto, la documentazione ci dice a cosa serve un determinato modulo:\n",
    "\n",
    "> ```\n",
    ">    Questo modulo fornisce l'accesso alle funzioni matematiche definite dallo standard C.\n",
    ">    This module provides access to the mathematical functions defined by the C standard.\n",
    "> ```\n",
    "\n",
    "Inoltre, ci informa sulle varie limitazioni:\n",
    "\n",
    "> ```\n",
    ">    Queste funzioni non possono essere utilizzate con i numeri complessi...\n",
    ">    These functions cannot be used with complex numbers...\n",
    "> ```\n",
    "\n",
    "Per ogni funzione di questo modulo, è possibile trovare una descrizione di ciò che fa e del valore che restituisce come risultato. Consideriamo la funzione [`math.fabs(x)`](https://docs.python.org/3/library/math.html#math.fabs):\n",
    "\n",
    "![function.png](./imgs/docs/function.png)\n",
    "\n",
    "Inoltre, la documentazione indica quali errori si possono incontrare quando si chiama la funzione con argomenti non validi.\n",
    "\n",
    "Inoltre, spesso ci sono alcune sezioni che sono specifiche del modulo stesso. In `math`, per esempio, \"[Constants](https://docs.python.org/3/library/math.html#constants)\" è una sezione di questo tipo e contiene un elenco di tutti i valori costanti definiti nel modulo, come quello riportato di seguito:\n",
    "\n",
    "![constant.png](./imgs/docs/constant.png)\n",
    "\n",
    "Infine, nella sezione \"**See also**\", alla fine, si possono trovare informazioni alternative e aggiuntive:\n",
    "\n",
    "![see_also.png](./imgs/docs/see_also.png)\n",
    "\n",
    "> SUGGERIMENTO: Se avete bisogno di trovare rapidamente informazioni su un modulo specifico, su una funzione e così via, utilizzate la ricerca a tutto testo nella pagina del browser (`Ctrl + F`, o `⌘ + F` su macOS)."
   ]
  },
  {
   "cell_type": "markdown",
   "metadata": {},
   "source": [
    "### Documentazione sulle librerie di terze parti\n",
    "\n",
    "Oltre alla Libreria standard fornita con l'installazione predefinita di Python, esistono anche librerie di terze parti (*third-party*). Sono sviluppate da programmatori di terze parti (da qui il nome) e servono a uno scopo specifico. Pertanto, un'altra fonte di informazioni che si incontra spesso è la documentazione di queste librerie estere.\n",
    "\n",
    "Consideriamo la documentazione di una di queste librerie: [Colorama](https://pypi.org/project/colorama/), che *\"fa funzionare in MS Windows le sequenze di caratteri di escape ANSI (per la produzione di testo colorato per terminali e il posizionamento del cursore)*\". Come possiamo vedere, anche qui si inizia con una breve descrizione dello scopo della libreria. Si trovano quindi informazioni su come installare la libreria ed esempi di utilizzo della libreria in varie casistiche che ne illustrano le funzionalità (segui il link e verifica tu stesso).\n",
    "\n",
    "Per abituarsi alla documentazione, possiamo familiarizzare con la sua struttura utilizzando esempi di altre librerie di terze parti: [Matplotlib](https://matplotlib.org/), [SymPy](https://docs.sympy.org/dev/index.html), [PrettyTable](https://pypi.org/project/prettytable/), [BeautifulSoup](https://www.crummy.com/software/BeautifulSoup/). Forse non tutto ti è ancora chiarissimo, ma va bene così! Nella programmazione si devono continuamente affrontare cose nuove. Tuttavia, tutte le documentazioni sono solitamente costituite dalle stesse sezioni: un breve riassunto dello scopo della libreria, le linee guida per l'installazione e un elenco di funzioni con descrizioni ed esempi di utilizzo.\n",
    "\n",
    "> NOTA: La documentazione delle librerie di terze parti non è necessariamente sempre completa e aggiornata. Di solito è scritta dagli stessi sviluppatori, quindi tienine conto.\n",
    "\n"
   ]
  },
  {
   "cell_type": "markdown",
   "metadata": {},
   "source": [
    "### `help()` !\n",
    "\n",
    "In casi in cui è necessaria una rapida risposta o non abbiamo una connessione internet (sì, può ancora succedere!!) possiamo comportarci come un hacker che si rispetti e utilizzare il sistema di aiuto incorporato a cui Python stesso ci dà accesso. In questo modo possiamo ottenere un aiuto rapido su un certo oggetto, un po' come con il comando `man` di Unix. Per farlo, è necessario chiamare la funzione `help()` e passare un oggetto come argomento. Ad esempio, può essere una funzione:\n"
   ]
  },
  {
   "cell_type": "code",
   "execution_count": 4,
   "metadata": {},
   "outputs": [
    {
     "name": "stdout",
     "output_type": "stream",
     "text": [
      "Help on built-in function len in module builtins:\n",
      "\n",
      "len(obj, /)\n",
      "    Return the number of items in a container.\n",
      "\n"
     ]
    }
   ],
   "source": [
    "help(len)"
   ]
  },
  {
   "cell_type": "markdown",
   "metadata": {},
   "source": [
    "\n",
    "ATTEZIONE: Si noti che in questo caso la funzione è scritta senza parentesi, perché non vogliamo eseguirla, altrimenti `help` prenderebbe come argomento il risultato restituito da `len`!\n",
    "\n",
    "Ora cerchiamo di ottenere una breve documentazione sulla funzione `sqrt()` dal modulo `math`:"
   ]
  },
  {
   "cell_type": "code",
   "execution_count": 5,
   "metadata": {},
   "outputs": [
    {
     "ename": "NameError",
     "evalue": "name 'math' is not defined",
     "output_type": "error",
     "traceback": [
      "\u001b[0;31m---------------------------------------------------------------------------\u001b[0m",
      "\u001b[0;31mNameError\u001b[0m                                 Traceback (most recent call last)",
      "Cell \u001b[0;32mIn[5], line 3\u001b[0m\n\u001b[1;32m      1\u001b[0m \u001b[38;5;66;03m# qualcosa andrà storto:\u001b[39;00m\n\u001b[0;32m----> 3\u001b[0m help(\u001b[43mmath\u001b[49m\u001b[38;5;241m.\u001b[39msqrt)\n",
      "\u001b[0;31mNameError\u001b[0m: name 'math' is not defined"
     ]
    }
   ],
   "source": [
    "# qualcosa andrà storto:\n",
    "\n",
    "help(math.sqrt)"
   ]
  },
  {
   "cell_type": "markdown",
   "metadata": {},
   "source": [
    "Il problema è che bisogna importare prima il modulo:"
   ]
  },
  {
   "cell_type": "code",
   "execution_count": null,
   "metadata": {},
   "outputs": [],
   "source": [
    "import math\n",
    "\n",
    "help(math.sqrt)"
   ]
  },
  {
   "cell_type": "markdown",
   "metadata": {},
   "source": [
    "In alternativa possiamo passare il nome dell'oggetto tra virgolette:"
   ]
  },
  {
   "cell_type": "code",
   "execution_count": null,
   "metadata": {},
   "outputs": [],
   "source": [
    "help('math.sqrt')"
   ]
  },
  {
   "cell_type": "markdown",
   "metadata": {},
   "source": [
    "\n",
    "In definitiva, si tratta di un metodo comodo per ottenere rapiidamente brevi informazioni sull'uso di un oggetto senza doverne cercare la documentazione su Internet."
   ]
  },
  {
   "cell_type": "markdown",
   "metadata": {},
   "source": [
    "### Riassumendo\n",
    "\n",
    "Ricordate che sola la lettura della documentazione, anche tutta dall'inizio alla fine, non vi trasformerà in un buon programmatore. La cosa più importante è la pratica, e la pratica rende perfetti. La documentazione è solo uno strumento molto importante e bisgona saperla usare.\n",
    "\n",
    "In questo corso cercheremo di rispondere a tutte le domande che man mano si porranno, ma ti incoraggio comuque a cercare informazioni aggiuntive al di fuori di questi documenti se ne vuoi saperne di più. La documentazione è proprio il primo aiuto in questo senso."
   ]
  },
  {
   "cell_type": "markdown",
   "metadata": {},
   "source": [
    "## Python virtual evironment\n",
    "\n",
    "Se passate molto tempo a programmare, è probabile che dobbiate lavorare sovente con diverse versioni di Python e dei suoi pacchetti. La maggior parte dei pacchetti viene aggiornata regolarmente e ci sono dunque molte versioni, vecchie e nuove. Questo è un problema se lavorate su più progetti che hanno tra le loro dipendenze pacchetti aventi versioni diverse, perché non potete avere due versioni di un pacchetto allo stesso tempo. Un altro problema si presenta quando si vuole distribuire il codice su un'altra macchina. Come potete assicurarvi che il programma funzioni come previsto, esattamente come sulla macchina in cui l'avete sviluppato? La soluzione è creare un ambiente virtuale (***virtual environment***). Con il suo ausilio, è possibile gestire diverse versioni di pacchetti e moduli, esportarne la configurazione e ricreare l'ambiente su un'altra macchia. Oppure creare un ambiente di test per provare dei pacchetti prima di inserirli nel tuo progetto.\n",
    "\n",
    "In parole povere:\n",
    "- Un virtual environment è una directory che contiene dei pacchetti da usarsi con una specifica versione di Python.\n",
    "- È possibile creare un virtual environment separato ogni volta che un progetto richiede un pacchetto che entra in conflitto con quello che si usa abitualmente."
   ]
  },
  {
   "cell_type": "markdown",
   "metadata": {},
   "source": [
    "### Creare un virtual environment\n",
    "\n",
    "In questo argomento faremo riferimento a uno strumento della Libreria standard di Python. Si tratta di **[`venv`](https://docs.python.org/3/library/venv.html)**. È possibile interagire con esso attraverso il prompt dei comandi/terminale. Per creare un virtual environment, si può digitare quanto segue.\n",
    "\n",
    "Su Windows:\n",
    "\n",
    "```bash\n",
    "    python -m venv nuovo_progetto\n",
    "```\n",
    "\n",
    "Oppure su Linux o macOS:\n",
    "\n",
    "```bash\n",
    "    python3 -m venv nuovo_progetto\n",
    "```\n",
    "\n",
    "Il comando `python` o `python3` (o anche `python3.9`) definisce la versione di Python che si desidera utilizzare. Il flag `-m` indica il nome del modulo.\n",
    "\n",
    "Così facendo, nella nostra posizione corrente, è stata creata la directory `nuovo_progetto` che contiene tutto quello che serve al virtual environment. Per comodità, cambiamo la nostra directory corrente entrando in quella appena creata:\n",
    "\n",
    "```bash\n",
    "    cd new_project\n",
    "```\n",
    "\n",
    "Per iniziare a lavorare con il nostro virtual environment dobbiamo infine attivarlo.\n",
    "\n",
    "Su Windows, è possibile eseguire:\n",
    "\n",
    "```powershell\n",
    "    Scripts\\activate.bat\n",
    "```\n",
    "\n",
    "Su Linux o macOS:\n",
    "\n",
    "```bash\n",
    "    source bin/activate\n",
    "```\n",
    "\n",
    "Dopodiché si apparirà il nome del virtual environment come prefisso del prompt della shell.\n",
    "\n",
    "Su Windows:\n",
    "\n",
    "```powershell\n",
    "    (nuovo_progetto) C:\\Users\\Mario\\Desktop\\nuovo_progetto>\n",
    "```\n",
    "\n",
    "Su Linux o macOS:\n",
    "\n",
    "```bash\n",
    "    (nuovo_progetto) mario@ubuntu:~/nuovo_progetto$ \n",
    "```\n",
    "\n",
    "Una volta che avete finito con il virtual environment, disattivatelo:\n",
    "\n",
    "```powershell\n",
    "    (nuovo_progetto) C:\\Users\\Mario\\Desktop\\nuovo_progetto> deactivate\n",
    "    C:\\Users\\Mario\\Desktop\\nuovo_progetto>\n",
    "```\n",
    "\n",
    "```bash\n",
    "    (nuovo_progetto) mario@ubuntu:~/nuovo_progetto$ deactivate\n",
    "    mario@ubuntu:~/nuovo_progetto$\n",
    "```\n",
    "\n",
    "Una volta creato un environment, questo viene memorizzato sulla macchina ed è possibile attivarlo e disattivarlo in qualsiasi momento.\n",
    "\n",
    "Se non si ha bisogno di un certo environment, puoi eliminare semplicemente la directory.\n",
    "\n",
    "Ad esempio, per Linux o macOS eseguire:\n",
    "\n",
    "```bash\n",
    "    rm -r new_project\n",
    "```\n",
    "\n",
    "Per Windows:\n",
    "\n",
    "```powershell\n",
    "    rmdir nuovo_progetto\n",
    "```\n",
    "\n",
    "ATTENZIONE: Prima di eliminare una directory, disattivare l'environment!"
   ]
  },
  {
   "cell_type": "markdown",
   "metadata": {},
   "source": [
    "### Gestire virtual environment con Visual Studio Code\n",
    "\n",
    "https://code.visualstudio.com/docs/python/environments"
   ]
  },
  {
   "cell_type": "markdown",
   "metadata": {},
   "source": [
    "### Altri progetti e librerie\n",
    "\n",
    "Come abbiamo già detto, `venv` fa parte della libreria standard di Python, ma esistono diversi pacchetti esterni che hanno la medesima funzione. Ognuno di essi ha le proprie peculiarità e tool aggiuntivi. I principali e più interessanti sono:\n",
    "\n",
    "- [`virtualenv`](https://pypi.org/project/virtualenv/) è probabilmente la libreria esterna più popolare per lavorare con i virtual environment. Il modulo `venv` della Libreria standard è stato creato proprio da un suo sottopacchetto. Tuttavia `venv` ha ancora qualche problema, come le prestazioni più lente, l'aggiornabilità, l'impossibilità di creare ambienti separati per versioni Python arbitrarie e altri ancora. `virtualenv` è invece un po' più completo e prestante.\n",
    "- [`pyenv`](https://github.com/pyenv/pyenv) è un'altra libreria esterna per la gestione dei virtual environment Rende più facile lavorare con molte versioni diverse di Python ed è ideale per effettuare dei test tra versioni differenti.\n",
    "\n",
    "- [`virtualenvwrapper`](https://pypi.org/project/virtualenvwrapper/) è un modulo che mira a semplificare ulteriormente `virtualenv`.\n",
    "\n",
    "Per la gestione dei virtual environment e dei pacchetti in una sola soluzione:\n",
    "- [`pipenv`](https://pipenv.pypa.io/en/latest/) è un progetto che mira a facilitare la distribuzione di applicazioni in modo da garantire la consistenza e la sicurezza delle dipendenze.\n",
    "- [`poetry`](https://python-poetry.org/) è un progetto con obiettivi simili a `pipenv`."
   ]
  },
  {
   "cell_type": "markdown",
   "metadata": {},
   "source": [
    "### Riassumendo\n",
    "\n",
    "In questo capitolo abbiamo imparato cos'è un virtual environment e come lavorare con esso usando il modulo `venv` della Libreria standard di Python. Abbiamo anche accennato ad altre opzioni che possono aiutare a gestire gli ambienti virtuali.\n",
    "\n",
    "Ora vediamo come come creare, attivare, gestire, disattivare o rimuovere i pacchetti nell'environment."
   ]
  },
  {
   "cell_type": "markdown",
   "metadata": {},
   "source": [
    "## Gestore dei pacchetti: `pip`\n",
    "\n",
    "Un elemento affascinante di Python è che ha una comunità di contributori enorme e diversificata. In sostanza, ciò significa un libero accesso a un'ampia gamma di soluzioni per una vasta gamma di problemi. Questo fatto si rivela utile soprattutto quando si lavora ai propri progetti. È molto probabile che possiate trovare un pacchetto specifico per quel che dovete fare e che possiate usarlo in modo efficace per soddisfare le vostre esigenze. Ora impareremo a conoscere gli strumenti standard per la gestione dei pacchetti in Python.\n",
    "\n",
    "A questo punto avrete probabilmente familiarizzato con la Libreria standard di Python. Essa contiene molti moduli integrati utili e dovrebbe essere preinstallata nella vostra distribuzione di Python. In realtà, un'altra cosa che è preinstallata (a partire da Python 3.4) è il gestore di pacchetti standard chiamato [`pip`](https://pip.pypa.io/en/stable/) (acronimo ricorsivo \"Pip Installs Packages\").\n",
    "\n",
    "`pip` è stato progettato sia per estendere le funzionalità della Libreria standard installando i pacchetti aggiuntivi sul vostro computer, sia per aiutarvi a condividere i vostri progetti e quindi a contribuire allo sviluppo di Python.\n",
    "\n",
    "> ATTENZIONE: Prima di usare `pip`, assicurati di aver attivato uno specifico *virtual environment*, in modo da non alterare i pacchetti \"di sistema\". Soprattutto quando fai degli esperimenti, come ora."
   ]
  },
  {
   "cell_type": "markdown",
   "metadata": {},
   "source": [
    "### I principali comandi di `pip`\n",
    "\n",
    "Ora assicuriamoci di aver installato `pip`. Tutto ciò che dovete fare è aprire un prompt dei comandi/terminale ed eseguire il seguente comando.\n",
    "\n",
    "> NOTA: in tuti i seguenti comandi dovete usare `pip3` e `python3` se state usado Linux o macOS.\n",
    "\n",
    "```bash\n",
    "    pip --version\n",
    "```\n",
    "\n",
    "Oppure chiamandolo come modulo di Python:\n",
    "\n",
    "```bash\n",
    "    python -m pip --version\n",
    "```\n",
    "\n",
    "Il risultato dovrebbe mostrare la versione attuale di `pip` Ad esempio:\n",
    "\n",
    "```\n",
    "    pip 22.0.2 from c:\\users\\user\\python\\python37\\lib\\site-packages\\pip (python 3.7)\n",
    "```\n",
    "\n",
    "> NOTA: Nel caso in cui `pip` non sia installato (o vogliate aggiornarlo), seguite le [istruzioni di installazione](https://pip.pypa.io/en/stable/installation/) specifiche per il vostro sistema operativo.\n",
    "\n",
    "Poiché pip è il programma di installazione raccomandato per Python, il comando più ovvio e importante per iniziare è `install`. Date un'occhiata alla riga seguente:\n",
    "\n",
    "```bash\n",
    "    pip install un_certo_pacchetto\n",
    "```\n",
    "\n",
    "L'installazione è davvero semplice. Tuttavia, se siete interessati a una versione specifica del pacchetto, dovete indicarla dopo il nome del pacchetto con questa sintassi:\n",
    "\n",
    "```bash\n",
    "    pip install un_certo_pacchetto==1.1.2\n",
    "```\n",
    "\n",
    "Oppure possiamo stabilire una versione minima (o massima) adatta utilizzando gli operatori di confronto `>`, `>=`, `<` o `<=` in alternativa a `==`:\n",
    "\n",
    "```bash\n",
    "    pip install \"un_certo_pacchetto>=1.1.2\".\n",
    "```\n",
    "\n",
    "Come puoi notare, in ques'ultima espressione sono state usate le virgolette per racchiudere il nome del pacchetto, l'operatore di confronto e il numero di versione. Le virgolette sono necessarie altrimenti l'operatore di confronto verrebbe interpretato in modo errato.\n",
    "\n",
    "Un'altro comanndo utile è `show`. Mostra informazioni sui pacchetti installati, ad esempio la loro versione, l'autore, la licenza, la posizione o i loro requisiti. Ecco un esempio generale:\n",
    "\n",
    "```bash\n",
    "    pip show un_certo_pacchetto\n",
    "```\n",
    "\n",
    "Anche il comando `list` può essere utile. Elenca tutti i pacchetti installati sul computer in ordine alfabetico:\n",
    "\n",
    "```bash\n",
    "    pip list\n",
    "```\n",
    "\n",
    "Se eseguite il comando `list` con l'opzione `--outdated`, o semplicemente `-o`, otterrete l'elenco dei pacchetti obsoleti con le rispettive versioni correnti e più recenti.\n",
    "\n",
    "```bash\n",
    "    pip list --outdated\n",
    "```\n",
    "\n",
    "o con l'abbreviazione':\n",
    "\n",
    "```bash\n",
    "    pip list -o\n",
    "```\n",
    "\n",
    "Dopo aver eseguito uno dei due comandi sopra indicati, si otterrà un output simile a questo:\n",
    "\n",
    "```\n",
    "    un_certo_pacchetto ( Current: 2.1.1 Latest: 3.0.1)\n",
    "    un_altro_pacchetto ( Current: 4.2.1 Latest: 4.2.2)\n",
    "```\n",
    "\n",
    "Avendo individuato i pacchetti obsoleti, si potrebbe volerli aggiornare alla versione più recente disponibile. Il comando `install` con l'opzione `--upgrade` consente di fare ciò:\n",
    "\n",
    "```bash\n",
    "    pip install --upgrade un_certo_pacchetto\n",
    "```\n",
    "\n",
    "Per rimuovere invece un pacchetto dal computer, eseguire il comando `uninstall`:\n",
    "\n",
    "```bash\n",
    "    pip uninstall un_certo_pacchetto\n",
    "```\n",
    "\n",
    "Durante lo sviluppo del progetto, può essere vantaggioso tenere un elenco dei pacchetti da installare, ossia delle dipendenze, in un file speciale detto *file dei `requirements`* (vedere il [Requirement File Format](https://pip.pypa.io/en/stable/reference/requirements-file-format/)). È molto comodo perché si possono installare tutti i pacchetti necessari in una sola volta, dicendo a `pip` di leggere da questo file:\n",
    "\n",
    "```bash\n",
    "    pip install -r requirements.txt\n",
    "```\n",
    "\n",
    "Naturalmente, non è necessario compilare da soli questo file che elenca tutti i pacchetti necessari. È sufficiente eseguire il comando `freeze` per generarne uno:\n",
    "\n",
    "```bash\n",
    "    pip freeze > requirements.txt\n",
    "```\n",
    "\n",
    "Esaminiamo la riga precedente in dettaglio. `freeze` è un comando usato per ottenere la lista di tutti i pacchetti installati nel formato requirements. Quindi tutti i pacchetti installati prima dell'esecuzione del comando e presumibilmente utilizzati in qualche progetto vengono scritti nel file \"`requirements.txt`\". Inoltre, saranno specificate le loro versioni esatte (vedere [Requirement Specifiers](https://pip.pypa.io/en/stable/reference/requirement-specifiers/)).\n",
    "\n",
    "Vediamo un esempio di output del comando `freeze`:\n",
    "\n",
    "```\n",
    "    beautifulsoup4==4.7.1\n",
    "    nltk==3.4.1\n",
    "    numpy==1.16.3\n",
    "    scikit-learn==0.21.1\n",
    "    scipy==1.3.0\n",
    "```\n",
    "\n",
    "Fate attenzione al fatto che `freeze` elenca effettivamente **tutte** le librerie installate, cosa non sempre necessaria e che talvolta potrebbe essere considerata una cattiva pratica. Per questo motivo si consiglia di adottare un approccio più consapevole: verifica sempre il file dei requirements generato ed eventualmente modificalo manualmente.\n",
    "\n",
    "\n",
    "\n"
   ]
  },
  {
   "cell_type": "markdown",
   "metadata": {},
   "source": [
    "### Ricapitoliamo, con alcuni esempi\n",
    "\n",
    "- potete installare, aggiornare e rimuovere i pacchetti rispettivamente con `pip install`, `pip install --upgrade` e `pip uninstall`:\n",
    "\n",
    "![upgrade.png](./imgs/pip/upgrade.png)\n",
    "\n",
    "- `pip install un_certo_pacchetto==versione_pacchetto` specifica una particolare versione di un pacchetto:\n",
    "\n",
    "![install.png](./imgs/pip/install.png)\n",
    "\n",
    "- `pip show un_certo_pacchetto` mostra le informazioni dettagliate su un pacchetto, tra cui la versione, il sommario, l'autore, la posizione e così via:\n",
    "\n",
    "![show.png](./imgs/pip/show.png)\n",
    "\n",
    "- `pip list` visualizza i pacchetti installati:\n",
    "\n",
    "![list.png](./imgs/pip/list.png)\n",
    "\n",
    "- `pip freeze` visualizza i pacchetti installati nel formato `requirements`. Per creare un file `requirements.txt`, digitate `pip freeze > requirements.txt`:\n",
    "\n",
    "![freeze.png](./imgs/pip/freeze.png)"
   ]
  },
  {
   "cell_type": "markdown",
   "metadata": {},
   "source": [
    "### Riassumendo\n",
    "\n",
    "Abbiamo imparato le basi per gestire i pacchetti tramite `pip`:\n",
    "\n",
    "- come installare i pacchetti (sia una versione specifica sia una non specifica),\n",
    "- come creare un file di requirements e usarlo per l'installazione,\n",
    "- come ottenere informazioni sui pacchetti installati,\n",
    "- come disinstallare i pacchetti.\n",
    "\n",
    "Per ulteriori dettagli, potete consultare la [documentazione](https://pip.pypa.io/en/stable/) o eseguire il comando `help` o `man` a seconda che usiate rispettivamente Windows o Linux/macOS."
   ]
  },
  {
   "cell_type": "markdown",
   "metadata": {},
   "source": [
    "## Curiosità\n",
    "\n",
    "Python sul web:\n",
    "\n",
    "- [Brython](https://brython.info/)\n",
    "- Python [WebAssembly implementations](https://docs.python.org/3/library/intro.html#webassembly-platforms)\n",
    "- [Mercury framework](https://runmercury.com/)"
   ]
  }
 ],
 "metadata": {
  "kernelspec": {
   "display_name": "Python 3 (ipykernel)",
   "language": "python",
   "name": "python3"
  },
  "language_info": {
   "codemirror_mode": {
    "name": "ipython",
    "version": 3
   },
   "file_extension": ".py",
   "mimetype": "text/x-python",
   "name": "python",
   "nbconvert_exporter": "python",
   "pygments_lexer": "ipython3",
   "version": "3.11.2"
  },
  "vscode": {
   "interpreter": {
    "hash": "e6f25737dda967aa6ad8da4764c832ec57727c0329acf0be14f62a51d35ee438"
   }
  }
 },
 "nbformat": 4,
 "nbformat_minor": 4
}
