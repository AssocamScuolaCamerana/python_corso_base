{
 "cells": [
  {
   "attachments": {},
   "cell_type": "markdown",
   "metadata": {},
   "source": [
    "### Esercizio - dondolo\n",
    "\n",
    "Requisiti: stringhe, dizionari, if, cicli\n",
    "\n",
    "Scrivi del codice che data una lista di parole costituite solo dalla stessa lettera, crea un dizionario `freq` che associa a ciascuna lettera il numero di occorrenze di quella lettera trovate **in tutta la lista**\n",
    "\n",
    "Esempio - data:\n",
    "\n",
    "```python\n",
    "parole = ['dddd', 'oooo', 'nnn', 'dddd', 'o', 'lllllll', 'oo']\n",
    "```\n",
    "\n",
    "\n",
    "deve risultare:\n",
    "\n",
    "```python\n",
    ">>> print(freq)\n",
    "{'d': 8, 'o': 7, 'n': 3, 'l': 7}\n",
    "```"
   ]
  },
  {
   "cell_type": "code",
   "execution_count": 1,
   "metadata": {},
   "outputs": [
    {
     "name": "stdout",
     "output_type": "stream",
     "text": [
      "{'d': 8, 'o': 7, 'n': 3, 'l': 7}\n"
     ]
    }
   ],
   "source": [
    "parole = ['dddd', 'oooo', 'nnn', 'dddd', 'o', 'lllllll', 'oo']  # {'d': 8, 'o': 7, 'n': 3, 'l': 7}\n",
    "# parole = ['d','ii','nnn','dd','ooo','n']                       # {'d': 3, 'i': 2, 'n': 4, 'o': 3}\n",
    "             \n",
    "# scrivi qui\n",
    "dict_char = {}\n",
    "for word in parole:\n",
    "    for letter in word:\n",
    "        dict_char[letter] = dict_char.get(letter, 0) + 1\n",
    "\n",
    "\n",
    "print(dict_char)"
   ]
  }
 ],
 "metadata": {
  "kernelspec": {
   "display_name": ".venv",
   "language": "python",
   "name": "python3"
  },
  "language_info": {
   "codemirror_mode": {
    "name": "ipython",
    "version": 3
   },
   "file_extension": ".py",
   "mimetype": "text/x-python",
   "name": "python",
   "nbconvert_exporter": "python",
   "pygments_lexer": "ipython3",
   "version": "3.11.3"
  },
  "orig_nbformat": 4
 },
 "nbformat": 4,
 "nbformat_minor": 2
}
