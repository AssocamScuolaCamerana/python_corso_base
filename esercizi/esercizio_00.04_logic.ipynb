{
 "cells": [
  {
   "cell_type": "markdown",
   "metadata": {},
   "source": [
    "# Esercizi introduttivi"
   ]
  },
  {
   "cell_type": "markdown",
   "metadata": {},
   "source": [
    "TEMI TRATTATI:\n",
    "\n",
    "- Elaborazioni e confronti tra variabili con valori di tipo `int`, `float` e `str`.\n",
    "- Espressioni booleane.\n",
    "- Scelte logiche."
   ]
  },
  {
   "cell_type": "markdown",
   "metadata": {},
   "source": [
    "NOTE SULLO SVOLGIMENTO:\n",
    "- Puoi svolgere ed eseguire gli esercizi direttamente qua su questo notebook oppure su un normale file di script Python con estensione `.py`, eseguendolo nel terminale del sistema operativo con il comando `py mio_esercizio.py` (Windows) oppure `python3 mio_esercizio.py` (Linux o macOS)."
   ]
  },
  {
   "cell_type": "markdown",
   "metadata": {},
   "source": [
    "## Esercizio 1: Vero o Falso\n",
    "\n",
    "Per ciascuna delle seguenti coppie di valori, eseguire un test di uguaglianza, assegnare il risultato ad una variabile, e visualizzarlo. Provare a prevedere quale sarà il risultato di ciascuna verifica.\n",
    "\n",
    "```text\n",
    "1, 1\n",
    "\n",
    "1, 1.0\n",
    "\n",
    "2.0, sqrt(4)\n",
    "\n",
    "'1', 1\n",
    "\n",
    "'ciao', 'Ciao'.\n",
    "```"
   ]
  },
  {
   "cell_type": "markdown",
   "metadata": {},
   "source": [
    "ESEMPIO:\n",
    "\n",
    "```python\n",
    "esempio = 'pippo' == 'pippo'\n",
    "print(esempio)\n",
    "# True\n",
    "```"
   ]
  },
  {
   "cell_type": "code",
   "execution_count": 19,
   "metadata": {},
   "outputs": [
    {
     "name": "stdout",
     "output_type": "stream",
     "text": [
      "True\n",
      "True\n",
      "False\n",
      "False\n"
     ]
    }
   ],
   "source": [
    "# Scrivi qua il tuo codice\n",
    "\n",
    "number = 1 == 1\n",
    "\n",
    "print(number)\n",
    "\n",
    "number1 = 1 ==1.0\n",
    "\n",
    "print(number1)\n",
    "\n",
    "number2 = 2.0 == 'sqrt(4)'\n",
    "\n",
    "print(number2)\n",
    "\n",
    "Text = 'ciao' == 'Ciao'\n",
    "\n",
    "print(Text)"
   ]
  },
  {
   "cell_type": "markdown",
   "metadata": {},
   "source": [
    "## Esercizio 2: Identikit della stringa\n",
    "\n",
    "Scrivere un programma che legga una stringa e visualizzi dei messaggi appropriati, dopo aver verificato se:\n",
    "\n",
    "- contiene soltanto lettere;\n",
    "- contiene soltanto lettere maiuscole;\n",
    "- contiene soltanto lettere minuscole;\n",
    "- contiene soltanto cifre numeriche decimali;\n",
    "- contiene soltanto lettere e cifre;\n",
    "- inizia con una lettera maiuscola;\n",
    "- termina con un punto."
   ]
  },
  {
   "cell_type": "code",
   "execution_count": null,
   "metadata": {},
   "outputs": [],
   "source": [
    "# Scrivi qua il tuo codice\n"
   ]
  },
  {
   "cell_type": "markdown",
   "metadata": {},
   "source": [
    "## Esercizio 3: Tracce genetiche\n",
    "\n",
    "Le sequenze di DNA sono come lunghe stringhe composte da solo quattro lettere: `'A'`, `'C'`, `'T'` e `'G'`. Scrivere un programma che prenda in input una \"sequenza lunga\" di DNA di venti caratteri e una \"sequenza breve\" di tre caratteri e visualizzi le seguenti informazioni:\n",
    "\n",
    "1. Se la \"sequenza breve\" è presente all'interno della \"sequenza lunga\".\n",
    "2. Se presente, a partire da quale posizione (indice) della \"sequenza lunga\" è presente la \"sequenza breve\".\n",
    "3. Se presente, quante volte la \"sequenza breve\" è contenuta nella \"sequenza lunga\"."
   ]
  },
  {
   "cell_type": "code",
   "execution_count": null,
   "metadata": {},
   "outputs": [],
   "source": [
    "# Scrivi qua il tuo codice\n"
   ]
  },
  {
   "cell_type": "markdown",
   "metadata": {},
   "source": [
    "## Esercizio 4: Questione di logica\n",
    "\n",
    "Scrivere un programma che prenda in input un numero intero `x` e visualizzi a schermo le seguenti espressioni, accompagnate dai valori di verità risultanti dalla loro valutazione.\n",
    "\n",
    "- `x > 0 and x < 100`\n",
    "- `x > 0 or x < 100`\n",
    "- `x > 0 or 100 < x`\n",
    "- `x > 0 and x < 100 or x == -1`\n",
    "\n",
    "Testare il programma con numerosi valori di x."
   ]
  },
  {
   "cell_type": "markdown",
   "metadata": {},
   "source": [
    "ESEMPIO:\n",
    "\n",
    "Se `x = 200`\n",
    "\n",
    "Output atteso:\n",
    "\n",
    "```text\n",
    "200 > 0 and 200 < 100 : False\n",
    "200 > 0 or 200 < 100 : True\n",
    "200 > 0 or 100 < 200 : True\n",
    "200 > 0 and 200 < 100 or 200 == -1 : False\n",
    "\n",
    "```"
   ]
  },
  {
   "cell_type": "code",
   "execution_count": 25,
   "metadata": {},
   "outputs": [
    {
     "name": "stdout",
     "output_type": "stream",
     "text": [
      "200 > 0 and 200 < 100\n",
      "200 > 0 or 200 < 200\n",
      "200 > 0 or 200 < 100\n",
      "200 > 0 and 200 < 100 or 200 == -1\n"
     ]
    }
   ],
   "source": [
    "# Scrivi qua il tuo codice\n",
    "x = 200\n",
    "\n",
    "print(f'{x} > 0 and {x} < 100')\n",
    "print(f'{x} > 0 or {x} < 200')\n",
    "print(f'{x} > 0 or {x} < 100')\n",
    "print(f'{x} > 0 and {x} < 100 or {x} == -1')"
   ]
  },
  {
   "cell_type": "markdown",
   "metadata": {},
   "source": [
    "## Esercizio 5: De Morgan (+)\n",
    "\n",
    "La legge di De Morgan permette di semplificare l'applicazione dell'operatore `not` ad espressioni che contengono operatori `and` e/o `or`. In particolare, questa legge ha due forme, una per la negazione di espressioni in `and`, e una per la negazione di espressioni in `or`:\n",
    "\n",
    "|               | equivale a\n",
    "--------------- | ------------------|\n",
    "`not (A and B)` | `not A or not B`  |\n",
    "`not (A or B)`  | `not A and not B` |\n",
    "\n",
    "Considerare le espressioni seguenti, e per ciascuna di esse applicare la legge di De Morgan. Provare a descrivere \"a parole\" il significato algebrico intuitivo di ciascuna espressione.\n",
    "\n",
    "Scrivere poi un programma che prenda in input un numero intero `x` e, per ciascuna delle seguenti espressioni (che corrispondono alla negazione delle espressioni dell'Esercizio 4), stampi:\n",
    "\n",
    "1. L'espressione di partenza.\n",
    "2. L'espressione una volta applicata la legge di De Morgan e il valore di verità risultante dalla sua valutazione.\n",
    "\n",
    "- `not(x > 0 and x < 100)`\n",
    "- `not(x > 0 or x < 100)`\n",
    "- `not(x > 0 or 100 < x)`\n",
    "- `not(x > 0 and x< 100 or x == -1)`"
   ]
  },
  {
   "cell_type": "markdown",
   "metadata": {},
   "source": [
    "ESEMPIO:\n",
    "\n",
    "Se `x = 200`\n",
    "\n",
    "Output atteso:\n",
    "\n",
    "```text\n",
    "Originale:\n",
    "200 > 0 and 200 < 100 : False\n",
    "\n",
    "Negato:\n",
    "# not (200 > 0 and 200 < 100) : False\n",
    "# not (200 > 0) or not (200 < 100) : True\n",
    "200 <= 0 or 200 >= 100 : True\n",
    "...\n",
    "```"
   ]
  },
  {
   "cell_type": "code",
   "execution_count": 4,
   "metadata": {},
   "outputs": [
    {
     "data": {
      "text/plain": [
       "True"
      ]
     },
     "execution_count": 4,
     "metadata": {},
     "output_type": "execute_result"
    }
   ],
   "source": [
    "# Scrivi qua il tuo codice\n",
    "\n",
    "not (200 > 0) or not (200 < 100)"
   ]
  }
 ],
 "metadata": {
  "kernelspec": {
   "display_name": ".venv",
   "language": "python",
   "name": "python3"
  },
  "language_info": {
   "codemirror_mode": {
    "name": "ipython",
    "version": 3
   },
   "file_extension": ".py",
   "mimetype": "text/x-python",
   "name": "python",
   "nbconvert_exporter": "python",
   "pygments_lexer": "ipython3",
   "version": "3.10.13"
  }
 },
 "nbformat": 4,
 "nbformat_minor": 2
}
