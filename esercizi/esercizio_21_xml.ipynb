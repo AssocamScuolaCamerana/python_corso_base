{
 "cells": [
  {
   "attachments": {},
   "cell_type": "markdown",
   "metadata": {},
   "source": [
    "# Esercizio: Trova la password"
   ]
  },
  {
   "attachments": {},
   "cell_type": "markdown",
   "metadata": {},
   "source": [
    "Immagina di essere un sistemista maldestro che non ricorda più la password per accedere a un sistema, ma sei sicuro di averla salvata in chiaro in un file `.xml`, da qualche parte nella cartella `/files_esercizi/esempi/` del nostro repository. \n",
    "\n",
    "Si tratta di un documento XML che contiene varie informazioni sull'utente, forse il login o l'e-mail, non ricordi, ma sicuramente contiene la password.\n",
    "\n",
    "Purtroppo non sai qual è il file. Hai molti file, e alcuni di essi sono anche molto lunghi, quindi aprirli uno per uno per fare una ricerca a tutto testo con un editor di testo è impensabile. Soprattutto, hai cose più urgenti da fare e il tempo è denaro! Quindi decidi di scrivere un breve script in Python che cerchi la password al posto tuo.\n",
    "\n",
    "Ricordi che tutte le informazioni sull'utente erano memorizzate in attributi XML e sei certo che la password sia memorizzata in un attributo chiamato proprio... `password`. Che fantasia!\n",
    "\n",
    "Hai appena letto che il modulo `lxml` è perfetto per processare molti file XML, anche di grandi dimensioni, quindi decidi di installarlo con `pip` (nel tuo virtual environment, ovviamente!;).\n",
    "\n",
    "Decidi di procedere per gradi di difficoltà dato che non hai mai usato la libreria `lxml`."
   ]
  },
  {
   "attachments": {},
   "cell_type": "markdown",
   "metadata": {},
   "source": [
    "### Per cominciare...\n",
    "\n",
    "Crei due file di prova `prova_pwd_facile.xml` e `prova_pwd_difficile.xml` e li metti nella cartella `/files_esercizi/esempi/` del nostro repo. I file a questo punto esistono già e hanno seguente aspetto:\n"
   ]
  },
  {
   "attachments": {},
   "cell_type": "markdown",
   "metadata": {},
   "source": [
    "Esempio file `prova_pwd_facile.xml`:\n",
    "\n",
    "```xml\n",
    "<profile><account login=\"login\" password=\"secret\"/></profile>\n",
    "```\n",
    "\n",
    "Output attesto:\n",
    "\n",
    "<pre>\n",
    "secret\n",
    "</pre>"
   ]
  },
  {
   "attachments": {},
   "cell_type": "markdown",
   "metadata": {},
   "source": [
    "Esempio file `prova_pwd_difficile.xml`:\n",
    "\n",
    "```xml\n",
    "<result>\n",
    "  <webpage link=\"lxml.de\"></webpage>\n",
    "  <users>\n",
    "    <!-- Commento a tradimento: la password=\"è questa\" -->\n",
    "    <user id=\"239\" password=\"qwerty\"><info email=\"a@a.a\"/></user>\n",
    "  </users>\n",
    "</result>\n",
    "```\n",
    "\n",
    "Output atteso:\n",
    "\n",
    "<pre>\n",
    "qwerty\n",
    "</pre>\n"
   ]
  },
  {
   "attachments": {},
   "cell_type": "markdown",
   "metadata": {},
   "source": [
    "### Cosa devo fare?\n",
    "\n",
    "In pratica devi navigare attraverso l'albero del documento XML utilizzando la libreria `lxml`, trovare un attributo chiamato `password`, leggerne il valore (la password vera e propria) e restituirlo in qualche modo."
   ]
  },
  {
   "attachments": {},
   "cell_type": "markdown",
   "metadata": {},
   "source": [
    "### STEP 1: Versione semplificata con `prova_pwd_facile.xml`\n",
    "\n",
    "Dato che a un'attenta analisi il problema si rivela essere un po' più complesso di quanto potrebbe apparire a prima vista, decidi intanto di partire con un algoritmo che trova la password tra gli attributi di uno dei \"figli diretti\" della root. Se la password non viene trovata, restituisci `None`.\n",
    "\n",
    "Guardiamo il file:\n",
    "\n",
    "```xml\n",
    "<profile><account login=\"login\" password=\"secret\"/></profile>\n",
    "```\n",
    "\n",
    "In questo caso il tag `<account>`, che contiene la password, è un \"figlio diretto\" della root `<profile>`.\n",
    "\n",
    "> NOTA: Quindi, per intendersi, processando invece il file `prova_pwd_difficile.xml`, in questa prima fase, anche `None` è una risposta valida."
   ]
  },
  {
   "attachments": {},
   "cell_type": "markdown",
   "metadata": {},
   "source": [
    "Inizia provando a scrivere del codice che estrae la password dal file `prova_pwd_facile.xml`."
   ]
  },
  {
   "cell_type": "code",
   "execution_count": null,
   "metadata": {},
   "outputs": [],
   "source": [
    "# scrivi qui\n",
    "\n",
    "with open('../files_esercizi/esempi/prova_pwd_facile.xml', 'r', encoding='utf-8') as file_in:\n",
    "    ..."
   ]
  },
  {
   "attachments": {},
   "cell_type": "markdown",
   "metadata": {},
   "source": [
    "Prova a fare anche la prova con `prova_pwd_difficile.xml`, dovresti ottenere `None`."
   ]
  },
  {
   "cell_type": "code",
   "execution_count": null,
   "metadata": {},
   "outputs": [],
   "source": [
    "# scrivi qui\n",
    "\n",
    "with open('../files_esercizi/esempi/prova_pwd_difficile.xml', 'r', encoding='utf-8') as file_in:\n",
    "    ..."
   ]
  },
  {
   "attachments": {},
   "cell_type": "markdown",
   "metadata": {},
   "source": [
    "### STEP 2: Metti l'algoritmo in una funzione"
   ]
  },
  {
   "attachments": {},
   "cell_type": "markdown",
   "metadata": {},
   "source": [
    "Dato che dovrai eseguire questo codice per ciascun file XML presente nella cartella in cui vuoi effettuare la ricerca, hai pensato che è il momento di  implementare una funzione `find_password(root)`. \n",
    "\n",
    "Questa funzione dovrebbe avere un solo parametro, che accetta un oggetto `etree.Element` in questo caso lo chiami `root` perché intendi passare l'elemento root alla funzione."
   ]
  },
  {
   "cell_type": "code",
   "execution_count": null,
   "metadata": {},
   "outputs": [],
   "source": [
    "# scrivi qui\n",
    "\n",
    "def find_password(root):\n",
    "    ...\n",
    "    "
   ]
  },
  {
   "attachments": {},
   "cell_type": "markdown",
   "metadata": {},
   "source": [
    "### STEP 3: Navigare in tutti i rami, ricorsivamente\n",
    "\n",
    "Ora sei pronto per migliorare l'algoritmo e provare a cercare in qualunque elemento della struttura XML."
   ]
  },
  {
   "cell_type": "code",
   "execution_count": null,
   "metadata": {},
   "outputs": [],
   "source": [
    "# scrivi qui"
   ]
  }
 ],
 "metadata": {
  "language_info": {
   "name": "python"
  },
  "orig_nbformat": 4
 },
 "nbformat": 4,
 "nbformat_minor": 2
}
