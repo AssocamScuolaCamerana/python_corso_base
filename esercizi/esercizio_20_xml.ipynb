{
 "cells": [
  {
   "attachments": {},
   "cell_type": "markdown",
   "metadata": {},
   "source": [
    "# Esercizio: Attribute in the root\n",
    "\n",
    "Viene fornito un documento XML sotto forma di stringa (`xml_str`) e il nome di un attributo (`attr_str`, anch'esso una stringa) che si dovrebbe trovare nell'elemento radice dell'XML.\n",
    "\n",
    "Scrivi un algoritmo che stampa il valore dell'attributo dato se l'elemento radice contiene questo attributo. In caso contrario, deve stampare `None`."
   ]
  },
  {
   "attachments": {},
   "cell_type": "markdown",
   "metadata": {},
   "source": [
    "Input 1:\n",
    "\n",
    "```xml\n",
    "<a href=\"https://lxml.de/\"><i>hello</i><c/></a>\n",
    "```\n",
    "\n",
    "- Cerca: `'href'`\n",
    "- Output atteso: `https://lxml.de/`"
   ]
  },
  {
   "attachments": {},
   "cell_type": "markdown",
   "metadata": {},
   "source": [
    "Input 2:\n",
    "\n",
    "```xml\n",
    "<sound attr=\"123\"><b>hello</b><audio volume=\"3\"/></sound>\n",
    "```\n",
    "\n",
    "- Cerca: `'attr'`\n",
    "- Output atteso: `123`"
   ]
  },
  {
   "attachments": {},
   "cell_type": "markdown",
   "metadata": {},
   "source": [
    "Input 3:\n",
    "\n",
    "```xml\n",
    "<root a1=\"aba\" a2=\"caba\"/>\n",
    "```\n",
    "\n",
    "- Cerca: `'a3'`\n",
    "- Output atteso: `None`"
   ]
  },
  {
   "cell_type": "code",
   "execution_count": 5,
   "metadata": {},
   "outputs": [],
   "source": [
    "from lxml import etree\n",
    "\n",
    "input1 = ('<a href=\"https://lxml.de/\"><i>hello</i><c/></a>', 'href')  # https://lxml.de/\n",
    "input2 = ('<sound attr=\"123\"><b>hello</b><audio volume=\"3\"/></sound>', 'attr')  # 123\n",
    "input3 = ('<root a1=\"aba\" a2=\"caba\"/>', 'a3')  # None\n",
    "\n",
    "xml_str, attr_str = input1  # modifica input qua\n",
    "\n",
    "# scrivi qua\n"
   ]
  }
 ],
 "metadata": {
  "kernelspec": {
   "display_name": ".venv",
   "language": "python",
   "name": "python3"
  },
  "language_info": {
   "codemirror_mode": {
    "name": "ipython",
    "version": 3
   },
   "file_extension": ".py",
   "mimetype": "text/x-python",
   "name": "python",
   "nbconvert_exporter": "python",
   "pygments_lexer": "ipython3",
   "version": "3.11.2"
  },
  "orig_nbformat": 4
 },
 "nbformat": 4,
 "nbformat_minor": 2
}
