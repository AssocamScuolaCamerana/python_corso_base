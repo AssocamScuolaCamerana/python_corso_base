{
 "cells": [
  {
   "attachments": {},
   "cell_type": "markdown",
   "metadata": {},
   "source": [
    "## Esercizio - Strambilia\n",
    "\n",
    "Requisiti: list comprehension, zip\n",
    "\n",
    "Si narra che la valle incantata di Strambilia sia popolata da innumerevoli specie fantastiche. La leggenda dice che chi riuscirà a nominarle tutte riceverà il fantomatico _Dono Del Coding_.\n",
    "\n",
    "Nelle tue ricerche trovi un'antichissima pergamena che recita una lista delle specie, ma ahimè scopri che è  incorretta. Per ottenere la lista giusta, vi sono allegate delle strane istruzioni:\n",
    "\n",
    "> Per ogni nome ottenere le prime 4 lettere e combinarle con le lettere dopo la quarta trovate nel nome corrispondente della lista rovesciata\n",
    "\n",
    "- **NON USARE** cicli `for` o `while`\n",
    "- **NON USARE** metodi delle liste (quindi niente `.reverse()` !)\n",
    "\n",
    "Scrivi del codice che produce una NUOVA lista.\n",
    "\n",
    "Esempio - data:\n",
    "\n",
    "```python\n",
    "fauna = [\"cippimerli\",\n",
    "         \"gufolanti\",\n",
    "         \"branchisauri\",\n",
    "         \"cumulognembi\",\n",
    "         \"arzigovolanti\",\n",
    "         \"rotototteri\",\n",
    "         \"barbagianni\"]\n",
    "```"
   ]
  },
  {
   "cell_type": "markdown",
   "metadata": {},
   "source": [
    "il tuo codice deve produrre:\n",
    "\n",
    "```python\n",
    "['cippagianni',\n",
    " 'gufototteri',\n",
    " 'brangovolanti',\n",
    " 'cumulognembi',\n",
    " 'arzichisauri',\n",
    " 'rotolanti',\n",
    " 'barbimerli']\n",
    "```"
   ]
  },
  {
   "cell_type": "markdown",
   "metadata": {},
   "source": [
    "## Tuo svolgimento"
   ]
  },
  {
   "cell_type": "code",
   "execution_count": null,
   "metadata": {},
   "outputs": [],
   "source": [
    "fauna = [\"cippimerli\",\"gufolanti\",\"branchisauri\",\"cumulognembi\",\"arzigovolanti\",\"rotototteri\",\"barbagianni\"]\n",
    "# output_atteso = ['cippagianni','gufototteri','brangovolanti','cumulognembi','arzichisauri','rotolanti','barbimerli']\n",
    "\n",
    "# fauna = [\"ciospoloni\", \"sgarapirri\", \"rimbalammi\", \"tontoolonti\", \"zerbalonti\", \"gnampirilli\"]\n",
    "# output_atteso = ['ciospirilli', 'sgaralonti','rimboolonti','tontalammi','zerbapirri','gnampoloni']\n",
    "\n",
    "# scrivi qui\n"
   ]
  },
  {
   "cell_type": "markdown",
   "metadata": {},
   "source": [
    "# --------- Soluzioni ---------"
   ]
  },
  {
   "cell_type": "markdown",
   "metadata": {},
   "source": [
    "###  Pseudocodice:\n",
    "\n",
    "<pre>\n",
    "- creo una versione rovesciata della lista originale;\n",
    "- creo una lista di tuple che abbina gli elementi della lista originale con gli elementi della lista rovesciata;\n",
    "- creo una lista contenitore;\n",
    "- per ciascuna coppia di nomi della lista con le tuple;\n",
    "    - del primo nome prendo i primi 4 caratteri;\n",
    "    - del secondo nome prendo i caratteri dal 5 in avanti;\n",
    "    - concateno i due pezzi di nome;\n",
    "    - aggiungo il nome risultante alla lista contenitore;\n",
    "- l'output deve essere uguale a quello atteso;\n",
    "- (se il confronto è stato superato con esito positivo, procedo, altrimenti si dà errore);\n",
    "- stampo la lista contenitore con il risultato.\n",
    "</pre>"
   ]
  },
  {
   "attachments": {},
   "cell_type": "markdown",
   "metadata": {},
   "source": [
    "## Modo compatto: list comprehension con `reversed()` e `zip()`"
   ]
  },
  {
   "cell_type": "code",
   "execution_count": 39,
   "metadata": {},
   "outputs": [
    {
     "name": "stdout",
     "output_type": "stream",
     "text": [
      "['ciospirilli', 'sgaralonti', 'rimboolonti', 'tontalammi', 'zerbapirri', 'gnampoloni']\n"
     ]
    }
   ],
   "source": [
    "fauna = [\"cippimerli\",\"gufolanti\",\"branchisauri\",\"cumulognembi\",\"arzigovolanti\",\"rotototteri\",\"barbagianni\"]\n",
    "output_atteso = ['cippagianni','gufototteri','brangovolanti','cumulognembi','arzichisauri','rotolanti','barbimerli']\n",
    "\n",
    "# fauna = [\"ciospoloni\", \"sgarapirri\", \"rimbalammi\", \"tontoolonti\", \"zerbalonti\", \"gnampirilli\"]\n",
    "# output_atteso = ['ciospirilli', 'sgaralonti','rimboolonti','tontalammi','zerbapirri','gnampoloni']\n",
    "\n",
    "\n",
    "fauna_rev = reversed(fauna)\n",
    "# fauna_rev = fauna[::-1]\n",
    "\n",
    "coppie = zip(fauna, fauna_rev)\n",
    "\n",
    "output = [nome_A[:4] + nome_B[4:] for nome_A, nome_B in coppie]\n",
    "\n",
    "assert(output == output_atteso)\n",
    "print(output)"
   ]
  },
  {
   "cell_type": "markdown",
   "metadata": {},
   "source": [
    "## Modo esteso: container e ciclo `for` con `reversed()` e `zip()`"
   ]
  },
  {
   "cell_type": "code",
   "execution_count": 38,
   "metadata": {},
   "outputs": [
    {
     "name": "stdout",
     "output_type": "stream",
     "text": [
      "['ciospirilli', 'sgaralonti', 'rimboolonti', 'tontalammi', 'zerbapirri', 'gnampoloni']\n"
     ]
    }
   ],
   "source": [
    "fauna = [\"cippimerli\",\"gufolanti\",\"branchisauri\",\"cumulognembi\",\"arzigovolanti\",\"rotototteri\",\"barbagianni\"]\n",
    "output_atteso = ['cippagianni','gufototteri','brangovolanti','cumulognembi','arzichisauri','rotolanti','barbimerli']\n",
    "\n",
    "# fauna = [\"ciospoloni\", \"sgarapirri\", \"rimbalammi\", \"tontoolonti\", \"zerbalonti\", \"gnampirilli\"]\n",
    "# output_atteso = ['ciospirilli', 'sgaralonti','rimboolonti','tontalammi','zerbapirri','gnampoloni']\n",
    "\n",
    "fauna_rev = reversed(fauna)         # creo una versione rovesciata della lista originale\n",
    "# fauna_rev = fauna[::-1]\n",
    "\n",
    "coppie = zip(fauna, fauna_rev)      # creo una lista di tuple che abbina gli elementi della lista\n",
    "                                    # originale con gli elementi della lista rovesciata\n",
    "\n",
    "output = []                         # creo una lista contenitore\n",
    "for nome_A, nome_B in coppie:       # per ciascuna coppia di nomi della lista con le tuple\n",
    "    pezzo_A = nome_A[:4]            # del primo nome prendo i primi 4 caratteri\n",
    "    pezzo_B = nome_B[4:]            # del secondo nome prendo i caratteri dal 5 in avanti\n",
    "    nuovo_nome = pezzo_A + pezzo_B  # concateno i due pezzi di nome\n",
    "    output.append(nuovo_nome)       # aggiungo il nome risultante alla lista contenitore\n",
    "\n",
    "\n",
    "assert(output == output_atteso)     # l'output deve essere uguale a quello atteso \n",
    "                                    # (se il confronto è stato superato con esito positivo)\n",
    "print(output)                       # stampo la lista contenitore con il risultato"
   ]
  },
  {
   "attachments": {},
   "cell_type": "markdown",
   "metadata": {},
   "source": [
    "## Modo compatto: list comprehension e matematica"
   ]
  },
  {
   "cell_type": "code",
   "execution_count": 37,
   "metadata": {},
   "outputs": [
    {
     "name": "stdout",
     "output_type": "stream",
     "text": [
      "['cippagianni', 'gufototteri', 'brangovolanti', 'cumulognembi', 'arzichisauri', 'rotolanti', 'barbimerli']\n"
     ]
    }
   ],
   "source": [
    "fauna = [\"cippimerli\",\"gufolanti\",\"branchisauri\",\"cumulognembi\",\"arzigovolanti\",\"rotototteri\",\"barbagianni\"]\n",
    "output_atteso = ['cippagianni','gufototteri','brangovolanti','cumulognembi','arzichisauri','rotolanti','barbimerli']\n",
    "\n",
    "# fauna = [\"ciospoloni\", \"sgarapirri\", \"rimbalammi\", \"tontoolonti\", \"zerbalonti\", \"gnampirilli\"]\n",
    "# output_atteso = ['ciospirilli', 'sgaralonti','rimboolonti','tontalammi','zerbapirri','gnampoloni']\n",
    "\n",
    "\n",
    "output = [fauna[idx][:4] + fauna[-idx-1][4:] for idx in range(len(fauna))]\n",
    "\n",
    "assert(output == output_atteso)\n",
    "print(output)"
   ]
  },
  {
   "attachments": {},
   "cell_type": "markdown",
   "metadata": {},
   "source": [
    "## Modo esteso: container, ciclo `for` e matemetica"
   ]
  },
  {
   "cell_type": "code",
   "execution_count": 36,
   "metadata": {},
   "outputs": [
    {
     "name": "stdout",
     "output_type": "stream",
     "text": [
      "['cippagianni', 'gufototteri', 'brangovolanti', 'cumulognembi', 'arzichisauri', 'rotolanti', 'barbimerli']\n"
     ]
    }
   ],
   "source": [
    "fauna = [\"cippimerli\",\"gufolanti\",\"branchisauri\",\"cumulognembi\",\"arzigovolanti\",\"rotototteri\",\"barbagianni\"]\n",
    "output_atteso = ['cippagianni','gufototteri','brangovolanti','cumulognembi','arzichisauri','rotolanti','barbimerli']\n",
    "\n",
    "# fauna = [\"ciospoloni\", \"sgarapirri\", \"rimbalammi\", \"tontoolonti\", \"zerbalonti\", \"gnampirilli\"]\n",
    "# output_atteso = ['ciospirilli', 'sgaralonti','rimboolonti','tontalammi','zerbapirri','gnampoloni']\n",
    "\n",
    "output = []                         # creo lista contenitore\n",
    "for idx in range(len(fauna)):       # per ciascun nome della lista\n",
    "    nome_A = fauna[idx]             # prendo il nome corrente\n",
    "    nome_B = fauna[-idx-1]          # e il suo speculare dal fondo della lista\n",
    "    #      = fauna[-(idx+1)]\n",
    "    pezzo_A = nome_A[:4]            # del primo nome prendo i primi 4 caratteri\n",
    "    pezzo_B = nome_B[4:]            # del secondo nome prendo i caratteri dal 5 in avanti\n",
    "    nuovo_nome = pezzo_A + pezzo_B  # concateno i due pezzi di nome\n",
    "    output.append(nuovo_nome)       # aggiungo il nome risultante alla lista contenitore\n",
    "\n",
    "\n",
    "assert(output == output_atteso)     # l'output deve essere uguale a quello atteso \n",
    "                                    # (se il confronto è stato superato con esito positivo)\n",
    "print(output)                       # stampo la lista contenitore con il risultato"
   ]
  }
 ],
 "metadata": {
  "kernelspec": {
   "display_name": ".venv",
   "language": "python",
   "name": "python3"
  },
  "language_info": {
   "codemirror_mode": {
    "name": "ipython",
    "version": 3
   },
   "file_extension": ".py",
   "mimetype": "text/x-python",
   "name": "python",
   "nbconvert_exporter": "python",
   "pygments_lexer": "ipython3",
   "version": "3.11.2"
  },
  "orig_nbformat": 4
 },
 "nbformat": 4,
 "nbformat_minor": 2
}
