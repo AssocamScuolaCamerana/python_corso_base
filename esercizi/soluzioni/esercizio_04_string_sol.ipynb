{
 "cells": [
  {
   "attachments": {},
   "cell_type": "markdown",
   "metadata": {},
   "source": [
    "## Esercizio - Il drago Smaug\n",
    "\n",
    "Trova UNA SOLA stringa che stampata con `print` venga mostrata (all'incirca) come la seguente:\n",
    "\n",
    "```\n",
    "________________~----~______________\n",
    "////            Storia\t\t    \\\\\\\\\n",
    "Il      cavaliere\n",
    "\t    affronta\n",
    "\n",
    "\t    il      drago   'Smaug' davanti\n",
    "\t\t        al       castello\n",
    "\n",
    "```\n",
    "\n",
    "- inizia e concludi la stringa con apice singolo\n",
    "\n",
    "- **USA SOLO** combinazioni di `\\t` e `\\n`\n",
    "- **NON** usare spazi\n",
    "- **NOTA**: usando i tab potresti vedere risultati diversi a seconda dell'editor che stai usando, quindi puoi solo sperare di ottenere un risultato simile a quello proposto."
   ]
  },
  {
   "cell_type": "markdown",
   "metadata": {},
   "source": [
    "## Tuo svolgimento"
   ]
  },
  {
   "cell_type": "code",
   "execution_count": null,
   "metadata": {},
   "outputs": [],
   "source": [
    "s = 'bla bla'\n",
    "\n",
    "print(s)"
   ]
  },
  {
   "cell_type": "markdown",
   "metadata": {},
   "source": [
    "# --------- Soluzioni ---------"
   ]
  },
  {
   "attachments": {},
   "cell_type": "markdown",
   "metadata": {},
   "source": [
    "### Modo con larghezza Tab default (8 spazi)"
   ]
  },
  {
   "attachments": {},
   "cell_type": "markdown",
   "metadata": {},
   "source": [
    "In un notebook di Jupyter, la larghezza dei Tab nelle celle di Markdown potrebbe essere diversa da quella dei Tab nelle celle di codice.\n",
    "\n",
    "- In Python i Tab negli output sono impostati attualmente a 8 spazi.\n",
    "- In Visual Studio Code, il \"Tab Size\" (`editor.tabSize`) è impostato di default a 4 spazi.\n",
    "\n",
    "Per questo motivo è difficile che riuscirai a riprodurre un testo identico a quello mostrato nella consegna dell'esercizio."
   ]
  },
  {
   "cell_type": "code",
   "execution_count": 30,
   "metadata": {},
   "outputs": [
    {
     "name": "stdout",
     "output_type": "stream",
     "text": [
      "________________~----~______________\n",
      "////\t\tStoria\t\t\\\\\\\\\n",
      "Il\tcavaliere\n",
      "\taffronta\n",
      "\n",
      "\til\tdrago\t'Smaug'\tdavanti\n",
      "\t\tal\tcastello\n"
     ]
    }
   ],
   "source": [
    "s = '________________~----~______________\\n////\\t\\tStoria\\t\\t\\\\\\\\\\\\\\\\\\nIl\\tcavaliere\\n\\taffronta\\n\\n\\til\\tdrago\\t\\'Smaug\\'\\tdavanti\\n\\t\\tal\\tcastello'\n",
    "\n",
    "print(s)"
   ]
  },
  {
   "attachments": {},
   "cell_type": "markdown",
   "metadata": {},
   "source": [
    "### Modo con larghezza Tab custom (es. 4 spazi)"
   ]
  },
  {
   "attachments": {},
   "cell_type": "markdown",
   "metadata": {},
   "source": [
    "Un oggetto di tipo `str` possiede un metodo, `str.expandtabs(tabsize=8)`, che restituisce una copia della stringa in cui tutti i caratteri di tabulazione sono sostituiti da uno o più spazi, a seconda della colonna corrente e della dimensione della tabulazione data (`tabsize`). Di default il valore è `8`, ma possiamo passare un altro numero, per esempio con `4` dovrebbe fare al caso nostro.\n",
    "\n",
    "In questo modo sostituiamo i Tab con degli spazi, ma il risultato è più preciso."
   ]
  },
  {
   "cell_type": "code",
   "execution_count": 34,
   "metadata": {},
   "outputs": [
    {
     "name": "stdout",
     "output_type": "stream",
     "text": [
      "________________~----~______________\n",
      "////            Storia              \\\\\\\\\n",
      "Il      cavaliere\n",
      "            affronta\n",
      "\n",
      "            il      drago   'Smaug' davanti\n",
      "                        al      castello\n"
     ]
    }
   ],
   "source": [
    "s = '________________~----~______________\\n////\\t\\t\\tStoria\\t\\t\\t\\t\\\\\\\\\\\\\\\\\\nIl\\t\\tcavaliere\\n\\t\\t\\taffronta\\n\\n\\t\\t\\til\\t\\tdrago\\t\\'Smaug\\'\\tdavanti\\n\\t\\t\\t\\t\\t\\tal\\t\\tcastello'\n",
    "\n",
    "print(s.expandtabs(4))"
   ]
  }
 ],
 "metadata": {
  "kernelspec": {
   "display_name": ".venv",
   "language": "python",
   "name": "python3"
  },
  "language_info": {
   "codemirror_mode": {
    "name": "ipython",
    "version": 3
   },
   "file_extension": ".py",
   "mimetype": "text/x-python",
   "name": "python",
   "nbconvert_exporter": "python",
   "pygments_lexer": "ipython3",
   "version": "3.11.2"
  },
  "orig_nbformat": 4
 },
 "nbformat": 4,
 "nbformat_minor": 2
}
