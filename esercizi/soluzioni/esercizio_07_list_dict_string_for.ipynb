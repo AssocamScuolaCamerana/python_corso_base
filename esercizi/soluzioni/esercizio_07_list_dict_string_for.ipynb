{
 "cells": [
  {
   "attachments": {},
   "cell_type": "markdown",
   "metadata": {},
   "source": [
    "### Esercizio - dondolo\n",
    "\n",
    "Requisiti: stringhe, dizionari, if, cicli\n",
    "\n",
    "Scrivi del codice che data una lista di parole costituite solo dalla stessa lettera, crea un dizionario `freq` che associa a ciascuna lettera il numero di occorrenze di quella lettera trovate **in tutta la lista**\n",
    "\n",
    "Esempio - data:\n",
    "\n",
    "```python\n",
    "parole = ['dddd', 'oooo', 'nnn', 'dddd', 'o', 'lllllll', 'oo']\n",
    "```\n",
    "\n",
    "\n",
    "deve risultare:\n",
    "\n",
    "```python\n",
    ">>> print(freq)\n",
    "{'d': 8, 'o': 7, 'n': 3, 'l': 7}\n",
    "```"
   ]
  },
  {
   "cell_type": "markdown",
   "metadata": {},
   "source": [
    "## Tuo svolgimento"
   ]
  },
  {
   "cell_type": "code",
   "execution_count": null,
   "metadata": {},
   "outputs": [],
   "source": [
    "parole = ['dddd', 'oooo', 'nnn', 'dddd', 'o', 'lllllll', 'oo']  # {'d': 8, 'o': 7, 'n': 3, 'l': 7}\n",
    "# parole = ['d','ii','nnn','dd','ooo','n']                       # {'d': 3, 'i': 2, 'n': 4, 'o': 3}\n",
    "             \n",
    "# scrivi qui"
   ]
  },
  {
   "cell_type": "markdown",
   "metadata": {},
   "source": [
    "# --------- Soluzioni ---------"
   ]
  },
  {
   "cell_type": "markdown",
   "metadata": {},
   "source": [
    "## Modo \"classico\""
   ]
  },
  {
   "attachments": {},
   "cell_type": "markdown",
   "metadata": {},
   "source": [
    "Il modo classico è controllare ogni volta se la chiave esiste, prima di incrementare il \"contatore\"."
   ]
  },
  {
   "cell_type": "code",
   "execution_count": null,
   "metadata": {},
   "outputs": [],
   "source": [
    "parole = ['dddd', 'oooo', 'nnn', 'dddd', 'o', 'lllllll', 'oo']  # {'d': 8, 'o': 7, 'n': 3, 'l': 7}\n",
    "# parole = ['d','ii','nnn','dd','ooo','n']                       # {'d': 3, 'i': 2, 'n': 4, 'o': 3}\n",
    "             \n",
    "report_dict = {}\n",
    "for word in parole:\n",
    "    for letter in word:\n",
    "        if letter in report_dict:\n",
    "            report_dict[letter] += 1\n",
    "        else:\n",
    "            report_dict[letter] = 1\n",
    "\n",
    "print(report_dict)"
   ]
  },
  {
   "attachments": {},
   "cell_type": "markdown",
   "metadata": {},
   "source": [
    "## Modo `dict.get(key, default)`"
   ]
  },
  {
   "attachments": {},
   "cell_type": "markdown",
   "metadata": {},
   "source": [
    "Se invece sfruttiamo il metodo `.get()` dei dizionari, puoi passare un valore di default in caso la chiave non esista.\n",
    "\n",
    "Il primo argomento da passare è la chiave ricercata, mentre il secondo è il valore di default del nostro contatore (quindi `0`)."
   ]
  },
  {
   "cell_type": "code",
   "execution_count": 2,
   "metadata": {},
   "outputs": [
    {
     "name": "stdout",
     "output_type": "stream",
     "text": [
      "{'d': 8, 'o': 7, 'n': 3, 'l': 7}\n"
     ]
    }
   ],
   "source": [
    "parole = ['dddd', 'oooo', 'nnn', 'dddd', 'o', 'lllllll', 'oo']  # {'d': 8, 'o': 7, 'n': 3, 'l': 7}\n",
    "# parole = ['d','ii','nnn','dd','ooo','n']                       # {'d': 3, 'i': 2, 'n': 4, 'o': 3}\n",
    "             \n",
    "report_dict = {}\n",
    "for word in parole:\n",
    "    for letter in word:\n",
    "        report_dict[letter] = report_dict.get(letter, 0) + 1\n",
    "\n",
    "print(report_dict)\n"
   ]
  },
  {
   "attachments": {},
   "cell_type": "markdown",
   "metadata": {},
   "source": [
    "## Modo `collections.defaultdict`"
   ]
  },
  {
   "cell_type": "code",
   "execution_count": 4,
   "metadata": {},
   "outputs": [
    {
     "name": "stdout",
     "output_type": "stream",
     "text": [
      "defaultdict(<class 'int'>, {'d': 8, 'o': 7, 'n': 3, 'l': 7})\n"
     ]
    }
   ],
   "source": [
    "from collections import defaultdict\n",
    "\n",
    "parole = ['dddd', 'oooo', 'nnn', 'dddd', 'o', 'lllllll', 'oo']  # {'d': 8, 'o': 7, 'n': 3, 'l': 7}\n",
    "# parole = ['d','ii','nnn','dd','ooo','n']                       # {'d': 3, 'i': 2, 'n': 4, 'o': 3}\n",
    "             \n",
    "report_dict = defaultdict(int)\n",
    "\n",
    "for word in parole:\n",
    "    for letter in word:\n",
    "        report_dict[letter] += 1\n",
    "\n",
    "print(report_dict)\n"
   ]
  }
 ],
 "metadata": {
  "kernelspec": {
   "display_name": ".venv",
   "language": "python",
   "name": "python3"
  },
  "language_info": {
   "codemirror_mode": {
    "name": "ipython",
    "version": 3
   },
   "file_extension": ".py",
   "mimetype": "text/x-python",
   "name": "python",
   "nbconvert_exporter": "python",
   "pygments_lexer": "ipython3",
   "version": "3.11.2"
  },
  "orig_nbformat": 4
 },
 "nbformat": 4,
 "nbformat_minor": 2
}
