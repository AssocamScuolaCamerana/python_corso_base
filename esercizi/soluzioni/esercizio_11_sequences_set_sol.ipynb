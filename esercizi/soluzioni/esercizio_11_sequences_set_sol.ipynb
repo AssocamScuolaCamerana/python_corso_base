{
 "cells": [
  {
   "cell_type": "markdown",
   "metadata": {},
   "source": [
    "## Esercizio - Festone di laurea\n",
    "\n",
    "Requisiti: insiemi\n",
    "\n",
    " \n",
    "Evviva! Ci siamo laureati! E per coincidenza ci siamo riusciti nella stessa sessione dei nostri \n",
    "grandi amici Gianni e Giulia. Ora naturalmente stiamo cercando di organizzare una festa e ci piacerebbe \n",
    "farla tutti insieme. \n",
    "\n",
    "Purtroppo però a causa delle norme Covid non possiamo fare assembramento e \n",
    "sono perciò vietate i raduni con più di **13** persone.\n",
    "\n",
    "Siccome ora siamo dottori, l'idea è quella di risolvere il problema con un bel programmino Python. Abbiamo tre liste di invitati e siccome noi festeggiati siamo tutti amici ci sono ovviamente persone che verrebbero invitate più volte.\n",
    "\n",
    "1. Trova il numero di invitati effettivi (le persone che verranno alla festa)\n",
    "2. Stampa la lista di nomi SENZA duplicati\n",
    "3. Trova il numero delle persone che hanno ricevuto **almeno** 2 inviti\n",
    "4. Trova l'elenco delle persone che hanno ricevuto **almeno** 2 inviti\n",
    "\n",
    "\n",
    "Esempio - dati:\n",
    "\n",
    "```python\n",
    "invitati_miei =   [\"VittorioG\", \"LucaB\", \"DavidL\", \"GiorgioC\", \"MichelaF\", \"GiuliaA\", \"VittorioG\", ]\n",
    "invitati_gianni = [\"SamanthaV\", \"LucaB\", \"GiorgioC\", \"MichelaF\", \"MartaB\", \"EmmaK\"]\n",
    "invitati_giulia = [\"DavidL\", \"GiorgioC\", \"MichelaF\", \"MassimilianoL\", \"VittorioG\", \"RobertoU\", \"EmmaK\"]\n",
    "```\n",
    "\n",
    "\n",
    "dopo il tuo codice, deve stampare:\n",
    "\n",
    "```\n",
    "Invitati miei:  6\n",
    "Invitati gianni:  6\n",
    "Invitati giulia:  7\n",
    "Numero invitati:  11\n",
    "Nomi invitati:  {'MassimilianoL', 'MartaB', 'MichelaF', 'EmmaK', 'GiorgioC', 'DavidL', 'VittorioG', 'SamanthaV', 'RobertoU', 'LucaB', 'GiuliaA'}\n",
    "Numero amici invitati almeno 2 volte: 6\n",
    "Amici invitati almeno due volte:  {'GiorgioC', 'DavidL', 'MichelaF', 'VittorioG', 'LucaB', 'EmmaK'}\n",
    "```\n"
   ]
  },
  {
   "cell_type": "markdown",
   "metadata": {},
   "source": [
    "## Tuo svolgimento"
   ]
  },
  {
   "cell_type": "code",
   "execution_count": null,
   "metadata": {},
   "outputs": [],
   "source": [
    "# Input (NON modificare)\n",
    "\n",
    "invitati_miei =   [\"VittorioG\", \"LucaB\", \"DavidL\", \"GiorgioC\", \"MichelaF\", \"GiuliaA\", \"VittorioG\", ]\n",
    "invitati_gianni = [\"SamanthaV\", \"LucaB\", \"GiorgioC\", \"MichelaF\", \"MartaB\", \"EmmaK\"]\n",
    "invitati_giulia = [\"DavidL\", \"GiorgioC\", \"MichelaF\", \"MassimilianoL\", \"VittorioG\", \"RobertoU\", \"EmmaK\"]\n",
    "\n",
    "# scrivi qui\n"
   ]
  },
  {
   "cell_type": "markdown",
   "metadata": {},
   "source": [
    "# --------- Soluzioni ---------"
   ]
  },
  {
   "attachments": {},
   "cell_type": "markdown",
   "metadata": {},
   "source": [
    "###  Pseudocodice:\n",
    "\n",
    "<pre>\n",
    "- trasformo le liste in set per rimuovere i duplicati e ottengo 3 set;\n",
    "- creo una lista \"globale\" con tutti gli invitati, duplicati compresi;\n",
    "- creo un set \"globale\" con tutti gli invitati (quindi senza duplicati);\n",
    "- creo un set \"re-invitati\" per contenere gli amici invitati più di una volta;\n",
    "- per ciascun invitato nel set globale:\n",
    "    - se compare più di una volta nella lista globale:\n",
    "        - metto la persona nel set \"re-invitati\";\n",
    "- stampo i risultati effettuando i relativi conteggi.\n",
    "</pre>"
   ]
  },
  {
   "cell_type": "code",
   "execution_count": 2,
   "metadata": {},
   "outputs": [
    {
     "name": "stdout",
     "output_type": "stream",
     "text": [
      "Invitati miei: 6\n",
      "Invitati Gianni: 6\n",
      "Invitati Giulia: 7\n",
      "Numero invitati: 11\n",
      "Nomi invitati: {'GiuliaA', 'EmmaK', 'MassimilianoL', 'DavidL', 'SamanthaV', 'GiorgioC', 'VittorioG', 'MichelaF', 'MartaB', 'LucaB', 'RobertoU'}\n",
      "Numero amici invitati almeno 2 volte: 6\n",
      "Amici invitati almeno due volte: {'EmmaK', 'DavidL', 'VittorioG', 'GiorgioC', 'MichelaF', 'LucaB'}\n"
     ]
    }
   ],
   "source": [
    "# Input (NON modificare)\n",
    "\n",
    "invitati_miei =   [\"VittorioG\", \"LucaB\", \"DavidL\", \"GiorgioC\", \"MichelaF\", \"GiuliaA\", \"VittorioG\", ]\n",
    "invitati_gianni = [\"SamanthaV\", \"LucaB\", \"GiorgioC\", \"MichelaF\", \"MartaB\", \"EmmaK\"]\n",
    "invitati_giulia = [\"DavidL\", \"GiorgioC\", \"MichelaF\", \"MassimilianoL\", \"VittorioG\", \"RobertoU\", \"EmmaK\"]\n",
    "\n",
    "# trasformo le liste in set per rimuovere i duplicati\n",
    "set_miei = set(invitati_miei)\n",
    "set_gianni = set(invitati_gianni)\n",
    "set_giulia = set(invitati_giulia)\n",
    "\n",
    "# creo la lista \"globale\" con tutti gli invitati, duplicati compresi\n",
    "list_all = invitati_miei + invitati_gianni + invitati_giulia\n",
    "\n",
    "# creo un set \"globale\" con tutti gli invitati (quindi senza duplicati)\n",
    "set_all = set(list_all)\n",
    "# set_all = set_miei | set_gianni | set_giulia\n",
    "\n",
    "# creo un set \"re-invitati\" per contenere gli amici invitati più di una volta\n",
    "\n",
    "# # --- MODO CICLO FOR ---\n",
    "# set_reinvitati = set()\n",
    "# for invitato in set_all:              # per ciascun invitato nel set globale:\n",
    "#     if list_all.count(invitato) > 1:  # se compare più di una volta nella lista globale:\n",
    "#         set_reinvitati.add(invitato)  # metto la persona nel set \"re-invitati\";\n",
    "\n",
    "# --- MODO SET COMPREHENSION CON \"FILTRO\" ---\n",
    "set_reinvitati = {invitato for invitato in set_all if list_all.count(invitato) > 1}\n",
    "\n",
    "# stampo i risultati effettuando i relativi conteggi\n",
    "print('Invitati miei:', len(set_miei))\n",
    "print('Invitati Gianni:', len(set_gianni))\n",
    "print('Invitati Giulia:', len(set_giulia))\n",
    "print('Numero invitati:', len(set_all))\n",
    "print('Nomi invitati:', set_all)\n",
    "print('Numero amici invitati almeno 2 volte:', len(set_reinvitati))\n",
    "print('Amici invitati almeno due volte:', set_reinvitati)\n"
   ]
  }
 ],
 "metadata": {
  "kernelspec": {
   "display_name": ".venv",
   "language": "python",
   "name": "python3"
  },
  "language_info": {
   "codemirror_mode": {
    "name": "ipython",
    "version": 3
   },
   "file_extension": ".py",
   "mimetype": "text/x-python",
   "name": "python",
   "nbconvert_exporter": "python",
   "pygments_lexer": "ipython3",
   "version": "3.11.2"
  },
  "orig_nbformat": 4
 },
 "nbformat": 4,
 "nbformat_minor": 2
}
