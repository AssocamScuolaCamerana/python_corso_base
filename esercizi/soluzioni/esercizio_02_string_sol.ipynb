{
 "cells": [
  {
   "attachments": {},
   "cell_type": "markdown",
   "metadata": {},
   "source": [
    "# Esercizio - La ricetta della nonna\n",
    "\n",
    "Requisiti: stringhe, liste, if, for, import, \n",
    "\n",
    "La nonna ci ha dato la sua miracolosa ricetta della pasta olive acciughe e capperi.\n",
    "\n",
    "<u>Variante 1:</u> Dobbiamo andare a comprare tutti gli ingredienti che appaiono nella lista più di una volta.\n",
    "\n",
    "<u>Variante 2:</u> Dobbiamo andare a comprare gli ingredienti e dobbiamo capire quanti \"**cappero**\", \"**oliva**\" e \"**pepe**\" comprare. Di pasta e altri ingredienti ne abbiamo già in quantità, quindi non ci interessano.\n",
    "\n",
    "- **ATTENZIONE:** la nonna ha la sua età ed è sempre stata pasticciona e quindi la ricetta è scritta in modo non consistente, e le parole vanno *normalizzate*    \n",
    "- **SUGGERIMENTO**: c'è un comodo metodo delle stringhe per separare le parole...\n",
    "  \n",
    "Esempio - dati:\n",
    "\n",
    "```python\n",
    "ricetta = \"oliva\\t, pepe,cappero ,\\n detersivo,\\t \\n cappero, peperone, acciuga ,oliva , pepe\\t,\\t cappero , \\noliva,pasta\\n\"\n",
    "```\n",
    "\n",
    "stampa:\n",
    "\n",
    "```\n",
    "  Servono:\n",
    "     3 oliva\n",
    "     2 pepe\n",
    "     3 cappero\n",
    "``` "
   ]
  },
  {
   "attachments": {},
   "cell_type": "markdown",
   "metadata": {},
   "source": [
    "> NOTA: Ricorca di riavviare il kernel del notebook se riscontri comportamenti anomali che non riesci a spiegarti."
   ]
  },
  {
   "attachments": {},
   "cell_type": "markdown",
   "metadata": {},
   "source": [
    "## Consiglio\n",
    "\n",
    "Usa `print(repr(...))` per controllare la presenza dei metacaratteri di escape."
   ]
  },
  {
   "cell_type": "code",
   "execution_count": 8,
   "metadata": {},
   "outputs": [
    {
     "name": "stdout",
     "output_type": "stream",
     "text": [
      " pepe,cappero ,\n",
      " detersivo,\t \n",
      " cappero, peperone\n",
      "' pepe,cappero ,\\n detersivo,\\t \\n cappero, peperone'\n"
     ]
    }
   ],
   "source": [
    "test = ' pepe,cappero ,\\n detersivo,\\t \\n cappero, peperone'\n",
    "print(test)\n",
    "print(repr(test))"
   ]
  },
  {
   "attachments": {},
   "cell_type": "markdown",
   "metadata": {},
   "source": [
    "# --------- Variante 1 ---------\n",
    "\n",
    "Dobbiamo andare a comprare tutti gli ingredienti che appaiono nella lista più di una volta."
   ]
  },
  {
   "attachments": {},
   "cell_type": "markdown",
   "metadata": {},
   "source": [
    "## Tuo svolgimento"
   ]
  },
  {
   "cell_type": "code",
   "execution_count": null,
   "metadata": {},
   "outputs": [],
   "source": [
    "ricetta_orig = \"oliva\\t, pepe,cappero ,\\n detersivo,\\t \\n cappero, peperone, acciuga ,oliva , pepe\\t,\\t cappero , \\noliva,pasta\\n\"\n",
    "# ricetta = \"oliva\\t, pepe,cappero ,\\n dete\\nrsivo,\\t \\n cappero, peperone, acciuga ,oliva , pepe\\t,\\t cappero , \\noliva,pasta\\n\"\n",
    "# ricetta = \"cappone , pepe,\\noliva\\n,\\n\\tpepe, acciuga \"   #  1 oliva 2 pepe 0 cappero\n",
    "\n",
    "# scrivi qui\n"
   ]
  },
  {
   "attachments": {},
   "cell_type": "markdown",
   "metadata": {},
   "source": [
    "## Analisi\n",
    "\n",
    "### Stringa della ricetta\n",
    "Es:\n",
    "```python\n",
    "\"oliva\\t, pepe,cappero ,\\n detersivo,\\t \\n cappero, peperone, acciuga ,oliva , pepe\\t,\\t cappero , \\noliva,pasta\\n\"\n",
    "```\n",
    "\n",
    "### Caratteri da rimuovere\n",
    "```python\n",
    "[' ', '\\t', '\\n']\n",
    "```\n",
    "\n",
    "### Separatore parole\n",
    "```python\n",
    "[',']\n",
    "```\n",
    "\n",
    "###  Pseudocodice:\n",
    "\n",
    "<pre>\n",
    "- inizializzo un dizionario come contenitore per il \"report\" dei conteggi;\n",
    "- creo una lista dividendo la stringa della ricetta ad ogni virgola;\n",
    "- per ciascuna parola della lista:\n",
    "    - pulisco la parola con str.strip();\n",
    "    - se la chiave (parola) è già presente nel dizionario:\n",
    "        - incremento il conteggio;\n",
    "    - altrimenti (se la chiave non non c'è ancora nel dizionario):\n",
    "        - creo la chiave e conto già 1;\n",
    "- stampa titolo report;\n",
    "- per ciascuna chiave (parola pulita) nel dizionario con i conteggi:\n",
    "    - se il valore è maggiore di 1;\n",
    "        - stampa quantità + parola;\n",
    "</pre>"
   ]
  },
  {
   "attachments": {},
   "cell_type": "markdown",
   "metadata": {},
   "source": [
    "## Soluzioni"
   ]
  },
  {
   "attachments": {},
   "cell_type": "markdown",
   "metadata": {},
   "source": [
    "### `if key in dict`: il modo lineare"
   ]
  },
  {
   "cell_type": "code",
   "execution_count": 6,
   "metadata": {},
   "outputs": [
    {
     "name": "stdout",
     "output_type": "stream",
     "text": [
      "{'oliva': 3, 'pepe': 2, 'cappero': 3, 'detersivo': 1, 'peperone': 1, 'acciuga': 1, 'pasta': 1}\n",
      "Servono:\n",
      "\t 3 oliva\n",
      "\t 2 pepe\n",
      "\t 3 cappero\n"
     ]
    }
   ],
   "source": [
    "ricetta_orig = \"oliva\\t, pepe,cappero ,\\n detersivo,\\t \\n cappero, peperone, acciuga ,oliva , pepe\\t,\\t cappero , \\noliva,pasta\\n\"\n",
    "# ricetta_orig = \"oliva\\t, pepe,cappero ,\\n dete\\nrsivo,\\t \\n cappero, peperone, acciuga ,oliva , pepe\\t,\\t cappero , \\noliva,pasta\\n\"\n",
    "# ricetta_orig = \"cappone , pepe,\\noliva\\n,\\n\\tpepe, acciuga \"   #  1 oliva 2 pepe 0 cappero\n",
    "\n",
    "ricetta_dict = {}                            # inizializzo un dizionario come contenitore per il \"report\" dei conteggi\n",
    "\n",
    "ricetta_orig_list = ricetta_orig.split(',')  # creo una lista dividendo la stringa della ricetta ad ogni virgola\n",
    "\n",
    "for parola_sporca in ricetta_orig_list:      # per ciascuna parola della lista\n",
    "    parola_pulita = parola_sporca.strip()    # pulisco la parola con str.strip()\n",
    "\n",
    "    if parola_pulita in ricetta_dict:        # se la chiave (parola) è già presente nel dizionario\n",
    "        ricetta_dict[parola_pulita] += 1     # incremento il conteggio\n",
    "    else:                                    # altrimenti\n",
    "        ricetta_dict[parola_pulita] = 1      # creo la chiave e conto già 1\n",
    "\n",
    "print(ricetta_dict)\n",
    "print('Servono:', )                          # stampa titolo report\n",
    "\n",
    "for key in ricetta_dict:                     # per ciascuna chiave (parola pulita) nel dizionario con i conteggi\n",
    "    if ricetta_dict[key] > 1:                # se il valore è maggiore di 1\n",
    "        print('\\t', ricetta_dict[key], key)  # stampa quantità + parola"
   ]
  },
  {
   "attachments": {},
   "cell_type": "markdown",
   "metadata": {},
   "source": [
    "Alternativa\n",
    "\n",
    "```python\n",
    "...\n",
    "if ricetta_dict.get(parola_pulita) is not None:  # Possiamo anche provare a leggere in modo \"sicuro\"\n",
    "                                                 # la chiave, e se non è None vuol dire che esiste \n",
    "    ricetta_dict[parola_pulita] += 1\n",
    "    ...\n",
    "...\n",
    "```"
   ]
  },
  {
   "attachments": {},
   "cell_type": "markdown",
   "metadata": {},
   "source": [
    "### `dict.get(key, default)`: il modo geek"
   ]
  },
  {
   "cell_type": "code",
   "execution_count": 5,
   "metadata": {},
   "outputs": [
    {
     "name": "stdout",
     "output_type": "stream",
     "text": [
      "{'oliva': 3, 'pepe': 2, 'cappero': 3, 'detersivo': 1, 'peperone': 1, 'acciuga': 1, 'pasta': 1}\n",
      "Servono:\n",
      "\t 3 oliva\n",
      "\t 2 pepe\n",
      "\t 3 cappero\n"
     ]
    }
   ],
   "source": [
    "ricetta_orig = \"oliva\\t, pepe,cappero ,\\n detersivo,\\t \\n cappero, peperone, acciuga ,oliva , pepe\\t,\\t cappero , \\noliva,pasta\\n\"\n",
    "# ricetta_orig = \"oliva\\t, pepe,cappero ,\\n dete\\nrsivo,\\t \\n cappero, peperone, acciuga ,oliva , pepe\\t,\\t cappero , \\noliva,pasta\\n\"\n",
    "# ricetta_orig = \"cappone , pepe,\\noliva\\n,\\n\\tpepe, acciuga \"   #  1 oliva 2 pepe 0 cappero\n",
    "\n",
    "ricetta_dict = {}\n",
    "\n",
    "for parola_sporca in ricetta_orig.split(','):\n",
    "    parola_pulita = parola_sporca.strip()    \n",
    "    ricetta_dict[parola_pulita] = ricetta_dict.get(parola_pulita, 0) + 1\n",
    "\n",
    "print(ricetta_dict)\n",
    "print('Servono:')\n",
    "\n",
    "for key in ricetta_dict:\n",
    "    if ricetta_dict[key] > 1:\n",
    "        print('\\t', ricetta_dict[key], key)"
   ]
  },
  {
   "attachments": {},
   "cell_type": "markdown",
   "metadata": {},
   "source": [
    "### `collections.defaultdict`: il modo elegante"
   ]
  },
  {
   "cell_type": "code",
   "execution_count": 4,
   "metadata": {},
   "outputs": [
    {
     "name": "stdout",
     "output_type": "stream",
     "text": [
      "defaultdict(<function <lambda> at 0x11307c400>, {'oliva': 3, 'pepe': 2, 'cappero': 3, 'detersivo': 1, 'peperone': 1, 'acciuga': 1, 'pasta': 1})\n",
      "Servono:\n",
      "\t 3 oliva\n",
      "\t 2 pepe\n",
      "\t 3 cappero\n"
     ]
    }
   ],
   "source": [
    "from collections import defaultdict\n",
    "\n",
    "ricetta_orig = \"oliva\\t, pepe,cappero ,\\n detersivo,\\t \\n cappero, peperone, acciuga ,oliva , pepe\\t,\\t cappero , \\noliva,pasta\\n\"\n",
    "# ricetta_orig = \"oliva\\t, pepe,cappero ,\\n dete\\nrsivo,\\t \\n cappero, peperone, acciuga ,oliva , pepe\\t,\\t cappero , \\noliva,pasta\\n\"\n",
    "# ricetta_orig = \"cappone , pepe,\\noliva\\n,\\n\\tpepe, acciuga \"   #  1 oliva 2 pepe 0 cappero\n",
    "\n",
    "ricetta_defdict = defaultdict(lambda: 0)\n",
    "\n",
    "for parola_sporca in ricetta_orig.split(','):\n",
    "    parola_pulita = parola_sporca.strip()\n",
    "    ricetta_defdict[parola_pulita] += 1\n",
    "\n",
    "print(ricetta_defdict)\n",
    "print('Servono:')\n",
    "\n",
    "for key in ricetta_dict:\n",
    "    if ricetta_dict[key] > 1:\n",
    "        print('\\t', ricetta_dict[key], key)"
   ]
  },
  {
   "attachments": {},
   "cell_type": "markdown",
   "metadata": {},
   "source": [
    "### `map()` e `collections.Counter`: il modo ad-hoc"
   ]
  },
  {
   "cell_type": "code",
   "execution_count": 2,
   "metadata": {},
   "outputs": [
    {
     "name": "stdout",
     "output_type": "stream",
     "text": [
      "Counter({'oliva': 3, 'cappero': 3, 'pepe': 2, 'detersivo': 1, 'peperone': 1, 'acciuga': 1, 'pasta': 1})\n",
      "Servono:\n",
      "\t 3 oliva\n",
      "\t 2 pepe\n",
      "\t 3 cappero\n"
     ]
    }
   ],
   "source": [
    "from collections import Counter\n",
    "\n",
    "ricetta_orig = \"oliva\\t, pepe,cappero ,\\n detersivo,\\t \\n cappero, peperone, acciuga ,oliva , pepe\\t,\\t cappero , \\noliva,pasta\\n\"\n",
    "# ricetta_orig = \"oliva\\t, pepe,cappero ,\\n dete\\nrsivo,\\t \\n cappero, peperone, acciuga ,oliva , pepe\\t,\\t cappero , \\noliva,pasta\\n\"\n",
    "# ricetta_orig = \"cappone , pepe,\\noliva\\n,\\n\\tpepe, acciuga \"   #  1 oliva 2 pepe 0 cappero\n",
    "\n",
    "parole_sporche_list = ricetta_orig.split(',')\n",
    "parole_pulite = map(lambda parola_sporca: parola_sporca.strip(), parole_sporche_list)\n",
    "ricetta_dict = Counter(parole_pulite)\n",
    "\n",
    "print(ricetta_dict)\n",
    "print('Servono:')\n",
    "\n",
    "for key in ricetta_dict:\n",
    "    if ricetta_dict[key] > 1:\n",
    "        print('\\t', ricetta_dict[key], key)"
   ]
  },
  {
   "attachments": {},
   "cell_type": "markdown",
   "metadata": {},
   "source": [
    "### `str.replace()` e `re.sub()`: modi più precisi per \"pulire\" le stringhe"
   ]
  },
  {
   "attachments": {},
   "cell_type": "markdown",
   "metadata": {},
   "source": [
    "Metacaratteri per regular expression (regex) utili con la nostra ricetta:\n",
    "\n",
    "- `\\s`  :  Matches any whitespace character; this is equivalent to the class `[ \\t\\n\\r\\f\\v]`.\n",
    "- `\\W`  :  Matches any non-alphanumeric character; this is equivalent to the class `[^a-zA-Z0-9_]`.\n",
    "- `\\b`  :  Word boundary. This is a zero-width assertion that matches only at the beginning or end of a word."
   ]
  },
  {
   "cell_type": "code",
   "execution_count": 3,
   "metadata": {},
   "outputs": [
    {
     "name": "stdout",
     "output_type": "stream",
     "text": [
      "{'oliva': 3, 'pepe': 2, 'cappero': 3, 'detersivo': 1, 'peperone': 1, 'acciuga': 1, 'pasta': 1}\n",
      "Servono:\n",
      "\t 3 oliva\n",
      "\t 2 pepe\n",
      "\t 3 cappero\n"
     ]
    }
   ],
   "source": [
    "import re\n",
    "\n",
    "# ricetta_orig = \"oliva\\t, pepe,cappero ,\\n detersivo,\\t \\n cappero, peperone, acciuga ,oliva , pepe\\t,\\t cappero , \\noliva,pasta\\n\"\n",
    "ricetta_orig = \"oliva\\t, pepe,cappero ,\\n dete\\nrsivo,\\t \\n cappero, peperone, acciuga ,oliva , pepe\\t,\\t cappero , \\noliva,pasta\\n\"\n",
    "# ricetta_orig = \"cappone , pepe,\\noliva\\n,\\n\\tpepe, acciuga \"   #  1 oliva 2 pepe 0 cappero\n",
    "\n",
    "ricetta_dict = {}\n",
    "\n",
    "for parola_sporca in ricetta_orig.split(','):\n",
    "    \n",
    "    # -- MODO già usato\n",
    "    # parola_pulita = parola_sporca.strip()\n",
    "\n",
    "    # -- MODO con str.replace()\n",
    "    parola_pulita = parola_sporca.replace(' ', '').replace('\\n', '').replace('\\t', '')  \n",
    "\n",
    "    # -- MODO con re.sub()\n",
    "    # parola_pulita = re.sub(r' |\\n|\\t', '', parola_sporca)\n",
    "    # parola_pulita = re.sub(r'\\W', '', parola_sporca)\n",
    "    # parola_pulita = re.sub(r'\\s', '', parola_sporca)\n",
    "\n",
    "    # parola_pulita = parola_sporca.split()[0]  # A lezione mi è stato fatto notare che si può usare\n",
    "                                                # il metodo str.split(), ma in modo un po' poco convenzionale.\n",
    "                                                # (e con possibili effetti collaterali, vedi \"dete\\nrsivo\")\n",
    "\n",
    "    ricetta_dict[parola_pulita] = ricetta_dict.get(parola_pulita, 0) + 1\n",
    "\n",
    "print(ricetta_dict)\n",
    "print('Servono:')\n",
    "\n",
    "for key in ricetta_dict:\n",
    "    if ricetta_dict[key] > 1:\n",
    "        print('\\t', ricetta_dict[key], key)"
   ]
  },
  {
   "attachments": {},
   "cell_type": "markdown",
   "metadata": {},
   "source": [
    "# --------- Variante 2 ---------\n",
    "\n",
    "Dobbiamo andare a comprare gli ingredienti e dobbiamo capire quanti \"**cappero**\", \"**oliva**\" e \"**pepe**\" comprare. Di pasta e altri ingredienti ne abbiamo già in quantità, quindi non ci interessano."
   ]
  },
  {
   "attachments": {},
   "cell_type": "markdown",
   "metadata": {},
   "source": [
    "## Analisi\n",
    "\n",
    "### Stringa della ricetta\n",
    "Es:\n",
    "```python\n",
    "\"oliva\\t, pepe,cappero ,\\n detersivo,\\t \\n cappero, peperone, acciuga ,oliva , pepe\\t,\\t cappero , \\noliva,pasta\\n\"\n",
    "```\n",
    "\n",
    "### Parole (intere) da contare\n",
    "- `oliva`\n",
    "- `pepe`\n",
    "- `cappero`\n",
    "\n",
    "### Caratteri da non considerare\n",
    "```python\n",
    "[' ', ',', '\\t', '\\n']\n",
    "```\n",
    "\n",
    "###  Pseudocodice:\n",
    "\n",
    "<pre>\n",
    "- inizializzo un dizionario come contenitore per il \"report\" dei conteggi;\n",
    "- creo già le chiavi che mi serviranno nel dizionario e le inizializzo a 0\n",
    "- per ciascuna parola/key del dizionario:\n",
    "    - uso re.findall() per trovare tutte le occorrenze della parola nel testo;\n",
    "    - conto quanti occorrenze (match) sono state trovate e lo scrivo nel dizionario\n",
    "- stampa titolo report;\n",
    "- per ciascuna chiave (parola pulita) nel dizionario con i conteggi:\n",
    "    - stampa quantità + parola;\n",
    "</pre>"
   ]
  },
  {
   "cell_type": "code",
   "execution_count": 68,
   "metadata": {},
   "outputs": [],
   "source": [
    "ricetta_orig = \"oliva\\t, pepe,cappero ,\\n detersivo,\\t \\n cappero, peperone, acciuga ,oliva , pepe\\t,\\t cappero , \\noliva,pasta\\n\"\n",
    "# ricetta_orig = \"oliva\\t, pepe,cappero ,\\n dete\\nrsivo,\\t \\n cappero, peperone, acciuga ,oliva , pepe\\t,\\t cappero , \\noliva,pasta\\n\"\n",
    "# ricetta_orig = \"cappone , pepe,\\noliva\\n,\\n\\tpepe, acciuga \"   #  1 oliva 2 pepe 0 cappero\n",
    "\n",
    "# scrivi qui\n"
   ]
  },
  {
   "cell_type": "code",
   "execution_count": 16,
   "metadata": {},
   "outputs": [
    {
     "name": "stdout",
     "output_type": "stream",
     "text": [
      "{'oliva': 3, 'pepe': 2, 'cappero': 3}\n",
      "Servono:\n",
      "\t 3 oliva\n",
      "\t 2 pepe\n",
      "\t 3 cappero\n"
     ]
    }
   ],
   "source": [
    "import re\n",
    "\n",
    "ricetta_orig = \"oliva\\t, pepe,cappero ,\\n detersivo,\\t \\n cappero, peperone, acciuga ,oliva , pepe\\t,\\t cappero , \\noliva,pasta\\n\"\n",
    "# ricetta_orig = \"oliva\\t, pepe,cappero ,\\n dete\\nrsivo,\\t \\n cappero, peperone, acciuga ,oliva , pepe\\t,\\t cappero , \\noliva,pasta\\n\"\n",
    "# ricetta_orig = \"cappone , pepe,\\noliva\\n,\\n\\tpepe, acciuga \"   #  1 oliva 2 pepe 0 cappero\n",
    "\n",
    "ricetta_dict = {\n",
    "    'oliva': 0,\n",
    "    'pepe': 0,\n",
    "    'cappero': 0,\n",
    "}\n",
    "\n",
    "for parola in ricetta_dict:\n",
    "    find_parola = re.findall(r'\\b'+parola+r'\\b', ricetta_orig)\n",
    "    ricetta_dict[parola] = len(find_parola)\n",
    "\n",
    "print(ricetta_dict)\n",
    "print('Servono:')\n",
    "\n",
    "for key in ricetta_dict:\n",
    "    print('\\t', ricetta_dict[key], key)"
   ]
  },
  {
   "attachments": {},
   "cell_type": "markdown",
   "metadata": {},
   "source": [
    "### Inizializzare un dizionario in modo dinamico a partire da una lista di chiavi"
   ]
  },
  {
   "cell_type": "code",
   "execution_count": 10,
   "metadata": {},
   "outputs": [
    {
     "name": "stdout",
     "output_type": "stream",
     "text": [
      "{'oliva': 0, 'pepe': 0, 'cappero': 0}\n"
     ]
    }
   ],
   "source": [
    "da_comprare_list = ['oliva', 'pepe', 'cappero']\n",
    "\n",
    "da_comprare_dict = {}\n",
    "for parola in da_comprare_list:\n",
    "    da_comprare_dict[parola] = 0\n",
    "    # da_comprare_dict.update({parola: 0})\n",
    "\n",
    "print(da_comprare_dict)"
   ]
  },
  {
   "cell_type": "code",
   "execution_count": 11,
   "metadata": {},
   "outputs": [
    {
     "name": "stdout",
     "output_type": "stream",
     "text": [
      "{'oliva': 0, 'pepe': 0, 'cappero': 0}\n"
     ]
    }
   ],
   "source": [
    "da_comprare_list = ['oliva', 'pepe', 'cappero']\n",
    "\n",
    "da_comprare_dict = {parola: 0 for parola in da_comprare_list}\n",
    "\n",
    "print(da_comprare_dict)"
   ]
  }
 ],
 "metadata": {
  "kernelspec": {
   "display_name": ".venv",
   "language": "python",
   "name": "python3"
  },
  "language_info": {
   "codemirror_mode": {
    "name": "ipython",
    "version": 3
   },
   "file_extension": ".py",
   "mimetype": "text/x-python",
   "name": "python",
   "nbconvert_exporter": "python",
   "pygments_lexer": "ipython3",
   "version": "3.11.2"
  },
  "orig_nbformat": 4
 },
 "nbformat": 4,
 "nbformat_minor": 2
}
