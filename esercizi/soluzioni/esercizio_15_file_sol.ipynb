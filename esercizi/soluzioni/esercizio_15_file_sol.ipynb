{
 "cells": [
  {
   "attachments": {},
   "cell_type": "markdown",
   "metadata": {},
   "source": [
    "# Le età dei nostri amici"
   ]
  },
  {
   "attachments": {},
   "cell_type": "markdown",
   "metadata": {},
   "source": [
    "Requisiti: `import`, `with ... as`, `open`, `dict`"
   ]
  },
  {
   "attachments": {},
   "cell_type": "markdown",
   "metadata": {},
   "source": [
    "E’ dato un file `nomi_data_nascita.txt` nella cartella `/files_esercizi` del nostro repository. Il file è caratterizzato dal seguente formato rappresentante delle coppie nome/età. Per esempio:\n",
    "\n",
    "```python\n",
    "Ada: 1999\n",
    "Pippo: 1980\n",
    "Felice: 1976\n",
    "Geronima: 1999\n",
    "...\n",
    "```\n",
    "\n",
    "Leggi tutto il file creando un dizionario (`dict`) le cui chiavi sono corrispondono all’età della persona alla data attuale. A ciascuna età deve essere associata una lista con i nomi di persone che hanno quell’età.\n",
    "\n",
    "```python\n",
    "{19: [‘Ada’, ‘Ciccio’], 23: [‘Pippo’], 32: [‘Felice’], 40: [‘Geronima’]}\n",
    "```"
   ]
  },
  {
   "cell_type": "markdown",
   "metadata": {},
   "source": [
    "# --------- Soluzioni ---------"
   ]
  },
  {
   "attachments": {},
   "cell_type": "markdown",
   "metadata": {},
   "source": [
    "## Creiamo un dizionario di report"
   ]
  },
  {
   "cell_type": "code",
   "execution_count": 2,
   "metadata": {},
   "outputs": [
    {
     "name": "stdout",
     "output_type": "stream",
     "text": [
      "{24: ['Ada', 'Geronima', 'Roberto'], 43: ['Pippo', 'Ciccio'], 47: ['Felice', 'Mimmo'], 51: ['Luca', 'Pluto'], 100: ['Totò']}\n",
      "dict_items([(24, ['Ada', 'Geronima', 'Roberto']), (43, ['Pippo', 'Ciccio']), (47, ['Felice', 'Mimmo']), (51, ['Luca', 'Pluto']), (100, ['Totò'])])\n"
     ]
    }
   ],
   "source": [
    "from datetime import date                   # importo l'oggetto date dal modulo datetime\n",
    "\n",
    "anno_corrente = date.today().year           # ottengo l'anno corrente\n",
    "res_dict = {}                               # inizializzo il dizionario\n",
    "\n",
    "with open('../../files_esercizi/nomi_data_nascita.txt', 'r',\n",
    "          encoding='utf-8') as file:        # apro in lettura\n",
    "    \n",
    "    linea = file.readline()                 # leggo la prima riga\n",
    "\n",
    "    while linea != '':                      # finché il file non è finito\n",
    "        linea = linea.split()               # divido la riga in due usando il separatore\n",
    "                                            #    di defalut e metto i pezzi in una lista\n",
    "        anno_nascita = int(linea[1])        # converto il secondo elemento in integer\n",
    "        eta = anno_corrente - anno_nascita  # calcolo l'età della persona\n",
    "        nome = linea[0].replace(':', '')    # ottengo il nome \"pulito\"\n",
    "        if eta in res_dict:                 # se l’età è già presente\n",
    "            res_dict[eta] += [nome]         # aggiungo il nome alla lista\n",
    "        else:                               # altrimenti\n",
    "            res_dict[eta] = [nome]          # creo una lista popolata già con un primo elemento\n",
    "        linea = file.readline()             # leggo una nuova riga\n",
    "                                            # (ora il ciclo while riparte e ricontrolla linea)\n",
    "\n",
    "print(res_dict)\n",
    "\n",
    "print(res_dict.items())"
   ]
  },
  {
   "attachments": {},
   "cell_type": "markdown",
   "metadata": {},
   "source": [
    "## Convertiamo i dati in formato CSV"
   ]
  },
  {
   "attachments": {},
   "cell_type": "markdown",
   "metadata": {},
   "source": [
    "Ora, riesci a scriverle in un file nuovo, mantenendo il seguente formato?\n",
    "\n",
    "```python\n",
    "Nome,Età\n",
    "Ada,24\n",
    "Geronima,24\n",
    "Roberto,24\n",
    "Pippo,43\n",
    "Ciccio,43\n",
    "...\n",
    "```"
   ]
  },
  {
   "attachments": {},
   "cell_type": "markdown",
   "metadata": {},
   "source": [
    "Prova a scrivere un nuovo file `nomi_eta.csv` nella cartella `/files_esercizi` del nostro repository.\n",
    "\n",
    "Normalmente i file `.csv` hanno la prima linea dedicata alle \"intestazioni di colonna\". In questo caso nella prima riga del file dovremmo avere `Nome,Età`."
   ]
  },
  {
   "cell_type": "code",
   "execution_count": 2,
   "metadata": {},
   "outputs": [],
   "source": [
    "with open('../../files_esercizi/nomi_eta.csv', 'w',\n",
    "          encoding='utf-8') as file_out:                  # apro in scrittura\n",
    "    file_out.write('Nome,Età\\n')                          # scrivo la prima riga di intestazione\n",
    "    for key in res_dict:                                  # per ciascuna chiave del res_dict creato prima\n",
    "        for nome in res_dict[key]:                        # per ciascun nome nella lista corrispondente\n",
    "            file_out.write(nome + ',' + str(key) + '\\n')  # scrive i due\n"
   ]
  },
  {
   "attachments": {},
   "cell_type": "markdown",
   "metadata": {},
   "source": [
    "## Creaiamo uno script"
   ]
  },
  {
   "attachments": {},
   "cell_type": "markdown",
   "metadata": {},
   "source": [
    "Per finire, riusciresti a creare uno script che prende in ingresso due parametri, il file di origine `nomi_data_nascita.txt` e il file di output `nomi_eta.csv` e che esegue le conversione creando il file di output?\n",
    "\n",
    "Per lanciare il nostro script, immaginando di trovarci nella cartella `/files_esercizi`, dovremmo poter lanciare un comando come il seguente:\n",
    "\n",
    "```shell\n",
    "$ py converti_nomi_nascita.py nomi_data_nascita.txt nomi_eta.csv\n",
    "```"
   ]
  },
  {
   "attachments": {},
   "cell_type": "markdown",
   "metadata": {},
   "source": [
    "Crea un nuovo file e chiamalo `converti_nomi_nascita.py` e salvalo dove preferisci, per esempio nella tua cartella `/personale` che dovresti avrere sul tuo branch del nostro repository.\n",
    "\n",
    "Ricorda che poi i percorsi ai file devono essere compatibili con la posizione in cui eseguirai lo script, dove tu ti trovi e dove si trova il file da convertire. Prova varie combinazioni, e vedi cosa succede e dove viene generato il file di output."
   ]
  },
  {
   "attachments": {},
   "cell_type": "markdown",
   "metadata": {},
   "source": [
    "Questa potrebbe essere una possibile struttura di base. Il file [`converti_nomi_nascita.py`](./converti_nomi_nascita.py) nella cartella `/esercizi/soluzioni/` offre una possibile implementazione."
   ]
  },
  {
   "cell_type": "code",
   "execution_count": 3,
   "metadata": {},
   "outputs": [],
   "source": [
    "from os import path\n",
    "from datetime import date   # importo l'oggetto date dal modulo datetime\n",
    "\n",
    "file_input = '../../files_esercizi/nomi_data_nascita.txt'\n",
    "file_output = '../../files_esercizi/nomi_eta.csv'\n",
    "modalita = 'w'\n",
    "\n",
    "def file_to_dict(file_path, anno_calcolo=date.today().year):\n",
    "    res_dict = {}                               # inizializzo il dizionario\n",
    "\n",
    "    with open(file_path, 'r', encoding='utf-8') as file:  # apro in lettura\n",
    "        \n",
    "        linea = file.readline()                 # leggo la prima riga\n",
    "\n",
    "        while linea != '':                      # finché il file non è finito\n",
    "            linea = linea.split()               # divido la riga in due usando il separatore\n",
    "                                                #    di defalut e metto i \"pezzi\" in una lista\n",
    "            anno_nascita = int(linea[1])        # converto il secondo elemento in integer\n",
    "            eta = anno_calcolo - anno_nascita   # calcolo l'età della persona\n",
    "            nome = linea[0].replace(':', '')    # ottengo il nome \"pulito\"\n",
    "            if eta in res_dict:                 # se l’età è già presente\n",
    "                res_dict[eta] += [nome]         # aggiungo il nome alla lista\n",
    "            else:                               # altrimenti\n",
    "                res_dict[eta] = [nome]          # creo una lista popolata già con un primo elemento\n",
    "            linea = file.readline()             # leggo una nuova riga\n",
    "                                                # (ora il ciclo while riparte e ricontrolla linea)\n",
    "    return res_dict                             # restituisce il dizionario creato\n",
    "\n",
    "\n",
    "def dict_to_csv(file_path, in_dict, mode):\n",
    "    if mode in [None, 'w', 'a']:               # se è stato passato un valore di mode consentito previsto\n",
    "        if mode is None:                       # se il mode non è indicato\n",
    "            if path.exists(file_path):         # se il file esiste già\n",
    "                raise FileExistsError(         # solleva un errore\n",
    "                    f'Il file \"{path.abspath(file_path)}\" è già esistente.')\n",
    "            else:                              # altrimenti usa la modalità 'w'\n",
    "                mode = 'w'\n",
    "    else:                                      # altrimenti\n",
    "        raise ValueError(                      # solleva un errore\n",
    "            'Il parametro \"write_mode\" della funzione dict_to_csv() '\n",
    "            f'può essere solo \"None\", \"w\" o \"a\" invece è stato passato \"{mode}\".')\n",
    "    \n",
    "    with open(file_path, mode, encoding='utf-8') as file_out:  # apro con il mode indicato\n",
    "        if mode == 'w':                                        # se la mode passata è 'w'\n",
    "            file_out.write('Nome,Età\\n')                       # scrive la prima riga di intestazione\n",
    "        elif mode == 'a':                                      # se la mode passata è 'a'\n",
    "            if not path.exists(file_path):                     # se il percorso file non esiste\n",
    "                file_out.write('Nome,Età\\n')                   # scrive la prima riga di intestazione\n",
    "            elif not path.isfile(file_path):                   # se il percorso esiste, ma non è un file\n",
    "                raise ValueError(                              # solleva un errore\n",
    "                    f'Il percorso indicato \"{path.abspath(file_path)}\" non è un file. '\n",
    "                    'Non è possibile appendere del contenuto a un oggetto che non è un file.')\n",
    "        for key in in_dict:                                    # per ciascuna chiave del in_dict creato prima\n",
    "            for nome in in_dict[key]:                          # per ciascun nome nella lista corrispondente\n",
    "                file_out.write(nome + ',' + str(key) + '\\n')   # scrive la riga contente la coppia nome,età\n",
    "\n",
    "res_dict = file_to_dict(file_input)           # converte il file di input in un dizionario\n",
    "dict_to_csv(file_output, res_dict, modalita)  # scrive il file CSV a partire da l dizionario"
   ]
  },
  {
   "cell_type": "code",
   "execution_count": null,
   "metadata": {},
   "outputs": [],
   "source": [
    "from os import path\n",
    "from datetime import date   # importo l'oggetto date dal modulo datetime\n",
    "\n",
    "file_input = '../../files_esercizi/nomi_data_nascita.txt'\n",
    "file_output = '../../files_esercizi/nomi_eta.csv'\n",
    "modalita = 'w'\n",
    "\n",
    "def file_to_dict(file_path_in, file_path_out, anno_calcolo=date.today().year):\n",
    "\n",
    "    with (open(file_path_in, 'r', encoding='utf-8') as file_in,\n",
    "        open(file_path_out, modalita, encoding='utf-8') as file_out):  # apro in lettura\n",
    "        \n",
    "        linea = file.readline()                 # leggo la prima riga\n",
    "\n",
    "        while linea != '':                      # finché il file non è finito\n",
    "            linea = linea.split()               # divido la riga in due usando il separatore\n",
    "                                                #    di defalut e metto i \"pezzi\" in una lista\n",
    "            anno_nascita = int(linea[1])        # converto il secondo elemento in integer\n",
    "            eta = anno_calcolo - anno_nascita   # calcolo l'età della persona\n",
    "            nome = linea[0].replace(':', '')    # ottengo il nome \"pulito\"\n",
    "            \n",
    "            linea = file.readline()             # leggo una nuova riga\n",
    "                                                # (ora il ciclo while riparte e ricontrolla linea)\n",
    "     "
   ]
  }
 ],
 "metadata": {
  "kernelspec": {
   "display_name": ".venv",
   "language": "python",
   "name": "python3"
  },
  "language_info": {
   "codemirror_mode": {
    "name": "ipython",
    "version": 3
   },
   "file_extension": ".py",
   "mimetype": "text/x-python",
   "name": "python",
   "nbconvert_exporter": "python",
   "pygments_lexer": "ipython3",
   "version": "3.11.2"
  },
  "orig_nbformat": 4
 },
 "nbformat": 4,
 "nbformat_minor": 2
}
