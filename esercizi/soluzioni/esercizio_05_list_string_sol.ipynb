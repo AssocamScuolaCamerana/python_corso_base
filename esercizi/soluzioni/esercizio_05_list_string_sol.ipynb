{
 "cells": [
  {
   "attachments": {},
   "cell_type": "markdown",
   "metadata": {},
   "source": [
    "## Esercizio - Psycho Circus\n",
    "\n",
    "Requisiti: split o slice\n",
    "\n",
    "Nella variabile `kiss_album` è contenuta la lista delle tracce dell'album _Psycho Circus_ pubblicato nel 1998 dai KISS, una band di gentlemen del glam rock. La variabile è una stringa multilinea (aperta come si vede tramite tre `\"\"\"` e chiusa nello stesso modo).\n",
    "\n",
    "In ogni riga della stringa è presente del testo, il titolo della canzone, e una serie di `_` in modo da rendere tutte le righe della stessa lunghezza.\n",
    "\n",
    "```python\n",
    "#La lunghezza di ogni riga\n",
    "lunghezza_etichetta = 48\n",
    "\n",
    "# Il database contenente le canzoni\n",
    "kiss_album = \"\"\"Psycho Circus _________________________________\n",
    "Within ________________________________________\n",
    "I Pledge Allegiance to the State of Rock & Roll\n",
    "Into the Void _________________________________\n",
    "We Are One ____________________________________\n",
    "You Wanted the Best ___________________________\n",
    "Raise Your Glasses ____________________________\n",
    "I Finally Found My Way_________________________\n",
    "Dreamin _______________________________________\n",
    "Journey of 1,000 Years ________________________\"\"\"\n",
    "```\n",
    "\n",
    "Stiamo programmando il controllore di uno stereo e dato il suo numero  `num_canzone` nell'album, vogliamo STAMPARE numero e titolo. \n",
    "\n",
    "Per esempio, se riceviamo `num_canzone = 3` dobbiamo stampare:\n",
    "\n",
    "```\n",
    "numero canzone: 4\n",
    "Into the Void _________________________________\n",
    "```\n",
    "\n",
    "**NOTA**: alla fine di ogni riga di `kiss_album`, c'è un carattere speciale, giusto? :) "
   ]
  },
  {
   "cell_type": "markdown",
   "metadata": {},
   "source": [
    "## Tuo svolgimento"
   ]
  },
  {
   "cell_type": "code",
   "execution_count": null,
   "metadata": {},
   "outputs": [],
   "source": [
    "LUNGHEZZA_ETICHETTA = 48\n",
    "\n",
    "num_canzone = 4      #  Into the Void _________________________________\n",
    "# num_canzone = 10   #  Journey of 1,000 Years ________________________\n",
    "\n",
    "kiss_album = \"\"\"Psycho Circus _________________________________\n",
    "Within ________________________________________\n",
    "I Pledge Allegiance to the State of Rock & Roll\n",
    "Into the Void _________________________________\n",
    "We Are One ____________________________________\n",
    "You Wanted the Best ___________________________\n",
    "Raise Your Glasses ____________________________\n",
    "I Finally Found My Way_________________________\n",
    "Dreamin _______________________________________\n",
    "Journey of 1,000 Years ________________________\"\"\"\n",
    "\n",
    "# scrivi qui"
   ]
  },
  {
   "cell_type": "markdown",
   "metadata": {},
   "source": [
    "# --------- Soluzioni ---------"
   ]
  },
  {
   "attachments": {},
   "cell_type": "markdown",
   "metadata": {},
   "source": [
    "## Analisi\n",
    "\n",
    "### Stringa album\n",
    "Es. estratto:\n",
    "```python\n",
    "\"\"\"Psycho Circus _________________________________\n",
    "Within ________________________________________\n",
    "I Pledge Allegiance to the State of Rock & Roll\"\"\"\n",
    "```\n",
    "\n",
    "### Lunghezza riga\n",
    "```python\n",
    "48 -> 47 + 1 \\n\n",
    "ultima riga: 47\n",
    "```\n",
    "\n",
    "### Separatore righe\n",
    "```python\n",
    "['\\n']\n",
    "```\n",
    "\n",
    "###  Pseudocodice:\n",
    "\n",
    "<pre>\n",
    "- leggo un numero inserito dall'utente e lo converto in integer;\n",
    "- creo una lista dividendo la stringa con le canzoni ad ogni carattere \\n;\n",
    "- ottengo la lunghezza della lista;\n",
    "- se l'input è compreso tra 1 e la lunghezza della lista (compresi);\n",
    "    - ottengo il nome della canzone estraendo dalla lista l'elemento con l'indice uguale al numero inserito dall'utente meno 1;\n",
    "    - stampo il numero della canzone inserito dall'utente;\n",
    "    - stampo il nome della canzone;\n",
    "- altrimenti (se l'input è fuori da questo range):\n",
    "    - avviso l'utente che il numero deve essere compreso tra 1 e la lunghezza della lista;\n",
    "</pre>"
   ]
  },
  {
   "attachments": {},
   "cell_type": "markdown",
   "metadata": {},
   "source": [
    "Questo esercisio può"
   ]
  },
  {
   "attachments": {},
   "cell_type": "markdown",
   "metadata": {},
   "source": [
    "### Modo `str.split()` e `list`"
   ]
  },
  {
   "cell_type": "code",
   "execution_count": 8,
   "metadata": {},
   "outputs": [
    {
     "name": "stdout",
     "output_type": "stream",
     "text": [
      "numero canzone: 5\n",
      "We Are One ____________________________________\n"
     ]
    }
   ],
   "source": [
    "# LUNGHEZZA_ETICHETTA = 48\n",
    "\n",
    "kiss_album = \"\"\"Psycho Circus _________________________________\n",
    "Within ________________________________________\n",
    "I Pledge Allegiance to the State of Rock & Roll\n",
    "Into the Void _________________________________\n",
    "We Are One ____________________________________\n",
    "You Wanted the Best ___________________________\n",
    "Raise Your Glasses ____________________________\n",
    "I Finally Found My Way_________________________\n",
    "Dreamin _______________________________________\n",
    "Journey of 1,000 Years ________________________\"\"\"\n",
    "\n",
    "# num_canzone = 4    #  Into the Void _________________________________\n",
    "# num_canzone = 10   #  Journey of 1,000 Years ________________________\n",
    "num_canzone = int(input('Inserire il numero della canzone:'))  # leggo un numero inserito dall'utente e lo converto in integer;\n",
    "\n",
    "lista_canzoni = kiss_album.split('\\n')               # creo una lista dividendo la stringa con le canzoni ad ogni carattere \\n;\n",
    "qta_canzoni = len(lista_canzoni)                     # ottengo la lunghezza della lista;\n",
    "\n",
    "if 1 <= num_canzone and num_canzone <= qta_canzoni:  # se l'input è maggiore o uguale a 1 e minore o uguale alla lunghezza della lista;\n",
    "# if 1 <= num_canzone <= qta_canzoni:                # se l'input è compreso tra 1 e la lunghezza della lista (compresi);\n",
    "# if (num_canzone - 1) in range(qta_canzoni):        # se l'input meno 1 è nel range che va da 0 alla lunghezza della lista meno 1;\n",
    "    nome_canzone = lista_canzoni[num_canzone - 1]    # ottengo il nome della canzone estraendo dalla lista l'elemento con l'indice uguale\n",
    "                                                     #   al numero inserito dall'utente meno 1;\n",
    "    print('numero canzone:', num_canzone)            # stampo il numero della canzone inserito dall'utente;\n",
    "    print(nome_canzone)                              # stampo il nome della canzone;\n",
    "else:                                                # altrimenti (se l'input è fuori da questo range):\n",
    "    print('Si prega di inserire un numero tra 1 e', qta_canzoni)  # avviso l'utente che il numero deve essere compreso tra 1 e la lunghezza della lista;"
   ]
  },
  {
   "attachments": {},
   "cell_type": "markdown",
   "metadata": {},
   "source": [
    "### Modo `str.split()` e `dict`"
   ]
  },
  {
   "cell_type": "code",
   "execution_count": 1,
   "metadata": {},
   "outputs": [
    {
     "name": "stdout",
     "output_type": "stream",
     "text": [
      "numero canzone: 5\n",
      "We Are One ____________________________________\n"
     ]
    }
   ],
   "source": [
    "# LUNGHEZZA_ETICHETTA = 48\n",
    "\n",
    "kiss_album = \"\"\"Psycho Circus _________________________________\n",
    "Within ________________________________________\n",
    "I Pledge Allegiance to the State of Rock & Roll\n",
    "Into the Void _________________________________\n",
    "We Are One ____________________________________\n",
    "You Wanted the Best ___________________________\n",
    "Raise Your Glasses ____________________________\n",
    "I Finally Found My Way_________________________\n",
    "Dreamin _______________________________________\n",
    "Journey of 1,000 Years ________________________\"\"\"\n",
    "\n",
    "# num_canzone = 4    #  Into the Void _________________________________\n",
    "# num_canzone = 10   #  Journey of 1,000 Years ________________________\n",
    "num_canzone = int(input('Inserire il numero della canzone:'))\n",
    "\n",
    "lista_canzoni = kiss_album.split('\\n')\n",
    "dict_canzoni = {idx+1: val for idx, val in enumerate(lista_canzoni)}\n",
    "qta_canzoni = len(lista_canzoni)\n",
    "\n",
    "if num_canzone in dict_canzoni:\n",
    "    nome_canzone = dict_canzoni[num_canzone]\n",
    "    print('numero canzone:', num_canzone)\n",
    "    print(nome_canzone)\n",
    "else:\n",
    "    print('Si prega di inserire un numero tra 1 e', qta_canzoni)"
   ]
  },
  {
   "attachments": {},
   "cell_type": "markdown",
   "metadata": {},
   "source": [
    "### Modo slice"
   ]
  },
  {
   "attachments": {},
   "cell_type": "markdown",
   "metadata": {},
   "source": [
    "Dato che le nostre righe hanno tutte la stessa lunghezza, ovvero 48 caratteri, possiamo utilizzare il cosiddetto \"slice\". In realtà ogni riga ha 47 caratteri più una `\\n` al fondo di ciascuna riga.\n",
    "\n",
    "Per esempio, se volessimo \"estrarre\" manualmente ciascuna riga, potremmo scrivere questo:\n",
    "\n",
    "```python\n",
    "nome_canzone = kiss_album[0:48]\n",
    "nome_canzone = kiss_album[48:96]\n",
    "nome_canzone = kiss_album[96:144]\n",
    "nome_canzone = kiss_album[144:192]\n",
    "nome_canzone = kiss_album[192:240]\n",
    "...\n",
    "nome_canzone = kiss_album[432:480]\n",
    "```\n",
    "\n",
    "Ricoda che lo slice funziona così: `mia_sequenza[<start>:<stop>]`, dove `<start>` e `<stop>` sono rispettivamente l'indice di inizio e fine della sotto-sequenza che vogliamo estrarre. Ricorda anche che effettivamente, l'ultimo elemento della sotto-sequenza avrà indice `<stop> - 1`, vale a dire che `mia_sequenza[0:48]` estrarrà gli elementi da `0` a `47`, per un totale di 48 elementi.\n",
    "\n",
    "Considera anche che ogni riga finisce con un carattere `\\n` eccetto l'ultima."
   ]
  },
  {
   "cell_type": "code",
   "execution_count": 44,
   "metadata": {},
   "outputs": [
    {
     "name": "stdout",
     "output_type": "stream",
     "text": [
      "numero canzone: 3\n",
      "I Pledge Allegiance to the State of Rock & Roll\n",
      "\n",
      "48\n"
     ]
    }
   ],
   "source": [
    "LUNGHEZZA_ETICHETTA = 48  # 47 caratteri + 1 \\n\n",
    "\n",
    "kiss_album = \"\"\"Psycho Circus _________________________________\n",
    "Within ________________________________________\n",
    "I Pledge Allegiance to the State of Rock & Roll\n",
    "Into the Void _________________________________\n",
    "We Are One ____________________________________\n",
    "You Wanted the Best ___________________________\n",
    "Raise Your Glasses ____________________________\n",
    "I Finally Found My Way_________________________\n",
    "Dreamin _______________________________________\n",
    "Journey of 1,000 Years ________________________\"\"\"\n",
    "\n",
    "# num_canzone = 4      #  Into the Void _________________________________\n",
    "# num_canzone = 10     #  Journey of 1,000 Years ________________________\n",
    "\n",
    "num_canzone = int(input('Inserire il numero della canzone:'))\n",
    "\n",
    "qta_canzoni = (len(kiss_album) + 1) / 48  # il + 1 è perché l'ultima sono 47 caratteri\n",
    "\n",
    "if 0 < num_canzone <= qta_canzoni:\n",
    "\n",
    "    start = LUNGHEZZA_ETICHETTA * (num_canzone - 1)\n",
    "    stop = LUNGHEZZA_ETICHETTA * num_canzone  # Per evitare di stampare anche il \\n al fondo della riga, si potrebbe\n",
    "                                              # ancora sottrarre 1. Ricorda che l'ultima riga non termina con \\n.\n",
    "\n",
    "    nome_canzone = kiss_album[start:stop]\n",
    "\n",
    "    print('numero canzone:', num_canzone)\n",
    "    print(nome_canzone)\n",
    "    print(len(nome_canzone))\n",
    "else:\n",
    "    print('Si prega di inserire un numero tra 1 e', qta_canzoni)"
   ]
  }
 ],
 "metadata": {
  "kernelspec": {
   "display_name": ".venv",
   "language": "python",
   "name": "python3"
  },
  "language_info": {
   "codemirror_mode": {
    "name": "ipython",
    "version": 3
   },
   "file_extension": ".py",
   "mimetype": "text/x-python",
   "name": "python",
   "nbconvert_exporter": "python",
   "pygments_lexer": "ipython3",
   "version": "3.11.2"
  },
  "orig_nbformat": 4
 },
 "nbformat": 4,
 "nbformat_minor": 2
}
