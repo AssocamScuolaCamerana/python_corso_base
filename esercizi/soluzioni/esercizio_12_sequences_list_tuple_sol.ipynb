{
 "cells": [
  {
   "attachments": {},
   "cell_type": "markdown",
   "metadata": {},
   "source": [
    "## Esercizio - Elettromania\n",
    "\n",
    "Produrre una sequenza con tutti i nomi dei componenti con più di 4 pezzi\n",
    "\n",
    "- **NON USARE** cicli `for` o `while`\n",
    "- **USA UNA** sola list comprehension\n",
    "- il tuo codice deve stare in una riga sola\n",
    "\n",
    "INPUT: `[('condensatore', 8), ('resistenza',4), ('led',5), ('diodo',1), ('trasduttore',2), \n",
    "         ('transistor',12) , ('sensore',3),('solenoide',10)]`\n",
    "\n",
    "OUTPUT: `['condensatore', 'led', 'transistor' 'solenoide']`\n"
   ]
  },
  {
   "cell_type": "markdown",
   "metadata": {},
   "source": [
    "## Tuo svolgimento"
   ]
  },
  {
   "cell_type": "code",
   "execution_count": null,
   "metadata": {},
   "outputs": [],
   "source": [
    "circuito = [('condensatore', 8), ('resistenza',4), ('led',5), ('diodo',1), ('trasduttore',2),\n",
    "            ('transistor',12) , ('sensore',3),('solenoide',10)]\n",
    "\n",
    "# scrivi qui\n"
   ]
  },
  {
   "cell_type": "markdown",
   "metadata": {},
   "source": [
    "# --------- Soluzioni ---------"
   ]
  },
  {
   "attachments": {},
   "cell_type": "markdown",
   "metadata": {},
   "source": [
    "###  Pseudocodice:\n",
    "\n",
    "<pre>\n",
    "- creo una lista contenitore;\n",
    "- per ciascuna elemento (tupla) della lista \"circuito\";\n",
    "- se il secondo elemento della tupla è maggiore di 4:\n",
    "    - mette il primo elemento della tupla nella lista contenitore.\n",
    "</pre>"
   ]
  },
  {
   "attachments": {},
   "cell_type": "markdown",
   "metadata": {},
   "source": [
    "## Modo compatto: list comprehension con filtro"
   ]
  },
  {
   "cell_type": "code",
   "execution_count": 2,
   "metadata": {},
   "outputs": [
    {
     "data": {
      "text/plain": [
       "['condensatore', 'led', 'transistor', 'solenoide']"
      ]
     },
     "execution_count": 2,
     "metadata": {},
     "output_type": "execute_result"
    }
   ],
   "source": [
    "circuito = [('condensatore', 8), ('resistenza',4), ('led',5), ('diodo',1), ('trasduttore',2),\n",
    "            ('transistor',12) , ('sensore',3),('solenoide',10)]\n",
    "\n",
    "[circ[0] for circ in circuito if circ[1] > 4]"
   ]
  },
  {
   "cell_type": "markdown",
   "metadata": {},
   "source": [
    "## Modo esteso: container e ciclo `for`"
   ]
  },
  {
   "cell_type": "code",
   "execution_count": 1,
   "metadata": {},
   "outputs": [
    {
     "name": "stdout",
     "output_type": "stream",
     "text": [
      "['condensatore', 'led', 'transistor', 'solenoide']\n"
     ]
    }
   ],
   "source": [
    "circuito = [('condensatore', 8), ('resistenza',4), ('led',5), ('diodo',1), ('trasduttore',2),\n",
    "            ('transistor',12) , ('sensore',3),('solenoide',10)]\n",
    "\n",
    "report_list = []\n",
    "for circ in circuito:\n",
    "    if circ[1] > 4:\n",
    "        report_list.append(circ[0])\n",
    "\n",
    "print(report_list)"
   ]
  }
 ],
 "metadata": {
  "kernelspec": {
   "display_name": ".venv",
   "language": "python",
   "name": "python3"
  },
  "language_info": {
   "codemirror_mode": {
    "name": "ipython",
    "version": 3
   },
   "file_extension": ".py",
   "mimetype": "text/x-python",
   "name": "python",
   "nbconvert_exporter": "python",
   "pygments_lexer": "ipython3",
   "version": "3.11.2"
  },
  "orig_nbformat": 4
 },
 "nbformat": 4,
 "nbformat_minor": 2
}
