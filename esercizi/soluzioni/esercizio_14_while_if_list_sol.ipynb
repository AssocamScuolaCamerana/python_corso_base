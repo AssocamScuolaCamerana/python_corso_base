{
 "cells": [
  {
   "attachments": {},
   "cell_type": "markdown",
   "metadata": {},
   "source": [
    "## Esercizio - Il Dungeon\n",
    "\n",
    "Requisiti: `while`, `if`, `liste`\n",
    "\n",
    "Un cavaliere si inoltra in una caverna alla ricerca di oggetti preziosi. Appena trova quello che sta cercando, esulta e torna indietro. \n",
    "\n",
    "Rappresentiamo la `caverna` come una lista di stringhe. L'oggetto da cercare è indicato nella variabile `cerco`. \n",
    "\n",
    "Scrivi del codice che date le voci STAMPA il percorso.\n",
    "\n",
    "- **USA** un  `while`\n",
    "- **NON USARE** `break` !!\n",
    "- **NON USARE** metodi di ricerca come `.index` o `count`"
   ]
  },
  {
   "cell_type": "markdown",
   "metadata": {},
   "source": [
    "**Esempio 1** - Dati:\n",
    "\n",
    "```python\n",
    "cerco = 'il tesoro'\n",
    "caverna = ['un masso','una trappola','delle spade',\n",
    "           'il tesoro','una ragnatela', 'un boleto delle tombe']\n",
    "\n",
    "```\n",
    "\n",
    "stampa:\n",
    "\n",
    "```    \n",
    "Entro\n",
    "Vedo un masso\n",
    "Vedo una trappola\n",
    "Vedo delle spade\n",
    "Che fortuna! Ho trovato il tesoro\n",
    "Torno indietro!\n",
    "Vedo delle spade\n",
    "Vedo una trappola\n",
    "Vedo un masso\n",
    "Esco\n",
    "```"
   ]
  },
  {
   "cell_type": "markdown",
   "metadata": {},
   "source": [
    "**Esempio 2:** Una lista può anche *non* contenere l'oggetto cercato, in tal caso bisognerà  mostrare un messaggio apposito. Per es, dati:\n",
    "\n",
    "```python    \n",
    "cerco = 'il talismano del potere'\n",
    "caverna = ['una trappola','un boleto delle tombe','una ragnatela']\n",
    "```    \n",
    "\n",
    "stampa:\n",
    "\n",
    "```    \n",
    "Entro\n",
    "Vedo una trappola\n",
    "Vedo un boleto delle tombe\n",
    "Vedo una ragnatela\n",
    "Purtroppo il talismano del potere non c'è\n",
    "Torno indietro!\n",
    "Vedo una ragnatela\n",
    "Vedo un boleto delle tombe\n",
    "Vedo una trappola\n",
    "Esco\n",
    "```"
   ]
  },
  {
   "cell_type": "markdown",
   "metadata": {},
   "source": [
    "## Tuo svolgimento"
   ]
  },
  {
   "cell_type": "code",
   "execution_count": null,
   "metadata": {},
   "outputs": [],
   "source": [
    "cerco, caverna = 'il tesoro', ['un masso','una trappola','delle spade','il tesoro','una ragnatela','un boleto delle tombe']\n",
    "# cerco, caverna = 'il talismano del potere', ['una trappola','un boleto delle tombe','una ragnatela']\n",
    "# cerco, caverna = 'la corona di rubini', []                         # funziona anche in questi casi particolari?\n",
    "# cerco, caverna = 'la corona di rubini', ['la corona di rubini','il tesoro']    # \n",
    "# cerco, caverna = 'la corona di rubini', ['il martello di granito'] # \n",
    "\n",
    "# scrivi qui\n"
   ]
  },
  {
   "cell_type": "markdown",
   "metadata": {},
   "source": [
    "# --------- Soluzioni ---------"
   ]
  },
  {
   "attachments": {},
   "cell_type": "markdown",
   "metadata": {},
   "source": [
    "###  Pseudocodice:\n",
    "\n",
    "<pre>\n",
    "- dichiaro che sto entrando;\n",
    "- conto la lunghezza della caverna;\n",
    "- se la lunghezza della caverna è 0:\n",
    "    - esco subito e lo dichiaro;\n",
    "- preparo contatore per tenere traccia della stanza in cui mi trovo;\n",
    "- preparo flag per sapere se sto tornando indietro;\n",
    "- fintanto che sono all'interno della caverna, ovvero fintanto che il contatore della stanza è positivo;    \n",
    "  | -----------------------\n",
    "  | - se ho trovato l'obiettivo:\n",
    "  |     - dichiaro il successo;\n",
    "  |     - prendo nota che devo tornare indietro;\n",
    "  | - se invece non ho trovato quello che stavo cercando:\n",
    "  |     - dichiaro quello che vedo;\n",
    "  |     - se questa era l'ultima stanza:\n",
    "  |         - dichiaro il fallimento;\n",
    "  |         - e prendo nota che devo tornare indietro;\n",
    "  |         - dichiaro di nuovo quello che ho appena visto;\n",
    "  | -----------------------\n",
    "  | - se devo tornare indietro;\n",
    "  |     - decremento il contatore della stanza di 1;\n",
    "  | - altrimenti, se devo andare avanti;\n",
    "  |     - incremento il contatore della stanza di 1;\n",
    "  | -----------------------\n",
    "  | - (ora ricontrollo se siamo ancora all'interno della caverna);\n",
    "- dichiaro che sto uscendo.\n",
    "</pre>"
   ]
  },
  {
   "cell_type": "markdown",
   "metadata": {},
   "source": [
    "## Modo lineare"
   ]
  },
  {
   "cell_type": "code",
   "execution_count": null,
   "metadata": {},
   "outputs": [
    {
     "name": "stdout",
     "output_type": "stream",
     "text": [
      "Entro\n",
      "Vedo un masso\n",
      "Vedo una trappola\n",
      "Vedo delle spade\n",
      "Vedo una ragnatela\n",
      "Vedo un boleto delle tombe\n",
      "Che fortuna! Ho trovato il tesoro\n",
      "Torno indietro!\n",
      "Vedo un boleto delle tombe\n",
      "Vedo una ragnatela\n",
      "Vedo delle spade\n",
      "Vedo una trappola\n",
      "Vedo un masso\n",
      "Esco\n"
     ]
    }
   ],
   "source": [
    "cerco, caverna = 'il tesoro', ['un masso','una trappola','delle spade','il tesoro','una ragnatela','un boleto delle tombe']\n",
    "cerco, caverna = 'il tesoro', ['un masso','una trappola','delle spade','una ragnatela','un boleto delle tombe', 'il tesoro']\n",
    "# cerco, caverna = 'il talismano del potere', ['una trappola','un boleto delle tombe','una ragnatela']\n",
    "# cerco, caverna = 'la corona di rubini', []                         # funziona anche in questi casi particolari?\n",
    "# cerco, caverna = 'la corona di rubini', ['la corona di rubini','il tesoro']\n",
    "# cerco, caverna = 'la corona di rubini', ['il martello di granito']\n",
    "\n",
    "\n",
    "print('Entro')                       # dichiaro che sto entrando\n",
    "\n",
    "len_caverna = len(caverna)           # conto la lunghezza della caverna\n",
    "\n",
    "# se la lunghezza della caverna è 0, esco subito e lo dichiaro\n",
    "if len(caverna) == 0:\n",
    "    print(f\"Purtroppo {cerco} del potere non c'è\")\n",
    "    print('Torno indietro!')\n",
    "\n",
    "idx = 0         # contatore per tenere traccia della stanza in cui mi trovo\n",
    "end = False     # flag per sapere se sto tornando indietro\n",
    "\n",
    "while 0 <= idx:                      # fintanto che sono all'interno della caverna\n",
    "                                     # (fintanto che il contatore della stanza è positivo)\n",
    "    if caverna[idx] == cerco:        # se ho trovato l'obiettivo\n",
    "        print('Che fortuna! Ho trovato', cerco) # dichiaro il successo\n",
    "        print('Torno indietro!')\n",
    "        end = True                   # e prendo nota che devo tornare indietro\n",
    "    else:                            # se invece non ho trovato quello che stavo cercando\n",
    "        print('Vedo', caverna[idx])  # dichiaro quello che vedo\n",
    "        if idx == len(caverna) - 1:  # e se questa era l'ultima stanza\n",
    "            print(f\"Purtroppo {cerco} del potere non c'è\")  # dichiaro il fallimento\n",
    "            print('Torno indietro!')\n",
    "            print('Vedo', caverna[idx])  # dichiaro di nuovo quello che ho appena visto\n",
    "            end = True               # e prendo nota che devo tornare indietro\n",
    "    if end:                          # se devo tornare indietro\n",
    "        idx -= 1                     # decremento il contatore della stanza di 1\n",
    "    else:                            # altrimenti, se devo andare avanti\n",
    "        idx +=1                      # incremento il contatore della stanza di 1\n",
    "                                     # (ora ricontrollo se siamo ancora all'interno della caverna)\n",
    "\n",
    "print('Esco')                        # dichiaro che sto uscendo"
   ]
  },
  {
   "attachments": {},
   "cell_type": "markdown",
   "metadata": {},
   "source": [
    "## Modo procedurale"
   ]
  },
  {
   "cell_type": "code",
   "execution_count": 7,
   "metadata": {},
   "outputs": [
    {
     "name": "stdout",
     "output_type": "stream",
     "text": [
      "Entro\n",
      "Vedo un masso\n",
      "Vedo una trappola\n",
      "Vedo delle spade\n",
      "Che fortuna! Ho trovato il tesoro\n",
      "Torno indietro!\n",
      "Vedo delle spade\n",
      "Vedo una trappola\n",
      "Vedo un masso\n",
      "Esco\n"
     ]
    }
   ],
   "source": [
    "cerco, caverna = 'il tesoro', ['un masso','una trappola','delle spade','il tesoro','una ragnatela','un boleto delle tombe']\n",
    "# cerco, caverna = 'il talismano del potere', ['una trappola','un boleto delle tombe','una ragnatela']\n",
    "# cerco, caverna = 'la corona di rubini', []                         # funziona anche in questi casi particolari?\n",
    "# cerco, caverna = 'la corona di rubini', ['la corona di rubini','il tesoro']    # \n",
    "# cerco, caverna = 'la corona di rubini', ['il martello di granito'] # \n",
    "\n",
    "\n",
    "def dichiara_successo(oggetto):\n",
    "    print('Che fortuna! Ho trovato', oggetto)\n",
    "    print('Torno indietro!')\n",
    "\n",
    "def dichiara_fallimento(oggetto):\n",
    "    print(f\"Purtroppo {oggetto} del potere non c'è\")\n",
    "    print('Torno indietro!')\n",
    "\n",
    "def dichiara_visione(oggetto):\n",
    "    print('Vedo', oggetto)\n",
    "\n",
    "print('Entro')\n",
    "\n",
    "len_caverna = len(caverna)\n",
    "\n",
    "if not len_caverna:\n",
    "    dichiara_fallimento(cerco)\n",
    "\n",
    "idx, end = 0, False\n",
    "\n",
    "while 0 <= idx:\n",
    "    if caverna[idx] == cerco:\n",
    "        dichiara_successo(cerco)\n",
    "        end = True\n",
    "    else:\n",
    "        dichiara_visione(caverna[idx])\n",
    "        if idx == (len_caverna - 1):\n",
    "            dichiara_fallimento(cerco)\n",
    "            dichiara_visione(caverna[idx])\n",
    "            end = True\n",
    "    \n",
    "    idx += -1 if end else 1\n",
    "\n",
    "print('Esco')"
   ]
  }
 ],
 "metadata": {
  "kernelspec": {
   "display_name": ".venv",
   "language": "python",
   "name": "python3"
  },
  "language_info": {
   "codemirror_mode": {
    "name": "ipython",
    "version": 3
   },
   "file_extension": ".py",
   "mimetype": "text/x-python",
   "name": "python",
   "nbconvert_exporter": "python",
   "pygments_lexer": "ipython3",
   "version": "3.11.2"
  },
  "orig_nbformat": 4
 },
 "nbformat": 4,
 "nbformat_minor": 2
}
