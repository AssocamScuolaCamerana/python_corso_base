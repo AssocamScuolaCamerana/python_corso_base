{
 "cells": [
  {
   "attachments": {},
   "cell_type": "markdown",
   "metadata": {},
   "source": [
    "## Esercizio - Guardaroba\n",
    "\n",
    "Produrre una sequenza di stringhe combinando due di input.\n",
    "\n",
    "- **NON** usare `range`\n",
    "- **USA UNA** sola list comprehension\n",
    "- il tuo codice deve stare in una riga sola\n",
    "\n",
    "Esempio - data:\n",
    "\n",
    "```python\n",
    "indumenti = ['cappotti', 'giacconi', 'mantelli', 'ventine']\n",
    "capi = [9,5,7,3]\n",
    "```\n",
    "\n",
    "Il tuo codice deve produrre:\n",
    "\n",
    "```python\n",
    "['ci sono 9 cappotti', 'ci sono 5 giacconi', 'ci sono 7 mantelli', \n",
    " 'ci sono 3 ventine']\n",
    "```"
   ]
  },
  {
   "cell_type": "markdown",
   "metadata": {},
   "source": [
    "## Tuo svolgimento"
   ]
  },
  {
   "cell_type": "code",
   "execution_count": null,
   "metadata": {},
   "outputs": [],
   "source": [
    "indumenti = ['cappotti', 'giacconi', 'mantelli', 'ventine']\n",
    "capi = [9,5,7,3]\n",
    "\n",
    "# scrivi qui\n"
   ]
  },
  {
   "cell_type": "markdown",
   "metadata": {},
   "source": [
    "# --------- Soluzioni ---------"
   ]
  },
  {
   "attachments": {},
   "cell_type": "markdown",
   "metadata": {},
   "source": [
    "###  Pseudocodice:\n",
    "\n",
    "<pre>\n",
    "- creo una lista contenitore;\n",
    "- per ciascun indumento abbino il rispettivo numero di capi mantenendo l'ordine di entrambi e creo delle tuple;\n",
    "    - uso questa tupla per scrivere una stringa che inizia con \"ci sono \" e è seguita dal numero di capi e dall'indumento;\n",
    "    - metto la stringa ottenuta in nella lista contenitore;\n",
    "- a questo punto ho la lista contenitore compilata.\n",
    "</pre>"
   ]
  },
  {
   "attachments": {},
   "cell_type": "markdown",
   "metadata": {},
   "source": [
    "## Modo esteso: container e ciclo `for`"
   ]
  },
  {
   "cell_type": "code",
   "execution_count": 8,
   "metadata": {},
   "outputs": [
    {
     "data": {
      "text/plain": [
       "['ci sono 9 cappotti',\n",
       " 'ci sono 5 giacconi',\n",
       " 'ci sono 7 mantelli',\n",
       " 'ci sono 3 ventine']"
      ]
     },
     "execution_count": 8,
     "metadata": {},
     "output_type": "execute_result"
    }
   ],
   "source": [
    "indumenti = ['cappotti', 'giacconi', 'mantelli', 'ventine']\n",
    "capi = [9, 5, 7, 3]\n",
    "\n",
    "lista_abbina = []\n",
    "for idx, _ in enumerate(indumenti):\n",
    "    lista_abbina.append('ci sono %s %s' % (capi[idx], indumenti[idx]))\n",
    "    # lista_abbina.append(f'ci sono {capi[idx]} {indumenti[idx]}')\n",
    "\n",
    "lista_abbina"
   ]
  },
  {
   "attachments": {},
   "cell_type": "markdown",
   "metadata": {},
   "source": [
    "## Modo compatto: list comprehension e `zip()`"
   ]
  },
  {
   "cell_type": "code",
   "execution_count": null,
   "metadata": {},
   "outputs": [
    {
     "data": {
      "text/plain": [
       "['ci sono 9 cappotti',\n",
       " 'ci sono 5 giacconi',\n",
       " 'ci sono 7 mantelli',\n",
       " 'ci sono 3 ventine']"
      ]
     },
     "metadata": {},
     "output_type": "display_data"
    }
   ],
   "source": [
    "indumenti = ['cappotti', 'giacconi', 'mantelli', 'ventine']\n",
    "capi = [9, 5, 7, 3]\n",
    "\n",
    "['ci sono %s %s' % elem for elem in zip(capi, indumenti)]\n",
    "# [f'ci sono {elem[1]} {elem[0]}' for elem in zip(indumenti, capi)]"
   ]
  }
 ],
 "metadata": {
  "kernelspec": {
   "display_name": ".venv",
   "language": "python",
   "name": "python3"
  },
  "language_info": {
   "codemirror_mode": {
    "name": "ipython",
    "version": 3
   },
   "file_extension": ".py",
   "mimetype": "text/x-python",
   "name": "python",
   "nbconvert_exporter": "python",
   "pygments_lexer": "ipython3",
   "version": "3.11.2"
  },
  "orig_nbformat": 4
 },
 "nbformat": 4,
 "nbformat_minor": 2
}
