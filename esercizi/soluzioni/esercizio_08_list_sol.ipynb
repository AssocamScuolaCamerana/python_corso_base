{
 "cells": [
  {
   "cell_type": "markdown",
   "metadata": {},
   "source": [
    "### Esercizio - Monte ordinato\n",
    "\n",
    "Requisiti: liste, sort, for\n",
    "\n",
    "Data una lista `monte` con $n$ numeri (supponi che $n$ sia pari), scrivi del codice \n",
    "che MODIFICA `monte`, ordinando solo i numeri nella prima metà in ordine crescente\n",
    "e poi ordinando solo i numeri nella seconda metà in ordine inverso\n",
    "\n",
    "- **NON** riassegnare `monte`, perchè perderesti la zona di memoria originale (quindi niente `monte =`)\n",
    "- **SUGGERIMENTO:** ``sort()`` funziona solo su tutta la lista, per ordinarne solo metà dovrai creare altre liste dove mettere i valori da ordinare, e poi copiarli nella lista originale\n",
    "\n",
    "Esempio - data:\n",
    "\n",
    "```python\n",
    "   monte = [90,40,50,20,60, 7, 3, 4, 9, 8]\n",
    "```\n",
    "\n",
    "Dopo il tuo codice deve risultare:\n",
    "\n",
    "```python\n",
    ">>> print(monte)\n",
    "[20, 40, 50, 60, 90, 9, 8, 7, 4, 3]\n",
    "```\n"
   ]
  },
  {
   "cell_type": "markdown",
   "metadata": {},
   "source": [
    "## Tuo svolgimento"
   ]
  },
  {
   "cell_type": "code",
   "execution_count": null,
   "metadata": {},
   "outputs": [],
   "source": [
    "monte = [90,40,50,20,60, 7, 3, 4, 9, 8]   # [20, 40, 50, 60, 90, 9, 8, 7, 4, 3]\n",
    "#monte = [5,0,3,4,3,8]                    # [0, 3, 5, 8, 4, 3]\n",
    "#monte = []                               # []\n",
    "#monte = [7,3]                            # [7,3]\n",
    "\n",
    "# scrivi qui\n"
   ]
  },
  {
   "cell_type": "markdown",
   "metadata": {},
   "source": [
    "# --------- Soluzioni ---------"
   ]
  },
  {
   "attachments": {},
   "cell_type": "markdown",
   "metadata": {},
   "source": [
    "###  Pseudocodice:\n",
    "\n",
    "<pre>\n",
    "- ottengo la lunghezza totale della lista;\n",
    "- se la lista non pari:\n",
    "    - informo l'utente e esco;\n",
    "- altrimenti;\n",
    "    - trovo la metà della lista;\n",
    "    - prendo la prima metà;\n",
    "    - prendo la seconda metà;\n",
    "    - ordino la prima metà in modo asc /;\n",
    "    - ordino la seconda metà in modo disc \\;\n",
    "    - unisco le due metà ordinate /\\;\n",
    "    - restituisco il risultato\n",
    "</pre>"
   ]
  },
  {
   "cell_type": "code",
   "execution_count": 6,
   "metadata": {},
   "outputs": [
    {
     "name": "stdout",
     "output_type": "stream",
     "text": [
      "Lista da montizzare: [90, 40, 50, 20, 60, 7, 3, 4, 9, 8]\n",
      "Ok, lista è pari. Procedo...\n",
      "[20, 40, 50, 60, 90, 9, 8, 7, 4, 3]\n"
     ]
    }
   ],
   "source": [
    "\n",
    "monte = [90,40,50,20,60, 7, 3, 4, 9, 8]   # [20, 40, 50, 60, 90, 9, 8, 7, 4, 3]\n",
    "# monte = [5,0,3,4,3,8]                    # [0, 3, 5, 8, 4, 3]\n",
    "# monte = [5,0,3,4,3]                      # Non dispari!\n",
    "# monte = []                               # []\n",
    "# monte = [7,3]                             # [7,3]\n",
    "\n",
    "print('Lista da montizzare:', monte)  # stampo messaggio iniziale\n",
    "\n",
    "len_monte = len(monte)           # ottengo la lunghezza totale della lista\n",
    "\n",
    "if len_monte % 2:                # se la lista non pari, informo l'utente e esco\n",
    "    # raise ValueError('La lista non è pari.')\n",
    "    print('La lunghezza della lista non è pari. Non posso montizzarla!')\n",
    "else:                                # altrimenti\n",
    "    print('Ok, lista è pari. Procedo...')  # stampo messaggio di OK\n",
    "    mid_monte = int(len_monte / 2)   # trovo la metà della lista monte\n",
    "    monte_m1 = monte[:mid_monte]     # prendo la prima metà\n",
    "    monte_m2 = monte[mid_monte:]     # prendo la seconda metà\n",
    "\n",
    "    monte_m1.sort()                  # ordino la prima metà in modo asc /\n",
    "    monte_m2.sort(reverse=True)      # ordino la seconda metà in modo disc \\\n",
    "    # print(monte_m1, monte_m2)\n",
    "\n",
    "    monte = monte_m1 + monte_m2      # unisco le due metà ordinate /\\\n",
    "\n",
    "    print(monte)                     # stampo messaggio\n"
   ]
  }
 ],
 "metadata": {
  "kernelspec": {
   "display_name": ".venv",
   "language": "python",
   "name": "python3"
  },
  "language_info": {
   "codemirror_mode": {
    "name": "ipython",
    "version": 3
   },
   "file_extension": ".py",
   "mimetype": "text/x-python",
   "name": "python",
   "nbconvert_exporter": "python",
   "pygments_lexer": "ipython3",
   "version": "3.11.2"
  },
  "orig_nbformat": 4
 },
 "nbformat": 4,
 "nbformat_minor": 2
}
