{
 "cells": [
  {
   "attachments": {},
   "cell_type": "markdown",
   "metadata": {},
   "source": [
    "# Esercizio: Da cammello a serpente"
   ]
  },
  {
   "attachments": {},
   "cell_type": "markdown",
   "metadata": {},
   "source": [
    "Dato che stiamo imparando Python, a volte può essere utile convertire il testo da lowerCamelCase a snake_case. Il trucco principale consiste nel trovare il punto giusto in cui inserire un trattino basso. Poniamo la regola che un trattino basso debba essere inserito subito prima di una lettera maiuscola, così lowerCamelCase diventerà lower_camel_case.\n",
    "\n",
    "- **Input**: Leggere una parola o una frase scritta in minuscoloCamelCase\n",
    "\n",
    "- **Output**: Stampa le parole in minuscolo, separate da trattini bassi."
   ]
  },
  {
   "attachments": {},
   "cell_type": "markdown",
   "metadata": {},
   "source": [
    "SUGGERIMENTO: I metodi delle stringhe `str.lower()`, `str.isupper()` (o `str.islower()`) potrebbero tornarti utili. Se non li conosci, vai a leggere la documentazione."
   ]
  },
  {
   "attachments": {},
   "cell_type": "markdown",
   "metadata": {},
   "source": [
    "- Esempio 1:\n",
    "  - Input: `python`\n",
    "  - Output: `python`\n",
    "\n",
    "- Esempio 2\n",
    "  - Input: `parselTongue`\n",
    "  - Output: `parsel_tongue`\n",
    "\n",
    "- Esempio 3\n",
    "  - Input: `pippoPlutoEtaBeta`\n",
    "  - Output: `pippo_pluto_eta_beta`"
   ]
  },
  {
   "cell_type": "code",
   "execution_count": 1,
   "metadata": {},
   "outputs": [
    {
     "name": "stdout",
     "output_type": "stream",
     "text": [
      "\n"
     ]
    }
   ],
   "source": [
    "word = input()\n",
    "res = ''\n",
    "\n",
    "for char in word:\n",
    "    if char.isupper():\n",
    "        res += '_' + char.lower()\n",
    "    else:\n",
    "        res += char\n",
    "print(res)"
   ]
  },
  {
   "cell_type": "code",
   "execution_count": 9,
   "metadata": {},
   "outputs": [
    {
     "name": "stdout",
     "output_type": "stream",
     "text": [
      "_pino_pano\n"
     ]
    }
   ],
   "source": [
    "word = input()\n",
    "\n",
    "for char in word:\n",
    "    if char.isupper():\n",
    "        res = word.replace(char, \"_\" + char.lower())\n",
    "\n",
    "print(res)"
   ]
  },
  {
   "attachments": {},
   "cell_type": "markdown",
   "metadata": {},
   "source": [
    "## Variante: Da Pasquale a serpente\n",
    "\n",
    "Il vostro algoritmo funziona anche con i nomi scritti in PascalCase?"
   ]
  },
  {
   "cell_type": "code",
   "execution_count": 5,
   "metadata": {},
   "outputs": [
    {
     "name": "stdout",
     "output_type": "stream",
     "text": [
      "_pippo_pluto\n"
     ]
    }
   ],
   "source": [
    "word = input()\n",
    "res = ''\n",
    "\n",
    "for char in word:\n",
    "    if char.isupper():\n",
    "        res += '_'\n",
    "    res += char\n",
    "    \n",
    "# print(res.lower())\n",
    "print(res.lower().lstrip('_'))"
   ]
  },
  {
   "cell_type": "code",
   "execution_count": 6,
   "metadata": {},
   "outputs": [
    {
     "name": "stdout",
     "output_type": "stream",
     "text": [
      "pippo\n"
     ]
    }
   ],
   "source": [
    "word = input()\n",
    "res = ''\n",
    "\n",
    "for char in word:\n",
    "    if char.isupper() and res:\n",
    "        res += '_'\n",
    "    res += char\n",
    "\n",
    "print(res.lower())"
   ]
  },
  {
   "cell_type": "code",
   "execution_count": 7,
   "metadata": {},
   "outputs": [
    {
     "name": "stdout",
     "output_type": "stream",
     "text": [
      "_pino_pano_ilo"
     ]
    }
   ],
   "source": [
    "word = input()\n",
    "\n",
    "for char in word:\n",
    "    res = char if char.islower() else \"_\" + char.lower()\n",
    "    print(res.lstrip('_'), end=\"\")"
   ]
  }
 ],
 "metadata": {
  "kernelspec": {
   "display_name": ".venv",
   "language": "python",
   "name": "python3"
  },
  "language_info": {
   "codemirror_mode": {
    "name": "ipython",
    "version": 3
   },
   "file_extension": ".py",
   "mimetype": "text/x-python",
   "name": "python",
   "nbconvert_exporter": "python",
   "pygments_lexer": "ipython3",
   "version": "3.11.2"
  },
  "orig_nbformat": 4
 },
 "nbformat": 4,
 "nbformat_minor": 2
}
