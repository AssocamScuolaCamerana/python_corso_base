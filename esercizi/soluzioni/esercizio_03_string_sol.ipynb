{
 "cells": [
  {
   "attachments": {},
   "cell_type": "markdown",
   "metadata": {},
   "source": [
    "## Esercizio - Censura al tiramisù\n",
    " \n",
    "Ci è stato inviato un testo illegale, immorale e che fa pure ingrassare. \n",
    "Per tutelare la pubblica salute abbiamo l'arduo compito di censurarlo e \n",
    "renderlo consono al buon costume.\n",
    " \n",
    "1) E' necessario sostituire OGNI occorrenza delle due parole malefiche con una  più salubre censura, trasformando il testo in modo che la print  di testo_censurato non contenga nessuna parola incriminata.\n",
    "\n",
    "Esempio:\n",
    "\n",
    "```python\n",
    "testo= \"Grazie all'uso di Cera Splendent tutto brilla!\"\n",
    "parola_malefica = \"splendent\"\n",
    "censura = \"******\"\n",
    "testo_censurato: \"Grazie all'uso di Cera ****** tutto brilla!\"\n",
    "```\n",
    "\n",
    "2) Per scrivere il nostro rapporto di censori dobbiamo rendere conto di quante parole abbiamo censurato. Stampare alla fine il numero (ovviamente in maniera automatica ), per esempio:\n",
    "\n",
    "```\n",
    "\"Censurata 1 parola\"\n",
    "```\n",
    "\n",
    "- contare quante volte compaiono le parole"
   ]
  },
  {
   "cell_type": "markdown",
   "metadata": {},
   "source": [
    "## Tuo svolgimento"
   ]
  },
  {
   "cell_type": "code",
   "execution_count": null,
   "metadata": {},
   "outputs": [],
   "source": [
    "testo = \"\"\"Ed è proprio da questa portentosa crema che nasce la crema al mascarpone\n",
    "base del tiramisù, prima classificata al premio Crema dell'Anno insieme\n",
    "alla nutella. Il dolce italiano per eccellenza, quello più famoso e amato,\n",
    "ma soprattutto che ha dato vita a tantissime altre versioni, anche tiramisù senza uova!\n",
    "Poi il Tiramisù alle fragole o quello alla Nutella, giusto per citarne un paio!\n",
    "Senza contare le rivisitazioni più raffinate come la crostata morbida o la torta al tiramisù.\n",
    "\"\"\"\n",
    "\n",
    "parola_malefica1 = \"Tiramisù\"\n",
    "parola_malefica2 = \"nutella\"\n",
    "\n",
    "censura = \"******\"\n",
    "\n",
    "testo_censurato = ''\n",
    "\n",
    "# scrivi qui\n"
   ]
  },
  {
   "attachments": {},
   "cell_type": "markdown",
   "metadata": {},
   "source": [
    "# --------- Soluzioni ---------"
   ]
  },
  {
   "attachments": {},
   "cell_type": "markdown",
   "metadata": {},
   "source": [
    "## Analisi\n",
    "\n",
    "### Testo\n",
    "Es:\n",
    "```python\n",
    "\"Ed è proprio da questa portentosa crema che nasce la crema al mascarpone base del tiramisù, prima classificata al premio Crema dell'Anno insieme alla nutella.\"\n",
    "```\n",
    "\n",
    "### Parole da cercare\n",
    "```python\n",
    "['Tiramisù', 'nutella']\n",
    "```\n",
    "e anche le loro varianti con iniziale maiuscola/minuscola:\n",
    "\n",
    "```python\n",
    "['tiramisù', 'Nutella']\n",
    "```\n",
    "\n",
    "###  Pseudocodice:\n",
    "\n",
    "<pre>\n",
    "- metto le parole da censurare in un comodo contenitore, diciamo una lista;\n",
    "- inizializzo una variabile che conterrà la stringa di censura \"*******\";\n",
    "- copio il testo da censurare in una nuova variabile, così da mantenere l'originale intatto;\n",
    "- inizializzo una variabile contatore che userò per contare le parole censurate;\n",
    "- per ciascuna parola da censurare nella lista:\n",
    "    - sostituisco la versione tutta minuscola della parola da censurare con la stringa \"*******\";\n",
    "    - sostituisco la versione con iniziale maiuscola della parola da censurare con la stringa \"*******\";\n",
    "- conto quante volte compare la stringa di censura \"*******\" nel testo censurato;\n",
    "- preparo il messaggio per il rapporto da censore, rispettando la concordanza di genere e numero delle parole usate\n",
    "  (se il conteggio è 1 userò il singolare, altrimenti il plurale, al femminile perché \"parola\" è femminile);\n",
    "- stampo i messaggi.\n",
    "</pre>"
   ]
  },
  {
   "attachments": {},
   "cell_type": "markdown",
   "metadata": {},
   "source": [
    "### `str.replace()`: il modo semplice"
   ]
  },
  {
   "cell_type": "code",
   "execution_count": 15,
   "metadata": {},
   "outputs": [
    {
     "name": "stdout",
     "output_type": "stream",
     "text": [
      "Testo censurato:\n",
      "Ed è proprio da questa portentosa crema che nasce la crema al mascarpone\n",
      "base del ******, prima classificata al premio Crema dell'Anno insieme\n",
      "alla ******. Il dolce italiano per eccellenza, quello più famoso e amato,\n",
      "ma soprattutto che ha dato vita a tantissime altre versioni, anche ****** senza uova!\n",
      "Poi il ****** alle fragole o quello alla ******, giusto per citarne un paio!\n",
      "Senza contare le rivisitazioni più raffinate come la crostata morbida o la torta al ******.\n",
      "\n",
      "Censurate 6 parole. \n",
      "\n"
     ]
    }
   ],
   "source": [
    "testo = \"\"\"Ed è proprio da questa portentosa crema che nasce la crema al mascarpone\n",
    "base del tiramisù, prima classificata al premio Crema dell'Anno insieme\n",
    "alla nutella. Il dolce italiano per eccellenza, quello più famoso e amato,\n",
    "ma soprattutto che ha dato vita a tantissime altre versioni, anche tiramisù senza uova!\n",
    "Poi il Tiramisù alle fragole o quello alla Nutella, giusto per citarne un paio!\n",
    "Senza contare le rivisitazioni più raffinate come la crostata morbida o la torta al tiramisù.\n",
    "\"\"\"\n",
    "\n",
    "parole_malefiche = ['Tiramisù', 'nutella']  # metto le parole da censurare in un comodo contenitore, diciamo una lista;\n",
    "censura = \"******\"                          # inizializzo una variabile che conterrà la stringa di censura \"*******\";\n",
    "testo_censurato = testo                     # copio il testo da censurare in una nuova variabile, così da mantenere l'originale intatto;\n",
    "conta_censure = 0                           # inizializzo una variabile contatore che userò per contare le parole censurate;\n",
    "\n",
    "for parola in parole_malefiche:                                         # per ciascuna parola da censurare nella lista:\n",
    "    testo_censurato = testo_censurato.replace(parola.lower(), censura)  # sostituisco la versione tutta minuscola della parola da censurare con la stringa \"****\";\n",
    "    testo_censurato = testo_censurato.replace(parola.title(), censura)  # sostituisco la versione con iniziale maiuscola della parola da censurare con la stringa \"****\";\n",
    "\n",
    "conta_censure += testo_censurato.count(censura)               # conto quante volte compare la stringa di censura \"*******\" nel testo censurato;\n",
    "\n",
    "msg_pre = 'Censurata' if conta_censure == 1 else 'Censurate'  # preparo il messaggio per il rapporto, rispettando concordanza di genere e numero\n",
    "msg_post = 'parola.' if conta_censure == 1 else 'parole.'     # (se il conteggio è 1 è singolare, sennò plurale; inoltre \"parola\" è femminile);\n",
    "\n",
    "print('Testo censurato:', testo_censurato, sep='\\n')          # stampo i messaggi.\n",
    "print(msg_pre, conta_censure, msg_post)"
   ]
  },
  {
   "attachments": {},
   "cell_type": "markdown",
   "metadata": {},
   "source": [
    "### `re.sub()`: il modo passepartout"
   ]
  },
  {
   "cell_type": "code",
   "execution_count": 16,
   "metadata": {},
   "outputs": [
    {
     "name": "stdout",
     "output_type": "stream",
     "text": [
      "Testo censurato:\n",
      "Ed è proprio da questa portentosa crema che nasce la crema al mascarpone\n",
      "base del ******, prima classificata al premio Crema dell'Anno insieme\n",
      "alla ******. Il dolce italiano per eccellenza, quello più famoso e amato,\n",
      "ma soprattutto che ha dato vita a tantissime altre versioni, anche ****** senza uova!\n",
      "Poi il ****** alle fragole o quello alla ******, giusto per citarne un paio!\n",
      "Senza contare le rivisitazioni più raffinate come la crostata morbida o la torta al ******.\n",
      "\n",
      "Censurate 6 parole.\n"
     ]
    }
   ],
   "source": [
    "import re\n",
    "\n",
    "testo = \"\"\"Ed è proprio da questa portentosa crema che nasce la crema al mascarpone\n",
    "base del tiramisù, prima classificata al premio Crema dell'Anno insieme\n",
    "alla nutella. Il dolce italiano per eccellenza, quello più famoso e amato,\n",
    "ma soprattutto che ha dato vita a tantissime altre versioni, anche tiramisù senza uova!\n",
    "Poi il Tiramisù alle fragole o quello alla Nutella, giusto per citarne un paio!\n",
    "Senza contare le rivisitazioni più raffinate come la crostata morbida o la torta al tiramisù.\n",
    "\"\"\"\n",
    "\n",
    "parole_malefiche = ['Tiramisù', 'nutella']\n",
    "censura = \"******\"\n",
    "\n",
    "# Bisogna preparare il pattern utilizzando la sintassi per le Espressioni Regolari di Python\n",
    "regex_pattern = '|'.join(parole_malefiche)\n",
    "testo_censurato = re.sub(regex_pattern, censura, testo, flags=re.IGNORECASE)\n",
    "\n",
    "conta_censure = testo_censurato.count(censura)\n",
    "\n",
    "suff = 'a' if conta_censure == 1 else 'e'\n",
    "\n",
    "print('Testo censurato:', testo_censurato, sep='\\n')\n",
    "print('Censurat%s' % suff,\n",
    "      conta_censure,\n",
    "      'parol%s.' % suff)"
   ]
  },
  {
   "attachments": {},
   "cell_type": "markdown",
   "metadata": {},
   "source": [
    "### `re.subn()`: il modo ad-hoc"
   ]
  },
  {
   "cell_type": "code",
   "execution_count": 17,
   "metadata": {},
   "outputs": [
    {
     "name": "stdout",
     "output_type": "stream",
     "text": [
      "Testo censurato:\n",
      "Ed è proprio da questa portentosa crema che nasce la crema al mascarpone\n",
      "base del ******, prima classificata al premio Crema dell'Anno insieme\n",
      "alla ******. Il dolce italiano per eccellenza, quello più famoso e amato,\n",
      "ma soprattutto che ha dato vita a tantissime altre versioni, anche ****** senza uova!\n",
      "Poi il ****** alle fragole o quello alla ******, giusto per citarne un paio!\n",
      "Senza contare le rivisitazioni più raffinate come la crostata morbida o la torta al ******.\n",
      "\n",
      "Censurate 6 parole.\n"
     ]
    }
   ],
   "source": [
    "import re\n",
    "\n",
    "testo = \"\"\"Ed è proprio da questa portentosa crema che nasce la crema al mascarpone\n",
    "base del tiramisù, prima classificata al premio Crema dell'Anno insieme\n",
    "alla nutella. Il dolce italiano per eccellenza, quello più famoso e amato,\n",
    "ma soprattutto che ha dato vita a tantissime altre versioni, anche tiramisù senza uova!\n",
    "Poi il Tiramisù alle fragole o quello alla Nutella, giusto per citarne un paio!\n",
    "Senza contare le rivisitazioni più raffinate come la crostata morbida o la torta al tiramisù.\n",
    "\"\"\"\n",
    "\n",
    "parole_malefiche = ['Tiramisù', 'nutella']\n",
    "censura = \"******\"\n",
    "\n",
    "# re.subn() restituisce una tupla contenente il testo modificato e il conteggio delle sostituzioni effettuate\n",
    "testo_censurato, conta_censure = re.subn('|'.join(parole_malefiche), censura, testo, flags=re.IGNORECASE)\n",
    "\n",
    "suff = 'a' if conta_censure == 1 else 'e'\n",
    "\n",
    "print('Testo censurato:', testo_censurato, sep='\\n')\n",
    "print(f'Censurat{suff} {conta_censure} parol{suff}.')"
   ]
  },
  {
   "attachments": {},
   "cell_type": "markdown",
   "metadata": {},
   "source": [
    "# --------- Varianti, per complicare un po' le cose ---------"
   ]
  },
  {
   "attachments": {},
   "cell_type": "markdown",
   "metadata": {},
   "source": [
    "- VARIANTE 1: E se volessimo censurare la parola con una sequanza di `'*'` di uguale lunghezza, anziché usare `'******'` (6 caratteri) per tutte le parole?\n",
    "- VARIANTE 2: E se volessimo censurare la parola con dei numeri che partono da 1 e aumentano fino alla lunghezza della parola? (Es. `tiramisù` &rarr; `12345678`)"
   ]
  },
  {
   "cell_type": "code",
   "execution_count": 20,
   "metadata": {},
   "outputs": [
    {
     "name": "stdout",
     "output_type": "stream",
     "text": [
      "Testo censurato:\n",
      "Ed è proprio da questa portentosa crema che nasce la crema al mascarpone\n",
      "base del --------, prima classificata al premio Crema dell'Anno insieme\n",
      "alla -------. Il dolce italiano per eccellenza, quello più famoso e amato,\n",
      "ma soprattutto che ha dato vita a tantissime altre versioni, anche -------- senza uova!\n",
      "Poi il -------- alle fragole o quello alla -------, giusto per citarne un paio!\n",
      "Senza contare le rivisitazioni più raffinate come la crostata morbida o la torta al --------.\n",
      "\n",
      "Censurate 6 parole.\n"
     ]
    }
   ],
   "source": [
    "import re\n",
    "\n",
    "testo = \"\"\"Ed è proprio da questa portentosa crema che nasce la crema al mascarpone\n",
    "base del tiramisù, prima classificata al premio Crema dell'Anno insieme\n",
    "alla nutella. Il dolce italiano per eccellenza, quello più famoso e amato,\n",
    "ma soprattutto che ha dato vita a tantissime altre versioni, anche tiramisù senza uova!\n",
    "Poi il Tiramisù alle fragole o quello alla Nutella, giusto per citarne un paio!\n",
    "Senza contare le rivisitazioni più raffinate come la crostata morbida o la torta al tiramisù.\n",
    "\"\"\"\n",
    "\n",
    "parole_malefiche = ['Tiramisù', 'nutella']\n",
    "censura_char = \"-\"\n",
    "testo_censurato = testo\n",
    "conta_censure = 0\n",
    "\n",
    "for parola in parole_malefiche:\n",
    "    \n",
    "    # VARIANTE 1 / MODO 1\n",
    "    # Creo una parola di uguale lunghezza, ma solo composta dalla stringa censura_char\n",
    "    parola_censurata = ''\n",
    "    for char in parola:\n",
    "        parola_censurata += censura_char\n",
    "\n",
    "    # VARIANTE 1 / MODO 2\n",
    "    # Creo una parola di uguale lunghezza, ma solo composta dalla stringa censura_char\n",
    "    #parola_censurata = censura_char * len(parola)\n",
    "\n",
    "    # VARIANTE 1 / MODO 3\n",
    "    # Creo una parola di uguale lunghezza, ma solo composta dalla stringa censura_char\n",
    "    # parola_censurata = ''.join([censura_char for char in parola])\n",
    "    \n",
    "    # VARIANTE 2 / MODO 1\n",
    "    # Creo una parola di uguale lunghezza n e che si composta dai numeri da 1 a n\n",
    "    # parola_censurata = ''.join([str(n+1) for n in range(len(parola))])\n",
    "\n",
    "    # VARIANTE 2 / MODO 2\n",
    "    # Creo una parola di uguale lunghezza n e che si composta dai numeri da 1 a n\n",
    "    # parola_censurata = ''.join([str(idx+1) for idx, char in enumerate(parola)])\n",
    "    \n",
    "    testo_censurato, conta_sub = re.subn(parola, parola_censurata, testo_censurato, flags=re.IGNORECASE)\n",
    "    conta_censure += conta_sub\n",
    "\n",
    "\n",
    "print('Testo censurato:', testo_censurato, sep='\\n')\n",
    "print('Censurata' if conta_censure == 1 else 'Censurate', conta_censure, 'parola.' if conta_censure == 1 else 'parole.')"
   ]
  }
 ],
 "metadata": {
  "kernelspec": {
   "display_name": ".venv",
   "language": "python",
   "name": "python3"
  },
  "language_info": {
   "codemirror_mode": {
    "name": "ipython",
    "version": 3
   },
   "file_extension": ".py",
   "mimetype": "text/x-python",
   "name": "python",
   "nbconvert_exporter": "python",
   "pygments_lexer": "ipython3",
   "version": "3.11.2"
  },
  "orig_nbformat": 4,
  "vscode": {
   "interpreter": {
    "hash": "2ee8feb14874889d298f091c1c46af49a735548d706099f3c4c08b46fdc23e5c"
   }
  }
 },
 "nbformat": 4,
 "nbformat_minor": 2
}
