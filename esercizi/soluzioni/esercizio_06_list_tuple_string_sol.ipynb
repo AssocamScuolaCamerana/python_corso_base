{
 "cells": [
  {
   "attachments": {},
   "cell_type": "markdown",
   "metadata": {},
   "source": [
    "## Esercizio - cannocchiale\n",
    "\n",
    "Requisiti: tuple, stringhe, liste\n",
    "\n",
    "Data una stringa `s`, scrivi del codice che mette in una variabile tupla `ordinata` tutti i caratteri di `s` ordinati\n",
    "\n",
    "Esempio - data:\n",
    "\n",
    "```python\n",
    "s = \"cannocchiale\"\n",
    "```\n",
    "\n",
    "Dopo il tuo codice deve risultare:\n",
    " \n",
    "```python\n",
    ">>> print(ordinata)\n",
    "('a', 'a', 'c', 'c', 'c', 'e', 'h', 'i', 'l', 'n', 'n', 'o')\n",
    "```"
   ]
  },
  {
   "cell_type": "markdown",
   "metadata": {},
   "source": [
    "## Tuo svolgimento"
   ]
  },
  {
   "cell_type": "code",
   "execution_count": null,
   "metadata": {},
   "outputs": [],
   "source": [
    "s = \"cannocchiale\"\n",
    "\n",
    "# scrivi qui\n"
   ]
  },
  {
   "cell_type": "markdown",
   "metadata": {},
   "source": [
    "# --------- Soluzioni ---------"
   ]
  },
  {
   "attachments": {},
   "cell_type": "markdown",
   "metadata": {},
   "source": [
    "## Modo \"classico\""
   ]
  },
  {
   "cell_type": "code",
   "execution_count": 8,
   "metadata": {},
   "outputs": [
    {
     "name": "stdout",
     "output_type": "stream",
     "text": [
      "('a', 'a', 'c', 'c', 'c', 'e', 'h', 'i', 'l', 'n', 'n', 'o')\n"
     ]
    }
   ],
   "source": [
    "s = \"cannocchiale\"\n",
    "\n",
    "out_list = []              # Creiamo un contenitore lista vutoto\n",
    "for char in s:             # Per ciascun carattere della nostra stringa\n",
    "    out_list.append(char)  # lo inserisco nella lista-contenitore\n",
    "\n",
    "out_list.sort()            # Ordino la lista \"sul posto\" con list.sort()\n",
    "\n",
    "print(tuple(out_list))     # Stampo la lista come una tupla \n",
    "\n",
    "# out_list_sorted = out_list.sort() # <-- ATTENZIONE !! è inutile assegnare il risultato di \n",
    "                                    #     list.sort() a una variabile...\n",
    "\n",
    "# print(out_list_sorted)  # <-- None !! ...perché il metodo list.sort() modifica la lista\n",
    "                          #     e non restituisce letteralmente nulla!\n"
   ]
  },
  {
   "attachments": {},
   "cell_type": "markdown",
   "metadata": {},
   "source": [
    "## Modo \"casting\"\n",
    "\n",
    "Invece di scomodare un ciclo `for` possiamo sfruttare le regole di *casting*, ovvero le modalità con cui un dato viene convertito in un'altro."
   ]
  },
  {
   "cell_type": "code",
   "execution_count": 11,
   "metadata": {},
   "outputs": [
    {
     "name": "stdout",
     "output_type": "stream",
     "text": [
      "('a', 'a', 'c', 'c', 'c', 'e', 'h', 'i', 'l', 'n', 'n', 'o')\n"
     ]
    }
   ],
   "source": [
    "s = \"cannocchiale\"\n",
    "\n",
    "ordinata = list(s)\n",
    "ordinata.sort()\n",
    "\n",
    "print(tuple(ordinata))\n",
    "\n"
   ]
  }
 ],
 "metadata": {
  "kernelspec": {
   "display_name": ".venv",
   "language": "python",
   "name": "python3"
  },
  "language_info": {
   "codemirror_mode": {
    "name": "ipython",
    "version": 3
   },
   "file_extension": ".py",
   "mimetype": "text/x-python",
   "name": "python",
   "nbconvert_exporter": "python",
   "pygments_lexer": "ipython3",
   "version": "3.11.2"
  },
  "orig_nbformat": 4
 },
 "nbformat": 4,
 "nbformat_minor": 2
}
