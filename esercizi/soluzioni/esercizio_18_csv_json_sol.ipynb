{
 "cells": [
  {
   "attachments": {},
   "cell_type": "markdown",
   "metadata": {},
   "source": [
    "# Esercizio: Sardi montani (CSV)"
   ]
  },
  {
   "attachments": {},
   "cell_type": "markdown",
   "metadata": {},
   "source": [
    "Requisiti: modulo built-in `csv`.\n",
    "\n",
    "#### Contesto\n",
    "\n",
    "Un tuo cliente vuole fare un po' di analisi di mercato e i chiede di aiutarlo a scrivere uno script in Python per leggere dei file CSV, JSON e XML, che provengono dai progetti di \"Open Data\" delle pubbliche amministrazioni. Avete selezionato come fonti i database regionali, in particolare delle tabelle che contengono dei dati sulla popolazione delle varie regioni italiane.\n",
    "\n",
    "Dato che i file che contengono i dati di suo interesse sono molti e scritti in vari formati, usare direttamente Excel per compiere le analisi sarebbe lungo e complesso. Per questo motivo ti ha chiesto scrivere degli script che si devono occupare di estrarre dati, filtrarli e convertire i file in automatico. Ti chiede inoltre di farlo passo-passo così che anche lui possa capire come funzionano ed eventualmente modificarli in modo autonomo in futuro, in base alle sue esigenze.\n",
    "\n",
    "Scegliete quindi dei file da utilizzarsi come campioni su cui provare gli algoritmi che svilupperai.\n",
    "\n",
    "La Regione Sardenga ha pubblicato una tabella denominata [\"Centri urbani per abitante e altitudine\"](http://www.datiopen.it/it/opendata/Regione_Sardegna_Centri_Urbani_per_abitante_e_altititudine) e che contiene dei dati aggiornati al 13/01/2014. Come si intuisce dal nome, è un elenco di comuni con vari dati, tra cui il numero di abitanti e l'altezza del comune in metri sul livello del mare.\n",
    "\n",
    "#### Consegna\n",
    "\n",
    "I dati sono contenuti in un file di tipo CSV: `Sardegna_centri_urbani_per_abitante_e_altitudine_2014-01-13.csv` contenuto nella cartella `files_esercizi/` del nostro repository."
   ]
  },
  {
   "attachments": {},
   "cell_type": "markdown",
   "metadata": {},
   "source": [
    "Apri il file in un editor di testo per visualizzare il suo contenuto \"grezzo\" e le <u>prime 10 righe, compresa la prima riga di intestazione</u>, appaiono così:"
   ]
  },
  {
   "attachments": {},
   "cell_type": "markdown",
   "metadata": {},
   "source": [
    "<pre>\n",
    "COMUNE;PROVINCIA;REGIONE;NOME LOCALITA';ABITANTI LOCALITA';QUOTA LOCALITA';ID FEATURE;CODICE LOCALITA'\n",
    "ALGHERO;SASSARI;Sardegna;ALGHERO;33677;7;348;1001\n",
    "ALGHERO;SASSARI;Sardegna;FERTILIA;1146;9;346;1002\n",
    "ALGHERO;SASSARI;Sardegna;GUARDIA GRANDE;10;30;335;2001\n",
    "ALGHERO;SASSARI;Sardegna;MARISTELLA PORTO CONTE;379;9;344;1003\n",
    "ALGHERO;SASSARI;Sardegna;PISCHINA SALIDA;17;5;349;1004\n",
    "ALGHERO;SASSARI;Sardegna;SANTA MARIA LA PALMA;112;34;330;1005\n",
    "ALGHERO;SASSARI;Sardegna;SA SEGADA;15;20;339;2002\n",
    "ALGHERO;SASSARI;Sardegna;TRAMARIGLIO;4;5;345;2003\n",
    "ANELA;SASSARI;Sardegna;ANELA;924;446;375;1001\n",
    "</pre>"
   ]
  },
  {
   "attachments": {},
   "cell_type": "markdown",
   "metadata": {},
   "source": [
    "\n",
    "Importando i dati in un foglio di calcolo, l'aspetto di queste prime 10 righe appare così:"
   ]
  },
  {
   "attachments": {},
   "cell_type": "markdown",
   "metadata": {},
   "source": [
    "| COMUNE    | PROVINCIA | REGIONE  | NOME LOCALITA'         | ABITANTI LOCALITA' | QUOTA LOCALITA' | ID FEATURE | CODICE LOCALITA' |\n",
    "|-----------|-----------|----------|------------------------|--------------------|-----------------|------------|------------------|\n",
    "| ALGHERO   | SASSARI   | Sardegna | ALGHERO                | 33677              | 7               | 348        | 1001             |\n",
    "| ALGHERO   | SASSARI   | Sardegna | FERTILIA               | 1146               | 9               | 346        | 1002             |\n",
    "| ALGHERO   | SASSARI   | Sardegna | GUARDIA GRANDE         | 10                 | 30              | 335        | 2001             |\n",
    "| ALGHERO   | SASSARI   | Sardegna | MARISTELLA PORTO CONTE | 379                | 9               | 344        | 1003             |\n",
    "| ALGHERO   | SASSARI   | Sardegna | PISCHINA SALIDA        | 17                 | 5               | 349        | 1004             |\n",
    "| ALGHERO   | SASSARI   | Sardegna | SANTA MARIA LA PALMA   | 112                | 34              | 330        | 1005             |\n",
    "| ALGHERO   | SASSARI   | Sardegna | SA SEGADA              | 15                 | 20              | 339        | 2002             |\n",
    "| ALGHERO   | SASSARI   | Sardegna | TRAMARIGLIO            | 4                  | 5               | 345        | 2003             |\n",
    "| ANELA     | SASSARI   | Sardegna | ANELA                  | 924                | 446             | 375        | 1001             |"
   ]
  },
  {
   "attachments": {},
   "cell_type": "markdown",
   "metadata": {},
   "source": [
    "\n",
    "Il cliente ti chiede di cominciare a scrivere un primo programma per leggere questo file CSV, quindi contare il numero di record, ovvero di comuni, che sono più in alto di 600 metri s.l.m. e il numero di abitanti totali residenti in questi comuni.\n",
    "\n",
    "Dunque i dati che ti interessano sono:\n",
    "\n",
    "- numero di abitanti nel comune: campo `ABITANTI LOCALITA'`\n",
    "- l'altezza del comune in metri: campo `QUOTA LOCALITA'`\n"
   ]
  },
  {
   "attachments": {},
   "cell_type": "markdown",
   "metadata": {},
   "source": [
    "Output atteso:\n",
    "<pre>\n",
    "N. centri urbani sopra i 600 m s.l.m.: 55\n",
    "N. abitanti sopra i 600 m s.l.m.: 75251\n",
    "</pre>"
   ]
  },
  {
   "cell_type": "markdown",
   "metadata": {},
   "source": [
    "# --------- Soluzioni ---------"
   ]
  },
  {
   "attachments": {},
   "cell_type": "markdown",
   "metadata": {},
   "source": [
    "###  Pseudocodice:\n",
    "\n",
    "<pre>\n",
    "- creo due contatori per tracciare il numero di comuni e abitanti;\n",
    "- apro il file;\n",
    "- faccio il parsing del file;\n",
    "- (se necessario, salto la prima riga, dove c'è l'intestazione;)\n",
    "- per ciascun record/comune:\n",
    "    - se l'altezza del comune è maggiore di 600 m s.l.m.:\n",
    "        - incremento i contatori dei comuni e degli abitanti;\n",
    "- stampo i risultati.\n",
    "</pre>"
   ]
  },
  {
   "cell_type": "code",
   "execution_count": 5,
   "metadata": {},
   "outputs": [
    {
     "name": "stdout",
     "output_type": "stream",
     "text": [
      "N. centri urbani sopra i 600 m s.l.m.: 55\n",
      "N. abitanti sopra i 600 m s.l.m.: 75251\n"
     ]
    }
   ],
   "source": [
    "import csv\n",
    "\n",
    "tot_comuni = 0\n",
    "tot_abitanti = 0\n",
    "\n",
    "with open('../../files_esercizi/Sardegna_centri_urbani_per_abitante_e_altitudine_2014-01-13.csv',\n",
    "          encoding='latin-1') as file_in:\n",
    "    reader_obj = csv.reader(file_in, delimiter=';')  # ottengo una lista di liste (come iterabile)\n",
    "    next(reader_obj)             # salto la prima riga, dove c'è l'intestazione\n",
    "    for linea in reader_obj:     # per ciascuna lista (la riga, che corrisponde a un record/comune)\n",
    "        if int(linea[5]) > 600:  # se il valore nella sesta colonna (index 5) è maggiore di 600\n",
    "            tot_comuni += 1      # incrementa il contatore dei comuni di 1\n",
    "            tot_abitanti += int(linea[4])  # incrementa il contatore abitanti del numero di\n",
    "                                           #    abitanti del comune corrente (colonna 5, index 6)\n",
    "\n",
    "print('N. centri urbani sopra i 600 m s.l.m.:', tot_comuni)\n",
    "print('N. abitanti sopra i 600 m s.l.m.:', tot_abitanti)\n"
   ]
  },
  {
   "attachments": {},
   "cell_type": "markdown",
   "metadata": {},
   "source": [
    "Dato che è scomodo lavorare con le liste e accedere alle colonne dovendole chiamare per numero di indice, decidi ci usare `csv.DictReader` per poter lavorare su un dizionario."
   ]
  },
  {
   "cell_type": "code",
   "execution_count": 11,
   "metadata": {},
   "outputs": [
    {
     "name": "stdout",
     "output_type": "stream",
     "text": [
      "N. centri urbani sopra i 600 m s.l.m..: 55\n",
      "N. abitanti sopra i 600 m s.l.m.: 75251\n"
     ]
    }
   ],
   "source": [
    "import csv\n",
    "\n",
    "tot_comuni = 0\n",
    "tot_abitanti = 0\n",
    "\n",
    "with open('../../files_esercizi/Sardegna_centri_urbani_per_abitante_e_altitudine_2014-01-13.csv',\n",
    "          encoding='latin-1') as file_in:\n",
    "    reader_obj = csv.DictReader(file_in, delimiter=';') # trasformiamo ogni riga in un dizionario\n",
    "                                                        #    e ottengo una lista di dizionari (come mappatura iterabile)\n",
    "    for linea in reader_obj:                            # per ciascuno di questi dizionari (che son i record/comuni)\n",
    "        if int(linea[\"QUOTA LOCALITA'\"]) > 600:         # se il valore alla chiave \"QUOTA LOCALITA'\" è maggiore di 600\n",
    "                                                        # accedo al valore con la chiave anziché con l'indice\n",
    "            tot_comuni += 1                             # incrementa il contatore dei comuni di 1\n",
    "            tot_abitanti += int(linea[\"ABITANTI LOCALITA'\"])  # incrementa il contatore abitanti del numero di\n",
    "                                                              #    abitanti indicati alla chiave \"ABITANTI LOCALITA'\"\n",
    "\n",
    "print('N. centri urbani sopra i 600 m s.l.m..:', tot_comuni)\n",
    "print('N. abitanti sopra i 600 m s.l.m.:', tot_abitanti)"
   ]
  },
  {
   "attachments": {},
   "cell_type": "markdown",
   "metadata": {},
   "source": [
    "# Variante: Sardi montani (JSON)\n",
    "\n",
    "Requisiti: modulo built-in `json`.\n",
    "\n",
    "La stessa base di dati dell'esercizio precedente è anche disponibile in formato JSON.\n",
    "\n",
    "Il file è `Sardegna_centri_urbani_per_abitante_e_altitudine_2014-01-13.json`, anche esso contenuto nella cartella `files_esercizi/` del nostro repository.\n",
    "\n",
    "L'esercizio è il medesimo del precedente, ma ora invece di leggere e manipolare dati CSV, devi usare il modulo `json` e i relativi metodi."
   ]
  },
  {
   "cell_type": "code",
   "execution_count": 20,
   "metadata": {},
   "outputs": [
    {
     "name": "stdout",
     "output_type": "stream",
     "text": [
      "N. centri urbani sopra i 600 m s.l.m.: 55\n",
      "N. abitanti sopra i 600 m s.l.m.: 75251\n"
     ]
    }
   ],
   "source": [
    "import json\n",
    "# from pprint import pprint\n",
    "\n",
    "tot_comuni = 0\n",
    "tot_abitanti = 0\n",
    "\n",
    "with open('../../files_esercizi/Sardegna_centri_urbani_per_abitante_e_altitudine_2014-01-13.json',\n",
    "          encoding='latin-1') as file_in:\n",
    "    json_list = json.load(file_in)           # ottengo una lista di dizionari, uno per cisascun record\n",
    "    # pprint(json_list)\n",
    "    for comune in json_list:                 # per ciascun dizionario (che è un record/comune)\n",
    "        if comune[\"QUOTA LOCALITA'\"] > 600:  # se il valore alla chiave \"QUOTA LOCALITA'\" è maggiore di 600\n",
    "            tot_comuni += 1                  # incrementa il contatore dei comuni di 1\n",
    "            tot_abitanti += comune[\"ABITANTI LOCALITA'\"]  # incrementa il contatore abitanti del numero di\n",
    "                                                          #    abitanti indicati alla chiave \"ABITANTI LOCALITA'\"\n",
    "        \n",
    "print('N. centri urbani sopra i 600 m s.l.m.:', tot_comuni)\n",
    "print('N. abitanti sopra i 600 m s.l.m.:', tot_abitanti)"
   ]
  },
  {
   "attachments": {},
   "cell_type": "markdown",
   "metadata": {},
   "source": [
    "# Variante: script generico (CSV e JSON)\n",
    "\n",
    "#### Contesto\n",
    "\n",
    "A questo punto decidete di provare a rilevare direttamente il formato del file (dall'estensione) e effettuare i conteggi come per gli esercizi precedenti. L'unica differenza è che ora abbiamo un intervallo di altezza in cui cercare. Dobbiamo trovare tutti i record che sono a un'altezza compresa tra l'altezza minima e massima indicate dall'utente.\n",
    "\n",
    "#### Consegna\n",
    "\n",
    "Ora prova a creare uno script che prende in ingresso (input) o parte con in seguenti parametri:\n",
    "\n",
    "- un percorso a un file CSV o JSON;\n",
    "- l'altitudine minima;\n",
    "- l'altitudine massima.\n",
    "\n",
    "E che svolge i seguenti compiti:\n",
    "\n",
    "- determinare il tipo di file (dall'estensione) e usare l'apposito metodo per leggere il file;\n",
    "- filtrare i dati per un intervallo di  altitudine (tra una massima e una minima)."
   ]
  },
  {
   "attachments": {},
   "cell_type": "markdown",
   "metadata": {},
   "source": [
    "Output atteso:\n",
    "<pre>\n",
    "******** REPORT ********\n",
    "File: Sardegna_centri_urbani_per_abitante_e_altitudine_2014-01-13\n",
    "Formato: .JSON\n",
    "Filtro applicato: altitudine compresa tra 600 e inf metri s.l.m.\n",
    "N. centri urbali: 55\n",
    "N. abitanti: 75251\n",
    "------------------------\n",
    "</pre>"
   ]
  },
  {
   "cell_type": "markdown",
   "metadata": {},
   "source": [
    "I valori di input (nome file, altezza min e max) li puoi scrivere direttamente \"hard-coded\" come costanti, puoi utilizzare la funzione `input()` o anche accettare argomenti `sys.argv`. Inizialmente, scrivere direttamente gli input come costanti ti faciliterà il lavoro. Una volta che l'algoritmo funziona, puoi sempre migliorare le modalità di inserimento degli input da parte dell'utente."
   ]
  },
  {
   "cell_type": "code",
   "execution_count": 18,
   "metadata": {},
   "outputs": [
    {
     "name": "stdout",
     "output_type": "stream",
     "text": [
      "\n",
      "******** REPORT ********\n",
      "File: Sardegna_centri_urbani_per_abitante_e_altitudine_2014-01-13\n",
      "Formato: .CSV\n",
      "Filtro applicato: altitudine compresa tra 600 e inf metri s.l.m.\n",
      "N. centri urbali: 55\n",
      "N. abitanti: 75251\n",
      "------------------------\n",
      "\n"
     ]
    }
   ],
   "source": [
    " \n",
    "import json\n",
    "from pathlib import Path\n",
    "\n",
    "# parametri del filtro\n",
    "h_min = 600\n",
    "h_max = float('inf')\n",
    "\n",
    "# parametri del file in ingresso\n",
    "file_Path = Path('../../files_esercizi/Sardegna_centri_urbani_per_abitante_e_altitudine_2014-01-13.csv')\n",
    "encoding_in = 'latin-1'\n",
    "csv_delimiter = ';'\n",
    "\n",
    "# funzione per leggere i CSV\n",
    "def elabora_csv(file):\n",
    "    tot_comuni = tot_abitanti = 0\n",
    "    reader_obj = csv.DictReader(file, delimiter=';')\n",
    "    for record in reader_obj:\n",
    "        if h_min < int(record[\"QUOTA LOCALITA'\"]) < h_max:\n",
    "            tot_comuni += 1\n",
    "            tot_abitanti += int(record[\"ABITANTI LOCALITA'\"])\n",
    "    return tot_comuni, tot_abitanti\n",
    "\n",
    "# funzione per leggere i JSON\n",
    "def elabora_json(file):\n",
    "    tot_comuni = tot_abitanti = 0\n",
    "    json_list = json.load(file)\n",
    "    for record in json_list:\n",
    "        if h_min < record[\"QUOTA LOCALITA'\"] < h_max:\n",
    "            tot_comuni += 1\n",
    "            tot_abitanti += record[\"ABITANTI LOCALITA'\"]\n",
    "    return tot_comuni, tot_abitanti\n",
    "\n",
    "# algoritmo principale\n",
    "with open(file_Path, 'r', encoding=encoding_in) as file_in:\n",
    "    if file_Path.suffix.lower() == '.csv':     # se l'estensione del file è .csv\n",
    "        report = elabora_csv(file_in)          # usa la funzione per aprire i\n",
    "                                               #    CSV e le passa il file aperto\n",
    "    elif file_Path.suffix.lower() == '.json':  # se l'estensione del file è .json\n",
    "        report = elabora_json(file_in)         # usa la funzione per aprire i JSON\n",
    "                                               #    e le passa il file aperto\n",
    "    else:                                      # altrimenti, solleva un errore\n",
    "        raise ValueError('I file possono essere solo di tipo CSV o JSON.')\n",
    "\n",
    "# stampa il report finale\n",
    "print(f'''\n",
    "******** REPORT ********\n",
    "File: {file_Path.stem}\n",
    "Formato: {file_Path.suffix.upper()}\n",
    "Filtro applicato: altitudine compresa tra {h_min} e {h_max} metri s.l.m.\n",
    "N. centri urbali: {report[0]}\n",
    "N. abitanti: {report[1]}\n",
    "------------------------\n",
    "''')"
   ]
  },
  {
   "attachments": {},
   "cell_type": "markdown",
   "metadata": {},
   "source": [
    "# Variante: estrazione dati e script completo"
   ]
  },
  {
   "attachments": {},
   "cell_type": "markdown",
   "metadata": {},
   "source": [
    "Arrivato a questo punto, decidete di andare oltre e provare a esportare in un file tutti i record trovati.\n",
    "\n",
    "Aggiungi dunque la funzionalità di esportazione dei dati trovati: CSV o JSON, è l'utente che deve poter decidere.\n",
    "\n",
    "In questo modo avrai creato un convertitore di dati da CSV a JSON e viceversa con la possibilità di filtrare i dati prima dell'esportazione."
   ]
  },
  {
   "attachments": {},
   "cell_type": "markdown",
   "metadata": {},
   "source": [
    "#### Consegna 1\n",
    "\n",
    "Prova a scrivere qua sotto l'algoritmo per gestire:\n",
    "\n",
    "- Funzione di esportazione in CSV e JSON."
   ]
  },
  {
   "attachments": {},
   "cell_type": "markdown",
   "metadata": {},
   "source": [
    "###  Pseudocodice:\n",
    "\n",
    "<pre>\n",
    "- definisco parametri e opzioni di default;\n",
    "\n",
    "- leggo parametri e opzioni;\n",
    "\n",
    "- definisco le funzioni per leggere e creare il report da CSV e JSON:\n",
    "    IN CIASCUNA FUNZIONE:\n",
    "    - creo due contatori per tracciare il numero di comuni e abitanti;\n",
    "    - creo un contenitore per i record trovati;\n",
    "    - faccio il parsing del file;\n",
    "    - per ciascun record/comune:;\n",
    "        - se l'altitudine del comune è compresa tra i limiti min e max indicati:\n",
    "            - incremento i contatori dei comune degli abitanti;\n",
    "            - aggiungo il record al contenitore;\n",
    "\n",
    "- definisco le funzioni per scrivere i record trovati in CSV e JSON:\n",
    "    IN CIASCUNA FUNZIONE:\n",
    "    - a partire da file di output e dati da scrivere;\n",
    "    - scrivo i dati sul file di output;\n",
    "\n",
    "- apro il file da leggere;\n",
    "    - creo il \"contenitore\" per il Report e gli assegno Null\n",
    "    - se il file ha estensione CSV:\n",
    "        - usa la funzione creata per il CSV per ottenere il Report;\n",
    "    - se il file ha estensione JSON:\n",
    "        - usa la funzione creata per il JSON per ottenere il Report;\n",
    "    - altrimenti:\n",
    "        - solleva un errore informando l'utente dei tipi di file accettati;\n",
    "\n",
    "- se fino qua è andato tutto bene, cioè il Report non è Null:\n",
    "    - apro il file su cui scrivere;\n",
    "        - con il REport generato dalle funzioni di \"lettura\";\n",
    "        - se il file ha estensione CSV:\n",
    "            - passa alla funzione per scrivere il CSV il file di output e il report;\n",
    "        - se il file ha estensione JSON:\n",
    "            - passa alla funzione per scrivere il JSON il file di output e il report;\n",
    "        - altrimenti:\n",
    "            - solleva un errore informando l'utente dei tipi di file accettati.\n",
    "- altrimenti, se il Report è Null:\n",
    "    - qualcosa è andato storto, quindi non scrivo nulla e informo l'utente\n",
    "\n",
    "</pre>"
   ]
  },
  {
   "cell_type": "code",
   "execution_count": 3,
   "metadata": {},
   "outputs": [],
   "source": [
    "import csv\n",
    "import json\n",
    "from pathlib import Path\n",
    "\n",
    "# Simulo gli argomenti provenienti da sys.argv\n",
    "file_in = '../../files_esercizi/Sardegna_centri_urbani_per_abitante_e_altitudine_2014-01-13.json'\n",
    "file_out = '../../files_esercizi/outputs/sardegna_test.json'\n",
    "\n",
    "# Preparo gli oggetti path-like\n",
    "file_Path_in = Path(file_in)\n",
    "file_Path_out = Path(file_out)\n",
    "\n",
    "# Altitudine\n",
    "h_min = 600\n",
    "h_max = float('inf')\n",
    "\n",
    "# Encoding\n",
    "encoding_in = 'latin-1'\n",
    "encoding_out = 'utf-8'\n",
    "\n",
    "# CSV Delimiters\n",
    "csv_delimiter_in = ';'\n",
    "csv_delimiter_out = ';'\n",
    "\n",
    "\n",
    "# funzione per leggere i CSV\n",
    "def read_csv(file):\n",
    "    tot_comuni = tot_abitanti = 0\n",
    "    record_filtrati = [] \n",
    "    reader_obj = csv.DictReader(file, delimiter=';')\n",
    "    for record in reader_obj:\n",
    "        if h_min < int(record[\"QUOTA LOCALITA'\"]) < h_max:\n",
    "            tot_comuni += 1\n",
    "            tot_abitanti += int(record[\"ABITANTI LOCALITA'\"])\n",
    "            record_filtrati.append(record)\n",
    "    return {\n",
    "        'tot_comuni': tot_comuni,\n",
    "        'tot_abitanti': tot_abitanti,\n",
    "        'records': record_filtrati\n",
    "    }\n",
    "\n",
    "# funzione per leggere i JSON\n",
    "def read_json(file):\n",
    "    tot_comuni = tot_abitanti = 0\n",
    "    record_filtrati = [] \n",
    "    json_list = json.load(file)\n",
    "    for record in json_list:\n",
    "        if h_min < record[\"QUOTA LOCALITA'\"] < h_max:\n",
    "            tot_comuni += 1\n",
    "            tot_abitanti += record[\"ABITANTI LOCALITA'\"]\n",
    "            record_filtrati.append(record)\n",
    "    return {\n",
    "        'tot_comuni': tot_comuni,\n",
    "        'tot_abitanti': tot_abitanti,\n",
    "        'records': record_filtrati\n",
    "    }\n",
    "\n",
    "\n",
    "# funzione per scrivere i CSV\n",
    "def write_csv(file, records):\n",
    "    intestazioni = records[0].keys()\n",
    "    file_writer = csv.DictWriter(file, delimiter=csv_delimiter_out,\n",
    "                                 lineterminator='\\n', fieldnames=intestazioni)\n",
    "    file_writer.writeheader()  # scrive la riga di intestazione\n",
    "    file_writer.writerows(records)\n",
    "\n",
    "# funzione per scrivere i JSON\n",
    "def write_json(file, records):\n",
    "    json.dump(records, file, indent=2)\n",
    "\n",
    "\n",
    "# algoritmo principale\n",
    "with file_Path_in.open('r', encoding=encoding_in) as file_in:\n",
    "    report = None\n",
    "    if file_Path_in.suffix.lower() == '.csv':\n",
    "        report = read_csv(file_in, csv_delimiter)\n",
    "    elif file_Path_in.suffix.lower() == '.json':\n",
    "        report = read_json(file_in)\n",
    "    else:\n",
    "        raise ValueError('I file ammessi come input possono essere solo '\n",
    "                            'di tipo CSV o JSON.')\n",
    "if report is not None:\n",
    "    with file_Path_out.open('w', encoding=encoding_out) as file_out:\n",
    "        if file_Path_out.suffix.lower() == '.csv':\n",
    "            write_csv(file_out, report['records']), \n",
    "        elif file_Path_out.suffix.lower() == '.json':\n",
    "            write_json(file_out, report['records'])\n",
    "        else:\n",
    "            raise ValueError('I file ammessi come output possono essere solo '\n",
    "                             'di tipo CSV o JSON.')\n",
    "else:\n",
    "    print('Si è verificato un errore non previsto. Si prega di contattare il '\n",
    "          'Supporto Tecnico e riportare il presente errore. Grazie.')"
   ]
  },
  {
   "attachments": {},
   "cell_type": "markdown",
   "metadata": {},
   "source": [
    "#### Consegna 2\n",
    "\n",
    "Ora che abbiamo l'algoritmo di massima, prova areare uno script che accetti la seguente sintassi:"
   ]
  },
  {
   "cell_type": "markdown",
   "metadata": {},
   "source": [
    "<pre>\n",
    "$ ./centri_urbani_per_altitudine.py <input_file> <output_file>\n",
    "</pre>"
   ]
  },
  {
   "cell_type": "code",
   "execution_count": null,
   "metadata": {},
   "outputs": [],
   "source": [
    "# Importo il modulo per gestire i gli argomenti tramite sys.argv\n",
    "import sys\n",
    "import csv\n",
    "import json\n",
    "from pathlib import Path\n",
    "\n",
    "# Copia questo codice in un file .py a sé stante e scrivi direttamente lì per\n",
    "# creare lo script.\n"
   ]
  },
  {
   "attachments": {},
   "cell_type": "markdown",
   "metadata": {},
   "source": [
    "Guarda questa proposta di soluzione: [`esercizi/soluzioni/centri_urbani_per_altitudine.py`](./centri_urbani_per_altitudine.py)"
   ]
  },
  {
   "cell_type": "markdown",
   "metadata": {},
   "source": [
    "## Variante: con argomenti opzionali, ovvero le opzioni"
   ]
  },
  {
   "attachments": {},
   "cell_type": "markdown",
   "metadata": {},
   "source": [
    "#### Contesto\n",
    "Dato che il tuo cliente è un geometra, ha l'abitudine di scrivere i metri con l'abbreviazione `mt` o `mt.`, come fanno molti suoi colleghi. Tu gli speghi che bisognerebbe scrivere solo `m` perché è una convenzione internazionale e ci sono anche direttive ufficiali dello Stato che indicano che le forme, tutte italiane, `mt` o `mt.` sono da considerarsi errate. Dopo un'accesa discussione sul Sistema Internazionale e i gerghi professionali, decidete che nella versione finale dello script l'utente potrà inserire manualmente il simbolo dei metri da usarsi nei report finali. È un cliente quindi decidi di accontentarlo, ma di default, se l'utente non indica nulla, sarà usato il simbolo corretto: `m`.\n",
    "\n",
    "#### Consegna\n",
    "\n",
    "Creare uno script che accetti la seguente sintassi:\n",
    "\n",
    "```bash\n",
    "./centri_urbani_per_altitudine.py [options] <input_file> <output_file>\n",
    "```\n",
    "\n",
    "L'unica opzione è `-m` oppure `--metri` che accetta un argomento, ovvero la stringa da usare per indicare i metri. Ad esempio `m` (default), `mt`, `mt.`, `metri` o qualunque altra stringa indichi l'utente."
   ]
  },
  {
   "cell_type": "code",
   "execution_count": 1,
   "metadata": {},
   "outputs": [],
   "source": [
    "import csv\n",
    "import json\n",
    "from pathlib import Path\n",
    "# Importo il modulo per gestire i parametri\n",
    "from optparse import OptionParser\n",
    "\n",
    "# Copia questo codice in un file .py a sé stante e scrivi direttamente lì per\n",
    "# creare lo script, dato che OptionParser diventa complicato simulare il \n",
    "# comporamento di OptionParser qua su Jupyter Notebook.\n"
   ]
  }
 ],
 "metadata": {
  "kernelspec": {
   "display_name": ".venv",
   "language": "python",
   "name": "python3"
  },
  "language_info": {
   "codemirror_mode": {
    "name": "ipython",
    "version": 3
   },
   "file_extension": ".py",
   "mimetype": "text/x-python",
   "name": "python",
   "nbconvert_exporter": "python",
   "pygments_lexer": "ipython3",
   "version": "3.11.2"
  },
  "orig_nbformat": 4
 },
 "nbformat": 4,
 "nbformat_minor": 2
}
