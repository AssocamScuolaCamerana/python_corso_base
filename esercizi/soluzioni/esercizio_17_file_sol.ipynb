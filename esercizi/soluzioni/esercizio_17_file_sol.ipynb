{
 "cells": [
  {
   "attachments": {},
   "cell_type": "markdown",
   "metadata": {},
   "source": [
    "# Esercizio: Animali in riga"
   ]
  },
  {
   "attachments": {},
   "cell_type": "markdown",
   "metadata": {},
   "source": [
    "Il file `animali.txt` nella cartella `files_esercizi/` (sulla root del repo) contiene un elenco di animali, ciascuno scritto su una nuova riga. Ad esempio:\n",
    "\n",
    "<pre>\n",
    "coniglio\n",
    "gatto\n",
    "antilope\n",
    "tartaruga\n",
    "...\n",
    "</pre>\n",
    "\n",
    "Crea un nuovo file, `animali_in_riga.txt` nella cartella `outputs/` che si trova allo stesso livello di questo notebook (la cartella dovrebbe già esistere, altrimenti creala).\n",
    "\n",
    "Devi prendere i nomi degli animali contenuti nel file `animali.txt` e scriverli nel file di ouput `animali_in_riga.txt` in modo che gli animali <u>siano elencati su una sola riga</u> e separati da un singolo spazio vuoto `' '`.\n",
    "\n",
    "Non dimenticare di gestire la corretta chiusura di tutti i file, in modo esplicito oppure utilizzando un context manager.\n",
    "\n",
    "Suggerimento: Il fatto che gli animali nel primo file siano scritti ciascuno su una nuova riga significa che ogni stringa del file, tranne l'ultima, termina con `'\\n'`. Per eliminare `\\n`, si possono usare i metodi `str.rstrip()` o `str.replace()`."
   ]
  },
  {
   "attachments": {},
   "cell_type": "markdown",
   "metadata": {},
   "source": [
    "## Modo \"leggero\": ciclo `for` e `str.rstrip()`"
   ]
  },
  {
   "cell_type": "code",
   "execution_count": 1,
   "metadata": {},
   "outputs": [],
   "source": [
    "with open('../files_esercizi/animali.txt', 'r', encoding='utf-8') as file_in, \\\n",
    "      open('./outputs/animali_in_riga.txt', 'w', encoding='utf-8') as file_out:\n",
    "    for linea in file_in:                     # legge una riga alla volta, direttamente dal file\n",
    "        file_out.write(linea.rstrip() + ' ')  # uso str.rstrip()"
   ]
  },
  {
   "attachments": {},
   "cell_type": "markdown",
   "metadata": {},
   "source": [
    "## Modo \"pesante\": `file.readlines()` e `str.replace()`"
   ]
  },
  {
   "cell_type": "code",
   "execution_count": null,
   "metadata": {},
   "outputs": [],
   "source": [
    "with (open('../files_esercizi/animali.txt', 'r', encoding='utf-8') as file_in,\n",
    "      open('./outputs/animali_in_riga.txt', 'w', encoding='utf-8') as file_out):\n",
    "    for linea in file_in.readlines():             # legge tutte le righe e le mette in una lista\n",
    "        file_out.write(linea.replace('\\n', ' '))  # uso str.replace()"
   ]
  },
  {
   "attachments": {},
   "cell_type": "markdown",
   "metadata": {},
   "source": [
    "## Modalità concatenamento estremo (poco pytonico)"
   ]
  },
  {
   "cell_type": "code",
   "execution_count": 3,
   "metadata": {},
   "outputs": [
    {
     "data": {
      "text/plain": [
       "98"
      ]
     },
     "execution_count": 3,
     "metadata": {},
     "output_type": "execute_result"
    }
   ],
   "source": [
    "open('./outputs/animali_in_riga.txt', 'w').write(' '.join(open('../files_esercizi/animali.txt').read().split()))"
   ]
  },
  {
   "attachments": {},
   "cell_type": "markdown",
   "metadata": {},
   "source": [
    "> Questa modalità è interessante perché in quessto modo non dovrebbe essere necessario chiudere esplicitamente i file.\n",
    "> \n",
    "> È presumibile che, non avendo assegnato direttamente i file aperti a una variabile, dopo che il codice è stato eseguito, i file vengano eliminati dalla memoria dal Garbage Collector; e questo dovrebbe portare alla chiusura dei file come effetto collaterale.\n",
    ">\n",
    "> *NOTA: uso il condizionale perché non ho ancora verificato il ragionamento ;)*"
   ]
  }
 ],
 "metadata": {
  "kernelspec": {
   "display_name": ".venv",
   "language": "python",
   "name": "python3"
  },
  "language_info": {
   "codemirror_mode": {
    "name": "ipython",
    "version": 3
   },
   "file_extension": ".py",
   "mimetype": "text/x-python",
   "name": "python",
   "nbconvert_exporter": "python",
   "pygments_lexer": "ipython3",
   "version": "3.11.2"
  },
  "orig_nbformat": 4
 },
 "nbformat": 4,
 "nbformat_minor": 2
}
