{
 "cells": [
  {
   "attachments": {},
   "cell_type": "markdown",
   "metadata": {},
   "source": [
    "# Esercizio: Sardi montani (CSV)"
   ]
  },
  {
   "attachments": {},
   "cell_type": "markdown",
   "metadata": {},
   "source": [
    "Requisiti: modulo built-in `csv`.\n",
    "\n",
    "La Regione Sardenga ha pubblicato una tabella denominata [\"Centri urbani per abitante e altitudine\"](http://www.datiopen.it/it/opendata/Regione_Sardegna_Centri_Urbani_per_abitante_e_altititudine) e che contiene dei dati aggiornati al 13/01/2014. Come si intuisce dal nome, è un elenco di comuni con vari dati, tra cui il numero di abitanti e l'altezza del comune in metri.\n",
    "\n",
    "I dati sono contenuti in un file di tipo CSV: `Sardegna_centri_urbani_per_abitante_e_altitudine_2014-01-13.csv` contenuto nella cartella `files_esercizi/` del nostro repository.\n",
    "\n",
    "I dati che ti interessano sono:\n",
    "\n",
    "- numero di abitanti nel comune: campo `ABITANTI LOCALITA'`\n",
    "- l'altezza del comune in metri: campo `QUOTA LOCALITA'`\n",
    "\n",
    "Il vostro compito è creare un programma per leggere questo file CSV, quindi contare il numero di record, ovvero di comuni, che sono più in alto di 600 mt e il numero di abitanti totali residenti in questi comuni."
   ]
  },
  {
   "attachments": {},
   "cell_type": "markdown",
   "metadata": {},
   "source": [
    "Output atteso:\n",
    "<pre>\n",
    "N. centri urbani sopra i 600 mt.:\n",
    "N. abitanti sopra i 600 mt.:\n",
    "</pre>"
   ]
  },
  {
   "cell_type": "code",
   "execution_count": null,
   "metadata": {},
   "outputs": [],
   "source": [
    "# scrivi qui"
   ]
  },
  {
   "attachments": {},
   "cell_type": "markdown",
   "metadata": {},
   "source": [
    "# Variante: Sardi montani (JSON)\n",
    "\n",
    "Requisiti: modulo built-in `json`.\n",
    "\n",
    "La stessa base di dati dell'esercizio precedente è anche disponibile in formato JSON.\n",
    "\n",
    "Il file è `Sardegna_centri_urbani_per_abitante_e_altitudine_2014-01-13.json`, anche esso contenuto nella cartella `files_esercizi/` del nostro repository.\n",
    "\n",
    "L'esercizio è il medesimo del precedente, ma ora invece di leggere e manipolare dati CSV, devi usare il modulo `json` e i relativi metodi."
   ]
  },
  {
   "cell_type": "code",
   "execution_count": null,
   "metadata": {},
   "outputs": [],
   "source": [
    "# scrivi qui"
   ]
  },
  {
   "attachments": {},
   "cell_type": "markdown",
   "metadata": {},
   "source": [
    "# Variante: script generico (CSV e JSON)\n",
    "\n",
    "Ora prova a creare uno script che prende in ingresso (input):\n",
    "- un file (CSV o JSON);\n",
    "- l'altezza minima;\n",
    "- l'altezza massima.\n",
    "\n",
    "Il nostro codice deve rilevare direttamente il formato del file (dall'estensione) e effettuare i conteggi come per gli esercizi precedenti. L'unica differenza è che ora abbiamo un intervallo di altezza in cui cercare. Dobbiamo trovare tutti i record che sono a un'altezza compresa tra l'altezza minima e massima indicate dall'utente."
   ]
  },
  {
   "attachments": {},
   "cell_type": "markdown",
   "metadata": {},
   "source": [
    "Output atteso:\n",
    "<pre>\n",
    "N. centri urbani compresi tra XXX e YYY mt.:\n",
    "N. abitanti compresi tra XXX e YYY mt.:\n",
    "</pre>"
   ]
  },
  {
   "cell_type": "markdown",
   "metadata": {},
   "source": [
    "I valori di input (nome file, altezza min e max) li puoi scrivere direttamente \"hard-coded\" come costanti, puoi utilizzare la funzione `input()` o anche accettare argomenti `sys.argv`. Inizialmente, scrivere direttamente gli input come costanti ti faciliterà il lavoro. Una volta che l'algoritmo funziona, puoi sempre migliorare le modalità di inserimento degli input da parte dell'utente."
   ]
  },
  {
   "cell_type": "code",
   "execution_count": null,
   "metadata": {},
   "outputs": [],
   "source": [
    "# scrivi qui"
   ]
  },
  {
   "attachments": {},
   "cell_type": "markdown",
   "metadata": {},
   "source": [
    "# Variante: estrazione dati"
   ]
  },
  {
   "attachments": {},
   "cell_type": "markdown",
   "metadata": {},
   "source": [
    "Se sei arrivato fino qua, perchè non esportare in un file anche tutti i record trovati?\n",
    "\n",
    "Aggiungi dunque la funzionalità di esportazione dei dati trovati: CSV o JSON, è l'utente che deve poter decidere.\n",
    "\n",
    "In questo modo avrai creato un convertitore di dati da CSV a JSON e viceversa con la possibilità di filtrare i dati prima dell'esportazione."
   ]
  },
  {
   "cell_type": "code",
   "execution_count": null,
   "metadata": {},
   "outputs": [],
   "source": [
    "# scrivi qui"
   ]
  }
 ],
 "metadata": {
  "kernelspec": {
   "display_name": ".venv",
   "language": "python",
   "name": "python3"
  },
  "language_info": {
   "codemirror_mode": {
    "name": "ipython",
    "version": 3
   },
   "file_extension": ".py",
   "mimetype": "text/x-python",
   "name": "python",
   "nbconvert_exporter": "python",
   "pygments_lexer": "ipython3",
   "version": "3.11.2"
  },
  "orig_nbformat": 4
 },
 "nbformat": 4,
 "nbformat_minor": 2
}
