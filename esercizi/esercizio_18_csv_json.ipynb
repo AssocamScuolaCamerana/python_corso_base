{
 "cells": [
  {
   "attachments": {},
   "cell_type": "markdown",
   "metadata": {},
   "source": [
    "# Esercizio: Sardi montani (CSV)"
   ]
  },
  {
   "attachments": {},
   "cell_type": "markdown",
   "metadata": {},
   "source": [
    "Requisiti: modulo built-in `csv`.\n",
    "\n",
    "Un tuo cliente vuole fare un po' di analisi di mercato e i chiede di aiutarlo a scrivere uno script in Python per leggere dei file CSV, JSON e XML, che provengono dai progetti di \"Open Data\" delle pubbliche amministrazioni. Avete selezionato come fonti i database regionali, in particolare delle tabelle che contengono dei dati sulla popolazione delle varie regioni italiane.\n",
    "\n",
    "Dato che i file che contengono i dati di suo interesse sono molti e scritti in vari formati, usare direttamente Excel per compiere le analisi sarebbe lungo e complesso. Per questo motivo ti ha chiesto scrivere degli script che devono occupare di estrarre, filtrare e convertire i file in automatico, e di farlo passo-passo così che anche lui possa capire come funzionano ed eventualmente modificarli in modo autonomo in futuro, in base alle sue esigenze.\n",
    "\n",
    "Scegliete quindi dei file da utilizzarsi come campioni su cui provare gli algoritmi che svilupperai.\n",
    "\n",
    "La Regione Sardenga ha pubblicato una tabella denominata [\"Centri urbani per abitante e altitudine\"](http://www.datiopen.it/it/opendata/Regione_Sardegna_Centri_Urbani_per_abitante_e_altititudine) e che contiene dei dati aggiornati al 13/01/2014. Come si intuisce dal nome, è un elenco di comuni con vari dati, tra cui il numero di abitanti e l'altezza del comune in metri sul livello del mare.\n",
    "\n",
    "I dati sono contenuti in un file di tipo CSV: `Sardegna_centri_urbani_per_abitante_e_altitudine_2014-01-13.csv` contenuto nella cartella `files_esercizi/` del nostro repository."
   ]
  },
  {
   "attachments": {},
   "cell_type": "markdown",
   "metadata": {},
   "source": [
    "Apri il file in un editor di testo per visualizzare il suo contenuto \"grezzo\" e le <u>prime 10 righe, compresa compresa la prima riga di intestazione</u>, appaiono così:"
   ]
  },
  {
   "attachments": {},
   "cell_type": "markdown",
   "metadata": {},
   "source": [
    "<pre>\n",
    "COMUNE;PROVINCIA;REGIONE;NOME LOCALITA';ABITANTI LOCALITA';QUOTA LOCALITA';ID FEATURE;CODICE LOCALITA'\n",
    "ALGHERO;SASSARI;Sardegna;ALGHERO;33677;7;348;1001\n",
    "ALGHERO;SASSARI;Sardegna;FERTILIA;1146;9;346;1002\n",
    "ALGHERO;SASSARI;Sardegna;GUARDIA GRANDE;10;30;335;2001\n",
    "ALGHERO;SASSARI;Sardegna;MARISTELLA PORTO CONTE;379;9;344;1003\n",
    "ALGHERO;SASSARI;Sardegna;PISCHINA SALIDA;17;5;349;1004\n",
    "ALGHERO;SASSARI;Sardegna;SANTA MARIA LA PALMA;112;34;330;1005\n",
    "ALGHERO;SASSARI;Sardegna;SA SEGADA;15;20;339;2002\n",
    "ALGHERO;SASSARI;Sardegna;TRAMARIGLIO;4;5;345;2003\n",
    "ANELA;SASSARI;Sardegna;ANELA;924;446;375;1001\n",
    "</pre>"
   ]
  },
  {
   "attachments": {},
   "cell_type": "markdown",
   "metadata": {},
   "source": [
    "\n",
    "Importando i dati in un foglio di calcolo, l'aspetto di queste prime 10 righe appare così:"
   ]
  },
  {
   "attachments": {},
   "cell_type": "markdown",
   "metadata": {},
   "source": [
    "| COMUNE    | PROVINCIA | REGIONE  | NOME LOCALITA'         | ABITANTI LOCALITA' | QUOTA LOCALITA' | ID FEATURE | CODICE LOCALITA' |\n",
    "|-----------|-----------|----------|------------------------|--------------------|-----------------|------------|------------------|\n",
    "| ALGHERO   | SASSARI   | Sardegna | ALGHERO                | 33677              | 7               | 348        | 1001             |\n",
    "| ALGHERO   | SASSARI   | Sardegna | FERTILIA               | 1146               | 9               | 346        | 1002             |\n",
    "| ALGHERO   | SASSARI   | Sardegna | GUARDIA GRANDE         | 10                 | 30              | 335        | 2001             |\n",
    "| ALGHERO   | SASSARI   | Sardegna | MARISTELLA PORTO CONTE | 379                | 9               | 344        | 1003             |\n",
    "| ALGHERO   | SASSARI   | Sardegna | PISCHINA SALIDA        | 17                 | 5               | 349        | 1004             |\n",
    "| ALGHERO   | SASSARI   | Sardegna | SANTA MARIA LA PALMA   | 112                | 34              | 330        | 1005             |\n",
    "| ALGHERO   | SASSARI   | Sardegna | SA SEGADA              | 15                 | 20              | 339        | 2002             |\n",
    "| ALGHERO   | SASSARI   | Sardegna | TRAMARIGLIO            | 4                  | 5               | 345        | 2003             |\n",
    "| ANELA     | SASSARI   | Sardegna | ANELA                  | 924                | 446             | 375        | 1001             |"
   ]
  },
  {
   "attachments": {},
   "cell_type": "markdown",
   "metadata": {},
   "source": [
    "\n",
    "Il cliente ti chiede di cominciare a scrivere un primo programma per leggere questo file CSV, quindi contare il numero di record, ovvero di comuni, che sono più in alto di 600 metri s.l.m. e il numero di abitanti totali residenti in questi comuni.\n",
    "\n",
    "Dunque i dati che ti interessano sono:\n",
    "\n",
    "- numero di abitanti nel comune: campo `ABITANTI LOCALITA'`\n",
    "- l'altezza del comune in metri: campo `QUOTA LOCALITA'`\n"
   ]
  },
  {
   "attachments": {},
   "cell_type": "markdown",
   "metadata": {},
   "source": [
    "Output atteso:\n",
    "<pre>\n",
    "N. centri urbani sopra i 600 m s.l.m.: 55\n",
    "N. abitanti sopra i 600 m s.l.m.: 75251\n",
    "</pre>"
   ]
  },
  {
   "attachments": {},
   "cell_type": "markdown",
   "metadata": {},
   "source": [
    "Dato che è scomodo lavorare con le liste e accedere alle colonne dovendole chiamare per numero di indice, decidi ci usare `csv.DictReader` per poter lavorare su un dizionario."
   ]
  },
  {
   "cell_type": "code",
   "execution_count": 1,
   "metadata": {},
   "outputs": [],
   "source": [
    "import csv\n",
    "\n",
    "# Contatori per il report\n",
    "tot_comuni = 0\n",
    "tot_abitanti = 0\n",
    "\n",
    "# scrivi qui"
   ]
  },
  {
   "attachments": {},
   "cell_type": "markdown",
   "metadata": {},
   "source": [
    "# Variante: Sardi montani (JSON)\n",
    "\n",
    "Requisiti: modulo built-in `json`.\n",
    "\n",
    "La stessa base di dati dell'esercizio precedente è anche disponibile in formato JSON.\n",
    "\n",
    "Il file è `Sardegna_centri_urbani_per_abitante_e_altitudine_2014-01-13.json`, anche esso contenuto nella cartella `files_esercizi/` del nostro repository.\n",
    "\n",
    "L'esercizio è il medesimo del precedente, ma ora invece di leggere e manipolare dati CSV, devi usare il modulo `json` e i relativi metodi."
   ]
  },
  {
   "attachments": {},
   "cell_type": "markdown",
   "metadata": {},
   "source": [
    "Output atteso:\n",
    "<pre>\n",
    "N. centri urbani sopra i 600 m s.l.m.: 55\n",
    "N. abitanti sopra i 600 m s.l.m.: 75251\n",
    "</pre>"
   ]
  },
  {
   "cell_type": "code",
   "execution_count": 3,
   "metadata": {},
   "outputs": [],
   "source": [
    "import json\n",
    "\n",
    "# Contatori per il report\n",
    "tot_comuni = 0\n",
    "tot_abitanti = 0\n",
    "\n",
    "# scrivi qui"
   ]
  },
  {
   "attachments": {},
   "cell_type": "markdown",
   "metadata": {},
   "source": [
    "# Variante: script generico (CSV e JSON)\n",
    "\n",
    "Ora prova a creare uno script che prende in ingresso (input):\n",
    "- un file (CSV o JSON);\n",
    "- l'altezza minima;\n",
    "- l'altezza massima.\n",
    "\n",
    "Il nostro codice deve rilevare direttamente il formato del file (dall'estensione) e effettuare i conteggi come per gli esercizi precedenti. L'unica differenza è che ora abbiamo un intervallo di altezza in cui cercare. Dobbiamo trovare tutti i record che sono a un'altezza compresa tra l'altezza minima e massima indicate dall'utente."
   ]
  },
  {
   "attachments": {},
   "cell_type": "markdown",
   "metadata": {},
   "source": [
    "Output atteso:\n",
    "<pre>\n",
    "******** REPORT ********\n",
    "File: Sardegna_centri_urbani_per_abitante_e_altitudine_2014-01-13\n",
    "Formato: .JSON\n",
    "Filtro applicato: altitudine compresa tra 600 e inf metri s.l.m.\n",
    "N. centri urbali: 55\n",
    "N. abitanti: 75251\n",
    "------------------------\n",
    "</pre>"
   ]
  },
  {
   "cell_type": "markdown",
   "metadata": {},
   "source": [
    "I valori di input (nome file, altezza min e max) li puoi scrivere direttamente \"hard-coded\" come costanti, puoi utilizzare la funzione `input()` o anche accettare argomenti `sys.argv`. Inizialmente, scrivere direttamente gli input come costanti ti faciliterà il lavoro. Una volta che l'algoritmo funziona, puoi sempre migliorare le modalità di inserimento degli input da parte dell'utente."
   ]
  },
  {
   "cell_type": "code",
   "execution_count": 2,
   "metadata": {},
   "outputs": [],
   "source": [
    "import csv\n",
    "import json\n",
    "from pathlib import Path\n",
    "\n",
    "# Contatori per il report\n",
    "tot_comuni = 0\n",
    "tot_abitanti = 0\n",
    "\n",
    "# scrivi qui"
   ]
  },
  {
   "attachments": {},
   "cell_type": "markdown",
   "metadata": {},
   "source": [
    "# Variante: estrazione dati e script completo"
   ]
  },
  {
   "attachments": {},
   "cell_type": "markdown",
   "metadata": {},
   "source": [
    "Arrivato a questo punto, decidete di andare oltre e provare a esportare in un file tutti i record trovati.\n",
    "\n",
    "Aggiungi dunque la funzionalità di esportazione dei dati trovati: CSV o JSON, è l'utente che deve poter decidere.\n",
    "\n",
    "In questo modo avrai creato un convertitore di dati da CSV a JSON e viceversa con la possibilità di filtrare i dati prima dell'esportazione."
   ]
  },
  {
   "attachments": {},
   "cell_type": "markdown",
   "metadata": {},
   "source": [
    "Come prima, prepara il tuo codice qua sotto, e poi prova a creare uno script che possa essere eseguito da riga di comando e che prenda i nomi dei file come argomenti:\n",
    "\n",
    "```bash\n",
    "C:\\my_proj\\> py nome_mio_script.py file_ingresso.json file_uscita.csv\n",
    "```"
   ]
  },
  {
   "cell_type": "code",
   "execution_count": 22,
   "metadata": {},
   "outputs": [],
   "source": [
    "import csv\n",
    "import json\n",
    "from pathlib import Path\n",
    "\n",
    "# Inizializzo le variabili in cui metterò gli output\n",
    "tot_comuni = 0\n",
    "tot_abitanti = 0\n",
    "\n",
    "# scrivi qui\n"
   ]
  },
  {
   "cell_type": "markdown",
   "metadata": {},
   "source": [
    "## Variante: con argomenti opzionali, ovvero le opzioni"
   ]
  },
  {
   "cell_type": "markdown",
   "metadata": {},
   "source": [
    "Dato che il tuo cliente è un geometra, ha l'abitudine di scrivere i metri con l'abbreviazione `mt` o `mt.`, come fanno molti suoi colleghi.\n",
    "\n",
    "Tu gli speghi che bisognerebbe scrivere solo `m` perché è una convenzione internazionale e ci sono anche direttive ufficiali dello Stato che indicano che le forme, tutte italiane, `mt` o `mt.` sono da considerarsi errate. Dopo un'accesa discussione sul Sistema Internazionale e i gerghi professionali, decidete che nella versione finale dello script l'utente potrà inserire manualmente il simbolo dei metri da usarsi nei report finali. È un cliente quindi decidi di accontentarlo, ma di default, se l'utente non indica nulla, sarà usato il simbolo corretto: `m`."
   ]
  },
  {
   "cell_type": "code",
   "execution_count": null,
   "metadata": {},
   "outputs": [],
   "source": [
    "import csv\n",
    "import json\n",
    "from pathlib import Path\n",
    "# Importo il modulo per gestire i parametri\n",
    "from optparse import OptionParser\n",
    "\n",
    "# scrivi qui\n"
   ]
  }
 ],
 "metadata": {
  "kernelspec": {
   "display_name": ".venv",
   "language": "python",
   "name": "python3"
  },
  "language_info": {
   "codemirror_mode": {
    "name": "ipython",
    "version": 3
   },
   "file_extension": ".py",
   "mimetype": "text/x-python",
   "name": "python",
   "nbconvert_exporter": "python",
   "pygments_lexer": "ipython3",
   "version": "3.11.2"
  },
  "orig_nbformat": 4
 },
 "nbformat": 4,
 "nbformat_minor": 2
}
