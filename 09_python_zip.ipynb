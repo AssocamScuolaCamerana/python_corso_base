{
 "cells": [
  {
   "cell_type": "markdown",
   "id": "a479ce69",
   "metadata": {
    "is_toc": true
   },
   "source": [
    "**Sommario**\n",
    "- [Archiviazione: File ZIP](#archiviazione-file-zip)\n",
    "  - [Estrarre i file](#estrarre-i-file)\n",
    "  - [Leggere il contenuto dei file](#leggere-il-contenuto-dei-file)\n",
    "  - [Creare archivi](#creare-archivi)\n",
    "    - [Creare un file \"al volo\" e archiviarlo direttamente](#creare-un-file-al-volo-e-archiviarlo-direttamente)\n",
    "  - [Riassumendo](#riassumendo)\n",
    "  - [Approfondimento: Creazione di archivi ZIP *in-memory*](#approfondimento-creazione-di-archivi-zip-*in-memory*)"
   ]
  },
  {
   "attachments": {},
   "cell_type": "markdown",
   "metadata": {},
   "source": [
    "# Archiviazione: File ZIP"
   ]
  },
  {
   "attachments": {},
   "cell_type": "markdown",
   "metadata": {},
   "source": [
    "Gli archivi sono molto utili nella vita quotidiana. Possono conservare oggetti con una compressione significativa. Anche se non hai ancora molta esperienza nella gestione delle informazioni e non ti imbatti spesso negli archivi, sappi che sono comunque facili da usare.\n",
    "\n",
    "Comprimere dati, in pratica permette di:\n",
    "\n",
    "- Risparmiare spazio di archiviazione su disco e banda nei trasferimenti sulla rete.\n",
    "- Distribuire più facilmente un insieme di file.\n",
    "\n",
    "Esistono diversi formati di archivio, ma il più diffuso è `.zip`.\n",
    "\n",
    "In programmazione, spesso dobbiamo automatizzare attività di routine e per fare questo i nostri programmi arriveranno a trattare spesso con molti. Fortunatamente, se si tratta di archivi, la libreria standard di Python ha il modulo giusto: `zipfile`. In questa sezione impareremo a usarlo.\n",
    "\n"
   ]
  },
  {
   "attachments": {},
   "cell_type": "markdown",
   "metadata": {},
   "source": [
    "## Estrarre i file\n",
    "\n",
    "L'operazione più popolare sugli archivi è senza dubbio l'estrazione.\n",
    "\n",
    "Il primo problema che riscontriamo è il fatto che sovente non conosciamo che cosa è contenuto in un'archivio. Quindi, prima di estrarre dei file da un archivio, è probabile che si voglia sapere qualcosa in più sul contenuto dell'archivio stesso.\n",
    "\n",
    "Supponiamo di avere un archivio `files.zip` che vogliamo decomprimere.\n",
    "\n",
    "In pratica gli step che dobbiamo fare sono:\n",
    "\n",
    "1. importare il modulo,\n",
    "2. aprire il file `.zip` dell'archivio\n",
    "3. ottenere informazioni generali\n",
    "4. decidere se e cosa estrarre\n",
    "5. effettuare l'estrazione\n",
    "\n",
    "La classe principale per lavorare con gli oggetti archivio si chiama `ZipFile`. La useremo per manipolare i nostri oggetti:"
   ]
  },
  {
   "cell_type": "code",
   "execution_count": 1,
   "metadata": {},
   "outputs": [
    {
     "name": "stdout",
     "output_type": "stream",
     "text": [
      "File Name                                             Modified             Size\n",
      "000.jpeg                                       2023-04-24 18:09:32         7335\n",
      "001.png                                        2023-04-15 01:08:12        35617\n",
      "23a.xml                                        2023-04-24 18:15:44         4866\n",
      "[dir]/                                         2023-04-24 18:38:40            0\n",
      "[dir]/ricetta.txt                              2023-04-24 18:40:36          928\n",
      "data2.txt                                      2023-04-24 17:40:20          110\n",
      "packs.json                                     2023-03-12 20:11:22        12417\n",
      "prova_pwd_facile.xml                           2023-04-27 17:13:46          100\n",
      "sub_dir1/                                      2023-04-24 17:42:34            0\n",
      "sub_dir1/cycles.json                           2023-03-12 20:11:22         3077\n",
      "sub_dir2/                                      2023-04-24 17:40:38            0\n",
      "sub_dir2/mo.json                               2023-03-12 20:11:22         8124\n",
      "sub_dir2/om.json                               2023-03-12 20:11:22        17215\n"
     ]
    }
   ],
   "source": [
    "from zipfile import ZipFile\n",
    "\n",
    "with ZipFile('./files_esercizi/esempi/files.zip', 'r') as zip_archive:\n",
    "    # stampa direttamente a monitor il contenuto dell'archivio, il print() è \"integrato\"\n",
    "    zip_archive.printdir()"
   ]
  },
  {
   "attachments": {},
   "cell_type": "markdown",
   "metadata": {},
   "source": [
    "Nella prima riga di codice, abbiamo fornito il percorso del file e la modalità di lettura. Ci sono diverse modalità di lettura che si possono utilizzare; si veda la tabella seguente per le opzioni e la descrizione:"
   ]
  },
  {
   "attachments": {},
   "cell_type": "markdown",
   "metadata": {},
   "source": [
    "| Mode  | Descrizione                                                         |\n",
    "|:-----:|---------------------------------------------------------------------|\n",
    "| `'r'` | Legge un file esistente                                             |\n",
    "| `'a'` | Aggiunge a un file esistente                                        |\n",
    "| `'w'` | Crea e scrive un nuovo file (se il file esiste già, lo sovrascrive) |\n",
    "| `'x'` | Crea e scrive un nuovo file (se il file esiste già, dà errore)      |"
   ]
  },
  {
   "attachments": {},
   "cell_type": "markdown",
   "metadata": {},
   "source": [
    "Se si ha bisogno solo di una lista con i nomi dei file contenuti nell'archivio, utilizzare il metodo `ZipFile.namelist()`:"
   ]
  },
  {
   "cell_type": "code",
   "execution_count": 2,
   "metadata": {},
   "outputs": [
    {
     "name": "stdout",
     "output_type": "stream",
     "text": [
      "['000.jpeg', '001.png', '23a.xml', '[dir]/', '[dir]/ricetta.txt', 'data2.txt', 'packs.json', 'prova_pwd_facile.xml', 'sub_dir1/', 'sub_dir1/cycles.json', 'sub_dir2/', 'sub_dir2/mo.json', 'sub_dir2/om.json']\n"
     ]
    }
   ],
   "source": [
    "from zipfile import ZipFile\n",
    "\n",
    "with ZipFile('./files_esercizi/esempi/files.zip', 'r') as zip_archive:\n",
    "    # crea una lista con tutti i nomi dei file contenuti nell'archivio\n",
    "    lista_files = zip_archive.namelist()\n",
    "\n",
    "    print(lista_files)"
   ]
  },
  {
   "attachments": {},
   "cell_type": "markdown",
   "metadata": {},
   "source": [
    "Ora che conosciamo il contenuto del nostro file, abbiamo due opzioni:\n",
    "\n",
    "Estrarre uno o più file in particolare:"
   ]
  },
  {
   "cell_type": "code",
   "execution_count": 2,
   "metadata": {},
   "outputs": [],
   "source": [
    "from zipfile import ZipFile\n",
    "\n",
    "with ZipFile('./files_esercizi/esempi/files.zip', 'r') as zip_archive:\n",
    "    # estrae uno specifico file in una directory specifica\n",
    "    zip_archive.extract('sub_dir1/cycles.json', './files_esercizi/outputs/prova_estrazione1')"
   ]
  },
  {
   "cell_type": "code",
   "execution_count": 3,
   "metadata": {},
   "outputs": [],
   "source": [
    "from zipfile import ZipFile\n",
    "\n",
    "with ZipFile('./files_esercizi/esempi/files.zip', 'r') as zip_archive:\n",
    "    # estrae tutti i file in una directory specifica\n",
    "    zip_archive.extractall('./files_esercizi/outputs/prova_estrazione2')"
   ]
  },
  {
   "attachments": {},
   "cell_type": "markdown",
   "metadata": {},
   "source": [
    "Come si può vedere, è possibile estrarre dati specifici o tutti in una volta e indicarne la destinazione."
   ]
  },
  {
   "attachments": {},
   "cell_type": "markdown",
   "metadata": {},
   "source": [
    "Inoltre, se avete dubbi sul fatto che un certo file sia u veramente uno ZIP, c'è un modo per verificarlo `zipfile.is_zipfile()`:"
   ]
  },
  {
   "cell_type": "code",
   "execution_count": 4,
   "metadata": {},
   "outputs": [
    {
     "data": {
      "text/plain": [
       "True"
      ]
     },
     "execution_count": 4,
     "metadata": {},
     "output_type": "execute_result"
    }
   ],
   "source": [
    "from zipfile import is_zipfile\n",
    "\n",
    "is_zipfile('./files_esercizi/esempi/files.zip')"
   ]
  },
  {
   "attachments": {},
   "cell_type": "markdown",
   "metadata": {},
   "source": [
    "## Leggere il contenuto dei file\n",
    "\n",
    "Abbiamo imparato a estrarre i file, ma se voleste anche vedere cosa contengono? Nessun problema, potete aprirli \"al volo\" come qualsiasi altro file, senza bisogno di estrarli esplicitamente:"
   ]
  },
  {
   "cell_type": "code",
   "execution_count": 5,
   "metadata": {},
   "outputs": [
    {
     "name": "stdout",
     "output_type": "stream",
     "text": [
      "b'Questo \\xc3\\xa8 il file \"data2.txt\" ed \\xc3\\xa8 stato aperto correttamente!\\nQuello che leggete \\xc3\\xa8 il testo al suo interno.'\n"
     ]
    }
   ],
   "source": [
    "from zipfile import ZipFile\n",
    "\n",
    "with ZipFile('./files_esercizi/esempi/files.zip', 'r') as zip_archive:\n",
    "    with zip_archive.open('data2.txt', 'r') as data2_txt:\n",
    "        testo_file = data2_txt.read()\n",
    "        print(testo_file)\n"
   ]
  },
  {
   "attachments": {},
   "cell_type": "markdown",
   "metadata": {},
   "source": [
    "Si noti che il file che vogliamo leggere, ci viene restituito come oggetto file-like di tipo binary e quando lo leggiamo, otteniamo un'oggetto di tipo `bytes`. Per trasformarlo in una normale stringa, si può usare il metodo delle stringhe `str.decode()`:"
   ]
  },
  {
   "cell_type": "code",
   "execution_count": 7,
   "metadata": {},
   "outputs": [
    {
     "name": "stdout",
     "output_type": "stream",
     "text": [
      "Questo è il file \"data2.txt\" ed è stato aperto correttamente!\n",
      "Quello che leggete è il testo al suo interno.\n"
     ]
    }
   ],
   "source": [
    "from zipfile import ZipFile\n",
    "\n",
    "with ZipFile('./files_esercizi/esempi/files.zip', 'r') as zip_archive:\n",
    "    with zip_archive.open('data2.txt') as data2_txt:\n",
    "        testo_file = data2_txt.read().decode('utf-8')\n",
    "        print(testo_file)"
   ]
  },
  {
   "attachments": {},
   "cell_type": "markdown",
   "metadata": {},
   "source": [
    "`str.decode()` è il metodo che prende oggetti di tipo `bytes` e li converte in tipo `str`. Tuttavia, per farlo, deve conoscere con quale codifica è stato scritto il file in origine. Nel caso qua sopra, la codifica è `utf-8`."
   ]
  },
  {
   "attachments": {},
   "cell_type": "markdown",
   "metadata": {},
   "source": [
    "## Creare archivi\n",
    "\n",
    "Ora che sappiamo come ottenere informazioni e file da un archivio, vediamo come creare gli archivi stessi.\n",
    "\n",
    "Per creare un nuovo file `.zip`, usiamo la classe `ZipFile` e passiamo `w` al parametro `mode`:"
   ]
  },
  {
   "cell_type": "code",
   "execution_count": 6,
   "metadata": {},
   "outputs": [
    {
     "name": "stdout",
     "output_type": "stream",
     "text": [
      "<zipfile.ZipFile filename='./files_esercizi/outputs/nuovo_archivio.zip' mode='w'>\n"
     ]
    }
   ],
   "source": [
    "from zipfile import ZipFile\n",
    "\n",
    "with ZipFile('./files_esercizi/outputs/nuovo_archivio.zip', 'w') as new_archive:\n",
    "    print(new_archive)"
   ]
  },
  {
   "attachments": {},
   "cell_type": "markdown",
   "metadata": {},
   "source": [
    "Anche senza fare nulla, il nostro file è ora creato e lo potete trovare al percorso \"`./files_esercizi/outputs/nuovo_archivio.zip`\".\n",
    "\n",
    "Tuttavia esso è ancora \"vuoto\". È necessario usare il metodo `ZipFile.write()` sull'oggetto file-like appena creato e specificare il percorso completo del file che vogliamo inserire all'archivio.\n",
    "\n",
    "Il i primi due parametri del metodo `.write()` sono `filename` e `arcname`:\n",
    "\n",
    "- `filename` è obbligatorio ed è il percorso al file che vogliamo inserire nell'archivio.\n",
    "- `arcname` è facoltatovo ed è il nome che vogliamo dare al nostro file all'interno dell'archivio, se viene omesso, sarà usato il `filename`.\n",
    "\n",
    "Con `arcname` possiamo quindi specificare un nome e/o un percorso differente per il nostro file archiviato:"
   ]
  },
  {
   "cell_type": "code",
   "execution_count": 7,
   "metadata": {},
   "outputs": [
    {
     "name": "stdout",
     "output_type": "stream",
     "text": [
      "File Name                                             Modified             Size\n",
      "09_python_zip.ipynb                            2024-03-19 15:01:39        20210\n",
      "files_esercizi/botteghe-storiche.csv           2023-04-23 15:09:51        52716\n",
      "films/lista_tarantino.txt                      2023-04-13 16:05:15          189\n"
     ]
    }
   ],
   "source": [
    "from zipfile import ZipFile\n",
    "\n",
    "with ZipFile('./files_esercizi/outputs/nuovo_archivio.zip', 'w') as new_archive:\n",
    "\n",
    "    new_archive.write('09_python_zip.ipynb')\n",
    "    new_archive.write('./files_esercizi/botteghe-storiche.csv')\n",
    "    new_archive.write('./files_esercizi/tarantino.txt', 'films/lista_tarantino.txt')\n",
    "    \n",
    "    new_archive.printdir()"
   ]
  },
  {
   "attachments": {},
   "cell_type": "markdown",
   "metadata": {},
   "source": [
    "Nell'esempio qua sopra:\n",
    "\n",
    "- Archiviamo il file `index.html` e lo lasciamo tale e quale, nella \"root\" dell'archivio.\n",
    "- Archiviamo il file `./files_esercizi/botteghe-storiche.csv` e lo lasciamo tale e quale; quindi viene creata una directory `files_esercizi/` nel nostro archivio e il file `botteghe-storiche.csv` viene messo al suo interno.\n",
    "- Archiviamo il file `./files_esercizi/tarantino.txt` ma lo rinominiamo in `lista_tarantino.txt` e lo mettiamo in una cartella chiamata `films/` che, se non è già presente nell'archivio, sarà creata.\n",
    "\n",
    "Notate che se non viene specificato l'`arcname`, percorso fornito con `filename` viene riprodotto tale e quale all'interno dell'archivio! Questo ci consente dunque di riprodurre le strutture delle nostre directory all'interno dell'archivio, senza troppe difficoltà. Può essere molto utile quando facciamo dei backup."
   ]
  },
  {
   "attachments": {},
   "cell_type": "markdown",
   "metadata": {},
   "source": [
    "> NOTA: Se avete necessità di manipolare i file e le direcotry prima di archiviarle, date un'occhiata al modulo `os` della Libreria standard per comprendere come gestire i percorsi, navigare al loro interno, attraversare le cartelle e operare sui file. In questo modo per esempio potete aggiungere dei file agli archivi utilizzando dei cicli anziché farlo uno per uno."
   ]
  },
  {
   "attachments": {},
   "cell_type": "markdown",
   "metadata": {},
   "source": [
    "### Creare un file \"al volo\" e archiviarlo direttamente"
   ]
  },
  {
   "attachments": {},
   "cell_type": "markdown",
   "metadata": {},
   "source": [
    "Con il metodo `ZipFile.writestr()` possiamo scrivere in un file direttamente all'interno dell'archivio."
   ]
  },
  {
   "cell_type": "code",
   "execution_count": 12,
   "metadata": {},
   "outputs": [
    {
     "name": "stdout",
     "output_type": "stream",
     "text": [
      "File Name                                             Modified             Size\n",
      "09_python_zip.ipynb                            2024-03-19 15:01:38        20210\n",
      "files_esercizi/botteghe-storiche.csv           2023-04-23 15:09:50        52716\n",
      "films/lista_tarantino.txt                      2023-04-13 16:05:14          189\n",
      "file_creato_da_stringa.txt                     2024-07-03 21:45:42           67\n",
      "file_creato_da_stringa.txt                     2024-07-03 21:45:44           67\n",
      "file_creato_da_stringa.txt                     2024-07-03 21:45:52           67\n",
      "file_creato_da_stringa.txt                     2024-07-03 21:45:54           67\n",
      "file_creato_da_stringa.txt                     2024-07-03 21:46:00           67\n"
     ]
    }
   ],
   "source": [
    "from zipfile import ZipFile\n",
    "\n",
    "testo_per_file = 'Questo testo va messo in un file .txt e poi archiviato un file .zip'\n",
    "\n",
    "with ZipFile('../../files_esercizi/outputs/nuovo_archivio.zip', 'a') as new_archive:\n",
    "\n",
    "    new_archive.writestr('file_creato_da_stringa.txt', testo_per_file)\n",
    "\n",
    "    new_archive.printdir()"
   ]
  },
  {
   "attachments": {},
   "cell_type": "markdown",
   "metadata": {},
   "source": [
    "In questo modo evitiamo di dover prima creare il file `file_creato_da_stringa.txt` e poi aggiungerlo all'archivio. Facciamo tutto *in-memory*."
   ]
  },
  {
   "attachments": {},
   "cell_type": "markdown",
   "metadata": {},
   "source": [
    "## Riassumendo\n",
    "\n",
    "Abbiamo visto come lavorare con gli archivi utilizzando il modulo `zipfile` della Libreria standard di Python. Per essere precisi, abbiamo imparato a:\n",
    "\n",
    "- estrarre i dati;\n",
    "- leggere i file all'interno di un archivio;\n",
    "- creare archivi e inserire dati al loro interno."
   ]
  },
  {
   "cell_type": "markdown",
   "metadata": {},
   "source": [
    "## Approfondimento: Creazione di archivi ZIP *in-memory*"
   ]
  },
  {
   "cell_type": "markdown",
   "metadata": {},
   "source": [
    "Se i dati che vogliamo archiviare non sono contenuti in dei file sul disco, ma provengono da oggetti Python, allora dobbiamo ricorrere al modulo `io` e alla classe `BytesIO` che serve a creare un *buffer* in memoria che si comporta come un file."
   ]
  },
  {
   "cell_type": "code",
   "execution_count": null,
   "metadata": {},
   "outputs": [],
   "source": [
    "from io import BytesIO\n",
    "from zipfile import ZipFile, ZIP_DEFLATED\n",
    "\n",
    "testo_per_file = 'Questo testo va messo in un file .txt e poi archiviato un file .zip'\n",
    "\n",
    "# Crea un buffer in memoria con BytesIO\n",
    "zip_buffer = BytesIO()\n",
    "\n",
    "# Crea un archivio zip in memoria, utilizzando il buffer come file\n",
    "with ZipFile(zip_buffer, mode=\"w\", compression=ZIP_DEFLATED) as file_zip:\n",
    "\n",
    "    # Aggiunge file all'archivio\n",
    "    file_zip.writestr('mio_file.txt', testo_per_file)\n",
    "\n",
    "# Salva il buffer su disco\n",
    "with open('./files_esercizi/outputs/archivio_in-memory.zip', 'wb') as new_archive:\n",
    "    new_archive.write(zip_buffer.getvalue())\n",
    "\n",
    "    # # Importante: spostare il cursore all'inizio del buffer se si usa read()\n",
    "    # zip_buffer.seek(0)\n",
    "    # new_archive.write(zip_buffer.read())"
   ]
  },
  {
   "cell_type": "markdown",
   "metadata": {},
   "source": [
    "Questo approccio è particolarmente utile quando non si desidera lavorare con file reali sul disco, ma si hanno dati in memoria che si vogliono trattare come se fossero contenuti in un file. Lo possiamo applicare a scenari in cui si lavora con applicazioni web, funzioni cloud, o qualsiasi situazione in cui è preferibile evitare l'accesso al disco per motivi di performance o sicurezza.\n",
    "\n",
    "Utilizzare un archivio zip \"in-memory\" permette, a volte, di gestire i dati in modo più efficiente e sicuro, riducendo la latenza e i potenziali problemi di accesso ai file su disco.\n",
    "\n",
    "> NOTA BENE: Naturalmente questo approccio è più oneroso a livello di memoria RAM rispetto a quelli visti in precedenza."
   ]
  }
 ],
 "metadata": {
  "kernelspec": {
   "display_name": "Python 3 (ipykernel)",
   "language": "python",
   "name": "python3"
  },
  "language_info": {
   "codemirror_mode": {
    "name": "ipython",
    "version": 3
   },
   "file_extension": ".py",
   "mimetype": "text/x-python",
   "name": "python",
   "nbconvert_exporter": "python",
   "pygments_lexer": "ipython3",
   "version": "3.11.2"
  },
  "toc": {
   "base_numbering": 1,
   "nav_menu": {},
   "number_sections": true,
   "sideBar": true,
   "skip_h1_title": false,
   "title_cell": "Table of Contents",
   "title_sidebar": "Contents",
   "toc_cell": false,
   "toc_position": {
    "height": "calc(100% - 180px)",
    "left": "10px",
    "top": "150px",
    "width": "487px"
   },
   "toc_section_display": true,
   "toc_window_display": true
  },
  "toc-autonumbering": false,
  "toc-showcode": false,
  "toc-showtags": false
 },
 "nbformat": 4,
 "nbformat_minor": 4
}
