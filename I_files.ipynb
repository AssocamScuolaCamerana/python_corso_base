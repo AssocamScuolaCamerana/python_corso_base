{
 "cells": [
  {
   "attachments": {},
   "cell_type": "markdown",
   "metadata": {},
   "source": [
    "## Aprire e chiudere lo *stream*\n",
    "\n",
    "| Metodo     | Descrizione     |\n",
    "|------------|-----------------|\n",
    "| `open(path, mode='rt', encoding=None, newline=None)` | Open file and return a corresponding file object. If the file cannot be opened, an OSError is raised. See Reading and Writing Files for more examples of how to use this function. |\n",
    "| `.close()` | Flush and close this stream. This method has no effect if the file is already closed. Once the file is closed, any operation on the file (e.g. reading or writing) will raise a ValueError. |"
   ]
  },
  {
   "attachments": {},
   "cell_type": "markdown",
   "metadata": {},
   "source": [
    "Possiamo aprire e chiudere i file manualmente:"
   ]
  },
  {
   "attachments": {},
   "cell_type": "markdown",
   "metadata": {},
   "source": [
    "```python\n",
    "my_file = open('my_file.txt', mode=<modalità>)\n",
    "...\n",
    "my_file.<metodo>()\n",
    "...\n",
    "my_file.close\n",
    "```"
   ]
  },
  {
   "attachments": {},
   "cell_type": "markdown",
   "metadata": {},
   "source": [
    "Oppure usare un context manager, che pensa lui alla chiusura e alla gestione degli errori:"
   ]
  },
  {
   "attachments": {},
   "cell_type": "markdown",
   "metadata": {},
   "source": [
    "```python\n",
    "with open('my_file.txt', mode=<modalità>) as my_file:\n",
    "    ...\n",
    "    my_file.<metodo>()\n",
    "    ...\n",
    "```"
   ]
  },
  {
   "attachments": {},
   "cell_type": "markdown",
   "metadata": {},
   "source": [
    "Ciascuna modalità ha le proprie peculiarità:\n",
    "\n",
    "| `mode` | R/W | Posizione iniziale lettura | Punto di inserimento | Se file non esiste | Se file esiste           |\n",
    "|:------:|:---:|:--------------------------:|:--------------------:|:------------------:|--------------------------|\n",
    "| `r`    | R   | inizio                     | -                    | errore             | legge                    |\n",
    "| `r+`   | RW  | inizio                     | inizio e `seek()`    | errore             | modifica                 |\n",
    "| `w`    | W   | -                          | (inizio e) `seek()`  | crea               | sovrascrive (*truncate*) |\n",
    "| `w+`   | RW  | (inizio)                   | (inizio e) `seek()`  | crea               | sovrascrive (*truncate*) |\n",
    "| `a`    | W   | -                          | fine                 | crea               | appende al fondo         |\n",
    "| `a+`   | RW  | fine                       | fine                 | crea               | appende al fondo         |"
   ]
  },
  {
   "cell_type": "markdown",
   "metadata": {},
   "source": [
    "\n",
    "## Metodi per leggere\n",
    "\n",
    "| Metodo     | Descrizione     |\n",
    "|------------|-----------------|\n",
    "| `.readable()` | Return True if the stream can be read from. If False, read() will raise OSError. |\n",
    "| `.read(size)` | Read and return up to size bytes. If the argument is omitted, None, or negative, data is read and returned until EOF is reached. An empty bytes object is returned if the stream is already at EOF. |\n",
    "| `.readline(size)` | Read and return one line from the stream. If size is specified, at most size bytes will be read. |\n",
    "| `.readlines(hint)` | Read and return a list of lines from the stream. hint can be specified to control the number of lines read: no more lines will be read if the total size (in bytes/characters) of all lines so far exceeds hint. |\n",
    "\n",
    "## Metodi per scrivere\n",
    "\n",
    "| Metodo     | Descrizione     |\n",
    "|------------|-----------------|\n",
    "| `.writable()` | Return True if the stream supports writing. If False, write() and truncate() will raise OSError. |\n",
    "| `.write(str)` | Write the given bytes-like object, b, and return the number of bytes written (always equal to the length of b in bytes, since if the write fails an OSError will be raised). Depending on the actual implementation, these bytes may be readily written to the underlying stream, or held in a buffer for performance and latency reasons. |\n",
    "| `.writelines(lines)` | Write a list of lines to the stream. Line separators are not added, so it is usual for each of the lines provided to have a line separator at the end. |\n",
    "| `.truncate(size=None)` | Resize the stream to the given size in bytes (or the current position if size is not specified). |\n",
    "| `.flush()` | Flush the write buffers of the stream if applicable. This does nothing for read-only and non-blocking streams. |\n",
    "\n",
    "## Metodi per spostarsi nello *stream*\n",
    "\n",
    "| Metodo     | Descrizione     |\n",
    "|------------|-----------------|\n",
    "| `.seekable()` | Return True if the stream supports random access. If False, seek(), tell() and truncate() will raise OSError. |\n",
    "| `.seek(offset, whence=0)` | Change the stream position to the given byte offset and return the new absolute position. `offset` is interpreted relative to the position indicated by `whence`. The default value for `whence` is 0. Values for whence are: `0` &rarr; start (default); offset 0 +. `1` &rarr; current position; offset + -. `2` &rarr; end; offset -. |\n",
    "| `.tell()` | Return the current stream position. |"
   ]
  }
 ],
 "metadata": {
  "language_info": {
   "name": "python"
  },
  "orig_nbformat": 4
 },
 "nbformat": 4,
 "nbformat_minor": 2
}
