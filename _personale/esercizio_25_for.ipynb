{
 "cells": [
  {
   "attachments": {},
   "cell_type": "markdown",
   "metadata": {},
   "source": [
    "# Esercizio: Contavocali\n",
    "\n",
    "Si dispone di una stringa predefinita vocali che contiene tutte le lettere che designano i suoni delle vocali.\n",
    "Scrivete un programma che conti il numero di vocali nella variabile `text` e stampi questo numero."
   ]
  },
  {
   "cell_type": "code",
   "execution_count": 3,
   "metadata": {},
   "outputs": [],
   "source": [
    "VOWELS = 'aeiou'\n",
    "text = \"la volpe giallastra morde l'oca arancione, guuuuuuulp!\"\n",
    "\n",
    "# scrivi qui\n"
   ]
  }
 ],
 "metadata": {
  "kernelspec": {
   "display_name": ".venv",
   "language": "python",
   "name": "python3"
  },
  "language_info": {
   "codemirror_mode": {
    "name": "ipython",
    "version": 3
   },
   "file_extension": ".py",
   "mimetype": "text/x-python",
   "name": "python",
   "nbconvert_exporter": "python",
   "pygments_lexer": "ipython3",
   "version": "3.11.2"
  },
  "orig_nbformat": 4
 },
 "nbformat": 4,
 "nbformat_minor": 2
}
