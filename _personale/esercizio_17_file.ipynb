{
 "cells": [
  {
   "attachments": {},
   "cell_type": "markdown",
   "metadata": {},
   "source": [
    "# Esercizio: Animali in riga"
   ]
  },
  {
   "attachments": {},
   "cell_type": "markdown",
   "metadata": {},
   "source": [
    "Il file `animali.txt` nella cartella `files_esercizi/` (sulla root del repo) contiene un elenco di animali, ciascuno scritto su una nuova riga. Ad esempio:\n",
    "\n",
    "<pre>\n",
    "coniglio\n",
    "gatto\n",
    "antilope\n",
    "tartaruga\n",
    "...\n",
    "</pre>\n",
    "\n",
    "Crea un nuovo file, `animali_in_riga.txt` nella cartella `outputs/` che si trova allo stesso livello di questo notebook (la cartella dovrebbe già esistere, altrimenti creala).\n",
    "\n",
    "Devi prendere i nomi degli animali contenuti nel file `animali.txt` e scriverli nel file di ouput `animali_in_riga.txt` in modo che gli animali <u>siano elencati su una sola riga</u> e separati da un singolo spazio vuoto `' '`.\n",
    "\n",
    "Non dimenticare di gestire la corretta chiusura di tutti i file, in modo esplicito oppure utilizzando un context manager.\n",
    "\n",
    "Suggerimento: Il fatto che gli animali nel primo file siano scritti ciascuno su una nuova riga significa che ogni stringa del file, tranne l'ultima, termina con `'\\n'`. Per eliminare `\\n`, si possono usare i metodi `str.rstrip()` o `str.replace()`."
   ]
  },
  {
   "cell_type": "code",
   "execution_count": 1,
   "metadata": {},
   "outputs": [],
   "source": [
    "# scrivi qui\n"
   ]
  }
 ],
 "metadata": {
  "kernelspec": {
   "display_name": ".venv",
   "language": "python",
   "name": "python3"
  },
  "language_info": {
   "codemirror_mode": {
    "name": "ipython",
    "version": 3
   },
   "file_extension": ".py",
   "mimetype": "text/x-python",
   "name": "python",
   "nbconvert_exporter": "python",
   "pygments_lexer": "ipython3",
   "version": "3.11.2"
  },
  "orig_nbformat": 4
 },
 "nbformat": 4,
 "nbformat_minor": 2
}
