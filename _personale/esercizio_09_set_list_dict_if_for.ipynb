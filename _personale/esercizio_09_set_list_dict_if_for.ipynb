{
 "cells": [
  {
   "attachments": {},
   "cell_type": "markdown",
   "metadata": {},
   "source": [
    "### Esercizio - Nuovi Mercati\n",
    "\n",
    "Requisiti: liste, insiemi, if, for\n",
    "\n",
    "Abbiamo qualche milione da investire nell'apertura di una nuova attività commerciale.\n",
    "Prima di tutto però ci serve sapere quali negozi non sono disponibili a Trento in maniera da evitare\n",
    "di aprire l'ennesimo negozio di abbigliamento casual (E rischiare di andare in perdita!)\n",
    " \n",
    "INPUT:\n",
    "\n",
    "- `categorie`: insieme di tutte le categorie possibile\n",
    "- `competitor`: lista di competitor con dati `(nome_competitor, insieme_categorie_merci)`\n",
    "\n",
    "Scrivi del codice che\n",
    "\n",
    "1. Stampa le categorie che non sono vendute da nessun competitor\n",
    "2. Calcola **per ogni categoria**, da quanti competitor è venduta\n",
    "\n",
    "Esempio - dati:\n",
    "    \n",
    "```python    \n",
    "categorie = {a, b, c, d, e, f}\n",
    "competitor = [(\"pippo\", {a, c, e}), (\"pluto\", {c, d, e})]\n",
    "```\n",
    "\n",
    "il tuo codice deve stampare:\n",
    "\n",
    "```\n",
    "\"Le categorie disponibili sono: {b, f}\"\n",
    "```   \n",
    "\n",
    "```\n",
    "Categorie vendute da competitor:\n",
    "\n",
    "[(a, 1), (b, 0), (c, 2), (d, 1), (e, 2), (f,0)]\n",
    "```"
   ]
  },
  {
   "cell_type": "code",
   "execution_count": 44,
   "metadata": {},
   "outputs": [
    {
     "name": "stdout",
     "output_type": "stream",
     "text": [
      "Le categorie disponibile sono: {'Cosmetici', 'Ferramenta'}\n",
      "Categorie vendute da competitor:\n",
      " [('Abbigliamento sportivo', 2), ('Gioielleria', 3), ('Forniture Elettriche', 3), ('Ferramenta', 0), ('Ortofrutta', 1), ('Pesce', 3), ('Telefonia', 1), ('Cosmetici', 0), ('Alcolici', 5)]\n"
     ]
    }
   ],
   "source": [
    "#from pprint import pprint\n",
    "# INPUT (NON modificare)\n",
    "categorie = {\"Ferramenta\", \"Ortofrutta\", \n",
    "             \"Abbigliamento sportivo\", \"Gioielleria\",\n",
    "               \"Cosmetici\", \"Pesce\", \n",
    "               \"Alcolici\", \"Forniture Elettriche\", \n",
    "                \"Telefonia\"}\n",
    "competitor = [\n",
    "        (\"GenerStore\", {\"Ortofrutta\", \"Abbigliamento sportivo\", \"Gioielleria\", \"Pesce\", \"Alcolici\"}),\n",
    "        (\"MomentiElettrizzanti\", {\"Abbigliamento sportivo\", \"Videogames\", \"Gioielleria\", \"Alcolici\", \"Forniture Elettriche\"}),\n",
    "        (\"TuttoEDiPiù\", {\"Videogames\", \"Gioielleria\", \"Pesce\", \"Alcolici\", \"Forniture Elettriche\"}),\n",
    "        (\"ProfumoDiBuono\", {\"Pesce\", \"Alcolici\", \"Forniture Elettriche\"}),\n",
    "        (\"PessimeCombo\", {\"Alcolici\", \"Telefonia\"}),\n",
    "]\n",
    "\n",
    "\n",
    "cat_vendute = []\n",
    "cat_disponibile = set()\n",
    "for categ in categorie:\n",
    "        somma = 0    \n",
    "        for index in range(0,len(competitor)):\n",
    "                if categ in competitor[index][1]:\n",
    "                        somma += 1\n",
    "        if somma == 0:\n",
    "                cat_disponibile.add(categ)\n",
    "        cat_vendute.append((categ,somma)) \n",
    "\n",
    "print('Le categorie disponibile sono:', cat_disponibile)\n",
    "print('Categorie vendute da competitor:\\n', cat_vendute)"
   ]
  },
  {
   "cell_type": "code",
   "execution_count": 45,
   "metadata": {},
   "outputs": [
    {
     "name": "stdout",
     "output_type": "stream",
     "text": [
      "{'Abbigliamento sportivo': 0,\n",
      " 'Alcolici': 0,\n",
      " 'Cosmetici': 0,\n",
      " 'Ferramenta': 0,\n",
      " 'Forniture Elettriche': 0,\n",
      " 'Gioielleria': 0,\n",
      " 'Ortofrutta': 0,\n",
      " 'Pesce': 0,\n",
      " 'Telefonia': 0}\n"
     ]
    }
   ],
   "source": [
    "from pprint import pprint\n",
    "#seconda opzione in classe\n",
    "\n",
    "#report = {} #dizionario\n",
    "#for cat in categorie:\n",
    "#    report[cat] = 0\n",
    "\n",
    "# igual que lo de arriba\n",
    "report = {cat: 0 for cat in categorie}\n",
    "pprint(report)"
   ]
  }
 ],
 "metadata": {
  "kernelspec": {
   "display_name": "Python 3",
   "language": "python",
   "name": "python3"
  },
  "language_info": {
   "codemirror_mode": {
    "name": "ipython",
    "version": 3
   },
   "file_extension": ".py",
   "mimetype": "text/x-python",
   "name": "python",
   "nbconvert_exporter": "python",
   "pygments_lexer": "ipython3",
   "version": "3.10.0"
  },
  "orig_nbformat": 4
 },
 "nbformat": 4,
 "nbformat_minor": 2
}
