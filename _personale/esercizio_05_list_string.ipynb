{
 "cells": [
  {
   "attachments": {},
   "cell_type": "markdown",
   "metadata": {},
   "source": [
    "## Esercizio - Psycho Circus\n",
    "\n",
    "Requisiti: slice\n",
    "\n",
    "Nella variabile `kiss_album` è contenuta la lista delle tracce dell'album _Psycho Circus_ pubblicato nel 1998 dai KISS, una band di gentlemen del glam rock. La variabile è una stringa multilinea (aperta come si vede tramite tre `\"\"\"` e chiusa nello stesso modo).\n",
    "\n",
    "In ogni riga della stringa è presente del testo, il titolo della canzone, e una serie di `_` in modo da rendere tutte le righe della stessa lunghezza.\n",
    "\n",
    "```python\n",
    "#La lunghezza di ogni riga\n",
    "lunghezza_etichetta = 48\n",
    "\n",
    "# Il database contenente le canzoni\n",
    "kiss_album = \"\"\"Psycho Circus _________________________________\n",
    "Within ________________________________________\n",
    "I Pledge Allegiance to the State of Rock & Roll\n",
    "Into the Void _________________________________\n",
    "We Are One ____________________________________\n",
    "You Wanted the Best ___________________________\n",
    "Raise Your Glasses ____________________________\n",
    "I Finally Found My Way_________________________\n",
    "Dreamin _______________________________________\n",
    "Journey of 1,000 Years ________________________\"\"\"\n",
    "```\n",
    "\n",
    "Stiamo programmando il controllore di uno stereo e dato il suo numero  `num_canzone` nell'album, vogliamo STAMPARE numero e titolo. \n",
    "\n",
    "Per esempio, se riceviamo `num_canzone = 3` dobbiamo stampare:\n",
    "\n",
    "```\n",
    "numero canzone: 3\n",
    "Into the Void _________________________________\n",
    "```\n",
    "\n",
    "**NOTA**: alla fine di ogni riga di `kiss_album`, c'è un carattere speciale, giusto? :) "
   ]
  },
  {
   "cell_type": "code",
   "execution_count": 1,
   "metadata": {},
   "outputs": [
    {
     "name": "stdout",
     "output_type": "stream",
     "text": [
      "Psycho Circus _________________________________\n",
      "Within ________________________________________\n",
      "I Pledge Allegiance to the State of Rock & Roll\n",
      "Into the Void _________________________________\n",
      "We Are One ____________________________________\n",
      "You Wanted the Best ___________________________\n",
      "Raise Your Glasses ____________________________\n",
      "I Finally Found My Way_________________________\n",
      "Dreamin _______________________________________\n",
      "Journey of 1,000 Years ________________________\n"
     ]
    }
   ],
   "source": [
    "LUNGHEZZA_ETICHETTA = 48\n",
    "\n",
    "# num_canzone = 4    #  Into the Void _________________________________\n",
    "# num_canzone = 10   #  Journey of 1,000 Years ________________________\n",
    "\n",
    "kiss_album = \"\"\"Psycho Circus _________________________________\n",
    "Within ________________________________________\n",
    "I Pledge Allegiance to the State of Rock & Roll\n",
    "Into the Void _________________________________\n",
    "We Are One ____________________________________\n",
    "You Wanted the Best ___________________________\n",
    "Raise Your Glasses ____________________________\n",
    "I Finally Found My Way_________________________\n",
    "Dreamin _______________________________________\n",
    "Journey of 1,000 Years ________________________\"\"\"\n",
    "\n",
    "# scrivi qui\n",
    "print(kiss_album)\n"
   ]
  },
  {
   "attachments": {},
   "cell_type": "markdown",
   "metadata": {},
   "source": [
    "mia soluzione"
   ]
  },
  {
   "cell_type": "code",
   "execution_count": 2,
   "metadata": {},
   "outputs": [
    {
     "name": "stdout",
     "output_type": "stream",
     "text": [
      "'Psycho Circus - Within - I Pledge Allegiance to the State of Rock & Roll- Into the Void - We Are One - You Wanted the Best - Raise Your Glasses - I Finally Found My Way- Dreamin - Journey of 1,000 Years ' \n",
      "\n",
      "['Psycho Circus ', ' Within ', ' I Pledge Allegiance to the State of Rock & Roll', ' Into the Void ', ' We Are One ', ' You Wanted the Best ', ' Raise Your Glasses ', ' I Finally Found My Way', ' Dreamin ', ' Journey of 1,000 Years ']\n",
      "['Psycho Circus _________________________________', 'Within ________________________________________', 'I Pledge Allegiance to the State of Rock & Roll', 'Into the Void _________________________________', 'We Are One ____________________________________', 'You Wanted the Best ___________________________', 'Raise Your Glasses ____________________________', 'I Finally Found My Way_________________________', 'Dreamin _______________________________________', 'Journey of 1,000 Years ________________________']\n",
      "\n",
      " N° tracce:  10\n"
     ]
    }
   ],
   "source": [
    "clean01 = kiss_album.replace('_', '').replace('\\n', '- ')\n",
    "print(repr(clean01),'\\n')\n",
    "titoli = clean01.split('-')\n",
    "kiss = kiss_album.split('\\n')\n",
    "print(titoli)\n",
    "print(kiss)\n",
    "print('\\n','N° tracce: ', len(titoli))"
   ]
  },
  {
   "cell_type": "code",
   "execution_count": 3,
   "metadata": {},
   "outputs": [
    {
     "name": "stdout",
     "output_type": "stream",
     "text": [
      "Traccia n° 1 :  Within \n",
      "Traccia n° 2 :  I Pledge Allegiance to the State of Rock & Roll\n",
      "Traccia n° 3 :  Into the Void \n",
      "Traccia n° 4 :  We Are One \n",
      "Traccia n° 5 :  You Wanted the Best \n",
      "Traccia n° 6 :  Raise Your Glasses \n",
      "Traccia n° 7 :  I Finally Found My Way\n",
      "Traccia n° 8 :  Dreamin \n",
      "Traccia n° 9 :  Journey of 1,000 Years \n"
     ]
    }
   ],
   "source": [
    "x = 0\n",
    "num_canzone = 0\n",
    "for i in titoli:\n",
    "  if x in range (0 , 9):\n",
    "    x += 1\n",
    "    num_canzone += 1\n",
    "    print('Traccia n°', num_canzone,':', titoli[x])\n",
    "    \n",
    "   "
   ]
  },
  {
   "cell_type": "code",
   "execution_count": 4,
   "metadata": {},
   "outputs": [
    {
     "name": "stdout",
     "output_type": "stream",
     "text": [
      "Traccia n° 1 : Within ________________________________________\n",
      "Traccia n° 2 : I Pledge Allegiance to the State of Rock & Roll\n",
      "Traccia n° 3 : Into the Void _________________________________\n",
      "Traccia n° 4 : We Are One ____________________________________\n",
      "Traccia n° 5 : You Wanted the Best ___________________________\n",
      "Traccia n° 6 : Raise Your Glasses ____________________________\n",
      "Traccia n° 7 : I Finally Found My Way_________________________\n",
      "Traccia n° 8 : Dreamin _______________________________________\n",
      "Traccia n° 9 : Journey of 1,000 Years ________________________\n"
     ]
    }
   ],
   "source": [
    "x = 0\n",
    "num_canzone = 0\n",
    "for i in kiss:\n",
    "  if x in range (0 , 9):\n",
    "    x += 1\n",
    "    num_canzone += 1\n",
    "    print('Traccia n°', num_canzone,':', kiss[x])"
   ]
  },
  {
   "attachments": {},
   "cell_type": "markdown",
   "metadata": {},
   "source": [
    "suluzione di classe rimaneggiata"
   ]
  },
  {
   "cell_type": "code",
   "execution_count": 38,
   "metadata": {},
   "outputs": [
    {
     "name": "stdout",
     "output_type": "stream",
     "text": [
      "titolo: Psycho Circus _________________________________\n"
     ]
    }
   ],
   "source": [
    "track_num = int(input(\"IMMETTERE N° TRACCIA\"))\n",
    "track_num_py = track_num\n",
    "list_album = kiss_album.split('\\n')\n",
    "\n",
    "if track_num in range(1,9):\n",
    "    print('numero canzone: ', track_num)\n",
    "    print(\"nome traccia: \" ,list_album[track_num_py])\n",
    "elif track_num == 0:\n",
    "    print(\"titolo:\", list_album[0] )"
   ]
  },
  {
   "attachments": {},
   "cell_type": "markdown",
   "metadata": {},
   "source": [
    "situazioni di errore:\n",
    "- input vietati: < 0  , > 9 , str"
   ]
  },
  {
   "attachments": {},
   "cell_type": "markdown",
   "metadata": {},
   "source": [
    "# PROGRAMMA DEFINITIVO \n",
    "\n",
    "con errori implementati"
   ]
  },
  {
   "cell_type": "code",
   "execution_count": 45,
   "metadata": {},
   "outputs": [
    {
     "name": "stdout",
     "output_type": "stream",
     "text": [
      "N°:  5\n",
      "NOME CANZONE:  You Wanted the Best ___________________________\n"
     ]
    }
   ],
   "source": [
    "try:\n",
    "    track_num = int(input(\"IMMETTERE N° TRACCIA\"))\n",
    "    track_num_py = track_num\n",
    "    list_album = kiss_album.split('\\n')\n",
    "    \n",
    "    if track_num in range(1,10):\n",
    "        print('N°: ', track_num)\n",
    "        print(\"nome canzone: \".upper() ,list_album[track_num_py])\n",
    "    elif track_num == 0:\n",
    "        print(\"titolo:\", list_album[0])\n",
    "\n",
    "    else:\n",
    "        raise ValueError\n",
    "\n",
    "except ValueError:\n",
    "    print(\"LA TRACCIA NON ESISTE\")"
   ]
  }
 ],
 "metadata": {
  "kernelspec": {
   "display_name": ".venv",
   "language": "python",
   "name": "python3"
  },
  "language_info": {
   "codemirror_mode": {
    "name": "ipython",
    "version": 3
   },
   "file_extension": ".py",
   "mimetype": "text/x-python",
   "name": "python",
   "nbconvert_exporter": "python",
   "pygments_lexer": "ipython3",
   "version": "3.11.3"
  },
  "orig_nbformat": 4
 },
 "nbformat": 4,
 "nbformat_minor": 2
}
