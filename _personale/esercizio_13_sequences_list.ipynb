{
 "cells": [
  {
   "attachments": {},
   "cell_type": "markdown",
   "metadata": {},
   "source": [
    "## Esercizio - Strambilia\n",
    "\n",
    "Requisiti: list comprehension, zip\n",
    "\n",
    "Si narra che la valle incantata di Strambilia sia popolata da innumerevoli specie fantastiche. La leggenda dice che chi riuscirà a nominarle tutte riceverà il fantomatico _Dono Del Coding_.\n",
    "\n",
    "Nelle tue ricerche trovi un'antichissima pergamena che recita una lista delle specie, ma ahimè scopri che è  incorretta. Per ottenere la lista giusta, vi sono allegate delle strane istruzioni:\n",
    "\n",
    "> Per ogni nome ottenere le prime 4 lettere e combinarle con le lettere dopo la quarta trovate nel nome corrispondente della lista rovesciata\n",
    "\n",
    "- **NON USARE** cicli `for` o `while`\n",
    "- **NON USARE** metodi delle liste (quindi niente `.reverse()` !)\n",
    "\n",
    "Scrivi del codice che produce una NUOVA lista.\n",
    "\n",
    "Esempio - data:\n",
    "\n",
    "```python\n",
    "fauna = [\"cippimerli\",\n",
    "         \"gufolanti\",\n",
    "         \"branchisauri\",\n",
    "         \"cumulognembi\",\n",
    "         \"arzigovolanti\",\n",
    "         \"rotototteri\",\n",
    "         \"barbagianni\"]\n",
    "```"
   ]
  },
  {
   "cell_type": "markdown",
   "metadata": {},
   "source": [
    "il tuo codice deve produrre:\n",
    "\n",
    "```python\n",
    "['cippagianni',\n",
    " 'gufototteri',\n",
    " 'brangovolanti',\n",
    " 'cumulognembi',\n",
    " 'arzichisauri',\n",
    " 'rotolanti',\n",
    " 'barbimerli']\n",
    "```"
   ]
  },
  {
   "cell_type": "code",
   "execution_count": null,
   "metadata": {},
   "outputs": [],
   "source": [
    "fauna = [\"cippimerli\",\"gufolanti\",\"branchisauri\",\"cumulognembi\",\"arzigovolanti\",\"rotototteri\",\"barbagianni\"]\n",
    "#produce: ['cippagianni','gufototteri','brangovolanti','cumulognembi','arzichisauri','rotolanti','barbimerli']\n",
    "\n",
    "#fauna = [\"ciospoloni\", \"sgarapirri\", \"rimbalammi\", \"tontoolonti\", \"zerbalonti\", \"gnampirilli\"]\n",
    "#produce:  ['ciospirilli', 'sgaralonti','rimboolonti','tontalammi','zerbapirri','gnampoloni']\n",
    "\n",
    "# scrivi qui\n"
   ]
  }
 ],
 "metadata": {
  "language_info": {
   "name": "python"
  },
  "orig_nbformat": 4
 },
 "nbformat": 4,
 "nbformat_minor": 2
}
