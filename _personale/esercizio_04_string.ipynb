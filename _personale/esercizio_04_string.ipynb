{
 "cells": [
  {
   "attachments": {},
   "cell_type": "markdown",
   "metadata": {},
   "source": [
    "## Esercizio - Il drago Smaug\n",
    "\n",
    "Trova UNA SOLA stringa che stampata con `print` venga mostrata (all'incirca) come la seguente:\n",
    "\n",
    "```\n",
    "________________~----~______________\n",
    "////            Storia\t\t    \\\\\\\\\n",
    "Il      cavaliere\n",
    "\t    affronta\n",
    "\n",
    "\t    il      drago   'Smaug' davanti\n",
    "\t\t        al       castello\n",
    "\n",
    "```\n",
    "\n",
    "- inizia e concludi la stringa con apice singolo\n",
    "\n",
    "- **USA SOLO** combinazioni di `\\t` e `\\n`\n",
    "- **NON** usare spazi\n",
    "- **NOTA**: usando i tab potresti vedere risultati diversi a seconda dell'editor che stai usando, quindi puoi solo sperare di ottenere un risultato simile a quello proposto."
   ]
  },
  {
   "cell_type": "code",
   "execution_count": null,
   "metadata": {},
   "outputs": [],
   "source": [
    "s = 'bla bla'\n",
    "print(s)"
   ]
  }
 ],
 "metadata": {
  "language_info": {
   "name": "python"
  },
  "orig_nbformat": 4
 },
 "nbformat": 4,
 "nbformat_minor": 2
}
