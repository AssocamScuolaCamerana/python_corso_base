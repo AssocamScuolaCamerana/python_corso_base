{
 "cells": [
  {
   "attachments": {},
   "cell_type": "markdown",
   "metadata": {},
   "source": [
    "## Esercizio - Il drago Smaug\n",
    "\n",
    "Trova UNA SOLA stringa che stampata con `print` venga mostrata (all'incirca) come la seguente:\n",
    "\n",
    "```\n",
    "________________~----~______________\n",
    "////            Storia\t\t    \\\\\\\\\n",
    "Il      cavaliere\n",
    "\t    affronta\n",
    "\n",
    "\t    il      drago   'Smaug' davanti\n",
    "\t\t        al       castello\n",
    "\n",
    "```\n",
    "\n",
    "- inizia e concludi la stringa con apice singolo\n",
    "\n",
    "- **USA SOLO** combinazioni di `\\t` e `\\n`\n",
    "- **NON** usare spazi\n",
    "- **NOTA**: usando i tab potresti vedere risultati diversi a seconda dell'editor che stai usando, quindi puoi solo sperare di ottenere un risultato simile a quello proposto."
   ]
  },
  {
   "cell_type": "code",
   "execution_count": 25,
   "metadata": {},
   "outputs": [
    {
     "name": "stdout",
     "output_type": "stream",
     "text": [
      "________________~----~______________\n",
      "////\t\tStoria\t\t\\\\\\\\\n",
      "il\tcavaliere\t\t\t\t\n",
      "\t\taffronta\t\t\t\n",
      "\til\tdrago\t'Smaug' davanti\n",
      "\t\t\tal\tcastello\n",
      "\n",
      "\n",
      "\n",
      "\"________________~----~______________\\n////\\t\\tStoria\\t\\t\\\\\\\\\\\\\\\\\\nil\\tcavaliere\\t\\t\\t\\t\\n\\t\\taffronta\\t\\t\\t\\n\\til\\tdrago\\t'Smaug' davanti\\n\\t\\t\\tal\\tcastello\"\n"
     ]
    }
   ],
   "source": [
    "# \\t spazio e \\n a capo \n",
    "\n",
    "s = '________________~----~______________\\n////\\t\\tStoria\\t\\t\\\\\\\\\\\\\\\\\\nil\\tcavaliere\\t\\t\\t\\t\\n\\t\\taffronta\\t\\t\\t\\n\\til\\tdrago\\t\\'Smaug\\' davanti\\n\\t\\t\\tal\\tcastello'\n",
    "\n",
    "\n",
    "print(s)\n",
    "print()\n",
    "print()\n",
    "print()\n",
    "\n",
    "print(repr(s))"
   ]
  }
 ],
 "metadata": {
  "kernelspec": {
   "display_name": "Python 3",
   "language": "python",
   "name": "python3"
  },
  "language_info": {
   "name": "python",
   "version": "3.10.0"
  },
  "orig_nbformat": 4
 },
 "nbformat": 4,
 "nbformat_minor": 2
}
