{
 "cells": [
  {
   "attachments": {},
   "cell_type": "markdown",
   "metadata": {},
   "source": [
    "# Esercizio - La ricetta della nonna\n",
    "\n",
    "Requisiti: stringhe, liste, if, for, import, \n",
    "\n",
    "La nonna ci ha dato la sua miracolosa ricetta della pasta olive acciughe \n",
    "e capperi.\n",
    "\n",
    "<u>Variante 1:</u> Dobbiamo andare a comprare tutti gli ingredienti che appaiono nella lista più di una volta.\n",
    "\n",
    "<u>Variante 2:</u> Dobbiamo andare a comprare gli ingredienti e dobbiamo capire quanti \"**cappero**\", \"**oliva**\" e \"**pepe**\" comprare. Di pasta e altri ingredienti ne abbiamo già in quantità, quindi non ci interessano.\n",
    "\n",
    "- **ATTENZIONE:** la nonna ha la sua età ed è sempre stata pasticciona e quindi la ricetta è scritta in modo non consistente, e le parole vanno *normalizzate*    \n",
    "- **SUGGERIMENTO**: c'è un comodo metodo delle stringhe per separare le parole...\n",
    "  \n",
    "Esempio - dati:\n",
    "\n",
    "```python\n",
    "ricetta = \"oliva\\t, pepe,cappero ,\\n detersivo,\\t \\n cappero, peperone, acciuga ,oliva , pepe\\t,\\t cappero , \\noliva,pasta\\n\"\n",
    "```\n",
    "\n",
    "stampa:\n",
    "\n",
    "```\n",
    "  Servono:\n",
    "     3 oliva\n",
    "     2 pepe\n",
    "     3 cappero\n",
    "``` "
   ]
  },
  {
   "cell_type": "code",
   "execution_count": 8,
   "metadata": {},
   "outputs": [
    {
     "name": "stdout",
     "output_type": "stream",
     "text": [
      "'oliva\\t, pepe,cappero ,\\n detersivo,\\t \\n cappero, peperone, acciuga ,oliva , pepe\\t,\\t cappero , \\noliva,pasta\\n'\n"
     ]
    }
   ],
   "source": [
    "ricetta_orig = \"oliva\\t, pepe,cappero ,\\n detersivo,\\t \\n cappero, peperone, acciuga ,oliva , pepe\\t,\\t cappero , \\noliva,pasta\\n\"\n",
    "# ricetta = \"oliva\\t, pepe,cappero ,\\n dete\\nrsivo,\\t \\n cappero, peperone, acciuga ,oliva , pepe\\t,\\t cappero , \\noliva,pasta\\n\"\n",
    "# ricetta = \"cappone , pepe,\\noliva\\n,\\n\\tpepe, acciuga \"   #  1 oliva 2 pepe 0 cappero\n",
    "\n",
    "# scrivi qui\n",
    "print(repr(ricetta_orig))"
   ]
  },
  {
   "attachments": {},
   "cell_type": "markdown",
   "metadata": {},
   "source": [
    "soluzione mia"
   ]
  },
  {
   "cell_type": "code",
   "execution_count": 7,
   "metadata": {},
   "outputs": [
    {
     "name": "stdout",
     "output_type": "stream",
     "text": [
      "oliva,pepe,cappero,detersivo,cappero,peperone,acciuga,oliva,pepe,cappero,oliva,pasta\n",
      "['oliva', 'pepe', 'cappero', 'detersivo', 'cappero', 'peperone', 'acciuga', 'oliva', 'pepe', 'cappero', 'oliva', 'pasta']\n",
      "{'pepe', 'pasta', 'peperone', 'acciuga', 'detersivo', 'cappero', 'oliva'}\n",
      "{'pepe': 3, 'acciuga': 1, 'peperone': 1, 'oliva': 3, 'pasta': 1, 'cappero': 3, 'detersivo': 1}\n",
      "\n",
      "\n",
      "Servono: \n",
      "\t 3 pepe\n",
      "\t 3 oliva\n",
      "\t 3 cappero\n"
     ]
    }
   ],
   "source": [
    "pulitura = ricetta_orig.replace(\"\\n\",\"\").replace(\"\\t\",\"\").replace(\" \",\"\")\n",
    "ricetta_list = pulitura.split(sep=',') #nota che split restituisce una lista\n",
    "ricetta_unique = str(set(ricetta_list))\n",
    "\n",
    "print(pulitura)\n",
    "print(ricetta_list)\n",
    "print(ricetta_unique)\n",
    "\n",
    "ricetta_pulita = {\n",
    "    'pepe': pulitura.count(\"pepe\"),\n",
    "    'acciuga': pulitura.count(\"acciuga\"),\n",
    "    'peperone': pulitura.count(\"peperone\"),\n",
    "    'oliva': pulitura.count(\"oliva\"),\n",
    "    'pasta': pulitura.count(\"pasta\"),\n",
    "    'cappero': pulitura.count(\"cappero\"),\n",
    "    'detersivo': pulitura.count(\"detersivo\"),\n",
    "                  }\n",
    "print(ricetta_pulita)\n",
    "print()\n",
    "print()\n",
    "print(\"Servono: \")\n",
    "for key in ricetta_pulita:\n",
    "    if ricetta_pulita[key] > 1:\n",
    "        print(\"\\t\",ricetta_pulita[key], key)\n",
    "\n",
    "\n"
   ]
  },
  {
   "attachments": {},
   "cell_type": "markdown",
   "metadata": {},
   "source": [
    "soluzione di classe"
   ]
  },
  {
   "cell_type": "code",
   "execution_count": 6,
   "metadata": {},
   "outputs": [
    {
     "name": "stdout",
     "output_type": "stream",
     "text": [
      "oliva,pepe,cappero,detersivo,cappero,peperone,acciuga,oliva,pepe,cappero,oliva,pasta\n",
      "['oliva', 'pepe', 'cappero', 'detersivo', 'cappero', 'peperone', 'acciuga', 'oliva', 'pepe', 'cappero', 'oliva', 'pasta']\n",
      "Servono:\n",
      "\t 3 oliva\n",
      "\t 2 pepe\n",
      "\t 3 cappero\n"
     ]
    }
   ],
   "source": [
    "pulitura = ricetta_orig.replace(\"\\n\",\"\").replace(\"\\t\",\"\").replace(\" \",\"\")\n",
    "#nota che split restituisce una lista\n",
    "ricetta_list = pulitura.split(sep=',')\n",
    "\n",
    "print(pulitura)\n",
    "print(ricetta_list)\n",
    "\n",
    "report_spesa = {}\n",
    "\n",
    "for ingrediente in ricetta_list: # per ogni ingrediente\n",
    "    if ingrediente in report_spesa: # se l'ingrediente in dizionario\n",
    "        report_spesa[ingrediente] +=1 # aumenti il contatore\n",
    "    else: #se l'ingrediente NON E' in dizionario\n",
    "        report_spesa[ingrediente] =1\n",
    "\n",
    "print(\"Servono:\")\n",
    "for key in report_spesa:\n",
    "    if report_spesa[key] > 1:\n",
    "       print('\\t',report_spesa[key], key)\n"
   ]
  }
 ],
 "metadata": {
  "kernelspec": {
   "display_name": "Python 3",
   "language": "python",
   "name": "python3"
  },
  "language_info": {
   "codemirror_mode": {
    "name": "ipython",
    "version": 3
   },
   "file_extension": ".py",
   "mimetype": "text/x-python",
   "name": "python",
   "nbconvert_exporter": "python",
   "pygments_lexer": "ipython3",
   "version": "3.10.0"
  },
  "orig_nbformat": 4
 },
 "nbformat": 4,
 "nbformat_minor": 2
}
