{
 "cells": [
  {
   "attachments": {},
   "cell_type": "markdown",
   "metadata": {},
   "source": [
    "# VERIFICA FINALE"
   ]
  },
  {
   "attachments": {},
   "cell_type": "markdown",
   "metadata": {},
   "source": [
    "## Obiettivi\n",
    "\n",
    "Creazione di uno script in Python che esegua le seguenti operazioni:\n",
    "\n",
    "- leggere un file contenente dati strutturati in formato CSV, JSON oppure XML e ottenere un oggetto Python manipolabile;\n",
    "- filtrare i record provenienti dal file secondo uno o più criteri;\n",
    "- contare i record trovati applicando i suddetti filtri;\n",
    "- restituire all'utente un report con il conteggio, in un formato prestabilito.\n",
    "\n",
    "Lo script può essere scritto un file nativo di Python (formato `.py`) oppure in una cella di codice all'interno di un file di Jupyter Notebook (formato `.ipynb`)."
   ]
  },
  {
   "attachments": {},
   "cell_type": "markdown",
   "metadata": {},
   "source": [
    "## Dati di input\n",
    "\n",
    "I dati di input (nome file e parametri dei filtri) possono essere:\n",
    "\n",
    "- scritti direttamente all'interno del codice, come variabili;\n",
    "- provenienti dall'utente, utilizzando `input()` e/o `sys.argv`.\n",
    "\n",
    "Scegli solo una una delle due precedenti modalità."
   ]
  },
  {
   "attachments": {},
   "cell_type": "markdown",
   "metadata": {},
   "source": [
    "## Requisiti\n",
    "\n",
    "I moduli built-in `csv` o `json`, i moduli di terze parti `lxml` o `openpyxl`."
   ]
  },
  {
   "attachments": {},
   "cell_type": "markdown",
   "metadata": {},
   "source": [
    "## Consegna\n",
    "\n",
    "Il Comune di Torino ha pubblicato un [*dataset* contenente dati riguardanti le attività commerciali](http://www.datiopen.it/it/opendata/Comune_di_Torino_Attivit_commerciali) sul suo terrirorio. Il dataset contiene un elenco di negozi e attività commerciali con vari dati, tra cui l'anno di inizio attività, la superficie occupata in metri quadrati e il Codice di Avviamento Postale (CAP).\n",
    "\n",
    "> Il tuo obiettivo è quello di contare quante attività commerciali del Comune di Torino sono state avviate dall'anno 2011 in avanti, hanno una superficie maggiore o uguale a 150 metri quadrati e si trovano nelle zone di Millefonti, Lingotto e Filadelfia, che corrispondono grosso modo ai CAP 10126, 10127 e 10134. Guardando sullo stradario, decidi che questi CAP rappresentano in modo accettabile l'area territoriale di tuo interesse.\n",
    "\n",
    "Schematizzando, devi ottenere la seguente informazione:\n",
    "\n",
    "- Numero di attività commerciali che hanno le seguenti caratteristiche:\n",
    "    - L'anno di inizio dell'attività (`Anno inizio attivita`) è uguale o successivo al `2011`.\n",
    "    - La superficie \"`Mq tot locale`\" è maggiore o uguale a `150` mq.\n",
    "    - Il codice di avviamento postale `Cap` è `10126` oppure `10127` oppure `10134`."
   ]
  },
  {
   "attachments": {},
   "cell_type": "markdown",
   "metadata": {},
   "source": [
    "## Dataset\n",
    "\n",
    "I dati sono disponibili in vari formati: CSV, JSON e XML.\n",
    "\n",
    "http://www.datiopen.it/it/opendata/Comune_di_Torino_Attivit_commerciali\n",
    "\n",
    "- [Comune-di-Torino---Attivita-commerciali.csv](http://www.datiopen.it/export/csv/Comune-di-Torino---Attivita-commerciali.csv)\n",
    "- [Comune-di-Torino---Attivita-commerciali.json](http://www.datiopen.it/export/json/Comune-di-Torino---Attivita-commerciali.json)\n",
    "- [Comune-di-Torino---Attivita-commerciali.xml](http://www.datiopen.it/export/xml/Comune-di-Torino---Attivita-commerciali.xml)\n",
    "- [Comune-di-Torino---Attivita-commerciali.xlsx](https://elearning.scuolacamerana.it/moodle/draftfile.php/352/user/draft/505426878/Dataset/Comune-di-Torino---Attivita-commerciali.xlsx)\n",
    "\n",
    "Scaricate il formato a voi più congeniale e su quella base di dati scrivete il vostro programma in Python."
   ]
  },
  {
   "attachments": {},
   "cell_type": "markdown",
   "metadata": {},
   "source": [
    "## Campi\n",
    "\n",
    "Ricapitolando, i dati che ti interessano sono:\n",
    "\n",
    "- anno dell'inizio dell'attività commerciale: campo `Anno inizio attivita`.\n",
    "- superficie totale dei locali dell'attività commerciale: campo `Mq tot locale`.\n",
    "- codice di avviamento postale: campo `Cap`.\n"
   ]
  },
  {
   "attachments": {},
   "cell_type": "markdown",
   "metadata": {},
   "source": [
    "## Output atteso (report):\n",
    "\n",
    "Il tuo programma dovrebbe restituire il seguente output (stampato a monitor):\n",
    "<pre>\n",
    "Numero di attività commerciali trovate: TUO RISULTATO\n",
    "</pre>"
   ]
  },
  {
   "attachments": {},
   "cell_type": "markdown",
   "metadata": {},
   "source": [
    "## Svolgimento"
   ]
  },
  {
   "attachments": {},
   "cell_type": "markdown",
   "metadata": {},
   "source": [
    "Scrivi lo script qua sotto e consegna questo file, altrimenti crea un nuovo file `.py` e consegna lo script."
   ]
  },
  {
   "cell_type": "code",
   "execution_count": 15,
   "metadata": {},
   "outputs": [
    {
     "name": "stdout",
     "output_type": "stream",
     "text": [
      " Il numero di attività commerciali è 35\n"
     ]
    }
   ],
   "source": [
    "# Importo pacchetti\n",
    "import csv\n",
    "\n",
    "\n",
    "# Variabili e Contatori\n",
    "\n",
    "tot_negozi = 0\n",
    "ricerca_comuni = ['10126','10127','10134']\n",
    "\n",
    "# Apertura file csv\n",
    "with open('./Comune-di-Torino---Attivita-commerciali.csv', encoding= 'utf-8') as file_in:\n",
    "    file_reader = csv.DictReader(file_in, delimiter = ';')\n",
    "\n",
    "# Filtro\n",
    "    for linea in file_reader:\n",
    "        if linea[\"Mq tot locale\"].isdigit():\n",
    "            if int(linea[\"Anno inizio attivita\"]) >= 2011 and int(linea[\"Mq tot locale\"]) >= 150:\n",
    "                  if linea[\"Cap\"] in ricerca_comuni:\n",
    "                    tot_negozi += 1\n",
    "\n",
    "# Output\n",
    "print(f\" Il numero di attività commerciali è {tot_negozi}\")"
   ]
  },
  {
   "cell_type": "code",
   "execution_count": 17,
   "metadata": {},
   "outputs": [
    {
     "name": "stdout",
     "output_type": "stream",
     "text": [
      " Il numero di attività commerciali è 35\n"
     ]
    }
   ],
   "source": [
    "# Importo pacchetti\n",
    "import csv\n",
    "from pathlib import Path\n",
    "\n",
    "# Directory\n",
    "actual_path = Path('C:/test_python')\n",
    "FILE_PATH = f'{actual_path}/Comune-di-Torino---Attivita-commerciali.csv'\n",
    "\n",
    "# Variabili e Contatori\n",
    "tot_negozi = 0\n",
    "ricerca_comuni = ['10126','10127','10134']\n",
    "\n",
    "# Apertura file csv\n",
    "with open(FILE_PATH, encoding= 'utf-8') as file_in:\n",
    "    file_reader = csv.DictReader(file_in, delimiter = ';')\n",
    "\n",
    "# Filtro\n",
    "    for linea in file_reader:\n",
    "        if linea[\"Mq tot locale\"].isdigit():\n",
    "            if int(linea[\"Anno inizio attivita\"]) >= 2011 and int(linea[\"Mq tot locale\"]) >= 150:\n",
    "                  if linea[\"Cap\"] in ricerca_comuni:\n",
    "                    tot_negozi += 1\n",
    "\n",
    "# Output\n",
    "print(f\" Il numero di attività commerciali è {tot_negozi}\")"
   ]
  }
 ],
 "metadata": {
  "kernelspec": {
   "display_name": "Python 3",
   "language": "python",
   "name": "python3"
  },
  "language_info": {
   "codemirror_mode": {
    "name": "ipython",
    "version": 3
   },
   "file_extension": ".py",
   "mimetype": "text/x-python",
   "name": "python",
   "nbconvert_exporter": "python",
   "pygments_lexer": "ipython3",
   "version": "3.11.3"
  },
  "orig_nbformat": 4
 },
 "nbformat": 4,
 "nbformat_minor": 2
}
