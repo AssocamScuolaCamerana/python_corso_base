{
 "cells": [
  {
   "attachments": {},
   "cell_type": "markdown",
   "metadata": {},
   "source": [
    "# MACHINE LEARNING"
   ]
  },
  {
   "attachments": {},
   "cell_type": "markdown",
   "metadata": {},
   "source": [
    "## Ricetta"
   ]
  },
  {
   "attachments": {},
   "cell_type": "markdown",
   "metadata": {},
   "source": [
    "Training, test e previsioni"
   ]
  },
  {
   "cell_type": "code",
   "execution_count": 34,
   "metadata": {},
   "outputs": [
    {
     "name": "stdout",
     "output_type": "stream",
     "text": [
      "punteggio del modello:  0.010616744759965435\n",
      "punteggio predetto: [7.20814563]\n"
     ]
    }
   ],
   "source": [
    "import pandas as pd\n",
    "\n",
    "from sklearn.pipeline import make_pipeline\n",
    "from sklearn.feature_extraction.text import TfidfVectorizer\n",
    "from sklearn.linear_model import Ridge\n",
    "from sklearn.model_selection import train_test_split\n",
    "\n",
    "data = pd.read_csv('ricette.csv')\n",
    "\n",
    "x = data[\"ingredienti\"]\n",
    "y = data[\"gradimento\"]\n",
    "\n",
    "model = make_pipeline(TfidfVectorizer(), Ridge())\n",
    "\n",
    "X_train, X_test, y_train, y_test  = train_test_split(x, y, test_size = 0.5, random_state = 42)\n",
    "\n",
    "model.fit(X_train, y_train) #riempi il modelllo\n",
    "\n",
    "score = model.score(X_test, y_test) #testa il modello\n",
    "\n",
    "nuova_ricetta = [\"papa, arroz, huevo\"]\n",
    "\n",
    "gradimento_predetto = model.predict(nuova_ricetta)\n",
    "\n",
    "print('punteggio del modello: ', score)\n",
    "print('punteggio predetto:', gradimento_predetto)\n"
   ]
  }
 ],
 "metadata": {
  "kernelspec": {
   "display_name": "Python 3",
   "language": "python",
   "name": "python3"
  },
  "language_info": {
   "codemirror_mode": {
    "name": "ipython",
    "version": 3
   },
   "file_extension": ".py",
   "mimetype": "text/x-python",
   "name": "python",
   "nbconvert_exporter": "python",
   "pygments_lexer": "ipython3",
   "version": "3.10.13"
  },
  "orig_nbformat": 4
 },
 "nbformat": 4,
 "nbformat_minor": 2
}
