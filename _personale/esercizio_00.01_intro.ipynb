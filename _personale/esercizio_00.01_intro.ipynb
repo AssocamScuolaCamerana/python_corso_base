{
 "cells": [
  {
   "cell_type": "markdown",
   "metadata": {},
   "source": [
    "# Esercizi introduttivi"
   ]
  },
  {
   "cell_type": "markdown",
   "metadata": {},
   "source": [
    "TEMI TRATTATI:\n",
    "\n",
    "- Set-up dell’ambiente di sviluppo.\n",
    "- Stampare a monitor."
   ]
  },
  {
   "cell_type": "markdown",
   "metadata": {},
   "source": [
    "NOTE SULLO SVOLGIMENTO:\n",
    "- Puoi svolgere ed eseguire gli esercizi direttamente qua su questo notebook oppure su un normale file di script Python con estensione `.py`, eseguendolo nel terminale del sistema operativo con il comando `py mio_esercizio.py` (Windows) oppure `python3 mio_esercizio.py` (Linux o macOS).\n",
    "- Data la semplicità delle azioni richieste dai seguenti esercizi, potresti anche provare ad usare IDLE oppure direttamente l'interprete interattivo di Python, eseguibile dal terminale del sistema operativo con il comando `py` (Windows) oppure `python3` (Linux o macOS)."
   ]
  },
  {
   "cell_type": "markdown",
   "metadata": {},
   "source": [
    "## Esercizio 1: `print` base\n",
    "\n",
    "Obiettivo: Scrivere un programma che stampa vari tipi di dati, tra cui stringhe, numeri interi, numeri in virgola mobile e booleani. Ogni tipo di dato deve essere stampato su una nuova riga.\n",
    "\n",
    "Dati da stampare:\n",
    "\n",
    "```python\n",
    "\"Hello, World!\"\n",
    "'Ciao a tutti!'\n",
    "2024\n",
    "3.14159\n",
    "True\n",
    "[3, 5.4, 2, 'pippo']\n",
    "```\n",
    "\n",
    "Per ciascuno di questi dati, scrivi l'istruzione necessaria per stamparlo a monitor.\n",
    "\n",
    "Per esempio, queste due linee di codice:\n",
    "\n",
    "```python\n",
    "print('Questo dato è una stringa.')\n",
    "print(False)\n",
    "```\n",
    "\n",
    "Produrranno il seguente output:\n",
    "\n",
    "```log\n",
    "Questo dato è una stringa.\n",
    "False\n",
    "```"
   ]
  },
  {
   "cell_type": "markdown",
   "metadata": {},
   "source": [
    "### Esercizio:"
   ]
  },
  {
   "cell_type": "code",
   "execution_count": 1,
   "metadata": {},
   "outputs": [
    {
     "name": "stdout",
     "output_type": "stream",
     "text": [
      "Hello, World!\n",
      "Ciao a tutti!\n",
      "2024\n",
      "3.14159\n",
      "True\n",
      "[3, 5.4, 2, 'pippo']\n"
     ]
    }
   ],
   "source": [
    "# 1) I dati da stampare sono:\n",
    "\n",
    "# \"Hello, World!\"\n",
    "# 'Ciao a tutti!'\n",
    "# 2024\n",
    "# 3.14159\n",
    "# True\n",
    "# [3, 5.4, 2, 'pippo']\n",
    "\n",
    "# 2) Scrivi di seguito il tuo codice:\n",
    "\n",
    "print(\"Hello, World!\") \n",
    "print('Ciao a tutti!') \n",
    "print(2024) \n",
    "print(3.14159) \n",
    "print(True) \n",
    "print([3, 5.4, 2, 'pippo'])\n",
    "\n",
    "# 3) Ora esegui questa cella di codice per verificare che il tuo codice sia corretto."
   ]
  },
  {
   "cell_type": "markdown",
   "metadata": {},
   "source": [
    "## Esercizio 2: Concatenazione di stringhe in `print`\n",
    "\n",
    "Obiettivo: Utilizzare la funzione print per concatenare e stampare più stringhe. Scrivi un programma che prende diverse stringhe e le stampa in una riga unica, separandole con uno spazio.\n",
    "\n",
    "Per esempio, queste due linee di codice:\n",
    "\n",
    "```python\n",
    "person1 = 'Andrea' \n",
    "person2 = 'Marco' \n",
    "print(person1, person2)\n",
    "```\n",
    "\n",
    "Produrranno il seguente output:\n",
    "\n",
    "```log\n",
    "Andrea Marco\n",
    "```"
   ]
  },
  {
   "cell_type": "markdown",
   "metadata": {},
   "source": [
    "### Esercizio:"
   ]
  },
  {
   "cell_type": "markdown",
   "metadata": {},
   "source": [
    "Output richiesto:\n",
    "\n",
    "```\n",
    "Mario Rossi ha 30 anni\n",
    "```"
   ]
  },
  {
   "cell_type": "code",
   "execution_count": 4,
   "metadata": {},
   "outputs": [
    {
     "name": "stdout",
     "output_type": "stream",
     "text": [
      "Mario Rossi ha 30 anni\n"
     ]
    }
   ],
   "source": [
    "# 1) I dati da stampare sono:\n",
    "\n",
    "first_name = \"Mario\"\n",
    "last_name = \"Rossi\"\n",
    "age = 30\n",
    "\n",
    "# Dovrebbe stampare: \"Mario Rossi ha 30 anni\"\n",
    "\n",
    "# 2) Scrivi di seguito il tuo codice:\n",
    "\n",
    "print(first_name, last_name, 'ha', age, 'anni')\n",
    "\n",
    "# 3) Ora esegui questa cella di codice per verificare che il tuo codice sia corretto."
   ]
  },
  {
   "cell_type": "markdown",
   "metadata": {},
   "source": [
    "## Esercizio 3: Uso di `sep` e `end` in `print`\n",
    "\n",
    "Obiettivo: Sperimentare con gli argomenti `sep` e `end` della funzione `print`. Scrivi un programma che stampa diversi valori separandoli con un simbolo a scelta (ad esempio, una virgola) e termina la stampa con una frase conclusiva anziché andare a capo.\n",
    "\n",
    "Per esempio, il seguente codice:\n",
    "\n",
    "```python\n",
    "print('1', '2', '3', sep='-', end='!')\n",
    "```\n",
    "\n",
    "Produrrà il seguente output:\n",
    "\n",
    "```\n",
    "1-2-3!\n",
    "```"
   ]
  },
  {
   "cell_type": "markdown",
   "metadata": {},
   "source": [
    "### Esercizio:"
   ]
  },
  {
   "cell_type": "markdown",
   "metadata": {},
   "source": [
    "Output richiesto:\n",
    "\n",
    "```\n",
    "Mela, Banana, Fragola. Questi sono solo alcuni frutti!\n",
    "```"
   ]
  },
  {
   "cell_type": "code",
   "execution_count": 49,
   "metadata": {},
   "outputs": [
    {
     "name": "stdout",
     "output_type": "stream",
     "text": [
      "1-2-3!\n",
      "Mela, Banana, Fragola. Questi sono solo alcuni frutti!"
     ]
    }
   ],
   "source": [
    "# 1) I dati da stampare sono:\n",
    "\n",
    "fruit1 = 'Mela'\n",
    "fruit2 = 'Banana'\n",
    "fruit3 = 'Fragola'\n",
    "\n",
    "# Dovrebbe stampare: \"Mela, Banana, Fragola. Questi sono solo alcuni frutti!\"\n",
    "\n",
    "# 2) Scrivi di seguito il tuo codice:\n",
    "\n",
    "print('1', '2', '3', sep='-', end='!') \n",
    "print() \n",
    "print(fruit1, fruit2, fruit3, end='. ' 'Questi sono solo alcuni frutti!', sep=', ')\n",
    "\n",
    "# 3) Ora esegui questa cella di codice per verificare che il tuo codice sia corretto."
   ]
  }
 ],
 "metadata": {
  "kernelspec": {
   "display_name": ".venv",
   "language": "python",
   "name": "python3"
  },
  "language_info": {
   "codemirror_mode": {
    "name": "ipython",
    "version": 3
   },
   "file_extension": ".py",
   "mimetype": "text/x-python",
   "name": "python",
   "nbconvert_exporter": "python",
   "pygments_lexer": "ipython3",
   "version": "3.12.2"
  }
 },
 "nbformat": 4,
 "nbformat_minor": 2
}
