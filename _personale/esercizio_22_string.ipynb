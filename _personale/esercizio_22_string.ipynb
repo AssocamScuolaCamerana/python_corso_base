{
 "cells": [
  {
   "attachments": {},
   "cell_type": "markdown",
   "metadata": {},
   "source": [
    "# Esercizio: Da cammello a serpente"
   ]
  },
  {
   "attachments": {},
   "cell_type": "markdown",
   "metadata": {},
   "source": [
    "Dato che stiamo imparando Python, a volte può essere utile convertire il testo da lowerCamelCase a snake_case. Il trucco principale consiste nel trovare il punto giusto in cui inserire un trattino basso. Poniamo la regola che un trattino basso debba essere inserito subito prima di una lettera maiuscola, così lowerCamelCase diventerà lower_camel_case.\n",
    "\n",
    "- **Input**: Leggere una parola o una frase scritta in minuscoloCamelCase\n",
    "\n",
    "- **Output**: Stampa le parole in minuscolo, separate da trattini bassi."
   ]
  },
  {
   "attachments": {},
   "cell_type": "markdown",
   "metadata": {},
   "source": [
    "SUGGERIMENTO: I metodi delle stringhe `str.lower()`, `str.isupper()` (o `str.islower()`) potrebbero tornarti utili. Se non li conosci, vai a leggere la documentazione."
   ]
  },
  {
   "attachments": {},
   "cell_type": "markdown",
   "metadata": {},
   "source": [
    "- Esempio 1:\n",
    "  - Input: `python`\n",
    "  - Output: `python`\n",
    "\n",
    "- Esempio 2\n",
    "  - Input: `parselTongue`\n",
    "  - Output: `parsel_tongue`\n",
    "\n",
    "- Esempio 3\n",
    "  - Input: `pippoPlutoEtaBeta`\n",
    "  - Output: `pippo_pluto_eta_beta`"
   ]
  },
  {
   "cell_type": "code",
   "execution_count": 2,
   "metadata": {},
   "outputs": [],
   "source": [
    "word = input()\n",
    "\n",
    "# scrivi qui\n"
   ]
  },
  {
   "attachments": {},
   "cell_type": "markdown",
   "metadata": {},
   "source": [
    "## Variante: Da Pasquale a serpente\n",
    "\n",
    "Il vostro algoritmo funziona anche con i nomi scritti in PascalCase?"
   ]
  },
  {
   "cell_type": "code",
   "execution_count": 1,
   "metadata": {},
   "outputs": [],
   "source": [
    "word = input()\n",
    "\n",
    "# scrivi qui\n"
   ]
  }
 ],
 "metadata": {
  "kernelspec": {
   "display_name": ".venv",
   "language": "python",
   "name": "python3"
  },
  "language_info": {
   "codemirror_mode": {
    "name": "ipython",
    "version": 3
   },
   "file_extension": ".py",
   "mimetype": "text/x-python",
   "name": "python",
   "nbconvert_exporter": "python",
   "pygments_lexer": "ipython3",
   "version": "3.11.2"
  },
  "orig_nbformat": 4
 },
 "nbformat": 4,
 "nbformat_minor": 2
}
