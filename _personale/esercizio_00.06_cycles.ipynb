{
 "cells": [
  {
   "cell_type": "markdown",
   "metadata": {},
   "source": [
    "# Esercizi introduttivi"
   ]
  },
  {
   "cell_type": "markdown",
   "metadata": {},
   "source": [
    "TEMI TRATTATI:\n",
    "\n",
    "- Cicli con `while` e `for`\n",
    "- Elaborazione di input e output complessi"
   ]
  },
  {
   "cell_type": "markdown",
   "metadata": {},
   "source": [
    "NOTE SULLO SVOLGIMENTO:\n",
    "- Puoi svolgere ed eseguire gli esercizi direttamente qua su questo notebook oppure su un normale file di script Python con estensione `.py`, eseguendolo nel terminale del sistema operativo con il comando `py mio_esercizio.py` (Windows) oppure `python3 mio_esercizio.py` (Linux o macOS)."
   ]
  },
  {
   "cell_type": "markdown",
   "metadata": {},
   "source": [
    "## Esercizio 1: Tutti i gli interi che vuoi\n",
    "\n",
    "Scrivere un programma che legga una sequenza di numeri interi (la sequenza termina quando viene inserita una stringa vuota) e che, dopo ogni nuova acquisizione, calcoli e visualizzi:\n",
    "\n",
    "1. le somme parziali di tutti i numeri acquisiti. Il programma deve visualizzare il risultato dei calcoli dopo ogni nuova acquisizione. Se, ad esempio, i valori in ingresso sono `1 7 2 9`, il programma visualizzerà la somma parziale dei numeri acquisiti dopo ogni acquisizione:\n",
    "    1. alla prima acquisizione (`1`), il primo valore acquisito:\n",
    "        - `Somma parziale: 1`\n",
    "    2. alla seconda acquisizione (`7`), la somma tra la prima e la seconda acquisizione:\n",
    "        - (1 + 7)\n",
    "        - `Somma parziale: 8`\n",
    "    3. alla terza acquisizione (`2`), la somma tra la prima, la seconda e la terza acquisizione:\n",
    "        - (1 + 7 + 2)\n",
    "        - `Somma parziale: 10`\n",
    "    4. alla quarta acquisizione (`9`), la somma tra la prima, la seconda, la terza e la quarta acquisizione:\n",
    "        - (1 + 7 + 2 + 9)\n",
    "        - `Somma parziale: 19`\n",
    "\n",
    "2. Il valore minimo e il valore massimo tra quelli acquisiti. Ad esempio, con `1 7 2 9`:\n",
    "    - `Valore massimo: 9`\n",
    "    - `Valore minimo: 1`\n",
    "\n",
    "3. Il numero di valori pari e il numero di valori dispari tra quelli acquisiti. Ad esempio, con `1 7 2 9`:\n",
    "    - `N. valori pari: 1`\n",
    "    - `N. valori dispari: 3`"
   ]
  },
  {
   "cell_type": "code",
   "execution_count": 13,
   "metadata": {},
   "outputs": [
    {
     "name": "stdout",
     "output_type": "stream",
     "text": [
      "Somma parziale: 1\n",
      "Somma parziale: 8\n",
      "Somma parziale: 10\n",
      "Somma parziale: 19\n",
      "['1', '7', '2', '9']\n",
      "Valore massimo: 9\n",
      "Valore minimo: 1\n",
      "N. valori pari: 1\n",
      "N. valori dispari: 3\n"
     ]
    }
   ],
   "source": [
    "# Scrivi qua il tuo codice\n",
    "num = input('Scrivere numero: ')\n",
    "somma = 0\n",
    "lista = []\n",
    "pari = 0\n",
    "dispari = 0\n",
    "\n",
    "while(num != ''):\n",
    "    lista.append(num)\n",
    "    somma += int(num)\n",
    "    print('Somma parziale:', somma)\n",
    "\n",
    "    if(int(num)%2 == 0):\n",
    "        pari += 1\n",
    "    else:\n",
    "        dispari += 1\n",
    "\n",
    "    num = input('Scrivere numero: ')\n",
    "\n",
    "print(lista) \n",
    "print('Valore massimo:', max(lista))\n",
    "print('Valore minimo:', min(lista))\n",
    "print('N. valori pari:', pari)\n",
    "print('N. valori dispari:',dispari)\n"
   ]
  },
  {
   "cell_type": "markdown",
   "metadata": {},
   "source": [
    "## Esercizio 2: Analisi di una stringa\n",
    "\n",
    "Scrivere un programma che legga una riga di testo in ingresso sotto forma di stringa e visualizzi quanto segue:\n",
    "\n",
    "- le sole lettere maiuscole della stringa;\n",
    "- le lettere in posizioni pari nella stringa;\n",
    "- la stessa stringa in cui, al posto delle vocali (maiuscole o minuscole), vi sia un underscore (_);\n",
    "- il numero di cifre numeriche presenti nella stringa;\n",
    "- le posizioni di tutte le vocali presenti nella stringa. "
   ]
  },
  {
   "cell_type": "code",
   "execution_count": 24,
   "metadata": {},
   "outputs": [
    {
     "name": "stdout",
     "output_type": "stream",
     "text": [
      "Maiuscole:  ['E']\n",
      "Lettere in posizioni pari:  ['E', 't', ' ', 's', '1', 't', 'x', 'o']\n",
      "Vocali modificate:  _st_ _s 1 t_xt_\n",
      "Quantità di numeri:  1\n",
      "Posizioni delle vocali:  [0, 3, 5, 11, 14]\n"
     ]
    }
   ],
   "source": [
    "# Scrivi qua il tuo codice\n",
    "testo = 'Este es 1 texto'\n",
    "maius = []\n",
    "pos_pari = []\n",
    "testo_underscore = ''\n",
    "numeri = 0\n",
    "pos_vocali = []\n",
    "\n",
    "for lettera in testo:\n",
    "    if lettera.isupper():\n",
    "        maius.append(lettera)\n",
    "\n",
    "    if lettera.upper() in 'AEIOU':\n",
    "        testo_underscore += '_'\n",
    "    else:\n",
    "        testo_underscore += lettera\n",
    "\n",
    "    if lettera in '1234567890':\n",
    "        numeri += 1\n",
    "\n",
    "\n",
    "for index in range(0,len(testo)):\n",
    "    if index%2 == 0:\n",
    "        pos_pari.append(testo[index])\n",
    "\n",
    "    if testo[index].upper() in 'AEIOU':\n",
    "        pos_vocali.append(index)\n",
    "\n",
    "print('Maiuscole: ', maius)\n",
    "print('Lettere in posizioni pari: ', pos_pari)\n",
    "print('Vocali modificate: ', testo_underscore)\n",
    "print('Quantità di numeri: ', numeri)\n",
    "print('Posizioni delle vocali: ', pos_vocali)\n"
   ]
  },
  {
   "cell_type": "markdown",
   "metadata": {},
   "source": [
    "## Esercizio 3: Quadrato e rombo\n",
    "\n",
    "Scrivere un programma che legga un numero intero `n` e visualizzi, usando asterischi `'*'`, un quadrato e un rombo pieni, il cui lato abbia lunghezza n.\n",
    "\n",
    "Se, ad esempio, l’utente fornisce il numero `4`, il programma deve visualizzare:\n",
    "\n",
    "```text\n",
    "****\n",
    "****\n",
    "****\n",
    "****\n",
    "\n",
    "   *\n",
    "  ***\n",
    " *****\n",
    "*******\n",
    " *****\n",
    "  ***\n",
    "   *\n",
    "```"
   ]
  },
  {
   "cell_type": "code",
   "execution_count": 53,
   "metadata": {},
   "outputs": [
    {
     "name": "stdout",
     "output_type": "stream",
     "text": [
      "    *\n",
      "   ***\n",
      "  *****\n",
      " *******\n",
      "*********\n",
      " *******\n",
      "  *****\n",
      "   ***\n",
      "    *\n"
     ]
    }
   ],
   "source": [
    "# Scrivi qua il tuo codice\n",
    "n = 5\n",
    "\n",
    "#for y in range(0,n):\n",
    "#    print('*'*n)\n",
    "\n",
    "for r in range(1,n):\n",
    "    print(' '*(n-r) + '*'*(r*2-1))\n",
    "\n",
    "for r in range(n,0, -1):\n",
    "    print(' '*(n-r) + '*'*(r*2-1))"
   ]
  },
  {
   "cell_type": "markdown",
   "metadata": {},
   "source": [
    "## Esercizio 4: Parole al contrario\n",
    "\n",
    "Scrivere un programma che legga una parola e visualizzi:\n",
    "\n",
    "- La parola al contrario. Se, ad esempio, l’utente fornisce la stringa `'Ciao'`, il programma deve visualizzare `'oaiC'`.\n",
    "\n",
    "- Le lettere maiuscole partendo dal fondo. Se, ad esempio, l’utente fornisce la stringa `'CiAo'`, il programma deve visualizzare `'AC'`."
   ]
  },
  {
   "cell_type": "code",
   "execution_count": 28,
   "metadata": {},
   "outputs": [
    {
     "name": "stdout",
     "output_type": "stream",
     "text": [
      "oAiC\n",
      "AC\n"
     ]
    }
   ],
   "source": [
    "# Scrivi qua il tuo codice\n",
    "parola = 'CiAo'\n",
    "new_parola = ''\n",
    "maius = ''\n",
    "\n",
    "for index in range(len(parola)-1, -1, -1):\n",
    "    new_parola += parola[index]\n",
    "    if parola[index].isupper():\n",
    "        maius += parola[index]\n",
    "\n",
    "print(new_parola)\n",
    "print(maius)"
   ]
  },
  {
   "cell_type": "markdown",
   "metadata": {},
   "source": [
    "## Esercizio 5: Spezzatino di parola\n",
    "\n",
    "Scrivere un programma che legga una parola e visualizzi tutte le sue sottostringhe, ordinate per lunghezza crescente.\n",
    "\n",
    "Se, ad esempio, l’utente fornisce la stringa `'rum'`, il programma deve visualizzare:\n",
    "\n",
    "```text\n",
    "r\n",
    "u\n",
    "m\n",
    "ru\n",
    "um\n",
    "rum\n",
    "```"
   ]
  },
  {
   "cell_type": "code",
   "execution_count": 12,
   "metadata": {},
   "outputs": [
    {
     "name": "stdout",
     "output_type": "stream",
     "text": [
      "r\n",
      "u\n",
      "m\n",
      "ru\n",
      "um\n",
      "rum\n"
     ]
    }
   ],
   "source": [
    "# Scrivi qua il tuo codice\n",
    "testo = 'rum'\n",
    "\n",
    "\n",
    "lunghezza = 1\n",
    "while(lunghezza <= len(testo)):\n",
    "    \n",
    "    for index in range(0,len(testo)-lunghezza+1):\n",
    "        print(testo[index:index+lunghezza])\n",
    "    lunghezza +=1;\n",
    "\n"
   ]
  },
  {
   "cell_type": "markdown",
   "metadata": {},
   "source": [
    "## Esercizio 6: PIN\n",
    "\n",
    "Quando utilizzate uno sportello bancario automatico (ATM, Automatic Teller Machine) con la vostra carta, dovete usare un numero identificativo personale (PIN, Personal Identification Number) per poter accedere al vostro conto.\n",
    "\n",
    "Se un utente sbaglia tre volte l’inserimento del PIN, la macchina trattiene la carta e la blocca.\n",
    "\n",
    "Nell’ipotesi che il PIN dell’utente sia `1234`, scrivere un programma che chieda all’utente di digitare il PIN, consentendo al massimo tre tentativi e funzioni in questo modo:\n",
    "\n",
    "- Quando l’utente inserisce il numero corretto, visualizza il messaggio`'Your PIN is correct'` e termina.\n",
    "- Quando l’utente inserisce un numero sbagliato, visualizza il messaggio `'Your PIN is incorrect'` e, se ha chiesto il PIN meno di tre volte, lo chiede di nuovo.\n",
    "- Quando l’utente inserisce un numero sbagliato per la terza volta, visualizza il messaggio `'Your bank card is blocked'` e termina il programma."
   ]
  },
  {
   "cell_type": "code",
   "execution_count": 15,
   "metadata": {},
   "outputs": [
    {
     "name": "stdout",
     "output_type": "stream",
     "text": [
      "Carta bloccata\n"
     ]
    }
   ],
   "source": [
    "# Scrivi qua il tuo codice\n",
    "pin = input('Inserire il pin:')\n",
    "tentativi = 3\n",
    "pin_ok = False\n",
    "\n",
    "while tentativi > 1:\n",
    "    if pin == '1234':\n",
    "        print('Pin ok')\n",
    "        tentativi = 0\n",
    "        pin_ok = True\n",
    "    else:\n",
    "        pin = input('Pin non ok. Prova di nuovo:')\n",
    "        tentativi -= 1\n",
    "\n",
    "if pin_ok == False:\n",
    "    print('Carta bloccata')\n",
    "\n",
    "\n"
   ]
  }
 ],
 "metadata": {
  "kernelspec": {
   "display_name": ".venv",
   "language": "python",
   "name": "python3"
  },
  "language_info": {
   "codemirror_mode": {
    "name": "ipython",
    "version": 3
   },
   "file_extension": ".py",
   "mimetype": "text/x-python",
   "name": "python",
   "nbconvert_exporter": "python",
   "pygments_lexer": "ipython3",
   "version": "3.10.0"
  }
 },
 "nbformat": 4,
 "nbformat_minor": 2
}
