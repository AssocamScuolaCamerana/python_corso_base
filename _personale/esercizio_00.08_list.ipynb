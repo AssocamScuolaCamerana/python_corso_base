{
 "cells": [
  {
   "cell_type": "markdown",
   "metadata": {},
   "source": [
    "# Esercizi introduttivi"
   ]
  },
  {
   "cell_type": "markdown",
   "metadata": {},
   "source": [
    "TEMI TRATTATI:\n",
    "\n",
    "- Liste di elementi\n",
    "- Usare il ciclo for per scorrere una lista\n",
    "- Uso di funzioni e metodi per manipolare liste"
   ]
  },
  {
   "cell_type": "markdown",
   "metadata": {},
   "source": [
    "NOTE SULLO SVOLGIMENTO:\n",
    "- Puoi svolgere ed eseguire gli esercizi direttamente qua su questo notebook oppure su un normale file di script Python con estensione `.py`, eseguendolo nel terminale del sistema operativo con il comando `py mio_esercizio.py` (Windows) oppure `python3 mio_esercizio.py` (Linux o macOS)."
   ]
  },
  {
   "cell_type": "markdown",
   "metadata": {},
   "source": [
    "## Esercizio 1: Somma a segni alterni\n",
    "\n",
    "Scrivere un programma che riceva in input una sequenza di numeri interi, e che calcoli la somma alternata dei suoi elementi.\n",
    "\n",
    "Ad esempio, se il programma legge i dati `1 4 9 16 9 7 4 9 11`, deve calcolare\n",
    "\n",
    "1 – 4 + 9 – 16 + 9 – 7 + 4 – 9 + 11 = -2\n",
    "\n",
    "e visualizzare:\n",
    "\n",
    "`La somma alternata è: –2`"
   ]
  },
  {
   "cell_type": "code",
   "execution_count": 24,
   "metadata": {},
   "outputs": [],
   "source": [
    "def somma_num_lista(lista_str):\n",
    "    lista = lista_str.split()\n",
    "    print(lista)\n",
    "\n",
    "    somma = 0\n",
    "    oper_somma = True\n",
    "    for item in lista:\n",
    "        if oper_somma:\n",
    "            somma += int(item)\n",
    "            oper_somma = False\n",
    "        else:\n",
    "            somma -= int(item)\n",
    "            oper_somma = True\n",
    "\n",
    "    return somma"
   ]
  },
  {
   "cell_type": "code",
   "execution_count": 25,
   "metadata": {},
   "outputs": [
    {
     "name": "stdout",
     "output_type": "stream",
     "text": [
      "['1', '4', '9', '16', '9', '7', '4', '9', '11']\n"
     ]
    },
    {
     "data": {
      "text/plain": [
       "-2"
      ]
     },
     "execution_count": 25,
     "metadata": {},
     "output_type": "execute_result"
    }
   ],
   "source": [
    "lista_str = '1  4 9  16  9  7  4  9  11'\n",
    "#lista_str = str(input('Inserire una lista de numeri'))\n",
    "\n",
    "somma_num_lista(lista_str)"
   ]
  },
  {
   "cell_type": "markdown",
   "metadata": {},
   "source": [
    "## Esercizio 2: Lista di numeri casuali\n",
    "\n",
    "Scrivere un programma che inizializzi una lista con dieci numeri interi casuali tra `1` e `100` e poi visualizzi, su quattro righe successive:\n",
    "\n",
    "- Tutti gli elementi di indice pari;\n",
    "- Tutti gli elementi di valore pari;\n",
    "- Tutti gli elementi in ordine inverso;\n",
    "- Il primo e l’ultimo elemento."
   ]
  },
  {
   "cell_type": "markdown",
   "metadata": {},
   "source": [
    "ESEMPIO DI OUTPUT ATTESO:\n",
    "\n",
    "```text\n",
    "Elementi in posizione pari: 49 45 32 10 62 \n",
    "Gli elementi pari sono: 70 36 32 98 10 62 56 \n",
    "In ordine inverso: 56 62 85 10 98 32 36 45 70 49 \n",
    "Primo e ultimo: 49 56\n",
    "```"
   ]
  },
  {
   "cell_type": "code",
   "execution_count": 21,
   "metadata": {},
   "outputs": [
    {
     "name": "stdout",
     "output_type": "stream",
     "text": [
      "lista originale: [17, 71, 94, 83, 33, 10, 85, 36, 55, 93]\n",
      "Elementi in posizione pari: 17 94 33 85 55\n",
      "Gli elementi pari sono: [94, 10, 36]\n",
      "In ordine inverso: [93, 55, 36, 85, 10, 33, 83, 94, 71, 17]\n",
      "Primo e ultimo: 17 93\n"
     ]
    }
   ],
   "source": [
    "import random\n",
    "\n",
    "lista = [1,2,3,4,5,6,7,8,9,10]\n",
    "for i in range(0,10):\n",
    "    lista[i] = random.randint(1,100)\n",
    "\n",
    "print('lista originale:',lista)\n",
    "\n",
    "#Elementi in pos pari\n",
    "post_pari=''\n",
    "elem_pari = []\n",
    "lista_inversa = []\n",
    "\n",
    "for i in range(0,len(lista)):\n",
    "    \n",
    "    if(i%2 == 0):\n",
    "        post_pari = post_pari + ' '+ str(lista[i])\n",
    "    \n",
    "    \n",
    "    if(lista[i]%2 == 0):\n",
    "        elem_pari.append(lista[i])\n",
    "\n",
    "    lista_inversa.append(lista[-(i+1)])\n",
    "\n",
    "print('Elementi in posizione pari:'+ post_pari)\n",
    "print('Gli elementi pari sono:', elem_pari)\n",
    "print('In ordine inverso:', lista_inversa)\n",
    "print('Primo e ultimo:', lista[0], lista[-1])"
   ]
  },
  {
   "cell_type": "markdown",
   "metadata": {},
   "source": [
    "## Esercizio 3: Rimuovere il valore minimo\n",
    "\n",
    "Scrivere una funzione `rimuovi_minimo(v)` che rimuova la prima occorrenza del valore minimo da una lista `v` senza usare la funzione `min()` né il metodo `remove()`.\n",
    "\n",
    "La funzione deve restituire una nuova lista, lasciando inalterata quella originale."
   ]
  },
  {
   "cell_type": "code",
   "execution_count": 24,
   "metadata": {},
   "outputs": [],
   "source": [
    "# Scrivi qua il tuo codice\n",
    "def rimuovi_minimo(*lista_v):\n",
    "    minimo = 100\n",
    "    new_lista = []\n",
    "\n",
    "    for item in lista_v:\n",
    "        if item < minimo:\n",
    "            minimo = item\n",
    "\n",
    "    for i in range(0,len(lista_v)):\n",
    "        if lista_v[i] == minimo:\n",
    "            ...\n",
    "        else:\n",
    "            new_lista.append(lista_v[i])\n",
    "    \n",
    "    return(new_lista)"
   ]
  },
  {
   "cell_type": "code",
   "execution_count": 25,
   "metadata": {},
   "outputs": [
    {
     "ename": "TypeError",
     "evalue": "'<' not supported between instances of 'list' and 'int'",
     "output_type": "error",
     "traceback": [
      "\u001b[1;31m---------------------------------------------------------------------------\u001b[0m",
      "\u001b[1;31mTypeError\u001b[0m                                 Traceback (most recent call last)",
      "Cell \u001b[1;32mIn[25], line 1\u001b[0m\n\u001b[1;32m----> 1\u001b[0m rimuovi_minimo([\u001b[39m2\u001b[39;49m,\u001b[39m0\u001b[39;49m,\u001b[39m3\u001b[39;49m,\u001b[39m50\u001b[39;49m])\n",
      "Cell \u001b[1;32mIn[24], line 7\u001b[0m, in \u001b[0;36mrimuovi_minimo\u001b[1;34m(*lista_v)\u001b[0m\n\u001b[0;32m      4\u001b[0m new_lista \u001b[39m=\u001b[39m []\n\u001b[0;32m      6\u001b[0m \u001b[39mfor\u001b[39;00m item \u001b[39min\u001b[39;00m lista_v:\n\u001b[1;32m----> 7\u001b[0m     \u001b[39mif\u001b[39;00m item \u001b[39m<\u001b[39;49m minimo:\n\u001b[0;32m      8\u001b[0m         minimo \u001b[39m=\u001b[39m item\n\u001b[0;32m     10\u001b[0m \u001b[39mfor\u001b[39;00m i \u001b[39min\u001b[39;00m \u001b[39mrange\u001b[39m(\u001b[39m0\u001b[39m,\u001b[39mlen\u001b[39m(lista_v)):\n",
      "\u001b[1;31mTypeError\u001b[0m: '<' not supported between instances of 'list' and 'int'"
     ]
    }
   ],
   "source": [
    "rimuovi_minimo([2,0,3,50])"
   ]
  },
  {
   "cell_type": "markdown",
   "metadata": {},
   "source": [
    "## Esercizio 4: Gli stessi elementi\n",
    "\n",
    "Scrivere la funzione `same_set(list_a, list_b)` che verifichi se due liste contengono gli stessi elementi, indipendentemente dall’ordine e ignorando la presenza di duplicati. Ad esempio, le due liste `1 4 9 16 9 7 4 9 11` e `11 11 7 9 16 4 1` devono essere considerate uguali.\n",
    "\n",
    "La funzione non deve modificare le liste che sono state passate come parametri.\n"
   ]
  },
  {
   "cell_type": "code",
   "execution_count": null,
   "metadata": {},
   "outputs": [],
   "source": [
    "# Scrivi qua il tuo codice\n"
   ]
  },
  {
   "cell_type": "markdown",
   "metadata": {},
   "source": [
    "## Esercizio 5: Lista ordinata\n",
    "\n",
    "Scrivere un programma che generi una sequenza di 20 valori interi casuali compresi tra `0` e `99`, poi visualizzi la sequenza generata, la ordini e la visualizzi di nuovo, ordinata.\n",
    "\n",
    "Usate la funzione built-in `sort()`."
   ]
  },
  {
   "cell_type": "code",
   "execution_count": null,
   "metadata": {},
   "outputs": [],
   "source": [
    "# Scrivi qua il tuo codice\n"
   ]
  },
  {
   "cell_type": "markdown",
   "metadata": {},
   "source": [
    "## Esercizio 6: Levigare gli errori\n",
    "\n",
    "Spesso i dati raccolti durante un esperimento vanno elaborati per rimuovere parte del rumore di misura.\n",
    "\n",
    "Uno tra gli approcci più semplici a questo problema prevede di sostituire, in una lista di valori, ciascun valore con la media tra il valore stesso e i due valori adiacenti. Se il valore in esame si trova a una delle due estremità della lista, la media sarà con l’unico valore adiacente.\n",
    "\n",
    "Per comprendere meglio a cosa possa servire tale operazione, ecco un esempio:\n",
    "\n",
    "![es_00.07_smooth.png](../imgs/es_00.07_smooth.png)\n",
    "\n",
    "Scrivere un programma che svolga tale operazione, creando una nuova lista.\n",
    "\n",
    "Poi prova senza creare una seconda lista, il che è un po' più compolicato perché bisogna evitare di calcolare la media usando i valore già precedentemente modificati."
   ]
  },
  {
   "cell_type": "code",
   "execution_count": null,
   "metadata": {},
   "outputs": [],
   "source": [
    "# Scrivi qua il tuo codice\n"
   ]
  },
  {
   "cell_type": "markdown",
   "metadata": {},
   "source": [
    "## Esercizio 7: Rotazione di una lista\n",
    "\n",
    "Scrivere lo pseudocodice per un algoritmo che, data una lista di lunghezza definita, sposta gli elementi \"in avanti\" di una posizione (incrementando quindi il loro indice di una unità), e sposta l’elemento all’ultima posizione nella prima posizione.\n",
    "\n",
    "Ad esempio, la lista `1 7 9 3 0 4`, dopo questa operazione, diventa la lista `4 1 7 9 3 0`.\n",
    "\n",
    "Scrivere poi un programma che implementi l’algoritmo così definito."
   ]
  },
  {
   "cell_type": "code",
   "execution_count": null,
   "metadata": {},
   "outputs": [],
   "source": [
    "# Scrivi qua il tuo codice\n",
    "\n"
   ]
  }
 ],
 "metadata": {
  "kernelspec": {
   "display_name": ".venv",
   "language": "python",
   "name": "python3"
  },
  "language_info": {
   "codemirror_mode": {
    "name": "ipython",
    "version": 3
   },
   "file_extension": ".py",
   "mimetype": "text/x-python",
   "name": "python",
   "nbconvert_exporter": "python",
   "pygments_lexer": "ipython3",
   "version": "3.10.0"
  }
 },
 "nbformat": 4,
 "nbformat_minor": 2
}
