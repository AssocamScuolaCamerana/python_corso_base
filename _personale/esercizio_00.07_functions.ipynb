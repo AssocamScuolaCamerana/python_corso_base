{
 "cells": [
  {
   "cell_type": "markdown",
   "metadata": {},
   "source": [
    "# Esercizi introduttivi"
   ]
  },
  {
   "cell_type": "markdown",
   "metadata": {},
   "source": [
    "TEMI TRATTATI:\n",
    "\n",
    "- Progettazione e implementazione di funzioni\n",
    "    - Passaggio dei parametri\n",
    "    - Uso della keyword `return`\n",
    "- Applicare il perfezionamento graduale (*stepwise refinement*) per scomporre operazioni complesse in operazioni più semplici\n",
    "    - Progettare più funzioni da utilizzare insieme\n",
    "    - L’ambito di visibilità (scope) di una variabile\n"
   ]
  },
  {
   "cell_type": "markdown",
   "metadata": {},
   "source": [
    "NOTE SULLO SVOLGIMENTO:\n",
    "- Puoi svolgere ed eseguire gli esercizi direttamente qua su questo notebook oppure su un normale file di script Python con estensione `.py`, eseguendolo nel terminale del sistema operativo con il comando `py mio_esercizio.py` (Windows) oppure `python3 mio_esercizio.py` (Linux o macOS)."
   ]
  },
  {
   "cell_type": "markdown",
   "metadata": {},
   "source": [
    "## Esercizio 1: Quante vocali?\n",
    "\n",
    "Scrivere la seguente funzione:\n",
    "\n",
    "```python\n",
    "def conta_vocali(testo):\n",
    "    ...\n",
    "```\n",
    "\n",
    "Questa funzione deve restituire il numero di vocali presenti nella stringa `testo`. \n",
    "\n",
    "Le vocali sono le lettere `a`, `e`, `i`, `o` e `u` e le rispettive versioni maiuscole.\n",
    "\n",
    "Ad esempio, `conta_vocali('Pippo Pluto e Paperino')` deve restituire `9`.\n",
    "\n",
    "Ricorda di testare la funzione invocandola in modo corretto e passandole la stringa da analizzare.\n",
    "\n",
    "**VARIANTE+:** Come si potrebbe estendere l’esercizio in modo da trattare correttamente delle stringhe in cui siano presenti anche le vocali accentate?"
   ]
  },
  {
   "cell_type": "code",
   "execution_count": 1,
   "metadata": {},
   "outputs": [],
   "source": [
    "def conta_vocali(testo):\n",
    "    num_vocali=0\n",
    "    #testo_lower = testo.lower()\n",
    "    for lettera in testo:#testo_lower:\n",
    "        if (lettera.upper() in 'AEIOU'):\n",
    "        #if(lettera == 'a' or lettera == 'e' or lettera == 'i' or lettera=='o' or lettera =='u'):\n",
    "            num_vocali+=1;\n",
    "    return num_vocali"
   ]
  },
  {
   "cell_type": "code",
   "execution_count": 2,
   "metadata": {},
   "outputs": [
    {
     "data": {
      "text/plain": [
       "6"
      ]
     },
     "execution_count": 2,
     "metadata": {},
     "output_type": "execute_result"
    }
   ],
   "source": [
    "conta_vocali('holA como estas')"
   ]
  },
  {
   "cell_type": "markdown",
   "metadata": {},
   "source": [
    "## Esercizio 2: Quante parole?\n",
    "\n",
    "Scrivere la seguente funzione: \n",
    "\n",
    "```python\n",
    "def conta_parole(testo):\n",
    "    ...\n",
    "```\n",
    "\n",
    "Questa funzione deve restituire il numero di parole presenti nella stringa `testo`.\n",
    "\n",
    "Le parole sono sequenze di caratteri separate da spazi (si ipotizzi che tra due parole consecutive vi sia esattamente uno spazio).\n",
    "\n",
    "Ad esempio, `conta_parole('Pippo Pluto e Paperino')` deve restituire 4.\n",
    "\n",
    "**VARIANTE+:** Come si potrebbe estendere l’esercizio in modo da trattare correttamente delle stringhe in cui siano presenti più spazi tra le parole?"
   ]
  },
  {
   "cell_type": "code",
   "execution_count": 5,
   "metadata": {},
   "outputs": [],
   "source": [
    "def conta_parole(testo):\n",
    "    num_parole = 0\n",
    "    inizio_parola = False\n",
    "\n",
    "    for lettera in testo:\n",
    "        if lettera == ' ':\n",
    "            inizio_parola = False\n",
    "            \n",
    "        elif not(inizio_parola):\n",
    "                inizio_parola = True\n",
    "                num_parole += 1 \n",
    "\n",
    "                       \n",
    "\n",
    "    return num_parole\n"
   ]
  },
  {
   "cell_type": "code",
   "execution_count": 10,
   "metadata": {},
   "outputs": [
    {
     "data": {
      "text/plain": [
       "3"
      ]
     },
     "execution_count": 10,
     "metadata": {},
     "output_type": "execute_result"
    }
   ],
   "source": [
    "conta_parole('hola      como estAs  ')"
   ]
  },
  {
   "cell_type": "markdown",
   "metadata": {},
   "source": [
    "## Esercizio 3: Python come Excel\n",
    "\n",
    "### Parte 1: Espressioni e variabili in Excel e Python\n",
    "\n",
    "1. Apri un nuovo foglio di calcolo Excel.\n",
    "2. In A1, inserisci il valore `10`.\n",
    "3. In A2, inserisci il valore `20`.\n",
    "4. In A3, inserisci la formula `=A1 + A2`. Questo corrisponde all'espressione `A1 + A2` che viene valutata.\n",
    "\n",
    "   In Python, questo potrebbe essere paragonato a:\n",
    "   ```python\n",
    "   A1 = 10\n",
    "   A2 = 20\n",
    "   A3 = A1 + A2\n",
    "   print(A3)\n",
    "   ```\n",
    "\n",
    "5. Ora, in A4, assegna `=A3 * 2`. Questo può essere visto come una variabile che tiene traccia di un valore calcolato in precedenza (in questo caso, `A3`) e lo utilizza in un'altra espressione.\n",
    "\n",
    "   In Python, questo sarebbe simile a:\n",
    "   ```python\n",
    "   A4 = A3 * 2\n",
    "   print(A4)\n",
    "   ```"
   ]
  },
  {
   "cell_type": "markdown",
   "metadata": {},
   "source": [
    "### Parte 2: Funzioni, argomenti e valore di ritorno in Excel e Python\n",
    "\n",
    "1. Apri il foglio di calcolo Excel usato precedentemente.\n",
    "2. In B1, inserisci il valore `10`.\n",
    "3. In B2, inserisci il valore `20`.\n",
    "4. In B3, inserisci il valore `30`.\n",
    "5. In B4, inserisci la funzione `=MEDIA(B1:B3)`. Questo calcola la media dei valori nelle celle A1 fino a A3.\n",
    "\n",
    "   In Python, la prima scrittura potrebbe essere paragonata a:\n",
    "   ```python\n",
    "   def calcola_media(numeri):\n",
    "      return sum(numeri) / len(numeri)\n",
    "\n",
    "   # Usando la funzione\n",
    "   numeri = [10, 20, 30]\n",
    "   media = calcola_media(numeri)\n",
    "   print(f\"La media è: {media}\")\n",
    "   ```\n",
    "   In Excel, l'argomento è l'**intervallo** di celle B1:B3. In Python, l'argomento è solo una lista `[10, 20, 30]`.\n",
    "\n",
    "6. In C4, inserisci la funzione `=MEDIA(B1;B2;B3)`. Questo calcola sempre la media, ma ciascuna cella è stata passate come argomento separato; si possono passare quanti argomenti si vuole.\n",
    "\n",
    "   Questa seconda modalità invece potrebbe essere resa con gli `*args`:\n",
    "   ```python\n",
    "   def calcola_media(*numeri):             # packing --> tupla\n",
    "      return sum(numeri) / len(numeri)\n",
    "\n",
    "   # Usando la funzione\n",
    "   media = calcola_media(10, 20, 30)\n",
    "   # media = calcola_media(*[10, 20, 30])  # unpacking --> argomenti\n",
    "   print(f\"La media è: {media}\")\n",
    "   ```\n",
    "   In Excel, gli argomenti sono le celle B1;B2;B3. In Python, gli argomenti sono `10, 20, 30` ma avremmo potuto inserire un numero di argomenti a piacere."
   ]
  },
  {
   "cell_type": "markdown",
   "metadata": {},
   "source": [
    "Prova qua sotto ad usare la notazione `*args` per creare una funzione che accetti un numero indefinito di argomenti."
   ]
  },
  {
   "cell_type": "code",
   "execution_count": 16,
   "metadata": {},
   "outputs": [
    {
     "name": "stdout",
     "output_type": "stream",
     "text": [
      "La media è: 40.0\n"
     ]
    }
   ],
   "source": [
    "def calcola_media(*numeri):            \n",
    "    return sum(numeri) / len(numeri)\n",
    "\n",
    "media = calcola_media(10, 20, 30, 40,100)\n",
    "print(f\"La media è: {media}\")\n"
   ]
  }
 ],
 "metadata": {
  "kernelspec": {
   "display_name": ".venv",
   "language": "python",
   "name": "python3"
  },
  "language_info": {
   "codemirror_mode": {
    "name": "ipython",
    "version": 3
   },
   "file_extension": ".py",
   "mimetype": "text/x-python",
   "name": "python",
   "nbconvert_exporter": "python",
   "pygments_lexer": "ipython3",
   "version": "3.10.0"
  }
 },
 "nbformat": 4,
 "nbformat_minor": 2
}
