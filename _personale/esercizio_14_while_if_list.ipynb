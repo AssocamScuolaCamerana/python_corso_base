{
 "cells": [
  {
   "attachments": {},
   "cell_type": "markdown",
   "metadata": {},
   "source": [
    "## Esercizio - Il Dungeon\n",
    "\n",
    "Requisiti: `while`, `if`, `liste`\n",
    "\n",
    "Un cavaliere si inoltra in una caverna alla ricerca di oggetti preziosi. Appena trova quello che sta cercando, esulta e torna indietro. \n",
    "\n",
    "Rappresentiamo la `caverna` come una lista di stringhe. L'oggetto da cercare è indicato nella variabile `cerco`. \n",
    "\n",
    "Scrivi del codice che date le voci STAMPA il percorso.\n",
    "\n",
    "- **USA** un  `while`\n",
    "- **NON USARE** `break` !!\n",
    "- **NON USARE** metodi di ricerca come `.index` o `count`"
   ]
  },
  {
   "cell_type": "markdown",
   "metadata": {},
   "source": [
    "**Esempio 1** - Dati:\n",
    "\n",
    "```python\n",
    "cerco = 'il tesoro'\n",
    "caverna = ['un masso','una trappola','delle spade',\n",
    "           'il tesoro','una ragnatela', 'un boleto delle tombe']\n",
    "\n",
    "```\n",
    "\n",
    "stampa:\n",
    "\n",
    "```    \n",
    "Entro\n",
    "Vedo un masso\n",
    "Vedo una trappola\n",
    "Vedo delle spade\n",
    "Che fortuna! Ho trovato il tesoro\n",
    "Torno indietro!\n",
    "Vedo delle spade\n",
    "Vedo una trappola\n",
    "Vedo un masso\n",
    "Esco\n",
    "```"
   ]
  },
  {
   "cell_type": "markdown",
   "metadata": {},
   "source": [
    "**Esempio 2:** Una lista può anche *non* contenere l'oggetto cercato, in tal caso bisognerà  mostrare un messaggio apposito. Per es, dati:\n",
    "\n",
    "```python    \n",
    "cerco = 'il talismano del potere'\n",
    "caverna = ['una trappola','un boleto delle tombe','una ragnatela']\n",
    "```    \n",
    "\n",
    "stampa:\n",
    "\n",
    "```    \n",
    "Entro\n",
    "Vedo una trappola\n",
    "Vedo un boleto delle tombe\n",
    "Vedo una ragnatela\n",
    "Purtroppo il talismano del potere non c'è\n",
    "Torno indietro!\n",
    "Vedo una ragnatela\n",
    "Vedo un boleto delle tombe\n",
    "Vedo una trappola\n",
    "Esco\n",
    "```"
   ]
  },
  {
   "cell_type": "code",
   "execution_count": null,
   "metadata": {},
   "outputs": [],
   "source": [
    "cerco, caverna='il tesoro', ['un masso','una trappola','delle spade','il tesoro','una ragnatela','un boleto delle tombe']\n",
    "# cerco, caverna = 'il talismano del potere', ['una trappola','un boleto delle tombe','una ragnatela']\n",
    "# cerco, caverna = 'la corona di rubini', []                         # funziona anche in questi casi particolari?\n",
    "# cerco, caverna = 'la corona di rubini', ['la corona di rubini','il tesoro']    # \n",
    "# cerco, caverna = 'la corona di rubini', ['il martello di granito'] # \n",
    "\n",
    "# scrivi qui\n"
   ]
  }
 ],
 "metadata": {
  "language_info": {
   "name": "python"
  },
  "orig_nbformat": 4
 },
 "nbformat": 4,
 "nbformat_minor": 2
}
