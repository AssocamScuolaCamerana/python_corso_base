{
 "cells": [
  {
   "attachments": {},
   "cell_type": "markdown",
   "metadata": {},
   "source": [
    "## Esercizio - Censura al tiramisù\n",
    " \n",
    "Ci è stato inviato un testo illegale, immorale e che fa pure ingrassare. \n",
    "Per tutelare la pubblica salute abbiamo l'arduo compito di censurarlo e \n",
    "renderlo consono al buon costume.\n",
    " \n",
    "1) E' necessario sostituire OGNI occorrenza delle due parole malefiche con una  più salubre censura, trasformando il testo in modo che la print  di testo_censurato non contenga nessuna parola incriminata.\n",
    "\n",
    "Esempio:\n",
    "\n",
    "```python\n",
    "testo= \"Grazie all'uso di Cera Splendent tutto brilla!\"\n",
    "parola_malefica = \"splendent\"\n",
    "censura = \"******\"\n",
    "testo_censurato: \"Grazie all'uso di Cera ****** tutto brilla!\"\n",
    "```\n",
    "\n",
    "2) Per scrivere il nostro rapporto di censori dobbiamo rendere conto di quante parole abbiamo censurato. Stampare alla fine il numero (ovviamente in maniera automatica ), per esempio:\n",
    "\n",
    "```\n",
    "\"Censurata 1 parola\"\n",
    "```"
   ]
  },
  {
   "cell_type": "code",
<<<<<<< HEAD
   "execution_count": 2,
   "metadata": {},
   "outputs": [
    {
     "name": "stdout",
     "output_type": "stream",
     "text": [
      "Ed è proprio da questa portentosa crema che nasce la crema al mascarpone\n",
      "base del ******, prima classificata al premio Crema dell'Anno insieme\n",
      "alla ******. Il dolce italiano per eccellenza, quello più famoso e amato,\n",
      "ma soprattutto che ha dato vita a tantissime altre versioni, anche ****** senza uova!\n",
      "Poi il ****** alle fragole o quello alla ******, giusto per citarne un paio!\n",
      "Senza contare le rivisitazioni più raffinate come la crostata morbida o la torta al ******.\n",
      "\n",
      "Censurate 6 parole\n"
     ]
    }
   ],
   "source": [
    "testo = \"\"\"Ed è proprio da questa portentosa crema che nasce la crema al mascarpone\n",
    "base del tiramisù, prima classificata al premio Crema dell'Anno insieme\n",
    "alla nutella. Il dolce italiano per eccellenza, quello più famoso e amato,\n",
    "ma soprattutto che ha dato vita a tantissime altre versioni, anche tiramisù senza uova!\n",
    "Poi il Tiramisù alle fragole o quello alla Nutella, giusto per citarne un paio!\n",
    "Senza contare le rivisitazioni più raffinate come la crostata morbida o la torta al tiramisù.\n",
    "\"\"\"\n",
    "\n",
    "parola_malefica1 = \"Tiramisù\"\n",
    "parola_malefica2 = \"nutella\"\n",
    "\n",
    "censura = \"******\"\n",
    "\n",
    "def decapitalize(s):\n",
    "    if not s:  # controlla che s non sia una stringa vuota (o spazi)\n",
    "        return s # restituisce la stringa\n",
    "    return s[0].lower() + s[1:] # prima lettera della stringa in minuscolo \n",
    "                                # e il resto uguale\n",
    "\n",
    "parola_malefica3 = decapitalize(parola_malefica1)\n",
    "parola_malefica4 = parola_malefica2.capitalize()\n",
    "\n",
    "testo_censurato = testo.replace(parola_malefica1, censura).replace(parola_malefica2, censura).replace(parola_malefica3, censura).replace(parola_malefica4, censura)\n",
    "numero_censure = testo_censurato.count(censura)\n",
    "\n",
    "print(testo_censurato)\n",
    "print(\"Censurate \" + str(numero_censure) + \" parole\")"
   ]
  },
  {
   "cell_type": "code",
   "execution_count": 1,
   "metadata": {},
   "outputs": [
    {
     "name": "stdout",
     "output_type": "stream",
     "text": [
      "Ed è proprio da questa portentosa crema che nasce la crema al mascarpone\n",
      "base del tiramisù, prima classificata al premio Crema dell'Anno insieme\n",
      "alla nutella. Il dolce italiano per eccellenza, quello più famoso e amato,\n",
      "ma soprattutto che ha dato vita a tantissime altre versioni, anche tiramisù senza uova!\n",
      "Poi il Tiramisù alle fragole o quello alla ******, giusto per citarne un paio!\n",
      "Senza contare le rivisitazioni più raffinate come la crostata morbida o la torta al tiramisù.\n",
      "\n",
      "Censurate 1 parole\n"
     ]
    }
   ],
   "source": [
    "testo = \"\"\"Ed è proprio da questa portentosa crema che nasce la crema al mascarpone\n",
    "base del tiramisù, prima classificata al premio Crema dell'Anno insieme\n",
    "alla nutella. Il dolce italiano per eccellenza, quello più famoso e amato,\n",
    "ma soprattutto che ha dato vita a tantissime altre versioni, anche tiramisù senza uova!\n",
    "Poi il Tiramisù alle fragole o quello alla Nutella, giusto per citarne un paio!\n",
    "Senza contare le rivisitazioni più raffinate come la crostata morbida o la torta al tiramisù.\n",
    "\"\"\"\n",
    "\n",
    "parola_malefica1 = \"Tiramisù\"\n",
    "parola_malefica2 = \"nutella\"\n",
    "\n",
    "censura = \"******\"\n",
    "\n",
    "def decapitalize(s):\n",
    "    if not s:  # controlla che s non sia una stringa vuota (o spazi)\n",
    "        return s # restituisce la stringa\n",
    "    return s[0].lower() + s[1:] # prima lettera della stringa in minuscolo \n",
    "                                # e il resto uguale\n",
    "\n",
    "parola_malefica3 = decapitalize(parola_malefica1)\n",
    "parola_malefica4 = parola_malefica2.capitalize()\n",
    "\n",
    "proibite = [parola_malefica1, parola_malefica2, parola_malefica3, parola_malefica4]\n",
    "\n",
    "# Non mi funziona il codice da qua in giù ma non ho capito dove sbaglio\n",
    "for parola in proibite: \n",
    "   testo_censurato = testo.replace(parola, censura) \n",
    "    \n",
    "\n",
    "numero_censure = testo_censurato.count(censura)\n",
    "\n",
    "print(testo_censurato)\n",
    "print(\"Censurate \" + str(numero_censure) + \" parole\")"
   ]
  },
  {
   "cell_type": "code",
   "execution_count": 3,
   "metadata": {},
   "outputs": [],
   "source": [
    "# prova a trasformarlo in lista e a fare l'esercizio usando map() o filter()"
=======
   "execution_count": null,
   "metadata": {},
   "outputs": [],
   "source": [
    "testo = \"\"\"Ed è proprio da questa portentosa crema che nasce la crema al mascarpone\n",
    "base del tiramisù, prima classificata al premio Crema dell'Anno insieme\n",
    "alla nutella. Il dolce italiano per eccellenza, quello più famoso e amato,\n",
    "ma soprattutto che ha dato vita a tantissime altre versioni, anche tiramisù senza uova!\n",
    "Poi il Tiramisù alle fragole o quello alla Nutella, giusto per citarne un paio!\n",
    "Senza contare le rivisitazioni più raffinate come la crostata morbida o la torta al tiramisù.\n",
    "\"\"\"\n",
    "\n",
    "\n",
    "\n",
    "# scrivi qui\n",
    "parole_malefiche = ['Tiramisù', 'nutella']\n",
    "censura = \"******\"\n",
    "\n",
    "testo_censurato = testo\n",
    "conta_censure = 0\n",
    "\n",
    "for parola in parole_malefiche:\n",
    "    testo_censurato = testo_censurato.replace(parola.lower(), censura)\n",
    "    testo_censurato = testo_censurato.raplace(parola.title(), censura)\n",
    "\n",
    "conta_censure += testo_censurato.count(censura)\n",
    "\n",
    "\n",
    "msg_pre = 'Censurata' if conta_censure == 1 else 'Censurate'\n",
    "msg_post = 'parola.' if conta_censure == 1 else 'parole.'\n",
    "\n",
    "print('Testo censurato: ', testo_censurato, sep ='\\n')\n",
    "print(msg_pre, conta_censure, msg)\n",
    "\n",
    "\n",
    "    "
>>>>>>> origin/upstream
   ]
  }
 ],
 "metadata": {
<<<<<<< HEAD
  "kernelspec": {
   "display_name": "Python 3",
   "language": "python",
   "name": "python3"
  },
  "language_info": {
   "codemirror_mode": {
    "name": "ipython",
    "version": 3
   },
   "file_extension": ".py",
   "mimetype": "text/x-python",
   "name": "python",
   "nbconvert_exporter": "python",
   "pygments_lexer": "ipython3",
   "version": "3.11.3"
=======
  "language_info": {
   "name": "python"
>>>>>>> origin/upstream
  },
  "orig_nbformat": 4
 },
 "nbformat": 4,
 "nbformat_minor": 2
}
