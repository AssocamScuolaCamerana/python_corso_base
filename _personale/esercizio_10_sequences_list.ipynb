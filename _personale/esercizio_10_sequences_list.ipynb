{
 "cells": [
  {
   "attachments": {},
   "cell_type": "markdown",
   "metadata": {},
   "source": [
    "## Esercizio - Guardaroba\n",
    "\n",
    "Produrre una sequenza di stringhe combinando due di input.\n",
    "\n",
    "- **NON** usare `range`\n",
    "- **USA UNA** sola list comprehension\n",
    "- il tuo codice deve stare in una riga sola\n",
    "\n",
    "Esempio - data:\n",
    "\n",
    "```python\n",
    "indumenti = ['cappotti', 'giacconi', 'mantelli', 'ventine']\n",
    "capi = [9,5,7,3]\n",
    "```\n",
    "\n",
    "Il tuo codice deve produrre:\n",
    "\n",
    "```python\n",
    "['ci sono 9 cappotti', 'ci sono 5 giacconi', 'ci sono 7 mantelli', \n",
    " 'ci sono 3 ventine']\n",
    "```"
   ]
  },
  {
   "cell_type": "code",
   "execution_count": null,
   "metadata": {},
   "outputs": [],
   "source": [
    "indumenti = ['cappotti', 'giacconi', 'mantelli', 'ventine']\n",
    "capi = [9,5,7,3]\n",
    "\n",
    "# scrivi qui\n"
   ]
  }
 ],
 "metadata": {
  "language_info": {
   "name": "python"
  },
  "orig_nbformat": 4
 },
 "nbformat": 4,
 "nbformat_minor": 2
}
