{
 "cells": [
  {
   "attachments": {},
   "cell_type": "markdown",
   "metadata": {},
   "source": [
    "## Tipo booleano e tipi numerici"
   ]
  },
  {
   "attachments": {},
   "cell_type": "markdown",
   "metadata": {},
   "source": [
    "| Tipo      | Valore vuoto | Esempio    | Altro esempio | Mutabile? |\n",
    "|-----------|--------------|------------|---------------|:---------:|\n",
    "| `bool`    | `False`      | `True`     |               | ❌        |\n",
    "| `int`     | `0`          | `3`        | `5`           | ❌        |\n",
    "| `float`   | `0.0`        | `3.7`      | `-2.3`        | ❌        |\n",
    "| `complex` | `0j`         | `(3 + 2j)` | `(3 + 2j)`    | ❌        |\n"
   ]
  },
  {
   "attachments": {},
   "cell_type": "markdown",
   "metadata": {},
   "source": [
    "## Iterabili: sequenze e \"contenitori\" in genere"
   ]
  },
  {
   "attachments": {},
   "cell_type": "markdown",
   "metadata": {},
   "source": [
    "\n",
    "| Tipo        | Valore vuoto     | Esempio                             | Mutabile? | Indexed?  | Ordinato?| Duplicati? |\n",
    "|-------------|------------------|-------------------------------------|:---------:|:---------:|:--------:|:----------:|\n",
    "| `str`       | `''` o `\"\"`      | `'come stai?'`                      | ❌        | ✅        | ✅        | ✅         |\n",
    "| `bytes`     | `b''`            | `b\"Buongiorno\"`                     | ❌        | ✅        | ✅        | ✅         |\n",
    "| `tuple`     | `()`             | `(5, 'x', 10, 'x')`                 | ❌        | ✅        | ✅        | ✅         |\n",
    "| `list`      | `[]`             | `[5, 'x', 10, 'x']`                 | ✅        | ✅        | ✅        | ✅         |\n",
    "| `bytearray` | `bytearray(b'')` | `bytearray(b'Buongiorno')`          | ✅        | ✅        | ✅        | ✅         |\n",
    "| `dict`      | `{}`             | `{'colore': 'rosso', 'anno': 1994}` | ✅        | ✅        | ❌        | ❌         |\n",
    "| `set`       | `set()`          | `{5, 'x', 10}`                      | ✅        | ❌        | ❌        | ❌         |\n",
    "            \n",
    "- Le tuple possono contenere tipi mutabili.\n",
    "- I `set` accettano solo elementi unici e hashable.\n",
    "- I `dict` accettano solo chiavi uniche e hashable (ma elemmenti di qualsiasi tipo).\n",
    "- I tipi immutabili sono sempre hashable (ma non tutti i tipi hashable sono immutabili &rarr; vedi [`__hash__()`](https://docs.python.org/3/reference/datamodel.html#object.__hash__))."
   ]
  },
  {
   "attachments": {},
   "cell_type": "markdown",
   "metadata": {},
   "source": [
    "## Sequenze\n",
    "\n",
    "Una _**sequenza**_ è un'iterabile che supporta un accesso efficiente agli elementi utilizzando come indici dei numeri interi tramite il metodo speciale `__getitem__()` (che implementa la valutazione di `self[key]`) e definisce un metodo `__len__()` (che implementa la funzione built-in `len()`) il quale restituisce la lunghezza della sequenza. Alcuni tipi di sequenza built-in sono `list`, `str`, `tuple` e `bytes`.\n",
    "\n",
    "## Mappature\n",
    "\n",
    "Anche `dict` supporta `__getitem__()`  e  `__len__()`, ma è considerato una <u>mappatura (*mapping*)</u> piuttosto che una sequenza, perché non è ordinata e le ricerche/interrogazioni utilizzano chiavi immutabili arbitrarie piuttosto che numeri interi."
   ]
  },
  {
   "attachments": {},
   "cell_type": "markdown",
   "metadata": {},
   "source": [
    "## Accedere ai valori dentro una *data structure*"
   ]
  },
  {
   "attachments": {},
   "cell_type": "markdown",
   "metadata": {},
   "source": [
    "Le *data structures* (strutture di dati) come le liste, dizionari, set, tuple, array ecc... possono assumere forme molto complesse, in quanto quasi ogni struttura può contenerne una qualsiasi altra al suo interno.\n",
    "\n",
    "Non ci sono molti limiti nel modo in cui possiamo creare le strutture di dati: potremmo immaginare di avere una lista di dizionari, i cui valori sono delle lista di tuple contenenti dei set di stringhe."
   ]
  },
  {
   "cell_type": "code",
   "execution_count": 28,
   "metadata": {},
   "outputs": [],
   "source": [
    "data = [                                                # lista\n",
    "    {                                                   # dizionario\n",
    "        'reality': [                                    # lista\n",
    "            (                                           # tupla\n",
    "                {'acqua', 'terra'},                     # set di stringhe\n",
    "                {'fuoco', 'aria'}\n",
    "            ),\n",
    "            (\n",
    "                {'mela', 'caco'}, \n",
    "                {'pera', 'noce'}\n",
    "            ),\n",
    "        ],\n",
    "        'fiction': [\n",
    "            (\n",
    "                {'vibranio', 'kryptonite', 'beskar'},\n",
    "                {'adamantio', 'dilitio', 'mithril'}\n",
    "            ),\n",
    "            (\n",
    "                {'drago', 'grifone'},\n",
    "                {'idra'},\n",
    "                ([{'chimera': 'fenice'}],) \n",
    "            )\n",
    "        ]\n",
    "    },\n",
    "    {\n",
    "        234: {\n",
    "                'Korvo': {5.94, 3},\n",
    "                'Terry': [3, 4, 'mimmo'], \n",
    "                'Yumyulack': 3 + 4j,\n",
    "                'Jesse': (3, 5, 3),\n",
    "                'Pupa': {\n",
    "                    0: 'a',\n",
    "                    '1': 'b' \n",
    "                }\n",
    "        },\n",
    "        '234': [],\n",
    "        (2, 3, 4): 'una tupla di chiave!'\n",
    "    },\n",
    "    {\n",
    "        'TEAM1': [\n",
    "            {\n",
    "                'nome': 'Rick',\n",
    "                'cognome': 'Sanchez'\n",
    "            },\n",
    "            {\n",
    "                'nome': 'Morty',\n",
    "                'cognome': 'Smith'\n",
    "            }\n",
    "        ],\n",
    "        'TEAM2': [\n",
    "            {\n",
    "                'nome': 'Pippo', \n",
    "                'cognome': 'Disney'\n",
    "            },\n",
    "            {\n",
    "                'nome': 'Pluto',\n",
    "                'cognome': 'Disney'\n",
    "            }\n",
    "        ]\n",
    "    }\n",
    "]"
   ]
  },
  {
   "cell_type": "code",
   "execution_count": 30,
   "metadata": {},
   "outputs": [
    {
     "name": "stdout",
     "output_type": "stream",
     "text": [
      "fenice\n"
     ]
    }
   ],
   "source": [
    "print(data[0]['fiction'][1][2][0][0]['chimera'])"
   ]
  },
  {
   "cell_type": "code",
   "execution_count": 10,
   "metadata": {},
   "outputs": [
    {
     "name": "stdout",
     "output_type": "stream",
     "text": [
      "b\n"
     ]
    }
   ],
   "source": [
    "print(data[1][234]['Pupa']['1'])"
   ]
  },
  {
   "cell_type": "code",
   "execution_count": 4,
   "metadata": {},
   "outputs": [
    {
     "name": "stdout",
     "output_type": "stream",
     "text": [
      "Sanchez\n"
     ]
    }
   ],
   "source": [
    "print(data[2]['TEAM1'][0]['cognome'])"
   ]
  },
  {
   "attachments": {},
   "cell_type": "markdown",
   "metadata": {},
   "source": [
    "Per accedere a questi dati tutto quello che ci serve è la notazione a subscription `[...]`."
   ]
  },
  {
   "attachments": {},
   "cell_type": "markdown",
   "metadata": {},
   "source": [
    "ESERCITATI:\n",
    "\n",
    "- Scegli un valore nella struttura dati qua sopra e prova a raggiungerlo scrivendo un'espressione.\n",
    "\n",
    "- Scegli una delle seguenti espressioni e prova a capire a quale valore accede, osservando la struttura dati qua sopra."
   ]
  },
  {
   "attachments": {},
   "cell_type": "markdown",
   "metadata": {},
   "source": [
    "```python\n",
    "data[0]['reality'][0][0]\n",
    "data[1][234]['Pupa']['1']\n",
    "data[2]['TEAM2'][0]['nome']\n",
    "data[0]['fiction'][1][2][0]['chimera']\n",
    "data[2]['TEAM2'][0]['nome'][1]\n",
    "data[1][234]['Terry'][2]\n",
    "```"
   ]
  },
  {
   "attachments": {},
   "cell_type": "markdown",
   "metadata": {},
   "source": [
    "Di solito, per essere accessibili tramite delle procedure automatiche, le strutture dati sono omogenee e auto-similari, tuttavia, nulla vieta di creare una struttura complessa come quella qua sopra."
   ]
  },
  {
   "attachments": {},
   "cell_type": "markdown",
   "metadata": {},
   "source": [
    "Nella vita di tutti i giorni è però molto più probabile ritrovarsi davanti strutture più \"classiche\", simili alla seguente:"
   ]
  },
  {
   "cell_type": "code",
   "execution_count": 40,
   "metadata": {},
   "outputs": [],
   "source": [
    "library = [\n",
    "    {\n",
    "        'title': 'Nineteen Eighty-Four',\n",
    "        'author': 'George Orwell',\n",
    "        'genre': ['fiction', 'british'],\n",
    "        'isbn': 9780155658110,\n",
    "        'publicationDate': 1949,\n",
    "        'borrowed': True,\n",
    "        'borrowedStart': '2023-05-01',\n",
    "        'borrowedEnd': '2023-05-15'\n",
    "    },\n",
    "    {\n",
    "        'title': 'To Kill a Mockingbird',\n",
    "        'author': 'Harper Lee',\n",
    "        'genre': ['fiction', 'american'],\n",
    "        'isbn': 9789023493617,\n",
    "        'publicationDate': 1960,\n",
    "        'borrowed': False,\n",
    "        'borrowedStart': None,\n",
    "        'borrowedEnd': None\n",
    "    },\n",
    "    {\n",
    "        'title': 'Gaia',\n",
    "        'author': 'J. Lovelock',\n",
    "        'genre': ['science', 'biology'],\n",
    "        'isbn': 978902851568,\n",
    "        'publicationDate': 1982,\n",
    "        'borrowed': False,\n",
    "        'borrowedStart': None,\n",
    "        'borrowedEnd': None\n",
    "    }\n",
    "]"
   ]
  },
  {
   "cell_type": "code",
   "execution_count": 41,
   "metadata": {},
   "outputs": [
    {
     "name": "stdout",
     "output_type": "stream",
     "text": [
      "George Orwell\n",
      "Harper Lee\n",
      "J. Lovelock\n"
     ]
    }
   ],
   "source": [
    "for libri in library:\n",
    "    print(libri['author'])"
   ]
  },
  {
   "cell_type": "code",
   "execution_count": 44,
   "metadata": {},
   "outputs": [
    {
     "name": "stdout",
     "output_type": "stream",
     "text": [
      "I libri in prestito sono:\n",
      "To Kill a Mockingbird\n",
      "False\n",
      "Gaia\n",
      "False\n"
     ]
    }
   ],
   "source": [
    "print('I libri in prestito sono:')\n",
    "for libri in library:\n",
    "    if not libri['borrowed']: # equivalente a libri['borrowed'] == False\n",
    "       print(libri['title'])\n",
    "       print(libri['borrowed'])"
   ]
  },
  {
   "cell_type": "code",
   "execution_count": 42,
   "metadata": {},
   "outputs": [
    {
     "name": "stdout",
     "output_type": "stream",
     "text": [
      "I libri in prestito sono:\n",
      "Nineteen Eighty-Four\n",
      "True\n"
     ]
    }
   ],
   "source": [
    "print('I libri in prestito sono:')\n",
    "for libri in library:\n",
    "    if libri['borrowed']: # prende i valori True, per evitare la ridondanza di scrivere libri['borrowed']==True\n",
    "       print(libri['title'])\n",
    "       print(libri['borrowed'])"
   ]
  },
  {
   "attachments": {},
   "cell_type": "markdown",
   "metadata": {},
   "source": [
    "Se siete riusciti a districarvi con i \"percorsi\" per \"navigare\" attraverso la prima struttura (`data`), questa seconda (`library`) dovrebbe apparirvi un gioco da regazzi!"
   ]
  }
 ],
 "metadata": {
  "kernelspec": {
   "display_name": ".venv",
   "language": "python",
   "name": "python3"
  },
  "language_info": {
   "codemirror_mode": {
    "name": "ipython",
    "version": 3
   },
   "file_extension": ".py",
   "mimetype": "text/x-python",
   "name": "python",
   "nbconvert_exporter": "python",
   "pygments_lexer": "ipython3",
   "version": "3.11.3"
  },
  "orig_nbformat": 4
 },
 "nbformat": 4,
 "nbformat_minor": 2
}
