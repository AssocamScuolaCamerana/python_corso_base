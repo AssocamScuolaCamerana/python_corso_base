{
 "cells": [
  {
   "attachments": {},
   "cell_type": "markdown",
   "metadata": {},
   "source": [
    "# Io sono elem!\n",
    "\n",
    "Ricevi un documento XML composto da un elemento root e da diversi elementi figli. Ciascuno di questi elementi figli contiene del testo. Scrivete un programma che iteri sugli elementi figli e stampi il testo che contengono.\n",
    "\n",
    "Il documento XML appare come segue:\n",
    "\n",
    "```xml\n",
    "<root><elem1>Io sono elem1</elem1><elem2>Io sono elem2</elem2><elem3>Io sono elem3</elem3></root>\n",
    "```\n",
    "\n",
    "Ci aspettiamo che l'output prodotto sia il seguente:\n",
    "\n",
    "<pre>\n",
    "I am elem1\n",
    "I am elem2\n",
    "I am elem3\n",
    "</pre>"
   ]
  },
  {
   "cell_type": "code",
   "execution_count": 1,
   "metadata": {},
   "outputs": [],
   "source": [
    "from lxml import etree\n",
    "\n",
    "xml_str = '<root><elem1>Io sono elem1</elem1><elem2>Io sono elem2</elem2><elem3>Io sono elem3</elem3></root>'\n",
    "\n",
    "# scrivi qui\n"
   ]
  }
 ],
 "metadata": {
  "kernelspec": {
   "display_name": ".venv",
   "language": "python",
   "name": "python3"
  },
  "language_info": {
   "codemirror_mode": {
    "name": "ipython",
    "version": 3
   },
   "file_extension": ".py",
   "mimetype": "text/x-python",
   "name": "python",
   "nbconvert_exporter": "python",
   "pygments_lexer": "ipython3",
   "version": "3.11.2"
  },
  "orig_nbformat": 4
 },
 "nbformat": 4,
 "nbformat_minor": 2
}
