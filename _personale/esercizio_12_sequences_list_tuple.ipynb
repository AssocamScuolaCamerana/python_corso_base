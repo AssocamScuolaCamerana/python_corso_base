{
 "cells": [
  {
   "attachments": {},
   "cell_type": "markdown",
   "metadata": {},
   "source": [
    "## Esercizio - Elettromania\n",
    "\n",
    "Produrre una sequenza con tutti i nomi dei componenti con più di 4 pezzi\n",
    "\n",
    "- **NON USARE** cicli `for` o `while`\n",
    "- **USA UNA** sola list comprehension\n",
    "- il tuo codice deve stare in una riga sola\n",
    "\n",
    "INPUT: `[('condensatore', 8), ('resistenza',4), ('led',5), ('diodo',1), ('trasduttore',2), \n",
    "         ('transistor',12) , ('sensore',3),('solenoide',10)]`\n",
    "\n",
    "OUTPUT: `['condensatore', 'led', 'transistor' 'solenoide']`\n"
   ]
  },
  {
   "cell_type": "code",
   "execution_count": 6,
   "metadata": {},
   "outputs": [
    {
     "name": "stdout",
     "output_type": "stream",
     "text": [
      "['condensatore', 'led', 'transistor', 'solenoide']\n"
     ]
    }
   ],
   "source": [
    "circuito = [('condensatore', 8), ('resistenza',4), ('led',5), ('diodo',1), ('trasduttore',2),\n",
    "            ('transistor',12) , ('sensore',3),('solenoide',10)]\n",
    "\n",
    "# scrivi qui\n",
    "componenti=[comp[0] for comp in circuito if comp[1] >4]\n",
    "print(componenti)\n"
   ]
  }
 ],
 "metadata": {
  "kernelspec": {
   "display_name": "Python 3",
   "language": "python",
   "name": "python3"
  },
  "language_info": {
   "codemirror_mode": {
    "name": "ipython",
    "version": 3
   },
   "file_extension": ".py",
   "mimetype": "text/x-python",
   "name": "python",
   "nbconvert_exporter": "python",
   "pygments_lexer": "ipython3",
   "version": "3.11.3"
  },
  "orig_nbformat": 4
 },
 "nbformat": 4,
 "nbformat_minor": 2
}
