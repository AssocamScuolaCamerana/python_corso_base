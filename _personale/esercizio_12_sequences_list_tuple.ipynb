{
 "cells": [
  {
   "attachments": {},
   "cell_type": "markdown",
   "metadata": {},
   "source": [
    "## Esercizio - Elettromania\n",
    "\n",
    "Produrre una sequenza con tutti i nomi dei componenti con più di 4 pezzi\n",
    "\n",
    "- **NON USARE** cicli `for` o `while`\n",
    "- **USA UNA** sola list comprehension\n",
    "- il tuo codice deve stare in una riga sola\n",
    "\n",
    "INPUT: `[('condensatore', 8), ('resistenza',4), ('led',5), ('diodo',1), ('trasduttore',2), \n",
    "         ('transistor',12) , ('sensore',3),('solenoide',10)]`\n",
    "\n",
    "OUTPUT: `['condensatore', 'led', 'transistor' 'solenoide']`\n"
   ]
  },
  {
   "cell_type": "code",
   "execution_count": null,
   "metadata": {},
   "outputs": [],
   "source": [
    "circuito = [('condensatore', 8), ('resistenza',4), ('led',5), ('diodo',1), ('trasduttore',2),\n",
    "            ('transistor',12) , ('sensore',3),('solenoide',10)]\n",
    "\n",
    "# scrivi qui\n"
   ]
  }
 ],
 "metadata": {
  "language_info": {
   "name": "python"
  },
  "orig_nbformat": 4
 },
 "nbformat": 4,
 "nbformat_minor": 2
}
