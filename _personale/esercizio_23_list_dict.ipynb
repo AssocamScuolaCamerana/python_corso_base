{
 "cells": [
  {
   "attachments": {},
   "cell_type": "markdown",
   "metadata": {},
   "source": [
    "## Esercizio: I pescatori\n",
    "\n",
    "Requisiti: dizionari\n",
    "\n",
    "\n",
    "Una compagnia di pescatori ogni giorno cattura dei `pesci` che poi rivende a vari ristoranti. Ogni ristorante richiede diversi specie di pesci. Dati un `ristorante` e dei `pesci`, scrivi del codice che stampa `True` se il ristorante cucina quei pesci, altrimenti stampa `False`.\n",
    "\n",
    "- **NON** usare `if`\n",
    "- **NON** usare cicli \n",
    "\n",
    "- **SUGGERIMENTO**: se non sai come fare, guarda [Booleani - Ordine di valutazione](https://it.softpython.org/basics/basics2-bools-sol.html#Ordine-di-valutazione)"
   ]
  },
  {
   "cell_type": "code",
   "execution_count": 1,
   "metadata": {},
   "outputs": [],
   "source": [
    "\n",
    "ristorante, pesci = \"Il Galeone\", \"carpe\"            # True\n",
    "#ristorante, pesci = \"Il Galeone\", \"aringhe\"         # False\n",
    "#ristorante, pesci = \"Al Molo\",    \"trote\"           # True\n",
    "#ristorante, pesci = \"Al Molo\",    \"orate\"           # False\n",
    "#ristorante, pesci = \"La Cambusa\", \"merluzzi\"        # False\n",
    "\n",
    "\n",
    "registro = {\n",
    "    \"L'Ancora\"  : ['aringhe', 'carpe'],\n",
    "    \"Il Galeone\": ['merluzzi', 'carpe', 'trote'],    \n",
    "    \"Al Molo\"   : ['trote'],\n",
    "    \"La Cambusa\": ['aringhe', 'carpe'],\n",
    "}\n",
    "\n",
    "# scrivi qui\n"
   ]
  }
 ],
 "metadata": {
  "kernelspec": {
   "display_name": ".venv",
   "language": "python",
   "name": "python3"
  },
  "language_info": {
   "codemirror_mode": {
    "name": "ipython",
    "version": 3
   },
   "file_extension": ".py",
   "mimetype": "text/x-python",
   "name": "python",
   "nbconvert_exporter": "python",
   "pygments_lexer": "ipython3",
   "version": "3.11.2"
  },
  "orig_nbformat": 4
 },
 "nbformat": 4,
 "nbformat_minor": 2
}
