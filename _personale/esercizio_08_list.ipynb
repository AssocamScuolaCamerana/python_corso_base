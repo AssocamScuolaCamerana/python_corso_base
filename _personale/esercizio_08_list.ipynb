{
 "cells": [
  {
   "cell_type": "markdown",
   "metadata": {},
   "source": [
    "### Esercizio - Monte ordinato\n",
    "\n",
    "Requisiti: liste, sort, for\n",
    "\n",
    "Data una lista `monte` con $n$ numeri (supponi che $n$ sia pari), scrivi del codice \n",
    "che MODIFICA `monte`, ordinando solo i numeri nella prima metà in ordine crescente\n",
    "e poi ordinando solo i numeri nella seconda metà in ordine inverso\n",
    "\n",
    "- **NON** riassegnare `monte`, perchè perderesti la zona di memoria originale (quindi niente `monte =`)\n",
    "- **SUGGERIMENTO:** ``sort()`` funziona solo su tutta la lista, per ordinarne solo metà dovrai creare altre liste dove mettere i valori da ordinare, e poi copiarli nella lista originale\n",
    "\n",
    "Esempio - data:\n",
    "\n",
    "```python\n",
    "   monte = [90,40,50,20,60, 7, 3, 4, 9, 8]\n",
    "```\n",
    "\n",
    "Dopo il tuo codice deve risultare:\n",
    "\n",
    "```python\n",
    ">>> print(monte)\n",
    "[20, 40, 50, 60, 90, 9, 8, 7, 4, 3]\n",
    "```\n"
   ]
  },
  {
   "cell_type": "code",
   "execution_count": null,
   "metadata": {},
   "outputs": [],
   "source": [
    "monte = [90,40,50,20,60, 7, 3, 4, 9, 8]   # [20, 40, 50, 60, 90, 9, 8, 7, 4, 3]\n",
    "#monte = [5,0,3,4,3,8]                    # [0, 3, 5, 8, 4, 3]\n",
    "#monte = []                               # []\n",
    "#monte = [7,3]                            # [7,3]\n",
    "\n",
    "# scrivi qui\n"
   ]
  }
 ],
 "metadata": {
  "kernelspec": {
   "display_name": ".venv",
   "language": "python",
   "name": "python3"
  },
  "language_info": {
   "codemirror_mode": {
    "name": "ipython",
    "version": 3
   },
   "file_extension": ".py",
   "mimetype": "text/x-python",
   "name": "python",
   "nbconvert_exporter": "python",
   "pygments_lexer": "ipython3",
   "version": "3.11.2"
  },
  "orig_nbformat": 4
 },
 "nbformat": 4,
 "nbformat_minor": 2
}
