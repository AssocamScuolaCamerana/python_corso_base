{
 "cells": [
  {
   "cell_type": "markdown",
   "metadata": {},
   "source": [
    "# Esercizio: Uso della funzionalità multi-cursore"
   ]
  },
  {
   "cell_type": "markdown",
   "metadata": {},
   "source": [
    "Questi esercizi ti permetteranno di esplorare diverse situazioni in cui il multi-cursore può migliorare significativamente la tua efficienza durante la modifica di testi, codici, e dati strutturati. Ricorda che per attivare la selezione multi-cursore in Visual Studio Code, puoi usare le seguenti combinazioni:\n",
    "\n",
    "- `Alt + Click`: Aggiungi un nuovo cursore.\n",
    "- `Ctrl + Alt + Su/Giù`: Inserisci cursori sopra o sotto la posizione corrente.\n",
    "- `Maiusc + Alt + Click Trascina`: Seleziona un'area rettangolare di testo.\n",
    "\n",
    "- `Ctrl + D`: Seleziona la parola corrente e la prossima occorrenza della stessa parola.\n",
    "- `Ctrl + Maiusc + L`: Aggiunge una selezione a ogni occorrenza del testo correntemente selezionato.\n",
    "- `Shift + Alt + I`: Inserisce cursori alla fine di ciascuna linea selezionata.\n",
    "\n",
    "\n",
    "Inoltre ricorda che per saltare all'inizio o al fondo della parola in cui si trova il cursore, puoi:\n",
    "- usare la combinazione di tasti `Alt + Sinistra/Destra`."
   ]
  },
  {
   "cell_type": "markdown",
   "metadata": {},
   "source": [
    "### Testo Semplice in colonna\n",
    "Data la seguente lista di parole, usa il multi-cursore per racchiudere ciascuna parola con delle virgolette, in modo da ottenere un elenco così:\n",
    "\n",
    "```txt\n",
    "\"mela\"\n",
    "\"banana\"\n",
    "\"ciliegia\"\n",
    "\"arancia\"\n",
    "```"
   ]
  },
  {
   "cell_type": "markdown",
   "metadata": {},
   "source": [
    "Per aggiungere i cursori puoi usare `Ctrl + Alt + Freccia Giù` oppure effettuare direttamente una selezione multipla con `Maiusc + Alt + Click Trascina`."
   ]
  },
  {
   "cell_type": "raw",
   "metadata": {},
   "source": [
    "mela\n",
    "banana\n",
    "ciliegia\n",
    "arancia"
   ]
  },
  {
   "cell_type": "markdown",
   "metadata": {},
   "source": [
    "Ora trasforma tutte le virgolette `\"` (apici doppi) con apostrofi `'` (apici singoli).\n",
    "\n",
    "Seleziona una virgoletta `\"` e poi premi `Ctrl + Maiusc + L` per selezionare tutte le altre virgolette. Cacellale e poi inserisci l'apostrofo `'`."
   ]
  },
  {
   "cell_type": "markdown",
   "metadata": {},
   "source": [
    "### Testo Semplice in linea\n",
    "Data la seguente lista di parole, usa il multi-cursore per racchiudere ciascuna parola con delle virgolette, in modo da ottenere un elenco così:\n",
    "\n",
    "```txt\n",
    "\"mela\", \"banana\", \"ciliegia\", \"arancia\"\n",
    "```"
   ]
  },
  {
   "cell_type": "raw",
   "metadata": {},
   "source": [
    "mela, banana, ciliegia, arancia"
   ]
  },
  {
   "cell_type": "markdown",
   "metadata": {},
   "source": [
    "### Codice Python\n",
    "Nel seguente frammento di codice Python, usa il multi-cursore per aggiungere `self.` davanti a ciascun nome di variabile nella funzione `__init__`, in modo da ottenere questo:\n",
    "\n",
    "```python\n",
    "def __init__(self, nome, cognome, genere):\n",
    "    self.nome = nome\n",
    "    self.cognome = cognome\n",
    "    self.genere = genere\n",
    "```"
   ]
  },
  {
   "cell_type": "code",
   "execution_count": null,
   "metadata": {},
   "outputs": [],
   "source": [
    "def __init__(self, nome, cognome, genere):\n",
    "    nome = nome\n",
    "    cognome = cognome\n",
    "    genere = genere"
   ]
  },
  {
   "cell_type": "markdown",
   "metadata": {},
   "source": [
    "### JSON\n",
    "In questo esempio di JSON, utilizza il multi-cursore per aggiungere un livello di indentazione aggiuntivo a tutte le righe tranne la prima e l'ultima, in modo da ottenere questo:\n",
    "```json\n",
    "{\n",
    "    \"nome\": \"Mario\",\n",
    "    \"cognome\": \"Rossi\",\n",
    "    \"genere\": 30\n",
    "}\n",
    "```"
   ]
  },
  {
   "cell_type": "raw",
   "metadata": {},
   "source": [
    "{\n",
    "\"nome\": \"Mario\",\n",
    "\"cognome\": \"Rossi\",\n",
    "\"genere\": 'M'\n",
    "}"
   ]
  },
  {
   "cell_type": "markdown",
   "metadata": {},
   "source": [
    "### XML\n",
    "Dato il seguente frammento di XML, usa il multi-cursore per sostituire `\"no\"` con `\"sì\"` nell'attributo `disponibile` di ogni elemento `libro`, in modo da ottenere questo:\n",
    "```xml\n",
    "<libreria>\n",
    "    <libro codice=\"1\" disponibile=\"si\"/>\n",
    "    <libro codice=\"2\" disponibile=\"si\"/>\n",
    "    <libro codice=\"3\" disponibile=\"si\"/>\n",
    "    <libro codice=\"40\" disponibile=\"si\"/>\n",
    "</libreria>\n",
    "```"
   ]
  },
  {
   "cell_type": "code",
   "execution_count": null,
   "metadata": {
    "vscode": {
     "languageId": "xml"
    }
   },
   "outputs": [],
   "source": [
    "<libreria>\n",
    "    <libro codice=\"1\" disponibile=\"no\"/>\n",
    "    <libro codice=\"2\" disponibile=\"no\"/>\n",
    "    <libro codice=\"3\" disponibile=\"no\"/>\n",
    "    <libro codice=\"40\" disponibile=\"no\"/>\n",
    "</libreria>"
   ]
  },
  {
   "cell_type": "markdown",
   "metadata": {},
   "source": [
    "### Testo tabellare\n",
    "Il seguente testo si presta per una visualizzazione tabillare. Utilizza il multi-cursore più il salto di parola in parola per allineare ciascun frutto nella propria colonna, in modo da ottenere questo.\n",
    "```text\n",
    "mela,     banana,  ciliegia, arancia\n",
    "mirtillo, fragola, lampone,  pesca\n",
    "uva,      pera,    ananas,   kiwi\n",
    "mango,    papaya,  melone,   anguria\n",
    "```"
   ]
  },
  {
   "cell_type": "raw",
   "metadata": {},
   "source": [
    "mela, banana, ciliegia, arancia\n",
    "mirtillo, fragola, lampone, pesca\n",
    "uva, pera, ananas, kiwi\n",
    "mango, papaya, melone, anguria"
   ]
  }
 ],
 "metadata": {
  "kernelspec": {
   "display_name": ".venv",
   "language": "python",
   "name": "python3"
  },
  "language_info": {
   "codemirror_mode": {
    "name": "ipython",
    "version": 3
   },
   "file_extension": ".py",
   "mimetype": "text/x-python",
   "name": "python",
   "nbconvert_exporter": "python",
   "pygments_lexer": "ipython3",
   "version": "3.11.2"
  }
 },
 "nbformat": 4,
 "nbformat_minor": 2
}
