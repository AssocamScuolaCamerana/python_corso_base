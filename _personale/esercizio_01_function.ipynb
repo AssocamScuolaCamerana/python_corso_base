{
 "cells": [
  {
   "attachments": {},
   "cell_type": "markdown",
   "metadata": {},
   "source": [
    "### Esercizio - Convertitori di grandezze\n",
    "\n",
    "Convertire la temperatura da Fahrenheit a Celsius nella funzione sottostante. È possibile utilizzare questa formula:\n",
    "\n",
    "$$ C° = (F° - 32)  \\times  \\frac{5}{9} $$\n",
    "\n",
    "Arrotondare il risultato restituito a 3 cifre decimali.\n",
    "\n",
    "Non è necessario gestire l'input, basta implementare la funzione sottostante.\n",
    "\n",
    "Inoltre, assicurarsi che la funzione restituisca il valore. NON stampare nulla."
   ]
  },
  {
   "cell_type": "code",
<<<<<<< HEAD
   "execution_count": 3,
   "metadata": {},
   "outputs": [
    {
     "data": {
      "text/plain": [
       "37.778"
      ]
     },
     "execution_count": 3,
     "metadata": {},
     "output_type": "execute_result"
    }
   ],
   "source": [
    "def fahrenheit_to_celsius(f):    # prolisso ma descrittivo\n",
    "    c = (f-32)*(5/9)\n",
    "    c = round(c,3)\n",
    "    return c\n",
    "\n",
    "fahrenheit_to_celsius(100)\n",
    "\n"
   ]
  },
  {
   "cell_type": "code",
   "execution_count": 1,
   "metadata": {},
   "outputs": [
    {
     "data": {
      "text/plain": [
       "37.778"
      ]
     },
     "execution_count": 1,
     "metadata": {},
     "output_type": "execute_result"
    }
   ],
   "source": [
    "def fahrenheit_to_celsius(f):     # più pitonico\n",
    "    c = round((f-32)*(5/9),3)\n",
    "    return c\n",
    "\n",
    "fahrenheit_to_celsius(100)"
   ]
  },
  {
   "cell_type": "code",
   "execution_count": 2,
   "metadata": {},
   "outputs": [
    {
     "data": {
      "text/plain": [
       "37.778"
      ]
     },
     "execution_count": 2,
     "metadata": {},
     "output_type": "execute_result"
    }
   ],
   "source": [
    "def fahrenheit_to_celsius(f):     # più pitonico ancora\n",
    "    return  round((f-32)*(5/9),3)\n",
    "\n",
    "fahrenheit_to_celsius(100)"
=======
   "execution_count": null,
   "metadata": {},
   "outputs": [],
   "source": [
    "def fahrenheit_to_celsius(f):\n",
    "    c = ((f-32)*5)/9\n",
    "    return c"
>>>>>>> origin/upstream
   ]
  },
  {
   "attachments": {},
   "cell_type": "markdown",
   "metadata": {},
   "source": [
    "Passiamo al livello successivo della conversione di miglia in chilometri! Definite una funzione che accetti il numero di miglia e restituisca la distanza in chilometri.\n",
    "\n",
    "Supponiamo che un miglio sia approssimativamente uguale a 1,609 chilometri.\n",
    "\n",
    "Non è necessario gestire l'input, basta implementare la funzione."
   ]
  },
  {
   "cell_type": "code",
<<<<<<< HEAD
   "execution_count": 8,
   "metadata": {},
   "outputs": [
    {
     "name": "stdout",
     "output_type": "stream",
     "text": [
      "3.218\n"
     ]
    }
   ],
   "source": [
    "km_per_mile = 1.609\n",
    "\n",
    "def mi_to_km(mi):\n",
    "    return mi * km_per_mile\n",
    "\n",
    "print(mi_to_km(2))"
=======
   "execution_count": null,
   "metadata": {},
   "outputs": [],
   "source": [
    "def mi_to_km(mi):\n",
    "    km=mi*1.609\n",
    "    return km"
>>>>>>> origin/upstream
   ]
  }
 ],
 "metadata": {
  "kernelspec": {
   "display_name": ".venv",
   "language": "python",
   "name": "python3"
  },
  "language_info": {
<<<<<<< HEAD
   "codemirror_mode": {
    "name": "ipython",
    "version": 3
   },
   "file_extension": ".py",
   "mimetype": "text/x-python",
   "name": "python",
   "nbconvert_exporter": "python",
   "pygments_lexer": "ipython3",
   "version": "3.11.3"
=======
   "name": "python",
   "version": "3.11.2"
>>>>>>> origin/upstream
  },
  "orig_nbformat": 4
 },
 "nbformat": 4,
 "nbformat_minor": 2
}
