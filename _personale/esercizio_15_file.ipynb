{
 "cells": [
  {
   "attachments": {},
   "cell_type": "markdown",
   "metadata": {},
   "source": [
    "# Esercizio - Le età dei nostri amici"
   ]
  },
  {
   "attachments": {},
   "cell_type": "markdown",
   "metadata": {},
   "source": [
    "Requisiti: `import`, `with ... as`, `open`, `dict`"
   ]
  },
  {
   "attachments": {},
   "cell_type": "markdown",
   "metadata": {},
   "source": [
    "E’ dato un file `nomi_data_nascita.txt` nella cartella `/files_esercizi` del nostro repository. Il file è caratterizzato dal seguente formato rappresentante delle coppie nome/età. Per esempio:\n",
    "\n",
    "```python\n",
    "Ada: 1999\n",
    "Pippo: 1980\n",
    "Felice: 1976\n",
    "Geronima: 1999\n",
    "...\n",
    "```\n",
    "\n",
    "Leggi tutto il file creando un dizionario (`dict`) le cui chiavi sono corrispondono all’età della persona alla data attuale. A ciascuna età deve essere associata una lista con i nomi di persone che hanno quell’età.\n",
    "\n",
    "Output atteso:\n",
    "\n",
    "```python\n",
    "{24: ['Ada:', 'Geronima:', 'Roberto:'], 43: ['Pippo:', 'Ciccio:'], 47: ['Felice:', 'Mimmo:'], 51: ['Luca:', 'Pluto:'], 100: ['Totò:']}\n",
    "```"
   ]
  },
  {
   "cell_type": "code",
   "execution_count": 8,
   "metadata": {},
   "outputs": [
    {
     "name": "stdout",
     "output_type": "stream",
     "text": [
      "{24: ['Ada', 'Geronima', 'Roberto'], 43: ['Pippo', 'Ciccio'], 47: ['Felice', 'Mimmo'], 51: ['Luca', 'Pluto'], 100: ['TotÃ²']}\n"
     ]
    }
   ],
   "source": [
    "file = open('../files_esercizi/nomi_data_nascita.txt', 'r')\n",
    "report = {}\n",
    "\n",
    "#print(file.read())\n",
    "\n",
    "for line in file:\n",
    "    lista_temp = line.split(sep = ':')\n",
    "    age = 2023 - int(lista_temp[1].strip())\n",
    "    if age in report:\n",
    "        report[age].append(lista_temp[0])\n",
    "    else:\n",
    "        report[age] = []\n",
    "        report[age].append(lista_temp[0])\n",
    "\n",
    "file.close()\n",
    "print(report)"
   ]
  },
  {
   "cell_type": "code",
   "execution_count": null,
   "metadata": {},
   "outputs": [],
   "source": [
    "\n",
    "report = {}\n",
    "report['key1'] = ['10','20']\n",
    "report['key1'].append('30')\n",
    "print (report['key1'])"
   ]
  },
  {
   "attachments": {},
   "cell_type": "markdown",
   "metadata": {},
   "source": [
    "Ora, riesci a scriverle in un file nuovo, mantenendo il seguente formato?\n",
    "\n",
    "```python\n",
    "Nome,Età\n",
    "Ada,24\n",
    "Geronima,24\n",
    "Roberto,24\n",
    "Pippo,43\n",
    "Ciccio,43\n",
    "...\n",
    "```"
   ]
  },
  {
   "attachments": {},
   "cell_type": "markdown",
   "metadata": {},
   "source": [
    "Prova a scrivere un nuovo file `nomi_eta.csv` nella cartella `/files_esercizi` del nostro repository.\n",
    "\n",
    "Normalmente i file `.csv` hanno la prima linea dedicata alle \"intestazioni di colonna\". In questo caso nella prima riga del file dovremmo avere `Nome,Età`."
   ]
  },
  {
   "cell_type": "code",
   "execution_count": null,
   "metadata": {},
   "outputs": [],
   "source": [
    "# scrivi qui"
   ]
  },
  {
   "attachments": {},
   "cell_type": "markdown",
   "metadata": {},
   "source": [
    "Per finire, riusciresti a creare uno script che prende in ingresso due parametri, il file di origine `nomi_data_nascita.txt` e il file di output `nomi_eta.csv` e che esegue le conversione creando il file di output?\n",
    "\n",
    "Per lanciare il nostro script, immaginando di trovarci nella cartella `/files_esercizi`, dovremmo poter lanciare un comando come il seguente:\n",
    "\n",
    "```shell\n",
    "$ py converti_nomi_nascita.py nomi_data_nascita.txt nomi_eta.csv\n",
    "```"
   ]
  },
  {
   "attachments": {},
   "cell_type": "markdown",
   "metadata": {},
   "source": [
    "Crea un nuovo file e chiamalo `converti_nomi_nascita.py` e salvalo dove preferisci, per esempio nella tua cartella `/personale` che dovresti avrere sul tuo branch del nostro repository.\n",
    "\n",
    "Ricorda che poi i percorsi ai file devono essere compatibili con la posizione in cui eseguirai lo script, dove tu ti trovi e dove si trova il file da convertire. Prova varie combinazioni, e vedi cosa succede e dove viene generato il file di output."
   ]
  }
 ],
 "metadata": {
  "kernelspec": {
   "display_name": ".venv",
   "language": "python",
   "name": "python3"
  },
  "language_info": {
   "codemirror_mode": {
    "name": "ipython",
    "version": 3
   },
   "file_extension": ".py",
   "mimetype": "text/x-python",
   "name": "python",
   "nbconvert_exporter": "python",
   "pygments_lexer": "ipython3",
   "version": "3.10.0"
  },
  "orig_nbformat": 4
 },
 "nbformat": 4,
 "nbformat_minor": 2
}
