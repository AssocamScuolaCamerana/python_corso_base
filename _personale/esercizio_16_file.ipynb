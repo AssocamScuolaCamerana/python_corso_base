{
 "cells": [
  {
   "attachments": {},
   "cell_type": "markdown",
   "metadata": {},
   "source": [
    "# Esercizio: A ciascuno il suo"
   ]
  },
  {
   "attachments": {},
   "cell_type": "markdown",
   "metadata": {},
   "source": [
    "Crea 10 file, denominati `file1.txt`, `file2.txt` e così via fino a `file10.txt` e salvali in una carella `./output` che si trova allo stesso livello di questo notebook (la cartella dovrebbe già esistere, altrimenti creala).\n",
    "\n",
    "I file devono contenere il numero corrispondente al loro nome. Quindi, `file1.txt` deve contenere una riga con il numero `1`, `file2.txt` una riga con il numero `2` e così via.\n",
    "\n",
    "> SUGGERIMENTO: Aprire i file all'interno di un ciclo `for` per semplificare le cose. E non dimenticate di chiudere i file!"
   ]
  },
  {
   "cell_type": "code",
   "execution_count": 2,
   "metadata": {},
   "outputs": [],
   "source": [
    "# scrivi qui\n"
   ]
  },
  {
   "attachments": {},
   "cell_type": "markdown",
   "metadata": {},
   "source": [
    "## Variante:  A ciascuno il suo... buon nome! "
   ]
  },
  {
   "attachments": {},
   "cell_type": "markdown",
   "metadata": {},
   "source": [
    "Dato che vogliamo che i file vengano visualizzati in ordine, per bene, mettiamo anche i codiddetti [_**leading zeroes**_](https://en.wikipedia.org/wiki/Leading_zero).\n",
    "\n",
    "Crea sempre 10 file, ma questa volta denominati `file001.txt`, `file002.txt` e così via fino a `file010.txt` e salvali sempre nella una carella `./output` che si trova allo stesso livello di questo notebook (la cartella dovrebbe già esistere, altrimenti creala).\n",
    "\n",
    "\n",
    "I file devono contenere il numero corrispondente al loro nome. Quindi, `file001.txt` deve contenere una riga con il numero `1`, `file002.txt` una riga con il numero `2` e così via.\n",
    "\n",
    "> SUGGERIMENTO: Ci sono almeno 4 metodi comuni per aggiungere degli zeri `0` davanti a un numero. Lo strumento ad-hoc è [`str.zfill()`](https://docs.python.org/3/library/stdtypes.html#str.zfill)."
   ]
  },
  {
   "cell_type": "code",
   "execution_count": 19,
   "metadata": {},
   "outputs": [],
   "source": [
    "# scrivi qui\n"
   ]
  }
 ],
 "metadata": {
  "kernelspec": {
   "display_name": ".venv",
   "language": "python",
   "name": "python3"
  },
  "language_info": {
   "codemirror_mode": {
    "name": "ipython",
    "version": 3
   },
   "file_extension": ".py",
   "mimetype": "text/x-python",
   "name": "python",
   "nbconvert_exporter": "python",
   "pygments_lexer": "ipython3",
   "version": "3.11.2"
  },
  "orig_nbformat": 4
 },
 "nbformat": 4,
 "nbformat_minor": 2
}
