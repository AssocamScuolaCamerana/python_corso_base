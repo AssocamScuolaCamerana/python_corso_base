{
 "cells": [
  {
   "attachments": {},
   "cell_type": "markdown",
   "metadata": {},
   "source": [
    "# Stringhe"
   ]
  },
  {
   "attachments": {},
   "cell_type": "markdown",
   "metadata": {},
   "source": [
    "## Operatori e operazioni con le stringhe\n",
    "\n",
    "Python offre diversi operatori per lavorare con le stringhe:\n",
    "\n",
    "|Operatore|Uso|Risultato|Significato|\n",
    "|---|---|----|-----|\n",
    "|len|`len`(str)|int| Ritorna la lunghezza della stringa|\n",
    "|concatenazione|str `+` str|str| Concatena due stringhe|\n",
    "|inclusione|str `in` str|bool| Controlla se la stringa è presente in un'altra stringa|\n",
    "|indice|str`[`int`]`|str|Accede  al carattere all'indice specificato|\n",
    "|slice|str`[`int`:`int`]`|str|Estrae una sotto-stringa|\n",
    "|uguaglianza|`==`,`!=`|bool| Controlla se due stringhe sono uguali o differenti|\n",
    "|replicazione|str `*` int|str| Replica la stringa|"
   ]
  },
  {
   "attachments": {},
   "cell_type": "markdown",
   "metadata": {},
   "source": [
    "## Metodi delle stringhe\n",
    "\n",
    "Ogni tipo di dati ha associati dei metodi particolari per quel tipo, vediamo instanto quelli più semplici associati al tipo stringa (`str`).\n",
    "\n",
    "### Trasformare: maiuscole/minuscole \n",
    "\n",
    "| Metodo                  | Return | Significato                                                               |\n",
    "|-------------------------|--------|---------------------------------------------------------------------------|\n",
    "| `str.upper()`           | str    | Ritorna la stringa con tutti i caratteri maiuscoli                        |\n",
    "| `str.lower()`           | str    | Ritorna la stringa con tutti i caratteri minuscoli                        |\n",
    "| `str.capitalize()`      | str    | Ritorna la stringa con il primo carattere maiuscolo                       |\n",
    "| `str.title()`           | str    | Ritorna la stringa con il primo carattere di ciascuna parola in maiuscolo |\n",
    "\n",
    "### Trasformare: pulire o sostituire\n",
    "\n",
    "| Metodo                  | Return | Significato                                                               |\n",
    "|-------------------------|--------|---------------------------------------------------------------------------|\n",
    "| `str.strip(str)`        | str    | Rimuove stringhe dai lati                                                 |\n",
    "| `str.lstrip(str)`       | str    | Rimuove stringhe da sinistra                                              |\n",
    "| `str.rstrip(str)`       | str    | Rimuove stringhe da destra                                                |\n",
    "| `str.replace(str, str)` | str    | Sostituisce sottostringhe                                                 |\n",
    "\n",
    "\n",
    "### Ottenere informazioni \n",
    "\n",
    "| Metodo                  | Return | Significato                                                               |\n",
    "|-------------------------|--------|---------------------------------------------------------------------------|\n",
    "| `str.startswith(str)`   | bool   | Controlla se la stringa inizia con un'altra                               |\n",
    "| `str.endswith(str)`     | bool   | Controlla se la stringa finisce con un'altra                              |\n",
    "| `str.isalpha(str)`      | bool   | Controlla se tutti i caratteri sono alfabetici                            |\n",
    "| `str.isdigit(str)`      | bool   | Controlla se tutti i caratteri sono cifre                                 |\n",
    "| `str.isupper()`         | bool   | Controlla se tutti i caratteri sono minuscoli                             |\n",
    "| `str.islower()`         | bool   | Controlla se tutti i caratteri sono maiuscoli                             |\n",
    "| `str.count(str)`        | int    | Conta il numero di occorrenze di una sottostringa                         |\n",
    "| `str.find(str)`         | int    | Ritorna la prima posizione di una sottostringa a partire da sinistra      |\n",
    "| `str.rfind(str)`        | int    | Ritorna la prima posizione di una sottostringa a partire da destra        |\n"
   ]
  },
  {
   "attachments": {},
   "cell_type": "markdown",
   "metadata": {},
   "source": [
    "### Da stringa a lista e viceversa\n",
    "\n",
    "| Metodo          | Return | Descrizione                                                                  |\n",
    "|-----------------|--------|------------------------------------------------------------------------------|\n",
    "| `str.join(seq)` | str    | produce una stringa concatenando tutti gli elementi in seq separati da `str` |\n",
    "| `str.split(str)`   | list   | Produce una lista dividendo una stringa in base a una stringa separatore     |"
   ]
  },
  {
   "attachments": {},
   "cell_type": "markdown",
   "metadata": {},
   "source": [
    "## Note"
   ]
  },
  {
   "attachments": {},
   "cell_type": "markdown",
   "metadata": {},
   "source": [
    "Le stringhe mettono a disposizione diversi metodi per effettuare ricerche e e trasformarle in nuove stringhe, ma attenzione: il potere è nulla senza il controllo! A volte ti troverai con l'esigenza di usarli, e potrebbero anche funzionare con qualche piccolo esempio, ma potrebbero nascondere tranelli che poi si rimpiangono amaramente.\n",
    "\n",
    "L'osservazione più importante è che quando i metodi delle stringhe generano una stringa, questa è SEMPRE NUOVA.\n",
    "\n",
    "L'oggetto stringa originale non viene MAI modificato (perchè le stringhe sono immutabili). "
   ]
  },
  {
   "attachments": {},
   "cell_type": "markdown",
   "metadata": {},
   "source": [
    "## Sequenze di escape\n",
    "\n",
    "Alcune sequenze di caratteri dette _sequenze di escape_ sono speciali perchè invece di mostrare caratteri, forzano la stampa a fare cose particolari come andare a capo o inserire spazi extra. Queste sequenze sono sempre precedute da il carattere di _backslash_ `\\`:\n",
    "\n",
    "|Descrizione|Sequenza di _escape_| \n",
    "|-----------|---------------------|\n",
    "|Ritorno a capo (_linefeed_)|`\\n`|\n",
    "|Tabulazione (_ASCII tab_)| `\\t`| \n",
    "\n",
    "**Caratteri speciali**: Per mettere caratteri speciali come il singolo apice `'` o le doppie virgolette `\"` , dobbiamo creare una cosiddetta _sequenza di escape_, cioè prima scriviamo il carattere _backslash_ `\\` e poi lo facciamo seguire dal carattere speciale che ci interessa: \n",
    "\n",
    "|Descrizione|Sequenza di _escape_|Risultato a stampa|\n",
    "|--------|-----|-----------|\n",
    "|Apice singolo|`\\'`|`'`|\n",
    "|Doppio apice|`\\\"`| `\"`|\n",
    "|Backslash|`\\\\` | `\\`|"
   ]
  },
  {
   "attachments": {},
   "cell_type": "markdown",
   "metadata": {},
   "source": [
    "## Caratteri Unicode\n",
    "\n",
    "Quando abbiamo bisogno di caratteri particolari come ✪  che non sono disponibili sulla tastiera, possiamo guardare i caratteri Unicode. [Ce ne sono parecchi](http://www.fileformat.info/info/unicode/char/a.htm), e possiamo spesso usarli in Python 3 semplicemente copia-incollandoli. Per esempio, se vai a [questa pagina](https://www.fileformat.info/info/unicode/char/272a/index.htm) puoi copia-incollare il carattere ✪. In altri casi potrebbe essere così speciale che non può nemmeno essere correttamente visualizzato, perciò in questi casi puoi usare una sequenza più complessa nel formato `\\uxxxx` come questo:\n",
    "\n",
    "|Descrizione|Sequenza di escape|Risultato stampato|\n",
    "|--------|-----|-----------|\n",
    "|Esempio stella in un cerchio nel formato `\\uxxxx`| `\\u272A`|✪|"
   ]
  }
 ],
 "metadata": {
  "language_info": {
   "name": "python"
  },
  "orig_nbformat": 4
 },
 "nbformat": 4,
 "nbformat_minor": 2
}
