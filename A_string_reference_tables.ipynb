{
 "cells": [
  {
   "attachments": {},
   "cell_type": "markdown",
   "metadata": {},
   "source": [
    "# Stringhe"
   ]
  },
  {
   "attachments": {},
   "cell_type": "markdown",
   "metadata": {},
   "source": [
    "## Operatori e operazioni con le stringhe\n",
    "\n",
    "Python offre diversi operatori per lavorare con le stringhe:\n",
    "\n",
    "|Operatore|Uso|Risultato|Significato|\n",
    "|---|---|----|-----|\n",
    "|len|`len`(str)|int| Ritorna la lunghezza della stringa|\n",
    "|concatenazione|str `+` str|str| Concatena due stringhe|\n",
    "|inclusione|str `in` str|bool| Controlla se la stringa è presente in un'altra stringa|\n",
    "|indice|str`[`int`]`|str|Accede  al carattere all'indice specificato|\n",
    "|slice|str`[`int`:`int`]`|str|Estrae una sotto-stringa|\n",
    "|uguaglianza|`==`,`!=`|bool| Controlla se due stringhe sono uguali o differenti|\n",
    "|replicazione|str `*` int|str| Replica la stringa|"
   ]
  },
  {
   "attachments": {},
   "cell_type": "markdown",
   "metadata": {},
   "source": [
    "## Metodi delle stringhe\n",
    "\n",
    "Ogni tipo di dati ha associati dei metodi particolari per quel tipo, vediamo instanto quelli più semplici associati al tipo stringa (`str`).\n",
    "\n",
    "### Trasformare: maiuscole/minuscole \n",
    "\n",
    "| Metodo                  | Return | Significato                                                               |\n",
    "|-------------------------|--------|---------------------------------------------------------------------------|\n",
    "| `str.upper()`           | str    | Ritorna la stringa con tutti i caratteri maiuscoli                        |\n",
    "| `str.lower()`           | str    | Ritorna la stringa con tutti i caratteri minuscoli                        |\n",
    "| `str.capitalize()`      | str    | Ritorna la stringa con il primo carattere maiuscolo                       |\n",
    "| `str.title()`           | str    | Ritorna la stringa con il primo carattere di ciascuna parola in maiuscolo |\n",
    "\n",
    "### Trasformare: pulire o sostituire\n",
    "\n",
    "| Metodo                          | Return | Significato                                |\n",
    "|---------------------------------|--------|--------------------------------------------|\n",
    "| `str.strip()`                   | str    | Rimuove i *whitespaces* da entrambi i lati |\n",
    "| `str.lstrip()`                  | str    | Rimuove i *whitespaces* da sinistra        |\n",
    "| `str.rstrip()`                  | str    | Rimuove i *whitespaces* da destra          |\n",
    "| `str.replace(substr1, substr2)` | str    | Sostituisce sottostringhe                  |\n",
    "\n",
    "\n",
    "### Ottenere informazioni \n",
    "\n",
    "| Metodo                  | Return | Significato                                                               |\n",
    "|-------------------------|--------|---------------------------------------------------------------------------|\n",
    "| `str.startswith(str)`   | bool   | Controlla se la stringa inizia con un'altra                               |\n",
    "| `str.endswith(str)`     | bool   | Controlla se la stringa finisce con un'altra                              |\n",
    "| `str.isalpha()`         | bool   | Controlla se tutti i caratteri sono alfabetici                            |\n",
    "| `str.isdigit()`         | bool   | Controlla se tutti i caratteri sono cifre                                 |\n",
    "| `str.isupper()`         | bool   | Controlla se tutti i caratteri sono minuscoli                             |\n",
    "| `str.islower()`         | bool   | Controlla se tutti i caratteri sono maiuscoli                             |\n",
    "| `str.count(str)`        | int    | Conta il numero di occorrenze di una sottostringa                         |\n",
    "| `str.find(str)`         | int    | Ritorna la prima posizione di una sottostringa a partire da sinistra      |\n",
    "| `str.rfind(str)`        | int    | Ritorna la prima posizione di una sottostringa a partire da destra        |\n"
   ]
  },
  {
   "attachments": {},
   "cell_type": "markdown",
   "metadata": {},
   "source": [
    "### Da stringa a lista e viceversa\n",
    "\n",
    "| Metodo           | Return | Descrizione                                                                  |\n",
    "|------------------|--------|------------------------------------------------------------------------------|\n",
    "| `str.join(seq)`  | str    | produce una stringa concatenando tutti gli elementi in seq separati da `str` |\n",
    "| `str.split(str)` | list   | Produce una lista dividendo una stringa in base a una stringa separatore     |"
   ]
  },
  {
   "attachments": {},
   "cell_type": "markdown",
   "metadata": {},
   "source": [
    "## Modulo `string`\n",
    "\n",
    "| Metodo                         | Return | Descrizione                                                                                 |\n",
    "|--------------------------------|--------|---------------------------------------------------------------------------------------------|\n",
    "| `string.capwords(s, sep=None)` | str    | Simile a `str.capitalize()`, ma è possibile indicare un separatore specifico per le parole. |\n"
   ]
  },
  {
   "attachments": {},
   "cell_type": "markdown",
   "metadata": {},
   "source": [
    "## Note"
   ]
  },
  {
   "attachments": {},
   "cell_type": "markdown",
   "metadata": {},
   "source": [
    "Le stringhe mettono a disposizione diversi metodi per effettuare ricerche e e trasformarle in nuove stringhe, ma attenzione: il potere è nulla senza il controllo! A volte ti troverai con l'esigenza di usarli, e potrebbero anche funzionare con qualche piccolo esempio, ma potrebbero nascondere tranelli che poi si rimpiangono amaramente.\n",
    "\n",
    "L'osservazione più importante è che quando i metodi delle stringhe generano una stringa, questa è SEMPRE NUOVA.\n",
    "\n",
    "L'oggetto stringa originale non viene MAI modificato (perchè le stringhe sono immutabili). "
   ]
  },
  {
   "attachments": {},
   "cell_type": "markdown",
   "metadata": {},
   "source": [
    "## Sequenze di escape\n",
    "\n",
    "Alcune sequenze di caratteri dette _sequenze di escape_ sono speciali perchè invece di mostrare caratteri, forzano la stampa a fare cose particolari come andare a capo o inserire spazi extra. Queste sequenze sono sempre precedute da il carattere di _backslash_ `\\`:\n",
    "\n",
    "|Descrizione                 |Sequenza di _escape_ |\n",
    "|----------------------------|---------------------|\n",
    "|Ritorno a capo (_linefeed_) | `\\n`                |\n",
    "|Tabulazione (_ASCII tab_)   | `\\t`                |\n",
    "|Backspace                   | `\\b`                |\n",
    "\n",
    "**Caratteri speciali**: Per mettere caratteri speciali come il singolo apice `'` o le doppie virgolette `\"` , dobbiamo creare una cosiddetta _sequenza di escape_, cioè prima scriviamo il carattere _backslash_ `\\` e poi lo facciamo seguire dal carattere speciale che ci interessa: \n",
    "\n",
    "|Descrizione|Sequenza di _escape_|Risultato a stampa|\n",
    "|--------|-----|-----------|\n",
    "|Apice singolo|`\\'`|`'`|\n",
    "|Doppio apice|`\\\"`| `\"`|\n",
    "|Backslash|`\\\\` | `\\`|"
   ]
  },
  {
   "attachments": {},
   "cell_type": "markdown",
   "metadata": {},
   "source": [
    "## Caratteri Unicode\n",
    "\n",
    "Quando abbiamo bisogno di caratteri particolari come ✪  che non sono disponibili sulla tastiera, possiamo guardare i caratteri Unicode. [Ce ne sono parecchi](http://www.fileformat.info/info/unicode/char/a.htm), e possiamo spesso usarli in Python 3 semplicemente copia-incollandoli. Per esempio, se vai a [questa pagina](https://www.fileformat.info/info/unicode/char/272a/index.htm) puoi copia-incollare il carattere ✪. In altri casi potrebbe essere così speciale che non può nemmeno essere correttamente visualizzato, perciò in questi casi puoi usare una sequenza più complessa nel formato `\\uxxxx` come questo:\n",
    "\n",
    "|Descrizione|Sequenza di escape|Risultato stampato|\n",
    "|--------|-----|-----------|\n",
    "|Esempio stella in un cerchio nel formato `\\uxxxx`| `\\u272A`|✪|"
   ]
  },
  {
   "attachments": {},
   "cell_type": "markdown",
   "metadata": {},
   "source": [
    "## Inserire le variabili nelle stringhe"
   ]
  },
  {
   "attachments": {},
   "cell_type": "markdown",
   "metadata": {},
   "source": [
    "Quando si parla di contenuti testuali, \"**interpolare**\" significa inserire in un testo parole o singagmi estranei all'originale.\n",
    "\n",
    "In programmazione, con l'espressione [*string interpolation*](https://en.wikipedia.org/wiki/String_interpolation) si intende la tecnica di valutare un literal di stringa contenente uno o più segnaposto (*placeholder*), al fine di ottenere una stringa in cui i segnaposto sono stati sostituiti con determinati valori, seguendo una certa corrispondenza.\n",
    "\n",
    "Questo concetto è molto vicino a quello del [*templating*](https://it.wikipedia.org/wiki/Template). In pratica viene creata una striga che funge da template in cui alcune parti del suo contenuto possono variare dinamicamente. Non vi è più la necessità di riscrivere il testo ogni volta, ma è sufficiente \"renderizzarlo\" passando nuovi valori ogni volta."
   ]
  },
  {
   "attachments": {},
   "cell_type": "markdown",
   "metadata": {},
   "source": [
    "In Python si fa riferimento in generale al concetto di [*string formatting*](https://docs.python.org/3/tutorial/inputoutput.html) (formattazione delle stringhe) in quanto, oltre all'interpolazione, abbiamo anche una speciale sintassi che consente du formattare i valori in determinati modi quando questi vengono inseriti nelle strighe.\n",
    "\n",
    "L'interpolazione delle stringhe è un'alternativa alla costruzione di stringhe tramite concatenazione, che richiede ripetute aperture e chiusure delle virgolette."
   ]
  },
  {
   "attachments": {},
   "cell_type": "markdown",
   "metadata": {},
   "source": [
    "In Python abbiamo le seguenti modalità per inserire dati arbitrari nelle nostre stringhe:\n",
    "\n",
    "- [Old-style string formatting](https://docs.python.org/3/library/stdtypes.html#printf-style-string-formatting)/interpolation tramite l'operatore `%` (modulo). Chiamato anche `printf`-style.\n",
    "\n",
    "- Metodo [`str.format()`](https://docs.python.org/3/library/string.html#format-string-syntax).\n",
    "\n",
    "- [*f-strings*, Formatted String Literals](https://docs.python.org/3/reference/lexical_analysis.html#f-strings), che implementano la cosiddetta [*Literal String Interpolation*](https://peps.python.org/pep-0498/)\n",
    "\n",
    "- [classe `Templatate`](https://docs.python.org/3/library/string.html#template-strings) del modulo built-in `strings`."
   ]
  },
  {
   "attachments": {},
   "cell_type": "markdown",
   "metadata": {},
   "source": [
    "I due metodi più usati e consigliati attualmente sono:\n",
    "\n",
    "- f-strings (che è il più comodo e veloce, anche in termini di prestazioni). Da usarsi quando abbiamo molti placeholder e il testo è più lungo dei nomi delle variabili stesse.\n",
    "\n",
    "- formattazione old-style con operatore `%`. Da usarsi quando abbiamo solo 2-3 placeholder e il testo è relativamente breve."
   ]
  },
  {
   "cell_type": "code",
   "execution_count": 34,
   "metadata": {},
   "outputs": [
    {
     "name": "stdout",
     "output_type": "stream",
     "text": [
      "Ciao, Marco Rossi!\n",
      "Ciao, Marco Rossi!\n",
      "Ciao, Marco Rossi!\n",
      "Ciao, Marco Rossi!\n",
      "Ciao, Marco Rossi!\n",
      "Ciao, Marco Rossi!\n",
      "Ciao, Marco Rossi!\n"
     ]
    }
   ],
   "source": [
    "nome = 'Marco'\n",
    "cognome = 'Rossi'\n",
    "\n",
    "for string_test in [\n",
    "    # Concatenazione\n",
    "    'Ciao, ' + nome + ' ' + cognome + '!',\n",
    "\n",
    "    # old-style string interpolation\n",
    "    'Ciao, %s %s!' % (nome, cognome),\n",
    "    'Ciao, %(n)s %(c)s!' % {'n': nome, 'c': cognome},\n",
    "\n",
    "    # str.format()\n",
    "    'Ciao, {} {}!'.format(nome, cognome),\n",
    "    'Ciao, {0} {1}!'.format(nome, cognome),\n",
    "    'Ciao, {n} {c}!'.format(n=nome, c=cognome),\n",
    "\n",
    "    # f-strings\n",
    "    f'Ciao, {nome} {cognome}!'\n",
    "]:\n",
    "    print(string_test)\n"
   ]
  },
  {
   "cell_type": "code",
   "execution_count": 47,
   "metadata": {},
   "outputs": [
    {
     "name": "stdout",
     "output_type": "stream",
     "text": [
      "Ciao, Marco Rossi!\n"
     ]
    }
   ],
   "source": [
    "from string import Template\n",
    "\n",
    "nome = 'Marco'\n",
    "cognome = 'Rossi'\n",
    "\n",
    "my_template = Template('Ciao, $n $c!')\n",
    "new_string = my_template.substitute(n=nome, c=cognome)\n",
    "print(new_string)\n"
   ]
  },
  {
   "attachments": {},
   "cell_type": "markdown",
   "metadata": {},
   "source": [
    "## Altre sintassi interessanti\n",
    "\n",
    "Se si passa un numero intero dopo il `':'`, il campo sarà largo un numero minimo di caratteri. Questo è utile per allineare le colonne."
   ]
  },
  {
   "attachments": {},
   "cell_type": "markdown",
   "metadata": {},
   "source": [
    "#### Trasformare i `int` e `float` in `str` con un numero specifico di cifre decimali."
   ]
  },
  {
   "attachments": {},
   "cell_type": "markdown",
   "metadata": {},
   "source": [
    "> NOTA: Nei seguenti esempi potete scrivere sia `:0.2f` sia `:.2f`, omettendo lo zero."
   ]
  },
  {
   "cell_type": "code",
   "execution_count": 44,
   "metadata": {},
   "outputs": [
    {
     "name": "stdout",
     "output_type": "stream",
     "text": [
      "Ultima offerta, solo 49.00 euro!\n"
     ]
    }
   ],
   "source": [
    "prezzo = 49\n",
    "\n",
    "# testo_offerta = 'Ultima offerta, solo %.2f euro!' % prezzo\n",
    "\n",
    "# testo_offerta = 'Ultima offerta, solo {:.2f} euro!'.format(prezzo)\n",
    "# testo_offerta = 'Ultima offerta, solo {prezzo:.2f} euro!'.format(prezzo=49)\n",
    "\n",
    "testo_offerta = f'Ultima offerta, solo {prezzo:.2f} euro!'\n",
    "\n",
    "print(testo_offerta)"
   ]
  },
  {
   "attachments": {},
   "cell_type": "markdown",
   "metadata": {},
   "source": [
    "#### Aggiungere un numero fisso di zero iniziali"
   ]
  },
  {
   "cell_type": "code",
   "execution_count": 43,
   "metadata": {},
   "outputs": [
    {
     "name": "stdout",
     "output_type": "stream",
     "text": [
      "ID: 00000072\n",
      "ID: 12345678\n",
      "ID: 03332483\n",
      "ID: 00092541\n",
      "ID: 45249535\n"
     ]
    }
   ],
   "source": [
    "record_ids = [72, 12345678, 3332483, 92541, 45249535]\n",
    "\n",
    "for rec_id in record_ids:\n",
    "\n",
    "    # new_string = 'ID: %08d' % rec_id\n",
    "    # new_string = 'ID: {numero:08}'.format(numero=rec_id)\n",
    "    new_string = f'ID: {rec_id:08}'\n",
    "\n",
    "    print(new_string)\n",
    "\n"
   ]
  },
  {
   "attachments": {},
   "cell_type": "markdown",
   "metadata": {},
   "source": [
    "Se è sufficiente aggiungere degli \"zero\" iniziali, c'è il metodo `str.zfill()` che ci semplifica la vita:"
   ]
  },
  {
   "cell_type": "code",
   "execution_count": 45,
   "metadata": {},
   "outputs": [
    {
     "name": "stdout",
     "output_type": "stream",
     "text": [
      "ID: 00000072\n",
      "ID: 12345678\n",
      "ID: 03332483\n",
      "ID: 00092541\n",
      "ID: 45249535\n"
     ]
    }
   ],
   "source": [
    "record_ids = [72, 12345678, 3332483, 92541, 45249535]\n",
    "\n",
    "for rec_id in record_ids:\n",
    "    new_string_padded = str(rec_id).zfill(8)\n",
    "    print('ID:', new_string_padded)"
   ]
  },
  {
   "attachments": {},
   "cell_type": "markdown",
   "metadata": {},
   "source": [
    "#### Numero fisso di sia di zero iniziali sia di decimali\n",
    "\n",
    "Se proviamo a unire le sue sintassi appena viste:"
   ]
  },
  {
   "cell_type": "code",
   "execution_count": 41,
   "metadata": {},
   "outputs": [
    {
     "name": "stdout",
     "output_type": "stream",
     "text": [
      "ID: 000000072.45\n",
      "ID: 012345678.80\n",
      "ID: 003332483.66\n",
      "ID: 000092541.00\n",
      "ID: 045249535.00\n"
     ]
    }
   ],
   "source": [
    "record_ids = [72.453, 12345678.8, 3332483.66, 92541, 45249535]\n",
    "\n",
    "for rec_id in record_ids:\n",
    "    print(f'ID: {rec_id:012.2f}')"
   ]
  },
  {
   "attachments": {},
   "cell_type": "markdown",
   "metadata": {},
   "source": [
    "#### Stampare il nome della variabile e il suo contenuto in una volta sola"
   ]
  },
  {
   "cell_type": "code",
   "execution_count": 10,
   "metadata": {},
   "outputs": [
    {
     "name": "stdout",
     "output_type": "stream",
     "text": [
      "Il contenuto di my_var={'pantaloni': 4, 'maglie': 2}\n"
     ]
    }
   ],
   "source": [
    "my_var = {'pantaloni': 4, 'maglie': 2}\n",
    "\n",
    "print(f'Il contenuto di {my_var=}')"
   ]
  }
 ],
 "metadata": {
  "kernelspec": {
   "display_name": ".venv",
   "language": "python",
   "name": "python3"
  },
  "language_info": {
   "codemirror_mode": {
    "name": "ipython",
    "version": 3
   },
   "file_extension": ".py",
   "mimetype": "text/x-python",
   "name": "python",
   "nbconvert_exporter": "python",
   "pygments_lexer": "ipython3",
   "version": "3.11.2"
  },
  "orig_nbformat": 4
 },
 "nbformat": 4,
 "nbformat_minor": 2
}
